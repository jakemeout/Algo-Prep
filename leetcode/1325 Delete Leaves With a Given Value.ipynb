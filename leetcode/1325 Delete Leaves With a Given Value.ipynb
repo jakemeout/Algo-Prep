{
 "cells": [
  {
   "cell_type": "code",
   "execution_count": null,
   "metadata": {},
   "outputs": [],
   "source": [
    "class TreeNode:\n",
    "    def __init__(self, val=0, left=None, right=None):\n",
    "        self.val = val\n",
    "        self.left = left\n",
    "        self.right = right"
   ]
  },
  {
   "cell_type": "code",
   "execution_count": null,
   "metadata": {},
   "outputs": [],
   "source": [
    "# BFS\n",
    "from collections import deque\n",
    "class Solution:\n",
    "    def removeLeafNodes(self, root: TreeNode, target: int) -> TreeNode:\n",
    "        \n",
    "        # removes leaf nodes with target values which is not root\n",
    "        modified = True\n",
    "        while modified:\n",
    "            modified = False\n",
    "            q = deque([root]) \n",
    "            while q:\n",
    "                node = q.popleft()\n",
    "                if node.left:\n",
    "                    if not node.left.left and not node.left.right and node.left.val==target:\n",
    "                        node.left = None\n",
    "                        modified = True\n",
    "                    else:\n",
    "                        q.append(node.left)\n",
    "                if node.right:\n",
    "                    if not node.right.left and not node.right.right and node.right.val==target:\n",
    "                        node.right = None\n",
    "                        modified = True\n",
    "                    else:\n",
    "                        q.append(node.right)\n",
    "                        \n",
    "        # removes leaf nodes with target values which is root\n",
    "        if not root.left and not root.right and root.val==target:\n",
    "            root = None\n",
    "            \n",
    "        return root"
   ]
  },
  {
   "cell_type": "code",
   "execution_count": null,
   "metadata": {},
   "outputs": [],
   "source": [
    "# recursion\n",
    "class Solution(object):\n",
    "    def removeLeafNodes(self, root, target):\n",
    "        if root:\n",
    "            root.left = self.removeLeafNodes(root.left, target)\n",
    "            root.right = self.removeLeafNodes(root.right, target)\n",
    "            if root.val != target or root.left or root.right:\n",
    "                return root\n",
    "            else:\n",
    "                return None\n",
    "        else:\n",
    "            return None"
   ]
  },
  {
   "cell_type": "markdown",
   "metadata": {},
   "source": [
    "# Reference\n",
    "\n",
    "[1325. Delete Leaves With a Given Value](https://leetcode.com/problems/delete-leaves-with-a-given-value/)\n",
    "\n",
    "[[LeetCode] 1325. Delete Leaves With a Given Value](https://www.youtube.com/watch?v=bRcL2SbAcZA&list=PL-OC--HdIAXPzvuBbuI4e_MFYpzFnA6yR&index=34)\n",
    "\n",
    "[[Python] Simple recursion](https://leetcode.com/problems/delete-leaves-with-a-given-value/discuss/484286/Python-Simple-recursion)"
   ]
  }
 ],
 "metadata": {
  "kernelspec": {
   "display_name": "Python 3",
   "language": "python",
   "name": "python3"
  },
  "language_info": {
   "codemirror_mode": {
    "name": "ipython",
    "version": 3
   },
   "file_extension": ".py",
   "mimetype": "text/x-python",
   "name": "python",
   "nbconvert_exporter": "python",
   "pygments_lexer": "ipython3",
   "version": "3.8.5"
  }
 },
 "nbformat": 4,
 "nbformat_minor": 4
}
