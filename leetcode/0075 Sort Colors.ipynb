{
 "cells": [
  {
   "cell_type": "code",
   "execution_count": 53,
   "metadata": {},
   "outputs": [],
   "source": [
    "class Solution:\n",
    "    def sortColors(self, nums):\n",
    "        \"\"\"\n",
    "        Do not return anything, modify nums in-place instead.\n",
    "        \"\"\"\n",
    "        p0 = 0 # pointer where we put 0\n",
    "        p2 = len(nums) - 1 # pointer where we put 1\n",
    "        i = 0 # pointer of interest\n",
    "        #print(nums, p0, i, p2)\n",
    "        while p0<p2 and p0<=i<=p2:\n",
    "            if nums[i] == 0 and nums[p0] != 0:\n",
    "                nums[p0], nums[i] = nums[i], nums[p0]\n",
    "                #print(nums, p0, i, p2)\n",
    "                p0 += 1\n",
    "                #print(nums, p0, i, p2)\n",
    "            elif nums[i] == 0 and nums[p0] == 0:\n",
    "                #print(nums, p0, i, p2)\n",
    "                i += 1\n",
    "                #print(nums, p0, i, p2)\n",
    "                p0 += 1\n",
    "                #print(nums, p0, i, p2)\n",
    "            elif nums[i] == 2 and nums[p2] != 2:\n",
    "                nums[p2], nums[i] = nums[i], nums[p2]\n",
    "                #print(nums, p0, i, p2)\n",
    "                p2 -= 1\n",
    "                #print(nums, p0, i, p2)\n",
    "            elif nums[i] == 2 and nums[p2] == 2:\n",
    "                #print(nums, p0, i, p2)\n",
    "                p2 -= 1\n",
    "                #print(nums, p0, i, p2)\n",
    "            else:\n",
    "                #print(nums, p0, i, p2)\n",
    "                i += 1\n",
    "                #print(nums, p0, i, p2)"
   ]
  },
  {
   "cell_type": "code",
   "execution_count": 54,
   "metadata": {},
   "outputs": [
    {
     "name": "stdout",
     "output_type": "stream",
     "text": [
      "[1, 2, 2]\n"
     ]
    }
   ],
   "source": [
    "nums = [2,1,2]\n",
    "Solution().sortColors(nums)\n",
    "print(nums)"
   ]
  },
  {
   "cell_type": "markdown",
   "metadata": {},
   "source": [
    "# Reference\n",
    "\n",
    "[75. Sort Colors](https://leetcode.com/problems/sort-colors/)\n",
    "\n",
    "[Sort Colors | LeetCode 75 | C++, Java, Python](https://www.youtube.com/watch?v=XOX1WvUMpwQ)"
   ]
  }
 ],
 "metadata": {
  "kernelspec": {
   "display_name": "Python 3",
   "language": "python",
   "name": "python3"
  },
  "language_info": {
   "codemirror_mode": {
    "name": "ipython",
    "version": 3
   },
   "file_extension": ".py",
   "mimetype": "text/x-python",
   "name": "python",
   "nbconvert_exporter": "python",
   "pygments_lexer": "ipython3",
   "version": "3.8.5"
  }
 },
 "nbformat": 4,
 "nbformat_minor": 4
}
