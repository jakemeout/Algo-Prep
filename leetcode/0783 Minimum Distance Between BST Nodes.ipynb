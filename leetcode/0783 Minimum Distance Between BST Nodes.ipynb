{
 "cells": [
  {
   "cell_type": "code",
   "execution_count": 6,
   "metadata": {},
   "outputs": [],
   "source": [
    "# Definition for a binary tree node.\n",
    "class TreeNode:\n",
    "    def __init__(self, val=0, left=None, right=None):\n",
    "        self.val = val\n",
    "        self.left = left\n",
    "        self.right = right"
   ]
  },
  {
   "cell_type": "code",
   "execution_count": 106,
   "metadata": {},
   "outputs": [],
   "source": [
    "class Solution:\n",
    "    def minDiffInBST(self, root: TreeNode) -> int:\n",
    "        # base cases\n",
    "        # no root\n",
    "        if not root:\n",
    "            raise Exception('BST is empty!')\n",
    "        # no left, no right\n",
    "        elif (not root.left) and (not root.right):\n",
    "            return None\n",
    "        # recursion step\n",
    "        # compute left\n",
    "        if root.left: \n",
    "            min_left = self.minDiffInBST(root.left)\n",
    "            max_val_left = self.maxBST(root.left)\n",
    "            if min_left is not None:\n",
    "                out_left = min(min_left, root.val-max_val_left)\n",
    "            else:\n",
    "                out_left = root.val-max_val_left\n",
    "        else:\n",
    "            out_left = None\n",
    "        # compute right\n",
    "        if root.right: \n",
    "            min_right = self.minDiffInBST(root.right)\n",
    "            min_val_right = self.minBST(root.right)\n",
    "            if min_right is not None:\n",
    "                out_right = min(min_right, min_val_right-root.val)\n",
    "            else:\n",
    "                out_right = min_val_right-root.val\n",
    "        else:\n",
    "            out_right = None\n",
    "        # combine\n",
    "        if out_left and out_right:\n",
    "            out = min(out_left, out_right)\n",
    "        elif not out_left and out_right:\n",
    "            out = out_right\n",
    "        else:\n",
    "            out = out_left\n",
    "        return out\n",
    "    def minBST(self, root: TreeNode) -> int:\n",
    "        # base case\n",
    "        if not root:\n",
    "            raise Exception('BST is empty!')\n",
    "        elif (not root.left):\n",
    "            return root.val\n",
    "        # recursion step\n",
    "        return self.minBST(root.left)\n",
    "    def maxBST(self, root: TreeNode) -> int:\n",
    "        # base case\n",
    "        if not root:\n",
    "            raise Exception('BST is empty!')\n",
    "        elif (not root.right):\n",
    "            return root.val\n",
    "        # recursion step\n",
    "        return self.maxBST(root.right)"
   ]
  },
  {
   "cell_type": "code",
   "execution_count": 108,
   "metadata": {},
   "outputs": [
    {
     "data": {
      "text/plain": [
       "3"
      ]
     },
     "execution_count": 108,
     "metadata": {},
     "output_type": "execute_result"
    }
   ],
   "source": [
    "# [69,3,72,null,61,null,null,47]\n",
    "v47 = TreeNode(47)\n",
    "v61 = TreeNode(61,v47)\n",
    "v72 = TreeNode(72)\n",
    "v3 = TreeNode(3,None,v61)\n",
    "root = TreeNode(69,v3,v72)\n",
    "Solution().minDiffInBST(root)"
   ]
  },
  {
   "cell_type": "code",
   "execution_count": 107,
   "metadata": {},
   "outputs": [
    {
     "data": {
      "text/plain": [
       "3"
      ]
     },
     "execution_count": 107,
     "metadata": {},
     "output_type": "execute_result"
    }
   ],
   "source": [
    "# [69,3,72,null,61]\n",
    "v61 = TreeNode(61)\n",
    "v72 = TreeNode(72)\n",
    "v3 = TreeNode(3,None,v61)\n",
    "root = TreeNode(69,v3,v72)\n",
    "Solution().minDiffInBST(root)"
   ]
  },
  {
   "cell_type": "code",
   "execution_count": 83,
   "metadata": {},
   "outputs": [
    {
     "data": {
      "text/plain": [
       "3"
      ]
     },
     "execution_count": 83,
     "metadata": {},
     "output_type": "execute_result"
    }
   ],
   "source": [
    "# [69,3,72]\n",
    "v72 = TreeNode(72)\n",
    "v3 = TreeNode(3)\n",
    "root = TreeNode(69,v3,v72)\n",
    "Solution().minDiffInBST(root)"
   ]
  },
  {
   "cell_type": "code",
   "execution_count": 48,
   "metadata": {},
   "outputs": [
    {
     "data": {
      "text/plain": [
       "1"
      ]
     },
     "execution_count": 48,
     "metadata": {},
     "output_type": "execute_result"
    }
   ],
   "source": [
    "# [2,1,3]\n",
    "v3 = TreeNode(3)\n",
    "v1 = TreeNode(1)\n",
    "root = TreeNode(2,v1,v3)\n",
    "Solution().minDiffInBST(root)"
   ]
  },
  {
   "cell_type": "code",
   "execution_count": 49,
   "metadata": {},
   "outputs": [
    {
     "data": {
      "text/plain": [
       "1"
      ]
     },
     "execution_count": 49,
     "metadata": {},
     "output_type": "execute_result"
    }
   ],
   "source": [
    "# [4,2,1]\n",
    "v1 = TreeNode(1)\n",
    "v2 = TreeNode(2,v1)\n",
    "root = TreeNode(4,v2)\n",
    "Solution().minDiffInBST(root)"
   ]
  },
  {
   "cell_type": "code",
   "execution_count": 50,
   "metadata": {},
   "outputs": [
    {
     "data": {
      "text/plain": [
       "1"
      ]
     },
     "execution_count": 50,
     "metadata": {},
     "output_type": "execute_result"
    }
   ],
   "source": [
    "# [2,1]\n",
    "v1 = TreeNode(1)\n",
    "root = TreeNode(2,v1)\n",
    "Solution().minDiffInBST(root)"
   ]
  },
  {
   "cell_type": "code",
   "execution_count": 51,
   "metadata": {},
   "outputs": [
    {
     "data": {
      "text/plain": [
       "1"
      ]
     },
     "execution_count": 51,
     "metadata": {},
     "output_type": "execute_result"
    }
   ],
   "source": [
    "# [4,2,6,1,3]\n",
    "v3 = TreeNode(3)\n",
    "v1 = TreeNode(1)\n",
    "v6 = TreeNode(6)\n",
    "v2 = TreeNode(2,v1,v3)\n",
    "root = TreeNode(4,v2,v6)\n",
    "Solution().minDiffInBST(root)"
   ]
  },
  {
   "cell_type": "markdown",
   "metadata": {},
   "source": [
    "# Reference\n",
    "\n",
    "[783. Minimum Distance Between BST Nodes](https://leetcode.com/problems/minimum-distance-between-bst-nodes/)"
   ]
  },
  {
   "cell_type": "code",
   "execution_count": null,
   "metadata": {},
   "outputs": [],
   "source": []
  },
  {
   "cell_type": "code",
   "execution_count": null,
   "metadata": {},
   "outputs": [],
   "source": []
  }
 ],
 "metadata": {
  "kernelspec": {
   "display_name": "Python 3",
   "language": "python",
   "name": "python3"
  },
  "language_info": {
   "codemirror_mode": {
    "name": "ipython",
    "version": 3
   },
   "file_extension": ".py",
   "mimetype": "text/x-python",
   "name": "python",
   "nbconvert_exporter": "python",
   "pygments_lexer": "ipython3",
   "version": "3.8.5"
  }
 },
 "nbformat": 4,
 "nbformat_minor": 4
}
