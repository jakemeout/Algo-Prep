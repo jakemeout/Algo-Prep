{
 "cells": [
  {
   "cell_type": "code",
   "execution_count": 4,
   "id": "chinese-english",
   "metadata": {},
   "outputs": [],
   "source": [
    "class Solution:\n",
    "    \n",
    "    def findTheWinner(self, n: int, k: int) -> int:\n",
    "        lst = list(range(1,n+1))\n",
    "        for _ in range(n-1):\n",
    "            lst = self.roundOne(lst, k)\n",
    "        return lst[0]\n",
    "            \n",
    "    def roundOne(self, lst, k):\n",
    "        n = len(lst)\n",
    "        k0 = k % n\n",
    "        if k0 == 0:\n",
    "            ans = lst[:-1]\n",
    "        else:\n",
    "            ans = lst[k0:] + lst[:k0-1]\n",
    "        return ans "
   ]
  },
  {
   "cell_type": "code",
   "execution_count": 5,
   "id": "clear-improvement",
   "metadata": {},
   "outputs": [
    {
     "data": {
      "text/plain": [
       "3"
      ]
     },
     "execution_count": 5,
     "metadata": {},
     "output_type": "execute_result"
    }
   ],
   "source": [
    "n = 5\n",
    "k = 2\n",
    "Solution().findTheWinner(n, k)"
   ]
  },
  {
   "cell_type": "markdown",
   "id": "blond-departure",
   "metadata": {},
   "source": [
    "# Reference\n",
    "\n",
    "[1823. Find the Winner of the Circular Game](https://leetcode.com/problems/find-the-winner-of-the-circular-game/)"
   ]
  }
 ],
 "metadata": {
  "kernelspec": {
   "display_name": "Python 3",
   "language": "python",
   "name": "python3"
  },
  "language_info": {
   "codemirror_mode": {
    "name": "ipython",
    "version": 3
   },
   "file_extension": ".py",
   "mimetype": "text/x-python",
   "name": "python",
   "nbconvert_exporter": "python",
   "pygments_lexer": "ipython3",
   "version": "3.7.10"
  }
 },
 "nbformat": 4,
 "nbformat_minor": 5
}
