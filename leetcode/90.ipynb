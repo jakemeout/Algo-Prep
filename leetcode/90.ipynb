{
 "cells": [
  {
   "cell_type": "code",
   "execution_count": 8,
   "metadata": {},
   "outputs": [],
   "source": [
    "class Solution:\n",
    "    def subsetsWithDup(self, lst):\n",
    "        \"\"\"\n",
    "        :type lst: List[int]\n",
    "        :rtype: List[List[int]]\n",
    "        \"\"\"\n",
    "        if len(lst) == 0: return [[]] # base case for recursion\n",
    "        out = []\n",
    "        out_hash = set() \n",
    "        #print(out, out_hash)\n",
    "        for lst_ in self.subsetsWithDup(lst[1:]): # recursion step\n",
    "            tmp = lst_.copy()\n",
    "            tmp_hash = self.hash(tmp)\n",
    "            if tmp_hash not in out_hash: # this membership test is fast\n",
    "                out.append(tmp)\n",
    "                out_hash.add(tmp_hash)\n",
    "                #print(out, out_hash)\n",
    "            tmp = [lst[0]] + lst_.copy() \n",
    "            tmp_hash = self.hash(tmp)\n",
    "            if tmp_hash not in out_hash: # this membership test is fast\n",
    "                out.append(tmp)\n",
    "                out_hash.add(tmp_hash)\n",
    "                #print(out, out_hash)\n",
    "        return out\n",
    "    def hash(self, lst):\n",
    "        out = ''\n",
    "        for item in lst:\n",
    "            out += str(item) + ' '\n",
    "        return out"
   ]
  },
  {
   "cell_type": "code",
   "execution_count": 9,
   "metadata": {},
   "outputs": [
    {
     "name": "stdout",
     "output_type": "stream",
     "text": [
      "[[], [1], [2], [1, 2], [2, 2], [1, 2, 2]]\n"
     ]
    }
   ],
   "source": [
    "print(Solution().subsetsWithDup([1,2,2]))"
   ]
  },
  {
   "cell_type": "code",
   "execution_count": 10,
   "metadata": {},
   "outputs": [
    {
     "name": "stdout",
     "output_type": "stream",
     "text": [
      "[[], [4], [4, 4], [4, 4, 4], [1], [4, 1], [4, 4, 1], [4, 4, 4, 1], [4, 4, 4, 4], [1, 4], [4, 1, 4], [4, 4, 1, 4], [4, 4, 4, 1, 4]]\n"
     ]
    }
   ],
   "source": [
    "print(Solution().subsetsWithDup([4,4,4,1,4]))"
   ]
  },
  {
   "cell_type": "markdown",
   "metadata": {},
   "source": [
    "# Reference\n",
    "\n",
    "[Subsets - LeetCode 78 Python](https://www.youtube.com/watch?v=z3xEwMA5Rn8)\n",
    "\n",
    "[Print all the subsets of a list - Python 3 Implementation](https://www.youtube.com/watch?v=smiJpuj91so)"
   ]
  },
  {
   "cell_type": "code",
   "execution_count": null,
   "metadata": {},
   "outputs": [],
   "source": []
  }
 ],
 "metadata": {
  "kernelspec": {
   "display_name": "Python 3",
   "language": "python",
   "name": "python3"
  },
  "language_info": {
   "codemirror_mode": {
    "name": "ipython",
    "version": 3
   },
   "file_extension": ".py",
   "mimetype": "text/x-python",
   "name": "python",
   "nbconvert_exporter": "python",
   "pygments_lexer": "ipython3",
   "version": "3.8.5"
  }
 },
 "nbformat": 4,
 "nbformat_minor": 4
}
