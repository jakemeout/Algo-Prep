{
 "cells": [
  {
   "cell_type": "code",
   "execution_count": 25,
   "metadata": {},
   "outputs": [],
   "source": [
    "class Solution:\n",
    "    def minimumSize(self, nums, maxOperations):\n",
    "        l = 1 # left(min) penalty\n",
    "        c = max(nums) #  center penalty\n",
    "        r = c + (c-l) # right(max) penalty \n",
    "        #print(l,c,r)\n",
    "        while r-l > 1:\n",
    "            if self.check(nums, maxOperations, c):\n",
    "                r = c\n",
    "            else:\n",
    "                l = c\n",
    "            c = (l + r) // 2\n",
    "            #print(l,c,r)\n",
    "        if self.check(nums, maxOperations, c):\n",
    "            if self.check(nums, maxOperations, l):\n",
    "                return l\n",
    "            return c\n",
    "        return r\n",
    "    def check(self, nums, maxOperations, c):\n",
    "        n_ops = 0\n",
    "        for num in nums:\n",
    "            if num > c:\n",
    "                carry, res = divmod(num, c)\n",
    "                n_ops += (carry-1) + (res!=0)\n",
    "        #print(f'for {c} number of ops : {n_ops}')\n",
    "        return n_ops <= maxOperations"
   ]
  },
  {
   "cell_type": "code",
   "execution_count": 26,
   "metadata": {},
   "outputs": [
    {
     "data": {
      "text/plain": [
       "2"
      ]
     },
     "execution_count": 26,
     "metadata": {},
     "output_type": "execute_result"
    }
   ],
   "source": [
    "nums = [2,4,8,2]\n",
    "maxOperations = 4\n",
    "Solution().minimumSize(nums, maxOperations) # 2"
   ]
  },
  {
   "cell_type": "markdown",
   "metadata": {},
   "source": [
    "# Reference\n",
    "\n",
    "[1760. Minimum Limit of Balls in a Bag](https://leetcode.com/problems/minimum-limit-of-balls-in-a-bag/)\n",
    "\n",
    "[Leetcode 1760. Minimum Limit of Balls in a Bag](https://www.youtube.com/watch?v=5ET1d6PfbNU)"
   ]
  }
 ],
 "metadata": {
  "kernelspec": {
   "display_name": "Python 3",
   "language": "python",
   "name": "python3"
  },
  "language_info": {
   "codemirror_mode": {
    "name": "ipython",
    "version": 3
   },
   "file_extension": ".py",
   "mimetype": "text/x-python",
   "name": "python",
   "nbconvert_exporter": "python",
   "pygments_lexer": "ipython3",
   "version": "3.8.5"
  }
 },
 "nbformat": 4,
 "nbformat_minor": 4
}
