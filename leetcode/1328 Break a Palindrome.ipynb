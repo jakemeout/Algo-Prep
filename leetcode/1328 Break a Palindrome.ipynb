{
 "cells": [
  {
   "cell_type": "code",
   "execution_count": null,
   "metadata": {},
   "outputs": [],
   "source": [
    "class Solution:\n",
    "    def breakPalindrome(self, palindrome: str) -> str:\n",
    "        if len(palindrome) == 1:\n",
    "            return ''\n",
    "        \n",
    "        n = len(palindrome)\n",
    "        half = n // 2\n",
    "        if n%2 == 0:\n",
    "            left, center, right = palindrome[:half], '', palindrome[half:]\n",
    "        else:\n",
    "            left, center, right = palindrome[:half], palindrome[half], palindrome[half+1:]\n",
    "        \n",
    "        for i, char in enumerate(left):\n",
    "            if char != 'a':\n",
    "                return left[:i] + 'a' + left[i+1:] + center + right\n",
    "        else:\n",
    "            return palindrome[:-1] + 'b'  "
   ]
  },
  {
   "cell_type": "markdown",
   "metadata": {},
   "source": [
    "# Reference\n",
    "\n",
    "[1328. Break a Palindrome](https://leetcode.com/problems/break-a-palindrome/)\n",
    "\n",
    "[[LeetCode] 1328, Break a Palindrome](https://www.youtube.com/watch?v=UwaoswYb5bk&list=PL-OC--HdIAXPzvuBbuI4e_MFYpzFnA6yR&index=32)"
   ]
  }
 ],
 "metadata": {
  "kernelspec": {
   "display_name": "Python 3",
   "language": "python",
   "name": "python3"
  },
  "language_info": {
   "codemirror_mode": {
    "name": "ipython",
    "version": 3
   },
   "file_extension": ".py",
   "mimetype": "text/x-python",
   "name": "python",
   "nbconvert_exporter": "python",
   "pygments_lexer": "ipython3",
   "version": "3.8.5"
  }
 },
 "nbformat": 4,
 "nbformat_minor": 4
}
