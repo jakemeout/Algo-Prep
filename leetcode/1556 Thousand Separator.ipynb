{
 "cells": [
  {
   "cell_type": "code",
   "execution_count": 3,
   "metadata": {},
   "outputs": [],
   "source": [
    "class Solution:\n",
    "    def thousandSeparator(self, n: int) -> str:\n",
    "        # edeg case\n",
    "        if n == 0:\n",
    "            return '0'\n",
    "        # initial housekeeping\n",
    "        lst = []\n",
    "        carry = n\n",
    "        while carry > 0:\n",
    "            carry, res = divmod(carry, 1000)\n",
    "            lst.append(res)\n",
    "        # product final output out\n",
    "        out = ''\n",
    "        flag_head = True\n",
    "        while lst:\n",
    "            item = lst.pop()\n",
    "            tmp = str(item)\n",
    "            if not flag_head:\n",
    "                tmp = '0'*(3-len(tmp)) + tmp\n",
    "            flag_head = False\n",
    "            out += tmp + '.'\n",
    "        return out[:-1]"
   ]
  },
  {
   "cell_type": "code",
   "execution_count": 4,
   "metadata": {},
   "outputs": [
    {
     "data": {
      "text/plain": [
       "'51.040'"
      ]
     },
     "execution_count": 4,
     "metadata": {},
     "output_type": "execute_result"
    }
   ],
   "source": [
    "n = 51040\n",
    "Solution().thousandSeparator(n)"
   ]
  },
  {
   "cell_type": "markdown",
   "metadata": {},
   "source": [
    "# Reference\n",
    "\n",
    "[1556. Thousand Separator](https://leetcode.com/problems/thousand-separator/)"
   ]
  }
 ],
 "metadata": {
  "kernelspec": {
   "display_name": "Python 3",
   "language": "python",
   "name": "python3"
  },
  "language_info": {
   "codemirror_mode": {
    "name": "ipython",
    "version": 3
   },
   "file_extension": ".py",
   "mimetype": "text/x-python",
   "name": "python",
   "nbconvert_exporter": "python",
   "pygments_lexer": "ipython3",
   "version": "3.8.5"
  }
 },
 "nbformat": 4,
 "nbformat_minor": 4
}
