{
 "cells": [
  {
   "cell_type": "code",
   "execution_count": null,
   "metadata": {},
   "outputs": [],
   "source": [
    "class Solution:\n",
    "    def mincostTickets(self, days, costs):\n",
    "        \"\"\"\n",
    "        :type days: List[int]\n",
    "        :type costs: List[int]\n",
    "        :rtype: int\n",
    "        \"\"\"\n",
    "        # create set for faster lookup of days\n",
    "        days_set = set(days)\n",
    "        \n",
    "        # create a table of all the day cost\n",
    "        # instead of creating a 365 days table, we create until the last day on the days list\n",
    "        table = [0 for i in range(days[-1]+1)]\n",
    "        for i in range(days[-1]+1):\n",
    "            # if the current day is not present in the travel days dictionary, it takes the previous value\n",
    "            if i not in days_set:\n",
    "                table[i] = table[i-1]\n",
    "            else:\n",
    "                # use max to identify if the index exists \n",
    "                table[i] = min(\n",
    "                    table[max(0,i-1)] + costs[0], # per day value\n",
    "                    table[max(0,i-7)] + costs[1], # per week value \n",
    "                    table[max(0,i-30)] + costs[2] # per year value\n",
    "                )\n",
    "        return table[-1]"
   ]
  },
  {
   "cell_type": "markdown",
   "metadata": {},
   "source": [
    "# Reference\n",
    "\n",
    "[983. Minimum Cost For Tickets](https://leetcode.com/problems/minimum-cost-for-tickets/)\n",
    "\n",
    "[Python solution](https://leetcode.com/problems/minimum-cost-for-tickets/discuss/228421/Python-solution)\n",
    "\n",
    "[Minimum Cost For Tickets | LeetCode 983 | C++, Java, Python](https://www.youtube.com/watch?v=HyN5hdD1JU4&list=PL1w8k37X_6L-UQSn0c4DJJmbLb2DzDBkx&index=29)"
   ]
  }
 ],
 "metadata": {
  "kernelspec": {
   "display_name": "Python 3",
   "language": "python",
   "name": "python3"
  },
  "language_info": {
   "codemirror_mode": {
    "name": "ipython",
    "version": 3
   },
   "file_extension": ".py",
   "mimetype": "text/x-python",
   "name": "python",
   "nbconvert_exporter": "python",
   "pygments_lexer": "ipython3",
   "version": "3.8.5"
  }
 },
 "nbformat": 4,
 "nbformat_minor": 4
}
