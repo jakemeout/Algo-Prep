{
 "cells": [
  {
   "cell_type": "code",
   "execution_count": null,
   "metadata": {},
   "outputs": [],
   "source": [
    "class Solution:\n",
    "    def projectionArea(self, grid):\n",
    "        import numpy as np\n",
    "        x = np.array(grid)\n",
    "        area_x = np.sum(np.max(x,axis=1))\n",
    "        area_y = np.sum(np.max(x,axis=0))\n",
    "        area_z = np.sum(x!=0)\n",
    "        return area_x + area_y + area_z"
   ]
  },
  {
   "cell_type": "code",
   "execution_count": 1,
   "metadata": {},
   "outputs": [
    {
     "name": "stdout",
     "output_type": "stream",
     "text": [
      "4 7 6\n"
     ]
    }
   ],
   "source": [
    "grid = [[1,2],[3,4]]\n",
    "import numpy as np\n",
    "x = np.array(grid)\n",
    "area_z = np.sum(x!=0)\n",
    "area_x = np.sum(np.max(x,axis=0))\n",
    "area_y = np.sum(np.max(x,axis=1))\n",
    "print(area_z,area_x,area_y)"
   ]
  },
  {
   "cell_type": "markdown",
   "metadata": {},
   "source": [
    "# Reference\n",
    "\n",
    "[883. Projection Area of 3D Shapes](https://leetcode.com/problems/projection-area-of-3d-shapes/)"
   ]
  }
 ],
 "metadata": {
  "kernelspec": {
   "display_name": "Python 3",
   "language": "python",
   "name": "python3"
  },
  "language_info": {
   "codemirror_mode": {
    "name": "ipython",
    "version": 3
   },
   "file_extension": ".py",
   "mimetype": "text/x-python",
   "name": "python",
   "nbconvert_exporter": "python",
   "pygments_lexer": "ipython3",
   "version": "3.8.5"
  }
 },
 "nbformat": 4,
 "nbformat_minor": 4
}
