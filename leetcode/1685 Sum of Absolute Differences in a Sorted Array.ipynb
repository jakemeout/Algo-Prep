{
 "cells": [
  {
   "cell_type": "markdown",
   "id": "pregnant-compiler",
   "metadata": {},
   "source": [
    "Since $x_i$ (`nums[i]` in problem setting and code below) is increasing,\n",
    "the $i$-th component $a_i$ (`ans[i]` in code below) of solution can be represented in terms of the cumulatives:\n",
    "$$\\begin{array}{lll}\n",
    "a_i&=&\\sum_{j=0}^{n-1}|x_i-x_j|\\\\\n",
    "&=&\\sum_{j=0}^{i}(x_i-x_j)+\\sum_{j=i+1}^{n-1}(x_j-x_i)\\\\\n",
    "&=&(2i-n+2)x_i-\\sum_{j=0}^{i}x_j+\\sum_{j=i+1}^{n-1}x_j\\\\\n",
    "&=&(2i-n+2)x_i-2\\sum_{j=0}^{i}x_j+\\sum_{j=0}^{n-1}x_j\\\\\n",
    "&=&(2i-n+2)x_i-2c_i+c_{n-1} \n",
    "\\end{array}$$\n",
    "where $c_i$ (`cums[i]` in code below) is the cumulative sum given by\n",
    "$$\n",
    "c_i=\\sum_{j=0}^{i}x_j\n",
    "$$"
   ]
  },
  {
   "cell_type": "code",
   "execution_count": 5,
   "id": "uniform-price",
   "metadata": {},
   "outputs": [],
   "source": [
    "class Solution:\n",
    "    def getSumAbsoluteDifferences(self, nums):\n",
    "        n = len(nums)\n",
    "        cums = [nums[0]] * n\n",
    "        for i in range(1,n):\n",
    "            cums[i] = cums[i-1] + nums[i]\n",
    " \n",
    "        ans = [0] * n\n",
    "        for i in range(n):\n",
    "            ans[i] = (2*i-n+2)*nums[i] - 2*cums[i] + cums[-1] \n",
    "        return ans"
   ]
  },
  {
   "cell_type": "code",
   "execution_count": 6,
   "id": "measured-fence",
   "metadata": {},
   "outputs": [
    {
     "name": "stdout",
     "output_type": "stream",
     "text": [
      "[2, 5, 10]\n"
     ]
    },
    {
     "data": {
      "text/plain": [
       "[4, 3, 5]"
      ]
     },
     "execution_count": 6,
     "metadata": {},
     "output_type": "execute_result"
    }
   ],
   "source": [
    "nums = [2,3,5]\n",
    "Solution().getSumAbsoluteDifferences(nums)"
   ]
  },
  {
   "cell_type": "markdown",
   "id": "mysterious-cameroon",
   "metadata": {},
   "source": [
    "# Reference\n",
    "\n",
    "[1685. Sum of Absolute Differences in a Sorted Array](https://leetcode.com/problems/sum-of-absolute-differences-in-a-sorted-array/)\n",
    "\n",
    "[O(n) Python Solution using Cumulative](https://leetcode.com/problems/sum-of-absolute-differences-in-a-sorted-array/discuss/1317854/O(n)-Python-Solution-using-Cumulative)"
   ]
  }
 ],
 "metadata": {
  "kernelspec": {
   "display_name": "Python 3",
   "language": "python",
   "name": "python3"
  },
  "language_info": {
   "codemirror_mode": {
    "name": "ipython",
    "version": 3
   },
   "file_extension": ".py",
   "mimetype": "text/x-python",
   "name": "python",
   "nbconvert_exporter": "python",
   "pygments_lexer": "ipython3",
   "version": "3.7.10"
  }
 },
 "nbformat": 4,
 "nbformat_minor": 5
}
