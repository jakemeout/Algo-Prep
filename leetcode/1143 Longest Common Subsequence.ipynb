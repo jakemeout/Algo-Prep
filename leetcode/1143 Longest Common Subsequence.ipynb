{
 "cells": [
  {
   "cell_type": "code",
   "execution_count": null,
   "metadata": {},
   "outputs": [],
   "source": [
    "class Solution:\n",
    "    def longestCommonSubsequence(self, text1: str, text2: str) -> int:\n",
    "        import numpy as np\n",
    "        memo = np.zeros(shape=(len(text1)+1,len(text2)+1),dtype=np.int64)\n",
    "        for i, char1 in enumerate(text1,start=1):\n",
    "            for j, char2 in enumerate(text2,start=1):\n",
    "                if char1 == char2:\n",
    "                    memo[i,j] = 1 + memo[i-1,j-1]\n",
    "                else:\n",
    "                    memo[i,j] = max(memo[i-1,j],memo[i,j-1])\n",
    "        return memo[len(text1),len(text2)] "
   ]
  },
  {
   "cell_type": "markdown",
   "metadata": {},
   "source": [
    "# Reference\n",
    "\n",
    "[1143. Longest Common Subsequence](https://leetcode.com/problems/longest-common-subsequence/)\n",
    "\n",
    "[Longest common subsequence | Leetcode #1143](https://www.youtube.com/watch?v=LAKWWDX3sGw&list=PLEJXowNB4kPxQIN2dCUAnQ_92HIziG4x6&index=45)\n",
    "\n",
    "[Longest Common Subsequence (Leetcode 1143)](https://www.youtube.com/watch?v=EUIboeHT0S4&list=PL_lPC-CADCvSFaErThMwvheODEeoSDc6f&index=5)\n",
    "\n",
    "[Longest Common Subsequence | (C++, Java, Python) |30 day Challenge | Day 26 | LeetCode #1143](https://www.youtube.com/watch?v=i1u2ChnUvZM&list=PL1w8k37X_6L-UQSn0c4DJJmbLb2DzDBkx&index=16)"
   ]
  }
 ],
 "metadata": {
  "kernelspec": {
   "display_name": "Python 3",
   "language": "python",
   "name": "python3"
  },
  "language_info": {
   "codemirror_mode": {
    "name": "ipython",
    "version": 3
   },
   "file_extension": ".py",
   "mimetype": "text/x-python",
   "name": "python",
   "nbconvert_exporter": "python",
   "pygments_lexer": "ipython3",
   "version": "3.8.5"
  }
 },
 "nbformat": 4,
 "nbformat_minor": 4
}
