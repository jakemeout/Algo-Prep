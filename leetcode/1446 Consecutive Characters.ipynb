{
 "cells": [
  {
   "cell_type": "code",
   "execution_count": null,
   "metadata": {},
   "outputs": [],
   "source": [
    "class Solution:\n",
    "    def maxPower(self, s: str) -> int:\n",
    "        power = 1\n",
    "        current_power = 1\n",
    "        for c1, c2 in zip(s[:-1],s[1:]):\n",
    "            if c1 == c2:\n",
    "                current_power += 1\n",
    "            else:\n",
    "                power = max(power, current_power)\n",
    "                current_power = 1\n",
    "        power = max(power, current_power)\n",
    "        return power"
   ]
  },
  {
   "cell_type": "markdown",
   "metadata": {},
   "source": [
    "# Reference\n",
    "\n",
    "[1446. Consecutive Characters](https://leetcode.com/problems/consecutive-characters/)"
   ]
  }
 ],
 "metadata": {
  "kernelspec": {
   "display_name": "Python 3",
   "language": "python",
   "name": "python3"
  },
  "language_info": {
   "codemirror_mode": {
    "name": "ipython",
    "version": 3
   },
   "file_extension": ".py",
   "mimetype": "text/x-python",
   "name": "python",
   "nbconvert_exporter": "python",
   "pygments_lexer": "ipython3",
   "version": "3.8.5"
  }
 },
 "nbformat": 4,
 "nbformat_minor": 4
}
