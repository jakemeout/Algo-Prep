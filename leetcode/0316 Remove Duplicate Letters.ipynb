{
 "cells": [
  {
   "cell_type": "code",
   "execution_count": 37,
   "metadata": {},
   "outputs": [],
   "source": [
    "class Solution:\n",
    "    def removeDuplicateLetters(self, s: str) -> str:\n",
    "        # construct frequence dict d\n",
    "        d = {}\n",
    "        for c in s:\n",
    "            if c not in d:\n",
    "                d[c] = 1\n",
    "            else:\n",
    "                d[c] += 1\n",
    "        # remove redundency\n",
    "        stack = [] # if c in s is not in stack, we push c into stack\n",
    "        #print(stack, d)\n",
    "        for c in s:\n",
    "            if c not in stack: # if c in s is not in stack, we push c into stack\n",
    "                if stack != []: # however, before push we do the following removal \n",
    "                    # to keep lexicographic order minimal we remove char in stack such that \n",
    "                    while stack[-1] > c: # (1) char > c and\n",
    "                        if d[stack[-1]] >= 1: # (2) this char will appear later in s\n",
    "                            stack.pop()\n",
    "                        else:\n",
    "                            break\n",
    "                        if stack == []:\n",
    "                            break\n",
    "                stack.append(c) # push c into stack\n",
    "                d[c] -= 1 # d[c] trace number of c in remaining string \n",
    "                #print(stack, d)\n",
    "            else:\n",
    "                d[c] -= 1 # d[c] trace number of c in remaining string \n",
    "                #print(stack, d)\n",
    "        return ''.join(stack)"
   ]
  },
  {
   "cell_type": "code",
   "execution_count": 38,
   "metadata": {},
   "outputs": [
    {
     "name": "stdout",
     "output_type": "stream",
     "text": [
      "[] {'b': 2, 'c': 2, 'a': 2}\n",
      "['b'] {'b': 1, 'c': 2, 'a': 2}\n",
      "['b'] {'b': 0, 'c': 2, 'a': 2}\n",
      "['b', 'c'] {'b': 0, 'c': 1, 'a': 2}\n",
      "['b', 'a'] {'b': 0, 'c': 1, 'a': 1}\n",
      "['b', 'a'] {'b': 0, 'c': 1, 'a': 0}\n",
      "['b', 'a', 'c'] {'b': 0, 'c': 0, 'a': 0}\n"
     ]
    },
    {
     "data": {
      "text/plain": [
       "'bac'"
      ]
     },
     "execution_count": 38,
     "metadata": {},
     "output_type": "execute_result"
    }
   ],
   "source": [
    "s = \"bbcaac\"\n",
    "Solution().removeDuplicateLetters(s) # \"bac\""
   ]
  },
  {
   "cell_type": "markdown",
   "metadata": {},
   "source": [
    "# Reference\n",
    "\n",
    "[316. Remove Duplicate Letters](https://leetcode.com/problems/remove-duplicate-letters/)\n",
    "\n",
    "[Remove Duplicate Letters | LeetCode 316 & 1081 | October LeetCode Challenge | Day 11](https://www.youtube.com/watch?v=0tantogp8fc)"
   ]
  }
 ],
 "metadata": {
  "kernelspec": {
   "display_name": "Python 3",
   "language": "python",
   "name": "python3"
  },
  "language_info": {
   "codemirror_mode": {
    "name": "ipython",
    "version": 3
   },
   "file_extension": ".py",
   "mimetype": "text/x-python",
   "name": "python",
   "nbconvert_exporter": "python",
   "pygments_lexer": "ipython3",
   "version": "3.8.5"
  }
 },
 "nbformat": 4,
 "nbformat_minor": 4
}
