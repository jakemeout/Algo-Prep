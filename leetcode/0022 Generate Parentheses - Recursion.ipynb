{
 "cells": [
  {
   "cell_type": "code",
   "execution_count": 5,
   "metadata": {},
   "outputs": [],
   "source": [
    "class Solution:\n",
    "    def generateParenthesis(self, n):\n",
    "        if n == 0: return [] # base cases\n",
    "        if n == 1: return [\"()\"] # base cases\n",
    "        self.cache = set()\n",
    "        out = []\n",
    "        for e in self.generateParenthesis(n-1): # recursion\n",
    "            counter_zero_indices = self.findCounterZeroIndices(e)\n",
    "            tmp_list = self.addOne(e, counter_zero_indices)\n",
    "            for tmp in tmp_list:\n",
    "                if tmp not in self.cache:\n",
    "                    self.cache.add(tmp)\n",
    "                    out.append(tmp)\n",
    "        return out            \n",
    "    def findCounterZeroIndices(self, e):\n",
    "        out = []\n",
    "        counter = 0\n",
    "        l = 0\n",
    "        while l < len(e):\n",
    "            if e[l]=='(': counter += 1;\n",
    "            else: counter -= 1;\n",
    "            if counter == 0: out.append(l);\n",
    "            l += 1\n",
    "        return out                \n",
    "    def addOne(self, e, counter_zero_indices):\n",
    "        indices = [0] + counter_zero_indices\n",
    "        out = []\n",
    "        # add one parenthese of length 2 \n",
    "        for i in indices:\n",
    "            if i == 0:\n",
    "                tmp = \"()\" + e\n",
    "            else:\n",
    "                tmp = e[:i+1] + \"()\" + e[i+1:]\n",
    "            out.append(tmp)\n",
    "        # add one parenthese of length greater than 2 \n",
    "        for idx, i in enumerate(indices):\n",
    "            for k in indices[idx+1:]:\n",
    "                if i == 0:\n",
    "                    tmp = \"(\" + e[:k+1] + \")\" + e[k+1:]\n",
    "                else:\n",
    "                    tmp = e[:i+1] + \"(\" + e[i+1:k+1] + \")\" + e[k+1:]\n",
    "                out.append(tmp)\n",
    "        return out"
   ]
  },
  {
   "cell_type": "code",
   "execution_count": 6,
   "metadata": {},
   "outputs": [
    {
     "data": {
      "text/plain": [
       "['()()()', '(())()', '(()())', '()(())', '((()))']"
      ]
     },
     "execution_count": 6,
     "metadata": {},
     "output_type": "execute_result"
    }
   ],
   "source": [
    "# Input: n = 3\n",
    "# Output: [\"((()))\",\"(()())\",\"(())()\",\"()(())\",\"()()()\"]\n",
    "n = 3\n",
    "Solution().generateParenthesis(n)"
   ]
  },
  {
   "cell_type": "code",
   "execution_count": 7,
   "metadata": {},
   "outputs": [
    {
     "data": {
      "text/plain": [
       "['()']"
      ]
     },
     "execution_count": 7,
     "metadata": {},
     "output_type": "execute_result"
    }
   ],
   "source": [
    "# Input: n = 1\n",
    "# Output: [\"()\"]\n",
    "n = 1\n",
    "Solution().generateParenthesis(n)"
   ]
  },
  {
   "cell_type": "markdown",
   "metadata": {},
   "source": [
    "# Reference\n",
    "\n",
    "[22. Generate Parentheses](https://leetcode.com/problems/generate-parentheses/)"
   ]
  },
  {
   "cell_type": "code",
   "execution_count": null,
   "metadata": {},
   "outputs": [],
   "source": []
  },
  {
   "cell_type": "code",
   "execution_count": null,
   "metadata": {},
   "outputs": [],
   "source": []
  },
  {
   "cell_type": "code",
   "execution_count": null,
   "metadata": {},
   "outputs": [],
   "source": []
  },
  {
   "cell_type": "code",
   "execution_count": null,
   "metadata": {},
   "outputs": [],
   "source": []
  }
 ],
 "metadata": {
  "kernelspec": {
   "display_name": "Python 3",
   "language": "python",
   "name": "python3"
  },
  "language_info": {
   "codemirror_mode": {
    "name": "ipython",
    "version": 3
   },
   "file_extension": ".py",
   "mimetype": "text/x-python",
   "name": "python",
   "nbconvert_exporter": "python",
   "pygments_lexer": "ipython3",
   "version": "3.8.5"
  }
 },
 "nbformat": 4,
 "nbformat_minor": 4
}
