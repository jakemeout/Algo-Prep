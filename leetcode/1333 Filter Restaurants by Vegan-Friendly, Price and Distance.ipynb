{
 "cells": [
  {
   "cell_type": "code",
   "execution_count": 9,
   "metadata": {},
   "outputs": [],
   "source": [
    "class Solution:\n",
    "    def filterRestaurants(self, restaurants, veganFriendly, maxPrice, maxDistance):\n",
    "        # The veganFriendly filter will be either true (meaning you should only include restaurants with veganFriendlyi set to true) \n",
    "        # or false (meaning you can include any restaurant)\n",
    "        if veganFriendly == 1:\n",
    "            res = [r for r in restaurants if r[2]==veganFriendly and r[3]<=maxPrice and r[4]<=maxDistance]\n",
    "        else:\n",
    "            res = [r for r in restaurants if r[3]<=maxPrice and r[4]<=maxDistance]\n",
    "        # Return the array of restaurant IDs after filtering, ordered by rating from highest to lowest.\n",
    "        # For restaurants with the same rating, order them by id from highest to lowest. \n",
    "        res_sorted = sorted(res, key=lambda x: (x[1],x[0]), reverse=True)\n",
    "        return [r[0] for r in res_sorted]"
   ]
  },
  {
   "cell_type": "code",
   "execution_count": 10,
   "metadata": {},
   "outputs": [
    {
     "data": {
      "text/plain": [
       "[4, 3, 2, 1, 5]"
      ]
     },
     "execution_count": 10,
     "metadata": {},
     "output_type": "execute_result"
    }
   ],
   "source": [
    "# [id, rating, veganFriendly, price, distance]\n",
    "restaurants = [[1,4,1,40,10],[2,8,0,50,5],[3,8,1,30,4],[4,10,0,10,3],[5,1,1,15,1]]\n",
    "veganFriendly = 0\n",
    "maxPrice = 50\n",
    "maxDistance = 10\n",
    "Solution().filterRestaurants(restaurants, veganFriendly, maxPrice, maxDistance) # [4,3,2,1,5]"
   ]
  },
  {
   "cell_type": "markdown",
   "metadata": {},
   "source": [
    "# Reference\n",
    "\n",
    "[1333. Filter Restaurants by Vegan-Friendly, Price and Distance](https://leetcode.com/problems/filter-restaurants-by-vegan-friendly-price-and-distance/)\n",
    "\n",
    "[Filter Restaurants by Vegan-Friendly, Price and Distance (Leetcode 1333)](https://www.youtube.com/watch?v=ZM-zhCMqI6E&list=PL_lPC-CADCvSSU3KSchuIysoJoIV_i0No&index=4)"
   ]
  }
 ],
 "metadata": {
  "kernelspec": {
   "display_name": "Python 3",
   "language": "python",
   "name": "python3"
  },
  "language_info": {
   "codemirror_mode": {
    "name": "ipython",
    "version": 3
   },
   "file_extension": ".py",
   "mimetype": "text/x-python",
   "name": "python",
   "nbconvert_exporter": "python",
   "pygments_lexer": "ipython3",
   "version": "3.8.5"
  }
 },
 "nbformat": 4,
 "nbformat_minor": 4
}
