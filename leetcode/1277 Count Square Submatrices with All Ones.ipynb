{
 "cells": [
  {
   "cell_type": "code",
   "execution_count": 9,
   "metadata": {},
   "outputs": [],
   "source": [
    "import numpy as np\n",
    "class Solution:\n",
    "    def countSquares(self, matrix):\n",
    "        ans = 0\n",
    "        self.g = np.array(matrix, dtype=np.int64)\n",
    "        self.m, self.n = self.g.shape\n",
    "        for i in range(self.m):\n",
    "            for j in range(self.n):\n",
    "                for k in range(1,min(self.m-i+1,self.n-j+1)):\n",
    "                    if self.check(i,j,k):\n",
    "                        ans += 1\n",
    "                    else:\n",
    "                        break\n",
    "        return ans \n",
    "    def check(self, i, j, k):\n",
    "        return np.sum(self.g[i:i+k,j:j+k]) == k*k"
   ]
  },
  {
   "cell_type": "code",
   "execution_count": 10,
   "metadata": {},
   "outputs": [
    {
     "data": {
      "text/plain": [
       "15"
      ]
     },
     "execution_count": 10,
     "metadata": {},
     "output_type": "execute_result"
    }
   ],
   "source": [
    "matrix = [[0,1,1,1],[1,1,1,1],[0,1,1,1]]\n",
    "Solution().countSquares(matrix) # 15"
   ]
  },
  {
   "cell_type": "markdown",
   "metadata": {},
   "source": [
    "# Reference\n",
    "\n",
    "[1277. Count Square Submatrices with All Ones](https://leetcode.com/problems/count-square-submatrices-with-all-ones/)\n",
    "\n",
    "[Count Square Submatrices with All Ones (Leetcode 1277)](https://www.youtube.com/watch?v=SZ7FNPhwqkQ&list=PL_lPC-CADCvSFaErThMwvheODEeoSDc6f&index=8)"
   ]
  }
 ],
 "metadata": {
  "kernelspec": {
   "display_name": "Python 3",
   "language": "python",
   "name": "python3"
  },
  "language_info": {
   "codemirror_mode": {
    "name": "ipython",
    "version": 3
   },
   "file_extension": ".py",
   "mimetype": "text/x-python",
   "name": "python",
   "nbconvert_exporter": "python",
   "pygments_lexer": "ipython3",
   "version": "3.8.5"
  }
 },
 "nbformat": 4,
 "nbformat_minor": 4
}
