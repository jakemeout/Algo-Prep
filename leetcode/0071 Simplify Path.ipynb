{
 "cells": [
  {
   "cell_type": "code",
   "execution_count": 9,
   "metadata": {},
   "outputs": [],
   "source": [
    "class Solution:\n",
    "    def simplifyPath(self, path: str) -> str:\n",
    "        stack = []\n",
    "        lst = path.strip().split(\"/\")\n",
    "        #print(stack)\n",
    "        for s in lst:\n",
    "            # .. means one path level up\n",
    "            if s==\"..\":\n",
    "                if stack:\n",
    "                    stack.pop()\n",
    "                continue\n",
    "            # . means the current path level\n",
    "            elif s==\".\" or s==\"\":\n",
    "                continue\n",
    "            else:\n",
    "                stack.append(s)\n",
    "            #print(stack)\n",
    "            \n",
    "        # / means the root level \n",
    "        if not stack:\n",
    "            return \"/\"\n",
    "        ans = \"\"\n",
    "        for s in stack:\n",
    "            ans += \"/\" + s\n",
    "        return ans"
   ]
  },
  {
   "cell_type": "code",
   "execution_count": 10,
   "metadata": {},
   "outputs": [
    {
     "name": "stdout",
     "output_type": "stream",
     "text": [
      "[]\n",
      "['home']\n",
      "['home', 'foo']\n"
     ]
    },
    {
     "data": {
      "text/plain": [
       "'/home/foo'"
      ]
     },
     "execution_count": 10,
     "metadata": {},
     "output_type": "execute_result"
    }
   ],
   "source": [
    "#path = \"/home/\"\n",
    "#path = \"/../\"\n",
    "path = \"/home//foo/\"\n",
    "#path = \"/a/./b/../../c/\"\n",
    "Solution().simplifyPath(path)"
   ]
  },
  {
   "cell_type": "markdown",
   "metadata": {},
   "source": [
    "# Reference\n",
    "\n",
    "[71. Simplify Path](https://leetcode.com/problems/simplify-path/)\n",
    "\n",
    "[Python Beats 90% Time & Space](https://leetcode.com/problems/simplify-path/discuss/1266182/Python-Beats-90-Time-and-Space)\n",
    "\n",
    "[LeetCode 71 Simplify Path intuition](https://www.youtube.com/watch?v=qcl2yd4JSyo)"
   ]
  }
 ],
 "metadata": {
  "kernelspec": {
   "display_name": "Python 3",
   "language": "python",
   "name": "python3"
  },
  "language_info": {
   "codemirror_mode": {
    "name": "ipython",
    "version": 3
   },
   "file_extension": ".py",
   "mimetype": "text/x-python",
   "name": "python",
   "nbconvert_exporter": "python",
   "pygments_lexer": "ipython3",
   "version": "3.7.10"
  }
 },
 "nbformat": 4,
 "nbformat_minor": 4
}
