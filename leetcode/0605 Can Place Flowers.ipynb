{
 "cells": [
  {
   "cell_type": "code",
   "execution_count": 3,
   "metadata": {},
   "outputs": [],
   "source": [
    "class Solution:\n",
    "    def canPlaceFlowers(self, flowerbed, n):\n",
    "        # base case\n",
    "        if n==0: \n",
    "            return True\n",
    "        if n==1:\n",
    "            if len(flowerbed)==0:\n",
    "                return False\n",
    "            elif len(flowerbed)==1:\n",
    "                return flowerbed[0]==0\n",
    "        if sum(flowerbed) >= len(flowerbed)-1:\n",
    "            return False\n",
    "        # recursion\n",
    "        if flowerbed[0]==0 and flowerbed[1]==0:\n",
    "                return self.canPlaceFlowers(flowerbed[2:], n-1)\n",
    "        elif flowerbed[0]==1 and flowerbed[1]==0:\n",
    "                return self.canPlaceFlowers(flowerbed[2:], n)\n",
    "        else:\n",
    "            return self.canPlaceFlowers(flowerbed[3:], n)            "
   ]
  },
  {
   "cell_type": "code",
   "execution_count": 4,
   "metadata": {},
   "outputs": [
    {
     "data": {
      "text/plain": [
       "False"
      ]
     },
     "execution_count": 4,
     "metadata": {},
     "output_type": "execute_result"
    }
   ],
   "source": [
    "flowerbed = [1,0,0,0,1]\n",
    "n = 1\n",
    "Solution().canPlaceFlowers(flowerbed, n) # True"
   ]
  },
  {
   "cell_type": "markdown",
   "metadata": {},
   "source": [
    "# Reference\n",
    "\n",
    "[605. Can Place Flowers](https://leetcode.com/problems/can-place-flowers/)"
   ]
  }
 ],
 "metadata": {
  "kernelspec": {
   "display_name": "Python 3",
   "language": "python",
   "name": "python3"
  },
  "language_info": {
   "codemirror_mode": {
    "name": "ipython",
    "version": 3
   },
   "file_extension": ".py",
   "mimetype": "text/x-python",
   "name": "python",
   "nbconvert_exporter": "python",
   "pygments_lexer": "ipython3",
   "version": "3.8.5"
  }
 },
 "nbformat": 4,
 "nbformat_minor": 4
}
