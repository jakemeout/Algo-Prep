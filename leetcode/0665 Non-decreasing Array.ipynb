{
 "cells": [
  {
   "cell_type": "code",
   "execution_count": null,
   "metadata": {},
   "outputs": [],
   "source": [
    "class Solution:\n",
    "    def checkPossibility(self, nums):\n",
    "        lst = [] # collect location i that nums[i-1] > nums[i]\n",
    "        counter = 0 # count i that nums[i-1] > nums[i]\n",
    "        for i, (prev, now) in enumerate(zip(nums[:-1],nums[1:]),start=1):\n",
    "            if prev > now:\n",
    "                lst.append(i)\n",
    "                counter += 1\n",
    "                # if there are two or more trouble spots, we cannot fix\n",
    "                if counter == 2:\n",
    "                    return False\n",
    "        # if there are no trouble spots, we don't need to fix\n",
    "        if counter == 0:\n",
    "            return True\n",
    "        \n",
    "        # if there is only one trouble spots at left or right end, we can fix\n",
    "        i = lst[0] # location i that nums[i-1] > nums[i]\n",
    "        if i==1 or i==len(nums)-1:\n",
    "            return True\n",
    "        \n",
    "        # if there is only one trouble spots at middle, there are several cases\n",
    "        prev_prev, prev, now, next_ = nums[i-2], nums[i-1], nums[i], nums[i+1]\n",
    "        #          prev\n",
    "        #            |\n",
    "        # prev_prev  |\n",
    "        #            |\n",
    "        #            |       next_\n",
    "        #            V  now\n",
    "        if prev>next_ and prev_prev>now:\n",
    "            return False\n",
    "        return True"
   ]
  },
  {
   "cell_type": "markdown",
   "metadata": {},
   "source": [
    "# Reference\n",
    "\n",
    "[665. Non-decreasing Array](https://leetcode.com/problems/non-decreasing-array/)\n",
    "\n",
    "[Non-decreasing Array | LeetCode 665 | C++, Java, Python](https://www.youtube.com/watch?v=KNeYi11859M)"
   ]
  }
 ],
 "metadata": {
  "kernelspec": {
   "display_name": "Python 3",
   "language": "python",
   "name": "python3"
  },
  "language_info": {
   "codemirror_mode": {
    "name": "ipython",
    "version": 3
   },
   "file_extension": ".py",
   "mimetype": "text/x-python",
   "name": "python",
   "nbconvert_exporter": "python",
   "pygments_lexer": "ipython3",
   "version": "3.8.5"
  }
 },
 "nbformat": 4,
 "nbformat_minor": 4
}
