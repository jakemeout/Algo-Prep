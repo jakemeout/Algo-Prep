{
 "cells": [
  {
   "cell_type": "code",
   "execution_count": null,
   "metadata": {},
   "outputs": [],
   "source": [
    "# Definition for a binary tree node.\n",
    "class TreeNode:\n",
    "    def __init__(self, val=0, left=None, right=None):\n",
    "        self.val = val\n",
    "        self.left = left\n",
    "        self.right = right"
   ]
  },
  {
   "cell_type": "code",
   "execution_count": null,
   "metadata": {},
   "outputs": [],
   "source": [
    "class Solution:\n",
    "    def distributeCoins(self, root: TreeNode) -> int:\n",
    "        self.ans = 0\n",
    "        self.transferMoney(root)\n",
    "        return self.ans\n",
    "    def transferMoney(self,node):\n",
    "        \"\"\"\n",
    "        money to transfer through node\n",
    "        positive money - money to transfer up \n",
    "        negative money - abs(money) to transfer down \n",
    "        \"\"\"\n",
    "        if not node:\n",
    "            return 0\n",
    "        left = self.transferMoney(node.left) # money transfered from left\n",
    "        right = self.transferMoney(node.right) # money transfered from right\n",
    "        self.ans += abs(left) + abs(right) # number of transactions added\n",
    "        return node.val + left + right - 1 # money to transfer through node"
   ]
  },
  {
   "cell_type": "markdown",
   "metadata": {},
   "source": [
    "# Reference\n",
    "\n",
    "[979. Distribute Coins in Binary Tree](https://leetcode.com/problems/distribute-coins-in-binary-tree/)\n",
    "\n",
    "[simple once you get it. using debt, provider approach with moves as the currency](https://leetcode.com/problems/distribute-coins-in-binary-tree/discuss/1134477/simple-once-you-get-it.-using-debt-provider-approach-with-moves-as-the-currency)"
   ]
  }
 ],
 "metadata": {
  "kernelspec": {
   "display_name": "Python 3",
   "language": "python",
   "name": "python3"
  },
  "language_info": {
   "codemirror_mode": {
    "name": "ipython",
    "version": 3
   },
   "file_extension": ".py",
   "mimetype": "text/x-python",
   "name": "python",
   "nbconvert_exporter": "python",
   "pygments_lexer": "ipython3",
   "version": "3.8.5"
  }
 },
 "nbformat": 4,
 "nbformat_minor": 4
}
