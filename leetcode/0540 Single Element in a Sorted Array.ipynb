{
 "cells": [
  {
   "cell_type": "code",
   "execution_count": 12,
   "id": "stuffed-archives",
   "metadata": {},
   "outputs": [],
   "source": [
    "class Solution:\n",
    "    def singleNonDuplicate(self, nums):\n",
    "        \"\"\"\n",
    "        :type nums: List[int]\n",
    "        :rtype: int\n",
    "        \"\"\"\n",
    "        if len(nums) == 1:\n",
    "            return nums[0]\n",
    "        for a, b in zip(nums[0::2],nums[1::2]):\n",
    "            if a != b:\n",
    "                return a\n",
    "        return nums[-1]"
   ]
  },
  {
   "cell_type": "markdown",
   "id": "appreciated-declaration",
   "metadata": {},
   "source": [
    "# Reference\n",
    "\n",
    "[540. Single Element in a Sorted Array](https://leetcode.com/problems/single-element-in-a-sorted-array/)"
   ]
  }
 ],
 "metadata": {
  "kernelspec": {
   "display_name": "Python 3",
   "language": "python",
   "name": "python3"
  },
  "language_info": {
   "codemirror_mode": {
    "name": "ipython",
    "version": 3
   },
   "file_extension": ".py",
   "mimetype": "text/x-python",
   "name": "python",
   "nbconvert_exporter": "python",
   "pygments_lexer": "ipython3",
   "version": "3.7.10"
  }
 },
 "nbformat": 4,
 "nbformat_minor": 5
}
