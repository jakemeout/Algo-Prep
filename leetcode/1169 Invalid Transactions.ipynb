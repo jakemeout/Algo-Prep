{
 "cells": [
  {
   "cell_type": "code",
   "execution_count": 27,
   "metadata": {},
   "outputs": [],
   "source": [
    "class Solution(object):\n",
    "    def invalidTransactions(self, transactions):\n",
    "        ans = []\n",
    "        # construct record dict r\n",
    "        # key : time\n",
    "        # value : another dict - key: name, value: list of cities\n",
    "        r = {}             \n",
    "        for transaction in transactions:\n",
    "            name, time, amount, city = transaction.split(\",\")\n",
    "            time, amount = int(time), int(amount)\n",
    "            if time not in r:\n",
    "                r[time] = {name: [city]}\n",
    "            else:\n",
    "                if name not in r[time]:\n",
    "                    r[time][name] = [city]\n",
    "                else:\n",
    "                    r[time][name].append(city)\n",
    "        #print(r) \n",
    "        \n",
    "        # find and record invalid transactions\n",
    "        for transaction in transactions:\n",
    "            name, time, amount, city = transaction.split(\",\")\n",
    "            time, amount = int(time), int(amount)\n",
    "            # check if the amount exceeds $1000\n",
    "            if amount > 1000:\n",
    "                ans.append(transaction)\n",
    "                continue\n",
    "            # check if transaction occurs within (and including) 60 minutes of another transaction \n",
    "            # with the same name \n",
    "            # in a different city.\n",
    "            for j in range(time-60, time+61):\n",
    "                if j not in r:\n",
    "                    continue\n",
    "                if name not in r[j]:\n",
    "                    continue\n",
    "                if len(r[j][name]) > 1 or (r[j][name][0] != city):\n",
    "                    ans.append(transaction)\n",
    "                    break                             \n",
    "        return ans      "
   ]
  },
  {
   "cell_type": "code",
   "execution_count": 28,
   "metadata": {},
   "outputs": [
    {
     "name": "stdout",
     "output_type": "stream",
     "text": [
      "{20: {'alice': ['mtv']}, 50: {'alice': ['beijing']}}\n"
     ]
    },
    {
     "data": {
      "text/plain": [
       "[]"
      ]
     },
     "execution_count": 28,
     "metadata": {},
     "output_type": "execute_result"
    }
   ],
   "source": [
    "transactions = [\"alice,20,800,mtv\",\"alice,50,100,beijing\"]\n",
    "Solution().invalidTransactions(transactions)"
   ]
  },
  {
   "cell_type": "markdown",
   "metadata": {},
   "source": [
    "# Reference\n",
    "\n",
    "[1169. Invalid Transactions](https://leetcode.com/problems/invalid-transactions/)\n",
    "\n",
    "[Invalid Transactions (Leetcode 1169)](https://www.youtube.com/watch?v=mZ0hGnSlSIw&list=PL_lPC-CADCvSRKTJcAxtkJEGuP87K3E2J&index=8)\n",
    "\n",
    "[[Python] O(n) solution + O(n) space](https://leetcode.com/problems/invalid-transactions/discuss/1230813/Python-O(n)-solution-%2B-O(n)-space)"
   ]
  }
 ],
 "metadata": {
  "kernelspec": {
   "display_name": "Python 3",
   "language": "python",
   "name": "python3"
  },
  "language_info": {
   "codemirror_mode": {
    "name": "ipython",
    "version": 3
   },
   "file_extension": ".py",
   "mimetype": "text/x-python",
   "name": "python",
   "nbconvert_exporter": "python",
   "pygments_lexer": "ipython3",
   "version": "3.8.5"
  }
 },
 "nbformat": 4,
 "nbformat_minor": 4
}
