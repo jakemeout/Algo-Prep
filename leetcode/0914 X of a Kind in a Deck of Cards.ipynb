{
 "cells": [
  {
   "cell_type": "code",
   "execution_count": null,
   "metadata": {},
   "outputs": [],
   "source": [
    "class Solution:\n",
    "    def hasGroupsSizeX(self, deck):\n",
    "        # trivial case\n",
    "        if len(deck) <= 1:\n",
    "            return False\n",
    "        if len(set(deck)) == 1:\n",
    "            return True\n",
    "        # construct counter dict d\n",
    "        # key : face value\n",
    "        # value : number of cards with given face value\n",
    "        d = {}\n",
    "        for card in deck:\n",
    "            if card in d:\n",
    "                d[card] += 1\n",
    "            else:\n",
    "                d[card] = 1\n",
    "        # compute gcd of values and return True if gcd != 1\n",
    "        from math import gcd\n",
    "        lst = [value for value in d.values()]\n",
    "        current_gcd = gcd(lst[0],lst[1])\n",
    "        for num in lst[2:]:\n",
    "            current_gcd = gcd(current_gcd,num)  \n",
    "        return current_gcd != 1       "
   ]
  },
  {
   "cell_type": "code",
   "execution_count": 3,
   "metadata": {},
   "outputs": [
    {
     "data": {
      "text/plain": [
       "2"
      ]
     },
     "execution_count": 3,
     "metadata": {},
     "output_type": "execute_result"
    }
   ],
   "source": [
    "len(set([1,2,1]))"
   ]
  },
  {
   "cell_type": "markdown",
   "metadata": {},
   "source": [
    "# Reference\n",
    "\n",
    "[914. X of a Kind in a Deck of Cards](https://leetcode.com/problems/x-of-a-kind-in-a-deck-of-cards/)"
   ]
  }
 ],
 "metadata": {
  "kernelspec": {
   "display_name": "Python 3",
   "language": "python",
   "name": "python3"
  },
  "language_info": {
   "codemirror_mode": {
    "name": "ipython",
    "version": 3
   },
   "file_extension": ".py",
   "mimetype": "text/x-python",
   "name": "python",
   "nbconvert_exporter": "python",
   "pygments_lexer": "ipython3",
   "version": "3.8.5"
  }
 },
 "nbformat": 4,
 "nbformat_minor": 4
}
