{
 "cells": [
  {
   "cell_type": "code",
   "execution_count": null,
   "id": "conceptual-cabin",
   "metadata": {},
   "outputs": [],
   "source": [
    "class Solution:\n",
    "    def findClosestElements(self, arr, k, x):\n",
    "        \"\"\"\n",
    "        :type arr: List[int]\n",
    "        :type k: int\n",
    "        :type x: int\n",
    "        :rtype: List[int]\n",
    "        \"\"\"\n",
    "        return sorted(sorted(arr, key=lambda a: abs(a-x))[:k])"
   ]
  },
  {
   "cell_type": "markdown",
   "id": "adopted-stereo",
   "metadata": {},
   "source": [
    "# Reference\n",
    "\n",
    "[658. Find K Closest Elements](https://leetcode.com/problems/find-k-closest-elements/)"
   ]
  }
 ],
 "metadata": {
  "kernelspec": {
   "display_name": "Python 3",
   "language": "python",
   "name": "python3"
  },
  "language_info": {
   "codemirror_mode": {
    "name": "ipython",
    "version": 3
   },
   "file_extension": ".py",
   "mimetype": "text/x-python",
   "name": "python",
   "nbconvert_exporter": "python",
   "pygments_lexer": "ipython3",
   "version": "3.7.10"
  }
 },
 "nbformat": 4,
 "nbformat_minor": 5
}
