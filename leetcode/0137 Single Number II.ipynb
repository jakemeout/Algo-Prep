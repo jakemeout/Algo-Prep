{
 "cells": [
  {
   "cell_type": "code",
   "execution_count": 12,
   "metadata": {},
   "outputs": [],
   "source": [
    "class Solution:\n",
    "    def singleNumber(self, nums):\n",
    "        \"\"\"\n",
    "        :type nums: List[int]\n",
    "        :rtype: int\n",
    "        \"\"\"\n",
    "        single = 0\n",
    "        for i in range(32):\n",
    "            count = 0\n",
    "            for num in nums:\n",
    "                if num & (1<<i): \n",
    "                    count += 1\n",
    "            single |= (count%3) << i\n",
    "        return single if single < (1<<31) else single - (1<<32)   "
   ]
  },
  {
   "cell_type": "code",
   "execution_count": 13,
   "metadata": {},
   "outputs": [
    {
     "data": {
      "text/plain": [
       "-4"
      ]
     },
     "execution_count": 13,
     "metadata": {},
     "output_type": "execute_result"
    }
   ],
   "source": [
    "nums = [-2,-2,1,1,4,1,4,4,-4,-2]\n",
    "Solution().singleNumber(nums)"
   ]
  },
  {
   "cell_type": "markdown",
   "metadata": {},
   "source": [
    "# Reference\n",
    "\n",
    "[137. Single Number II](https://leetcode.com/problems/single-number-ii/)\n",
    "\n",
    "[LeetCode #137: Single Number II | Facebook Interview Question | LeetCode Single Number ii](https://www.youtube.com/watch?v=ZbTXZ2_YAgI)\n",
    "\n",
    "[[Python] Bit Manipulation, O(32n), but easy, exaplained](https://leetcode.com/problems/single-number-ii/discuss/699889/Python-Bit-Manipulation-O(32n)-but-easy-exaplained)"
   ]
  },
  {
   "cell_type": "code",
   "execution_count": null,
   "metadata": {},
   "outputs": [],
   "source": []
  }
 ],
 "metadata": {
  "kernelspec": {
   "display_name": "Python 3",
   "language": "python",
   "name": "python3"
  },
  "language_info": {
   "codemirror_mode": {
    "name": "ipython",
    "version": 3
   },
   "file_extension": ".py",
   "mimetype": "text/x-python",
   "name": "python",
   "nbconvert_exporter": "python",
   "pygments_lexer": "ipython3",
   "version": "3.8.5"
  }
 },
 "nbformat": 4,
 "nbformat_minor": 4
}
