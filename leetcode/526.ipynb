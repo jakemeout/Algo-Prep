{
 "cells": [
  {
   "cell_type": "code",
   "execution_count": 1,
   "metadata": {},
   "outputs": [],
   "source": [
    "class Solution:\n",
    "    def countArrangement(self, n: int) -> int:\n",
    "        from collections import defaultdict \n",
    "        d = defaultdict(set)\n",
    "        for i in range(1,n+1):\n",
    "            for k in range(1,n+1):\n",
    "                if i%k==0 or k%i==0:\n",
    "                    d[i].add(k)\n",
    "        ans = 0\n",
    "        for num in d[1]:\n",
    "            ans = self.count(num)\n",
    "                \n",
    "        return ans"
   ]
  },
  {
   "cell_type": "code",
   "execution_count": 3,
   "metadata": {},
   "outputs": [
    {
     "name": "stdout",
     "output_type": "stream",
     "text": [
      "defaultdict(<class 'set'>, {1: {1, 2, 3, 4, 5}, 2: {1, 2, 4}, 3: {1, 3}, 4: {1, 2, 4}, 5: {1, 5}})\n"
     ]
    }
   ],
   "source": [
    "n = 5\n",
    "Solution().countArrangement(n)"
   ]
  },
  {
   "cell_type": "code",
   "execution_count": null,
   "metadata": {},
   "outputs": [],
   "source": []
  }
 ],
 "metadata": {
  "kernelspec": {
   "display_name": "Python 3",
   "language": "python",
   "name": "python3"
  },
  "language_info": {
   "codemirror_mode": {
    "name": "ipython",
    "version": 3
   },
   "file_extension": ".py",
   "mimetype": "text/x-python",
   "name": "python",
   "nbconvert_exporter": "python",
   "pygments_lexer": "ipython3",
   "version": "3.8.5"
  }
 },
 "nbformat": 4,
 "nbformat_minor": 4
}
