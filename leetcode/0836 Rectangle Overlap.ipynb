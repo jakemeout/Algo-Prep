{
 "cells": [
  {
   "cell_type": "code",
   "execution_count": 8,
   "metadata": {},
   "outputs": [],
   "source": [
    "class Solution:\n",
    "    def isRectangleOverlap(self, lst1, lst2):\n",
    "        # if one rectangle area is zero, return False \n",
    "        if (lst1[0]==lst1[2]) or (lst2[0]==lst2[2]): return False\n",
    "        if (lst1[1]==lst1[3]) or (lst2[1]==lst2[3]): return False\n",
    "        \n",
    "        # if intersection area is non-zero return True\n",
    "        if (lst1[0]<=lst2[0]<lst1[2]) or (lst2[0]<=lst1[0]<lst2[2]):\n",
    "            if (lst1[1]<=lst2[1]<lst1[3]) or (lst2[1]<=lst1[1]<lst2[3]):\n",
    "                return True\n",
    "            \n",
    "        # if intersection area is zero return False\n",
    "        return False"
   ]
  },
  {
   "cell_type": "code",
   "execution_count": 9,
   "metadata": {},
   "outputs": [
    {
     "data": {
      "text/plain": [
       "False"
      ]
     },
     "execution_count": 9,
     "metadata": {},
     "output_type": "execute_result"
    }
   ],
   "source": [
    "lst1 = [-1,0,1,1]\n",
    "lst2 = [0,-1,0,1]\n",
    "Solution().isRectangleOverlap(lst1, lst2)"
   ]
  },
  {
   "cell_type": "code",
   "execution_count": 7,
   "metadata": {},
   "outputs": [
    {
     "data": {
      "text/plain": [
       "True"
      ]
     },
     "execution_count": 7,
     "metadata": {},
     "output_type": "execute_result"
    }
   ],
   "source": [
    "lst1 = [7,8,13,15]\n",
    "lst2 = [10,8,12,20]\n",
    "Solution().isRectangleOverlap(lst1, lst2)"
   ]
  },
  {
   "cell_type": "code",
   "execution_count": null,
   "metadata": {},
   "outputs": [],
   "source": [
    "lst1 = [0,0,2,2]\n",
    "lst2 = [1,1,3,3]\n",
    "Solution().isRectangleOverlap(lst1, lst2)"
   ]
  },
  {
   "cell_type": "markdown",
   "metadata": {},
   "source": [
    "# Reference\n",
    "\n",
    "[836. Rectangle Overlap](https://leetcode.com/problems/rectangle-overlap/)"
   ]
  }
 ],
 "metadata": {
  "kernelspec": {
   "display_name": "Python 3",
   "language": "python",
   "name": "python3"
  },
  "language_info": {
   "codemirror_mode": {
    "name": "ipython",
    "version": 3
   },
   "file_extension": ".py",
   "mimetype": "text/x-python",
   "name": "python",
   "nbconvert_exporter": "python",
   "pygments_lexer": "ipython3",
   "version": "3.8.5"
  }
 },
 "nbformat": 4,
 "nbformat_minor": 4
}
