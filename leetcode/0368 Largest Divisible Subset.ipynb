{
 "cells": [
  {
   "cell_type": "code",
   "execution_count": 1,
   "metadata": {},
   "outputs": [],
   "source": [
    "class Solution:\n",
    "    def largestDivisibleSubset(self, nums):\n",
    "        if len(nums) == 0: return []\n",
    "        \n",
    "        nums.sort()\n",
    "        sol = [[num] for num in nums]\n",
    "        #print(sol)\n",
    "        for i in range(len(nums)):\n",
    "            for j in range(i):\n",
    "                if nums[i] % nums[j] == 0 and len(sol[i]) < len(sol[j]) + 1:\n",
    "                    # sol[i] list keep the best solution, where the biggest number is equal to nums[i]\n",
    "                    # condition len(sol[i]) < len(sol[j]) + 1 makes sure that len(sol[i]) increases after update \n",
    "                    sol[i] = sol[j] + [nums[i]]\n",
    "                    #print(sol)\n",
    "        return max(sol, key=len)"
   ]
  },
  {
   "cell_type": "code",
   "execution_count": 2,
   "metadata": {},
   "outputs": [
    {
     "name": "stdout",
     "output_type": "stream",
     "text": [
      "[[2], [3], [5], [6], [8], [9], [15]]\n",
      "[[2], [3], [5], [2, 6], [8], [9], [15]]\n",
      "[[2], [3], [5], [2, 6], [2, 8], [9], [15]]\n",
      "[[2], [3], [5], [2, 6], [2, 8], [3, 9], [15]]\n",
      "[[2], [3], [5], [2, 6], [2, 8], [3, 9], [3, 15]]\n"
     ]
    },
    {
     "data": {
      "text/plain": [
       "[2, 6]"
      ]
     },
     "execution_count": 2,
     "metadata": {},
     "output_type": "execute_result"
    }
   ],
   "source": [
    "nums = [2,3,5,6,8,9,15]\n",
    "Solution().largestDivisibleSubset(nums)"
   ]
  },
  {
   "cell_type": "markdown",
   "metadata": {},
   "source": [
    "# Reference\n",
    "\n",
    "[368. Largest Divisible Subset](https://leetcode.com/problems/largest-divisible-subset/)\n",
    "\n",
    "[[Python] Short DP with O(n^2) explained (update)](https://leetcode.com/problems/largest-divisible-subset/discuss/684738/Python-Short-DP-with-O(n2)-explained-(update))\n",
    "\n",
    "[Largest Divisible Subset | LeetCode 368 | C++, Java, Python](https://www.youtube.com/watch?v=8tDM_pfmlrw&list=PL1w8k37X_6L-UQSn0c4DJJmbLb2DzDBkx&index=20)"
   ]
  }
 ],
 "metadata": {
  "kernelspec": {
   "display_name": "Python 3",
   "language": "python",
   "name": "python3"
  },
  "language_info": {
   "codemirror_mode": {
    "name": "ipython",
    "version": 3
   },
   "file_extension": ".py",
   "mimetype": "text/x-python",
   "name": "python",
   "nbconvert_exporter": "python",
   "pygments_lexer": "ipython3",
   "version": "3.8.5"
  }
 },
 "nbformat": 4,
 "nbformat_minor": 4
}
