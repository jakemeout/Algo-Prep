{
 "cells": [
  {
   "cell_type": "code",
   "execution_count": null,
   "metadata": {},
   "outputs": [],
   "source": [
    "class Solution:\n",
    "    def freqAlphabets(self, s: str) -> str:\n",
    "        # construct decoder dict d\n",
    "        decoder = {}\n",
    "        for i, char in zip(range(1,10),'abcdefghi'):\n",
    "            decoder[str(i)] = char\n",
    "        for i, char in zip(range(10,27),'jklmnopqrstuvwxyz'):\n",
    "            decoder[str(i)+'#'] = char\n",
    "        # decompose string as a list of codes from right to left   \n",
    "        lst = []\n",
    "        p = len(s) - 1\n",
    "        while p >= 0:\n",
    "            if s[p] == '#':\n",
    "                lst.append(s[p-2:p+1])\n",
    "                p = p - 3\n",
    "            else:\n",
    "                lst.append(s[p])\n",
    "                p = p - 1\n",
    "        # decode string\n",
    "        out = ''\n",
    "        for code in lst[::-1]: # codes from left to right\n",
    "            out += decoder[code]\n",
    "        return out"
   ]
  },
  {
   "cell_type": "markdown",
   "metadata": {},
   "source": [
    "# Reference\n",
    "\n",
    "[1309. Decrypt String from Alphabet to Integer Mapping](https://leetcode.com/problems/decrypt-string-from-alphabet-to-integer-mapping/)\n",
    "\n",
    "[Decrypt String from Alphabet to Integer Mapping (Leetcode 1309)](https://www.youtube.com/watch?v=eiqMLJxti2U&list=PL_lPC-CADCvSRKTJcAxtkJEGuP87K3E2J&index=2)"
   ]
  }
 ],
 "metadata": {
  "kernelspec": {
   "display_name": "Python 3",
   "language": "python",
   "name": "python3"
  },
  "language_info": {
   "codemirror_mode": {
    "name": "ipython",
    "version": 3
   },
   "file_extension": ".py",
   "mimetype": "text/x-python",
   "name": "python",
   "nbconvert_exporter": "python",
   "pygments_lexer": "ipython3",
   "version": "3.8.5"
  }
 },
 "nbformat": 4,
 "nbformat_minor": 4
}
