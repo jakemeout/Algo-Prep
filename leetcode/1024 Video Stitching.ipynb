{
 "cells": [
  {
   "cell_type": "code",
   "execution_count": 5,
   "metadata": {},
   "outputs": [],
   "source": [
    "class Solution:\n",
    "    def videoStitching(self, clips, time):\n",
    "        \"\"\"\n",
    "        :type clips: List[List[int]]\n",
    "        :type time: int\n",
    "        :rtype: int\n",
    "        \"\"\"\n",
    "        # list cover\n",
    "        # key : index\n",
    "        # value : max of i+r, where the left i-r of [i-r,i+r] is index\n",
    "        cover = [i for i in range(time+1)] \n",
    "        for i, (left, right) in enumerate(clips):\n",
    "            #print(i, left, right)\n",
    "            left, right = max(left,0), min(right,time)\n",
    "            try:\n",
    "                cover[left] = max(cover[left], right) \n",
    "            except IndexError:\n",
    "                pass\n",
    "            \n",
    "        ans = 0\n",
    "        l, r = 0, cover[0]\n",
    "        while True:\n",
    "            ans += 1\n",
    "            if r >= time: \n",
    "                return ans\n",
    "            \n",
    "            r_new = max(cover[l:r+1])\n",
    "            if r == r_new: \n",
    "                return -1\n",
    "            l, r = r, r_new"
   ]
  },
  {
   "cell_type": "markdown",
   "metadata": {},
   "source": [
    "# Reference\n",
    "\n",
    "[1024. Video Stitching](https://leetcode.com/problems/video-stitching/)\n",
    "\n",
    "[1326. Minimum Number of Taps to Open to Water a Garden](https://leetcode.com/problems/minimum-number-of-taps-to-open-to-water-a-garden/)\n",
    "\n",
    "[[LeetCode] 1326. Minimum Number of Taps to Open to Water a Garden](https://www.youtube.com/watch?v=C-JlG52DQOs&list=PL-OC--HdIAXPzvuBbuI4e_MFYpzFnA6yR&index=34)"
   ]
  }
 ],
 "metadata": {
  "kernelspec": {
   "display_name": "Python 3",
   "language": "python",
   "name": "python3"
  },
  "language_info": {
   "codemirror_mode": {
    "name": "ipython",
    "version": 3
   },
   "file_extension": ".py",
   "mimetype": "text/x-python",
   "name": "python",
   "nbconvert_exporter": "python",
   "pygments_lexer": "ipython3",
   "version": "3.8.5"
  }
 },
 "nbformat": 4,
 "nbformat_minor": 4
}
