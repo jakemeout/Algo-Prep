{
 "cells": [
  {
   "cell_type": "code",
   "execution_count": null,
   "metadata": {},
   "outputs": [],
   "source": [
    "# Definition for singly-linked list.\n",
    "class ListNode:\n",
    "    def __init__(self, val=0, next=None):\n",
    "        self.val = val\n",
    "        self.next = next"
   ]
  },
  {
   "cell_type": "code",
   "execution_count": null,
   "metadata": {},
   "outputs": [],
   "source": [
    "class Solution:\n",
    "    def deleteDuplicates(self, head: ListNode) -> ListNode:\n",
    "        node = head\n",
    "        if (node.next is None): return head\n",
    "        node_next = node.next\n",
    "        if (node_next.next is None): \n",
    "        \n",
    "        while (node.next is not None) and (node_next.next is not None): "
   ]
  },
  {
   "cell_type": "code",
   "execution_count": null,
   "metadata": {},
   "outputs": [],
   "source": [
    "# head = [1,1,2]\n",
    "b = ListNode(val=2, next=None)\n",
    "a = ListNode(val=1, next=b)\n",
    "head = ListNode(val=1, next=a)\n",
    "\n",
    "head = Solution().deleteDuplicates(head)\n",
    "node = head\n",
    "while node.val is not None:\n",
    "    print(node.val, end='\\t')\n",
    "    node = node.next"
   ]
  },
  {
   "cell_type": "code",
   "execution_count": null,
   "metadata": {},
   "outputs": [],
   "source": [
    "# head = [1,1,2,3,3]\n",
    "d = ListNode(val=3, next=None)\n",
    "c = ListNode(val=3, next=d)\n",
    "b = ListNode(val=2, next=c)\n",
    "a = ListNode(val=1, next=b)\n",
    "head = ListNode(val=1, next=a)\n",
    "\n",
    "head = Solution().deleteDuplicates(head)\n",
    "node = head\n",
    "while node.val is not None:\n",
    "    print(node.val, end='\\t')\n",
    "    node = node.next"
   ]
  },
  {
   "cell_type": "code",
   "execution_count": null,
   "metadata": {},
   "outputs": [],
   "source": []
  }
 ],
 "metadata": {
  "kernelspec": {
   "display_name": "Python 3",
   "language": "python",
   "name": "python3"
  },
  "language_info": {
   "codemirror_mode": {
    "name": "ipython",
    "version": 3
   },
   "file_extension": ".py",
   "mimetype": "text/x-python",
   "name": "python",
   "nbconvert_exporter": "python",
   "pygments_lexer": "ipython3",
   "version": "3.8.5"
  }
 },
 "nbformat": 4,
 "nbformat_minor": 4
}
