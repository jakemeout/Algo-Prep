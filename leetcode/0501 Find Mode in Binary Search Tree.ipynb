{
 "cells": [
  {
   "cell_type": "code",
   "execution_count": null,
   "metadata": {},
   "outputs": [],
   "source": [
    "# Definition for a binary tree node.\n",
    "class TreeNode:\n",
    "    def __init__(self, val=0, left=None, right=None):\n",
    "        self.val = val\n",
    "        self.left = left\n",
    "        self.right = right"
   ]
  },
  {
   "cell_type": "code",
   "execution_count": null,
   "metadata": {},
   "outputs": [],
   "source": [
    "class Solution:\n",
    "    def findMode(self, root):\n",
    "        self.d = {}\n",
    "        self.inorderTraversal(root)\n",
    "        max_freq = max([val for val in self.d.values()])\n",
    "        return [key for key, value in self.d.items() if value == max_freq]\n",
    "    def inorderTraversal(self, root):\n",
    "        # base cases\n",
    "        if root is None:\n",
    "            return \n",
    "        if root.left is None and root.right is None:\n",
    "            if root.val in self.d:\n",
    "                self.d[root.val] += 1\n",
    "            else:\n",
    "                self.d[root.val] = 1\n",
    "            return \n",
    "        # recursion steps\n",
    "        self.inorderTraversal(root.left)\n",
    "        if root.val in self.d:\n",
    "            self.d[root.val] += 1\n",
    "        else:\n",
    "            self.d[root.val] = 1\n",
    "        self.inorderTraversal(root.right)\n",
    "        return "
   ]
  },
  {
   "cell_type": "markdown",
   "metadata": {},
   "source": [
    "# Reference\n",
    "\n",
    "[501. Find Mode in Binary Search Tree](https://leetcode.com/problems/find-mode-in-binary-search-tree/)"
   ]
  },
  {
   "cell_type": "code",
   "execution_count": null,
   "metadata": {},
   "outputs": [],
   "source": []
  },
  {
   "cell_type": "code",
   "execution_count": null,
   "metadata": {},
   "outputs": [],
   "source": []
  }
 ],
 "metadata": {
  "kernelspec": {
   "display_name": "Python 3",
   "language": "python",
   "name": "python3"
  },
  "language_info": {
   "codemirror_mode": {
    "name": "ipython",
    "version": 3
   },
   "file_extension": ".py",
   "mimetype": "text/x-python",
   "name": "python",
   "nbconvert_exporter": "python",
   "pygments_lexer": "ipython3",
   "version": "3.8.5"
  }
 },
 "nbformat": 4,
 "nbformat_minor": 4
}
