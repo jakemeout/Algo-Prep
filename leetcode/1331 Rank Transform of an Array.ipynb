{
 "cells": [
  {
   "cell_type": "code",
   "execution_count": null,
   "metadata": {},
   "outputs": [],
   "source": [
    "class Solution:\n",
    "    def arrayRankTransform(self, arr):\n",
    "        # sort num in arr\n",
    "        lst = list(set(arr))\n",
    "        lst.sort()\n",
    "        \n",
    "        # give rank for each num in arr\n",
    "        d = {}\n",
    "        for rank, num in enumerate(lst, start=1):\n",
    "            d[num] = rank\n",
    "            \n",
    "        # record rank for each num in arr \n",
    "        for idx, num in enumerate(arr):\n",
    "            arr[idx] = d[num]\n",
    "        return arr"
   ]
  },
  {
   "cell_type": "markdown",
   "metadata": {},
   "source": [
    "# Reference\n",
    "\n",
    "[1331. Rank Transform of an Array](https://leetcode.com/problems/rank-transform-of-an-array/)\n",
    "\n",
    "[[LeetCode] 1331. Rank Transform of an Array](https://www.youtube.com/watch?v=9HbSAjJfG6g&list=PL-OC--HdIAXPzvuBbuI4e_MFYpzFnA6yR&index=33)"
   ]
  }
 ],
 "metadata": {
  "kernelspec": {
   "display_name": "Python 3",
   "language": "python",
   "name": "python3"
  },
  "language_info": {
   "codemirror_mode": {
    "name": "ipython",
    "version": 3
   },
   "file_extension": ".py",
   "mimetype": "text/x-python",
   "name": "python",
   "nbconvert_exporter": "python",
   "pygments_lexer": "ipython3",
   "version": "3.8.5"
  }
 },
 "nbformat": 4,
 "nbformat_minor": 4
}
