{
 "cells": [
  {
   "cell_type": "code",
   "execution_count": null,
   "metadata": {},
   "outputs": [],
   "source": [
    "class Solution:\n",
    "    def isMonotonic(self, nums):\n",
    "        return self.isMonotonicIncreasing(nums) or self.isMonotonicDecreasing(nums)\n",
    "    def isMonotonicIncreasing(self, nums):\n",
    "        # base cases\n",
    "        if len(nums) <= 1:\n",
    "            return True\n",
    "        # recursion\n",
    "        left, right = nums[:len(nums)//2], nums[len(nums)//2:] \n",
    "        if self.isMonotonicIncreasing(left):\n",
    "            if self.isMonotonicIncreasing(right):\n",
    "                return left[-1] <= right[0]\n",
    "        return False\n",
    "    def isMonotonicDecreasing(self, nums):\n",
    "        # base cases\n",
    "        if len(nums) <= 1:\n",
    "            return True\n",
    "        # recursion\n",
    "        left, right = nums[:len(nums)//2], nums[len(nums)//2:] \n",
    "        if self.isMonotonicDecreasing(left):\n",
    "            if self.isMonotonicDecreasing(right):\n",
    "                return left[-1] >= right[0]\n",
    "        return False"
   ]
  },
  {
   "cell_type": "markdown",
   "metadata": {},
   "source": [
    "# Reference\n",
    "\n",
    "[896. Monotonic Array](https://leetcode.com/problems/monotonic-array/)"
   ]
  }
 ],
 "metadata": {
  "kernelspec": {
   "display_name": "Python 3",
   "language": "python",
   "name": "python3"
  },
  "language_info": {
   "codemirror_mode": {
    "name": "ipython",
    "version": 3
   },
   "file_extension": ".py",
   "mimetype": "text/x-python",
   "name": "python",
   "nbconvert_exporter": "python",
   "pygments_lexer": "ipython3",
   "version": "3.8.5"
  }
 },
 "nbformat": 4,
 "nbformat_minor": 4
}
