{
 "cells": [
  {
   "cell_type": "code",
   "execution_count": null,
   "metadata": {},
   "outputs": [],
   "source": [
    "class Solution:\n",
    "    def sumOfUnique(self, nums):\n",
    "        # construct counter_dict\n",
    "        counter_dict = {}\n",
    "        for num in nums:\n",
    "            if num in counter_dict:\n",
    "                counter_dict[num] += 1\n",
    "            else:\n",
    "                counter_dict[num] = 1\n",
    "        # construct out\n",
    "        out = 0\n",
    "        for num in nums:\n",
    "            if counter_dict[num] == 1:\n",
    "                out += num\n",
    "        return out                "
   ]
  },
  {
   "cell_type": "markdown",
   "metadata": {},
   "source": [
    "# Reference\n",
    "\n",
    "[1748. Sum of Unique Elements](https://leetcode.com/problems/sum-of-unique-elements/)"
   ]
  }
 ],
 "metadata": {
  "kernelspec": {
   "display_name": "Python 3",
   "language": "python",
   "name": "python3"
  },
  "language_info": {
   "codemirror_mode": {
    "name": "ipython",
    "version": 3
   },
   "file_extension": ".py",
   "mimetype": "text/x-python",
   "name": "python",
   "nbconvert_exporter": "python",
   "pygments_lexer": "ipython3",
   "version": "3.8.5"
  }
 },
 "nbformat": 4,
 "nbformat_minor": 4
}
