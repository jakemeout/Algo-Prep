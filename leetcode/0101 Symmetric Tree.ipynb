{
 "cells": [
  {
   "cell_type": "code",
   "execution_count": null,
   "metadata": {},
   "outputs": [],
   "source": [
    "# Definition for a binary tree node.\n",
    "class TreeNode:\n",
    "    def __init__(self, val=0, left=None, right=None):\n",
    "        self.val = val\n",
    "        self.left = left\n",
    "        self.right = right"
   ]
  },
  {
   "cell_type": "code",
   "execution_count": null,
   "metadata": {},
   "outputs": [],
   "source": [
    "class Solution:\n",
    "    def isSymmetric(self, root: TreeNode) -> bool:\n",
    "        # base cases\n",
    "        if root is None:\n",
    "            return True\n",
    "        # recursion step\n",
    "        return self.isSymmetricHelper(root.left, root.right)\n",
    "    def isSymmetricHelper(self, left_root, right_root):\n",
    "        # base cases\n",
    "        if left_root is None and right_root is None:\n",
    "            return True\n",
    "        elif left_root is not None and right_root is None:\n",
    "            return False\n",
    "        elif right_root is not None and left_root is None:\n",
    "            return False\n",
    "        # recursion steps\n",
    "        if left_root.val == right_root.val:\n",
    "            far_bool = self.isSymmetricHelper(left_root.left, right_root.right)\n",
    "            near_bool = self.isSymmetricHelper(left_root.right, right_root.left)\n",
    "            return far_bool and near_bool \n",
    "        return False"
   ]
  },
  {
   "cell_type": "markdown",
   "metadata": {},
   "source": [
    "# Reference\n",
    "\n",
    "[101. Symmetric Tree](https://leetcode.com/problems/symmetric-tree/)\n",
    "\n",
    "[LeetCode #101: Symmetric Tree | Amazon Coding Interview](https://www.youtube.com/watch?v=CS3c0oz9d44)"
   ]
  },
  {
   "cell_type": "code",
   "execution_count": null,
   "metadata": {},
   "outputs": [],
   "source": []
  }
 ],
 "metadata": {
  "kernelspec": {
   "display_name": "Python 3",
   "language": "python",
   "name": "python3"
  },
  "language_info": {
   "codemirror_mode": {
    "name": "ipython",
    "version": 3
   },
   "file_extension": ".py",
   "mimetype": "text/x-python",
   "name": "python",
   "nbconvert_exporter": "python",
   "pygments_lexer": "ipython3",
   "version": "3.8.5"
  }
 },
 "nbformat": 4,
 "nbformat_minor": 4
}
