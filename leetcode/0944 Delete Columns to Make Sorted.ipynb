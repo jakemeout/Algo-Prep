{
 "cells": [
  {
   "cell_type": "code",
   "execution_count": 9,
   "metadata": {},
   "outputs": [],
   "source": [
    "class Solution:\n",
    "    def minDeletionSize(self, strs):\n",
    "        lst = [''] * len(strs[0])\n",
    "        for string in strs:\n",
    "            for idx, s in enumerate(string):\n",
    "                lst[idx] += s\n",
    "        #print(lst)\n",
    "        out = 0\n",
    "        for s in lst:\n",
    "            #print(s, ''.join(sorted(s)), s != ''.join(sorted(s)))\n",
    "            if s != ''.join(sorted(s)):\n",
    "                out += 1\n",
    "        return out"
   ]
  },
  {
   "cell_type": "code",
   "execution_count": 10,
   "metadata": {},
   "outputs": [
    {
     "data": {
      "text/plain": [
       "1"
      ]
     },
     "execution_count": 10,
     "metadata": {},
     "output_type": "execute_result"
    }
   ],
   "source": [
    "strs = [\"cba\",\"daf\",\"ghi\"]\n",
    "Solution().minDeletionSize(strs)"
   ]
  },
  {
   "cell_type": "markdown",
   "metadata": {},
   "source": [
    "# Reference\n",
    "\n",
    "[944. Delete Columns to Make Sorted](https://leetcode.com/problems/delete-columns-to-make-sorted/)"
   ]
  }
 ],
 "metadata": {
  "kernelspec": {
   "display_name": "Python 3",
   "language": "python",
   "name": "python3"
  },
  "language_info": {
   "codemirror_mode": {
    "name": "ipython",
    "version": 3
   },
   "file_extension": ".py",
   "mimetype": "text/x-python",
   "name": "python",
   "nbconvert_exporter": "python",
   "pygments_lexer": "ipython3",
   "version": "3.8.5"
  }
 },
 "nbformat": 4,
 "nbformat_minor": 4
}
