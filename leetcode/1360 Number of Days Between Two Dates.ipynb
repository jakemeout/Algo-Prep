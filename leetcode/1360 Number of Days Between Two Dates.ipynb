{
 "cells": [
  {
   "cell_type": "code",
   "execution_count": 17,
   "metadata": {},
   "outputs": [],
   "source": [
    "class Solution:\n",
    "    def daysBetweenDates(self, date1: str, date2: str) -> int:\n",
    "        self.leap = lambda x: (x % 400 == 0) or (x % 100 and x % 4 == 0)\n",
    "        self.days = [31,28,31,30,31,30,31,31,30,31,30,31]\n",
    "        return abs(self.c(date1) - self.c(date2))\n",
    "    def c(self, date):\n",
    "        \"\"\"\n",
    "        count days from Jan 1, 1971\n",
    "        \"\"\"\n",
    "        y, m, d = map(int, date.split('-'))\n",
    "        x = 365 * (y - 1971) + sum(map(self.leap, range(1971, y)))\n",
    "        return x + sum(self.days[:m-1]) + d + (m > 2 and self.leap(y))"
   ]
  },
  {
   "cell_type": "code",
   "execution_count": 18,
   "metadata": {},
   "outputs": [
    {
     "data": {
      "text/plain": [
       "15"
      ]
     },
     "execution_count": 18,
     "metadata": {},
     "output_type": "execute_result"
    }
   ],
   "source": [
    "date1 = \"2019-12-31\"\n",
    "date2 = \"2020-01-15\"\n",
    "Solution().daysBetweenDates(date1, date2) # 15"
   ]
  },
  {
   "cell_type": "markdown",
   "metadata": {},
   "source": [
    "# Reference\n",
    "\n",
    "[1360. Number of Days Between Two Dates](https://leetcode.com/problems/number-of-days-between-two-dates/)\n",
    "\n",
    "[[Python3] No Formula Simple Solution](https://leetcode.com/problems/number-of-days-between-two-dates/discuss/1055234/Python3-No-Formula-Simple-Solution)"
   ]
  }
 ],
 "metadata": {
  "kernelspec": {
   "display_name": "Python 3",
   "language": "python",
   "name": "python3"
  },
  "language_info": {
   "codemirror_mode": {
    "name": "ipython",
    "version": 3
   },
   "file_extension": ".py",
   "mimetype": "text/x-python",
   "name": "python",
   "nbconvert_exporter": "python",
   "pygments_lexer": "ipython3",
   "version": "3.8.5"
  }
 },
 "nbformat": 4,
 "nbformat_minor": 4
}
