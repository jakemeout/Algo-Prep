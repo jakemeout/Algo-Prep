{
 "cells": [
  {
   "cell_type": "code",
   "execution_count": 18,
   "metadata": {},
   "outputs": [],
   "source": [
    "class Solution:\n",
    "    def mostCommonWord(self, p, banned):\n",
    "        # initial cleaning\n",
    "        clean_up_lst = [\n",
    "            '!','@','#','$','%','^','&','*','(',')','_','+',\n",
    "            '1','2','3','4','5','6','7','8','9','0','-','=',\n",
    "            '{','}','|','[',']','\\\\',\n",
    "            ':','\"',';',\"'\",\n",
    "            '<','>','?',',','.','/'\n",
    "        ]\n",
    "        for i in clean_up_lst:\n",
    "            p = p.replace(i,' ')\n",
    "        p = p.lower()\n",
    "        lst = p.split()\n",
    "        # construct counter dict d\n",
    "        d = {}\n",
    "        for word in lst:\n",
    "            if (word in d):\n",
    "                d[word] += 1\n",
    "            elif (word not in d) and (word not in banned):\n",
    "                d[word] = 1\n",
    "        # compute max_count\n",
    "        max_count = max(d.values())\n",
    "        # return most common word\n",
    "        for key, value in d.items():\n",
    "            if value == max_count:\n",
    "                return key           "
   ]
  },
  {
   "cell_type": "markdown",
   "metadata": {},
   "source": [
    "# Reference\n",
    "\n",
    "[819. Most Common Word](https://leetcode.com/problems/most-common-word/)"
   ]
  }
 ],
 "metadata": {
  "kernelspec": {
   "display_name": "Python 3",
   "language": "python",
   "name": "python3"
  },
  "language_info": {
   "codemirror_mode": {
    "name": "ipython",
    "version": 3
   },
   "file_extension": ".py",
   "mimetype": "text/x-python",
   "name": "python",
   "nbconvert_exporter": "python",
   "pygments_lexer": "ipython3",
   "version": "3.8.5"
  }
 },
 "nbformat": 4,
 "nbformat_minor": 4
}
