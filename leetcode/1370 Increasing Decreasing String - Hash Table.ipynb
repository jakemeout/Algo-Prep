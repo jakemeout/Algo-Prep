{
 "cells": [
  {
   "cell_type": "code",
   "execution_count": null,
   "metadata": {},
   "outputs": [],
   "source": [
    "class Solution:\n",
    "    def sortString(self, s: str) -> str:\n",
    "        # construct counter dict d\n",
    "        d = {}\n",
    "        for char in s:\n",
    "            if char in d:\n",
    "                d[char] += 1\n",
    "            else:\n",
    "                d[char] = 1\n",
    "        # construct out\n",
    "        out = ''\n",
    "        while len(d) != 0:\n",
    "            # increasing alphabet append\n",
    "            for char in sorted(''.join(list(d.keys()))):\n",
    "                out += char\n",
    "                d[char] -= 1\n",
    "                if d[char] == 0: \n",
    "                    del d[char]   \n",
    "            # decreasing alphabet append\n",
    "            for char in sorted(''.join(list(d.keys())))[::-1]:\n",
    "                out += char\n",
    "                d[char] -= 1\n",
    "                if d[char] == 0: \n",
    "                    del d[char] \n",
    "        return out"
   ]
  },
  {
   "cell_type": "markdown",
   "metadata": {},
   "source": [
    "# Reference\n",
    "\n",
    "[1370. Increasing Decreasing String](https://leetcode.com/problems/increasing-decreasing-string/)"
   ]
  },
  {
   "cell_type": "code",
   "execution_count": null,
   "metadata": {},
   "outputs": [],
   "source": []
  }
 ],
 "metadata": {
  "kernelspec": {
   "display_name": "Python 3",
   "language": "python",
   "name": "python3"
  },
  "language_info": {
   "codemirror_mode": {
    "name": "ipython",
    "version": 3
   },
   "file_extension": ".py",
   "mimetype": "text/x-python",
   "name": "python",
   "nbconvert_exporter": "python",
   "pygments_lexer": "ipython3",
   "version": "3.8.5"
  }
 },
 "nbformat": 4,
 "nbformat_minor": 4
}
