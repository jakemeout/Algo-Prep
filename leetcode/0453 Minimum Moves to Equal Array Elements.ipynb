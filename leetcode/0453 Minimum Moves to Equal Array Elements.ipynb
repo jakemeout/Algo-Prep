{
 "cells": [
  {
   "cell_type": "code",
   "execution_count": null,
   "metadata": {},
   "outputs": [],
   "source": [
    "class Solution:\n",
    "    def minMoves(self, nums):\n",
    "        import numpy as np\n",
    "        nums = np.array(nums)\n",
    "        counter = 0\n",
    "        while True:\n",
    "            max_, min_ = nums.max(), nums.min()\n",
    "            if max_ == min_:\n",
    "                return counter\n",
    "            idx_max = np.argmax(nums)\n",
    "            nums = nums + (max_-min_)\n",
    "            nums[idx_max] = max_\n",
    "            counter += (max_-min_) "
   ]
  },
  {
   "cell_type": "code",
   "execution_count": 2,
   "metadata": {},
   "outputs": [
    {
     "data": {
      "text/plain": [
       "2"
      ]
     },
     "execution_count": 2,
     "metadata": {},
     "output_type": "execute_result"
    }
   ],
   "source": [
    "import numpy as np\n",
    "a = np.array([1,2,3,1,2,3])\n",
    "np.argmax(a)"
   ]
  },
  {
   "cell_type": "markdown",
   "metadata": {},
   "source": [
    "# Reference\n",
    "\n",
    "[453. Minimum Moves to Equal Array Elements](https://leetcode.com/problems/minimum-moves-to-equal-array-elements/)\n",
    "\n",
    "[453 Minimum Moves to Equal Array Elements](https://www.youtube.com/watch?v=bI0xhSXJiDw)"
   ]
  }
 ],
 "metadata": {
  "kernelspec": {
   "display_name": "Python 3",
   "language": "python",
   "name": "python3"
  },
  "language_info": {
   "codemirror_mode": {
    "name": "ipython",
    "version": 3
   },
   "file_extension": ".py",
   "mimetype": "text/x-python",
   "name": "python",
   "nbconvert_exporter": "python",
   "pygments_lexer": "ipython3",
   "version": "3.8.5"
  }
 },
 "nbformat": 4,
 "nbformat_minor": 4
}
