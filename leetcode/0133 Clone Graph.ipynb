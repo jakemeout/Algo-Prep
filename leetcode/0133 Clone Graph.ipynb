{
 "cells": [
  {
   "cell_type": "code",
   "execution_count": null,
   "metadata": {},
   "outputs": [],
   "source": [
    "class Node:\n",
    "    def __init__(self, val=0, neighbors=None):\n",
    "        self.val = val\n",
    "        self.neighbors = neighbors if neighbors is not None else []"
   ]
  },
  {
   "cell_type": "code",
   "execution_count": null,
   "metadata": {},
   "outputs": [],
   "source": [
    "class Solution:\n",
    "    def cloneGraph(self, root): \n",
    "        if not root:\n",
    "            return root\n",
    "        stack = [root] # originals\n",
    "        memo = {root: Node(root.val)} # copied nodes\n",
    "        while stack:\n",
    "            cur = stack.pop()\n",
    "            for neighbor in cur.neighbors:\n",
    "                if neighbor not in memo:\n",
    "                    stack.append(neighbor)\n",
    "                    memo[neighbor] = Node(neighbor.val)\n",
    "                memo[cur].neighbors.append(memo[neighbor])\n",
    "        return memo[root]"
   ]
  },
  {
   "cell_type": "markdown",
   "metadata": {},
   "source": [
    "# Reference\n",
    "\n",
    "[133. Clone Graph](https://leetcode.com/problems/clone-graph/)\n",
    "\n",
    "[Python solutions (BFS, DFS iteratively, DFS recursively).](https://leetcode.com/problems/clone-graph/discuss/42314/Python-solutions-(BFS-DFS-iteratively-DFS-recursively).)\n",
    "\n",
    "[LeetCode #133: Clone Graph | Facebook Coding Interview | Amazon Coding Interview](https://www.youtube.com/watch?v=S931KMpiKmQ)"
   ]
  }
 ],
 "metadata": {
  "kernelspec": {
   "display_name": "Python 3",
   "language": "python",
   "name": "python3"
  },
  "language_info": {
   "codemirror_mode": {
    "name": "ipython",
    "version": 3
   },
   "file_extension": ".py",
   "mimetype": "text/x-python",
   "name": "python",
   "nbconvert_exporter": "python",
   "pygments_lexer": "ipython3",
   "version": "3.8.5"
  }
 },
 "nbformat": 4,
 "nbformat_minor": 4
}
