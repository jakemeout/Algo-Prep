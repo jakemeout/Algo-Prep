{
 "cells": [
  {
   "cell_type": "code",
   "execution_count": 23,
   "metadata": {},
   "outputs": [],
   "source": [
    "class Solution:\n",
    "    def firstMissingPositive(self, lst):\n",
    "        self.lst = lst\n",
    "        self.n = len(lst)\n",
    "        # move numbers 1,2,3,...,len(lst) in lst \n",
    "        # to theirs right index positions 1-1,2-1,3-1,...,len(lst)-1\n",
    "        # all other numbers in lst can stay or move\n",
    "        for idx1, num in enumerate(self.lst):\n",
    "            while self.check(num):\n",
    "                idx2 = self.index(num)\n",
    "                if (idx1 != idx2) and (lst[idx1] != lst[idx2]):\n",
    "                    num = self.swap(idx1, idx2)\n",
    "                else:\n",
    "                    break\n",
    "        # from left of lst to right\n",
    "        # check whether num from lst is in right index position\n",
    "        # if find num in wrong position for the first time, \n",
    "        # report its index(idx1) + 1\n",
    "        # ortherwise, report len(lst)(self.n) + 1\n",
    "        for idx1, num in enumerate(self.lst):\n",
    "            if num != idx1 + 1:\n",
    "                return idx1 + 1\n",
    "        return self.n + 1 \n",
    "    def check(self, num):\n",
    "        return (num >= 1) and (num <= self.n)\n",
    "    def index(self, num):\n",
    "        return num - 1\n",
    "    def swap(self, idx1, idx2):\n",
    "        self.lst[idx1], self.lst[idx2] = self.lst[idx2], self.lst[idx1]\n",
    "        return self.lst[idx1]"
   ]
  },
  {
   "cell_type": "code",
   "execution_count": 24,
   "metadata": {},
   "outputs": [
    {
     "data": {
      "text/plain": [
       "2"
      ]
     },
     "execution_count": 24,
     "metadata": {},
     "output_type": "execute_result"
    }
   ],
   "source": [
    "lst = [1,1]\n",
    "Solution().firstMissingPositive(lst) # 2"
   ]
  },
  {
   "cell_type": "code",
   "execution_count": 18,
   "metadata": {},
   "outputs": [
    {
     "data": {
      "text/plain": [
       "3"
      ]
     },
     "execution_count": 18,
     "metadata": {},
     "output_type": "execute_result"
    }
   ],
   "source": [
    "lst = [1,2,0]\n",
    "Solution().firstMissingPositive(lst) # 3"
   ]
  },
  {
   "cell_type": "code",
   "execution_count": 19,
   "metadata": {},
   "outputs": [
    {
     "data": {
      "text/plain": [
       "2"
      ]
     },
     "execution_count": 19,
     "metadata": {},
     "output_type": "execute_result"
    }
   ],
   "source": [
    "lst = [3,4,-1,1]\n",
    "Solution().firstMissingPositive(lst) # 2"
   ]
  },
  {
   "cell_type": "code",
   "execution_count": 20,
   "metadata": {},
   "outputs": [
    {
     "data": {
      "text/plain": [
       "1"
      ]
     },
     "execution_count": 20,
     "metadata": {},
     "output_type": "execute_result"
    }
   ],
   "source": [
    "lst = [7,8,9,11,12]\n",
    "Solution().firstMissingPositive(lst) # 1"
   ]
  },
  {
   "cell_type": "markdown",
   "metadata": {},
   "source": [
    "# Reference\n",
    "\n",
    "[41. First Missing Positive](https://leetcode.com/problems/first-missing-positive/)\n",
    "\n",
    "[Find the First Missing Positive Int | Hard Interview Question on LeetCode](https://www.youtube.com/watch?v=P9OSkJOVf6U)\n",
    "\n",
    "[First Missing Int, faster than 100%! (C++ remake)](https://www.youtube.com/watch?v=hnV0IhnEqH4)"
   ]
  },
  {
   "cell_type": "code",
   "execution_count": null,
   "metadata": {},
   "outputs": [],
   "source": []
  }
 ],
 "metadata": {
  "kernelspec": {
   "display_name": "Python 3",
   "language": "python",
   "name": "python3"
  },
  "language_info": {
   "codemirror_mode": {
    "name": "ipython",
    "version": 3
   },
   "file_extension": ".py",
   "mimetype": "text/x-python",
   "name": "python",
   "nbconvert_exporter": "python",
   "pygments_lexer": "ipython3",
   "version": "3.8.5"
  }
 },
 "nbformat": 4,
 "nbformat_minor": 4
}
