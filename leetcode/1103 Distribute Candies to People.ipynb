{
 "cells": [
  {
   "cell_type": "code",
   "execution_count": 1,
   "metadata": {},
   "outputs": [],
   "source": [
    "class Solution:\n",
    "    def distributeCandies(self, candies: int, num_people: int):\n",
    "        out = [0] * num_people\n",
    "        # find max k that candies can be distributed to n people k times \n",
    "        k = 1\n",
    "        while self.numberCandiesComplete(num_people, k) <= candies:\n",
    "            k += 1\n",
    "        k -= 1\n",
    "        # complete distribution round\n",
    "        out[0] = num_people*k*(k-1)//2 + k\n",
    "        for i in range(1,num_people):            \n",
    "            out[i] = out[i-1] + k\n",
    "        candies_left = candies - sum(out)\n",
    "        # incomplete distribution round\n",
    "        for i in range(num_people):\n",
    "            candies_to_give = (i+1) + num_people*k\n",
    "            out[i] = out[i] + min(candies_left, candies_to_give)\n",
    "            candies_left -= min(candies_left, candies_to_give)\n",
    "            if not candies_left:\n",
    "                break \n",
    "        return out\n",
    "    def numberCandiesComplete(self, n, k):\n",
    "        \"\"\"\n",
    "        number of candies needed to give n people k times \n",
    "        \"\"\"\n",
    "        return k*(k-1)*n*n/2 + k*n*(n+1)/2"
   ]
  },
  {
   "cell_type": "code",
   "execution_count": 2,
   "metadata": {},
   "outputs": [
    {
     "data": {
      "text/plain": [
       "[1, 2, 3, 1]"
      ]
     },
     "execution_count": 2,
     "metadata": {},
     "output_type": "execute_result"
    }
   ],
   "source": [
    "candies = 7\n",
    "num_people = 4\n",
    "Solution().distributeCandies(candies, num_people)"
   ]
  },
  {
   "cell_type": "markdown",
   "metadata": {},
   "source": [
    "# Reference\n",
    "\n",
    "[1103. Distribute Candies to People](https://leetcode.com/problems/distribute-candies-to-people/)"
   ]
  }
 ],
 "metadata": {
  "kernelspec": {
   "display_name": "Python 3",
   "language": "python",
   "name": "python3"
  },
  "language_info": {
   "codemirror_mode": {
    "name": "ipython",
    "version": 3
   },
   "file_extension": ".py",
   "mimetype": "text/x-python",
   "name": "python",
   "nbconvert_exporter": "python",
   "pygments_lexer": "ipython3",
   "version": "3.8.5"
  }
 },
 "nbformat": 4,
 "nbformat_minor": 4
}
