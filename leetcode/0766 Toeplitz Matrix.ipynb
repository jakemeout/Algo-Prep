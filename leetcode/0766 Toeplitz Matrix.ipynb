{
 "cells": [
  {
   "cell_type": "code",
   "execution_count": null,
   "metadata": {},
   "outputs": [],
   "source": [
    "class Solution:\n",
    "    def isToeplitzMatrix(self, matrix):\n",
    "        import numpy as np\n",
    "        A = np.array(matrix)\n",
    "        n, m = A.shape\n",
    "        for i in range(-n+1,m):\n",
    "            diag = np.diag(A, k=i)\n",
    "            if not self.isIdentical(diag): return False\n",
    "        return True\n",
    "    def isIdentical(self, np_array):\n",
    "        n, = np_array.shape\n",
    "        if n == 1: return True\n",
    "        head = np_array[0]\n",
    "        for i in range(1,n):\n",
    "            if head != np_array[i]: return False\n",
    "        return True"
   ]
  },
  {
   "cell_type": "markdown",
   "metadata": {},
   "source": [
    "# Reference\n",
    "\n",
    "[766. Toeplitz Matrix](https://leetcode.com/problems/toeplitz-matrix/)"
   ]
  },
  {
   "cell_type": "code",
   "execution_count": null,
   "metadata": {},
   "outputs": [],
   "source": []
  }
 ],
 "metadata": {
  "kernelspec": {
   "display_name": "Python 3",
   "language": "python",
   "name": "python3"
  },
  "language_info": {
   "codemirror_mode": {
    "name": "ipython",
    "version": 3
   },
   "file_extension": ".py",
   "mimetype": "text/x-python",
   "name": "python",
   "nbconvert_exporter": "python",
   "pygments_lexer": "ipython3",
   "version": "3.8.5"
  }
 },
 "nbformat": 4,
 "nbformat_minor": 4
}
