{
 "cells": [
  {
   "cell_type": "code",
   "execution_count": 1,
   "metadata": {},
   "outputs": [],
   "source": [
    "# Definition for a binary tree node.\n",
    "class TreeNode:\n",
    "    def __init__(self, val=0, left=None, right=None):\n",
    "        self.val = val\n",
    "        self.left = left\n",
    "        self.right = right"
   ]
  },
  {
   "cell_type": "code",
   "execution_count": 12,
   "metadata": {},
   "outputs": [],
   "source": [
    "class Solution:\n",
    "    def rangeSumBST(self, root: TreeNode, low: int, high: int) -> int:\n",
    "        self.low, self.high = low, high\n",
    "        self.rangeSum = 0\n",
    "        self.inorderTraversal(root)\n",
    "        return self.rangeSum\n",
    "    def inorderTraversal(self, node):\n",
    "        if node:\n",
    "            if self.low <= node.val <= self.high:\n",
    "                self.rangeSum += node.val\n",
    "            if node.val > self.low:\n",
    "                self.inorderTraversal(node.left)\n",
    "            if node.val < self.high:\n",
    "                self.inorderTraversal(node.right)"
   ]
  },
  {
   "cell_type": "code",
   "execution_count": 13,
   "metadata": {},
   "outputs": [
    {
     "data": {
      "text/plain": [
       "32"
      ]
     },
     "execution_count": 13,
     "metadata": {},
     "output_type": "execute_result"
    }
   ],
   "source": [
    "# second generation\n",
    "v3 = TreeNode(3)\n",
    "v7 = TreeNode(7)\n",
    "v18 = TreeNode(18)\n",
    "# first generation\n",
    "v5 = TreeNode(5,v3,v7)\n",
    "v15 = TreeNode(15,None,v18)\n",
    "# root\n",
    "root = TreeNode(10,v5,v15)\n",
    "# problem\n",
    "low = 7\n",
    "high = 15\n",
    "Solution().rangeSumBST(root, low, high)"
   ]
  },
  {
   "cell_type": "markdown",
   "metadata": {},
   "source": [
    "# Reference\n",
    "\n",
    "[938. Range Sum of BST](https://leetcode.com/problems/range-sum-of-bst/)"
   ]
  },
  {
   "cell_type": "code",
   "execution_count": null,
   "metadata": {},
   "outputs": [],
   "source": []
  }
 ],
 "metadata": {
  "kernelspec": {
   "display_name": "Python 3",
   "language": "python",
   "name": "python3"
  },
  "language_info": {
   "codemirror_mode": {
    "name": "ipython",
    "version": 3
   },
   "file_extension": ".py",
   "mimetype": "text/x-python",
   "name": "python",
   "nbconvert_exporter": "python",
   "pygments_lexer": "ipython3",
   "version": "3.8.5"
  }
 },
 "nbformat": 4,
 "nbformat_minor": 4
}
