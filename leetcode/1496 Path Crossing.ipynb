{
 "cells": [
  {
   "cell_type": "code",
   "execution_count": null,
   "metadata": {},
   "outputs": [],
   "source": [
    "class Solution:\n",
    "    def isPathCrossing(self, path: str) -> bool:\n",
    "        S = set()\n",
    "        cur = (0,0)\n",
    "        S.add(cur)\n",
    "        for direction in path:\n",
    "            d = self.coordinate(direction)\n",
    "            cur = self.add(cur, d)\n",
    "            if cur in S:\n",
    "                return True\n",
    "            S.add(cur)\n",
    "        return False\n",
    "    def coordinate(self, direction):\n",
    "        if direction == 'N':\n",
    "            return (0,1)\n",
    "        if direction == 'E':\n",
    "            return (1,0)\n",
    "        if direction == 'W':\n",
    "            return (-1,0)\n",
    "        if direction == 'S':\n",
    "            return (0,-1)\n",
    "    def add(self, a, b):\n",
    "        x = a[0] + b[0]\n",
    "        y = a[1] + b[1]\n",
    "        return (x, y)"
   ]
  },
  {
   "cell_type": "markdown",
   "metadata": {},
   "source": [
    "# Reference\n",
    "\n",
    "[1496. Path Crossing](https://leetcode.com/problems/path-crossing/)"
   ]
  }
 ],
 "metadata": {
  "kernelspec": {
   "display_name": "Python 3",
   "language": "python",
   "name": "python3"
  },
  "language_info": {
   "codemirror_mode": {
    "name": "ipython",
    "version": 3
   },
   "file_extension": ".py",
   "mimetype": "text/x-python",
   "name": "python",
   "nbconvert_exporter": "python",
   "pygments_lexer": "ipython3",
   "version": "3.8.5"
  }
 },
 "nbformat": 4,
 "nbformat_minor": 4
}
