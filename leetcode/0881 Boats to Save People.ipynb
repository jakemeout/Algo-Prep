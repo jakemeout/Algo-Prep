{
 "cells": [
  {
   "cell_type": "code",
   "execution_count": 3,
   "metadata": {},
   "outputs": [],
   "source": [
    "class Solution:\n",
    "    def numRescueBoats(self, people, limit) -> int:\n",
    "        ans = 0\n",
    "        people.sort()\n",
    "        l = 0 # left pointer pointing light person\n",
    "        r = len(people) - 1 # right pointer pointing heavy person\n",
    "        while l < r:\n",
    "            ans += 1\n",
    "            if people[l] + people[r] <= limit:\n",
    "                l += 1\n",
    "                r -= 1\n",
    "            else:\n",
    "                r -= 1\n",
    "        if l == r:\n",
    "            ans += 1\n",
    "        return ans"
   ]
  },
  {
   "cell_type": "code",
   "execution_count": 4,
   "metadata": {},
   "outputs": [
    {
     "data": {
      "text/plain": [
       "3"
      ]
     },
     "execution_count": 4,
     "metadata": {},
     "output_type": "execute_result"
    }
   ],
   "source": [
    "people = [3,2,2,1]\n",
    "limit = 3\n",
    "Solution().numRescueBoats(people, limit)"
   ]
  },
  {
   "cell_type": "markdown",
   "metadata": {},
   "source": [
    "# Reference\n",
    "\n",
    "[881. Boats to Save People](https://leetcode.com/problems/boats-to-save-people/)\n",
    "\n",
    "[Boats to Save People | LeetCode 881 | C++, Java, Python](https://www.youtube.com/watch?v=MTStYiAJrKk)"
   ]
  }
 ],
 "metadata": {
  "kernelspec": {
   "display_name": "Python 3",
   "language": "python",
   "name": "python3"
  },
  "language_info": {
   "codemirror_mode": {
    "name": "ipython",
    "version": 3
   },
   "file_extension": ".py",
   "mimetype": "text/x-python",
   "name": "python",
   "nbconvert_exporter": "python",
   "pygments_lexer": "ipython3",
   "version": "3.8.5"
  }
 },
 "nbformat": 4,
 "nbformat_minor": 4
}
