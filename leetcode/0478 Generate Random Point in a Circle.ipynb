{
 "cells": [
  {
   "cell_type": "code",
   "execution_count": null,
   "metadata": {},
   "outputs": [],
   "source": [
    "class Solution:\n",
    "    def __init__(self, radius, x_center, y_center):\n",
    "        self.r = radius\n",
    "        self.x = x_center\n",
    "        self.y = y_center\n",
    "    def randPoint(self):\n",
    "        import numpy as np\n",
    "        x_l, x_r = self.x - self.r, self.x + self.r\n",
    "        y_l, y_r = self.y - self.r, self.y + self.r \n",
    "        while True:\n",
    "            x = np.random.uniform(x_l,x_r)\n",
    "            y = np.random.uniform(y_l,y_r)\n",
    "            if (x-self.x)*(x-self.x) + (y-self.y)*(y-self.y) < self.r*self.r:\n",
    "                return [x,y]"
   ]
  },
  {
   "cell_type": "markdown",
   "metadata": {},
   "source": [
    "# Reference\n",
    "\n",
    "[478. Generate Random Point in a Circle](https://leetcode.com/problems/generate-random-point-in-a-circle/)"
   ]
  }
 ],
 "metadata": {
  "kernelspec": {
   "display_name": "Python 3",
   "language": "python",
   "name": "python3"
  },
  "language_info": {
   "codemirror_mode": {
    "name": "ipython",
    "version": 3
   },
   "file_extension": ".py",
   "mimetype": "text/x-python",
   "name": "python",
   "nbconvert_exporter": "python",
   "pygments_lexer": "ipython3",
   "version": "3.8.5"
  }
 },
 "nbformat": 4,
 "nbformat_minor": 4
}
