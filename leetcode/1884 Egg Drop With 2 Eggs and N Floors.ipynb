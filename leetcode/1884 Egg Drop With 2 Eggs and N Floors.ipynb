{
 "cells": [
  {
   "cell_type": "code",
   "execution_count": null,
   "id": "expressed-eleven",
   "metadata": {},
   "outputs": [],
   "source": [
    "from math import sqrt, ceil\n",
    "class Solution:\n",
    "    def twoEggDrop(self, n: int) -> int:\n",
    "        a = 1\n",
    "        b = 1\n",
    "        c = - 2 * n\n",
    "        x = (- b + sqrt(b*b - 4*a*c)) / (2*a)\n",
    "        return ceil(x)"
   ]
  },
  {
   "cell_type": "markdown",
   "id": "welsh-cornwall",
   "metadata": {},
   "source": [
    "# Reference\n",
    "\n",
    "[1884. Egg Drop With 2 Eggs and N Floors](https://leetcode.com/problems/egg-drop-with-2-eggs-and-n-floors/)\n",
    "\n",
    "[Simple Math Problem with intuition explained O(1) time O(1) space | Python](https://leetcode.com/problems/egg-drop-with-2-eggs-and-n-floors/discuss/1248560/Simple-Math-Problem-with-intuition-explained-O(1)-time-O(1)-space-or-Python)"
   ]
  }
 ],
 "metadata": {
  "kernelspec": {
   "display_name": "Python 3",
   "language": "python",
   "name": "python3"
  },
  "language_info": {
   "codemirror_mode": {
    "name": "ipython",
    "version": 3
   },
   "file_extension": ".py",
   "mimetype": "text/x-python",
   "name": "python",
   "nbconvert_exporter": "python",
   "pygments_lexer": "ipython3",
   "version": "3.7.10"
  }
 },
 "nbformat": 4,
 "nbformat_minor": 5
}
