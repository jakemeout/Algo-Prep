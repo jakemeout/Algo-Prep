{
 "cells": [
  {
   "cell_type": "code",
   "execution_count": null,
   "metadata": {},
   "outputs": [],
   "source": [
    "class Solution:\n",
    "    def diagonalSum(self, mat):\n",
    "        import numpy as np\n",
    "        A = np.array(mat)\n",
    "        a = np.sum(np.diag(A))\n",
    "        B = np.flipud(A)\n",
    "        b = np.sum(np.diag(B))\n",
    "        n = A.shape[0]\n",
    "        if n%2 == 0:\n",
    "            c = 0\n",
    "        else:\n",
    "            c = B[n//2,n//2]   \n",
    "        return a + b - c"
   ]
  },
  {
   "cell_type": "markdown",
   "metadata": {},
   "source": [
    "# Reference\n",
    "\n",
    "[1572. Matrix Diagonal Sum](https://leetcode.com/problems/matrix-diagonal-sum/)"
   ]
  }
 ],
 "metadata": {
  "kernelspec": {
   "display_name": "Python 3",
   "language": "python",
   "name": "python3"
  },
  "language_info": {
   "codemirror_mode": {
    "name": "ipython",
    "version": 3
   },
   "file_extension": ".py",
   "mimetype": "text/x-python",
   "name": "python",
   "nbconvert_exporter": "python",
   "pygments_lexer": "ipython3",
   "version": "3.8.5"
  }
 },
 "nbformat": 4,
 "nbformat_minor": 4
}
