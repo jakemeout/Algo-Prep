{
 "cells": [
  {
   "cell_type": "code",
   "execution_count": 21,
   "metadata": {},
   "outputs": [],
   "source": [
    "class Solution:\n",
    "    def maxScore(self, s: str) -> int:\n",
    "        # edge case\n",
    "        if len(s) == 2:\n",
    "            return (s[0]=='0') + (s[1]=='1')\n",
    "        # general case\n",
    "        for idx, i in enumerate(range(1,len(s))):\n",
    "            # initialize\n",
    "            if idx == 0:\n",
    "                left, right = s[:i], s[i:]\n",
    "                if left[0] == '0':\n",
    "                    left_sum = 1\n",
    "                else:\n",
    "                    left_sum = 0\n",
    "                right_sum = sum([1 for item in list(right) if item == '1'])\n",
    "                cur = left_sum + right_sum  \n",
    "                max_so_far = cur\n",
    "                #print(cur, max_so_far)\n",
    "            # update\n",
    "            else:\n",
    "                moving_part_from_right_to_left = s[i-1]\n",
    "                if moving_part_from_right_to_left == '0':\n",
    "                    cur += 1\n",
    "                    max_so_far = max(max_so_far, cur)\n",
    "                    #print(cur, max_so_far)\n",
    "                else:\n",
    "                    cur -= 1\n",
    "                    #print(cur, max_so_far)\n",
    "        return max_so_far"
   ]
  },
  {
   "cell_type": "code",
   "execution_count": 22,
   "metadata": {},
   "outputs": [
    {
     "data": {
      "text/plain": [
       "4"
      ]
     },
     "execution_count": 22,
     "metadata": {},
     "output_type": "execute_result"
    }
   ],
   "source": [
    "s = \"01001\"\n",
    "Solution().maxScore(s) # 4"
   ]
  },
  {
   "cell_type": "markdown",
   "metadata": {},
   "source": [
    "# Reference\n",
    "\n",
    "[1422. Maximum Score After Splitting a String](https://leetcode.com/problems/maximum-score-after-splitting-a-string/)"
   ]
  }
 ],
 "metadata": {
  "kernelspec": {
   "display_name": "Python 3",
   "language": "python",
   "name": "python3"
  },
  "language_info": {
   "codemirror_mode": {
    "name": "ipython",
    "version": 3
   },
   "file_extension": ".py",
   "mimetype": "text/x-python",
   "name": "python",
   "nbconvert_exporter": "python",
   "pygments_lexer": "ipython3",
   "version": "3.8.5"
  }
 },
 "nbformat": 4,
 "nbformat_minor": 4
}
