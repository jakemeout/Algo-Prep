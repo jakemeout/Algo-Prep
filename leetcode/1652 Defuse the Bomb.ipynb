{
 "cells": [
  {
   "cell_type": "code",
   "execution_count": 7,
   "metadata": {},
   "outputs": [],
   "source": [
    "class Solution:\n",
    "    def decrypt(self, code, k):\n",
    "        if k == 0:\n",
    "            return [0] * len(code)\n",
    "        import numpy as np\n",
    "        code = np.array(code)\n",
    "        self.n = len(code)\n",
    "        self.copy = np.concatenate([code.copy(),code.copy(),code.copy()],axis=0)\n",
    "        out = np.zeros_like(code, dtype=np.int64)\n",
    "        if k > 0:\n",
    "            for i in range(1,k+1):\n",
    "                out += self.rotate(i)\n",
    "        if k < 0:\n",
    "            for i in range(-1,k-1,-1):\n",
    "                out += self.rotate(i)\n",
    "        return out\n",
    "    def rotate(self, i):\n",
    "        return self.copy[self.n+i:self.n+i+self.n]"
   ]
  },
  {
   "cell_type": "code",
   "execution_count": 8,
   "metadata": {},
   "outputs": [
    {
     "data": {
      "text/plain": [
       "array([12, 10, 16, 13])"
      ]
     },
     "execution_count": 8,
     "metadata": {},
     "output_type": "execute_result"
    }
   ],
   "source": [
    "code = [5,7,1,4]\n",
    "k = 3\n",
    "Solution().decrypt(code, k) # [12,10,16,13]"
   ]
  },
  {
   "cell_type": "markdown",
   "metadata": {},
   "source": [
    "# Reference\n",
    "\n",
    "[1652. Defuse the Bomb](https://leetcode.com/problems/defuse-the-bomb/)"
   ]
  }
 ],
 "metadata": {
  "kernelspec": {
   "display_name": "Python 3",
   "language": "python",
   "name": "python3"
  },
  "language_info": {
   "codemirror_mode": {
    "name": "ipython",
    "version": 3
   },
   "file_extension": ".py",
   "mimetype": "text/x-python",
   "name": "python",
   "nbconvert_exporter": "python",
   "pygments_lexer": "ipython3",
   "version": "3.8.5"
  }
 },
 "nbformat": 4,
 "nbformat_minor": 4
}
