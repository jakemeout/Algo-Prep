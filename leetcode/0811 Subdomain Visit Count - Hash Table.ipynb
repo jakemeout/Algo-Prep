{
 "cells": [
  {
   "cell_type": "code",
   "execution_count": 30,
   "metadata": {},
   "outputs": [],
   "source": [
    "class Solution:\n",
    "    def subdomainVisits(self, cpdomains):\n",
    "        # construct counter dict d\n",
    "        d = {}\n",
    "        for cpdomain in cpdomains:\n",
    "            c, domain = cpdomain.split()\n",
    "            c = int(c)\n",
    "            domain_list = domain.split('.')\n",
    "            lst = [domain]\n",
    "            for i in range(len(domain_list)-1): # i is dropping index\n",
    "                lst.append('.'.join(domain_list[i+1:]))\n",
    "            for address in lst:\n",
    "                if address in d:\n",
    "                    d[address] += c\n",
    "                else:\n",
    "                    d[address] = c\n",
    "        # construct out\n",
    "        out = []\n",
    "        for address, counter in d.items():\n",
    "            out.append(str(counter) + ' ' + address)\n",
    "        return out"
   ]
  },
  {
   "cell_type": "code",
   "execution_count": 31,
   "metadata": {},
   "outputs": [
    {
     "data": {
      "text/plain": [
       "['9001 discuss.leetcode.com', '9001 leetcode.com', '9001 com']"
      ]
     },
     "execution_count": 31,
     "metadata": {},
     "output_type": "execute_result"
    }
   ],
   "source": [
    "cpdomains = [\"9001 discuss.leetcode.com\"]\n",
    "Solution().subdomainVisits(cpdomains)"
   ]
  },
  {
   "cell_type": "markdown",
   "metadata": {},
   "source": [
    "# Reference\n",
    "\n",
    "[811. Subdomain Visit Count](https://leetcode.com/problems/subdomain-visit-count/)"
   ]
  }
 ],
 "metadata": {
  "kernelspec": {
   "display_name": "Python 3",
   "language": "python",
   "name": "python3"
  },
  "language_info": {
   "codemirror_mode": {
    "name": "ipython",
    "version": 3
   },
   "file_extension": ".py",
   "mimetype": "text/x-python",
   "name": "python",
   "nbconvert_exporter": "python",
   "pygments_lexer": "ipython3",
   "version": "3.8.5"
  }
 },
 "nbformat": 4,
 "nbformat_minor": 4
}
