{
 "cells": [
  {
   "cell_type": "code",
   "execution_count": null,
   "metadata": {},
   "outputs": [],
   "source": [
    "class Solution:\n",
    "    def numUniqueEmails(self, emails: List[str]) -> int:\n",
    "        for idx, email in enumerate(emails):\n",
    "            emails[idx] = self.clear(email)\n",
    "        return len(list(set(emails)))\n",
    "    def clear(self, email):\n",
    "        local, domain = email.split('@')\n",
    "        local = local.replace('.','')\n",
    "        for idx, s in enumerate(local):\n",
    "            if s == '+':\n",
    "                local = local[:idx]\n",
    "                break\n",
    "        return local + '@' + domain"
   ]
  },
  {
   "cell_type": "markdown",
   "metadata": {},
   "source": [
    "# Reference\n",
    "\n",
    "[929. Unique Email Addresses](https://leetcode.com/problems/unique-email-addresses/)"
   ]
  }
 ],
 "metadata": {
  "kernelspec": {
   "display_name": "Python 3",
   "language": "python",
   "name": "python3"
  },
  "language_info": {
   "codemirror_mode": {
    "name": "ipython",
    "version": 3
   },
   "file_extension": ".py",
   "mimetype": "text/x-python",
   "name": "python",
   "nbconvert_exporter": "python",
   "pygments_lexer": "ipython3",
   "version": "3.8.5"
  }
 },
 "nbformat": 4,
 "nbformat_minor": 4
}
