{
 "cells": [
  {
   "cell_type": "code",
   "execution_count": null,
   "metadata": {},
   "outputs": [],
   "source": [
    "class Solution:\n",
    "    def deckRevealedIncreasing(self, deck):\n",
    "        deck = sorted(deck)\n",
    "        len_deck = len(deck)\n",
    "        from collections import deque\n",
    "        ans = deque()\n",
    "        \n",
    "        # from ans to deck (sorted array)\n",
    "        # out : card = ans.popleft(), deck.append(card)\n",
    "        # down : card = ans.popleft(), ans.append(card)\n",
    "        # o -> d -> o -> d ... -> o \n",
    "        \n",
    "        # from deck (sorted array) to ans\n",
    "        # in : card = deck.pop(), ans.appendleft(card) - reverse op of out\n",
    "        # up : card = ans.pop(), ans.appendleft(card) - reverse op of down \n",
    "        # i -> u -> i -> u ... -> i\n",
    "        \n",
    "        while len(ans) < len_deck:\n",
    "            card = deck.pop()    # in : card = deck.pop(), ans.appendleft(card)\n",
    "            ans.appendleft(card) # in : card = deck.pop(), ans.appendleft(card)\n",
    "            card = ans.pop()     # up : card = ans.pop(), ans.appendleft(card) \n",
    "            ans.appendleft(card) # up : card = ans.pop(), ans.appendleft(card) \n",
    "        card = ans.popleft() # last up step should be cancelled\n",
    "        ans.append(card)     # last up step should be cancelled\n",
    "        return ans"
   ]
  },
  {
   "cell_type": "markdown",
   "metadata": {},
   "source": [
    "# Reference\n",
    "\n",
    "[950. Reveal Cards In Increasing Order](https://leetcode.com/problems/reveal-cards-in-increasing-order/)\n",
    "\n",
    "[Reveal Cards In Increasing Order (Leetcode 950)](https://www.youtube.com/watch?v=17hn4bnoOD0)"
   ]
  }
 ],
 "metadata": {
  "kernelspec": {
   "display_name": "Python 3",
   "language": "python",
   "name": "python3"
  },
  "language_info": {
   "codemirror_mode": {
    "name": "ipython",
    "version": 3
   },
   "file_extension": ".py",
   "mimetype": "text/x-python",
   "name": "python",
   "nbconvert_exporter": "python",
   "pygments_lexer": "ipython3",
   "version": "3.8.5"
  }
 },
 "nbformat": 4,
 "nbformat_minor": 4
}
