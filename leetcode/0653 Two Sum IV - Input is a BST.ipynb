{
 "cells": [
  {
   "cell_type": "code",
   "execution_count": null,
   "metadata": {},
   "outputs": [],
   "source": [
    "# Definition for a binary tree node.\n",
    "class TreeNode:\n",
    "    def __init__(self, val=0, left=None, right=None):\n",
    "        self.val = val\n",
    "        self.left = left\n",
    "        self.right = right"
   ]
  },
  {
   "cell_type": "code",
   "execution_count": null,
   "metadata": {},
   "outputs": [],
   "source": [
    "class Solution:\n",
    "    def findTarget(self, root: TreeNode, k: int) -> bool:\n",
    "        self.d = set()\n",
    "        self.target = k\n",
    "        return self.inorderTraversal(root)\n",
    "    def inorderTraversal(self, root):\n",
    "        # base cases\n",
    "        if root is None:\n",
    "            return False\n",
    "        if root.left is None and root.right is None:\n",
    "            if root.val not in self.d:\n",
    "                self.d.add(self.target-root.val)\n",
    "                return False\n",
    "            else:\n",
    "                return True\n",
    "        # recursion steps\n",
    "        if root.left is not None:\n",
    "            left = self.inorderTraversal(root.left)\n",
    "        else:\n",
    "            left = False\n",
    "        if root.val not in self.d:\n",
    "            self.d.add(self.target-root.val)\n",
    "            center = False\n",
    "        else:\n",
    "            center = True  \n",
    "        if root.right is not None:\n",
    "            right = self.inorderTraversal(root.right)\n",
    "        else:\n",
    "            right = False\n",
    "        return left or center or right"
   ]
  },
  {
   "cell_type": "markdown",
   "metadata": {},
   "source": [
    "# Reference\n",
    "\n",
    "[653. Two Sum IV - Input is a BST](https://leetcode.com/problems/two-sum-iv-input-is-a-bst/)"
   ]
  }
 ],
 "metadata": {
  "kernelspec": {
   "display_name": "Python 3",
   "language": "python",
   "name": "python3"
  },
  "language_info": {
   "codemirror_mode": {
    "name": "ipython",
    "version": 3
   },
   "file_extension": ".py",
   "mimetype": "text/x-python",
   "name": "python",
   "nbconvert_exporter": "python",
   "pygments_lexer": "ipython3",
   "version": "3.8.5"
  }
 },
 "nbformat": 4,
 "nbformat_minor": 4
}
