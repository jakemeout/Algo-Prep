{
 "cells": [
  {
   "cell_type": "code",
   "execution_count": null,
   "metadata": {},
   "outputs": [],
   "source": [
    "class Solution:\n",
    "    def rangeSum(self, nums, n: int, left: int, right: int) -> int:\n",
    "        # compute cumulative sum\n",
    "        cum_sum = [None] * n \n",
    "        for idx, num in enumerate(nums):\n",
    "            if idx != 0:\n",
    "                cum_sum[idx] = nums[idx] + cum_sum[idx-1]\n",
    "            else: # if idx == 0\n",
    "                cum_sum[idx] = nums[idx]\n",
    "        # copy cum_sum to lst\n",
    "        lst = []\n",
    "        lst.extend(cum_sum)\n",
    "        # now choose two numbers a < b from the cumulative sum \n",
    "        # compute b-a and append to lst\n",
    "        from itertools import combinations\n",
    "        for a, b in combinations(cum_sum, 2):\n",
    "            lst.append(b-a)\n",
    "        # sort lst\n",
    "        lst.sort()\n",
    "        #print(lst)\n",
    "        # sum from left to right\n",
    "        ans = 0\n",
    "        # Return the sum of the numbers from index left to index right (indexed from 1), inclusive\n",
    "        # Since the answer can be a huge number return it modulo 10^9 + 7.\n",
    "        modulo = 10**9 + 7\n",
    "        for i in range(left-1,right):\n",
    "            tmp = lst[i] % modulo\n",
    "            ans += tmp\n",
    "            ans = ans % modulo\n",
    "        return ans"
   ]
  },
  {
   "cell_type": "code",
   "execution_count": 9,
   "metadata": {},
   "outputs": [
    {
     "data": {
      "text/plain": [
       "13"
      ]
     },
     "execution_count": 9,
     "metadata": {},
     "output_type": "execute_result"
    }
   ],
   "source": [
    "nums = [1,2,3,4]\n",
    "n = 4\n",
    "left = 1\n",
    "right = 5\n",
    "Solution().rangeSum(nums, n, left, right) # 13"
   ]
  },
  {
   "cell_type": "markdown",
   "metadata": {},
   "source": [
    "# Reference\n",
    "\n",
    "[1508. Range Sum of Sorted Subarray Sums](https://leetcode.com/problems/range-sum-of-sorted-subarray-sums/)\n",
    "\n",
    "[Range Sum of Sorted Subarray Sums (Leetcode 1508)](https://www.youtube.com/watch?v=9pgqLoe-TrA)"
   ]
  },
  {
   "cell_type": "code",
   "execution_count": null,
   "metadata": {},
   "outputs": [],
   "source": []
  }
 ],
 "metadata": {
  "kernelspec": {
   "display_name": "Python 3",
   "language": "python",
   "name": "python3"
  },
  "language_info": {
   "codemirror_mode": {
    "name": "ipython",
    "version": 3
   },
   "file_extension": ".py",
   "mimetype": "text/x-python",
   "name": "python",
   "nbconvert_exporter": "python",
   "pygments_lexer": "ipython3",
   "version": "3.8.5"
  }
 },
 "nbformat": 4,
 "nbformat_minor": 4
}
