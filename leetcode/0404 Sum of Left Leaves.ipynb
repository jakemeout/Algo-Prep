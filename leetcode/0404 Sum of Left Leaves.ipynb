{
 "cells": [
  {
   "cell_type": "code",
   "execution_count": 1,
   "metadata": {},
   "outputs": [],
   "source": [
    "# Definition for a binary tree node.\n",
    "class TreeNode:\n",
    "    def __init__(self, val=0, left=None, right=None):\n",
    "        self.val = val\n",
    "        self.left = left\n",
    "        self.right = right"
   ]
  },
  {
   "cell_type": "markdown",
   "metadata": {},
   "source": [
    "<div align=\"center\"><img src=\"data:image/png;base64,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\" width=\"30%\"></div>\n",
    "\n",
    "[Find the sum of all left leaves in a given binary tree (Data Structure)](https://www.knowsh.com/Notes/250469/Find-The-Sum-Of-All-Left-Leaves-In-A-Given-Binary-Tree)"
   ]
  },
  {
   "cell_type": "code",
   "execution_count": 2,
   "metadata": {},
   "outputs": [],
   "source": [
    "class Solution:\n",
    "    def sumOfLeftLeaves(self, root: TreeNode) -> int:\n",
    "        # root is None\n",
    "        if not root:\n",
    "            return 0\n",
    "        # root is a leave\n",
    "        if not root.left and not root.right:\n",
    "            return 0 \n",
    "        # root.left is a leave\n",
    "        if root.left and not root.left.left and not root.left.right:\n",
    "            return root.left.val + self.sumOfLeftLeaves(root.right)\n",
    "        # root.left is not a leave\n",
    "        return self.sumOfLeftLeaves(root.left) + self.sumOfLeftLeaves(root.right)"
   ]
  },
  {
   "cell_type": "code",
   "execution_count": 3,
   "metadata": {},
   "outputs": [
    {
     "data": {
      "text/plain": [
       "24"
      ]
     },
     "execution_count": 3,
     "metadata": {},
     "output_type": "execute_result"
    }
   ],
   "source": [
    "# [3,9,20,null,null,15,7]\n",
    "v7 = TreeNode(7)\n",
    "v15 = TreeNode(15)\n",
    "v20 = TreeNode(20,v15,v7)\n",
    "v9 = TreeNode(9)\n",
    "root = TreeNode(3,v9,v20)\n",
    "Solution().sumOfLeftLeaves(root) # 24"
   ]
  },
  {
   "cell_type": "markdown",
   "metadata": {},
   "source": [
    "# Reference\n",
    "\n",
    "[404. Sum of Left Leaves](https://leetcode.com/problems/sum-of-left-leaves/)\n",
    "\n",
    "[Sum of Left Leaves | LeetCode 404 | C++, Java, Python](https://www.youtube.com/watch?v=gPj3Fhekys8)\n",
    "\n",
    "[Find the sum of all left leaves in a given binary tree (Data Structure) ](https://www.knowsh.com/Notes/250469/Find-The-Sum-Of-All-Left-Leaves-In-A-Given-Binary-Tree)"
   ]
  },
  {
   "cell_type": "code",
   "execution_count": null,
   "metadata": {},
   "outputs": [],
   "source": []
  }
 ],
 "metadata": {
  "kernelspec": {
   "display_name": "Python 3",
   "language": "python",
   "name": "python3"
  },
  "language_info": {
   "codemirror_mode": {
    "name": "ipython",
    "version": 3
   },
   "file_extension": ".py",
   "mimetype": "text/x-python",
   "name": "python",
   "nbconvert_exporter": "python",
   "pygments_lexer": "ipython3",
   "version": "3.8.5"
  }
 },
 "nbformat": 4,
 "nbformat_minor": 4
}
