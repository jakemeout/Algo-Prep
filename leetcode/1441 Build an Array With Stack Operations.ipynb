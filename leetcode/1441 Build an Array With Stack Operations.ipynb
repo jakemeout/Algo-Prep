{
 "cells": [
  {
   "cell_type": "code",
   "execution_count": null,
   "metadata": {},
   "outputs": [],
   "source": [
    "class Solution:\n",
    "    def buildArray(self, target, n):\n",
    "        out = []\n",
    "        build = []\n",
    "        for i in range(1,n+1):\n",
    "            build.append(i)\n",
    "            out.append('Push')\n",
    "            if i != target[len(build)-1]:\n",
    "                build.pop()\n",
    "                out.append('Pop')\n",
    "            if build == target:\n",
    "                break\n",
    "        return out"
   ]
  },
  {
   "cell_type": "markdown",
   "metadata": {},
   "source": [
    "# Reference\n",
    "\n",
    "[1441. Build an Array With Stack Operations](https://leetcode.com/problems/build-an-array-with-stack-operations/)"
   ]
  }
 ],
 "metadata": {
  "kernelspec": {
   "display_name": "Python 3",
   "language": "python",
   "name": "python3"
  },
  "language_info": {
   "codemirror_mode": {
    "name": "ipython",
    "version": 3
   },
   "file_extension": ".py",
   "mimetype": "text/x-python",
   "name": "python",
   "nbconvert_exporter": "python",
   "pygments_lexer": "ipython3",
   "version": "3.8.5"
  }
 },
 "nbformat": 4,
 "nbformat_minor": 4
}
