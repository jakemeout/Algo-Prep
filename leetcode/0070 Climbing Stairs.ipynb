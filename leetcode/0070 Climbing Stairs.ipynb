{
 "cells": [
  {
   "cell_type": "code",
   "execution_count": null,
   "metadata": {},
   "outputs": [],
   "source": [
    "class Solution:\n",
    "    def climbStairs(self, n: int) -> int:\n",
    "        if n <= 2: return n\n",
    "        n_dict = {1:1,2:2}\n",
    "        for i in range(3,n+1):\n",
    "            n_dict[i] = n_dict[i-2] + n_dict[i-1]\n",
    "        return n_dict[n]        "
   ]
  },
  {
   "cell_type": "markdown",
   "metadata": {},
   "source": [
    "# Reference\n",
    "\n",
    "[70. Climbing Stairs](https://leetcode.com/problems/climbing-stairs/)\n",
    "\n",
    "[Climbing Stairs | LeetCode 70 | C++, Python](https://www.youtube.com/watch?v=AWezsCJDHSk&list=PL1w8k37X_6L-UQSn0c4DJJmbLb2DzDBkx&index=27)"
   ]
  }
 ],
 "metadata": {
  "kernelspec": {
   "display_name": "Python 3",
   "language": "python",
   "name": "python3"
  },
  "language_info": {
   "codemirror_mode": {
    "name": "ipython",
    "version": 3
   },
   "file_extension": ".py",
   "mimetype": "text/x-python",
   "name": "python",
   "nbconvert_exporter": "python",
   "pygments_lexer": "ipython3",
   "version": "3.8.5"
  }
 },
 "nbformat": 4,
 "nbformat_minor": 4
}
