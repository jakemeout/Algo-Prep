{
 "cells": [
  {
   "cell_type": "code",
   "execution_count": null,
   "metadata": {},
   "outputs": [],
   "source": [
    "class Solution:\n",
    "    def relativeSortArray(self, arr1, arr2):\n",
    "        # initialize dict d\n",
    "        # key : num in arrs\n",
    "        # value : list of num which appear in arr1\n",
    "        d = {}\n",
    "        for key in arr2:\n",
    "            d[key] = []\n",
    "        d['extra'] = []\n",
    "        # fill up dict d\n",
    "        for num in arr1:\n",
    "            if num in d:\n",
    "                tmp = d[num]\n",
    "                tmp.append(num)\n",
    "                d[num] = tmp\n",
    "            else:\n",
    "                tmp = d['extra']\n",
    "                tmp.append(num)\n",
    "                d['extra'] = tmp\n",
    "        # finalize out\n",
    "        out = []\n",
    "        for key in arr2:\n",
    "            out += d[key]\n",
    "        extra = d['extra']\n",
    "        extra.sort()\n",
    "        return out + extra"
   ]
  },
  {
   "cell_type": "markdown",
   "metadata": {},
   "source": [
    "# Reference\n",
    "\n",
    "[1122. Relative Sort Array](https://leetcode.com/problems/relative-sort-array/)"
   ]
  }
 ],
 "metadata": {
  "kernelspec": {
   "display_name": "Python 3",
   "language": "python",
   "name": "python3"
  },
  "language_info": {
   "codemirror_mode": {
    "name": "ipython",
    "version": 3
   },
   "file_extension": ".py",
   "mimetype": "text/x-python",
   "name": "python",
   "nbconvert_exporter": "python",
   "pygments_lexer": "ipython3",
   "version": "3.8.5"
  }
 },
 "nbformat": 4,
 "nbformat_minor": 4
}
