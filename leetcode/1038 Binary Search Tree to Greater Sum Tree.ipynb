{
 "cells": [
  {
   "cell_type": "code",
   "execution_count": null,
   "metadata": {},
   "outputs": [],
   "source": [
    "class TreeNode:\n",
    "    def __init__(self, val=0, left=None, right=None):\n",
    "        self.val = val\n",
    "        self.left = left\n",
    "        self.right = right"
   ]
  },
  {
   "cell_type": "code",
   "execution_count": null,
   "metadata": {},
   "outputs": [],
   "source": [
    "class Solution:\n",
    "    def bstToGst(self, root: TreeNode) -> TreeNode:\n",
    "        accumulation = 0\n",
    "        stack = [ (root, 'init') ]\n",
    "        while stack:\n",
    "            cur_node, cur_state = stack.pop()\n",
    "            if cur_node:\n",
    "                if cur_state == 'cur':\n",
    "                    accumulation += cur_node.val\n",
    "                    cur_node.val = accumulation\n",
    "                else:\n",
    "                    stack.append( (cur_node.left, 'left') )\n",
    "                    stack.append( (cur_node, 'cur') )\n",
    "                    stack.append( (cur_node.right, 'right') )\n",
    "        return root"
   ]
  },
  {
   "cell_type": "markdown",
   "metadata": {},
   "source": [
    "# Reference\n",
    "\n",
    "[1038. Binary Search Tree to Greater Sum Tree](https://leetcode.com/problems/binary-search-tree-to-greater-sum-tree/)\n",
    "\n",
    "[538. Convert BST to Greater Tree](https://leetcode.com/problems/convert-bst-to-greater-tree/)\n",
    "\n",
    "[3 Python O(n) by reversed in-order DFS approach. 75%+ [ With explanation ]](https://leetcode.com/problems/binary-search-tree-to-greater-sum-tree/discuss/507494/3-Python-O(n)-by-reversed-in-order-DFS-approach.-75%2B-With-explanation)"
   ]
  },
  {
   "cell_type": "code",
   "execution_count": null,
   "metadata": {},
   "outputs": [],
   "source": []
  }
 ],
 "metadata": {
  "kernelspec": {
   "display_name": "Python 3",
   "language": "python",
   "name": "python3"
  },
  "language_info": {
   "codemirror_mode": {
    "name": "ipython",
    "version": 3
   },
   "file_extension": ".py",
   "mimetype": "text/x-python",
   "name": "python",
   "nbconvert_exporter": "python",
   "pygments_lexer": "ipython3",
   "version": "3.8.5"
  }
 },
 "nbformat": 4,
 "nbformat_minor": 4
}
