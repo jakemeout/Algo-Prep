{
 "cells": [
  {
   "cell_type": "code",
   "execution_count": null,
   "metadata": {},
   "outputs": [],
   "source": [
    "class Solution:\n",
    "    def buddyStrings(self, a: str, b: str) -> bool:\n",
    "        # trivial case\n",
    "        if len(a) != len(b):\n",
    "            return False\n",
    "        # construct counter, number of indice with a[i] != b[i]\n",
    "        # record corresponding indices\n",
    "        counter = 0\n",
    "        indices_disagree = []\n",
    "        for idx, (char_a, char_b) in enumerate(zip(a,b)):\n",
    "            if char_a != char_b:\n",
    "                counter += 1\n",
    "                indices_disagree.append(idx)\n",
    "                if counter >= 3:\n",
    "                    return False\n",
    "        # counter = 0 case       \n",
    "        if counter == 0:\n",
    "            if len(set(list(a))) < len(a):\n",
    "                return True\n",
    "            return False\n",
    "        # counter = 1 case\n",
    "        if counter == 1:\n",
    "            return False\n",
    "        # counter = 2 case       \n",
    "        if counter == 2:\n",
    "            i1, i2 = indices_disagree\n",
    "            return (a[i1]==b[i2]) and (a[i2]==b[i1])                 "
   ]
  },
  {
   "cell_type": "markdown",
   "metadata": {},
   "source": [
    "# Reference\n",
    "\n",
    "[859. Buddy Strings](https://leetcode.com/problems/buddy-strings/)"
   ]
  }
 ],
 "metadata": {
  "kernelspec": {
   "display_name": "Python 3",
   "language": "python",
   "name": "python3"
  },
  "language_info": {
   "codemirror_mode": {
    "name": "ipython",
    "version": 3
   },
   "file_extension": ".py",
   "mimetype": "text/x-python",
   "name": "python",
   "nbconvert_exporter": "python",
   "pygments_lexer": "ipython3",
   "version": "3.8.5"
  }
 },
 "nbformat": 4,
 "nbformat_minor": 4
}
