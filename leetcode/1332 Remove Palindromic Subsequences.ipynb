{
 "cells": [
  {
   "cell_type": "markdown",
   "metadata": {},
   "source": [
    "# Good to Know\n",
    "You need to know the difference between subarray and subsequence.\n",
    "Subarray need to be consecutive。\n",
    "Subsequence don't have to be consecutive.\n",
    "\n",
    "# Intuition\n",
    "If it's empty sting, return 0;\n",
    "If it's palindrome, return 1;\n",
    "Otherwise, we need at least 2 operation.\n",
    "\n",
    "\n",
    "# Explanation\n",
    "We can delete all characters 'a' in the 1st operation,\n",
    "and then all characters 'b' in the 2nd operation.\n",
    "So return 2 in this case"
   ]
  },
  {
   "cell_type": "code",
   "execution_count": null,
   "metadata": {},
   "outputs": [],
   "source": [
    "class Solution:\n",
    "    def removePalindromeSub(self, s: str) -> int:\n",
    "        if len(s) == 0:\n",
    "            return 0\n",
    "        \n",
    "        if s == s[::-1]:\n",
    "            return 1\n",
    "        \n",
    "        return 2"
   ]
  },
  {
   "cell_type": "code",
   "execution_count": 1,
   "metadata": {},
   "outputs": [
    {
     "data": {
      "text/plain": [
       "{'a', 'b', 'c'}"
      ]
     },
     "execution_count": 1,
     "metadata": {},
     "output_type": "execute_result"
    }
   ],
   "source": [
    "class Solution:\n",
    "    def removePalindromeSub(self, s: str) -> int:\n",
    "        if len(s) == 0:\n",
    "            return 0\n",
    "        \n",
    "        i, j = 0, len(s)-1\n",
    "        while i < j:\n",
    "            if s[i] != s[j]:\n",
    "                return 2\n",
    "            i += 1\n",
    "            j -= 1\n",
    "        return 1"
   ]
  },
  {
   "cell_type": "markdown",
   "metadata": {},
   "source": [
    "# Reference\n",
    "\n",
    "[1332. Remove Palindromic Subsequences](https://leetcode.com/problems/remove-palindromic-subsequences/)\n",
    "\n",
    "[[LeetCode] 1332. Remove Palindromic Subsequences (easy)](https://www.youtube.com/watch?v=6CvzjAt9oi0&list=PL-OC--HdIAXPzvuBbuI4e_MFYpzFnA6yR&index=28)"
   ]
  },
  {
   "cell_type": "code",
   "execution_count": null,
   "metadata": {},
   "outputs": [],
   "source": []
  }
 ],
 "metadata": {
  "kernelspec": {
   "display_name": "Python 3",
   "language": "python",
   "name": "python3"
  },
  "language_info": {
   "codemirror_mode": {
    "name": "ipython",
    "version": 3
   },
   "file_extension": ".py",
   "mimetype": "text/x-python",
   "name": "python",
   "nbconvert_exporter": "python",
   "pygments_lexer": "ipython3",
   "version": "3.8.5"
  }
 },
 "nbformat": 4,
 "nbformat_minor": 4
}
