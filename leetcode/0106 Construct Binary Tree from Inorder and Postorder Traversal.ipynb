{
 "cells": [
  {
   "cell_type": "code",
   "execution_count": 1,
   "metadata": {},
   "outputs": [],
   "source": [
    "class TreeNode:\n",
    "    def __init__(self, val=0, left=None, right=None):\n",
    "        self.val = val\n",
    "        self.left = left\n",
    "        self.right = right"
   ]
  },
  {
   "cell_type": "code",
   "execution_count": 6,
   "metadata": {},
   "outputs": [],
   "source": [
    "class Solution:\n",
    "    def buildTree(self, inorder, postorder):\n",
    "        root = TreeNode(postorder[-1]) \n",
    "        if len(inorder) == 1:\n",
    "            return root\n",
    "        \n",
    "        root_idx = inorder.index(root.val)\n",
    "        left, right = None, None\n",
    "        if 0 < root_idx:\n",
    "            inorder_left = inorder[:root_idx]\n",
    "            postorder_left = postorder[:root_idx]\n",
    "            left = self.buildTree(inorder_left, postorder_left)\n",
    "        if root_idx < len(inorder)-1:\n",
    "            inorder_right = inorder[root_idx+1:]\n",
    "            postorder_right = postorder[root_idx:-1]\n",
    "            right = self.buildTree(inorder_right, postorder_right)\n",
    "        root.left = left\n",
    "        root.right = right\n",
    "        return root"
   ]
  },
  {
   "cell_type": "code",
   "execution_count": 7,
   "metadata": {},
   "outputs": [
    {
     "name": "stdout",
     "output_type": "stream",
     "text": [
      "[9, 3, 15, 20, 7] [9, 15, 7, 20, 3] 3\n",
      "1 [9] [9] [15, 20, 7] [15, 7, 20]\n",
      "9\n",
      "[15, 20, 7] [15, 7, 20] 20\n",
      "1 [15] [15] [7] [7]\n",
      "15\n",
      "7\n",
      "20\n"
     ]
    },
    {
     "data": {
      "text/plain": [
       "<__main__.TreeNode at 0x7f85a0236700>"
      ]
     },
     "execution_count": 7,
     "metadata": {},
     "output_type": "execute_result"
    }
   ],
   "source": [
    "inorder = [2,1]\n",
    "postorder = [2,1]\n",
    "Solution().buildTree(inorder, postorder)"
   ]
  },
  {
   "cell_type": "markdown",
   "metadata": {},
   "source": [
    "# Reference\n",
    "\n",
    "[106. Construct Binary Tree from Inorder and Postorder Traversal](https://leetcode.com/problems/construct-binary-tree-from-inorder-and-postorder-traversal/)\n",
    "\n",
    "[Construct Binary Tree from Inorder and Postorder Traversal | LeetCode 106 | C++, Java, Python3](https://www.youtube.com/watch?v=bw0o6v1lQYs&list=PL1w8k37X_6L-E23tn3d6oXLW63pS8-5rm&index=27)"
   ]
  }
 ],
 "metadata": {
  "kernelspec": {
   "display_name": "Python 3",
   "language": "python",
   "name": "python3"
  },
  "language_info": {
   "codemirror_mode": {
    "name": "ipython",
    "version": 3
   },
   "file_extension": ".py",
   "mimetype": "text/x-python",
   "name": "python",
   "nbconvert_exporter": "python",
   "pygments_lexer": "ipython3",
   "version": "3.8.5"
  }
 },
 "nbformat": 4,
 "nbformat_minor": 4
}
