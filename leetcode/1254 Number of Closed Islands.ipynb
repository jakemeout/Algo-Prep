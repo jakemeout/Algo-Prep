{
 "cells": [
  {
   "cell_type": "code",
   "execution_count": 3,
   "metadata": {},
   "outputs": [],
   "source": [
    "class Solution:\n",
    "    def closedIsland(self, grid):\n",
    "        n_island = 0\n",
    "        self.g = grid\n",
    "        m, n = len(grid), len(grid[0])\n",
    "        for i in range(m):\n",
    "            for j in range(n):\n",
    "                if self.g[i][j] == 0:\n",
    "                    flag_closed_island = True\n",
    "                    self.g[i][j] = 1 # flag of visit\n",
    "                    self.stack = [[i,j]]\n",
    "                    while self.stack:\n",
    "                        i0, j0 = self.stack.pop()\n",
    "                        if i0==0 or j0==0 or i0==m-1 or j0==n-1:\n",
    "                            flag_closed_island = False\n",
    "                        # check north\n",
    "                        if j0-1 >= 0:\n",
    "                            self.update(i0,j0-1)\n",
    "                        # check east\n",
    "                        if i0+1 < m:\n",
    "                            self.update(i0+1,j0)\n",
    "                        # check west \n",
    "                        if i0-1 >= 0:\n",
    "                            self.update(i0-1,j0)\n",
    "                        # check south\n",
    "                        if j0+1 < n:\n",
    "                            self.update(i0,j0+1)\n",
    "                    if flag_closed_island:\n",
    "                        n_island += 1     \n",
    "        return n_island\n",
    "    def update(self, i0, j0):\n",
    "        if self.g[i0][j0] == 0:\n",
    "            self.g[i0][j0] = 1 # flag of visit\n",
    "            self.stack.append([i0,j0])"
   ]
  },
  {
   "cell_type": "code",
   "execution_count": 4,
   "metadata": {},
   "outputs": [
    {
     "data": {
      "text/plain": [
       "4"
      ]
     },
     "execution_count": 4,
     "metadata": {},
     "output_type": "execute_result"
    }
   ],
   "source": [
    "grid = [[1,1,0,1,1,1,1,1,1,1],\n",
    "        [0,0,1,0,0,1,0,1,1,1],\n",
    "        [1,0,1,0,0,0,1,0,1,0],\n",
    "        [1,1,1,1,1,0,0,1,0,0],\n",
    "        [1,0,1,0,1,1,1,1,1,0],\n",
    "        [0,0,0,0,1,1,0,0,0,0],\n",
    "        [1,0,1,0,0,0,0,1,1,0],\n",
    "        [1,1,0,0,1,1,0,0,0,0],\n",
    "        [0,0,0,1,1,0,1,1,1,0],\n",
    "        [1,1,0,1,0,1,0,0,1,0]]\n",
    "Solution().closedIsland(grid) # 4"
   ]
  },
  {
   "cell_type": "markdown",
   "metadata": {},
   "source": [
    "# Reference\n",
    "\n",
    "[1254. Number of Closed Islands](https://leetcode.com/problems/number-of-closed-islands/)"
   ]
  }
 ],
 "metadata": {
  "kernelspec": {
   "display_name": "Python 3",
   "language": "python",
   "name": "python3"
  },
  "language_info": {
   "codemirror_mode": {
    "name": "ipython",
    "version": 3
   },
   "file_extension": ".py",
   "mimetype": "text/x-python",
   "name": "python",
   "nbconvert_exporter": "python",
   "pygments_lexer": "ipython3",
   "version": "3.8.5"
  }
 },
 "nbformat": 4,
 "nbformat_minor": 4
}
