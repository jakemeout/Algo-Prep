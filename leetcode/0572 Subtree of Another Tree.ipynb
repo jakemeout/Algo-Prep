{
 "cells": [
  {
   "cell_type": "code",
   "execution_count": 11,
   "metadata": {},
   "outputs": [],
   "source": [
    "# Definition for a binary tree node.\n",
    "class TreeNode:\n",
    "    def __init__(self, val=0, left=None, right=None):\n",
    "        self.val = val\n",
    "        self.left = left\n",
    "        self.right = right"
   ]
  },
  {
   "cell_type": "code",
   "execution_count": 12,
   "metadata": {},
   "outputs": [],
   "source": [
    "# https://leetcode.com/problems/subtree-of-another-tree/discuss/1210653/Python-BFS-Beats-100-time-and-97-space\n",
    "# The idea is simple: \n",
    "# BFS on the main tree to find nodes where the value is equal to the subRoot. \n",
    "# Add these as tempRootCandidates.\n",
    "# Check each candidate using BFS to see if it is truly a subtree of the original tree.\n",
    "class Solution:\n",
    "    def isSubtree(self, root: TreeNode, subRoot: TreeNode) -> bool:\n",
    "        from  collections import deque\n",
    "        \n",
    "        queue1 = deque([root])\n",
    "        queue2 = deque([subRoot])\n",
    "        tempRootCandidates = []\n",
    "\n",
    "        # Walk through tree to find start of subroot\n",
    "        while queue1:\n",
    "            for i in range(len(queue1)):\n",
    "                cur = queue1.popleft()\n",
    "                if cur.val == subRoot.val:\n",
    "                    tempRootCandidates.append(cur)\n",
    "                if cur.left:\n",
    "                    queue1.append(cur.left)\n",
    "                if cur.right:\n",
    "                    queue1.append(cur.right)\n",
    "                    \n",
    "        # Walked through tree and cannot find subRoot\n",
    "        if not tempRootCandidates:\n",
    "            return False\n",
    "        \n",
    "        # Walk through remaining nodes to see if matches subtree\n",
    "        for candidate in tempRootCandidates:\n",
    "            queue1.append(candidate)\n",
    "            found = True\n",
    "            while queue1 and queue2:\n",
    "                for i in range(len(queue1)):\n",
    "                    cur1 = queue1.popleft()\n",
    "                    cur2 = queue2.popleft()\n",
    "\n",
    "                    if cur1.val != cur2.val:\n",
    "                        found = False\n",
    "                        break\n",
    "\n",
    "                    if cur1.left or cur2.left:\n",
    "                        if not cur1.left or not cur2.left:\n",
    "                            found = False\n",
    "                            break\n",
    "                        else:\n",
    "                            queue1.append(cur1.left)\n",
    "                            queue2.append(cur2.left)\n",
    "                    if cur1.right or cur2.right:\n",
    "                        if not cur1.right or not cur2.right:\n",
    "                            found = False\n",
    "                            break\n",
    "                        else:\n",
    "                            queue1.append(cur1.right)\n",
    "                            queue2.append(cur2.right)\n",
    "            if found:\n",
    "                return True\n",
    "        return False"
   ]
  },
  {
   "cell_type": "code",
   "execution_count": 13,
   "metadata": {},
   "outputs": [
    {
     "data": {
      "text/plain": [
       "True"
      ]
     },
     "execution_count": 13,
     "metadata": {},
     "output_type": "execute_result"
    }
   ],
   "source": [
    "#root = [3,4,5,1,2]\n",
    "v2 = TreeNode(2)\n",
    "v1 = TreeNode(1)\n",
    "v5 = TreeNode(5)\n",
    "v4 = TreeNode(4,v1,v2)\n",
    "root = TreeNode(3,v4,v5)\n",
    "#subRoot = [4,1,2]\n",
    "u2 = TreeNode(2)\n",
    "u1 = TreeNode(1)\n",
    "subRoot = TreeNode(4,u1,u2)\n",
    "Solution().isSubtree(root, subRoot)"
   ]
  },
  {
   "cell_type": "markdown",
   "metadata": {},
   "source": [
    "# Reference\n",
    "\n",
    "[572. Subtree of Another Tree](https://leetcode.com/problems/subtree-of-another-tree/)"
   ]
  },
  {
   "cell_type": "code",
   "execution_count": null,
   "metadata": {},
   "outputs": [],
   "source": []
  }
 ],
 "metadata": {
  "kernelspec": {
   "display_name": "Python 3",
   "language": "python",
   "name": "python3"
  },
  "language_info": {
   "codemirror_mode": {
    "name": "ipython",
    "version": 3
   },
   "file_extension": ".py",
   "mimetype": "text/x-python",
   "name": "python",
   "nbconvert_exporter": "python",
   "pygments_lexer": "ipython3",
   "version": "3.8.5"
  }
 },
 "nbformat": 4,
 "nbformat_minor": 4
}
