{
 "cells": [
  {
   "cell_type": "code",
   "execution_count": null,
   "id": "permanent-positive",
   "metadata": {},
   "outputs": [],
   "source": [
    "class Solution:\n",
    "    def rand10(self):\n",
    "        \"\"\"\n",
    "        :rtype: int\n",
    "        \"\"\"\n",
    "        rand40 = 40\n",
    "        while rand40 >= 40:\n",
    "            rand40 = (rand7() - 1) * 7 + rand7() - 1 # this generates 0 ~ 48 with equal probability\n",
    "        return rand40 % 10 + 1"
   ]
  },
  {
   "cell_type": "markdown",
   "id": "native-divide",
   "metadata": {},
   "source": [
    "# Reference\n",
    "\n",
    "[470. Implement Rand10() Using Rand7()](https://leetcode.com/problems/implement-rand10-using-rand7/)\n",
    "\n",
    "[[C++/Java/Python] 1.183 Call of rand7 Per rand10](https://leetcode.com/problems/implement-rand10-using-rand7/discuss/151567/C%2B%2BJavaPython-1.183-Call-of-rand7-Per-rand10)"
   ]
  }
 ],
 "metadata": {
  "kernelspec": {
   "display_name": "Python 3",
   "language": "python",
   "name": "python3"
  },
  "language_info": {
   "codemirror_mode": {
    "name": "ipython",
    "version": 3
   },
   "file_extension": ".py",
   "mimetype": "text/x-python",
   "name": "python",
   "nbconvert_exporter": "python",
   "pygments_lexer": "ipython3",
   "version": "3.7.10"
  }
 },
 "nbformat": 4,
 "nbformat_minor": 5
}
