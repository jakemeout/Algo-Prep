{
 "cells": [
  {
   "cell_type": "markdown",
   "id": "universal-foster",
   "metadata": {},
   "source": [
    "This is essentially the same question as longest common substring.\n",
    "\n",
    "[Python Concise DP](https://leetcode.com/problems/maximum-length-of-repeated-subarray/discuss/109026/Python-Concise-DP)"
   ]
  },
  {
   "cell_type": "code",
   "execution_count": null,
   "id": "judicial-implement",
   "metadata": {},
   "outputs": [],
   "source": [
    "class Solution:\n",
    "    def findLength(self, A, B):\n",
    "        dp = [[0 for _ in range(len(B) + 1)] for _ in range(len(A) + 1)]\n",
    "        for i in range(1, len(A) + 1):\n",
    "            for j in range(1, len(B) + 1):\n",
    "                if A[i - 1] == B[j - 1]:\n",
    "                    dp[i][j] = dp[i - 1][j - 1] + 1\n",
    "        return max(max(row) for row in dp)"
   ]
  },
  {
   "cell_type": "markdown",
   "id": "binary-science",
   "metadata": {},
   "source": [
    "# Reference\n",
    "\n",
    "[718. Maximum Length of Repeated Subarray](https://leetcode.com/problems/maximum-length-of-repeated-subarray/)\n",
    "\n",
    "[Python Concise DP](https://leetcode.com/problems/maximum-length-of-repeated-subarray/discuss/109026/Python-Concise-DP)"
   ]
  }
 ],
 "metadata": {
  "kernelspec": {
   "display_name": "Python 3",
   "language": "python",
   "name": "python3"
  },
  "language_info": {
   "codemirror_mode": {
    "name": "ipython",
    "version": 3
   },
   "file_extension": ".py",
   "mimetype": "text/x-python",
   "name": "python",
   "nbconvert_exporter": "python",
   "pygments_lexer": "ipython3",
   "version": "3.7.10"
  }
 },
 "nbformat": 4,
 "nbformat_minor": 5
}
