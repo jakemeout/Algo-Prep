{
 "cells": [
  {
   "cell_type": "code",
   "execution_count": 13,
   "metadata": {},
   "outputs": [],
   "source": [
    "class Solution:\n",
    "    def shortestCompletingWord(self, licensePlate, words):\n",
    "        lst_licensePlate = [s.lower() for s in licensePlate if not s.isnumeric() and s!=' ']\n",
    "        d_licensePlate = self.constructCounterDict(lst_licensePlate)\n",
    "        # find candidates\n",
    "        candidates = []\n",
    "        for word in words:\n",
    "            d_word = self.constructCounterDict(word)\n",
    "            test_fail = False\n",
    "            for key in d_licensePlate:\n",
    "                if key not in d_word:\n",
    "                    test_fail = True\n",
    "                    break\n",
    "                if d_licensePlate[key] > d_word[key]:\n",
    "                    test_fail = True\n",
    "                    break\n",
    "            if not test_fail:\n",
    "                candidates.append(word)\n",
    "        # find shortest word among candidates\n",
    "        shortest_word = candidates[0]\n",
    "        shortest_lenth = len(shortest_word)\n",
    "        for word in candidates[1:]:\n",
    "            if len(word) < shortest_lenth: \n",
    "                shortest_word = word\n",
    "                shortest_lenth = len(shortest_word)\n",
    "        return shortest_word  \n",
    "    def constructCounterDict(self, list_or_string):\n",
    "        d = {}\n",
    "        for char in list_or_string:\n",
    "            if char in d:\n",
    "                d[char] += 1\n",
    "            else:\n",
    "                d[char] = 1\n",
    "        return d"
   ]
  },
  {
   "cell_type": "code",
   "execution_count": 14,
   "metadata": {},
   "outputs": [
    {
     "data": {
      "text/plain": [
       "'steps'"
      ]
     },
     "execution_count": 14,
     "metadata": {},
     "output_type": "execute_result"
    }
   ],
   "source": [
    "licensePlate = \"1s3 PSt\"\n",
    "words = [\"step\",\"steps\",\"stripe\",\"stepple\"]\n",
    "Solution().shortestCompletingWord(licensePlate, words)"
   ]
  },
  {
   "cell_type": "markdown",
   "metadata": {},
   "source": [
    "# Reference\n",
    "\n",
    "[748. Shortest Completing Word](https://leetcode.com/problems/shortest-completing-word/)"
   ]
  }
 ],
 "metadata": {
  "kernelspec": {
   "display_name": "Python 3",
   "language": "python",
   "name": "python3"
  },
  "language_info": {
   "codemirror_mode": {
    "name": "ipython",
    "version": 3
   },
   "file_extension": ".py",
   "mimetype": "text/x-python",
   "name": "python",
   "nbconvert_exporter": "python",
   "pygments_lexer": "ipython3",
   "version": "3.8.5"
  }
 },
 "nbformat": 4,
 "nbformat_minor": 4
}
