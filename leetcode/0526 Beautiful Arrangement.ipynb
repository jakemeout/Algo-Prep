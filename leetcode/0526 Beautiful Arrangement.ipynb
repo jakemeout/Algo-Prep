{
 "cells": [
  {
   "cell_type": "code",
   "execution_count": null,
   "metadata": {},
   "outputs": [],
   "source": [
    "class Solution:\n",
    "    def countArrangement(self, N: int) -> int:\n",
    "        \n",
    "        def count(i, X):\n",
    "            if i == 1:\n",
    "                return 1\n",
    "            return sum(count(i - 1, X - {x}) for x in X if x % i == 0 or i % x == 0)\n",
    "        \n",
    "        return count(N, set(range(1, N + 1)))"
   ]
  },
  {
   "cell_type": "markdown",
   "metadata": {},
   "source": [
    "# Reference\n",
    "\n",
    "[526. Beautiful Arrangement](https://leetcode.com/problems/beautiful-arrangement/)\n",
    "\n",
    "[Easy Python, ~230ms](https://leetcode.com/problems/beautiful-arrangement/discuss/99738/Easy-Python-~230ms)"
   ]
  }
 ],
 "metadata": {
  "kernelspec": {
   "display_name": "Python 3",
   "language": "python",
   "name": "python3"
  },
  "language_info": {
   "codemirror_mode": {
    "name": "ipython",
    "version": 3
   },
   "file_extension": ".py",
   "mimetype": "text/x-python",
   "name": "python",
   "nbconvert_exporter": "python",
   "pygments_lexer": "ipython3",
   "version": "3.8.5"
  }
 },
 "nbformat": 4,
 "nbformat_minor": 4
}
