{
 "cells": [
  {
   "cell_type": "code",
   "execution_count": null,
   "metadata": {},
   "outputs": [],
   "source": [
    "class Solution:\n",
    "    def countCharacters(self, words, chars):\n",
    "        d_chars = self.constructCounterDict(chars)\n",
    "        good = []\n",
    "        for word in words:\n",
    "            d_word = self.constructCounterDict(word)\n",
    "            test_fail = False\n",
    "            for key in d_word:\n",
    "                if key not in d_chars:\n",
    "                    test_fail = True\n",
    "                    break\n",
    "                if d_word[key] > d_chars[key]:\n",
    "                    test_fail = True\n",
    "                    break\n",
    "            if not test_fail:\n",
    "                good.append(word)\n",
    "        return sum([len(word) for word in good])     \n",
    "    def constructCounterDict(self, list_or_string):\n",
    "        d = {}\n",
    "        for char in list_or_string:\n",
    "            if char in d:\n",
    "                d[char] += 1\n",
    "            else:\n",
    "                d[char] = 1\n",
    "        return d"
   ]
  },
  {
   "cell_type": "markdown",
   "metadata": {},
   "source": [
    "# Reference\n",
    "\n",
    "[1160. Find Words That Can Be Formed by Characters](https://leetcode.com/problems/find-words-that-can-be-formed-by-characters/)"
   ]
  },
  {
   "cell_type": "code",
   "execution_count": null,
   "metadata": {},
   "outputs": [],
   "source": []
  }
 ],
 "metadata": {
  "kernelspec": {
   "display_name": "Python 3",
   "language": "python",
   "name": "python3"
  },
  "language_info": {
   "codemirror_mode": {
    "name": "ipython",
    "version": 3
   },
   "file_extension": ".py",
   "mimetype": "text/x-python",
   "name": "python",
   "nbconvert_exporter": "python",
   "pygments_lexer": "ipython3",
   "version": "3.8.5"
  }
 },
 "nbformat": 4,
 "nbformat_minor": 4
}
