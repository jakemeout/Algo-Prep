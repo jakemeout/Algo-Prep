{
 "cells": [
  {
   "cell_type": "code",
   "execution_count": null,
   "metadata": {},
   "outputs": [],
   "source": [
    "class Solution:\n",
    "    def minSubsequence(self, nums):\n",
    "        ans = []\n",
    "        nums = sorted(nums)\n",
    "        total_so_far = 0\n",
    "        total_remaining = sum(nums)\n",
    "        while total_so_far <= total_remaining:\n",
    "            num = nums.pop()\n",
    "            ans.append(num)\n",
    "            total_so_far += num\n",
    "            total_remaining -= num \n",
    "        return ans"
   ]
  },
  {
   "cell_type": "markdown",
   "metadata": {},
   "source": [
    "# Reference\n",
    "\n",
    "[1403. Minimum Subsequence in Non-Increasing Order](https://leetcode.com/problems/minimum-subsequence-in-non-increasing-order/)\n",
    "\n",
    "[LeetCode 1403. Minimum Subsequence in Non Increasing Order](https://www.youtube.com/watch?v=6OM_9G-RXI4)"
   ]
  }
 ],
 "metadata": {
  "kernelspec": {
   "display_name": "Python 3",
   "language": "python",
   "name": "python3"
  },
  "language_info": {
   "codemirror_mode": {
    "name": "ipython",
    "version": 3
   },
   "file_extension": ".py",
   "mimetype": "text/x-python",
   "name": "python",
   "nbconvert_exporter": "python",
   "pygments_lexer": "ipython3",
   "version": "3.8.5"
  }
 },
 "nbformat": 4,
 "nbformat_minor": 4
}
