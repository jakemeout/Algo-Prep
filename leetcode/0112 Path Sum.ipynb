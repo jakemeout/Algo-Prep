{
 "cells": [
  {
   "cell_type": "code",
   "execution_count": null,
   "metadata": {},
   "outputs": [],
   "source": [
    "# Definition for a binary tree node.\n",
    "class TreeNode:\n",
    "    def __init__(self, val=0, left=None, right=None):\n",
    "        self.val = val\n",
    "        self.left = left\n",
    "        self.right = right"
   ]
  },
  {
   "cell_type": "code",
   "execution_count": null,
   "metadata": {},
   "outputs": [],
   "source": [
    "class Solution:\n",
    "    def hasPathSum(self, root, targetSum):\n",
    "        # base case\n",
    "        if not root:\n",
    "            return False  \n",
    "        elif (not root.left) and (not root.right):\n",
    "            return root.val == targetSum \n",
    "        # recursion step\n",
    "        if root.left and not root.right:\n",
    "            bool_left = self.hasPathSum(root.left, targetSum - root.val)\n",
    "            out = bool_left\n",
    "        elif not root.left and root.right:\n",
    "            bool_right = self.hasPathSum(root.right, targetSum - root.val)\n",
    "            out = bool_right\n",
    "        else:\n",
    "            bool_left = self.hasPathSum(root.left, targetSum - root.val)\n",
    "            bool_right = self.hasPathSum(root.right, targetSum - root.val)\n",
    "            out = bool_left or bool_right \n",
    "        return out  "
   ]
  },
  {
   "cell_type": "markdown",
   "metadata": {},
   "source": [
    "# Reference\n",
    "\n",
    "[112. Path Sum](https://leetcode.com/problems/path-sum/)"
   ]
  }
 ],
 "metadata": {
  "kernelspec": {
   "display_name": "Python 3",
   "language": "python",
   "name": "python3"
  },
  "language_info": {
   "codemirror_mode": {
    "name": "ipython",
    "version": 3
   },
   "file_extension": ".py",
   "mimetype": "text/x-python",
   "name": "python",
   "nbconvert_exporter": "python",
   "pygments_lexer": "ipython3",
   "version": "3.8.5"
  }
 },
 "nbformat": 4,
 "nbformat_minor": 4
}
