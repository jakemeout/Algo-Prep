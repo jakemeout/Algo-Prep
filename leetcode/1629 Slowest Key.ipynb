{
 "cells": [
  {
   "cell_type": "code",
   "execution_count": 9,
   "metadata": {},
   "outputs": [],
   "source": [
    "class Solution:\n",
    "    def slowestKey(self, releaseTimes, keysPressed):\n",
    "        # compute duration d\n",
    "        d = [releaseTimes[0]]\n",
    "        cur = releaseTimes[0]\n",
    "        for t in releaseTimes[1:]:\n",
    "            d.append(t - cur)\n",
    "            cur = t\n",
    "        #print(d)\n",
    "        # compute max duration \n",
    "        max_d = max(d) \n",
    "        # collect all keys with max duration\n",
    "        s = [keysPressed[i] for i, d_ in enumerate(d) if d_ == max_d]\n",
    "        # report key with max duration\n",
    "        # return lexicographically largest key of the keypresses if many\n",
    "        s.sort()\n",
    "        #print(s)\n",
    "        return s[-1]"
   ]
  },
  {
   "cell_type": "code",
   "execution_count": 10,
   "metadata": {},
   "outputs": [
    {
     "data": {
      "text/plain": [
       "'q'"
      ]
     },
     "execution_count": 10,
     "metadata": {},
     "output_type": "execute_result"
    }
   ],
   "source": [
    "releaseTimes = [23,34,43,59,62,80,83,92,97]\n",
    "keysPressed = \"qgkzzihfc\"\n",
    "Solution().slowestKey(releaseTimes, keysPressed) # 'q'"
   ]
  },
  {
   "cell_type": "markdown",
   "metadata": {},
   "source": [
    "# Reference\n",
    "\n",
    "[1629. Slowest Key](https://leetcode.com/problems/slowest-key/)"
   ]
  }
 ],
 "metadata": {
  "kernelspec": {
   "display_name": "Python 3",
   "language": "python",
   "name": "python3"
  },
  "language_info": {
   "codemirror_mode": {
    "name": "ipython",
    "version": 3
   },
   "file_extension": ".py",
   "mimetype": "text/x-python",
   "name": "python",
   "nbconvert_exporter": "python",
   "pygments_lexer": "ipython3",
   "version": "3.8.5"
  }
 },
 "nbformat": 4,
 "nbformat_minor": 4
}
