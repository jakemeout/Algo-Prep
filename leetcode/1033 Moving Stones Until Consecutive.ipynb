{
 "cells": [
  {
   "cell_type": "code",
   "execution_count": null,
   "metadata": {},
   "outputs": [],
   "source": [
    "class Solution:\n",
    "    def numMovesStones(self, a: int, b: int, c: int) -> List[int]:\n",
    "        # edge cases\n",
    "        if max(a,b,c) - min(a,b,c) == 2:\n",
    "            return [0,0]\n",
    "        elif max(a,b,c) - min(a,b,c) == 3:\n",
    "            return [1,1]\n",
    "        # general cases\n",
    "        if abs(a-b)>2 and abs(b-c)>2 and abs(c-a)>2:\n",
    "            return [2,max(a,b,c)-min(a,b,c)-2]\n",
    "        else:\n",
    "            return [1,max(a,b,c)-min(a,b,c)-2]"
   ]
  },
  {
   "cell_type": "markdown",
   "metadata": {},
   "source": [
    "# Reference\n",
    "\n",
    "[1033. Moving Stones Until Consecutive](https://leetcode.com/problems/moving-stones-until-consecutive/)"
   ]
  }
 ],
 "metadata": {
  "kernelspec": {
   "display_name": "Python 3",
   "language": "python",
   "name": "python3"
  },
  "language_info": {
   "codemirror_mode": {
    "name": "ipython",
    "version": 3
   },
   "file_extension": ".py",
   "mimetype": "text/x-python",
   "name": "python",
   "nbconvert_exporter": "python",
   "pygments_lexer": "ipython3",
   "version": "3.8.5"
  }
 },
 "nbformat": 4,
 "nbformat_minor": 4
}
