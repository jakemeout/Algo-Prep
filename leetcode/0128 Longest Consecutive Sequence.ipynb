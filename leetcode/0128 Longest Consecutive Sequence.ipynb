{
 "cells": [
  {
   "cell_type": "code",
   "execution_count": 5,
   "metadata": {},
   "outputs": [],
   "source": [
    "class Solution:\n",
    "    def longestConsecutive(self, nums):\n",
    "        S = set(nums)\n",
    "        ans = 0\n",
    "        #print(ans, S)\n",
    "        for num in nums:\n",
    "            if num in S:\n",
    "                S.remove(num)\n",
    "                l = num - 1 # left pointer\n",
    "                r = num + 1 # right pointer\n",
    "                while r in S:\n",
    "                    S.remove(r)\n",
    "                    r += 1\n",
    "                while l in S:\n",
    "                    S.remove(l)\n",
    "                    l -= 1\n",
    "                ans = max(ans, r-l-1) \n",
    "                #print(ans, S)\n",
    "        return ans    "
   ]
  },
  {
   "cell_type": "code",
   "execution_count": 6,
   "metadata": {},
   "outputs": [
    {
     "data": {
      "text/plain": [
       "0"
      ]
     },
     "execution_count": 6,
     "metadata": {},
     "output_type": "execute_result"
    }
   ],
   "source": [
    "nums = []\n",
    "Solution().longestConsecutive(nums)"
   ]
  },
  {
   "cell_type": "markdown",
   "metadata": {},
   "source": [
    "# Reference\n",
    "\n",
    "[128. Longest Consecutive Sequence](https://leetcode.com/problems/longest-consecutive-sequence/)\n",
    "\n",
    "[Longest Consecutive Sequence | LeetCode 128 | C++, Java, Python](https://www.youtube.com/watch?v=goJGPugNLcs)"
   ]
  }
 ],
 "metadata": {
  "kernelspec": {
   "display_name": "Python 3",
   "language": "python",
   "name": "python3"
  },
  "language_info": {
   "codemirror_mode": {
    "name": "ipython",
    "version": 3
   },
   "file_extension": ".py",
   "mimetype": "text/x-python",
   "name": "python",
   "nbconvert_exporter": "python",
   "pygments_lexer": "ipython3",
   "version": "3.8.5"
  }
 },
 "nbformat": 4,
 "nbformat_minor": 4
}
