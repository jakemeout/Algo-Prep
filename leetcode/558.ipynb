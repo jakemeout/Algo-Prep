{
 "cells": [
  {
   "cell_type": "code",
   "execution_count": null,
   "metadata": {},
   "outputs": [],
   "source": [
    "class Node:\n",
    "    def __init__(self, val, isLeaf, topLeft, topRight, bottomLeft, bottomRight):\n",
    "        self.val = val\n",
    "        self.isLeaf = isLeaf\n",
    "        self.topLeft = topLeft\n",
    "        self.topRight = topRight\n",
    "        self.bottomLeft = bottomLeft\n",
    "        self.bottomRight = bottomRight"
   ]
  },
  {
   "cell_type": "code",
   "execution_count": null,
   "metadata": {},
   "outputs": [],
   "source": [
    "class Solution:\n",
    "    def intersect(self, quadTree1: 'Node', quadTree2: 'Node') -> 'Node':\n",
    "        stack1, stack2 = [(quadTree1, None, None)], [(quadTree2, None, None)]\n",
    "        while stack1 and stack2:\n",
    "            (cur1, p1, r1), (cur2, p2, r2) = stack1.pop(), stack2.pop()\n",
    "            if cur1.isLeaf:\n",
    "                if cur1.val == 0:\n",
    "                    if r1 == 'topLeft':\n",
    "                        p1.topLeft = cur2\n",
    "                    elif r1 == 'topRight':\n",
    "                        p1.topRight = cur2\n",
    "                    elif r1 == 'bottomLeft':\n",
    "                        p1.bottomLeft = cur2\n",
    "                    if r1 == 'bottomRight':\n",
    "                        p1.bottomRight = cur2\n",
    "            elif cur2.isLeaf:\n",
    "                if cur2.val == 1:\n",
    "                    if r1 == 'topLeft':\n",
    "                        p1.topLeft = cur2\n",
    "                    elif r1 == 'topRight':\n",
    "                        p1.topRight = cur2\n",
    "                    elif r1 == 'bottomLeft':\n",
    "                        p1.bottomLeft = cur2\n",
    "                    if r1 == 'bottomRight':\n",
    "                        p1.bottomRight = cur2\n",
    "            else:\n",
    "                stack1.append((cur1.topLeft, cur1, 'topLeft'))\n",
    "                stack1.append((cur1.topRight, cur1, 'topRight'))\n",
    "                stack1.append((cur1.bottomLeft, cur1, 'bottomLeft'))\n",
    "                stack1.append((cur1.bottomRight, cur1, 'bottomRight'))\n",
    "                stack2.append((cur2.topLeft, cur2, 'topLeft'))\n",
    "                stack2.append((cur2.topRight, cur2, 'topRight'))\n",
    "                stack2.append((cur2.bottomLeft, cur2, 'bottomLeft'))\n",
    "                stack2.append((cur2.bottomRight, cur2, 'bottomRight'))      \n",
    "        return quadTree1"
   ]
  },
  {
   "cell_type": "code",
   "execution_count": null,
   "metadata": {},
   "outputs": [],
   "source": [
    "[[0,0],\n",
    " [1,0],\n",
    " [1,0],\n",
    " [1,1],\n",
    " [1,1]]\n",
    "[[0,0],[1,1],[1,1],[1,0],[1,1]]"
   ]
  },
  {
   "cell_type": "markdown",
   "metadata": {},
   "source": [
    "# Reference\n",
    "\n",
    "[]()\n",
    "\n",
    "[]()"
   ]
  }
 ],
 "metadata": {
  "kernelspec": {
   "display_name": "Python 3",
   "language": "python",
   "name": "python3"
  },
  "language_info": {
   "codemirror_mode": {
    "name": "ipython",
    "version": 3
   },
   "file_extension": ".py",
   "mimetype": "text/x-python",
   "name": "python",
   "nbconvert_exporter": "python",
   "pygments_lexer": "ipython3",
   "version": "3.8.5"
  }
 },
 "nbformat": 4,
 "nbformat_minor": 4
}
