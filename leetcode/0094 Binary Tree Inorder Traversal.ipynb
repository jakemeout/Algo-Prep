{
 "cells": [
  {
   "cell_type": "code",
   "execution_count": null,
   "metadata": {},
   "outputs": [],
   "source": [
    "class TreeNode:\n",
    "    def __init__(self, val=0, left=None, right=None):\n",
    "        self.val = val\n",
    "        self.left = left\n",
    "        self.right = right"
   ]
  },
  {
   "cell_type": "code",
   "execution_count": null,
   "metadata": {},
   "outputs": [],
   "source": [
    "# recursion\n",
    "class Solution:\n",
    "    def inorderTraversal(self, root: TreeNode):\n",
    "        if root is None:\n",
    "            return []\n",
    "        return self.inorderTraversal(root.left) + [root.val] + self.inorderTraversal(root.right)"
   ]
  },
  {
   "cell_type": "code",
   "execution_count": null,
   "metadata": {},
   "outputs": [],
   "source": [
    "# iteration\n",
    "class Solution:\n",
    "    def inorderTraversal(self, root: TreeNode):\n",
    "        if root is None:\n",
    "            return []\n",
    "        cur = root\n",
    "        stack = []\n",
    "        out = []\n",
    "        while cur or stack:\n",
    "            if cur: \n",
    "                stack.append(cur) \n",
    "                cur = cur.left \n",
    "            else: \n",
    "                cur = stack.pop() \n",
    "                out.append(cur.val) \n",
    "                cur = cur.right \n",
    "        return out"
   ]
  },
  {
   "cell_type": "markdown",
   "metadata": {},
   "source": [
    "# Reference\n",
    "\n",
    "[94. Binary Tree Inorder Traversal](https://leetcode.com/problems/binary-tree-inorder-traversal/)\n",
    "\n",
    "[Binary Tree Inorder Traversal - LeetCode 94 Python](https://www.youtube.com/watch?v=RJhh3Jcc9zw&t=605s)"
   ]
  },
  {
   "cell_type": "code",
   "execution_count": null,
   "metadata": {},
   "outputs": [],
   "source": []
  }
 ],
 "metadata": {
  "kernelspec": {
   "display_name": "Python 3",
   "language": "python",
   "name": "python3"
  },
  "language_info": {
   "codemirror_mode": {
    "name": "ipython",
    "version": 3
   },
   "file_extension": ".py",
   "mimetype": "text/x-python",
   "name": "python",
   "nbconvert_exporter": "python",
   "pygments_lexer": "ipython3",
   "version": "3.8.5"
  }
 },
 "nbformat": 4,
 "nbformat_minor": 4
}
