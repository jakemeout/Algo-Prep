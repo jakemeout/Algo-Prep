{
 "cells": [
  {
   "cell_type": "code",
   "execution_count": null,
   "metadata": {},
   "outputs": [],
   "source": [
    "class TreeNode:\n",
    "    def __init__(self, val=0, left=None, right=None):\n",
    "        self.val = val\n",
    "        self.left = left\n",
    "        self.right = right"
   ]
  },
  {
   "cell_type": "code",
   "execution_count": null,
   "metadata": {},
   "outputs": [],
   "source": [
    "from collections import deque\n",
    "\n",
    "class Solution:\n",
    "    def widthOfBinaryTree(self, root: TreeNode) -> int:\n",
    "        if not root: \n",
    "            return 0\n",
    "        \n",
    "        q = deque([[root, 0, 1]]) # [[node, level, heap_index], ...]\n",
    "        level_and_heap_index = [] # [[level, heap_index],...] \n",
    "        while q:\n",
    "            node, level, heap_index = q.popleft()\n",
    "            level_and_heap_index.append([level, heap_index])\n",
    "            if node.left:\n",
    "                q.append([node.left, level + 1, 2 * heap_index])\n",
    "            if node.right:\n",
    "                q.append([node.right, level + 1, 2 * heap_index + 1])\n",
    "                \n",
    "        out = [[level_and_heap_index[0][1]]] # [[heap_index for level 0], [heap_index for level 1],...]\n",
    "        for i in range(1, len(level_and_heap_index)):\n",
    "            if level_and_heap_index[i][0] == level_and_heap_index[i-1][0]:\n",
    "                out[level_and_heap_index[i][0]].append(level_and_heap_index[i][1])\n",
    "            else:\n",
    "                out.append([level_and_heap_index[i][1]])\n",
    "                \n",
    "        ans = 0\n",
    "        for lst in out:\n",
    "            ans = max(ans, max(lst)-min(lst)+1)\n",
    "        return ans"
   ]
  },
  {
   "cell_type": "markdown",
   "metadata": {},
   "source": [
    "# Reference\n",
    "\n",
    "[662. Maximum Width of Binary Tree](https://leetcode.com/problems/maximum-width-of-binary-tree/)\n",
    "\n",
    "[107. Binary Tree Level Order Traversal II](https://leetcode.com/problems/binary-tree-level-order-traversal-ii/)\n",
    "\n",
    "[Maximum Width of Binary Tree | LeetCode 662 | C++, Python](https://www.youtube.com/watch?v=le-ZZSQRebw&list=PL1w8k37X_6L-E23tn3d6oXLW63pS8-5rm&index=24)"
   ]
  }
 ],
 "metadata": {
  "kernelspec": {
   "display_name": "Python 3",
   "language": "python",
   "name": "python3"
  },
  "language_info": {
   "codemirror_mode": {
    "name": "ipython",
    "version": 3
   },
   "file_extension": ".py",
   "mimetype": "text/x-python",
   "name": "python",
   "nbconvert_exporter": "python",
   "pygments_lexer": "ipython3",
   "version": "3.8.5"
  }
 },
 "nbformat": 4,
 "nbformat_minor": 4
}
