{
 "cells": [
  {
   "cell_type": "code",
   "execution_count": null,
   "metadata": {},
   "outputs": [],
   "source": [
    "class Solution:\n",
    "    def isSumEqual(self, firstWord: str, secondWord: str, targetWord: str) -> bool:\n",
    "        self.s2d = {}\n",
    "        for char, num in zip('abcdefghij',range(10)):\n",
    "            self.s2d[char] = num\n",
    "        n1 = self.convertToNum(firstWord)\n",
    "        n2 = self.convertToNum(secondWord)\n",
    "        n3 = self.convertToNum(targetWord)\n",
    "        return (n1+n2) == n3\n",
    "    def convertToNum(self, word):\n",
    "        s = ''\n",
    "        for char in word:\n",
    "            s += str(self.s2d[char])\n",
    "        return int(s)"
   ]
  },
  {
   "cell_type": "markdown",
   "metadata": {},
   "source": [
    "# Reference\n",
    "\n",
    "[1880. Check if Word Equals Summation of Two Words](https://leetcode.com/problems/check-if-word-equals-summation-of-two-words/)"
   ]
  }
 ],
 "metadata": {
  "kernelspec": {
   "display_name": "Python 3",
   "language": "python",
   "name": "python3"
  },
  "language_info": {
   "codemirror_mode": {
    "name": "ipython",
    "version": 3
   },
   "file_extension": ".py",
   "mimetype": "text/x-python",
   "name": "python",
   "nbconvert_exporter": "python",
   "pygments_lexer": "ipython3",
   "version": "3.8.5"
  }
 },
 "nbformat": 4,
 "nbformat_minor": 4
}
