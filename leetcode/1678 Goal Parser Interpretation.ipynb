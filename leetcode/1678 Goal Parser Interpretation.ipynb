{
 "cells": [
  {
   "cell_type": "code",
   "execution_count": null,
   "metadata": {},
   "outputs": [],
   "source": [
    "class Solution:\n",
    "    def interpret(self, command: str) -> str:\n",
    "        out = ''\n",
    "        pointer = 0\n",
    "        while pointer < len(command):\n",
    "            if command[pointer] == 'G':\n",
    "                out += 'G'\n",
    "                pointer += 1\n",
    "            elif command[pointer] == '(':\n",
    "                if command[pointer+1] == ')':\n",
    "                    out += 'o'\n",
    "                    pointer += 2\n",
    "                else:\n",
    "                    out += 'al'\n",
    "                    pointer += 4\n",
    "        return out"
   ]
  },
  {
   "cell_type": "markdown",
   "metadata": {},
   "source": [
    "# Reference\n",
    "\n",
    "[1678. Goal Parser Interpretation](https://leetcode.com/problems/goal-parser-interpretation/)"
   ]
  }
 ],
 "metadata": {
  "kernelspec": {
   "display_name": "Python 3",
   "language": "python",
   "name": "python3"
  },
  "language_info": {
   "codemirror_mode": {
    "name": "ipython",
    "version": 3
   },
   "file_extension": ".py",
   "mimetype": "text/x-python",
   "name": "python",
   "nbconvert_exporter": "python",
   "pygments_lexer": "ipython3",
   "version": "3.8.5"
  }
 },
 "nbformat": 4,
 "nbformat_minor": 4
}
