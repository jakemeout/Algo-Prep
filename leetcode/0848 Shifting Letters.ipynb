{
 "cells": [
  {
   "cell_type": "code",
   "execution_count": null,
   "metadata": {},
   "outputs": [],
   "source": [
    "class Solution:\n",
    "    def shiftingLetters(self, s, shifts):\n",
    "        c2i, i2c = {}, {}\n",
    "        import string\n",
    "        for i, c in enumerate(string.ascii_lowercase):\n",
    "            c2i[c] = i\n",
    "            i2c[i] = c\n",
    "            \n",
    "        lst = list(s)\n",
    "        \n",
    "        n = len(string.ascii_lowercase)\n",
    "        import numpy as np\n",
    "        shifts = np.array([shift % n for shift in shifts])\n",
    "        shifts = list(np.cumsum(shifts[::-1])[::-1])\n",
    "        shifts = [shift % n for shift in shifts]\n",
    "        \n",
    "        ans = []\n",
    "        for lst_item, shift_item in zip(lst, shifts):\n",
    "            shifted_num = (c2i[lst_item] + shift_item) % n \n",
    "            ans.append(i2c[shifted_num])\n",
    "        return ''.join(ans)"
   ]
  },
  {
   "cell_type": "code",
   "execution_count": 3,
   "metadata": {},
   "outputs": [
    {
     "data": {
      "text/plain": [
       "'abcdefghijklmnopqrstuvwxyz'"
      ]
     },
     "execution_count": 3,
     "metadata": {},
     "output_type": "execute_result"
    }
   ],
   "source": [
    "import string\n",
    "string.ascii_lowercase"
   ]
  },
  {
   "cell_type": "markdown",
   "metadata": {},
   "source": [
    "# Reference\n",
    "\n",
    "[848. Shifting Letters](https://leetcode.com/problems/shifting-letters/)"
   ]
  }
 ],
 "metadata": {
  "kernelspec": {
   "display_name": "Python 3",
   "language": "python",
   "name": "python3"
  },
  "language_info": {
   "codemirror_mode": {
    "name": "ipython",
    "version": 3
   },
   "file_extension": ".py",
   "mimetype": "text/x-python",
   "name": "python",
   "nbconvert_exporter": "python",
   "pygments_lexer": "ipython3",
   "version": "3.8.5"
  }
 },
 "nbformat": 4,
 "nbformat_minor": 4
}
