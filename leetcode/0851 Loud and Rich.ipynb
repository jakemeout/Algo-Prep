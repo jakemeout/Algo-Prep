{
 "cells": [
  {
   "cell_type": "markdown",
   "metadata": {},
   "source": [
    "<div align=\"center\"><img src=\"img/Screen Shot 2021-07-22 at 12.21.22 PM.png\" width=\"30%\"></div>\n",
    "\n",
    "[code_report::episode_20 ()](https://www.youtube.com/watch?v=JRecqHkvGs4)"
   ]
  },
  {
   "cell_type": "code",
   "execution_count": null,
   "metadata": {},
   "outputs": [],
   "source": [
    "from collections import defaultdict\n",
    "\n",
    "class Solution:\n",
    "\n",
    "    def loudAndRich(self, richer, quiet):\n",
    "        adj = defaultdict(list)\n",
    "        for ai, bi in richer: # richer[i] = [ai, bi] indicates that ai has more money than bi\n",
    "            adj[bi].append(ai)\n",
    "        \n",
    "        # answer[x] = y if y is the least quiet person (that is, the person y with the smallest value of quiet[y]) \n",
    "        # among all people who definitely have equal to or more money than the person x.\n",
    "        ans = [-1] * len(quiet)\n",
    "\n",
    "        def dfs(i):\n",
    "            if visited[i] >= 0:\n",
    "                return ans[i]\n",
    "            \n",
    "            ans[i] = i\n",
    "            for j in adj[i]:\n",
    "                if quiet[ans[i]] > quiet[dfs(j)]: \n",
    "                    ans[i] = ans[j]\n",
    "            return ans[i]\n",
    "\n",
    "        for i in range(len(quiet)): \n",
    "            dfs(i)\n",
    "        return ans"
   ]
  },
  {
   "cell_type": "markdown",
   "metadata": {},
   "source": [
    "# Reference\n",
    "\n",
    "[851. Loud and Rich](https://leetcode.com/problems/loud-and-rich/)\n",
    "\n",
    "[code_report::episode_20 ()](https://www.youtube.com/watch?v=JRecqHkvGs4)\n",
    "\n",
    "[[C++/Java/Python] Concise DFS ](https://leetcode.com/problems/loud-and-rich/discuss/137918/C%2B%2BJavaPython-Concise-DFS)"
   ]
  }
 ],
 "metadata": {
  "kernelspec": {
   "display_name": "Python 3",
   "language": "python",
   "name": "python3"
  },
  "language_info": {
   "codemirror_mode": {
    "name": "ipython",
    "version": 3
   },
   "file_extension": ".py",
   "mimetype": "text/x-python",
   "name": "python",
   "nbconvert_exporter": "python",
   "pygments_lexer": "ipython3",
   "version": "3.8.5"
  }
 },
 "nbformat": 4,
 "nbformat_minor": 4
}
