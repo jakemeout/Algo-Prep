{
 "cells": [
  {
   "cell_type": "code",
   "execution_count": null,
   "metadata": {},
   "outputs": [],
   "source": [
    "# str operations\n",
    "class Solution:\n",
    "    def maximum69Number(self, num: int) -> int:\n",
    "        return int(str(num).replace('6', '9', 1))"
   ]
  },
  {
   "cell_type": "code",
   "execution_count": null,
   "metadata": {},
   "outputs": [],
   "source": [
    "# int operations - Three Loops\n",
    "class Solution:\n",
    "    def maximum69Number(self, num: int) -> int:\n",
    "        digits = []\n",
    "        while num:\n",
    "            num, residue = divmod(num, 10)\n",
    "            digits.append(residue)\n",
    "            \n",
    "        for i in range(len(digits)-1,-1,-1):\n",
    "            if digits[i] == 6:\n",
    "                digits[i] = 9\n",
    "                break\n",
    "                \n",
    "        ans = 0\n",
    "        while digits:\n",
    "            digit = digits.pop()\n",
    "            ans = ans*10 + digit\n",
    "        return ans"
   ]
  },
  {
   "cell_type": "code",
   "execution_count": 3,
   "metadata": {},
   "outputs": [],
   "source": [
    "# int operations - Two Loops\n",
    "class Solution:\n",
    "    def maximum69Number(self, num: int) -> int:\n",
    "        digits = []\n",
    "        while num:\n",
    "            num, residue = divmod(num, 10)\n",
    "            digits.append(residue)\n",
    "        \n",
    "        ans = 0\n",
    "        flag = True # flag that we can replace 6 with 9\n",
    "        while digits:\n",
    "            digit = digits.pop()\n",
    "            if (digit == 6) and flag:\n",
    "                digit = 9\n",
    "                flag = False\n",
    "            ans = ans*10 + digit\n",
    "        return ans"
   ]
  },
  {
   "cell_type": "code",
   "execution_count": 4,
   "metadata": {},
   "outputs": [
    {
     "data": {
      "text/plain": [
       "969"
      ]
     },
     "execution_count": 4,
     "metadata": {},
     "output_type": "execute_result"
    }
   ],
   "source": [
    "num = 669\n",
    "Solution().maximum69Number(num)"
   ]
  },
  {
   "cell_type": "markdown",
   "metadata": {},
   "source": [
    "# Reference\n",
    "\n",
    "[1323. Maximum 69 Number](https://leetcode.com/problems/maximum-69-number/)\n",
    "\n",
    "[[LeetCode] 1323, Maximum 69 Number](https://www.youtube.com/watch?v=2548yA1Re78&list=PL-OC--HdIAXPzvuBbuI4e_MFYpzFnA6yR&index=36)\n",
    "\n",
    "[Maximum 69 Number (Leetcode 1323)](https://www.youtube.com/watch?v=nZMftC9Tx1o&list=PL_lPC-CADCvSRKTJcAxtkJEGuP87K3E2J&index=4)"
   ]
  }
 ],
 "metadata": {
  "kernelspec": {
   "display_name": "Python 3",
   "language": "python",
   "name": "python3"
  },
  "language_info": {
   "codemirror_mode": {
    "name": "ipython",
    "version": 3
   },
   "file_extension": ".py",
   "mimetype": "text/x-python",
   "name": "python",
   "nbconvert_exporter": "python",
   "pygments_lexer": "ipython3",
   "version": "3.8.5"
  }
 },
 "nbformat": 4,
 "nbformat_minor": 4
}
