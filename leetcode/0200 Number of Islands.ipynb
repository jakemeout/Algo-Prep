{
 "cells": [
  {
   "cell_type": "code",
   "execution_count": 4,
   "metadata": {},
   "outputs": [],
   "source": [
    "class Solution:\n",
    "    def numIslands(self, grid):\n",
    "        ans = 0\n",
    "        import numpy as np\n",
    "        self.g = np.array(grid, dtype=np.int64)\n",
    "        self.m, self.n = self.g.shape\n",
    "        for i in range(self.m):\n",
    "            for j in range(self.n):\n",
    "                if self.g[i,j] == 1:\n",
    "                    ans += 1\n",
    "                    stack = [(i,j)]\n",
    "                    while stack:\n",
    "                        i0, j0 = stack.pop()\n",
    "                        self.g[i0,j0] = 2\n",
    "                        stack.extend(self.generateChildren(i0, j0))\n",
    "        return ans \n",
    "    def generateChildren(self, i0, j0):\n",
    "        ans = []\n",
    "        if i0+1<self.m and self.g[i0+1,j0]==1:\n",
    "            ans.append((i0+1,j0))\n",
    "        if 0<=i0-1 and self.g[i0-1,j0]==1:\n",
    "            ans.append((i0-1,j0))\n",
    "        if j0+1<self.n and self.g[i0,j0+1]==1:\n",
    "            ans.append((i0,j0+1))\n",
    "        if 0<=j0-1 and self.g[i0,j0-1]==1:\n",
    "            ans.append((i0,j0-1))\n",
    "        return ans"
   ]
  },
  {
   "cell_type": "code",
   "execution_count": 5,
   "metadata": {},
   "outputs": [
    {
     "data": {
      "text/plain": [
       "1"
      ]
     },
     "execution_count": 5,
     "metadata": {},
     "output_type": "execute_result"
    }
   ],
   "source": [
    "grid = [[\"1\",\"1\",\"1\",\"1\",\"0\"],[\"1\",\"1\",\"0\",\"1\",\"0\"],[\"1\",\"1\",\"0\",\"0\",\"0\"],[\"0\",\"0\",\"0\",\"0\",\"0\"]]\n",
    "Solution().numIslands(grid)"
   ]
  },
  {
   "cell_type": "markdown",
   "metadata": {},
   "source": [
    "# Reference\n",
    "\n",
    "[200. Number of Islands](https://leetcode.com/problems/number-of-islands/)\n",
    "\n",
    "[Number of islands | Leetcode #200](https://www.youtube.com/watch?v=__98uL6wst8&list=PLEJXowNB4kPxQIN2dCUAnQ_92HIziG4x6&index=97)"
   ]
  }
 ],
 "metadata": {
  "kernelspec": {
   "display_name": "Python 3",
   "language": "python",
   "name": "python3"
  },
  "language_info": {
   "codemirror_mode": {
    "name": "ipython",
    "version": 3
   },
   "file_extension": ".py",
   "mimetype": "text/x-python",
   "name": "python",
   "nbconvert_exporter": "python",
   "pygments_lexer": "ipython3",
   "version": "3.8.5"
  }
 },
 "nbformat": 4,
 "nbformat_minor": 4
}
