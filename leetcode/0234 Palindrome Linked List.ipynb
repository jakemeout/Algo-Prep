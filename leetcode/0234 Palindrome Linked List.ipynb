{
 "cells": [
  {
   "cell_type": "code",
   "execution_count": 1,
   "metadata": {},
   "outputs": [],
   "source": [
    "# Definition for singly-linked list.\n",
    "class ListNode:\n",
    "    def __init__(self, val=0, next=None):\n",
    "        self.val = val\n",
    "        self.next = next"
   ]
  },
  {
   "cell_type": "code",
   "execution_count": 9,
   "metadata": {},
   "outputs": [],
   "source": [
    "class Solution:\n",
    "    def isPalindrome(self, head: ListNode) -> bool:\n",
    "        fast, slow = head, head\n",
    "        # find the mid node\n",
    "        while fast and fast.next:\n",
    "            fast = fast.next.next\n",
    "            slow = slow.next\n",
    "        # reverse the second half\n",
    "        node = None\n",
    "        while slow:\n",
    "            nxt = slow.next\n",
    "            slow.next = node\n",
    "            node = slow\n",
    "            slow = nxt\n",
    "        # compare the first and second half nodes\n",
    "        while node: # while node and head:\n",
    "            if node.val != head.val:\n",
    "                return False\n",
    "            node = node.next\n",
    "            head = head.next\n",
    "        return True"
   ]
  },
  {
   "cell_type": "code",
   "execution_count": 10,
   "metadata": {},
   "outputs": [
    {
     "data": {
      "text/plain": [
       "False"
      ]
     },
     "execution_count": 10,
     "metadata": {},
     "output_type": "execute_result"
    }
   ],
   "source": [
    "# [1,2]\n",
    "v2 = ListNode(2)\n",
    "head = ListNode(1, v2) \n",
    "Solution().isPalindrome(head) # False"
   ]
  },
  {
   "cell_type": "markdown",
   "metadata": {},
   "source": [
    "# Reference\n",
    "\n",
    "[234. Palindrome Linked List](https://leetcode.com/problems/palindrome-linked-list/)\n",
    "\n",
    "[Palindrome Linked List | LeetCode 234 | C++, Java, Python](https://www.youtube.com/watch?v=H3J-HoGCVXs)\n",
    "\n",
    "[Python easy to understand solution with comments (operate nodes directly).](https://leetcode.com/problems/palindrome-linked-list/discuss/64689/Python-easy-to-understand-solution-with-comments-(operate-nodes-directly).)"
   ]
  }
 ],
 "metadata": {
  "kernelspec": {
   "display_name": "Python 3",
   "language": "python",
   "name": "python3"
  },
  "language_info": {
   "codemirror_mode": {
    "name": "ipython",
    "version": 3
   },
   "file_extension": ".py",
   "mimetype": "text/x-python",
   "name": "python",
   "nbconvert_exporter": "python",
   "pygments_lexer": "ipython3",
   "version": "3.8.5"
  }
 },
 "nbformat": 4,
 "nbformat_minor": 4
}
