{
 "cells": [
  {
   "cell_type": "code",
   "execution_count": null,
   "metadata": {},
   "outputs": [],
   "source": [
    "class Solution:\n",
    "    def numSpecialEquivGroups(self, words):\n",
    "        S = set()\n",
    "        for word in words:\n",
    "            word = self.minimize(word)\n",
    "            if word not in S:\n",
    "                S.add(word)\n",
    "        return len(S)\n",
    "    def minimize(self, word):\n",
    "        word = list(word)\n",
    "        even = sorted([c for idx, c in enumerate(word) if idx%2 == 0])\n",
    "        odd = sorted([c for idx, c in enumerate(word) if idx%2 == 1])\n",
    "        out = ''\n",
    "        for e, o in zip(even, odd):\n",
    "            out += e + o\n",
    "        if len(word)%2 == 1:\n",
    "            out += even[-1]\n",
    "        return out    "
   ]
  },
  {
   "cell_type": "code",
   "execution_count": 2,
   "metadata": {},
   "outputs": [
    {
     "data": {
      "text/plain": [
       "[1, 2, 3]"
      ]
     },
     "execution_count": 2,
     "metadata": {},
     "output_type": "execute_result"
    }
   ],
   "source": [
    "sorted([1,2,3])"
   ]
  },
  {
   "cell_type": "markdown",
   "metadata": {},
   "source": [
    "# Reference\n",
    "\n",
    "[893. Groups of Special-Equivalent Strings](https://leetcode.com/problems/groups-of-special-equivalent-strings/)"
   ]
  }
 ],
 "metadata": {
  "kernelspec": {
   "display_name": "Python 3",
   "language": "python",
   "name": "python3"
  },
  "language_info": {
   "codemirror_mode": {
    "name": "ipython",
    "version": 3
   },
   "file_extension": ".py",
   "mimetype": "text/x-python",
   "name": "python",
   "nbconvert_exporter": "python",
   "pygments_lexer": "ipython3",
   "version": "3.8.5"
  }
 },
 "nbformat": 4,
 "nbformat_minor": 4
}
