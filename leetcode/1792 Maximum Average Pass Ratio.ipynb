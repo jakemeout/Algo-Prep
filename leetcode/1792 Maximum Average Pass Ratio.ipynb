{
 "cells": [
  {
   "cell_type": "code",
   "execution_count": 9,
   "metadata": {},
   "outputs": [],
   "source": [
    "import heapq\n",
    "class Solution:\n",
    "    def maxAverageRatio(self, classes, extraStudents):\n",
    "        heap = [[-self.improvement(pass_i, total_i), pass_i, total_i] for pass_i, total_i in classes]\n",
    "        heapq.heapify(heap)\n",
    "        while extraStudents:\n",
    "            _, pass_i, total_i = heapq.heappop(heap)\n",
    "            heapq.heappush(heap,[-self.improvement(pass_i+1, total_i+1), pass_i+1, total_i+1])\n",
    "            extraStudents -= 1\n",
    "        return sum([pass_i/total_i for _, pass_i, total_i in heap]) / len(heap)\n",
    "    def improvement(self, pass_i, total_i):\n",
    "        return (pass_i+1)/(total_i+1) - pass_i/total_i"
   ]
  },
  {
   "cell_type": "code",
   "execution_count": 10,
   "metadata": {},
   "outputs": [
    {
     "data": {
      "text/plain": [
       "0.7833333333333333"
      ]
     },
     "execution_count": 10,
     "metadata": {},
     "output_type": "execute_result"
    }
   ],
   "source": [
    "classes = [[1,2],[3,5],[2,2]]\n",
    "extraStudents = 2\n",
    "Solution().maxAverageRatio(classes, extraStudents) # 0.78333"
   ]
  },
  {
   "cell_type": "markdown",
   "metadata": {},
   "source": [
    "# Reference\n",
    "\n",
    "[1792. Maximum Average Pass Ratio](https://leetcode.com/problems/maximum-average-pass-ratio/)"
   ]
  }
 ],
 "metadata": {
  "kernelspec": {
   "display_name": "Python 3",
   "language": "python",
   "name": "python3"
  },
  "language_info": {
   "codemirror_mode": {
    "name": "ipython",
    "version": 3
   },
   "file_extension": ".py",
   "mimetype": "text/x-python",
   "name": "python",
   "nbconvert_exporter": "python",
   "pygments_lexer": "ipython3",
   "version": "3.8.5"
  }
 },
 "nbformat": 4,
 "nbformat_minor": 4
}
