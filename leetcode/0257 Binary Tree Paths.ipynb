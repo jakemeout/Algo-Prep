{
 "cells": [
  {
   "cell_type": "code",
   "execution_count": null,
   "metadata": {},
   "outputs": [],
   "source": [
    "# Definition for a binary tree node.\n",
    "class TreeNode:\n",
    "    def __init__(self, val=0, left=None, right=None):\n",
    "        self.val = val\n",
    "        self.left = left\n",
    "        self.right = right"
   ]
  },
  {
   "cell_type": "code",
   "execution_count": null,
   "metadata": {},
   "outputs": [],
   "source": [
    "class Solution:\n",
    "    def binaryTreePaths(self, root):\n",
    "        # base cases\n",
    "        # no root\n",
    "        if not root:\n",
    "            return [[]]\n",
    "        # no left, no right\n",
    "        elif (not root.left) and (not root.right):\n",
    "            return [[str(root.val)]]\n",
    "        # recursion step\n",
    "        if (root.left) and (not root.right):\n",
    "            out = []\n",
    "            for path in self.binaryTreePaths(root.left):\n",
    "                out.append(str(root.val)+'->'+ self.format_path(path)) # path is list of integers\n",
    "            return out\n",
    "        if (not root.left) and (root.right):\n",
    "            out = []\n",
    "            for path in self.binaryTreePaths(root.right):\n",
    "                out.append(str(root.val)+'->'+ self.format_path(path)) # path is list of integers\n",
    "            return out\n",
    "        if (root.left) and (root.right):\n",
    "            out = []\n",
    "            for path in self.binaryTreePaths(root.left):\n",
    "                out.append(str(root.val)+'->'+ self.format_path(path)) # path is list of integers\n",
    "            for path in self.binaryTreePaths(root.right):\n",
    "                out.append(str(root.val)+'->'+ self.format_path(path)) # path is list of integers\n",
    "            return out\n",
    "    def format_path(self, path):\n",
    "        if len(path) == 0:\n",
    "            return ''\n",
    "        if len(path) == 1:\n",
    "            return str(path[0])\n",
    "        output = str(path[0])\n",
    "        for item in path[1:]:\n",
    "            output += '->'+str(item)\n",
    "        return output"
   ]
  },
  {
   "cell_type": "code",
   "execution_count": null,
   "metadata": {},
   "outputs": [],
   "source": [
    "class Solution:\n",
    "    def binaryTreePaths(self, root):\n",
    "        # base cases\n",
    "        # no root\n",
    "        if not root:\n",
    "            return ['']\n",
    "        # no left, no right\n",
    "        elif (not root.left) and (not root.right):\n",
    "            return [str(root.val)]\n",
    "        # recursion step\n",
    "        if (root.left) and (not root.right):\n",
    "            out = []\n",
    "            for path in self.binaryTreePaths(root.left):\n",
    "                out.append(str(root.val) + '->' + path) \n",
    "            return out\n",
    "        if (not root.left) and (root.right):\n",
    "            out = []\n",
    "            for path in self.binaryTreePaths(root.right):\n",
    "                out.append(str(root.val) + '->' + path) \n",
    "            return out\n",
    "        if (root.left) and (root.right):\n",
    "            out = []\n",
    "            for path in self.binaryTreePaths(root.left):\n",
    "                out.append(str(root.val) + '->' + path) \n",
    "            for path in self.binaryTreePaths(root.right):\n",
    "                out.append(str(root.val) + '->' + path) \n",
    "            return out"
   ]
  },
  {
   "cell_type": "markdown",
   "metadata": {},
   "source": [
    "# Reference\n",
    "\n",
    "[257. Binary Tree Paths](https://leetcode.com/problems/binary-tree-paths/)"
   ]
  }
 ],
 "metadata": {
  "kernelspec": {
   "display_name": "Python 3",
   "language": "python",
   "name": "python3"
  },
  "language_info": {
   "codemirror_mode": {
    "name": "ipython",
    "version": 3
   },
   "file_extension": ".py",
   "mimetype": "text/x-python",
   "name": "python",
   "nbconvert_exporter": "python",
   "pygments_lexer": "ipython3",
   "version": "3.8.5"
  }
 },
 "nbformat": 4,
 "nbformat_minor": 4
}
