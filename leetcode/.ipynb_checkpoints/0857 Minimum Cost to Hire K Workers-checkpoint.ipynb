{
 "cells": [
  {
   "cell_type": "markdown",
   "metadata": {},
   "source": [
    "1 `expect[i] = wage[i]/quality[i]`: meaning i-th worker claims `expect[i]` money per each unit of its quality. Therefore, if `expect[i] > expect[j]`, that means if we pay j-th worker `quality[j]*expect[i]` he/she would be more than happy and it's more than its minimal requested wage.\n",
    "\n",
    "2 Therefore, for k workers sorted by their expect values, if we pay each worker `quality[i]*expect[k]`, both rules are satisfied. The total needed `money = (sum(quality[1] + quality[2] + ... + quality[k]) * expect[k])`. Note that this is the minimum money for this k workers, since you have to pay the k-th worker at least `quality[k]*expect[k]`.\n",
    "\n",
    "3 However, you cannot simply pick the first Kth workers. Since if the sum of the quality is super high, then we would rather have a higher ratio but smaller sum of quality. Therefore, we are looking for the minimum sum of quality * ratio. Following is how the algorithm works:"
   ]
  },
  {
   "cell_type": "code",
   "execution_count": null,
   "metadata": {},
   "outputs": [],
   "source": [
    "from heapq import heappush, heappop\n",
    "\n",
    "class Solution:\n",
    "    def mincostToHireWorkers(self, quality: List[int], wage: List[int], K: int) -> float:\n",
    "        workers = sorted([float(w) / q, q] for w, q in zip(wage, quality))\n",
    "        \n",
    "        ans = float('inf')\n",
    "        qsum = 0\n",
    "        heap = []\n",
    "        for r, q in workers:\n",
    "            heappush(heap, -q)\n",
    "            qsum += q\n",
    "            # Since if the sum of the quality is super high, \n",
    "            # then we would rather have a higher ratio but smaller sum of quality.\n",
    "            if len(heap) > K: \n",
    "                qsum += heappop(heap)\n",
    "            if len(heap) == K: \n",
    "                ans = min(ans, qsum * r)\n",
    "        return ans"
   ]
  },
  {
   "cell_type": "markdown",
   "metadata": {},
   "source": [
    "# Reference\n",
    "\n",
    "[857. Minimum Cost to Hire K Workers](https://leetcode.com/problems/minimum-cost-to-hire-k-workers/)\n",
    "\n",
    "[Detailed explanation O(NlogN)](https://leetcode.com/problems/minimum-cost-to-hire-k-workers/discuss/141768/Detailed-explanation-O(NlogN))"
   ]
  }
 ],
 "metadata": {
  "kernelspec": {
   "display_name": "Python 3",
   "language": "python",
   "name": "python3"
  },
  "language_info": {
   "codemirror_mode": {
    "name": "ipython",
    "version": 3
   },
   "file_extension": ".py",
   "mimetype": "text/x-python",
   "name": "python",
   "nbconvert_exporter": "python",
   "pygments_lexer": "ipython3",
   "version": "3.8.5"
  }
 },
 "nbformat": 4,
 "nbformat_minor": 4
}
