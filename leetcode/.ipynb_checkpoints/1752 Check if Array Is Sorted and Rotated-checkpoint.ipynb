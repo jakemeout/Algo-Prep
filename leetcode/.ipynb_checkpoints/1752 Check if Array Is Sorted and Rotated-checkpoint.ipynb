{
 "cells": [
  {
   "cell_type": "code",
   "execution_count": null,
   "metadata": {},
   "outputs": [],
   "source": [
    "class Solution:\n",
    "    def check(self, nums):\n",
    "        if len(nums) <= 2:\n",
    "            return True\n",
    "        n_flag = 0 # we put flag when there is a increasing pattern change\n",
    "        for n1, n2 in zip(nums[:-1],nums[1:]):\n",
    "            if n1 > n2:\n",
    "                n_flag += 1\n",
    "        if n_flag >= 2:\n",
    "            return False\n",
    "        if n_flag == 1:\n",
    "            if nums[0] >= nums[-1]:\n",
    "                return True\n",
    "            else:\n",
    "                return False\n",
    "        if n_flag == 0:\n",
    "            return True"
   ]
  },
  {
   "cell_type": "markdown",
   "metadata": {},
   "source": [
    "# Reference\n",
    "\n",
    "[1752. Check if Array Is Sorted and Rotated](https://leetcode.com/problems/check-if-array-is-sorted-and-rotated/)"
   ]
  }
 ],
 "metadata": {
  "kernelspec": {
   "display_name": "Python 3",
   "language": "python",
   "name": "python3"
  },
  "language_info": {
   "codemirror_mode": {
    "name": "ipython",
    "version": 3
   },
   "file_extension": ".py",
   "mimetype": "text/x-python",
   "name": "python",
   "nbconvert_exporter": "python",
   "pygments_lexer": "ipython3",
   "version": "3.8.5"
  }
 },
 "nbformat": 4,
 "nbformat_minor": 4
}
