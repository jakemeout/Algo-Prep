{
 "cells": [
  {
   "cell_type": "code",
   "execution_count": 1,
   "metadata": {},
   "outputs": [],
   "source": [
    "# no heap O(n^2)\n",
    "class Solution:\n",
    "    def lastStoneWeight(self, stones):\n",
    "        while len(stones) > 1:\n",
    "            stones_to_smash = []\n",
    "            for i in range(2):\n",
    "                stones_to_smash.append(self.pop_max_num(stones)) # O(n)\n",
    "            # smashing the two rocks together\n",
    "            # If x == y, both stones are totally destroyed\n",
    "            # If x != y, the stone of weight x is totally destroyed, and the stone of weight y has new weight y-x.\n",
    "            value = stones_to_smash[0] - stones_to_smash[1]         \n",
    "            if value != 0:  \n",
    "                stones.append(value)\n",
    "        # At the end, there is at most 1 stone left.  \n",
    "        # Return the weight of this stone (or 0 if there are no stones left.)\n",
    "        if len(stones) == 1:\n",
    "            return stones[0]\n",
    "        else:\n",
    "            return 0\n",
    "    def pop_max_num(self, lst):\n",
    "        \"\"\"\n",
    "        function to remove greatest nums from list so it can be smashed then added back in\n",
    "        \"\"\"\n",
    "        greatest_so_far = None\n",
    "        index = 0\n",
    "        for i in range(len(lst)):\n",
    "            if greatest_so_far is None:\n",
    "                greatest_so_far = lst[i]\n",
    "            else:\n",
    "                if lst[i] > greatest_so_far:\n",
    "                    greatest_so_far = lst[i]\n",
    "                    index = i\n",
    "        return lst.pop(index)"
   ]
  },
  {
   "cell_type": "code",
   "execution_count": 17,
   "metadata": {},
   "outputs": [],
   "source": [
    "# heap O(n log n)\n",
    "class Solution:\n",
    "    def lastStoneWeight(self, stones):\n",
    "        from heapq import heapify, heappop, heappush\n",
    "        lst = [-(num) for num in stones]\n",
    "        # min heap is default\n",
    "        # 내부적으로는 인덱스 0에서 시작해 k번째 원소가 항상 자식 원소들(2k+1, 2k+2) 보다 작거나 같은 최소 힙의 형태로 정렬된다.\n",
    "        heapify(lst) # O(n) \n",
    "        while len(lst)-1:\n",
    "            a = heappop(lst) # O(log n)\n",
    "            b = heappop(lst) # O(log n)\n",
    "            if a != b:\n",
    "                heappush(lst,a-b) # O(log n)\n",
    "        return -lst[0]"
   ]
  },
  {
   "cell_type": "code",
   "execution_count": 18,
   "metadata": {},
   "outputs": [
    {
     "data": {
      "text/plain": [
       "1"
      ]
     },
     "execution_count": 18,
     "metadata": {},
     "output_type": "execute_result"
    }
   ],
   "source": [
    "stones = [2,7,4,1,8,1]\n",
    "Solution().lastStoneWeight(stones)"
   ]
  },
  {
   "cell_type": "markdown",
   "metadata": {},
   "source": [
    "# Reference\n",
    "\n",
    "[1046. Last Stone Weight](https://leetcode.com/problems/last-stone-weight/)\n",
    "\n",
    "[Last stone weight | Leetcode #1046](https://www.youtube.com/watch?v=-1jxt_DPl48&list=PLEJXowNB4kPwV1-FWiWthCcwtT0SWknz0&index=1)"
   ]
  }
 ],
 "metadata": {
  "kernelspec": {
   "display_name": "Python 3",
   "language": "python",
   "name": "python3"
  },
  "language_info": {
   "codemirror_mode": {
    "name": "ipython",
    "version": 3
   },
   "file_extension": ".py",
   "mimetype": "text/x-python",
   "name": "python",
   "nbconvert_exporter": "python",
   "pygments_lexer": "ipython3",
   "version": "3.8.5"
  }
 },
 "nbformat": 4,
 "nbformat_minor": 4
}
