{
 "cells": [
  {
   "cell_type": "code",
   "execution_count": 12,
   "metadata": {},
   "outputs": [],
   "source": [
    "class Solution:\n",
    "    def largestMerge(self, word1: str, word2: str) -> str:\n",
    "        ans = ''\n",
    "        while word1 and word2:\n",
    "            if word1[0] > word2[0]:\n",
    "                ans += word1[0]\n",
    "                word1 = word1[1:]\n",
    "            elif word1[0] > word2[0]:\n",
    "                ans += word2[0]\n",
    "                word2 = word2[1:]\n",
    "            elif word1+word2 > word2+word1:\n",
    "                ans += word1[0]\n",
    "                word1 = word1[1:]\n",
    "            else:\n",
    "                ans += word2[0]\n",
    "                word2 = word2[1:]\n",
    "        return ans + word1 + word2"
   ]
  },
  {
   "cell_type": "code",
   "execution_count": 13,
   "metadata": {},
   "outputs": [
    {
     "data": {
      "text/plain": [
       "'abaaaaa'"
      ]
     },
     "execution_count": 13,
     "metadata": {},
     "output_type": "execute_result"
    }
   ],
   "source": [
    "word1 = \"abaa\"\n",
    "word2 = \"aaa\"\n",
    "Solution().largestMerge(word1, word2) # \"abaaaaa\""
   ]
  },
  {
   "cell_type": "markdown",
   "metadata": {},
   "source": [
    "# Reference\n",
    "\n",
    "[1754. Largest Merge Of Two Strings](https://leetcode.com/problems/largest-merge-of-two-strings/)"
   ]
  }
 ],
 "metadata": {
  "kernelspec": {
   "display_name": "Python 3",
   "language": "python",
   "name": "python3"
  },
  "language_info": {
   "codemirror_mode": {
    "name": "ipython",
    "version": 3
   },
   "file_extension": ".py",
   "mimetype": "text/x-python",
   "name": "python",
   "nbconvert_exporter": "python",
   "pygments_lexer": "ipython3",
   "version": "3.8.5"
  }
 },
 "nbformat": 4,
 "nbformat_minor": 4
}
