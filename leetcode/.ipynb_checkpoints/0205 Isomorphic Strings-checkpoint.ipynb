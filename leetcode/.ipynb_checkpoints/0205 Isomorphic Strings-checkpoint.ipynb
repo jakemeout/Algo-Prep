{
 "cells": [
  {
   "cell_type": "code",
   "execution_count": null,
   "metadata": {},
   "outputs": [],
   "source": [
    "class Solution:\n",
    "    def isIsomorphic(self, s: str, t: str) -> bool:\n",
    "        return self.computeIsomorphicIntegerString(s) == self.computeIsomorphicIntegerString(t)\n",
    "    def computeIsomorphicIntegerString(self, s):\n",
    "        d = {}\n",
    "        cur = 0 \n",
    "        out = ''\n",
    "        for char in s:\n",
    "            if char not in d:\n",
    "                d[char] = str(cur)\n",
    "                cur += 1\n",
    "            out += d[char]\n",
    "        return out"
   ]
  },
  {
   "cell_type": "markdown",
   "metadata": {},
   "source": [
    "# Reference\n",
    "\n",
    "[205. Isomorphic Strings](https://leetcode.com/problems/isomorphic-strings/)"
   ]
  }
 ],
 "metadata": {
  "kernelspec": {
   "display_name": "Python 3",
   "language": "python",
   "name": "python3"
  },
  "language_info": {
   "codemirror_mode": {
    "name": "ipython",
    "version": 3
   },
   "file_extension": ".py",
   "mimetype": "text/x-python",
   "name": "python",
   "nbconvert_exporter": "python",
   "pygments_lexer": "ipython3",
   "version": "3.8.5"
  }
 },
 "nbformat": 4,
 "nbformat_minor": 4
}
