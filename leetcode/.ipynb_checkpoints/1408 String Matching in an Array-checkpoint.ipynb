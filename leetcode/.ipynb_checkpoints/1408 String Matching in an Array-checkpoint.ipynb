{
 "cells": [
  {
   "cell_type": "code",
   "execution_count": null,
   "metadata": {},
   "outputs": [],
   "source": [
    "class Solution:\n",
    "    def stringMatching(self, words):\n",
    "        out = []\n",
    "        for i in range(len(words)):\n",
    "            for j in range(len(words)):\n",
    "                if (words[j] in words[i] and words[i]!=words[j]):\n",
    "                    out.append(words[j])\n",
    "        return list(set(out))"
   ]
  },
  {
   "cell_type": "markdown",
   "metadata": {},
   "source": [
    "# Reference\n",
    "\n",
    "[1408. String Matching in an Array](https://leetcode.com/problems/string-matching-in-an-array/)"
   ]
  }
 ],
 "metadata": {
  "kernelspec": {
   "display_name": "Python 3",
   "language": "python",
   "name": "python3"
  },
  "language_info": {
   "codemirror_mode": {
    "name": "ipython",
    "version": 3
   },
   "file_extension": ".py",
   "mimetype": "text/x-python",
   "name": "python",
   "nbconvert_exporter": "python",
   "pygments_lexer": "ipython3",
   "version": "3.8.5"
  }
 },
 "nbformat": 4,
 "nbformat_minor": 4
}
