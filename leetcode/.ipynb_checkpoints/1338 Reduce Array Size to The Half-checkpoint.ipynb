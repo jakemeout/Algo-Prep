{
 "cells": [
  {
   "cell_type": "code",
   "execution_count": 10,
   "metadata": {},
   "outputs": [],
   "source": [
    "class Solution:\n",
    "    def minSetSize(self, arr):\n",
    "        # collect basic info\n",
    "        len_arr = len(arr)\n",
    "        from math import ceil\n",
    "        target = ceil(len_arr/2)\n",
    "        #print(len_arr, target)\n",
    "        # construct counter dict d\n",
    "        d = {}\n",
    "        for num in arr:\n",
    "            if num in d:\n",
    "                d[num] += 1\n",
    "            else:\n",
    "                d[num] = 1\n",
    "        # make list of frequency\n",
    "        lst = [d[num] for num in d]\n",
    "        lst.sort()\n",
    "        # prepare out\n",
    "        out = 0\n",
    "        sum_so_far = 0\n",
    "        while sum_so_far < target:\n",
    "            sum_so_far += lst.pop()\n",
    "            out += 1\n",
    "        return out            "
   ]
  },
  {
   "cell_type": "code",
   "execution_count": 11,
   "metadata": {},
   "outputs": [
    {
     "name": "stdout",
     "output_type": "stream",
     "text": [
      "10 5\n"
     ]
    },
    {
     "data": {
      "text/plain": [
       "2"
      ]
     },
     "execution_count": 11,
     "metadata": {},
     "output_type": "execute_result"
    }
   ],
   "source": [
    "arr = [3,3,3,3,5,5,5,2,2,7]\n",
    "Solution().minSetSize(arr) # 2"
   ]
  },
  {
   "cell_type": "code",
   "execution_count": 4,
   "metadata": {},
   "outputs": [
    {
     "data": {
      "text/plain": [
       "2"
      ]
     },
     "execution_count": 4,
     "metadata": {},
     "output_type": "execute_result"
    }
   ],
   "source": [
    "from math import ceil\n",
    "ceil(1.3)"
   ]
  },
  {
   "cell_type": "markdown",
   "metadata": {},
   "source": [
    "# Reference\n",
    "\n",
    "[1338. Reduce Array Size to The Half](https://leetcode.com/problems/reduce-array-size-to-the-half/)"
   ]
  }
 ],
 "metadata": {
  "kernelspec": {
   "display_name": "Python 3",
   "language": "python",
   "name": "python3"
  },
  "language_info": {
   "codemirror_mode": {
    "name": "ipython",
    "version": 3
   },
   "file_extension": ".py",
   "mimetype": "text/x-python",
   "name": "python",
   "nbconvert_exporter": "python",
   "pygments_lexer": "ipython3",
   "version": "3.8.5"
  }
 },
 "nbformat": 4,
 "nbformat_minor": 4
}
