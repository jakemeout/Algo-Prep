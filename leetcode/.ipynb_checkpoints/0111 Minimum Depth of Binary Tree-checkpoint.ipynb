{
 "cells": [
  {
   "cell_type": "code",
   "execution_count": null,
   "metadata": {},
   "outputs": [],
   "source": [
    "# Definition for a binary tree node.\n",
    "class TreeNode:\n",
    "    def __init__(self, val=0, left=None, right=None):\n",
    "        self.val = val\n",
    "        self.left = left\n",
    "        self.right = right"
   ]
  },
  {
   "cell_type": "code",
   "execution_count": null,
   "metadata": {},
   "outputs": [],
   "source": [
    "class Solution:\n",
    "    def minDepth(self, root: TreeNode) -> int:\n",
    "        # base case\n",
    "        if not root:\n",
    "            return 0  \n",
    "        elif (not root.left) and (not root.right):\n",
    "            return 1\n",
    "        # recursion step\n",
    "        if root.left and not root.right:\n",
    "            min_depth_left = self.minDepth(root.left)\n",
    "            out = min_depth_left + 1\n",
    "        elif not root.left and root.right:\n",
    "            min_depth_right = self.minDepth(root.right)\n",
    "            out = min_depth_right + 1 \n",
    "        else:\n",
    "            min_depth_left = self.minDepth(root.left)\n",
    "            min_depth_right = self.minDepth(root.right)\n",
    "            out = min(min_depth_left,min_depth_right) + 1 \n",
    "        return out  "
   ]
  },
  {
   "cell_type": "markdown",
   "metadata": {},
   "source": [
    "# Reference\n",
    "\n",
    "[111. Minimum Depth of Binary Tree](https://leetcode.com/problems/minimum-depth-of-binary-tree/)"
   ]
  }
 ],
 "metadata": {
  "kernelspec": {
   "display_name": "Python 3",
   "language": "python",
   "name": "python3"
  },
  "language_info": {
   "codemirror_mode": {
    "name": "ipython",
    "version": 3
   },
   "file_extension": ".py",
   "mimetype": "text/x-python",
   "name": "python",
   "nbconvert_exporter": "python",
   "pygments_lexer": "ipython3",
   "version": "3.8.5"
  }
 },
 "nbformat": 4,
 "nbformat_minor": 4
}
