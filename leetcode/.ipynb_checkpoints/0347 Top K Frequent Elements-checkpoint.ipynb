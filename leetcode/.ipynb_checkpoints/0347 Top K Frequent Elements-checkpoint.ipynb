{
 "cells": [
  {
   "cell_type": "code",
   "execution_count": null,
   "metadata": {},
   "outputs": [],
   "source": [
    "from collections import defaultdict\n",
    "\n",
    "class Solution:\n",
    "    def topKFrequent(self, nums, k):\n",
    "        # counter dict d\n",
    "        # key : num\n",
    "        # value : frequency of num in nums\n",
    "        d = defaultdict(int)\n",
    "        for num in nums:\n",
    "            d[num] += 1\n",
    "            \n",
    "        # frequency dict f\n",
    "        # key : freq\n",
    "        # value : [num in nums with given freq]\n",
    "        f = defaultdict(list)\n",
    "        for num, freq in d.items():\n",
    "            f[freq].append(num)\n",
    "\n",
    "        ans = []\n",
    "        n_selected = 0\n",
    "        freq_sorted = sorted(f.keys())\n",
    "        while True:\n",
    "            freq = freq_sorted.pop()\n",
    "            for num in f[freq]:\n",
    "                ans.append(num)\n",
    "                n_selected += 1\n",
    "                if n_selected == k:\n",
    "                    return ans"
   ]
  },
  {
   "cell_type": "markdown",
   "metadata": {},
   "source": [
    "# Reference\n",
    "\n",
    "[347. Top K Frequent Elements](https://leetcode.com/problems/top-k-frequent-elements/)"
   ]
  }
 ],
 "metadata": {
  "kernelspec": {
   "display_name": "Python 3",
   "language": "python",
   "name": "python3"
  },
  "language_info": {
   "codemirror_mode": {
    "name": "ipython",
    "version": 3
   },
   "file_extension": ".py",
   "mimetype": "text/x-python",
   "name": "python",
   "nbconvert_exporter": "python",
   "pygments_lexer": "ipython3",
   "version": "3.7.10"
  }
 },
 "nbformat": 4,
 "nbformat_minor": 4
}
