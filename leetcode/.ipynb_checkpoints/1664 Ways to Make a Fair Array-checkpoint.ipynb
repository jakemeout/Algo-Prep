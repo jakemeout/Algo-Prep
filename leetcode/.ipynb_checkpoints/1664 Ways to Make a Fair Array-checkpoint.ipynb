{
 "cells": [
  {
   "cell_type": "code",
   "execution_count": 5,
   "metadata": {},
   "outputs": [],
   "source": [
    "class Solution:\n",
    "    def waysToMakeFair(self, nums):\n",
    "        \"\"\"\n",
    "        :type nums: List[int]\n",
    "        :rtype: int\n",
    "        \"\"\"\n",
    "        ans = 0\n",
    "        \n",
    "        left_even, left_odd, right_even, right_odd = 0, 0, sum(nums[1::2]), sum(nums[2::2])\n",
    "        even, odd = left_even + right_even, left_odd + right_odd\n",
    "        ans += (even==odd)\n",
    "        #print(left_even, left_odd, right_even, right_odd, '--->', even,odd,ans)\n",
    "        for i in range(1,len(nums)):\n",
    "            if i%2 == 0:\n",
    "                left_odd += nums[i-1]\n",
    "                right_even = right_even \n",
    "                right_odd = right_odd - nums[i]\n",
    "            else:\n",
    "                left_even += nums[i-1]\n",
    "                right_even = right_even - nums[i]\n",
    "                right_odd = right_odd \n",
    "            even, odd = left_even + right_even, left_odd + right_odd\n",
    "            ans += (even==odd)\n",
    "            #print(left_even, left_odd, right_even, right_odd, '--->', even,odd,ans)\n",
    "            \n",
    "        return ans"
   ]
  },
  {
   "cell_type": "code",
   "execution_count": 6,
   "metadata": {},
   "outputs": [
    {
     "name": "stdout",
     "output_type": "stream",
     "text": [
      "0 0 5 6 ---> 5 6 0\n",
      "2 0 4 6 ---> 6 6 1\n",
      "2 1 4 0 ---> 6 1 1\n",
      "8 1 0 0 ---> 8 1 1\n"
     ]
    },
    {
     "data": {
      "text/plain": [
       "1"
      ]
     },
     "execution_count": 6,
     "metadata": {},
     "output_type": "execute_result"
    }
   ],
   "source": [
    "nums = [2,1,6,4]\n",
    "Solution().waysToMakeFair(nums)"
   ]
  },
  {
   "cell_type": "markdown",
   "metadata": {},
   "source": [
    "# Reference\n",
    "\n",
    "[1664. Ways to Make a Fair Array](https://leetcode.com/problems/ways-to-make-a-fair-array/)"
   ]
  }
 ],
 "metadata": {
  "kernelspec": {
   "display_name": "Python 3",
   "language": "python",
   "name": "python3"
  },
  "language_info": {
   "codemirror_mode": {
    "name": "ipython",
    "version": 3
   },
   "file_extension": ".py",
   "mimetype": "text/x-python",
   "name": "python",
   "nbconvert_exporter": "python",
   "pygments_lexer": "ipython3",
   "version": "3.8.5"
  }
 },
 "nbformat": 4,
 "nbformat_minor": 4
}
