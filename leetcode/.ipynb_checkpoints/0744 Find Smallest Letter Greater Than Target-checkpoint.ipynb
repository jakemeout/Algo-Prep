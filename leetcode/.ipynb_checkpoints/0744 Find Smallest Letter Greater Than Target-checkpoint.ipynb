{
 "cells": [
  {
   "cell_type": "code",
   "execution_count": null,
   "metadata": {},
   "outputs": [],
   "source": [
    "class Solution:\n",
    "    def nextGreatestLetter(self, letters, target):\n",
    "        start, end = 0, len(letters)-1\n",
    "        mid = start + (end-start)//2\n",
    "        while start < end:\n",
    "            if letters[mid] > target: # first greater character is on left including this version\n",
    "                end = mid\n",
    "                mid = start + (end-start)//2\n",
    "            else: # first greater character is on right excluding this version\n",
    "                start = mid+1\n",
    "                mid = start + (end-start)//2\n",
    "        if start != len(letters)-1:\n",
    "            return letters[start]\n",
    "        else:\n",
    "            if letters[start] > target:\n",
    "                return letters[start]\n",
    "            else:\n",
    "                return letters[0]"
   ]
  },
  {
   "cell_type": "markdown",
   "metadata": {},
   "source": [
    "# Reference\n",
    "\n",
    "[744. Find Smallest Letter Greater Than Target](https://leetcode.com/problems/find-smallest-letter-greater-than-target/)"
   ]
  }
 ],
 "metadata": {
  "kernelspec": {
   "display_name": "Python 3",
   "language": "python",
   "name": "python3"
  },
  "language_info": {
   "codemirror_mode": {
    "name": "ipython",
    "version": 3
   },
   "file_extension": ".py",
   "mimetype": "text/x-python",
   "name": "python",
   "nbconvert_exporter": "python",
   "pygments_lexer": "ipython3",
   "version": "3.8.5"
  }
 },
 "nbformat": 4,
 "nbformat_minor": 4
}
