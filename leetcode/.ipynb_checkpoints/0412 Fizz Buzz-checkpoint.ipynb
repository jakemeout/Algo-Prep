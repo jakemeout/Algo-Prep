{
 "cells": [
  {
   "cell_type": "code",
   "execution_count": 7,
   "metadata": {},
   "outputs": [],
   "source": [
    "class Solution:\n",
    "    def fizzBuzz(self, n):\n",
    "        out = [None]*n\n",
    "        for i in range(1,n+1):\n",
    "            if i % 3 == 0 and i % 5 == 0:\n",
    "                out[i-1] = 'FizzBuzz'\n",
    "            elif i % 3 == 0:\n",
    "                out[i-1] = 'Fizz'\n",
    "            elif i % 5 == 0:\n",
    "                out[i-1] = 'Buzz'\n",
    "            else:\n",
    "                out[i-1] = str(i)\n",
    "        return out"
   ]
  },
  {
   "cell_type": "code",
   "execution_count": 8,
   "metadata": {},
   "outputs": [
    {
     "name": "stdout",
     "output_type": "stream",
     "text": [
      "['1', '2', 'Fizz']\n"
     ]
    }
   ],
   "source": [
    "n = 3\n",
    "print(Solution().fizzBuzz(n))"
   ]
  },
  {
   "cell_type": "code",
   "execution_count": 9,
   "metadata": {},
   "outputs": [
    {
     "name": "stdout",
     "output_type": "stream",
     "text": [
      "['1', '2', 'Fizz', '4', 'Buzz']\n"
     ]
    }
   ],
   "source": [
    "n = 5\n",
    "print(Solution().fizzBuzz(n))"
   ]
  },
  {
   "cell_type": "code",
   "execution_count": 10,
   "metadata": {},
   "outputs": [
    {
     "name": "stdout",
     "output_type": "stream",
     "text": [
      "['1', '2', 'Fizz', '4', 'Buzz', 'Fizz', '7', '8', 'Fizz', 'Buzz', '11', 'Fizz', '13', '14', 'FizzBuzz']\n"
     ]
    }
   ],
   "source": [
    "n = 15\n",
    "print(Solution().fizzBuzz(n))"
   ]
  },
  {
   "cell_type": "markdown",
   "metadata": {},
   "source": [
    "# Reference\n",
    "\n",
    "[412. Fizz Buzz](https://leetcode.com/problems/fizz-buzz/)\n",
    "\n",
    "[Fizz Buzz | LeetCode 412 | C++, Java, Python](https://www.youtube.com/watch?v=13gtlfrR6L8)\n",
    "\n",
    "[Are you clever enough to solve fizzbuzz in one line?](https://www.youtube.com/watch?v=jV0yhde5xY8)"
   ]
  },
  {
   "cell_type": "code",
   "execution_count": null,
   "metadata": {},
   "outputs": [],
   "source": []
  }
 ],
 "metadata": {
  "kernelspec": {
   "display_name": "Python 3",
   "language": "python",
   "name": "python3"
  },
  "language_info": {
   "codemirror_mode": {
    "name": "ipython",
    "version": 3
   },
   "file_extension": ".py",
   "mimetype": "text/x-python",
   "name": "python",
   "nbconvert_exporter": "python",
   "pygments_lexer": "ipython3",
   "version": "3.8.5"
  }
 },
 "nbformat": 4,
 "nbformat_minor": 4
}
