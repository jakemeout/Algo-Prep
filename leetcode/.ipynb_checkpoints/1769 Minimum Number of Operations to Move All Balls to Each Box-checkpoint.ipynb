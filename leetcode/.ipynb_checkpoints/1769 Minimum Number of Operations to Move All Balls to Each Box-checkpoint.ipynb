{
 "cells": [
  {
   "cell_type": "code",
   "execution_count": 24,
   "metadata": {},
   "outputs": [],
   "source": [
    "class Solution:\n",
    "    def minOperations(self, boxes):\n",
    "        import numpy as np\n",
    "        # initial house keeping\n",
    "        n = len(boxes)\n",
    "        boxes = list(boxes)\n",
    "        boxes = np.array([int(num) for num in boxes])\n",
    "        # construct cost matrix x\n",
    "        # x[i,j] : moving cost of item at j to location i\n",
    "        x = np.zeros((n,n),dtype=np.int64)\n",
    "        for i in range(n):\n",
    "            for j in range(n):\n",
    "                x[i,j] = abs(i-j)\n",
    "        # construct cost list out\n",
    "        # out[i] : total moving cost of items to location i\n",
    "        out = []\n",
    "        for i in range(n):\n",
    "            out.append(np.sum(x[i] * boxes))\n",
    "        return out"
   ]
  },
  {
   "cell_type": "code",
   "execution_count": 25,
   "metadata": {},
   "outputs": [
    {
     "data": {
      "text/plain": [
       "[1, 1, 3]"
      ]
     },
     "execution_count": 25,
     "metadata": {},
     "output_type": "execute_result"
    }
   ],
   "source": [
    "boxes = \"110\"\n",
    "Solution().minOperations(boxes) # [1,1,3]"
   ]
  },
  {
   "cell_type": "markdown",
   "metadata": {},
   "source": [
    "# Reference\n",
    "\n",
    "[1769. Minimum Number of Operations to Move All Balls to Each Box](https://leetcode.com/problems/minimum-number-of-operations-to-move-all-balls-to-each-box/)"
   ]
  }
 ],
 "metadata": {
  "kernelspec": {
   "display_name": "Python 3",
   "language": "python",
   "name": "python3"
  },
  "language_info": {
   "codemirror_mode": {
    "name": "ipython",
    "version": 3
   },
   "file_extension": ".py",
   "mimetype": "text/x-python",
   "name": "python",
   "nbconvert_exporter": "python",
   "pygments_lexer": "ipython3",
   "version": "3.8.5"
  }
 },
 "nbformat": 4,
 "nbformat_minor": 4
}
