{
 "cells": [
  {
   "cell_type": "code",
   "execution_count": null,
   "id": "homeless-squad",
   "metadata": {},
   "outputs": [],
   "source": [
    "# use extra space\n",
    "import numpy as np\n",
    "class Solution:\n",
    "    def minPathSum(self, grid):\n",
    "        \"\"\"\n",
    "        :type grid: List[List[int]]\n",
    "        :rtype: int\n",
    "        \"\"\"\n",
    "        self.g = np.array(grid)\n",
    "        self.m, self.n = self.g.shape\n",
    "        self.memo = {}  \n",
    "        return self.minPathSumHelper(0, 0)\n",
    "    def minPathSumHelper(self, i, j):\n",
    "        \"\"\"\n",
    "        self.minPathSum(self.g[i:,j:])\n",
    "        \"\"\"\n",
    "        if i == self.m-1 or j == self.n-1:\n",
    "            if (i,j) not in self.memo:\n",
    "                self.memo[(i,j)] = np.sum(self.g[i:,j:])\n",
    "        elif (i,j) not in self.memo:\n",
    "            self.memo[(i,j)] = min(self.minPathSumHelper(i+1,j), self.minPathSumHelper(i,j+1)) + self.g[i,j] \n",
    "        return self.memo[(i,j)]"
   ]
  },
  {
   "cell_type": "code",
   "execution_count": null,
   "id": "patient-customs",
   "metadata": {},
   "outputs": [],
   "source": [
    "# don't use extra space\n",
    "class Solution:\n",
    "    def minPathSum(self, grid: List[List[int]]) -> int:\n",
    "        if len(grid) <= 0 or grid is None:\n",
    "            return 0\n",
    "        rows = len(grid)\n",
    "        cols = len(grid[0])\n",
    "        \n",
    "        # grid[r][c] is the cost of (r,c) [original]\n",
    "        # grid[r][c] will record the minimum cost from (0,0) to (r,c) [final]\n",
    "        for r in range(rows):\n",
    "            for c in range(cols):\n",
    "                if r==0 and c==0: # We just want to skip the top-left corner of the grid\n",
    "                    continue\n",
    "                if r==0: # Cases for elements in top row\n",
    "                    grid[r][c] = grid[r][c] + grid[r][c-1]  \n",
    "                elif c==0: # Cases for elements in leftmost column\n",
    "                    grid[r][c] = grid[r][c] + grid[r-1][c]  \n",
    "                else: # Normal cell\n",
    "                    grid[r][c] = grid[r][c] + min(grid[r-1][c], grid[r][c-1])               \n",
    "        return grid[rows-1][cols-1] "
   ]
  },
  {
   "cell_type": "markdown",
   "id": "atmospheric-library",
   "metadata": {},
   "source": [
    "# Reference\n",
    "\n",
    "[64. Minimum Path Sum](https://leetcode.com/problems/minimum-path-sum/)\n",
    "\n",
    "[[Python] Grid reduction (Sounds fancy but a simple method), no additional space](https://leetcode.com/problems/minimum-path-sum/discuss/584967/Python-Grid-reduction-(Sounds-fancy-but-a-simple-method)-no-additional-space)"
   ]
  }
 ],
 "metadata": {
  "kernelspec": {
   "display_name": "Python 3",
   "language": "python",
   "name": "python3"
  },
  "language_info": {
   "codemirror_mode": {
    "name": "ipython",
    "version": 3
   },
   "file_extension": ".py",
   "mimetype": "text/x-python",
   "name": "python",
   "nbconvert_exporter": "python",
   "pygments_lexer": "ipython3",
   "version": "3.7.10"
  }
 },
 "nbformat": 4,
 "nbformat_minor": 5
}
