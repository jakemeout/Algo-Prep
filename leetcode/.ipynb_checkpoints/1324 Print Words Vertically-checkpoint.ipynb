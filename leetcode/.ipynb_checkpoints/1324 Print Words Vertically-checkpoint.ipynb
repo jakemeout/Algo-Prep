{
 "cells": [
  {
   "cell_type": "code",
   "execution_count": 13,
   "metadata": {},
   "outputs": [],
   "source": [
    "class Solution:\n",
    "    def printVertically(self, s):\n",
    "        words = s.split()\n",
    "        max_len = max(len(word) for word in words)\n",
    "\n",
    "        ans = [''] * max_len\n",
    "        for word in words:\n",
    "            for i, c in enumerate(word):\n",
    "                ans[i] += c\n",
    "            for idx in range(i+1,max_len):\n",
    "                ans[idx] += ' '\n",
    "\n",
    "        for idx, word in enumerate(ans):\n",
    "            ans[idx] = word.rstrip()\n",
    "        return ans"
   ]
  },
  {
   "cell_type": "code",
   "execution_count": 14,
   "metadata": {},
   "outputs": [
    {
     "name": "stdout",
     "output_type": "stream",
     "text": [
      "['TBONTB', 'OEROOE', '   T  ']\n"
     ]
    },
    {
     "data": {
      "text/plain": [
       "['TBONTB', 'OEROOE', '   T']"
      ]
     },
     "execution_count": 14,
     "metadata": {},
     "output_type": "execute_result"
    }
   ],
   "source": [
    "s = \"TO BE OR NOT TO BE\"\n",
    "Solution().printVertically(s) # [\"TBONTB\",\"OEROOE\",\"   T\"]"
   ]
  },
  {
   "cell_type": "markdown",
   "metadata": {},
   "source": [
    "# Reference\n",
    "\n",
    "[1324. Print Words Vertically](https://leetcode.com/problems/print-words-vertically/)\n",
    "\n",
    "[[LeetCode] 1324, Print Words Vertically](https://www.youtube.com/watch?v=XQvrEIJcbQY&list=PL-OC--HdIAXPzvuBbuI4e_MFYpzFnA6yR&index=35)\n",
    "\n",
    "[Print Words Vertically (Leetcode 1324)](https://www.youtube.com/watch?v=lAGAgZZ7VMM&list=PL_lPC-CADCvSRKTJcAxtkJEGuP87K3E2J&index=2)"
   ]
  }
 ],
 "metadata": {
  "kernelspec": {
   "display_name": "Python 3",
   "language": "python",
   "name": "python3"
  },
  "language_info": {
   "codemirror_mode": {
    "name": "ipython",
    "version": 3
   },
   "file_extension": ".py",
   "mimetype": "text/x-python",
   "name": "python",
   "nbconvert_exporter": "python",
   "pygments_lexer": "ipython3",
   "version": "3.8.5"
  }
 },
 "nbformat": 4,
 "nbformat_minor": 4
}
