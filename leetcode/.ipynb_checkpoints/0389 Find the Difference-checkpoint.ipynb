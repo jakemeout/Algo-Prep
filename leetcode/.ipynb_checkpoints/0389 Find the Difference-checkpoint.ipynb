{
 "cells": [
  {
   "cell_type": "code",
   "execution_count": null,
   "metadata": {},
   "outputs": [],
   "source": [
    "class Solution:\n",
    "    def findTheDifference(self, s: str, t: str) -> str:\n",
    "        # construct counter dict for s and t separately\n",
    "        d = [{},{}]\n",
    "        for string, idx in zip([s,t],[0,1]):\n",
    "            for char in string:\n",
    "                if char in d[idx]:\n",
    "                    d[idx][char] += 1\n",
    "                else:\n",
    "                    d[idx][char] = 1\n",
    "        ds, dt = d[0], d[1]\n",
    "        # find char added to t\n",
    "        for char in dt:\n",
    "            if char not in ds:\n",
    "                return char\n",
    "            if ds[char] != dt[char]:\n",
    "                return char"
   ]
  },
  {
   "cell_type": "markdown",
   "metadata": {},
   "source": [
    "# Reference\n",
    "\n",
    "[389. Find the Difference](https://leetcode.com/problems/find-the-difference/)"
   ]
  }
 ],
 "metadata": {
  "kernelspec": {
   "display_name": "Python 3",
   "language": "python",
   "name": "python3"
  },
  "language_info": {
   "codemirror_mode": {
    "name": "ipython",
    "version": 3
   },
   "file_extension": ".py",
   "mimetype": "text/x-python",
   "name": "python",
   "nbconvert_exporter": "python",
   "pygments_lexer": "ipython3",
   "version": "3.8.5"
  }
 },
 "nbformat": 4,
 "nbformat_minor": 4
}
