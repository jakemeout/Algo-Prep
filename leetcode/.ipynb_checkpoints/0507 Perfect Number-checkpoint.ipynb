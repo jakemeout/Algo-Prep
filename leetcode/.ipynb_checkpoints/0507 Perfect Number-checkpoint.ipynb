{
 "cells": [
  {
   "cell_type": "code",
   "execution_count": 13,
   "metadata": {},
   "outputs": [],
   "source": [
    "# Time Limit Exceeded\n",
    "class Solution:\n",
    "    def checkPerfectNumber(self, num: int) -> bool:\n",
    "        lst = [1]\n",
    "        for i in range(2,num//2+1):\n",
    "            if num%i == 0:\n",
    "                lst.append(i)\n",
    "        print(lst)\n",
    "        return sum(lst) == num"
   ]
  },
  {
   "cell_type": "markdown",
   "metadata": {},
   "source": [
    "$$\n",
    "n=2^\\alpha7^\\beta\n",
    "$$\n",
    "$$\n",
    "\\sum\\text{divisor $d(\\neq n)$ of $n$}\n",
    "=\\left(2^0+2^1+2^2+\\cdots+2^\\alpha\\right)\\cdot\\left(7^0+7^1+7^2+\\cdots+7^\\beta\\right)-n\n",
    "=\\frac{2^{\\alpha+1}-1}{2-1}\\cdot\\frac{7^{\\beta+1}-1}{7-1}-n\n",
    "$$"
   ]
  },
  {
   "cell_type": "code",
   "execution_count": 47,
   "metadata": {},
   "outputs": [],
   "source": [
    "# Time Limit Exceeded\n",
    "class Solution:\n",
    "    def checkPerfectNumber(self, num: int) -> bool:\n",
    "        primes = self.listPrimes(num)\n",
    "        #print(primes)\n",
    "        sum_dividers = 1\n",
    "        for p in primes:\n",
    "            if num%p == 0: # find prime divisor p \n",
    "                for alpha in range(1,num):\n",
    "                    if num%(p**alpha) != 0: # alpha-1 is max power in num\n",
    "                        sum_dividers *= (p**alpha-1)//(p-1)\n",
    "                        if sum_dividers > 2*num:\n",
    "                            return False\n",
    "                        break     \n",
    "        sum_dividers -= num\n",
    "        return sum_dividers == num\n",
    "    def listPrimes(self, num):\n",
    "        \"\"\"\n",
    "        list up primes p <= num//2\n",
    "        \"\"\"\n",
    "        if num <= 2:\n",
    "            return []\n",
    "        primes = [2]\n",
    "        primes_range = num//2 #num-1 \n",
    "        seives = set(range(2,primes_range+1,2))\n",
    "        for p in range(3,primes_range+1,2):\n",
    "            if p not in seives:\n",
    "                primes.append(p)\n",
    "                seives.update(range(p,primes_range+1,p))\n",
    "        return primes     "
   ]
  },
  {
   "cell_type": "markdown",
   "metadata": {},
   "source": [
    "Big Idea: If i is a divisor, then num//i is also a divisor."
   ]
  },
  {
   "cell_type": "code",
   "execution_count": null,
   "metadata": {},
   "outputs": [],
   "source": [
    "class Solution:\n",
    "    def checkPerfectNumber(self, num: int) -> bool:\n",
    "        if num<=2:\n",
    "            return False\n",
    "        # To find divisors we have to iterate all natural numbers from 1 upto sqrt(num).  \n",
    "        # Big Idea : if i is divisor, then num//i is also divisor\n",
    "        # Start with i=2 since we need to exclude the number itself as divisor\n",
    "        i=2\n",
    "        s=0\n",
    "        while(i*i<=num):\n",
    "            if(num%i==0):\n",
    "                if i!=num//i:\n",
    "                    s+=i+num//i\n",
    "                else:\n",
    "                    s+=i\n",
    "            i+=1\n",
    "        # Add 1 as divisor in the sum as it was not included since we started from i=2. \n",
    "        s+=1\n",
    "        return s==num"
   ]
  },
  {
   "cell_type": "code",
   "execution_count": 48,
   "metadata": {},
   "outputs": [
    {
     "data": {
      "text/plain": [
       "False"
      ]
     },
     "execution_count": 48,
     "metadata": {},
     "output_type": "execute_result"
    }
   ],
   "source": [
    "num = 13466917\n",
    "Solution().checkPerfectNumber(num) # False"
   ]
  },
  {
   "cell_type": "markdown",
   "metadata": {},
   "source": [
    "# Reference\n",
    "\n",
    "[507. Perfect Number](https://leetcode.com/problems/perfect-number/)\n",
    "\n",
    "[Python Solution with explanation](https://leetcode.com/problems/perfect-number/discuss/1209946/Python-Solution-with-explanation)"
   ]
  },
  {
   "cell_type": "code",
   "execution_count": null,
   "metadata": {},
   "outputs": [],
   "source": []
  }
 ],
 "metadata": {
  "kernelspec": {
   "display_name": "Python 3",
   "language": "python",
   "name": "python3"
  },
  "language_info": {
   "codemirror_mode": {
    "name": "ipython",
    "version": 3
   },
   "file_extension": ".py",
   "mimetype": "text/x-python",
   "name": "python",
   "nbconvert_exporter": "python",
   "pygments_lexer": "ipython3",
   "version": "3.8.5"
  }
 },
 "nbformat": 4,
 "nbformat_minor": 4
}
