{
 "cells": [
  {
   "cell_type": "code",
   "execution_count": null,
   "metadata": {},
   "outputs": [],
   "source": [
    "class Solution:\n",
    "    def numTeams(self, rating):\n",
    "        \"\"\"\n",
    "        :type rating: List[int]\n",
    "        :rtype: int\n",
    "        \"\"\"\n",
    "        n = len(rating)\n",
    "        \n",
    "        up = [0] * n   # up[i] :   number of j > i such that rating[j] > rating[i]  \n",
    "        down = [0] * n # down[i] : number of j > i such that rating[j] < rating[i]  \n",
    "        \n",
    "        ans = 0\n",
    "        for i in range(n-1, -1, -1):\n",
    "            for j in range(i+1, n):\n",
    "                if rating[i] < rating[j]:\n",
    "                    up[i] += 1\n",
    "                    ans += up[j]\n",
    "                else:\n",
    "                    down[i] += 1\n",
    "                    ans += down[j]\n",
    "        return ans"
   ]
  },
  {
   "cell_type": "markdown",
   "metadata": {},
   "source": [
    "# Reference\n",
    "\n",
    "[1395. Count Number of Teams](https://leetcode.com/problems/count-number-of-teams/)\n",
    "\n",
    "[Python | clean DP solution O(n^2) 92 % fast](https://leetcode.com/problems/count-number-of-teams/discuss/859545/Python-or-clean-DP-solution-O(n2)-92-fast)"
   ]
  }
 ],
 "metadata": {
  "kernelspec": {
   "display_name": "Python 3",
   "language": "python",
   "name": "python3"
  },
  "language_info": {
   "codemirror_mode": {
    "name": "ipython",
    "version": 3
   },
   "file_extension": ".py",
   "mimetype": "text/x-python",
   "name": "python",
   "nbconvert_exporter": "python",
   "pygments_lexer": "ipython3",
   "version": "3.8.5"
  }
 },
 "nbformat": 4,
 "nbformat_minor": 4
}
