{
 "cells": [
  {
   "cell_type": "code",
   "execution_count": null,
   "metadata": {},
   "outputs": [],
   "source": [
    "# Below is the interface for Iterator, which is already defined for you.\n",
    "class Iterator:\n",
    "    def __init__(self, nums):\n",
    "        \"\"\"\n",
    "        Initializes an iterator object to the beginning of a list.\n",
    "        :type nums: List[int]\n",
    "        \"\"\"\n",
    "    def hasNext(self):\n",
    "        \"\"\"\n",
    "        Returns true if the iteration has more elements.\n",
    "        :rtype: bool\n",
    "        \"\"\"\n",
    "    def next(self):\n",
    "        \"\"\"\n",
    "        Returns the next element in the iteration.\n",
    "        :rtype: int\n",
    "        \"\"\""
   ]
  },
  {
   "cell_type": "code",
   "execution_count": null,
   "metadata": {},
   "outputs": [],
   "source": [
    "class PeekingIterator:\n",
    "    def __init__(self, iterator):\n",
    "        self.iterator = iterator\n",
    "        self.hasNext_ = self.iterator.hasNext()\n",
    "        self.next_ = self.iterator.next()\n",
    "        \n",
    "    def peek(self):\n",
    "        return self.next_\n",
    "\n",
    "    def next(self):\n",
    "        temp = self.next_\n",
    "        self.hasNext_ = self.iterator.hasNext()\n",
    "        self.next_ = self.iterator.next()\n",
    "        return temp\n",
    "\n",
    "    def hasNext(self):\n",
    "        return self.hasNext_"
   ]
  },
  {
   "cell_type": "markdown",
   "metadata": {},
   "source": [
    "# Reference\n",
    "\n",
    "[284. Peeking Iterator](https://leetcode.com/problems/peeking-iterator/)\n",
    "\n",
    "[Peeking Iterator (Leetcode 284)](https://www.youtube.com/watch?v=GUbjPm9_oI8&list=PL_lPC-CADCvSRKTJcAxtkJEGuP87K3E2J&index=4)\n",
    "\n",
    "[Short Python solution](https://leetcode.com/problems/peeking-iterator/discuss/1226486/Short-Python-solution)"
   ]
  }
 ],
 "metadata": {
  "kernelspec": {
   "display_name": "Python 3",
   "language": "python",
   "name": "python3"
  },
  "language_info": {
   "codemirror_mode": {
    "name": "ipython",
    "version": 3
   },
   "file_extension": ".py",
   "mimetype": "text/x-python",
   "name": "python",
   "nbconvert_exporter": "python",
   "pygments_lexer": "ipython3",
   "version": "3.8.5"
  }
 },
 "nbformat": 4,
 "nbformat_minor": 4
}
