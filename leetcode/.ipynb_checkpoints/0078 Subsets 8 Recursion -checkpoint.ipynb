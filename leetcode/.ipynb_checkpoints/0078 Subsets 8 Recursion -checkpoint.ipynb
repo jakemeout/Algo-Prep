{
 "cells": [
  {
   "cell_type": "code",
   "execution_count": 1,
   "metadata": {},
   "outputs": [],
   "source": [
    "class Solution:\n",
    "    def subsets(self, lst):\n",
    "        \"\"\"\n",
    "        :type lst: List[int]\n",
    "        :rtype: List[List[int]]\n",
    "        \"\"\"\n",
    "        if len(lst) == 0: return [[]] # base case for recursion\n",
    "        out = []\n",
    "        for lst_ in self.subsets(lst[1:]): # recursion step\n",
    "            out.append(lst_)\n",
    "            out.append([lst[0]]+lst_)\n",
    "        return out"
   ]
  },
  {
   "cell_type": "code",
   "execution_count": 2,
   "metadata": {},
   "outputs": [
    {
     "name": "stdout",
     "output_type": "stream",
     "text": [
      "[[], [1], [2], [1, 2], [3], [1, 3], [2, 3], [1, 2, 3]]\n"
     ]
    }
   ],
   "source": [
    "print(Solution().subsets([1,2,3]))"
   ]
  },
  {
   "cell_type": "code",
   "execution_count": 3,
   "metadata": {},
   "outputs": [
    {
     "name": "stdout",
     "output_type": "stream",
     "text": [
      "[[], [1], [2], [1, 2], [3], [1, 3], [2, 3], [1, 2, 3]]\n"
     ]
    }
   ],
   "source": [
    "print(Solution().subsets([1,2,3,1]))"
   ]
  },
  {
   "cell_type": "code",
   "execution_count": 4,
   "metadata": {},
   "outputs": [
    {
     "name": "stdout",
     "output_type": "stream",
     "text": [
      "[[], ['a'], ['c'], ['a', 'c'], ['b'], ['a', 'b'], ['c', 'b'], ['a', 'c', 'b']]\n"
     ]
    }
   ],
   "source": [
    "print(Solution().subsets(['a','b','c']))"
   ]
  },
  {
   "cell_type": "code",
   "execution_count": 5,
   "metadata": {},
   "outputs": [
    {
     "name": "stdout",
     "output_type": "stream",
     "text": [
      "[[], ['a'], ['c'], ['a', 'c'], ['b'], ['a', 'b'], ['c', 'b'], ['a', 'c', 'b']]\n"
     ]
    }
   ],
   "source": [
    "print(Solution().subsets(['a','b','c','a']))"
   ]
  },
  {
   "cell_type": "markdown",
   "metadata": {},
   "source": [
    "# Reference\n",
    "\n",
    "[78. Subsets](https://leetcode.com/problems/subsets/)\n",
    "\n",
    "[Subsets - LeetCode 78 Python](https://www.youtube.com/watch?v=z3xEwMA5Rn8)\n",
    "\n",
    "[Print all the subsets of a list - Python 3 Implementation](https://www.youtube.com/watch?v=smiJpuj91so)"
   ]
  },
  {
   "cell_type": "code",
   "execution_count": null,
   "metadata": {},
   "outputs": [],
   "source": []
  }
 ],
 "metadata": {
  "kernelspec": {
   "display_name": "Python 3",
   "language": "python",
   "name": "python3"
  },
  "language_info": {
   "codemirror_mode": {
    "name": "ipython",
    "version": 3
   },
   "file_extension": ".py",
   "mimetype": "text/x-python",
   "name": "python",
   "nbconvert_exporter": "python",
   "pygments_lexer": "ipython3",
   "version": "3.8.5"
  }
 },
 "nbformat": 4,
 "nbformat_minor": 4
}
