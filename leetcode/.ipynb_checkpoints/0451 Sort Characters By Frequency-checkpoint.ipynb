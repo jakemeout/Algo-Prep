{
 "cells": [
  {
   "cell_type": "code",
   "execution_count": null,
   "metadata": {},
   "outputs": [],
   "source": [
    "class Solution:\n",
    "    def frequencySort(self, s: str) -> str:\n",
    "        # counter dict d\n",
    "        # key : char\n",
    "        # value : frequency of char in s\n",
    "        d = {}\n",
    "        for char in s:\n",
    "            if char in d:\n",
    "                d[char] += 1\n",
    "            else:\n",
    "                d[char] = 1\n",
    "        # frequency dict f\n",
    "        # key : frequency\n",
    "        # value : [char in s with given freq]\n",
    "        f = {}\n",
    "        for char, freq in d.items():\n",
    "            if freq in f:\n",
    "                f[freq].append(char)\n",
    "            else:\n",
    "                f[freq] = [char]\n",
    "        # ans\n",
    "        ans = ''\n",
    "        freq_sorted = sorted(f.keys())\n",
    "        while freq_sorted:\n",
    "            freq = freq_sorted.pop()\n",
    "            ans += ''.join([ char * freq for char in f[freq] ])\n",
    "        return ans"
   ]
  },
  {
   "cell_type": "markdown",
   "metadata": {},
   "source": [
    "# Reference\n",
    "\n",
    "[451. Sort Characters By Frequency](https://leetcode.com/problems/sort-characters-by-frequency/)"
   ]
  }
 ],
 "metadata": {
  "kernelspec": {
   "display_name": "Python 3",
   "language": "python",
   "name": "python3"
  },
  "language_info": {
   "codemirror_mode": {
    "name": "ipython",
    "version": 3
   },
   "file_extension": ".py",
   "mimetype": "text/x-python",
   "name": "python",
   "nbconvert_exporter": "python",
   "pygments_lexer": "ipython3",
   "version": "3.8.5"
  }
 },
 "nbformat": 4,
 "nbformat_minor": 4
}
