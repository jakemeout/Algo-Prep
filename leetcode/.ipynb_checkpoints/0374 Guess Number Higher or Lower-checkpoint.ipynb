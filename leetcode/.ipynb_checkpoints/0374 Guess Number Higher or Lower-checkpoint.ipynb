{
 "cells": [
  {
   "cell_type": "code",
   "execution_count": null,
   "metadata": {},
   "outputs": [],
   "source": [
    "# The guess API is already defined for you.\n",
    "# @param num, your guess\n",
    "# @return -1 if my number is lower, 1 if my number is higher, otherwise return 0\n",
    "# def guess(num: int) -> int:"
   ]
  },
  {
   "cell_type": "code",
   "execution_count": null,
   "metadata": {},
   "outputs": [],
   "source": [
    "class Solution:\n",
    "    def guessNumber(self, n: int) -> int:\n",
    "        start, end = 1, n\n",
    "        mid = start + (end-start)//2\n",
    "        flag_found = False\n",
    "        while not flag_found:\n",
    "            if guess(mid) == 0: # The number I picked is equal to your guess\n",
    "                flag_found = True\n",
    "                return mid\n",
    "            elif guess(mid) == -1: # The number I picked is lower than your guess\n",
    "                end = mid-1\n",
    "                mid = start + (end-start)//2\n",
    "            else: # The number I picked is higher than your guess\n",
    "                start = mid+1\n",
    "                mid = start + (end-start)//2"
   ]
  },
  {
   "cell_type": "markdown",
   "metadata": {},
   "source": [
    "# Reference\n",
    "\n",
    "[374. Guess Number Higher or Lower](https://leetcode.com/problems/guess-number-higher-or-lower/)"
   ]
  }
 ],
 "metadata": {
  "kernelspec": {
   "display_name": "Python 3",
   "language": "python",
   "name": "python3"
  },
  "language_info": {
   "codemirror_mode": {
    "name": "ipython",
    "version": 3
   },
   "file_extension": ".py",
   "mimetype": "text/x-python",
   "name": "python",
   "nbconvert_exporter": "python",
   "pygments_lexer": "ipython3",
   "version": "3.8.5"
  }
 },
 "nbformat": 4,
 "nbformat_minor": 4
}
