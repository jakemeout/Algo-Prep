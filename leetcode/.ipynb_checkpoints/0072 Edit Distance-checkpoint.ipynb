{
 "cells": [
  {
   "cell_type": "code",
   "execution_count": 11,
   "metadata": {},
   "outputs": [],
   "source": [
    "class Solution:\n",
    "    def minDistance(self, word1: str, word2: str) -> int:\n",
    "        import numpy as np\n",
    "        memo = np.zeros(shape=(len(word1)+1,len(word2)+1),dtype=np.int64)\n",
    "        memo[0,:] = np.arange(len(word2)+1)\n",
    "        memo[:,0] = np.arange(len(word1)+1)\n",
    "        for i, char1 in enumerate(word1,start=1):\n",
    "            for j, char2 in enumerate(word2,start=1):\n",
    "                if char1 == char2:\n",
    "                    memo[i,j] = memo[i-1,j-1]\n",
    "                else:\n",
    "                    memo[i,j] = min(memo[i-1,j],memo[i,j-1],memo[i-1,j-1]) + 1\n",
    "        return memo[len(word1),len(word2)] "
   ]
  },
  {
   "cell_type": "code",
   "execution_count": 12,
   "metadata": {},
   "outputs": [
    {
     "data": {
      "text/plain": [
       "5"
      ]
     },
     "execution_count": 12,
     "metadata": {},
     "output_type": "execute_result"
    }
   ],
   "source": [
    "word1 = \"intention\"\n",
    "word2 = \"execution\"\n",
    "Solution().minDistance(word1, word2) # 5"
   ]
  },
  {
   "cell_type": "markdown",
   "metadata": {},
   "source": [
    "# Reference\n",
    "\n",
    "[72. Edit Distance](https://www.youtube.com/watch?v=We3YDTzNXEk)\n",
    "\n",
    "[Minimum Edit Distance Dynamic Programming](https://www.youtube.com/watch?v=We3YDTzNXEk)\n",
    "\n",
    "[Edit Distance | Dynamic Programming | LeetCode 72 | C++, Java, Python](https://www.youtube.com/watch?v=ZkgBinDx9Kg&list=PL1w8k37X_6L-UQSn0c4DJJmbLb2DzDBkx&index=15)"
   ]
  }
 ],
 "metadata": {
  "kernelspec": {
   "display_name": "Python 3",
   "language": "python",
   "name": "python3"
  },
  "language_info": {
   "codemirror_mode": {
    "name": "ipython",
    "version": 3
   },
   "file_extension": ".py",
   "mimetype": "text/x-python",
   "name": "python",
   "nbconvert_exporter": "python",
   "pygments_lexer": "ipython3",
   "version": "3.8.5"
  }
 },
 "nbformat": 4,
 "nbformat_minor": 4
}
