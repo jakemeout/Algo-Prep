{
 "cells": [
  {
   "cell_type": "code",
   "execution_count": 3,
   "id": "adaptive-theory",
   "metadata": {},
   "outputs": [],
   "source": [
    "class Solution:\n",
    "    def longestPrefix(self, s: str) -> str:\n",
    "        n = self.KMP(s) \n",
    "        #print(n)\n",
    "        return s[:n]\n",
    "        \n",
    "    def KMP(self, s):\n",
    "        table = [0] * len(s)\n",
    "        j, i = 0, 1\n",
    "        while i < len(s):\n",
    "            if s[j] != s[i]:\n",
    "                if j == 0:\n",
    "                    i += 1\n",
    "                else:\n",
    "                    j = table[j-1]\n",
    "            else: \n",
    "                table[i] = j + 1\n",
    "                j += 1\n",
    "                i += 1\n",
    "        #print(table)\n",
    "        return table[-1]   "
   ]
  },
  {
   "cell_type": "code",
   "execution_count": 5,
   "id": "developing-conditions",
   "metadata": {},
   "outputs": [
    {
     "name": "stdout",
     "output_type": "stream",
     "text": [
      "[0, 0, 1, 2, 3, 4]\n",
      "4\n"
     ]
    },
    {
     "data": {
      "text/plain": [
       "'abab'"
      ]
     },
     "execution_count": 5,
     "metadata": {},
     "output_type": "execute_result"
    }
   ],
   "source": [
    "s = \"ababab\"\n",
    "Solution().longestPrefix(s)"
   ]
  },
  {
   "cell_type": "markdown",
   "id": "brief-coupon",
   "metadata": {},
   "source": [
    "# Reference\n",
    "\n",
    "[1392. Longest Happy Prefix](https://leetcode.com/problems/longest-happy-prefix/)"
   ]
  }
 ],
 "metadata": {
  "kernelspec": {
   "display_name": "Python 3",
   "language": "python",
   "name": "python3"
  },
  "language_info": {
   "codemirror_mode": {
    "name": "ipython",
    "version": 3
   },
   "file_extension": ".py",
   "mimetype": "text/x-python",
   "name": "python",
   "nbconvert_exporter": "python",
   "pygments_lexer": "ipython3",
   "version": "3.7.10"
  }
 },
 "nbformat": 4,
 "nbformat_minor": 5
}
