{
 "cells": [
  {
   "cell_type": "code",
   "execution_count": null,
   "metadata": {},
   "outputs": [],
   "source": [
    "class Solution:\n",
    "    def uniqueOccurrences(self, nums):\n",
    "        # construct counter dict d\n",
    "        d = {}\n",
    "        for num in nums:\n",
    "            if num not in d:\n",
    "                d[num] = 1\n",
    "            else:\n",
    "                d[num] += 1\n",
    "        # construct counter set s\n",
    "        s = set()\n",
    "        for num in d:\n",
    "            if d[num] in s: return False\n",
    "            else: s.add(d[num])\n",
    "        return True"
   ]
  },
  {
   "cell_type": "markdown",
   "metadata": {},
   "source": [
    "# Reference\n",
    "\n",
    "[1207. Unique Number of Occurrences](https://leetcode.com/problems/unique-number-of-occurrences/)"
   ]
  }
 ],
 "metadata": {
  "kernelspec": {
   "display_name": "Python 3",
   "language": "python",
   "name": "python3"
  },
  "language_info": {
   "codemirror_mode": {
    "name": "ipython",
    "version": 3
   },
   "file_extension": ".py",
   "mimetype": "text/x-python",
   "name": "python",
   "nbconvert_exporter": "python",
   "pygments_lexer": "ipython3",
   "version": "3.8.5"
  }
 },
 "nbformat": 4,
 "nbformat_minor": 4
}
