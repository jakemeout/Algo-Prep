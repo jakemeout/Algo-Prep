{
 "cells": [
  {
   "cell_type": "code",
   "execution_count": 28,
   "metadata": {},
   "outputs": [],
   "source": [
    "from math import perm\n",
    "\n",
    "class Solution:\n",
    "    def numDupDigitsAtMostN(self, n: int) -> int:\n",
    "        numNoDupDigits = 0 # the number of positive integers less than or equal to n with no repeated digits\n",
    "        \n",
    "        lst = list(map(int, str(n)))\n",
    "        n_digits = len(lst)\n",
    "        \n",
    "        # if n = 8765, lst = [8,7,6,5],\n",
    "        # the number without repeated digit can the the following format:\n",
    "        # XXX\n",
    "        # XX\n",
    "        # X\n",
    "        for i in range(1, n_digits):\n",
    "            # the number of i digits without repeated digit\n",
    "            # the leading digit cannot be 0\n",
    "            numNoDupDigits += 9 * perm(9, i - 1)\n",
    "        \n",
    "        # and\n",
    "        # 1XXX ~ 7XXX\n",
    "        # 80XX ~ 86XX\n",
    "        # 870X ~ 875X\n",
    "        # 8760 ~ 8764\n",
    "        seen = set()\n",
    "        for i, x in enumerate(lst):\n",
    "            for y in range(0 if i else 1, x):\n",
    "                if y not in seen:\n",
    "                    # the leading digit used - y\n",
    "                    # for the remaining positions we cannot use digits in set seen and y\n",
    "                    numNoDupDigits += perm(9 - i, n_digits - i - 1)\n",
    "            if x in seen: \n",
    "                break\n",
    "            seen.add(x)\n",
    "            \n",
    "        # and\n",
    "        # 8765\n",
    "        if n_digits == len(set(list(str(n)))):\n",
    "            numNoDupDigits += 1\n",
    "        \n",
    "        return n - numNoDupDigits"
   ]
  },
  {
   "cell_type": "markdown",
   "metadata": {},
   "source": [
    "# Reference\n",
    "\n",
    "[1012. Numbers With Repeated Digits](https://leetcode.com/problems/numbers-with-repeated-digits/)\n",
    "\n",
    "[[Java/Python] Count the Number Without Repeated Digit](https://leetcode.com/problems/numbers-with-repeated-digits/discuss/256725/JavaPython-Count-the-Number-Without-Repeated-Digit/250219)"
   ]
  },
  {
   "cell_type": "code",
   "execution_count": null,
   "metadata": {},
   "outputs": [],
   "source": []
  }
 ],
 "metadata": {
  "kernelspec": {
   "display_name": "Python 3",
   "language": "python",
   "name": "python3"
  },
  "language_info": {
   "codemirror_mode": {
    "name": "ipython",
    "version": 3
   },
   "file_extension": ".py",
   "mimetype": "text/x-python",
   "name": "python",
   "nbconvert_exporter": "python",
   "pygments_lexer": "ipython3",
   "version": "3.8.5"
  }
 },
 "nbformat": 4,
 "nbformat_minor": 4
}
