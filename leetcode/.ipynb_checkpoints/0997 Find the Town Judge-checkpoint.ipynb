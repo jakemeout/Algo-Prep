{
 "cells": [
  {
   "cell_type": "code",
   "execution_count": null,
   "metadata": {},
   "outputs": [],
   "source": [
    "class Solution:\n",
    "    def findJudge(self, n, trust):\n",
    "        # edge case\n",
    "        if trust == []:\n",
    "            if n == 1:\n",
    "                return 1\n",
    "            else:\n",
    "                return -1\n",
    "        # construct dict d\n",
    "        # key : trusted person\n",
    "        # value : set of people who trust key\n",
    "        d = {}\n",
    "        person_who_trust_someone = set()\n",
    "        for person, trusted in trust:\n",
    "            person_who_trust_someone.add(person)\n",
    "            if trusted in d:\n",
    "                d[trusted].add(person)\n",
    "            else:\n",
    "                d[trusted] = set([person])\n",
    "        for trusted in d:\n",
    "            # Everybody (except for the town judge) trusts the town judge.\n",
    "            if len(d[trusted]) == n-1: \n",
    "                # The town judge trusts nobody.\n",
    "                if trusted not in person_who_trust_someone:\n",
    "                    return trusted\n",
    "        return -1                "
   ]
  },
  {
   "cell_type": "code",
   "execution_count": 1,
   "metadata": {},
   "outputs": [
    {
     "data": {
      "text/plain": [
       "{1}"
      ]
     },
     "execution_count": 1,
     "metadata": {},
     "output_type": "execute_result"
    }
   ],
   "source": [
    "set([1])"
   ]
  },
  {
   "cell_type": "markdown",
   "metadata": {},
   "source": [
    "# Reference\n",
    "\n",
    "[997. Find the Town Judge](https://leetcode.com/problems/find-the-town-judge/)"
   ]
  }
 ],
 "metadata": {
  "kernelspec": {
   "display_name": "Python 3",
   "language": "python",
   "name": "python3"
  },
  "language_info": {
   "codemirror_mode": {
    "name": "ipython",
    "version": 3
   },
   "file_extension": ".py",
   "mimetype": "text/x-python",
   "name": "python",
   "nbconvert_exporter": "python",
   "pygments_lexer": "ipython3",
   "version": "3.8.5"
  }
 },
 "nbformat": 4,
 "nbformat_minor": 4
}
