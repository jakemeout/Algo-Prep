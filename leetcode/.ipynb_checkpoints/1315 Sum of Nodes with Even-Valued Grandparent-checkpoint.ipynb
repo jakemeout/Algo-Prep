{
 "cells": [
  {
   "cell_type": "code",
   "execution_count": null,
   "metadata": {},
   "outputs": [],
   "source": [
    "class TreeNode:\n",
    "    def __init__(self, val=0, left=None, right=None):\n",
    "        self.val = val\n",
    "        self.left = left\n",
    "        self.right = right"
   ]
  },
  {
   "cell_type": "code",
   "execution_count": null,
   "metadata": {},
   "outputs": [],
   "source": [
    "class Solution:\n",
    "    def sumEvenGrandparent(self, root):\n",
    "        \"\"\"\n",
    "        :type root: TreeNode\n",
    "        :rtype: int\n",
    "        \"\"\"\n",
    "        if not root: return 0\n",
    "        ans = 0\n",
    "        stack = [root] # stack to generate offsprings\n",
    "        stack_even = [] # put node with even parents\n",
    "        while stack or stack_even:\n",
    "            if stack:\n",
    "                cur = stack.pop()\n",
    "                if cur.val%2 == 0:\n",
    "                    if cur.left: stack_even.append(cur.left)\n",
    "                    if cur.right: stack_even.append(cur.right)\n",
    "                else:\n",
    "                    if cur.left: stack.append(cur.left)\n",
    "                    if cur.right: stack.append(cur.right)\n",
    "            else:\n",
    "                cur = stack_even.pop()\n",
    "                if cur.val%2 == 0:\n",
    "                    if cur.left: \n",
    "                        ans += cur.left.val\n",
    "                        stack_even.append(cur.left)\n",
    "                    if cur.right:\n",
    "                        ans += cur.right.val\n",
    "                        stack_even.append(cur.right)\n",
    "                else:\n",
    "                    if cur.left: \n",
    "                        ans += cur.left.val\n",
    "                        stack.append(cur.left)\n",
    "                    if cur.right: \n",
    "                        ans += cur.right.val\n",
    "                        stack.append(cur.right)     \n",
    "        return ans"
   ]
  },
  {
   "cell_type": "markdown",
   "metadata": {},
   "source": [
    "# Reference\n",
    "\n",
    "[1315. Sum of Nodes with Even-Valued Grandparent](https://leetcode.com/problems/sum-of-nodes-with-even-valued-grandparent/)"
   ]
  }
 ],
 "metadata": {
  "kernelspec": {
   "display_name": "Python 3",
   "language": "python",
   "name": "python3"
  },
  "language_info": {
   "codemirror_mode": {
    "name": "ipython",
    "version": 3
   },
   "file_extension": ".py",
   "mimetype": "text/x-python",
   "name": "python",
   "nbconvert_exporter": "python",
   "pygments_lexer": "ipython3",
   "version": "3.8.5"
  }
 },
 "nbformat": 4,
 "nbformat_minor": 4
}
