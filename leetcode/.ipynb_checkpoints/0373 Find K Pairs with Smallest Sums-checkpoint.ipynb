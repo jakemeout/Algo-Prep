{
 "cells": [
  {
   "cell_type": "code",
   "execution_count": 3,
   "metadata": {},
   "outputs": [],
   "source": [
    "class Solution:\n",
    "    def kSmallestPairs(self, nums1, nums2, k):\n",
    "        from heapq import heapify, heappop\n",
    "        # heapify\n",
    "        ans = []\n",
    "        lst = []\n",
    "        for ele in nums1:\n",
    "            for ele1 in nums2:\n",
    "                lst.append([ele+ele1,ele,ele1])\n",
    "        heapify(lst)\n",
    "        # pop\n",
    "        while k > 0 and len(lst) != 0:\n",
    "            popped = heappop(lst)\n",
    "            ans.append([popped[1],popped[2]])\n",
    "            k -= 1\n",
    "        return ans"
   ]
  },
  {
   "cell_type": "code",
   "execution_count": 4,
   "metadata": {},
   "outputs": [
    {
     "name": "stdout",
     "output_type": "stream",
     "text": [
      "0 0\n",
      "1 0\n",
      "1 1\n"
     ]
    },
    {
     "data": {
      "text/plain": [
       "[[1, 3], [2, 3], [2, 5]]"
      ]
     },
     "execution_count": 4,
     "metadata": {},
     "output_type": "execute_result"
    }
   ],
   "source": [
    "nums1 = [1,2,4,5,6]\n",
    "nums2 = [3,5,7,9]\n",
    "k = 3\n",
    "Solution().kSmallestPairs(nums1, nums2, k) # [[1,3],[2,3],[1,5]]"
   ]
  },
  {
   "cell_type": "markdown",
   "metadata": {},
   "source": [
    "# Reference\n",
    "\n",
    "[373. Find K Pairs with Smallest Sums](https://leetcode.com/problems/find-k-pairs-with-smallest-sums/)\n",
    "\n",
    "[Python implementation using heap](https://leetcode.com/problems/find-k-pairs-with-smallest-sums/discuss/1255448/Python-implementation-using-heap)"
   ]
  }
 ],
 "metadata": {
  "kernelspec": {
   "display_name": "Python 3",
   "language": "python",
   "name": "python3"
  },
  "language_info": {
   "codemirror_mode": {
    "name": "ipython",
    "version": 3
   },
   "file_extension": ".py",
   "mimetype": "text/x-python",
   "name": "python",
   "nbconvert_exporter": "python",
   "pygments_lexer": "ipython3",
   "version": "3.8.5"
  }
 },
 "nbformat": 4,
 "nbformat_minor": 4
}
