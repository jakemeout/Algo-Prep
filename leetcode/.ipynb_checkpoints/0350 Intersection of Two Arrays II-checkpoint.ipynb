{
 "cells": [
  {
   "cell_type": "code",
   "execution_count": null,
   "metadata": {},
   "outputs": [],
   "source": [
    "class Solution:\n",
    "    def intersect(self, nums1, nums2):\n",
    "        # construct counter dict\n",
    "        d1, d2 = self.counterDict(nums1), self.counterDict(nums2)\n",
    "        # construct out\n",
    "        out = []\n",
    "        for num in d1:\n",
    "            if num in d2:\n",
    "                out = out + [num] * min(d1[num],d2[num])\n",
    "        return out \n",
    "    def counterDict(self, nums):\n",
    "        d = {}\n",
    "        for num in nums:\n",
    "            if num in d: \n",
    "                d[num] += 1\n",
    "            else: \n",
    "                d[num] = 1\n",
    "        return d"
   ]
  },
  {
   "cell_type": "markdown",
   "metadata": {},
   "source": [
    "# Reference\n",
    "\n",
    "[350. Intersection of Two Arrays II](https://leetcode.com/problems/intersection-of-two-arrays-ii/)\n",
    "\n",
    "[Intersection of Two Arrays II (Leetcode 350)](https://www.youtube.com/watch?v=ZUsCdYURP_k&list=PL_lPC-CADCvSSU3KSchuIysoJoIV_i0No&index=2)"
   ]
  },
  {
   "cell_type": "code",
   "execution_count": null,
   "metadata": {},
   "outputs": [],
   "source": []
  }
 ],
 "metadata": {
  "kernelspec": {
   "display_name": "Python 3",
   "language": "python",
   "name": "python3"
  },
  "language_info": {
   "codemirror_mode": {
    "name": "ipython",
    "version": 3
   },
   "file_extension": ".py",
   "mimetype": "text/x-python",
   "name": "python",
   "nbconvert_exporter": "python",
   "pygments_lexer": "ipython3",
   "version": "3.8.5"
  }
 },
 "nbformat": 4,
 "nbformat_minor": 4
}
