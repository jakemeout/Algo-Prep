{
 "cells": [
  {
   "cell_type": "code",
   "execution_count": 7,
   "metadata": {},
   "outputs": [],
   "source": [
    "class Solution:\n",
    "    def lemonadeChange(self, bills):\n",
    "        bank = {}\n",
    "        for cash in [5,10,20]:\n",
    "            bank[cash] = 0\n",
    "        for bill in bills:\n",
    "            if bill == 5:\n",
    "                bank[5] += 1\n",
    "                #print(bill, bank)\n",
    "            if bill == 10:\n",
    "                if bank[5] == 0:\n",
    "                    return False\n",
    "                else:\n",
    "                    bank[5] -= 1\n",
    "                    bank[10] += 1\n",
    "                #print(bill, bank)\n",
    "            if bill == 20:\n",
    "                if bank[10]*10 + bank[5]*5 < 15:\n",
    "                    return False\n",
    "                elif bank[10] and bank[5]:\n",
    "                    bank[5] -= 1\n",
    "                    bank[10] -= 1\n",
    "                    bank[20] += 1\n",
    "                elif not bank[10] and bank[5]:\n",
    "                    bank[5] -= 3\n",
    "                    bank[20] += 1\n",
    "                else: # elif bank[10] and not bank[5]\n",
    "                    return False\n",
    "                #print(bill, bank)\n",
    "        return True"
   ]
  },
  {
   "cell_type": "code",
   "execution_count": 8,
   "metadata": {},
   "outputs": [
    {
     "data": {
      "text/plain": [
       "True"
      ]
     },
     "execution_count": 8,
     "metadata": {},
     "output_type": "execute_result"
    }
   ],
   "source": [
    "bills = [5,5,10,20,5,5,5,5,5,5,5,5,5,10,5,5,20,5,20,5] \n",
    "Solution().lemonadeChange(bills) # True"
   ]
  },
  {
   "cell_type": "markdown",
   "metadata": {},
   "source": [
    "# Reference\n",
    "\n",
    "[860. Lemonade Change](https://leetcode.com/problems/lemonade-change/)"
   ]
  }
 ],
 "metadata": {
  "kernelspec": {
   "display_name": "Python 3",
   "language": "python",
   "name": "python3"
  },
  "language_info": {
   "codemirror_mode": {
    "name": "ipython",
    "version": 3
   },
   "file_extension": ".py",
   "mimetype": "text/x-python",
   "name": "python",
   "nbconvert_exporter": "python",
   "pygments_lexer": "ipython3",
   "version": "3.8.5"
  }
 },
 "nbformat": 4,
 "nbformat_minor": 4
}
