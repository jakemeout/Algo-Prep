{
 "cells": [
  {
   "cell_type": "code",
   "execution_count": null,
   "metadata": {},
   "outputs": [],
   "source": [
    "from heapq import heapify, heappop, heappush\n",
    "class Solution:\n",
    "    def reorganizeString(self, s: str) -> str:  \n",
    "        # trivial cases\n",
    "        if not s:\n",
    "            return \"\"\n",
    "        \n",
    "        # construct counter dict d\n",
    "        d = {}\n",
    "        for c in s:\n",
    "            if c in d:\n",
    "                d[c] += 1\n",
    "            else:\n",
    "                d[c] = 1\n",
    "        \n",
    "        # construct heap\n",
    "        h = [(-d[c], c) for c in d]\n",
    "        heapify(h)\n",
    "        \n",
    "        # build ans\n",
    "        ans = \"\"\n",
    "        while len(h) > 1:\n",
    "            neg_f1, c1 = heappop(h) # take out most freq char\n",
    "            neg_f2, c2 = heappop(h) # take out second most freq char\n",
    "            \n",
    "            ans += c1 # concatenate most freq char\n",
    "            ans += c2 # concatenate second most freq char\n",
    "            \n",
    "            if abs(neg_f1) > 1:\n",
    "                heappush(h, (neg_f1+1, c1)) # put most freq char back to heap if needed            \n",
    "            if abs(neg_f2) > 1: \n",
    "                heappush(h, (neg_f2+1, c2)) # put second most freq char back to heap if needed  \n",
    "             \n",
    "        if h:\n",
    "            neg_f, c = h[0]\n",
    "            if abs(neg_f) > 1: \n",
    "                return \"\" \n",
    "            else:\n",
    "                ans += c\n",
    "        return ans        "
   ]
  },
  {
   "cell_type": "markdown",
   "metadata": {},
   "source": [
    "# Reference\n",
    "\n",
    "[767. Reorganize String](https://leetcode.com/problems/reorganize-string/)\n",
    "\n",
    "[AMAZON CODING INTERVIEW QUESTION - REORGANIZE STRING](https://www.youtube.com/watch?v=zaM_GLLvysw)\n",
    "\n",
    "[Heap Solution | Python 3](https://leetcode.com/problems/reorganize-string/discuss/1258420/Heap-Solution-or-Python-3)"
   ]
  }
 ],
 "metadata": {
  "kernelspec": {
   "display_name": "Python 3",
   "language": "python",
   "name": "python3"
  },
  "language_info": {
   "codemirror_mode": {
    "name": "ipython",
    "version": 3
   },
   "file_extension": ".py",
   "mimetype": "text/x-python",
   "name": "python",
   "nbconvert_exporter": "python",
   "pygments_lexer": "ipython3",
   "version": "3.8.5"
  }
 },
 "nbformat": 4,
 "nbformat_minor": 4
}
