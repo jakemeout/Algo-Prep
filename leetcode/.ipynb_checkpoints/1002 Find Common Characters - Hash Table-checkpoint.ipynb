{
 "cells": [
  {
   "cell_type": "code",
   "execution_count": 14,
   "metadata": {},
   "outputs": [],
   "source": [
    "class Solution:\n",
    "    def commonChars(self, lst):\n",
    "        # construct char_count_dict for each string in lst\n",
    "        char_count_dict_list = [{} for _ in lst]\n",
    "        for d, s in zip(char_count_dict_list, lst):\n",
    "            for char in s:\n",
    "                if char in d:\n",
    "                    d[char] += 1\n",
    "                else:\n",
    "                    d[char] = 1\n",
    "        # construct out\n",
    "        out = []\n",
    "        for char in string.ascii_lowercase:\n",
    "            tmp = [d[char] for d in char_count_dict_list if char in d]\n",
    "            if (len(tmp) != 0) and (len(tmp) == len(lst)):\n",
    "                common_count = min(tmp)\n",
    "                out += [char] * common_count\n",
    "        return out            "
   ]
  },
  {
   "cell_type": "code",
   "execution_count": 15,
   "metadata": {},
   "outputs": [
    {
     "data": {
      "text/plain": [
       "['e', 'l', 'l']"
      ]
     },
     "execution_count": 15,
     "metadata": {},
     "output_type": "execute_result"
    }
   ],
   "source": [
    "lst = [\"bella\",\"label\",\"roller\"]\n",
    "Solution().commonChars(lst) # [\"e\",\"l\",\"l\"]"
   ]
  },
  {
   "cell_type": "markdown",
   "metadata": {},
   "source": [
    "# Reference\n",
    "\n",
    "[1002. Find Common Characters](https://leetcode.com/problems/find-common-characters/)"
   ]
  }
 ],
 "metadata": {
  "kernelspec": {
   "display_name": "Python 3",
   "language": "python",
   "name": "python3"
  },
  "language_info": {
   "codemirror_mode": {
    "name": "ipython",
    "version": 3
   },
   "file_extension": ".py",
   "mimetype": "text/x-python",
   "name": "python",
   "nbconvert_exporter": "python",
   "pygments_lexer": "ipython3",
   "version": "3.8.5"
  }
 },
 "nbformat": 4,
 "nbformat_minor": 4
}
