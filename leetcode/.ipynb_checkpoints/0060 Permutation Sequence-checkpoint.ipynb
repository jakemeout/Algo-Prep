{
 "cells": [
  {
   "cell_type": "code",
   "execution_count": 55,
   "metadata": {},
   "outputs": [],
   "source": [
    "class Solution:\n",
    "    def getPermutation(self, n: int, k: int) -> str:\n",
    "        # edge case\n",
    "        if n == 1:\n",
    "            return '1'\n",
    "        # general case\n",
    "        ans = ''\n",
    "        # construct character string chars '1234....n'\n",
    "        chars = ''\n",
    "        for i in range(1,n+1):\n",
    "            chars += str(i)\n",
    "        # construct n!. I call f short for factorial\n",
    "        f = 1 \n",
    "        for i in range(2,n+1):\n",
    "            f *= i\n",
    "        # for each level of tree locate where k is placed\n",
    "        sub_tree_size = f\n",
    "        res = k\n",
    "        for n_children in range(n,1,-1):\n",
    "            sub_tree_size /= n_children\n",
    "            sub_tree_size = int(sub_tree_size)\n",
    "            carry, res = divmod(res, sub_tree_size)\n",
    "            # if res == 0, we don't need to go down further\n",
    "            if res == 0:\n",
    "                carry -= 1\n",
    "                s = chars[carry]\n",
    "                ans += s\n",
    "                chars = chars.replace(s,'')\n",
    "                ans += chars[::-1]\n",
    "                break\n",
    "            # if not, we should go down further\n",
    "            else:\n",
    "                s = chars[carry]\n",
    "                ans += s\n",
    "                chars = chars.replace(s,'')\n",
    "        return ans"
   ]
  },
  {
   "cell_type": "code",
   "execution_count": 56,
   "metadata": {},
   "outputs": [
    {
     "data": {
      "text/plain": [
       "''"
      ]
     },
     "execution_count": 56,
     "metadata": {},
     "output_type": "execute_result"
    }
   ],
   "source": [
    "n = 1\n",
    "k = 1\n",
    "Solution().getPermutation(n, k) # \"132\""
   ]
  },
  {
   "cell_type": "markdown",
   "metadata": {},
   "source": [
    "# Reference\n",
    "\n",
    "[60. Permutation Sequence](https://leetcode.com/problems/permutation-sequence/)"
   ]
  }
 ],
 "metadata": {
  "kernelspec": {
   "display_name": "Python 3",
   "language": "python",
   "name": "python3"
  },
  "language_info": {
   "codemirror_mode": {
    "name": "ipython",
    "version": 3
   },
   "file_extension": ".py",
   "mimetype": "text/x-python",
   "name": "python",
   "nbconvert_exporter": "python",
   "pygments_lexer": "ipython3",
   "version": "3.8.5"
  }
 },
 "nbformat": 4,
 "nbformat_minor": 4
}
