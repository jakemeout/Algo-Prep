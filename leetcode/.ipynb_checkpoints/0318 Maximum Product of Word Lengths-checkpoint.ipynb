{
 "cells": [
  {
   "cell_type": "code",
   "execution_count": null,
   "metadata": {},
   "outputs": [],
   "source": [
    "class Solution:\n",
    "    def maxProduct(self, words):\n",
    "        ans = 0\n",
    "        for i in range(len(words)-1):\n",
    "            for j in range(i,len(words)):\n",
    "                A = words[i]\n",
    "                B = words[j]\n",
    "                a = set(A)\n",
    "                b = set(B)\n",
    "                if len(a.intersection(b)) == 0:\n",
    "                    ans = max(ans, len(A)*len(B))\n",
    "        return ans"
   ]
  },
  {
   "cell_type": "markdown",
   "metadata": {},
   "source": [
    "# Reference\n",
    "\n",
    "[318. Maximum Product of Word Lengths](https://leetcode.com/problems/maximum-product-of-word-lengths/)\n",
    "\n",
    "[Maximum Product of Word Lengths | LeetCode 318 | C++, Python](https://www.youtube.com/watch?v=E8Ctj36CzuY)"
   ]
  }
 ],
 "metadata": {
  "kernelspec": {
   "display_name": "Python 3",
   "language": "python",
   "name": "python3"
  },
  "language_info": {
   "codemirror_mode": {
    "name": "ipython",
    "version": 3
   },
   "file_extension": ".py",
   "mimetype": "text/x-python",
   "name": "python",
   "nbconvert_exporter": "python",
   "pygments_lexer": "ipython3",
   "version": "3.8.5"
  }
 },
 "nbformat": 4,
 "nbformat_minor": 4
}
