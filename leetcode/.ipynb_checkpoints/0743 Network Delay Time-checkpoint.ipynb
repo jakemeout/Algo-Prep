{
 "cells": [
  {
   "cell_type": "code",
   "execution_count": 1,
   "metadata": {},
   "outputs": [],
   "source": [
    "class Solution:\n",
    "    def networkDelayTime(self, times, n, k):\n",
    "        # graph is described by list\n",
    "        # index : node\n",
    "        # value : list of tuples (neighbor,time)\n",
    "        from collections import defaultdict\n",
    "        graph = defaultdict(list)\n",
    "        for node, neighbor, time in times:\n",
    "            graph[node].append((neighbor,time))\n",
    "        # distances dict distances\n",
    "        # key : node\n",
    "        # value : distance from sorce to node\n",
    "        # if node in distances, this means node is processed\n",
    "        # distances[node] is the min distance from source to node\n",
    "        distances = {}\n",
    "        # heap\n",
    "        # [(distance of path from sorce to target, target), ...]\n",
    "        from heapq import heappop, heappush\n",
    "        heap = [(0, k)] # distance of path from sorce to target : 0, target : k ---> k is source\n",
    "        while heap:\n",
    "            distance, node = heappop(heap)\n",
    "            if node in distances: # if node in distances, this means node is processed \n",
    "                continue          # if node in distances, this means node is processed\n",
    "            else:                          # if node in distances, this means node is processed\n",
    "                distances[node] = distance # distances[node] is the min distance from source to node cc\n",
    "            for neighbor, time in graph[node]:\n",
    "                if neighbor not in distances:\n",
    "                    heappush(heap, (distance+time, neighbor))\n",
    "        return max(distances.values()) if len(distances) == n else -1"
   ]
  },
  {
   "cell_type": "markdown",
   "metadata": {},
   "source": [
    "# Reference\n",
    "\n",
    "[743. Network Delay Time](https://leetcode.com/problems/network-delay-time/)\n",
    "\n",
    "[python dijkstra's algorithm O(E) with mini explanation](https://leetcode.com/problems/network-delay-time/discuss/1264087/python-dijkstra's-algorithm-O(E)-with-mini-explanation)\n",
    "\n",
    "[Dijkstra algorithm | Single source shortest path algorithm](https://www.youtube.com/watch?v=Sj5Z-jaE2x0)\n",
    "\n",
    "[Dijkstra algorithm | Code implementation](https://www.youtube.com/watch?v=t2d-XYuPfg0)\n",
    "\n",
    "[Network Delay Time | Leetcode #743](https://www.youtube.com/watch?v=YHx6r9pM5e0)"
   ]
  },
  {
   "cell_type": "code",
   "execution_count": null,
   "metadata": {},
   "outputs": [],
   "source": []
  }
 ],
 "metadata": {
  "kernelspec": {
   "display_name": "Python 3",
   "language": "python",
   "name": "python3"
  },
  "language_info": {
   "codemirror_mode": {
    "name": "ipython",
    "version": 3
   },
   "file_extension": ".py",
   "mimetype": "text/x-python",
   "name": "python",
   "nbconvert_exporter": "python",
   "pygments_lexer": "ipython3",
   "version": "3.8.5"
  }
 },
 "nbformat": 4,
 "nbformat_minor": 4
}
