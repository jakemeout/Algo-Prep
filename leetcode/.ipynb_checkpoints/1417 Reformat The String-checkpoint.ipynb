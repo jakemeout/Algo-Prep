{
 "cells": [
  {
   "cell_type": "code",
   "execution_count": 3,
   "metadata": {},
   "outputs": [],
   "source": [
    "class Solution:\n",
    "    def reformat(self, s: str) -> str:\n",
    "        # string of numbers\n",
    "        a = s\n",
    "        import string\n",
    "        for i in string.ascii_lowercase:\n",
    "            a = a.replace(i, ' ')\n",
    "        a = ''.join(a.split())\n",
    "        len_a = len(a)\n",
    "        # string of alphabets\n",
    "        b = s\n",
    "        for i in '0123456789':\n",
    "            b = b.replace(i, ' ')\n",
    "        b = ''.join(b.split())\n",
    "        len_b = len(b)\n",
    "        # final output out\n",
    "        if abs(len_a-len_b) >= 2:\n",
    "            return ''\n",
    "        elif len_a > len_b:\n",
    "            out = ''\n",
    "            for i_a, i_b in zip(a, b):\n",
    "                out += i_a + i_b\n",
    "            return out + a[-1]\n",
    "        elif len_a < len_b:\n",
    "            out = ''\n",
    "            for i_b, i_a in zip(b, a):\n",
    "                out += i_b + i_a\n",
    "            return out + b[-1]\n",
    "        else: # elif len_a == len_b:\n",
    "            out = ''\n",
    "            for i_a, i_b in zip(a, b):\n",
    "                out += i_a + i_b\n",
    "            return out        "
   ]
  },
  {
   "cell_type": "code",
   "execution_count": 4,
   "metadata": {},
   "outputs": [
    {
     "data": {
      "text/plain": [
       "'0a1b2c'"
      ]
     },
     "execution_count": 4,
     "metadata": {},
     "output_type": "execute_result"
    }
   ],
   "source": [
    "s = \"a0b1c2\"\n",
    "Solution().reformat(s) # \"0a1b2c\""
   ]
  },
  {
   "cell_type": "markdown",
   "metadata": {},
   "source": [
    "# Reference\n",
    "\n",
    "[1417. Reformat The String](https://leetcode.com/problems/reformat-the-string/)"
   ]
  }
 ],
 "metadata": {
  "kernelspec": {
   "display_name": "Python 3",
   "language": "python",
   "name": "python3"
  },
  "language_info": {
   "codemirror_mode": {
    "name": "ipython",
    "version": 3
   },
   "file_extension": ".py",
   "mimetype": "text/x-python",
   "name": "python",
   "nbconvert_exporter": "python",
   "pygments_lexer": "ipython3",
   "version": "3.8.5"
  }
 },
 "nbformat": 4,
 "nbformat_minor": 4
}
