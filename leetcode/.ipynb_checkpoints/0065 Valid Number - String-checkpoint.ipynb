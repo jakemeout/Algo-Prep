{
 "cells": [
  {
   "cell_type": "code",
   "execution_count": null,
   "metadata": {},
   "outputs": [],
   "source": [
    "class Solution:\n",
    "    def isNumber(self, s: str) -> bool:\n",
    "        # decompose s into three parts, head, center(not shown in code), tail\n",
    "        if ('e' in s): # if there is \"e\", \"e\" should be there only once\n",
    "            if (len(s.split('e')) == 2): # if there is only one \"e\" \n",
    "                head, tail = s.split('e') # split base on 'e'\n",
    "            else: # otherwise\n",
    "                return False # s cannot be number\n",
    "        elif ('E' in s): # if there is \"E\", \"E\" should be there only once\n",
    "            if (len(s.split('E')) == 2): # if there is only one \"E\" \n",
    "                head, tail = s.split('E') # split base on 'E'\n",
    "            else: # otherwise\n",
    "                return False # s cannot be number\n",
    "        else:\n",
    "            head, tail = s, None\n",
    "        # check whether head and tail are genuine\n",
    "        if tail is None: # if tail is None, there is neither 'e' nor 'E' in s\n",
    "            return self.isHead(head) # we just need check self.isHead(head)   \n",
    "        # if either head or tail is empty string, s cannot be number\n",
    "        if (head=='') or (tail==''): return False\n",
    "        if self.isHead(head) and self.isTail(tail): return True\n",
    "        return False\n",
    "    def isHead(self, head: str) -> bool:\n",
    "        # remove sign from head if there is sign\n",
    "        head = self.removeSign(head)\n",
    "        # remaining head should satisfy one of the following four to be truly head\n",
    "        # 1. if there is no '.', it should be integer\n",
    "        if '.' not in head:\n",
    "            return head.isdigit()\n",
    "        else:\n",
    "            lst = head.split('.') # if there is '.', number of '.' should be 1\n",
    "            if len(lst) != 2: # if we split head based on '.', we should have two items \n",
    "                return False # otherwise, it cannot be head\n",
    "            else:\n",
    "                # '' + '.' + '' ---> False\n",
    "                if (lst[0]=='') and (lst[1]==''): \n",
    "                    return False\n",
    "                # 2. int + '.' + '' \n",
    "                if (lst[0].isdigit()) and (lst[1]==''): \n",
    "                    return True\n",
    "                # 3. '' + '.' + no +- sign int\n",
    "                if (lst[0]=='') and (self.isNoSignInteger(lst[1])): \n",
    "                    return True\n",
    "                # 4. int + '.' + no +- sign int\n",
    "                if (lst[0].isdigit()) and (self.isNoSignInteger(lst[1])): \n",
    "                    return True\n",
    "                return False        \n",
    "    def isTail(self, tail: str) -> bool:\n",
    "        tail = self.removeSign(tail)\n",
    "        return tail.isdigit()\n",
    "    def isNoSignInteger(self, s: str) -> bool:\n",
    "        if (s[0]=='+') or (s[0]=='-'): return False\n",
    "        return s.isdigit()\n",
    "    def removeSign(self, s):\n",
    "        if (s[0] == '+') or (s[0] == '-'):\n",
    "            s = s[1:]\n",
    "        return s"
   ]
  },
  {
   "cell_type": "code",
   "execution_count": 77,
   "metadata": {},
   "outputs": [
    {
     "data": {
      "text/plain": [
       "False"
      ]
     },
     "execution_count": 77,
     "metadata": {},
     "output_type": "execute_result"
    }
   ],
   "source": [
    "s = \".\"\n",
    "Solution().isNumber(s) # False"
   ]
  },
  {
   "cell_type": "code",
   "execution_count": 71,
   "metadata": {},
   "outputs": [
    {
     "data": {
      "text/plain": [
       "False"
      ]
     },
     "execution_count": 71,
     "metadata": {},
     "output_type": "execute_result"
    }
   ],
   "source": [
    "s = \"e9\"\n",
    "Solution().isNumber(s) # False"
   ]
  },
  {
   "cell_type": "code",
   "execution_count": 47,
   "metadata": {},
   "outputs": [
    {
     "data": {
      "text/plain": [
       "False"
      ]
     },
     "execution_count": 47,
     "metadata": {},
     "output_type": "execute_result"
    }
   ],
   "source": [
    "s = \"e\"\n",
    "Solution().isNumber(s)"
   ]
  },
  {
   "cell_type": "code",
   "execution_count": 41,
   "metadata": {},
   "outputs": [
    {
     "data": {
      "text/plain": [
       "True"
      ]
     },
     "execution_count": 41,
     "metadata": {},
     "output_type": "execute_result"
    }
   ],
   "source": [
    "s = \".1\"\n",
    "Solution().isNumber(s)"
   ]
  },
  {
   "cell_type": "code",
   "execution_count": 78,
   "metadata": {},
   "outputs": [
    {
     "data": {
      "text/plain": [
       "True"
      ]
     },
     "execution_count": 78,
     "metadata": {},
     "output_type": "execute_result"
    }
   ],
   "source": [
    "'1'.isdigit()"
   ]
  },
  {
   "cell_type": "markdown",
   "metadata": {},
   "source": [
    "# Reference\n",
    "\n",
    "[65. Valid Number](https://leetcode.com/problems/valid-number/)"
   ]
  }
 ],
 "metadata": {
  "kernelspec": {
   "display_name": "Python 3",
   "language": "python",
   "name": "python3"
  },
  "language_info": {
   "codemirror_mode": {
    "name": "ipython",
    "version": 3
   },
   "file_extension": ".py",
   "mimetype": "text/x-python",
   "name": "python",
   "nbconvert_exporter": "python",
   "pygments_lexer": "ipython3",
   "version": "3.8.5"
  }
 },
 "nbformat": 4,
 "nbformat_minor": 4
}
