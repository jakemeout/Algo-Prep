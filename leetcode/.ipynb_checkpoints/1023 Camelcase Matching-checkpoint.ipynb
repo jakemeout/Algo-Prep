{
 "cells": [
  {
   "cell_type": "code",
   "execution_count": null,
   "metadata": {},
   "outputs": [],
   "source": [
    "class Solution:\n",
    "    def camelMatch(self, queries, pattern):\n",
    "        return [self.match(query, pattern) for query in queries]\n",
    "    def match(self, query, pattern):\n",
    "        j, size = 0, len(pattern)\n",
    "        for c in query:\n",
    "            if j < size and c == pattern[j]:\n",
    "                j += 1\n",
    "            elif c.isupper():\n",
    "                return False\n",
    "        return j == size"
   ]
  },
  {
   "cell_type": "markdown",
   "metadata": {},
   "source": [
    "# Reference\n",
    "\n",
    "[1023. Camelcase Matching](https://leetcode.com/problems/camelcase-matching/)\n",
    "\n",
    "[Python 3 - easy and fast string matching](https://leetcode.com/problems/camelcase-matching/discuss/1133398/Python-3-easy-and-fast-string-matching)"
   ]
  }
 ],
 "metadata": {
  "kernelspec": {
   "display_name": "Python 3",
   "language": "python",
   "name": "python3"
  },
  "language_info": {
   "codemirror_mode": {
    "name": "ipython",
    "version": 3
   },
   "file_extension": ".py",
   "mimetype": "text/x-python",
   "name": "python",
   "nbconvert_exporter": "python",
   "pygments_lexer": "ipython3",
   "version": "3.8.5"
  }
 },
 "nbformat": 4,
 "nbformat_minor": 4
}
