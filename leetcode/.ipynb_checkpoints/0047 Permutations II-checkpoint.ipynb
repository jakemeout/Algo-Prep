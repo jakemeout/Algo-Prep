{
 "cells": [
  {
   "cell_type": "code",
   "execution_count": 1,
   "metadata": {},
   "outputs": [],
   "source": [
    "class Solution:\n",
    "    def permuteUnique(self, lst):\n",
    "        \"\"\"\n",
    "        :type lst: List[int]\n",
    "        :rtype: List[List[int]]\n",
    "        \"\"\"\n",
    "        if len(lst) == 0: return [[]] # base case for recursion\n",
    "        if len(lst) == 1: return [lst] # base case for recursion\n",
    "        out = []\n",
    "        for lst_ in self.permuteUnique(lst[1:]): # recursion step\n",
    "            for i in range(len(lst_)):\n",
    "                tmp = lst_.copy()\n",
    "                tmp.insert(i,lst[0])\n",
    "                if tmp not in out: # this membership test is slow\n",
    "                    out.append(tmp)\n",
    "            tmp = lst_.copy()\n",
    "            tmp.append(lst[0])\n",
    "            if tmp not in out: # this membership test is slow\n",
    "                out.append(tmp)\n",
    "        return out"
   ]
  },
  {
   "cell_type": "code",
   "execution_count": 11,
   "metadata": {},
   "outputs": [],
   "source": [
    "class Solution:\n",
    "    def permuteUnique(self, lst):\n",
    "        \"\"\"\n",
    "        :type lst: List[int]\n",
    "        :rtype: List[List[int]]\n",
    "        \"\"\"\n",
    "        if len(lst) == 0: return [[]] # base case for recursion\n",
    "        if len(lst) == 1: return [lst] # base case for recursion\n",
    "        out = []\n",
    "        out_hash = set() \n",
    "        for lst_ in self.permuteUnique(lst[1:]): # recursion step\n",
    "            for i in range(len(lst_)):\n",
    "                tmp = lst_.copy()\n",
    "                tmp.insert(i,lst[0])\n",
    "                tmp_hash = self.hash(tmp)\n",
    "                if tmp_hash not in out_hash: # this membership test is fast\n",
    "                    out.append(tmp)\n",
    "                    out_hash.add(tmp_hash)\n",
    "            tmp = lst_.copy()\n",
    "            tmp.append(lst[0])\n",
    "            tmp_hash = self.hash(tmp)\n",
    "            if tmp_hash not in out_hash: # this membership test is fast\n",
    "                out.append(tmp)\n",
    "                out_hash.add(tmp_hash)\n",
    "        return out\n",
    "    def hash(self, lst): \n",
    "        out = ''\n",
    "        for item in lst:\n",
    "            out += str(item) + ' '\n",
    "        return out"
   ]
  },
  {
   "cell_type": "code",
   "execution_count": 12,
   "metadata": {},
   "outputs": [
    {
     "name": "stdout",
     "output_type": "stream",
     "text": [
      "[[1, 1, 2], [1, 2, 1], [2, 1, 1]]\n"
     ]
    }
   ],
   "source": [
    "print(Solution().permuteUnique([1,1,2]))"
   ]
  },
  {
   "cell_type": "code",
   "execution_count": 13,
   "metadata": {},
   "outputs": [
    {
     "name": "stdout",
     "output_type": "stream",
     "text": [
      "[[1, 2, 3], [2, 1, 3], [2, 3, 1], [1, 3, 2], [3, 1, 2], [3, 2, 1]]\n"
     ]
    }
   ],
   "source": [
    "print(Solution().permuteUnique([1,2,3]))"
   ]
  },
  {
   "cell_type": "markdown",
   "metadata": {},
   "source": [
    "# Reference\n",
    "\n",
    "[47. Permutations II](https://leetcode.com/problems/permutations-ii/)\n",
    "\n",
    "[Permutations II - Backtracking - Leetcode 47](https://www.youtube.com/watch?v=qhBVWf0YafA)"
   ]
  },
  {
   "cell_type": "code",
   "execution_count": null,
   "metadata": {},
   "outputs": [],
   "source": []
  }
 ],
 "metadata": {
  "kernelspec": {
   "display_name": "Python 3",
   "language": "python",
   "name": "python3"
  },
  "language_info": {
   "codemirror_mode": {
    "name": "ipython",
    "version": 3
   },
   "file_extension": ".py",
   "mimetype": "text/x-python",
   "name": "python",
   "nbconvert_exporter": "python",
   "pygments_lexer": "ipython3",
   "version": "3.8.5"
  }
 },
 "nbformat": 4,
 "nbformat_minor": 4
}
