{
 "cells": [
  {
   "cell_type": "code",
   "execution_count": null,
   "metadata": {},
   "outputs": [],
   "source": [
    "# Definition for singly-linked list.\n",
    "class ListNode:\n",
    "    def __init__(self, val=0, next=None):\n",
    "        self.val = val\n",
    "        self.next = next"
   ]
  },
  {
   "cell_type": "code",
   "execution_count": null,
   "metadata": {},
   "outputs": [],
   "source": [
    "class Solution:\n",
    "    def removeElements(self, head: ListNode, val: int) -> ListNode:\n",
    "        # edge case\n",
    "        if head is None:\n",
    "            return head\n",
    "        # remove val in the initial path\n",
    "        while head:\n",
    "            if head.val == val:\n",
    "                head = head.next\n",
    "            else:\n",
    "                break\n",
    "        # remove val in the remaining path\n",
    "        prev = head\n",
    "        cur = head\n",
    "        while cur:\n",
    "            if cur.val != val:\n",
    "                prev, cur = cur, cur.next\n",
    "            else:\n",
    "                cur = cur.next\n",
    "                prev.next = cur\n",
    "        return head   "
   ]
  },
  {
   "cell_type": "markdown",
   "metadata": {},
   "source": [
    "# Reference\n",
    "\n",
    "[203. Remove Linked List Elements](https://leetcode.com/problems/remove-linked-list-elements/)"
   ]
  }
 ],
 "metadata": {
  "kernelspec": {
   "display_name": "Python 3",
   "language": "python",
   "name": "python3"
  },
  "language_info": {
   "codemirror_mode": {
    "name": "ipython",
    "version": 3
   },
   "file_extension": ".py",
   "mimetype": "text/x-python",
   "name": "python",
   "nbconvert_exporter": "python",
   "pygments_lexer": "ipython3",
   "version": "3.8.5"
  }
 },
 "nbformat": 4,
 "nbformat_minor": 4
}
