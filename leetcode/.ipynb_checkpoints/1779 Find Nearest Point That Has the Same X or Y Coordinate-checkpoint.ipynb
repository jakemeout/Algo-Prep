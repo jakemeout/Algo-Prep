{
 "cells": [
  {
   "cell_type": "code",
   "execution_count": null,
   "metadata": {},
   "outputs": [],
   "source": [
    "class Solution:\n",
    "    def nearestValidPoint(self, x, y, points):\n",
    "        # construct dict d\n",
    "        # key : Manhattan distance\n",
    "        # value : list of indices of valid points with give Manhattan distance\n",
    "        d = {}\n",
    "        for idx, (x0, y0) in enumerate(points):\n",
    "            if x==x0 or y==y0:\n",
    "                dist = max(abs(x-x0),abs(y-y0))\n",
    "                if dist in d:\n",
    "                    d[dist].append(idx)\n",
    "                else:\n",
    "                    d[dist] = [idx]\n",
    "        # If there are no valid points, return -1\n",
    "        if len(d) == 0:\n",
    "            return -1\n",
    "        # compute minimu Manhattan distance\n",
    "        min_dist = min(d.keys())\n",
    "        # Return the index of the valid point with the smallest Manhattan distance from your current location. \n",
    "        # If there are multiple, return the valid point with the smallest index.\n",
    "        return d[min_dist][0] "
   ]
  },
  {
   "cell_type": "markdown",
   "metadata": {},
   "source": [
    "# Reference\n",
    "\n",
    "[1779. Find Nearest Point That Has the Same X or Y Coordinate](https://leetcode.com/problems/find-nearest-point-that-has-the-same-x-or-y-coordinate/)"
   ]
  }
 ],
 "metadata": {
  "kernelspec": {
   "display_name": "Python 3",
   "language": "python",
   "name": "python3"
  },
  "language_info": {
   "codemirror_mode": {
    "name": "ipython",
    "version": 3
   },
   "file_extension": ".py",
   "mimetype": "text/x-python",
   "name": "python",
   "nbconvert_exporter": "python",
   "pygments_lexer": "ipython3",
   "version": "3.8.5"
  }
 },
 "nbformat": 4,
 "nbformat_minor": 4
}
