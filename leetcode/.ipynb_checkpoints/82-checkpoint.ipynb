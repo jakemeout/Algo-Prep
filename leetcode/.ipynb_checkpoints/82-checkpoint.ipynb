{
 "cells": [
  {
   "cell_type": "code",
   "execution_count": null,
   "metadata": {},
   "outputs": [],
   "source": [
    "# Definition for singly-linked list.\n",
    "class ListNode:\n",
    "    def __init__(self, val=0, next=None):\n",
    "        self.val = val\n",
    "        self.next = next"
   ]
  },
  {
   "cell_type": "code",
   "execution_count": null,
   "metadata": {},
   "outputs": [],
   "source": [
    "class Solution:\n",
    "    def deleteDuplicates(self, head):\n",
    "        dummy = ListNode(-1)\n",
    "        dummy.next = head\n",
    "        slow = dummy\n",
    "        fast = head\n",
    "        while fast:\n",
    "            # scan duplicates\n",
    "            while fast.next and fast.val == fast.next.val:\n",
    "                fast = fast.next\n",
    "                \n",
    "            # if no duplicates, go on\n",
    "            if slow.next == fast:\n",
    "                slow, fast = slow.next, fast.next\n",
    "            # if duplicates, skip duplicates\n",
    "            else:\n",
    "                slow.next = fast.next\n",
    "                fast = slow.next\n",
    "                \n",
    "        return dummy.next"
   ]
  },
  {
   "cell_type": "markdown",
   "metadata": {},
   "source": [
    "# Reference\n",
    "\n",
    "[82. Remove Duplicates from Sorted List II](https://leetcode.com/problems/remove-duplicates-from-sorted-list-ii/)\n",
    "\n",
    "[[Python] 2 pointers solution, explained](https://leetcode.com/problems/remove-duplicates-from-sorted-list-ii/discuss/1002902/Python-2-pointers-solution-explained)\n",
    "\n",
    "[Remove Duplicates from Sorted List II (RECURSIVE) | LeetCode 82 | C++, Java, Python](https://www.youtube.com/watch?v=iv2RAR61-wM)"
   ]
  }
 ],
 "metadata": {
  "kernelspec": {
   "display_name": "Python 3",
   "language": "python",
   "name": "python3"
  },
  "language_info": {
   "codemirror_mode": {
    "name": "ipython",
    "version": 3
   },
   "file_extension": ".py",
   "mimetype": "text/x-python",
   "name": "python",
   "nbconvert_exporter": "python",
   "pygments_lexer": "ipython3",
   "version": "3.8.5"
  }
 },
 "nbformat": 4,
 "nbformat_minor": 4
}
