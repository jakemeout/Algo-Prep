{
 "cells": [
  {
   "cell_type": "code",
   "execution_count": 11,
   "metadata": {},
   "outputs": [],
   "source": [
    "class Solution:\n",
    "    def removeOuterParentheses(self, s: str) -> str:\n",
    "        # base cases\n",
    "        if len(s) <= 2:\n",
    "            return ''\n",
    "        # recursion steps\n",
    "        counter = 0\n",
    "        for idx, symbol in enumerate(s):\n",
    "            if symbol == \"(\":\n",
    "                counter += 1\n",
    "            else:\n",
    "                counter -= 1\n",
    "            if counter == 0:\n",
    "                left, right = s[:idx+1], s[idx+1:]\n",
    "                break\n",
    "        if idx != len(s)-1:\n",
    "            left_ = self.removeOuterParentheses(left)\n",
    "            right_ = self.removeOuterParentheses(right)\n",
    "            return left_ + right_\n",
    "        else:\n",
    "            return s[1:-1]"
   ]
  },
  {
   "cell_type": "code",
   "execution_count": 12,
   "metadata": {},
   "outputs": [
    {
     "data": {
      "text/plain": [
       "'()()()'"
      ]
     },
     "execution_count": 12,
     "metadata": {},
     "output_type": "execute_result"
    }
   ],
   "source": [
    "s = \"(()())(())\"\n",
    "Solution().removeOuterParentheses(s)"
   ]
  },
  {
   "cell_type": "markdown",
   "metadata": {},
   "source": [
    "# Reference\n",
    "\n",
    "[1021. Remove Outermost Parentheses](https://leetcode.com/problems/remove-outermost-parentheses/)"
   ]
  }
 ],
 "metadata": {
  "kernelspec": {
   "display_name": "Python 3",
   "language": "python",
   "name": "python3"
  },
  "language_info": {
   "codemirror_mode": {
    "name": "ipython",
    "version": 3
   },
   "file_extension": ".py",
   "mimetype": "text/x-python",
   "name": "python",
   "nbconvert_exporter": "python",
   "pygments_lexer": "ipython3",
   "version": "3.8.5"
  }
 },
 "nbformat": 4,
 "nbformat_minor": 4
}
