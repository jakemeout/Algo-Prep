{
 "cells": [
  {
   "cell_type": "code",
   "execution_count": null,
   "metadata": {},
   "outputs": [],
   "source": [
    "from math import comb\n",
    "class Solution:\n",
    "    def numberOfArithmeticSlices(self, nums):\n",
    "        \"\"\"\n",
    "        :type nums: List[int]\n",
    "        :rtype: int\n",
    "        \"\"\"\n",
    "        d = []\n",
    "        for prev, now in zip(nums[:-1], nums[1:]):\n",
    "            d.append(now-prev)\n",
    "            \n",
    "        ans = 0\n",
    "        prev = None\n",
    "        cur = 1\n",
    "        for item in d:\n",
    "            if item == prev:\n",
    "                cur += 1\n",
    "            else:\n",
    "                if cur >= 2:\n",
    "                    ans += comb(cur, 2)\n",
    "                prev = item\n",
    "                cur = 1\n",
    "        if cur >= 2:\n",
    "            ans += comb(cur, 2)\n",
    "        return ans"
   ]
  },
  {
   "cell_type": "markdown",
   "metadata": {},
   "source": [
    "# Reference\n",
    "\n",
    "[413. Arithmetic Slices](https://leetcode.com/problems/arithmetic-slices/)"
   ]
  }
 ],
 "metadata": {
  "kernelspec": {
   "display_name": "Python 3",
   "language": "python",
   "name": "python3"
  },
  "language_info": {
   "codemirror_mode": {
    "name": "ipython",
    "version": 3
   },
   "file_extension": ".py",
   "mimetype": "text/x-python",
   "name": "python",
   "nbconvert_exporter": "python",
   "pygments_lexer": "ipython3",
   "version": "3.8.5"
  }
 },
 "nbformat": 4,
 "nbformat_minor": 4
}
