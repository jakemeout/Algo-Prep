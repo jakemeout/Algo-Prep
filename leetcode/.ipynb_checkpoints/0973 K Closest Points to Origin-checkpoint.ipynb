{
 "cells": [
  {
   "cell_type": "code",
   "execution_count": null,
   "metadata": {},
   "outputs": [],
   "source": [
    "class Solution:\n",
    "    def kClosest(self, points, k):\n",
    "        from heapq import heapify, heappop\n",
    "        # heapify\n",
    "        ans = []\n",
    "        lst = []\n",
    "        for x, y in points:\n",
    "            lst.append([x*x+y*y,x,y])\n",
    "        heapify(lst)\n",
    "        # pop\n",
    "        while k > 0 and len(lst) != 0:\n",
    "            popped = heappop(lst)\n",
    "            ans.append([popped[1],popped[2]])\n",
    "            k -= 1\n",
    "        return ans"
   ]
  },
  {
   "cell_type": "markdown",
   "metadata": {},
   "source": [
    "# Reference\n",
    "\n",
    "[973. K Closest Points to Origin](https://leetcode.com/problems/k-closest-points-to-origin/)"
   ]
  }
 ],
 "metadata": {
  "kernelspec": {
   "display_name": "Python 3",
   "language": "python",
   "name": "python3"
  },
  "language_info": {
   "codemirror_mode": {
    "name": "ipython",
    "version": 3
   },
   "file_extension": ".py",
   "mimetype": "text/x-python",
   "name": "python",
   "nbconvert_exporter": "python",
   "pygments_lexer": "ipython3",
   "version": "3.8.5"
  }
 },
 "nbformat": 4,
 "nbformat_minor": 4
}
