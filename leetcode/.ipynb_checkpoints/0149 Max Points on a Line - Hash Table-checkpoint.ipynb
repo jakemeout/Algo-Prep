{
 "cells": [
  {
   "cell_type": "code",
   "execution_count": 17,
   "metadata": {},
   "outputs": [],
   "source": [
    "class Solution:\n",
    "    def maxPoints(self, points):\n",
    "        # construct counter dict\n",
    "        # key is (intercept,slope)\n",
    "        d = {}\n",
    "        for idx_p1, p1 in enumerate(points[:-1]):\n",
    "            for p2 in points[idx_p1+1:]:\n",
    "                key = self.intercept_and_slope(p1, p2)\n",
    "                if key in d:\n",
    "                    d[key] += 1\n",
    "                else:\n",
    "                    d[key] = 1\n",
    "        # find max_counter\n",
    "        tmp = [d[key] for key in d]\n",
    "        if len(tmp) == 0:\n",
    "            return 1\n",
    "        max_counter = max(tmp) \n",
    "        # transfer max_counter to real_max_counter n and return it\n",
    "        # max_counter = n * (n-1) / 2\n",
    "        from math import sqrt\n",
    "        return int(sqrt(max_counter * 2)) + 1      \n",
    "    def intercept_and_slope(self, p1, p2):\n",
    "        '''\n",
    "        compute and return intercept and slope \n",
    "        these infos should be reported as (int1,int2) which means int1/int2, not as float\n",
    "        if you have int to report, it should be represented as (int,1)\n",
    "        if slope is infinite, return x intercept instead of intercept and (None,None)\n",
    "        if slope is 0, return intercept as (int,1) and slope as (0,1)\n",
    "        '''\n",
    "        x0, y0 = p1\n",
    "        x1, y1 = p2\n",
    "        dx, dy = x1 - x0, y1 - y0\n",
    "        if dx == 0: \n",
    "            return (x0,1), (None,None) # if slope is infinite, ...\n",
    "        if dy == 0: \n",
    "            return (y0,1), (0,1) # if slope is 0, ...\n",
    "        # to have a unique slope represention as (dy, dx) \n",
    "        # we require that dx > 0 \n",
    "        # and that gcd(dx, dy) = 1\n",
    "        if dx < 0:\n",
    "            dx, dy = -dx, -dy\n",
    "        from math import gcd\n",
    "        dx, dy = dx//gcd(dx,dy), dy//gcd(dx,dy)   \n",
    "        slope = (dy, dx)\n",
    "        # y - y0 = slope * (x - x0)\n",
    "        # y = slope * x + y0 - slope * x0\n",
    "        # intercept = y0 - slope * x0\n",
    "        intercept = (y0 * dx - dy * x0, dx)\n",
    "        return intercept, slope"
   ]
  },
  {
   "cell_type": "code",
   "execution_count": 18,
   "metadata": {},
   "outputs": [
    {
     "data": {
      "text/plain": [
       "4"
      ]
     },
     "execution_count": 18,
     "metadata": {},
     "output_type": "execute_result"
    }
   ],
   "source": [
    "points = [[1,1],[3,2],[5,3],[4,1],[2,3],[1,4]]\n",
    "Solution().maxPoints(points) # 4"
   ]
  },
  {
   "cell_type": "code",
   "execution_count": 19,
   "metadata": {},
   "outputs": [
    {
     "data": {
      "text/plain": [
       "3"
      ]
     },
     "execution_count": 19,
     "metadata": {},
     "output_type": "execute_result"
    }
   ],
   "source": [
    "points = [[1,1],[2,2],[3,3]]\n",
    "Solution().maxPoints(points) # 3"
   ]
  },
  {
   "cell_type": "markdown",
   "metadata": {},
   "source": [
    "# Reference\n",
    "\n",
    "[149. Max Points on a Line](https://leetcode.com/problems/max-points-on-a-line/)"
   ]
  }
 ],
 "metadata": {
  "kernelspec": {
   "display_name": "Python 3",
   "language": "python",
   "name": "python3"
  },
  "language_info": {
   "codemirror_mode": {
    "name": "ipython",
    "version": 3
   },
   "file_extension": ".py",
   "mimetype": "text/x-python",
   "name": "python",
   "nbconvert_exporter": "python",
   "pygments_lexer": "ipython3",
   "version": "3.8.5"
  }
 },
 "nbformat": 4,
 "nbformat_minor": 4
}
