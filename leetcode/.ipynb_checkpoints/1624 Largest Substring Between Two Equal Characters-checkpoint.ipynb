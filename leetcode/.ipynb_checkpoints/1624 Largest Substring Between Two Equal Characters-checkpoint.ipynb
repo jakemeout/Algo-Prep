{
 "cells": [
  {
   "cell_type": "code",
   "execution_count": null,
   "metadata": {},
   "outputs": [],
   "source": [
    "class Solution:\n",
    "    def maxLengthBetweenEqualCharacters(self, s: str) -> int:\n",
    "        self.s = s\n",
    "        n = len(s)\n",
    "        self.d = {}\n",
    "        return self.dp(0,n-1)\n",
    "    def dp(self, i, j):\n",
    "        if (i,j) in self.d:\n",
    "            return self.d[(i,j)]\n",
    "        if not i+1 <= j:\n",
    "            out = -1\n",
    "        if self.s[i] == self.s[j]:\n",
    "            out = j - i - 1 \n",
    "        else:\n",
    "            out = max(self.dp(i+1, j), self.dp(i, j-1))\n",
    "        self.d[(i,j)] = out \n",
    "        return out"
   ]
  },
  {
   "cell_type": "markdown",
   "metadata": {},
   "source": [
    "# Reference\n",
    "\n",
    "[1624. Largest Substring Between Two Equal Characters](https://leetcode.com/problems/largest-substring-between-two-equal-characters/)"
   ]
  }
 ],
 "metadata": {
  "kernelspec": {
   "display_name": "Python 3",
   "language": "python",
   "name": "python3"
  },
  "language_info": {
   "codemirror_mode": {
    "name": "ipython",
    "version": 3
   },
   "file_extension": ".py",
   "mimetype": "text/x-python",
   "name": "python",
   "nbconvert_exporter": "python",
   "pygments_lexer": "ipython3",
   "version": "3.8.5"
  }
 },
 "nbformat": 4,
 "nbformat_minor": 4
}
