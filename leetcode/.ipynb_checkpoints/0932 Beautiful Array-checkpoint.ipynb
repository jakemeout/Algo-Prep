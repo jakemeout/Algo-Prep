{
 "cells": [
  {
   "cell_type": "markdown",
   "metadata": {},
   "source": [
    "# Beautiful Array Properties\n",
    "\n",
    "Saying that an array is beautiful,\n",
    "there is no i < k < j,\n",
    "such that A[k] * 2 = A[i] + A[j]\n",
    "\n",
    "Apply these 3 following changes a beautiful array,\n",
    "we can get a new beautiful array\n",
    "\n",
    "##### 1. Deletion\n",
    "Easy to prove.\n",
    "\n",
    "##### 2. Addition\n",
    "If we have A[k] * 2 != A[i] + A[j],\n",
    "(A[k] + x) * 2 = A[k] * 2 + 2x != A[i] + A[j] + 2x = (A[i] + x) + (A[j] + x)\n",
    "\n",
    "E.g: [1,3,2] + 1 = [2,4,3].\n",
    "\n",
    "##### 3. Multiplication\n",
    "If we have A[k] * 2 != A[i] + A[j],\n",
    "for any x != 0,\n",
    "(A[k] * x) * 2 = A[k] * 2 * x != (A[i] + A[j]) * x = (A[i] * x) + (A[j] * x)\n",
    "\n",
    "E.g: [1,3,2] * 2 = [2,6,4]\n",
    "\n",
    "\n",
    "\n",
    "# Explanation\n",
    "\n",
    "With the observations above, we can easily construct any beautiful array.\n",
    "Assume we have a beautiful array A with length N\n",
    "\n",
    "A1 = A * 2 - 1 is beautiful with only odds from 1 to N * 2 -1\n",
    "\n",
    "A2 = A * 2 is beautiful with only even from 2 to N * 2\n",
    "\n",
    "B = A1 + A2 beautiful array with length N * 2"
   ]
  },
  {
   "cell_type": "code",
   "execution_count": null,
   "metadata": {},
   "outputs": [],
   "source": [
    "class Solution:\n",
    "    def beautifulArray(self, N):\n",
    "        \"\"\"\n",
    "        :type N: int\n",
    "        :rtype: List[int]\n",
    "        \"\"\"\n",
    "        ans = [1]\n",
    "        while len(ans) < N:\n",
    "            ans = [i * 2 - 1 for i in ans] + [i * 2 for i in ans]\n",
    "        return [i for i in ans if i <= N]"
   ]
  },
  {
   "cell_type": "markdown",
   "metadata": {},
   "source": [
    "# Reference\n",
    "\n",
    "[932. Beautiful Array](https://leetcode.com/problems/beautiful-array/)\n",
    "\n",
    "[Odd + Even Pattern, O(N)](https://leetcode.com/problems/beautiful-array/discuss/186679/Odd-%2B-Even-Pattern-O(N))"
   ]
  }
 ],
 "metadata": {
  "kernelspec": {
   "display_name": "Python 3",
   "language": "python",
   "name": "python3"
  },
  "language_info": {
   "codemirror_mode": {
    "name": "ipython",
    "version": 3
   },
   "file_extension": ".py",
   "mimetype": "text/x-python",
   "name": "python",
   "nbconvert_exporter": "python",
   "pygments_lexer": "ipython3",
   "version": "3.8.5"
  }
 },
 "nbformat": 4,
 "nbformat_minor": 4
}
