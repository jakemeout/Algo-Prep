{
 "cells": [
  {
   "cell_type": "code",
   "execution_count": null,
   "metadata": {},
   "outputs": [],
   "source": [
    "from collections import defaultdict\n",
    "class Solution:\n",
    "    def maxEqualRowsAfterFlips(self, A: List[List[int]]) -> int:\n",
    "        \n",
    "        d = defaultdict(int)\n",
    "        \n",
    "        for row in A:\n",
    "            combination = []\n",
    "            for num in row:\n",
    "                converted_num = num ^ row[0] # if first number in row is 0, go with , \n",
    "                                             # if 1 then flip all numbers in row\n",
    "                                             # Ex. \n",
    "                                             # [0,1,1] would become [0,1,1] and \n",
    "                                             # [1,0,0] would become [0,1,1]\n",
    "                                             # This is to make [1,0,0] same as [0,1,1]\n",
    "                combination.append(converted_num)\n",
    "            tup = tuple(combination) # This just make combination hashable in dictionary\n",
    "            d[tup] += 1\n",
    "\n",
    "        return max(d.values())"
   ]
  },
  {
   "cell_type": "code",
   "execution_count": null,
   "metadata": {},
   "outputs": [],
   "source": [
    "from collections import Counter\n",
    "class Solution:\n",
    "    def maxEqualRowsAfterFlips(self, A: List[List[int]]) -> int:\n",
    "        return max(Counter(tuple(x ^ r[0] for x in r) for r in A).values())"
   ]
  },
  {
   "cell_type": "markdown",
   "metadata": {},
   "source": [
    "# Reference\n",
    "\n",
    "[1072. Flip Columns For Maximum Number of Equal Rows](https://leetcode.com/problems/flip-columns-for-maximum-number-of-equal-rows/)\n",
    "\n",
    "[[Python] 1 Line](https://leetcode.com/problems/flip-columns-for-maximum-number-of-equal-rows/discuss/303752/Python-1-Line)"
   ]
  }
 ],
 "metadata": {
  "kernelspec": {
   "display_name": "Python 3",
   "language": "python",
   "name": "python3"
  },
  "language_info": {
   "codemirror_mode": {
    "name": "ipython",
    "version": 3
   },
   "file_extension": ".py",
   "mimetype": "text/x-python",
   "name": "python",
   "nbconvert_exporter": "python",
   "pygments_lexer": "ipython3",
   "version": "3.8.5"
  }
 },
 "nbformat": 4,
 "nbformat_minor": 4
}
