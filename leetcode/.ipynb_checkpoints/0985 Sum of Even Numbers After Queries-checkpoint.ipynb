{
 "cells": [
  {
   "cell_type": "code",
   "execution_count": null,
   "metadata": {},
   "outputs": [],
   "source": [
    "class Solution:\n",
    "    def sumEvenAfterQueries(self, nums, queries):\n",
    "        out = nums.copy()\n",
    "        curr_sumEven = 0\n",
    "        for iter_num, (val, idx) in enumerate(queries):\n",
    "            # check whether current nums[idx] is even\n",
    "            # if even, remove this portion from curr_sumEven\n",
    "            if nums[idx]%2 == 0:\n",
    "                curr_sumEven -= nums[idx]\n",
    "            # update nums[idx]   \n",
    "            nums[idx] += val\n",
    "            # check whether current nums[idx] is even\n",
    "            # if even, add this portion to curr_sumEven\n",
    "            if nums[idx]%2 == 0:\n",
    "                curr_sumEven += nums[idx]\n",
    "            if iter_num == 0:\n",
    "                curr_sumEven = self.sumEven(nums) \n",
    "            out[iter_num] = curr_sumEven \n",
    "        return out\n",
    "    def sumEven(self, nums):\n",
    "        out = 0\n",
    "        for num in nums:\n",
    "            if num%2 == 0:\n",
    "                out += num\n",
    "        return out"
   ]
  },
  {
   "cell_type": "code",
   "execution_count": 4,
   "metadata": {},
   "outputs": [
    {
     "data": {
      "text/plain": [
       "[8, 6, 2, 4]"
      ]
     },
     "execution_count": 4,
     "metadata": {},
     "output_type": "execute_result"
    }
   ],
   "source": [
    "nums = [1,2,3,4]\n",
    "queries = [[1,0],[-3,1],[-4,0],[2,3]]\n",
    "Solution().sumEvenAfterQueries(nums, queries) # [8,6,2,4]"
   ]
  },
  {
   "cell_type": "markdown",
   "metadata": {},
   "source": [
    "# Reference\n",
    "\n",
    "[985. Sum of Even Numbers After Queries](https://leetcode.com/problems/sum-of-even-numbers-after-queries/)"
   ]
  }
 ],
 "metadata": {
  "kernelspec": {
   "display_name": "Python 3",
   "language": "python",
   "name": "python3"
  },
  "language_info": {
   "codemirror_mode": {
    "name": "ipython",
    "version": 3
   },
   "file_extension": ".py",
   "mimetype": "text/x-python",
   "name": "python",
   "nbconvert_exporter": "python",
   "pygments_lexer": "ipython3",
   "version": "3.8.5"
  }
 },
 "nbformat": 4,
 "nbformat_minor": 4
}
