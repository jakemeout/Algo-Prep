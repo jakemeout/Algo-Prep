{
 "cells": [
  {
   "cell_type": "code",
   "execution_count": null,
   "metadata": {},
   "outputs": [],
   "source": [
    "class Solution:\n",
    "    def topKFrequent(self, words, k):\n",
    "        # construct freq dict d\n",
    "        # key : word\n",
    "        # value : freq\n",
    "        d = {}\n",
    "        for word in words:\n",
    "            if word in d:\n",
    "                d[word] += 1\n",
    "            else:\n",
    "                d[word] = 1\n",
    "        # construct freq dict f\n",
    "        # key : freq\n",
    "        # value : list of word with given freq\n",
    "        f = {}\n",
    "        for word, freq in d.items():\n",
    "            if freq in f:\n",
    "                f[freq].append(word)\n",
    "            else:\n",
    "                f[freq] = [word]\n",
    "        # Your answer should be sorted by frequency from highest to lowest. \n",
    "        # If two words have the same frequency, then the word with the lower alphabetical order comes first.\n",
    "        ans = []\n",
    "        from heapq import heapify, heappop\n",
    "        heap = [-freq for freq in f.keys()]\n",
    "        heapify(heap)\n",
    "        while True:\n",
    "            neg_freq = heappop(heap)\n",
    "            lst = f[-neg_freq]\n",
    "            lst.sort()\n",
    "            ans.extend(lst)\n",
    "            if len(ans) >= k:\n",
    "                return ans[:k]"
   ]
  },
  {
   "cell_type": "markdown",
   "metadata": {},
   "source": [
    "# Reference\n",
    "\n",
    "[692. Top K Frequent Words](https://leetcode.com/problems/top-k-frequent-words/)"
   ]
  }
 ],
 "metadata": {
  "kernelspec": {
   "display_name": "Python 3",
   "language": "python",
   "name": "python3"
  },
  "language_info": {
   "codemirror_mode": {
    "name": "ipython",
    "version": 3
   },
   "file_extension": ".py",
   "mimetype": "text/x-python",
   "name": "python",
   "nbconvert_exporter": "python",
   "pygments_lexer": "ipython3",
   "version": "3.8.5"
  }
 },
 "nbformat": 4,
 "nbformat_minor": 4
}
