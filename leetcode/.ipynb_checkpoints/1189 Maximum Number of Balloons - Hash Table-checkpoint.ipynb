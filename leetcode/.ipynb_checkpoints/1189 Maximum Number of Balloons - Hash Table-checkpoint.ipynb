{
 "cells": [
  {
   "cell_type": "code",
   "execution_count": 7,
   "metadata": {},
   "outputs": [],
   "source": [
    "class Solution:\n",
    "    def maxNumberOfBalloons(self, s: str) -> int:\n",
    "        # construct counter dict d\n",
    "        d = {}\n",
    "        for char in s:\n",
    "            if char not in d:\n",
    "                d[char] = 1\n",
    "            else:\n",
    "                d[char] += 1\n",
    "        # adjust counter dict d \n",
    "        for char in ['l','o']:  \n",
    "            if char in d: # adjust 'l' and 'o' conut   \n",
    "                d[char] = d[char]//2 # since there are two 'l' and 'o' in \"balloon\" \n",
    "        # count number of \"balloon\" and return it\n",
    "        counter_list = [d[char] for char in \"balloon\" if char in d]\n",
    "        if len(counter_list) != len(\"balloon\"):\n",
    "            return 0\n",
    "        else:\n",
    "            return min(counter_list)"
   ]
  },
  {
   "cell_type": "code",
   "execution_count": 8,
   "metadata": {},
   "outputs": [
    {
     "data": {
      "text/plain": [
       "1"
      ]
     },
     "execution_count": 8,
     "metadata": {},
     "output_type": "execute_result"
    }
   ],
   "source": [
    "s = \"nlaebolko\"\n",
    "Solution().maxNumberOfBalloons(s) # 1"
   ]
  },
  {
   "cell_type": "markdown",
   "metadata": {},
   "source": [
    "# Reference\n",
    "\n",
    "[1189. Maximum Number of Balloons](https://leetcode.com/problems/maximum-number-of-balloons/)"
   ]
  }
 ],
 "metadata": {
  "kernelspec": {
   "display_name": "Python 3",
   "language": "python",
   "name": "python3"
  },
  "language_info": {
   "codemirror_mode": {
    "name": "ipython",
    "version": 3
   },
   "file_extension": ".py",
   "mimetype": "text/x-python",
   "name": "python",
   "nbconvert_exporter": "python",
   "pygments_lexer": "ipython3",
   "version": "3.8.5"
  }
 },
 "nbformat": 4,
 "nbformat_minor": 4
}
