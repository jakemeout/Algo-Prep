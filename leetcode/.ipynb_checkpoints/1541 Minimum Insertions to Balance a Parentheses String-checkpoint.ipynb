{
 "cells": [
  {
   "cell_type": "code",
   "execution_count": 13,
   "metadata": {},
   "outputs": [],
   "source": [
    "class Solution:\n",
    "    def minInsertions(self, s: str) -> int:\n",
    "        count = 0\n",
    "        \n",
    "        s = s.replace('))',']')\n",
    "        #print(s)\n",
    "        count += s.count(')')\n",
    "        s = s.replace(')',']')\n",
    "        #print(s)\n",
    "        \n",
    "        stack = []\n",
    "        for c in s:\n",
    "            if c == '(':\n",
    "                stack.append('(')\n",
    "            else: # elif c == ')':\n",
    "                if stack:\n",
    "                    stack.pop()\n",
    "                else:\n",
    "                    count += 1\n",
    "        return count + 2*len(stack)"
   ]
  },
  {
   "cell_type": "code",
   "execution_count": 14,
   "metadata": {},
   "outputs": [
    {
     "name": "stdout",
     "output_type": "stream",
     "text": [
      "((])\n",
      "((]]\n"
     ]
    },
    {
     "data": {
      "text/plain": [
       "1"
      ]
     },
     "execution_count": 14,
     "metadata": {},
     "output_type": "execute_result"
    }
   ],
   "source": [
    "s = \"(()))\"\n",
    "Solution().minInsertions(s)"
   ]
  },
  {
   "cell_type": "markdown",
   "metadata": {},
   "source": [
    "# Reference\n",
    "\n",
    "[1541. Minimum Insertions to Balance a Parentheses String](https://leetcode.com/problems/minimum-insertions-to-balance-a-parentheses-string/)\n",
    "\n",
    "[Python: 92%](https://leetcode.com/problems/minimum-insertions-to-balance-a-parentheses-string/discuss/1225658/Python%3A-92)"
   ]
  }
 ],
 "metadata": {
  "kernelspec": {
   "display_name": "Python 3",
   "language": "python",
   "name": "python3"
  },
  "language_info": {
   "codemirror_mode": {
    "name": "ipython",
    "version": 3
   },
   "file_extension": ".py",
   "mimetype": "text/x-python",
   "name": "python",
   "nbconvert_exporter": "python",
   "pygments_lexer": "ipython3",
   "version": "3.8.5"
  }
 },
 "nbformat": 4,
 "nbformat_minor": 4
}
