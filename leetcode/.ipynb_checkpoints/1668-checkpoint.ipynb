{
 "cells": [
  {
   "cell_type": "code",
   "execution_count": 7,
   "metadata": {},
   "outputs": [],
   "source": [
    "class Solution:\n",
    "    def maxRepeating(self, sequence: str, word: str) -> int:\n",
    "        max_so_far = 0\n",
    "        i = 0\n",
    "        while i < len(sequence)-len(word)+1:\n",
    "            if sequence[i:i+len(word)] == word:\n",
    "                cur = 1\n",
    "                max_so_far = max(max_so_far, cur)\n",
    "                flag = True\n",
    "                i += len(word)\n",
    "                while flag and i < len(sequence)-len(word)+1:\n",
    "                    if sequence[i:i+len(word)] == word:\n",
    "                        cur += 1\n",
    "                        max_so_far = max(max_so_far, cur)\n",
    "                        i += len(word)\n",
    "                    else:\n",
    "                        flag = False\n",
    "                        i += -len(word) + 1\n",
    "            else:\n",
    "                i += 1\n",
    "        return max_so_far     "
   ]
  },
  {
   "cell_type": "code",
   "execution_count": 8,
   "metadata": {},
   "outputs": [
    {
     "data": {
      "text/plain": [
       "5"
      ]
     },
     "execution_count": 8,
     "metadata": {},
     "output_type": "execute_result"
    }
   ],
   "source": [
    "sequence = \"aaabaaaabaaabaaaabaaaabaaaabaaaaba\"\n",
    "word = \"aaaba\"\n",
    "Solution().maxRepeating(sequence, word) # 5"
   ]
  },
  {
   "cell_type": "markdown",
   "metadata": {},
   "source": [
    "# Reference\n",
    "\n",
    "[LeetCode](https://leetcode.com/)"
   ]
  }
 ],
 "metadata": {
  "kernelspec": {
   "display_name": "Python 3",
   "language": "python",
   "name": "python3"
  },
  "language_info": {
   "codemirror_mode": {
    "name": "ipython",
    "version": 3
   },
   "file_extension": ".py",
   "mimetype": "text/x-python",
   "name": "python",
   "nbconvert_exporter": "python",
   "pygments_lexer": "ipython3",
   "version": "3.8.5"
  }
 },
 "nbformat": 4,
 "nbformat_minor": 4
}
