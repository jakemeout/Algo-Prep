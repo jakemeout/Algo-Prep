{
 "cells": [
  {
   "cell_type": "code",
   "execution_count": 27,
   "metadata": {},
   "outputs": [],
   "source": [
    "class Solution:\n",
    "    def removeDuplicates(self, lst):\n",
    "        # corner case\n",
    "        if len(lst) <= 1: return len(lst)\n",
    "        if len(lst) == 2:\n",
    "            if lst[0] == lst[1]: return 1\n",
    "            else: return 2\n",
    "        # general case\n",
    "        l = 1 # left pointer where lst[l-1] == lst[l] is tested\n",
    "        r = l + 1 # lst[l], lst[r] = lst[r], lst[l] if needed\n",
    "        # l is duplicate test location\n",
    "        # r (>l) is the first not tested location\n",
    "        # between l and r we dump duplicates\n",
    "        while r <= len(lst):\n",
    "            if lst[l-1] == lst[l]: # if lst[l] is a duplicate, move it\n",
    "                if r < len(lst):\n",
    "                    lst[l], lst[r] = lst[r], lst[l] # to RHS by swapping \n",
    "                    r += 1 # move right pointer to right\n",
    "                else:\n",
    "                    return l\n",
    "            else: # if lst[l] is not a duplicate,\n",
    "                l += 1 # move left pointer to right\n",
    "                if l == r:\n",
    "                    r += 1\n",
    "                else:\n",
    "                    if r < len(lst):\n",
    "                        lst[l], lst[r] = lst[r], lst[l]\n",
    "                        r += 1 # move right pointer to right\n",
    "                    else: \n",
    "                        return l  "
   ]
  },
  {
   "cell_type": "code",
   "execution_count": 28,
   "metadata": {},
   "outputs": [
    {
     "name": "stdout",
     "output_type": "stream",
     "text": [
      "1\n",
      "[1, 1, 1]\n"
     ]
    }
   ],
   "source": [
    "lst = [1,1,1]\n",
    "print(Solution().removeDuplicates(lst))\n",
    "print(lst)"
   ]
  },
  {
   "cell_type": "code",
   "execution_count": 29,
   "metadata": {},
   "outputs": [
    {
     "name": "stdout",
     "output_type": "stream",
     "text": [
      "2\n",
      "[1, 2, 1]\n"
     ]
    }
   ],
   "source": [
    "lst = [1,1,2]\n",
    "print(Solution().removeDuplicates(lst))\n",
    "print(lst)"
   ]
  },
  {
   "cell_type": "code",
   "execution_count": 30,
   "metadata": {},
   "outputs": [
    {
     "name": "stdout",
     "output_type": "stream",
     "text": [
      "1\n",
      "[1, 1]\n"
     ]
    }
   ],
   "source": [
    "lst = [1,1]\n",
    "print(Solution().removeDuplicates(lst))\n",
    "print(lst)"
   ]
  },
  {
   "cell_type": "code",
   "execution_count": 31,
   "metadata": {},
   "outputs": [
    {
     "name": "stdout",
     "output_type": "stream",
     "text": [
      "2\n",
      "[1, 2, 1]\n"
     ]
    }
   ],
   "source": [
    "lst = [1,1,2]\n",
    "print(Solution().removeDuplicates(lst))\n",
    "print(lst)"
   ]
  },
  {
   "cell_type": "code",
   "execution_count": 32,
   "metadata": {},
   "outputs": [
    {
     "name": "stdout",
     "output_type": "stream",
     "text": [
      "5\n",
      "[0, 1, 2, 3, 4, 1, 0, 2, 1, 3]\n"
     ]
    }
   ],
   "source": [
    "lst = [0,0,1,1,1,2,2,3,3,4]\n",
    "print(Solution().removeDuplicates(lst))\n",
    "print(lst)"
   ]
  },
  {
   "cell_type": "markdown",
   "metadata": {},
   "source": [
    "# Reference\n",
    "\n",
    "[26. Remove Duplicates from Sorted Array](https://leetcode.com/problems/remove-duplicates-from-sorted-array/)"
   ]
  },
  {
   "cell_type": "code",
   "execution_count": null,
   "metadata": {},
   "outputs": [],
   "source": []
  },
  {
   "cell_type": "code",
   "execution_count": null,
   "metadata": {},
   "outputs": [],
   "source": []
  },
  {
   "cell_type": "code",
   "execution_count": null,
   "metadata": {},
   "outputs": [],
   "source": []
  },
  {
   "cell_type": "code",
   "execution_count": null,
   "metadata": {},
   "outputs": [],
   "source": []
  }
 ],
 "metadata": {
  "kernelspec": {
   "display_name": "Python 3",
   "language": "python",
   "name": "python3"
  },
  "language_info": {
   "codemirror_mode": {
    "name": "ipython",
    "version": 3
   },
   "file_extension": ".py",
   "mimetype": "text/x-python",
   "name": "python",
   "nbconvert_exporter": "python",
   "pygments_lexer": "ipython3",
   "version": "3.8.5"
  }
 },
 "nbformat": 4,
 "nbformat_minor": 4
}
