{
 "cells": [
  {
   "cell_type": "code",
   "execution_count": 4,
   "metadata": {},
   "outputs": [],
   "source": [
    "class Solution:\n",
    "    def replaceWords(self, dictionary, sentence):\n",
    "        \"\"\"\n",
    "        :type dictionary: List[str]\n",
    "        :type sentence: str\n",
    "        :rtype str\n",
    "        \"\"\"\n",
    "        from collections import defaultdict\n",
    "        d = defaultdict(set)\n",
    "        for root in dictionary:\n",
    "            d[len(root)].add(root)\n",
    "            \n",
    "        lst = sentence.split()\n",
    "        for i, word in enumerate(lst):\n",
    "            for key in sorted(d.keys()):\n",
    "                if word[:key] in d[key]:\n",
    "                    lst[i] = word[:key]\n",
    "                    break\n",
    "        return ' '.join(lst)   "
   ]
  },
  {
   "cell_type": "code",
   "execution_count": 5,
   "metadata": {},
   "outputs": [
    {
     "data": {
      "text/plain": [
       "'a a b c'"
      ]
     },
     "execution_count": 5,
     "metadata": {},
     "output_type": "execute_result"
    }
   ],
   "source": [
    "dictionary = [\"a\",\"b\",\"c\"]\n",
    "sentence = \"aadsfasf absbs bbab cadsfafs\"\n",
    "Solution().replaceWords(dictionary, sentence) # \"a a b c\""
   ]
  },
  {
   "cell_type": "markdown",
   "metadata": {},
   "source": [
    "# Reference\n",
    "\n",
    "[648. Replace Words](https://leetcode.com/problems/replace-words/)"
   ]
  }
 ],
 "metadata": {
  "kernelspec": {
   "display_name": "Python 3",
   "language": "python",
   "name": "python3"
  },
  "language_info": {
   "codemirror_mode": {
    "name": "ipython",
    "version": 3
   },
   "file_extension": ".py",
   "mimetype": "text/x-python",
   "name": "python",
   "nbconvert_exporter": "python",
   "pygments_lexer": "ipython3",
   "version": "3.8.5"
  }
 },
 "nbformat": 4,
 "nbformat_minor": 4
}
