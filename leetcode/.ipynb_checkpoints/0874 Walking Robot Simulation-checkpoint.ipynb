{
 "cells": [
  {
   "cell_type": "code",
   "execution_count": 17,
   "metadata": {},
   "outputs": [],
   "source": [
    "# Time Limit Exceeded\n",
    "class Solution:\n",
    "    def robotSim(self, commands, obstacles):\n",
    "        self.obstacles = obstacles\n",
    "        self.loc = [0,0] # robot starts at origin\n",
    "        self.direction = [0,1] # at start default direction is north\n",
    "        self.max = 0 # max l2^2 distance of robot trajectory\n",
    "        #print(\"  \", self.loc, self.direction, self.max)\n",
    "        for command in commands:\n",
    "            if command == -2:\n",
    "                self.turn_left()\n",
    "                #print(f'{command:2}', self.loc, self.direction, self.max)\n",
    "            elif command == -1:\n",
    "                self.turn_right()\n",
    "                #print(f'{command:2}', self.loc, self.direction, self.max)\n",
    "            else:\n",
    "                self.move(command)\n",
    "                self.max = max(self.max, self.loc[0]*self.loc[0] + self.loc[1]*self.loc[1])\n",
    "                #print(f'{command:2}', self.loc, self.direction, self.max)\n",
    "        return self.max\n",
    "    def turn_left(self):\n",
    "        if self.direction == [0,1]: # N\n",
    "            self.direction = [-1,0]\n",
    "        elif self.direction == [1,0]: # E\n",
    "            self.direction = [0,1]\n",
    "        elif self.direction == [-1,0]: # W\n",
    "            self.direction = [0,-1]\n",
    "        else: # elif self.direction == [0,-1]: # S\n",
    "            self.direction = [1,0]\n",
    "    def turn_right(self):\n",
    "        if self.direction == [0,1]: # N\n",
    "            self.direction = [1,0]\n",
    "        elif self.direction == [1,0]: # E\n",
    "            self.direction = [0,-1]\n",
    "        elif self.direction == [-1,0]: # W\n",
    "            self.direction = [0,1]\n",
    "        else: # elif self.direction == [0,-1]: # S\n",
    "            self.direction = [-1,0]\n",
    "    def move(self, command):\n",
    "        tmp = self.loc.copy()\n",
    "        for _ in range(command):\n",
    "            tmp[0] += self.direction[0] \n",
    "            tmp[1] += self.direction[1] \n",
    "            if tmp in self.obstacles:\n",
    "                tmp[0] -= self.direction[0] \n",
    "                tmp[1] -= self.direction[1] \n",
    "                break\n",
    "        self.loc = tmp     "
   ]
  },
  {
   "cell_type": "code",
   "execution_count": null,
   "metadata": {},
   "outputs": [],
   "source": [
    "class Solution:\n",
    "    def robotSim(self, commands, obstacles):\n",
    "        self.obstacles = set()\n",
    "        for x, y in obstacles:\n",
    "            self.obstacles.add(f'{x}-{y}')  \n",
    "        self.loc = [0,0] # robot starts at origin\n",
    "        self.direction = [0,1] # at start default direction is north\n",
    "        self.max = 0 # max l2^2 distance of robot trajectory\n",
    "        #print(\"  \", self.loc, self.direction, self.max)\n",
    "        for command in commands:\n",
    "            if command == -2:\n",
    "                self.turn_left()\n",
    "                #print(f'{command:2}', self.loc, self.direction, self.max)\n",
    "            elif command == -1:\n",
    "                self.turn_right()\n",
    "                #print(f'{command:2}', self.loc, self.direction, self.max)\n",
    "            else:\n",
    "                self.move(command)\n",
    "                self.max = max(self.max, self.loc[0]*self.loc[0] + self.loc[1]*self.loc[1])\n",
    "                #print(f'{command:2}', self.loc, self.direction, self.max)\n",
    "        return self.max\n",
    "    def turn_left(self):\n",
    "        if self.direction == [0,1]: # N\n",
    "            self.direction = [-1,0]\n",
    "        elif self.direction == [1,0]: # E\n",
    "            self.direction = [0,1]\n",
    "        elif self.direction == [-1,0]: # W\n",
    "            self.direction = [0,-1]\n",
    "        else: # elif self.direction == [0,-1]: # S\n",
    "            self.direction = [1,0]\n",
    "    def turn_right(self):\n",
    "        if self.direction == [0,1]: # N\n",
    "            self.direction = [1,0]\n",
    "        elif self.direction == [1,0]: # E\n",
    "            self.direction = [0,-1]\n",
    "        elif self.direction == [-1,0]: # W\n",
    "            self.direction = [0,1]\n",
    "        else: # elif self.direction == [0,-1]: # S\n",
    "            self.direction = [-1,0]\n",
    "    def move(self, command):\n",
    "        tmp = self.loc.copy()\n",
    "        for _ in range(command):\n",
    "            tmp[0] += self.direction[0] \n",
    "            tmp[1] += self.direction[1] \n",
    "            if f'{tmp[0]}-{tmp[1]}' in self.obstacles: # <------ speed up\n",
    "                tmp[0] -= self.direction[0] \n",
    "                tmp[1] -= self.direction[1] \n",
    "                break\n",
    "        self.loc = tmp     "
   ]
  },
  {
   "cell_type": "code",
   "execution_count": 18,
   "metadata": {},
   "outputs": [
    {
     "data": {
      "text/plain": [
       "65"
      ]
     },
     "execution_count": 18,
     "metadata": {},
     "output_type": "execute_result"
    }
   ],
   "source": [
    "commands = [4,-1,4,-2,4]\n",
    "obstacles = [[2,4]]\n",
    "Solution().robotSim(commands, obstacles) # 65"
   ]
  },
  {
   "cell_type": "markdown",
   "metadata": {},
   "source": [
    "# Reference\n",
    "\n",
    "[874. Walking Robot Simulation](https://leetcode.com/problems/walking-robot-simulation/)"
   ]
  }
 ],
 "metadata": {
  "kernelspec": {
   "display_name": "Python 3",
   "language": "python",
   "name": "python3"
  },
  "language_info": {
   "codemirror_mode": {
    "name": "ipython",
    "version": 3
   },
   "file_extension": ".py",
   "mimetype": "text/x-python",
   "name": "python",
   "nbconvert_exporter": "python",
   "pygments_lexer": "ipython3",
   "version": "3.8.5"
  }
 },
 "nbformat": 4,
 "nbformat_minor": 4
}
