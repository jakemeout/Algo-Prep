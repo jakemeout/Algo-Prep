{
 "cells": [
  {
   "cell_type": "code",
   "execution_count": 22,
   "metadata": {},
   "outputs": [],
   "source": [
    "# Time Limit Exceeded\n",
    "class Solution:\n",
    "    def mostCompetitive(self, nums, k):\n",
    "        ans = [None] * k\n",
    "        import numpy as np\n",
    "        nums = np.array(nums)\n",
    "        i = -1\n",
    "        idx = -1\n",
    "        while None in ans:\n",
    "            i += 1\n",
    "            tmp = np.argmin(nums[idx+1:len(nums)-(k-1-i)])\n",
    "            idx = idx+1+tmp \n",
    "            ans[i] = nums[idx]\n",
    "        return ans"
   ]
  },
  {
   "cell_type": "code",
   "execution_count": null,
   "metadata": {},
   "outputs": [],
   "source": [
    "class Solution:\n",
    "    def mostCompetitive(self, nums, k):\n",
    "        ans = []\n",
    "        i = 0\n",
    "        n = len(nums)\n",
    "        while i < n:\n",
    "            while ans and ans[-1] > nums[i] and (n-i+len(ans)) > k:\n",
    "                ans.pop()\n",
    "            if len(ans) < k:\n",
    "                ans.append(nums[i])\n",
    "            i += 1\n",
    "        return ans"
   ]
  },
  {
   "cell_type": "code",
   "execution_count": 23,
   "metadata": {},
   "outputs": [
    {
     "name": "stdout",
     "output_type": "stream",
     "text": [
      "[None, None, None]\n",
      "0 10 [71 18 52 29 55 73 24 42 66  8]\n",
      "0 9 [8, None, None]\n",
      "10 11 [80]\n",
      "1 10 [8, 80, None]\n",
      "11 12 [2]\n",
      "2 11 [8, 80, 2]\n"
     ]
    },
    {
     "data": {
      "text/plain": [
       "[8, 80, 2]"
      ]
     },
     "execution_count": 23,
     "metadata": {},
     "output_type": "execute_result"
    }
   ],
   "source": [
    "nums = [71,18,52,29,55,73,24,42,66,8,80,2]\n",
    "k = 3\n",
    "Solution().mostCompetitive(nums, k)"
   ]
  },
  {
   "cell_type": "markdown",
   "metadata": {},
   "source": [
    "# Reference\n",
    "\n",
    "[1673. Find the Most Competitive Subsequence](https://leetcode.com/problems/find-the-most-competitive-subsequence/)\n",
    "\n",
    "[Python very simple stack](https://leetcode.com/problems/find-the-most-competitive-subsequence/discuss/1085523/Python-very-simple-stack)\n",
    "\n",
    "[Find the Most Competitive Subsequence | LeetCode 1673 | Stack | Google](https://www.youtube.com/watch?v=i5jcWE3od1U)"
   ]
  }
 ],
 "metadata": {
  "kernelspec": {
   "display_name": "Python 3",
   "language": "python",
   "name": "python3"
  },
  "language_info": {
   "codemirror_mode": {
    "name": "ipython",
    "version": 3
   },
   "file_extension": ".py",
   "mimetype": "text/x-python",
   "name": "python",
   "nbconvert_exporter": "python",
   "pygments_lexer": "ipython3",
   "version": "3.8.5"
  }
 },
 "nbformat": 4,
 "nbformat_minor": 4
}
