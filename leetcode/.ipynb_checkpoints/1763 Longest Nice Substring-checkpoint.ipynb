{
 "cells": [
  {
   "cell_type": "code",
   "execution_count": null,
   "metadata": {},
   "outputs": [],
   "source": [
    "class Solution:\n",
    "    def longestNiceSubstring(self, s: str) -> str:\n",
    "        self.s = s\n",
    "        n = len(s)\n",
    "        return self.dp(0, n - 1)\n",
    "    def dp(self, i, j):\n",
    "        if i > j:\n",
    "            return ''\n",
    "        count = set(list(self.s[i:j+1]))\n",
    "        for k, c in enumerate(self.s[i:j+1]):\n",
    "            if not (c.upper() in count and c.lower() in count):\n",
    "                break\n",
    "        else:\n",
    "            return self.s[i:j+1]\n",
    "        return max([self.dp(i,i+k-1), self.dp(i+k+1,j)], key=len)        "
   ]
  },
  {
   "cell_type": "markdown",
   "metadata": {},
   "source": [
    "# Reference\n",
    "\n",
    "[1763. Longest Nice Substring](https://leetcode.com/problems/longest-nice-substring/)"
   ]
  }
 ],
 "metadata": {
  "kernelspec": {
   "display_name": "Python 3",
   "language": "python",
   "name": "python3"
  },
  "language_info": {
   "codemirror_mode": {
    "name": "ipython",
    "version": 3
   },
   "file_extension": ".py",
   "mimetype": "text/x-python",
   "name": "python",
   "nbconvert_exporter": "python",
   "pygments_lexer": "ipython3",
   "version": "3.8.5"
  }
 },
 "nbformat": 4,
 "nbformat_minor": 4
}
