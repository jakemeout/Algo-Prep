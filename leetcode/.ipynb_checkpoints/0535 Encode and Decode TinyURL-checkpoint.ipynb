{
 "cells": [
  {
   "cell_type": "code",
   "execution_count": null,
   "id": "contrary-windsor",
   "metadata": {},
   "outputs": [],
   "source": [
    "class Codec:\n",
    "\n",
    "    def __init__(self):\n",
    "        self.urls = []\n",
    "\n",
    "    def encode(self, longUrl):\n",
    "        self.urls.append(longUrl)\n",
    "        return 'http://tinyurl.com/' + str(len(self.urls) - 1)\n",
    "\n",
    "    def decode(self, shortUrl):\n",
    "        return self.urls[int(shortUrl.split('/')[-1])]"
   ]
  },
  {
   "cell_type": "code",
   "execution_count": null,
   "id": "charming-plumbing",
   "metadata": {},
   "outputs": [],
   "source": [
    "import random\n",
    "import string\n",
    "\n",
    "class Codec:\n",
    "\n",
    "    alphabet = string.ascii_letters + '0123456789'\n",
    "\n",
    "    def __init__(self):\n",
    "        self.url2code = {}\n",
    "        self.code2url = {}\n",
    "\n",
    "    def encode(self, longUrl):\n",
    "        while longUrl not in self.url2code:\n",
    "            code = ''.join(random.choice(Codec.alphabet) for _ in range(6))\n",
    "            if code not in self.code2url:\n",
    "                self.code2url[code] = longUrl\n",
    "                self.url2code[longUrl] = code\n",
    "        return 'http://tinyurl.com/' + self.url2code[longUrl]\n",
    "\n",
    "    def decode(self, shortUrl):\n",
    "        return self.code2url[shortUrl[-6:]]"
   ]
  },
  {
   "cell_type": "markdown",
   "id": "planned-blocking",
   "metadata": {},
   "source": [
    "# Reference\n",
    "\n",
    "[535. Encode and Decode TinyURL](https://leetcode.com/problems/encode-and-decode-tinyurl/)\n",
    "\n",
    "[Two solutions and thoughts](https://leetcode.com/problems/encode-and-decode-tinyurl/discuss/100268/Two-solutions-and-thoughts)"
   ]
  }
 ],
 "metadata": {
  "kernelspec": {
   "display_name": "Python 3",
   "language": "python",
   "name": "python3"
  },
  "language_info": {
   "codemirror_mode": {
    "name": "ipython",
    "version": 3
   },
   "file_extension": ".py",
   "mimetype": "text/x-python",
   "name": "python",
   "nbconvert_exporter": "python",
   "pygments_lexer": "ipython3",
   "version": "3.7.10"
  }
 },
 "nbformat": 4,
 "nbformat_minor": 5
}
