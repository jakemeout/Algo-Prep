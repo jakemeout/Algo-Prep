{
 "cells": [
  {
   "cell_type": "code",
   "execution_count": 11,
   "metadata": {},
   "outputs": [],
   "source": [
    "from collections import defaultdict\n",
    "class Solution:\n",
    "    def findLeastNumOfUniqueInts(self, arr, k):\n",
    "        \"\"\"\n",
    "        :type arr: List[int]\n",
    "        :type k: int\n",
    "        :rtype: int\n",
    "        \"\"\"\n",
    "        count_dict = defaultdict(lambda : 0)\n",
    "        for num in arr:\n",
    "            count_dict[num] += 1\n",
    "            \n",
    "        lst = sorted([[count_dict[num], num] for num in count_dict])\n",
    "        #print(lst)\n",
    "        ans = len(lst)\n",
    "        flag = True\n",
    "        while flag:\n",
    "            for count, num in lst:\n",
    "                #print(count, k, count <= k, '--->', end=' ')\n",
    "                if count <= k:\n",
    "                    ans -= 1\n",
    "                    k -= count\n",
    "                    #print(ans, k)\n",
    "                else:\n",
    "                    flag = False\n",
    "                    break\n",
    "        return ans    "
   ]
  },
  {
   "cell_type": "code",
   "execution_count": 12,
   "metadata": {},
   "outputs": [
    {
     "data": {
      "text/plain": [
       "2"
      ]
     },
     "execution_count": 12,
     "metadata": {},
     "output_type": "execute_result"
    }
   ],
   "source": [
    "arr = [4,3,1,1,3,3,2]\n",
    "k = 3\n",
    "Solution().findLeastNumOfUniqueInts(arr, k) # 2"
   ]
  },
  {
   "cell_type": "markdown",
   "metadata": {},
   "source": [
    "# Reference\n",
    "\n",
    "[1481. Least Number of Unique Integers after K Removals](https://leetcode.com/problems/least-number-of-unique-integers-after-k-removals/)"
   ]
  }
 ],
 "metadata": {
  "kernelspec": {
   "display_name": "Python 3",
   "language": "python",
   "name": "python3"
  },
  "language_info": {
   "codemirror_mode": {
    "name": "ipython",
    "version": 3
   },
   "file_extension": ".py",
   "mimetype": "text/x-python",
   "name": "python",
   "nbconvert_exporter": "python",
   "pygments_lexer": "ipython3",
   "version": "3.8.5"
  }
 },
 "nbformat": 4,
 "nbformat_minor": 4
}
