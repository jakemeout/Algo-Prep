{
 "cells": [
  {
   "cell_type": "code",
   "execution_count": 8,
   "metadata": {},
   "outputs": [],
   "source": [
    "class Solution:\n",
    "    def isPossible(self, nums):\n",
    "        from heapq import heappush, heappop\n",
    "        res = [] # [array of consecutive numbers, ...] \n",
    "        queue = [] # [(largest element in array, size of array, index of array in res),...]\n",
    "        \n",
    "        res.append([nums[0]])\n",
    "        heappush(queue, (nums[0], 1, 0)) \n",
    "\n",
    "        i = 1\n",
    "        while i < len(nums):\n",
    "            x = nums[i]\n",
    "            if not queue: # if queue is []\n",
    "                res.append([x]) # we have to form a new array [x] and append to res\n",
    "                heappush(queue, (x, 1, len(res)-1)) # and a new tuple (x, 1, len(res)-1) and push to queue\n",
    "                i += 1\n",
    "            else:\n",
    "                a, b, c = heappop(queue)\n",
    "                if a == x: # if a == x, x cannot be appended to the existing arraries \n",
    "                    heappush(queue, (a, b, c)) # since nums is sorted in non-decreasing order \n",
    "                    res.append([x]) # so we have to form a new array [x] and append to res\n",
    "                    heappush(queue, (x, 1, len(res)-1)) # and a new tuple (x, 1, len(res)-1) and push to queue\n",
    "                    i += 1\n",
    "                elif a + 1 == x: # if a + 1 == x, x can and will be appended to this array \n",
    "                    res[c].append(x) # since this array has smallest length b among all appendable arraies\n",
    "                    heappush(queue, (x, b + 1, c))\n",
    "                    i += 1\n",
    "                else: # if a + 2 <= x, x and all the next appearing x's are >= a + 2\n",
    "                    if b < 3: # this means this array cannot be appended further and is final\n",
    "                        return False # so if b < 3, we have to report False\n",
    "                     \n",
    "        for arr in res:\n",
    "            if len(arr) < 3:\n",
    "                return False\n",
    "        return True"
   ]
  },
  {
   "cell_type": "code",
   "execution_count": 9,
   "metadata": {},
   "outputs": [
    {
     "data": {
      "text/plain": [
       "False"
      ]
     },
     "execution_count": 9,
     "metadata": {},
     "output_type": "execute_result"
    }
   ],
   "source": [
    "nums = [1,2,3,7,8,9]\n",
    "Solution().isPossible(nums)"
   ]
  },
  {
   "cell_type": "markdown",
   "metadata": {},
   "source": [
    "# Reference\n",
    "\n",
    "[659. Split Array into Consecutive Subsequences](https://leetcode.com/problems/split-array-into-consecutive-subsequences/)\n",
    "\n",
    "[Heap Queue Solution Python](https://leetcode.com/problems/split-array-into-consecutive-subsequences/discuss/1231370/Heap-Queue-Solution-Python)"
   ]
  }
 ],
 "metadata": {
  "kernelspec": {
   "display_name": "Python 3",
   "language": "python",
   "name": "python3"
  },
  "language_info": {
   "codemirror_mode": {
    "name": "ipython",
    "version": 3
   },
   "file_extension": ".py",
   "mimetype": "text/x-python",
   "name": "python",
   "nbconvert_exporter": "python",
   "pygments_lexer": "ipython3",
   "version": "3.8.5"
  }
 },
 "nbformat": 4,
 "nbformat_minor": 4
}
