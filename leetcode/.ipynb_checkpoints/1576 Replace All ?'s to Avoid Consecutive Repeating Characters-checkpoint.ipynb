{
 "cells": [
  {
   "cell_type": "code",
   "execution_count": null,
   "metadata": {},
   "outputs": [],
   "source": [
    "class Solution:\n",
    "    def modifyString(self, s: str) -> str:\n",
    "        self.lst = list(s)\n",
    "        self.len = len(s)\n",
    "        for idx, c in enumerate(self.lst):\n",
    "            if c == '?':\n",
    "                self.lst[idx] = self.modify(idx)\n",
    "        return ''.join(self.lst)\n",
    "    def modify(self, idx):\n",
    "        if idx == 0:\n",
    "            if idx+1 < self.len and self.lst[idx+1] != 'a':\n",
    "                return 'a'\n",
    "            elif idx+1 < self.len and self.lst[idx+1] == 'a':\n",
    "                return 'b'\n",
    "            else:\n",
    "                return 'a'\n",
    "        else:\n",
    "            if self.lst[idx-1] != 'a' and self.lst[idx-1] != 'b': \n",
    "                if idx+1 < self.len and self.lst[idx+1] != 'a':\n",
    "                    return 'a'\n",
    "                elif idx+1 < self.len and self.lst[idx+1] == 'a':\n",
    "                    return 'b'\n",
    "                else:\n",
    "                    return 'a'\n",
    "            elif self.lst[idx-1] == 'a': \n",
    "                if idx+1 < self.len and self.lst[idx+1] != 'b':\n",
    "                    return 'b'\n",
    "                elif idx+1 < self.len and self.lst[idx+1] == 'b':\n",
    "                    return 'c'\n",
    "                else:\n",
    "                    return 'b'\n",
    "            else: #if self.lst[idx-1] == 'b': \n",
    "                if idx+1 < self.len and self.lst[idx+1] != 'a':\n",
    "                    return 'a'\n",
    "                elif idx+1 < self.len and self.lst[idx+1] == 'a':\n",
    "                    return 'c'\n",
    "                else:\n",
    "                    return 'a'"
   ]
  },
  {
   "cell_type": "markdown",
   "metadata": {},
   "source": [
    "# Reference\n",
    "\n",
    "[1576. Replace All ?'s to Avoid Consecutive Repeating Characters](https://leetcode.com/problems/replace-all-s-to-avoid-consecutive-repeating-characters/)"
   ]
  }
 ],
 "metadata": {
  "kernelspec": {
   "display_name": "Python 3",
   "language": "python",
   "name": "python3"
  },
  "language_info": {
   "codemirror_mode": {
    "name": "ipython",
    "version": 3
   },
   "file_extension": ".py",
   "mimetype": "text/x-python",
   "name": "python",
   "nbconvert_exporter": "python",
   "pygments_lexer": "ipython3",
   "version": "3.8.5"
  }
 },
 "nbformat": 4,
 "nbformat_minor": 4
}
