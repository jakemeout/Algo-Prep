{
 "cells": [
  {
   "cell_type": "code",
   "execution_count": null,
   "metadata": {},
   "outputs": [],
   "source": [
    "class Solution:\n",
    "    def getKth(self, lo: int, hi: int, k: int) -> int:\n",
    "        # count dict d:\n",
    "        # key : n # int\n",
    "        # value : number of steps needed to transform x into 1 using the following steps\n",
    "        self.d = {1 : 0}\n",
    "        lst = sorted(range(lo,hi+1),key=self.power)\n",
    "        return lst[k-1]\n",
    "    def power(self, n):\n",
    "        if n in self.d:\n",
    "            return self.d[n]\n",
    "        elif n%2 == 0:\n",
    "            self.d[n] = self.power(n//2) + 1\n",
    "        else:\n",
    "            self.d[n] = self.power(3*n+1) + 1\n",
    "        return self.d[n]  "
   ]
  },
  {
   "cell_type": "markdown",
   "metadata": {},
   "source": [
    "# Reference\n",
    "\n",
    "[1387. Sort Integers by The Power Value](https://leetcode.com/problems/sort-integers-by-the-power-value/)\n",
    "\n",
    "[LeetCode 1387 - Sort Integers by The Power Value](https://www.youtube.com/watch?v=jaCm2KaW8dw)"
   ]
  }
 ],
 "metadata": {
  "kernelspec": {
   "display_name": "Python 3",
   "language": "python",
   "name": "python3"
  },
  "language_info": {
   "codemirror_mode": {
    "name": "ipython",
    "version": 3
   },
   "file_extension": ".py",
   "mimetype": "text/x-python",
   "name": "python",
   "nbconvert_exporter": "python",
   "pygments_lexer": "ipython3",
   "version": "3.8.5"
  }
 },
 "nbformat": 4,
 "nbformat_minor": 4
}
