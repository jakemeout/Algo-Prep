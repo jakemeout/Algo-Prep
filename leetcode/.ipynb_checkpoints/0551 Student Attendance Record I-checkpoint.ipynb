{
 "cells": [
  {
   "cell_type": "code",
   "execution_count": null,
   "metadata": {},
   "outputs": [],
   "source": [
    "class Solution:\n",
    "    def checkRecord(self, s: str) -> bool:\n",
    "        # eligible for an attendance award if they meet both of the following criteria:\n",
    "        # 1 The student was absent ('A') for strictly fewer than 2 days total.\n",
    "        a = s\n",
    "        a = a.replace('L', \" \")\n",
    "        a = a.replace('P', \" \")\n",
    "        a = ''.join(a.split())\n",
    "        if len(a) >= 2:\n",
    "            return False\n",
    "        # 2 The student was never late ('L') for 3 or more consecutive days.\n",
    "        b = s\n",
    "        b = b.replace('A', \" \")\n",
    "        b = b.replace('P', \" \")\n",
    "        lst = b.split()\n",
    "        for late_days in lst:\n",
    "            if len(late_days) >= 3:\n",
    "                return False\n",
    "        return True   "
   ]
  },
  {
   "cell_type": "markdown",
   "metadata": {},
   "source": [
    "# Reference\n",
    "\n",
    "[551. Student Attendance Record I](https://leetcode.com/problems/student-attendance-record-i/)"
   ]
  }
 ],
 "metadata": {
  "kernelspec": {
   "display_name": "Python 3",
   "language": "python",
   "name": "python3"
  },
  "language_info": {
   "codemirror_mode": {
    "name": "ipython",
    "version": 3
   },
   "file_extension": ".py",
   "mimetype": "text/x-python",
   "name": "python",
   "nbconvert_exporter": "python",
   "pygments_lexer": "ipython3",
   "version": "3.8.5"
  }
 },
 "nbformat": 4,
 "nbformat_minor": 4
}
