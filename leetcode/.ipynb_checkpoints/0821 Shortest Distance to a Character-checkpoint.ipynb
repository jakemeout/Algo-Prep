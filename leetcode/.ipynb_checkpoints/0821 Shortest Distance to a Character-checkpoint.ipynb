{
 "cells": [
  {
   "cell_type": "code",
   "execution_count": null,
   "metadata": {},
   "outputs": [],
   "source": [
    "# run time 1148 ms\n",
    "class Solution:\n",
    "    def shortestToChar(self, s: str, c: str) -> List[int]:\n",
    "        lst = [0 if item==c else item for item in s]\n",
    "        for i in range(1,len(s)):\n",
    "            for idx, item in enumerate(lst):\n",
    "                if type(item) == str:\n",
    "                    if lst[max(idx-1,0)]==(i-1) or lst[min(idx+1,len(s)-1)]==(i-1):\n",
    "                        lst[idx] = i\n",
    "        return lst"
   ]
  },
  {
   "cell_type": "code",
   "execution_count": null,
   "metadata": {},
   "outputs": [],
   "source": [
    "# run time 44 ms\n",
    "class Solution:\n",
    "    def shortestToChar(self, s: str, c: str) -> List[int]:\n",
    "        # create answer list\n",
    "        length = len(s)\n",
    "        ans = [length] * length\n",
    "        \n",
    "        # work left to right        \n",
    "        for i in range(length):\n",
    "            if s[i]==c:\n",
    "                ans[i]=0\n",
    "            elif i > 0:\n",
    "                ans[i]=ans[i-1] + 1\n",
    "        \n",
    "        # work right to left (using negative indexing)\n",
    "        for i in range(1, length+1):\n",
    "            if i > 1:\n",
    "                ans[-i]=min(ans[-i+1] + 1, ans[-i])"
   ]
  },
  {
   "cell_type": "markdown",
   "metadata": {},
   "source": [
    "# Reference\n",
    "\n",
    "[821. Shortest Distance to a Character](https://leetcode.com/problems/shortest-distance-to-a-character/)\n",
    "\n",
    "[Python O(n) Simple Solution](https://leetcode.com/problems/shortest-distance-to-a-character/discuss/1237231/Python-O(n)-Simple-Solution)"
   ]
  },
  {
   "cell_type": "code",
   "execution_count": null,
   "metadata": {},
   "outputs": [],
   "source": []
  }
 ],
 "metadata": {
  "kernelspec": {
   "display_name": "Python 3",
   "language": "python",
   "name": "python3"
  },
  "language_info": {
   "codemirror_mode": {
    "name": "ipython",
    "version": 3
   },
   "file_extension": ".py",
   "mimetype": "text/x-python",
   "name": "python",
   "nbconvert_exporter": "python",
   "pygments_lexer": "ipython3",
   "version": "3.8.5"
  }
 },
 "nbformat": 4,
 "nbformat_minor": 4
}
