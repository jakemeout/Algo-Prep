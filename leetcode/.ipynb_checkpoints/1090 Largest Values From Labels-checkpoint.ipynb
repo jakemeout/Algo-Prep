{
 "cells": [
  {
   "cell_type": "code",
   "execution_count": 7,
   "id": "restricted-employer",
   "metadata": {},
   "outputs": [],
   "source": [
    "class Solution:\n",
    "    def largestValsFromLabels(self, values, labels, num_wanted, use_limit):\n",
    "        \"\"\"\n",
    "        :type values: List[int]\n",
    "        :type labels: List[int]\n",
    "        :type num_wanted: int\n",
    "        :type use_limit: int\n",
    "        :rtype: int\n",
    "        \"\"\"\n",
    "        lst = []\n",
    "        d_num_wanted = {}\n",
    "        for value, label in zip(values, labels):\n",
    "            lst.append((value, label))\n",
    "            if label not in d_num_wanted:\n",
    "                d_num_wanted[label] = use_limit\n",
    "        lst.sort()\n",
    "        \n",
    "        ans = 0\n",
    "        while num_wanted and lst:\n",
    "            value, label = lst.pop()\n",
    "            if d_num_wanted[label]:\n",
    "                num_wanted -= 1\n",
    "                d_num_wanted[label] -= 1\n",
    "                ans += value  \n",
    "        return ans"
   ]
  },
  {
   "cell_type": "code",
   "execution_count": 8,
   "id": "balanced-monte",
   "metadata": {},
   "outputs": [
    {
     "data": {
      "text/plain": [
       "9"
      ]
     },
     "execution_count": 8,
     "metadata": {},
     "output_type": "execute_result"
    }
   ],
   "source": [
    "values = [5,4,3,2,1]\n",
    "labels = [1,1,2,2,3]\n",
    "num_wanted = 3\n",
    "use_limit = 1\n",
    "Solution().largestValsFromLabels(values, labels, num_wanted, use_limit) # 9"
   ]
  },
  {
   "cell_type": "markdown",
   "id": "laughing-organic",
   "metadata": {},
   "source": [
    "# Reference\n",
    "\n",
    "[1090. Largest Values From Labels](https://leetcode.com/problems/largest-values-from-labels/)"
   ]
  }
 ],
 "metadata": {
  "kernelspec": {
   "display_name": "Python 3",
   "language": "python",
   "name": "python3"
  },
  "language_info": {
   "codemirror_mode": {
    "name": "ipython",
    "version": 3
   },
   "file_extension": ".py",
   "mimetype": "text/x-python",
   "name": "python",
   "nbconvert_exporter": "python",
   "pygments_lexer": "ipython3",
   "version": "3.7.10"
  }
 },
 "nbformat": 4,
 "nbformat_minor": 5
}
