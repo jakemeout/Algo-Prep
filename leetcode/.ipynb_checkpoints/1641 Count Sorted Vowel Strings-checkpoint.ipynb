{
 "cells": [
  {
   "cell_type": "code",
   "execution_count": null,
   "metadata": {},
   "outputs": [],
   "source": [
    "# dynamic programming\n",
    "class Solution:\n",
    "    def countVowelStrings(self, n: int) -> int:\n",
    "        # dynamic programing dict d\n",
    "        # key : (n_len, n_char) \n",
    "        # value : number of lexicographically sorted strings with length n_len and n_char vowels\n",
    "        d = {}\n",
    "        for n_len in range(1,n+1):\n",
    "            for n_char in range(1,6):\n",
    "                if n_len == 1:\n",
    "                    d[(n_len, n_char)] = n_char\n",
    "                else:\n",
    "                    if n_char == 1:\n",
    "                        d[(n_len, n_char)] = 1 \n",
    "                    else:\n",
    "                        d[(n_len, n_char)] = 0\n",
    "                        for n_char_sub in range(1,n_char+1):\n",
    "                            d[(n_len, n_char)] += d[(n_len-1, n_char_sub)]\n",
    "        return d[(n, 5)]                    "
   ]
  },
  {
   "cell_type": "code",
   "execution_count": null,
   "metadata": {},
   "outputs": [],
   "source": [
    "# combinatorics\n",
    "class Solution:\n",
    "    def countVowelStrings(self, n: int) -> int:\n",
    "        return (n+4)*(n+3)*(n+2)*(n+1) // 24"
   ]
  },
  {
   "cell_type": "markdown",
   "metadata": {},
   "source": [
    "# Reference\n",
    "\n",
    "[1641. Count Sorted Vowel Strings](https://leetcode.com/problems/count-sorted-vowel-strings/)\n",
    "\n",
    "[[Java/C++/Python] DP, O(1) Time & Space](https://leetcode.com/problems/count-sorted-vowel-strings/discuss/918498/JavaC%2B%2BPython-DP-O(1)-Time-and-Space)"
   ]
  }
 ],
 "metadata": {
  "kernelspec": {
   "display_name": "Python 3",
   "language": "python",
   "name": "python3"
  },
  "language_info": {
   "codemirror_mode": {
    "name": "ipython",
    "version": 3
   },
   "file_extension": ".py",
   "mimetype": "text/x-python",
   "name": "python",
   "nbconvert_exporter": "python",
   "pygments_lexer": "ipython3",
   "version": "3.8.5"
  }
 },
 "nbformat": 4,
 "nbformat_minor": 4
}
