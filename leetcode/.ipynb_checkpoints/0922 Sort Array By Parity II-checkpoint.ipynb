{
 "cells": [
  {
   "cell_type": "code",
   "execution_count": 5,
   "metadata": {},
   "outputs": [],
   "source": [
    "class Solution:\n",
    "    def sortArrayByParityII(self, nums):\n",
    "        p_even, p_odd = 0, 1 # pointer of even and odd\n",
    "        while p_even<=len(nums)-1 or p_odd<=len(nums)-1:\n",
    "            idx = min(p_even, p_odd)\n",
    "            num = nums[idx]\n",
    "            if idx%2 == 0: # num should be even eventually\n",
    "                while num%2 == 1:\n",
    "                    nums[idx], nums[p_odd] = nums[p_odd], nums[idx] \n",
    "                    num = nums[idx] \n",
    "                    p_odd += 2\n",
    "                p_even += 2\n",
    "            else: # num should be odd eventually\n",
    "                while num%2 == 0:\n",
    "                    nums[idx], nums[p_even] = nums[p_even], nums[idx] \n",
    "                    num = nums[idx] \n",
    "                    p_even += 2\n",
    "                p_odd += 2\n",
    "        return nums           "
   ]
  },
  {
   "cell_type": "code",
   "execution_count": 6,
   "metadata": {},
   "outputs": [
    {
     "data": {
      "text/plain": [
       "[4, 5, 2, 7]"
      ]
     },
     "execution_count": 6,
     "metadata": {},
     "output_type": "execute_result"
    }
   ],
   "source": [
    "nums = [4,2,5,7]\n",
    "Solution().sortArrayByParityII(nums)"
   ]
  },
  {
   "cell_type": "markdown",
   "metadata": {},
   "source": [
    "# Reference\n",
    "\n",
    "[922. Sort Array By Parity II](https://leetcode.com/problems/sort-array-by-parity-ii/)"
   ]
  }
 ],
 "metadata": {
  "kernelspec": {
   "display_name": "Python 3",
   "language": "python",
   "name": "python3"
  },
  "language_info": {
   "codemirror_mode": {
    "name": "ipython",
    "version": 3
   },
   "file_extension": ".py",
   "mimetype": "text/x-python",
   "name": "python",
   "nbconvert_exporter": "python",
   "pygments_lexer": "ipython3",
   "version": "3.8.5"
  }
 },
 "nbformat": 4,
 "nbformat_minor": 4
}
