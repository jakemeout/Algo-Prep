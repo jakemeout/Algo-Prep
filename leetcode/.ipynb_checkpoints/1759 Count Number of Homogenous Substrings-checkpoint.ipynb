{
 "cells": [
  {
   "cell_type": "code",
   "execution_count": 34,
   "metadata": {},
   "outputs": [],
   "source": [
    "class Solution:\n",
    "    def countHomogenous(self, s: str) -> int:\n",
    "        ans = 0\n",
    "        l, r = 0, 0\n",
    "        char = s[0]\n",
    "        modulo = 10**9 + 7\n",
    "        #print(l,r,char,ans)\n",
    "        for r in range(1,len(s)): \n",
    "            if s[r] == char:\n",
    "                #print(l,r,char,ans)\n",
    "                r += 1\n",
    "            else:\n",
    "                ans += self.comb(r-l) % modulo \n",
    "                #print(l,r,char,ans)\n",
    "                l = r\n",
    "                char = s[r]\n",
    "                #print(l,r,char,ans)\n",
    "        if l != r:\n",
    "            ans += self.comb(r-l) % modulo\n",
    "            #print(l,r,char,ans)\n",
    "        else: #if l == r:\n",
    "            ans += 1 % modulo\n",
    "            #print(l,r,char,ans)\n",
    "        return ans\n",
    "    def comb(self, n):\n",
    "        return (n+1)*n//2"
   ]
  },
  {
   "cell_type": "code",
   "execution_count": 35,
   "metadata": {},
   "outputs": [
    {
     "data": {
      "text/plain": [
       "102"
      ]
     },
     "execution_count": 35,
     "metadata": {},
     "output_type": "execute_result"
    }
   ],
   "source": [
    "s = \"yyyyyyyyvvvvvvvvvvv\"\n",
    "Solution().countHomogenous(s) # 102"
   ]
  },
  {
   "cell_type": "markdown",
   "metadata": {},
   "source": [
    "# Reference\n",
    "\n",
    "[1759. Count Number of Homogenous Substrings](https://leetcode.com/problems/count-number-of-homogenous-substrings/)\n",
    "\n",
    "[Count Number of Homogenous Substrings (Leetcode 1759)](https://www.youtube.com/watch?v=5INEUSQcGQk&list=PL_lPC-CADCvQr__cIR1NyprmZdWi0seGm&index=5)"
   ]
  }
 ],
 "metadata": {
  "kernelspec": {
   "display_name": "Python 3",
   "language": "python",
   "name": "python3"
  },
  "language_info": {
   "codemirror_mode": {
    "name": "ipython",
    "version": 3
   },
   "file_extension": ".py",
   "mimetype": "text/x-python",
   "name": "python",
   "nbconvert_exporter": "python",
   "pygments_lexer": "ipython3",
   "version": "3.8.5"
  }
 },
 "nbformat": 4,
 "nbformat_minor": 4
}
