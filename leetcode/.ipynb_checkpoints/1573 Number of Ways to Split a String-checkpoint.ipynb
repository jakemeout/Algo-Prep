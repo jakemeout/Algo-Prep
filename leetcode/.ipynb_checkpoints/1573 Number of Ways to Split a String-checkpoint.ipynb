{
 "cells": [
  {
   "cell_type": "code",
   "execution_count": 29,
   "metadata": {},
   "outputs": [],
   "source": [
    "class Solution:\n",
    "    def numWays(self, s: str) -> int:\n",
    "        # trivial cases\n",
    "        n = s.count('1')\n",
    "        if n == 0:\n",
    "            return (len(s)-1)*(len(s)-2)//2\n",
    "        carry, res = divmod(n, 3)\n",
    "        if res != 0:\n",
    "            return 0\n",
    "        \n",
    "        # general cases\n",
    "        # find i, j, k, l\n",
    "        # .................100000001......................10000001.....................\n",
    "        # one third ones   i       j    one third ones    k      l   one third ones\n",
    "        count = 0\n",
    "        arr = [[0, 0], [0, 0]]\n",
    "        for idx, c in enumerate(s):\n",
    "            if c == '1':\n",
    "                count += 1\n",
    "                if count == carry:\n",
    "                    i = idx\n",
    "                if count == carry + 1:\n",
    "                    j = idx\n",
    "                if count == 2 * carry:\n",
    "                    k = idx\n",
    "                if count == 2 * carry + 1:\n",
    "                    l = idx\n",
    "                    break\n",
    "        # Since the answer may be too large, return it modulo 10^9 + 7.\n",
    "        return ((j-i) * (l-k)) % (10**9 + 7)"
   ]
  },
  {
   "cell_type": "code",
   "execution_count": 32,
   "metadata": {},
   "outputs": [
    {
     "data": {
      "text/plain": [
       "4"
      ]
     },
     "execution_count": 32,
     "metadata": {},
     "output_type": "execute_result"
    }
   ],
   "source": [
    "s = \"10101\"\n",
    "Solution().numWays(s)"
   ]
  },
  {
   "cell_type": "code",
   "execution_count": 34,
   "metadata": {},
   "outputs": [
    {
     "data": {
      "text/plain": [
       "49954972"
      ]
     },
     "execution_count": 34,
     "metadata": {},
     "output_type": "execute_result"
    }
   ],
   "source": [
    "4049955000 % (10 ** 9 + 7)"
   ]
  },
  {
   "cell_type": "markdown",
   "metadata": {},
   "source": [
    "# Reference\n",
    "\n",
    "[LeetCode](https://leetcode.com/)"
   ]
  }
 ],
 "metadata": {
  "kernelspec": {
   "display_name": "Python 3",
   "language": "python",
   "name": "python3"
  },
  "language_info": {
   "codemirror_mode": {
    "name": "ipython",
    "version": 3
   },
   "file_extension": ".py",
   "mimetype": "text/x-python",
   "name": "python",
   "nbconvert_exporter": "python",
   "pygments_lexer": "ipython3",
   "version": "3.8.5"
  }
 },
 "nbformat": 4,
 "nbformat_minor": 4
}
