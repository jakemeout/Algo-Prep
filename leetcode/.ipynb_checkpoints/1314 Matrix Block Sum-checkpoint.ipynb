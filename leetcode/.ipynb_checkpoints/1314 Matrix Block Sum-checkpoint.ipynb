{
 "cells": [
  {
   "cell_type": "code",
   "execution_count": null,
   "metadata": {},
   "outputs": [],
   "source": [
    "class Solution:\n",
    "    def matrixBlockSum(self, mat, K):\n",
    "        \"\"\"\n",
    "        :type mat: List[List[int]]\n",
    "        :type K: int\n",
    "        :rtype: List[List[int]]\n",
    "        \"\"\"\n",
    "        rowSum = [[0 for _ in range(len(mat[i]))] for i in range(len(mat))]\n",
    "        ans = [[0 for _ in range(len(mat[i]))] for i in range(len(mat))]\n",
    "        \n",
    "        # Compute the row sum of every group in the row with a DP\n",
    "        # complexity: O(m*n)\n",
    "        for i in range(len(mat)):\n",
    "            for j in range(len(mat[i])):\n",
    "                if j > 0:\n",
    "                    rowSum[i][j] = rowSum[i][j-1]\n",
    "                    a = mat[i][j-K-1] if j-K-1 >= 0 else 0 \n",
    "                    b = mat[i][j+K] if j+K < len(mat[i]) else 0 \n",
    "                    rowSum[i][j] += -a+b\n",
    "                else:\n",
    "                    for k in range(0, min(j+K+1, len(mat[i]))):\n",
    "                        rowSum[i][j] += mat[i][k]\n",
    "        \n",
    "        # Uses the computed row sum to compute the sum\n",
    "        # of the squares with the same DP but now for columns\n",
    "        # complexity: O(m*n)\n",
    "        for i in range(len(rowSum)):\n",
    "            for j in range(len(rowSum[i])):\n",
    "                if i > 0:\n",
    "                    ans[i][j] = ans[i-1][j]\n",
    "                    a = rowSum[i-K-1][j] if i-K-1 >= 0 else 0 # or 0\n",
    "                    b = rowSum[i+K][j] if i+K < len(rowSum) else 0 # or 0\n",
    "                    ans[i][j] += -a+b\n",
    "                else:\n",
    "                    for k in range(0, min(i+K+1, len(rowSum))):\n",
    "                        ans[i][j] += rowSum[k][j]\n",
    "        \n",
    "        # total complexity: O(m*n)\n",
    "        return ans"
   ]
  },
  {
   "cell_type": "code",
   "execution_count": 4,
   "metadata": {},
   "outputs": [
    {
     "data": {
      "text/plain": [
       "[[12, 21, 16], [27, 45, 33], [24, 39, 28]]"
      ]
     },
     "execution_count": 4,
     "metadata": {},
     "output_type": "execute_result"
    }
   ],
   "source": [
    "mat = [[1,2,3],[4,5,6],[7,8,9]]\n",
    "k = 1\n",
    "Solution().matrixBlockSum(mat, k)"
   ]
  },
  {
   "cell_type": "markdown",
   "metadata": {},
   "source": [
    "# Reference\n",
    "\n",
    "[1314. Matrix Block Sum](https://leetcode.com/problems/matrix-block-sum/)\n",
    "\n",
    "[Problem explanation in Python Step by Step O(m*n) 98% speed and 100% memory](https://leetcode.com/problems/matrix-block-sum/discuss/499970/Problem-explanation-in-Python-Step-by-Step-O(m*n)-98-speed-and-100-memory)"
   ]
  }
 ],
 "metadata": {
  "kernelspec": {
   "display_name": "Python 3",
   "language": "python",
   "name": "python3"
  },
  "language_info": {
   "codemirror_mode": {
    "name": "ipython",
    "version": 3
   },
   "file_extension": ".py",
   "mimetype": "text/x-python",
   "name": "python",
   "nbconvert_exporter": "python",
   "pygments_lexer": "ipython3",
   "version": "3.8.5"
  }
 },
 "nbformat": 4,
 "nbformat_minor": 4
}
