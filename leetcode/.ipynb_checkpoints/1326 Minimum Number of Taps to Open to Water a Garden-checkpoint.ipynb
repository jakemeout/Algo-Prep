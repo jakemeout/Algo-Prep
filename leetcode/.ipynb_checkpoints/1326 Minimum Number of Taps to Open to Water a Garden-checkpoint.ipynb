{
 "cells": [
  {
   "cell_type": "code",
   "execution_count": null,
   "metadata": {},
   "outputs": [],
   "source": [
    "# 472 ms, 56.1 MB\n",
    "from collections import defaultdict\n",
    "\n",
    "class Solution:\n",
    "    def minTaps(self, n: int, ranges: List[int]) -> int:\n",
    "        # dict cover\n",
    "        # key : c\n",
    "        # value : list of i+r, where [i-r,i+r] cover c\n",
    "        cover = defaultdict(list) \n",
    "        for i, r in enumerate(ranges):\n",
    "            for c in range(i-r,i+r+1):\n",
    "                cover[c].append(i+r)\n",
    "                \n",
    "        ans = 0\n",
    "        right_end = 0\n",
    "        while right_end < n:\n",
    "            ans += 1\n",
    "            frontier = max(cover[right_end])\n",
    "            if frontier == right_end:\n",
    "                return -1\n",
    "            else:\n",
    "                right_end = frontier       \n",
    "        return ans"
   ]
  },
  {
   "cell_type": "code",
   "execution_count": null,
   "metadata": {},
   "outputs": [],
   "source": [
    "# 660 ms, 15.5 MB\n",
    "from collections import defaultdict\n",
    "\n",
    "class Solution:\n",
    "    def minTaps(self, n: int, ranges: List[int]) -> int:\n",
    "        # dict cover\n",
    "        # key : c\n",
    "        # value : max of i+r, where [i-r,i+r] cover c\n",
    "        cover = defaultdict(int) \n",
    "        for i, r in enumerate(ranges):\n",
    "            for c in range(i-r,i+r+1):\n",
    "                cover[c] = max(cover[c], i+r)\n",
    "                \n",
    "        ans = 0\n",
    "        right_end = 0\n",
    "        while right_end < n:\n",
    "            ans += 1\n",
    "            frontier = cover[right_end]\n",
    "            if frontier == right_end:\n",
    "                return -1\n",
    "            else:\n",
    "                right_end = frontier       \n",
    "        return ans"
   ]
  },
  {
   "cell_type": "code",
   "execution_count": null,
   "metadata": {},
   "outputs": [],
   "source": [
    "# 140 ms, 14.9 MB\n",
    "class Solution:\n",
    "    def minTaps(self, n: int, ranges: List[int]) -> int:\n",
    "        # list cover\n",
    "        # key : index\n",
    "        # value : max of i+r, where the left i-r of [i-r,i+r] is index\n",
    "        cover = [i for i in range(n+1)] \n",
    "        for i, radius in enumerate(ranges):\n",
    "            left, right = max(i-radius,0), min(i+radius,n)\n",
    "            cover[left] = max(cover[left], right) \n",
    "            \n",
    "        ans = 0\n",
    "        l, r = 0, cover[0]\n",
    "        while True:\n",
    "            ans += 1\n",
    "            if r >= n: \n",
    "                return ans\n",
    "            \n",
    "            r_new = max(cover[l:r+1])\n",
    "            if r == r_new: \n",
    "                return -1\n",
    "            l, r = r, r_new"
   ]
  },
  {
   "cell_type": "markdown",
   "metadata": {},
   "source": [
    "# Reference\n",
    "\n",
    "[1326. Minimum Number of Taps to Open to Water a Garden](https://leetcode.com/problems/minimum-number-of-taps-to-open-to-water-a-garden/)\n",
    "\n",
    "[[LeetCode] 1326. Minimum Number of Taps to Open to Water a Garden](https://www.youtube.com/watch?v=C-JlG52DQOs&list=PL-OC--HdIAXPzvuBbuI4e_MFYpzFnA6yR&index=34)"
   ]
  }
 ],
 "metadata": {
  "kernelspec": {
   "display_name": "Python 3",
   "language": "python",
   "name": "python3"
  },
  "language_info": {
   "codemirror_mode": {
    "name": "ipython",
    "version": 3
   },
   "file_extension": ".py",
   "mimetype": "text/x-python",
   "name": "python",
   "nbconvert_exporter": "python",
   "pygments_lexer": "ipython3",
   "version": "3.8.5"
  }
 },
 "nbformat": 4,
 "nbformat_minor": 4
}
