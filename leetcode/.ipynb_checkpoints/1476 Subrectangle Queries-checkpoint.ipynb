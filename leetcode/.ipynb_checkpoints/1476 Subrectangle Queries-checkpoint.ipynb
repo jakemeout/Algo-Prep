{
 "cells": [
  {
   "cell_type": "code",
   "execution_count": null,
   "metadata": {},
   "outputs": [],
   "source": [
    "class SubrectangleQueries:\n",
    "\n",
    "    def __init__(self, rectangle: List[List[int]]):\n",
    "        self.rectangle = rectangle\n",
    "        \n",
    "    def updateSubrectangle(self, row1: int, col1: int, row2: int, col2: int, newValue: int) -> None:\n",
    "        for i in range(row1,row2+1):\n",
    "            for j in range(col1,col2+1):\n",
    "                self.rectangle[i][j] = newValue \n",
    "        \n",
    "    def getValue(self, row: int, col: int) -> int:\n",
    "        return self.rectangle[row][col]"
   ]
  },
  {
   "cell_type": "markdown",
   "metadata": {},
   "source": [
    "# Reference\n",
    "\n",
    "[1476. Subrectangle Queries](https://leetcode.com/problems/subrectangle-queries/)"
   ]
  }
 ],
 "metadata": {
  "kernelspec": {
   "display_name": "Python 3",
   "language": "python",
   "name": "python3"
  },
  "language_info": {
   "codemirror_mode": {
    "name": "ipython",
    "version": 3
   },
   "file_extension": ".py",
   "mimetype": "text/x-python",
   "name": "python",
   "nbconvert_exporter": "python",
   "pygments_lexer": "ipython3",
   "version": "3.8.5"
  }
 },
 "nbformat": 4,
 "nbformat_minor": 4
}
