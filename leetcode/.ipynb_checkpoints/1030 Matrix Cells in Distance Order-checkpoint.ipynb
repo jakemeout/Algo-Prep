{
 "cells": [
  {
   "cell_type": "code",
   "execution_count": 7,
   "metadata": {},
   "outputs": [],
   "source": [
    "class Solution:\n",
    "    def allCellsDistOrder(self, rows: int, cols: int, rCenter: int, cCenter: int):\n",
    "        ans = [[rCenter, cCenter]]\n",
    "        counter = 1\n",
    "        counter_max = rows * cols\n",
    "        d = 1\n",
    "        flag = False\n",
    "        while not flag:\n",
    "            for i in range(-d,d+1):\n",
    "                row = i + rCenter\n",
    "                if row<0 or row>=rows:\n",
    "                    continue\n",
    "                col_p = (d-abs(i)) + cCenter\n",
    "                col_n = -(d-abs(i)) + cCenter\n",
    "                if 0 <= col_p < cols:\n",
    "                    ans.append([row,col_p])\n",
    "                    #print(d,i,ans)\n",
    "                    counter += 1\n",
    "                if i!=d and i!=-d:\n",
    "                    if 0 <= col_n < cols:\n",
    "                        ans.append([row,col_n])\n",
    "                        #print(d,i,ans)\n",
    "                        counter += 1\n",
    "                if counter == counter_max:\n",
    "                    flag = True\n",
    "                    break\n",
    "            d += 1\n",
    "        return ans"
   ]
  },
  {
   "cell_type": "code",
   "execution_count": 8,
   "metadata": {},
   "outputs": [
    {
     "data": {
      "text/plain": [
       "[[0, 1], [0, 0], [1, 1], [1, 0]]"
      ]
     },
     "execution_count": 8,
     "metadata": {},
     "output_type": "execute_result"
    }
   ],
   "source": [
    "rows = 2\n",
    "cols = 2\n",
    "rCenter = 0\n",
    "cCenter = 1\n",
    "Solution().allCellsDistOrder(rows, cols, rCenter, cCenter) # [[0,1],[0,0],[1,1],[1,0]]"
   ]
  },
  {
   "cell_type": "markdown",
   "metadata": {},
   "source": [
    "# Reference\n",
    "\n",
    "[1030. Matrix Cells in Distance Order](https://leetcode.com/problems/matrix-cells-in-distance-order/)"
   ]
  }
 ],
 "metadata": {
  "kernelspec": {
   "display_name": "Python 3",
   "language": "python",
   "name": "python3"
  },
  "language_info": {
   "codemirror_mode": {
    "name": "ipython",
    "version": 3
   },
   "file_extension": ".py",
   "mimetype": "text/x-python",
   "name": "python",
   "nbconvert_exporter": "python",
   "pygments_lexer": "ipython3",
   "version": "3.8.5"
  }
 },
 "nbformat": 4,
 "nbformat_minor": 4
}
