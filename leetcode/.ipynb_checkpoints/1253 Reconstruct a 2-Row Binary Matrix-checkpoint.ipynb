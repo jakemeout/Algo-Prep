{
 "cells": [
  {
   "cell_type": "code",
   "execution_count": 3,
   "metadata": {},
   "outputs": [],
   "source": [
    "class Solution:\n",
    "    def reconstructMatrix(self, upper, lower, colsum):\n",
    "        # trivial cases\n",
    "        if lower + upper != sum(colsum): \n",
    "            return []\n",
    "        # general cases\n",
    "        ans = [[0]*len(colsum),[0]*len(colsum)]\n",
    "        upper_budget = upper\n",
    "        lower_budget = lower\n",
    "        for i, c in enumerate(colsum):\n",
    "            if c == 2:\n",
    "                ans[0][i], ans[1][i] = 1, 1\n",
    "                upper_budget -= 1\n",
    "                lower_budget -= 1\n",
    "            elif c == 1:\n",
    "                if upper_budget > lower_budget:\n",
    "                    ans[0][i] = 1\n",
    "                    upper_budget -= 1\n",
    "                else:\n",
    "                    ans[1][i] = 1\n",
    "                    lower_budget -= 1\n",
    "            # elif c == 0:\n",
    "            #     ans[0][i], ans[1][i] = 0, 0\n",
    "            if upper_budget<0 or lower_budget<0:\n",
    "                return []\n",
    "        if upper_budget!=0 or lower_budget!=0:\n",
    "                return []\n",
    "        return ans        "
   ]
  },
  {
   "cell_type": "code",
   "execution_count": 4,
   "metadata": {},
   "outputs": [
    {
     "data": {
      "text/plain": [
       "[]"
      ]
     },
     "execution_count": 4,
     "metadata": {},
     "output_type": "execute_result"
    }
   ],
   "source": [
    "upper = 9\n",
    "lower = 2\n",
    "colsum = [0,1,2,0,0,0,0,0,2,1,2,1,2]\n",
    "Solution(). reconstructMatrix(upper, lower, colsum)"
   ]
  },
  {
   "cell_type": "markdown",
   "metadata": {},
   "source": [
    "# Reference\n",
    "\n",
    "[1253. Reconstruct a 2-Row Binary Matrix](https://leetcode.com/problems/reconstruct-a-2-row-binary-matrix/)\n",
    "\n",
    "[Reconstruct a 2-Row Binary Matrix(Leetcode 1253)](https://www.youtube.com/watch?v=lI5KoSWbKGo&list=PL_lPC-CADCvSSU3KSchuIysoJoIV_i0No&index=1)"
   ]
  }
 ],
 "metadata": {
  "kernelspec": {
   "display_name": "Python 3",
   "language": "python",
   "name": "python3"
  },
  "language_info": {
   "codemirror_mode": {
    "name": "ipython",
    "version": 3
   },
   "file_extension": ".py",
   "mimetype": "text/x-python",
   "name": "python",
   "nbconvert_exporter": "python",
   "pygments_lexer": "ipython3",
   "version": "3.8.5"
  }
 },
 "nbformat": 4,
 "nbformat_minor": 4
}
