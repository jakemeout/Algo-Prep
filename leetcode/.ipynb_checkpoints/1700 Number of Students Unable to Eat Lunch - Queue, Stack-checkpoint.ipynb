{
 "cells": [
  {
   "cell_type": "code",
   "execution_count": 8,
   "metadata": {},
   "outputs": [],
   "source": [
    "from collections import deque\n",
    "class Queue:\n",
    "    def __init__(self, lst=None):\n",
    "        if lst is not None:\n",
    "            self.buffer = deque(lst)\n",
    "        else:\n",
    "            self.buffer = deque()\n",
    "    def enqueue(self, val):\n",
    "        self.buffer.append(val)  \n",
    "    def dequeue(self):\n",
    "        return self.buffer.popleft()\n",
    "    def peek(self):\n",
    "        return  self.buffer[0]\n",
    "    def is_empty(self):\n",
    "        return len(self.buffer)==0\n",
    "class Stack:\n",
    "    def __init__(self, lst=None):\n",
    "        if lst is not None:\n",
    "            self.container = deque(lst)\n",
    "        else:\n",
    "            self.container = deque()\n",
    "    def push(self,val):\n",
    "        self.container.append(val)  \n",
    "    def pop(self):\n",
    "        return self.container.pop()\n",
    "    def peek(self):\n",
    "        return  self.container[-1]\n",
    "    def is_empty(self):\n",
    "        return len(self.container)==0\n",
    "class Solution:\n",
    "    def countStudents(self, students, sandwiches): \n",
    "        students = Queue(students) \n",
    "        sandwiches = Stack(sandwiches[::-1])\n",
    "        no_change_in_stack_counter = 0\n",
    "        students_counter = len(students.buffer)\n",
    "        while no_change_in_stack_counter <= students_counter: \n",
    "            if students.is_empty():\n",
    "                return 0\n",
    "            if students.peek() == sandwiches.peek():\n",
    "                students.dequeue() \n",
    "                sandwiches.pop()\n",
    "                no_change_in_stack_counter = 0\n",
    "                students_counter -= 1\n",
    "            else:\n",
    "                s = students.dequeue() \n",
    "                students.enqueue(s)\n",
    "                no_change_in_stack_counter += 1\n",
    "        return len(students.buffer)            "
   ]
  },
  {
   "cell_type": "code",
   "execution_count": 9,
   "metadata": {},
   "outputs": [
    {
     "data": {
      "text/plain": [
       "0"
      ]
     },
     "execution_count": 9,
     "metadata": {},
     "output_type": "execute_result"
    }
   ],
   "source": [
    "students = [1,1,0,0]\n",
    "sandwiches = [0,1,0,1]\n",
    "Solution().countStudents(students, sandwiches)"
   ]
  },
  {
   "cell_type": "markdown",
   "metadata": {},
   "source": [
    "# Reference\n",
    "\n",
    "[1700. Number of Students Unable to Eat Lunch](https://leetcode.com/problems/number-of-students-unable-to-eat-lunch/)"
   ]
  }
 ],
 "metadata": {
  "kernelspec": {
   "display_name": "Python 3",
   "language": "python",
   "name": "python3"
  },
  "language_info": {
   "codemirror_mode": {
    "name": "ipython",
    "version": 3
   },
   "file_extension": ".py",
   "mimetype": "text/x-python",
   "name": "python",
   "nbconvert_exporter": "python",
   "pygments_lexer": "ipython3",
   "version": "3.8.5"
  }
 },
 "nbformat": 4,
 "nbformat_minor": 4
}
