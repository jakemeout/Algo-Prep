{
 "cells": [
  {
   "cell_type": "code",
   "execution_count": 23,
   "metadata": {},
   "outputs": [],
   "source": [
    "class Solution:\n",
    "    def calPoints(self, ops):\n",
    "        lst = []\n",
    "        for op in ops:\n",
    "            if op[0] == '-': # 1 integer x - Record a new score of x.\n",
    "                lst.append(-int(op[1:])) # 1 integer x - Record a new score of x.\n",
    "            elif op.isnumeric(): # 1 integer x - Record a new score of x.\n",
    "                lst.append(int(op)) # 1 integer x - Record a new score of x.\n",
    "            elif op == '+': # 2 \"+\" - Record a new score that is sum of the previous two scores.\n",
    "                lst.append(lst[-1] + lst[-2])\n",
    "            elif op == 'D': # 3 \"D\" - Record a new score that is double the previous score.\n",
    "                lst.append(lst[-1] * 2)\n",
    "            else: # 4 \"C\" - Invalidate the previous score, removing it from the record.\n",
    "                lst = lst[:-1]\n",
    "        return sum(lst)"
   ]
  },
  {
   "cell_type": "code",
   "execution_count": 24,
   "metadata": {},
   "outputs": [
    {
     "data": {
      "text/plain": [
       "30"
      ]
     },
     "execution_count": 24,
     "metadata": {},
     "output_type": "execute_result"
    }
   ],
   "source": [
    "ops = [\"5\",\"2\",\"C\",\"D\",\"+\"]\n",
    "Solution().calPoints(ops)"
   ]
  },
  {
   "cell_type": "markdown",
   "metadata": {},
   "source": [
    "# Reference\n",
    "\n",
    "[682. Baseball Game](https://leetcode.com/problems/baseball-game/)"
   ]
  }
 ],
 "metadata": {
  "kernelspec": {
   "display_name": "Python 3",
   "language": "python",
   "name": "python3"
  },
  "language_info": {
   "codemirror_mode": {
    "name": "ipython",
    "version": 3
   },
   "file_extension": ".py",
   "mimetype": "text/x-python",
   "name": "python",
   "nbconvert_exporter": "python",
   "pygments_lexer": "ipython3",
   "version": "3.8.5"
  }
 },
 "nbformat": 4,
 "nbformat_minor": 4
}
