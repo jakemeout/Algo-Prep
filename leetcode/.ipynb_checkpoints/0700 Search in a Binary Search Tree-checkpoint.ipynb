{
 "cells": [
  {
   "cell_type": "code",
   "execution_count": null,
   "metadata": {},
   "outputs": [],
   "source": [
    "# Definition for a binary tree node.\n",
    "class TreeNode:\n",
    "    def __init__(self, val=0, left=None, right=None):\n",
    "        self.val = val\n",
    "        self.left = left\n",
    "        self.right = right"
   ]
  },
  {
   "cell_type": "code",
   "execution_count": null,
   "metadata": {},
   "outputs": [],
   "source": [
    "class Solution:\n",
    "    def searchBST(self, root: TreeNode, val: int) -> TreeNode:\n",
    "        # base cases\n",
    "        if root is None:\n",
    "            return None\n",
    "        if root.val == val:\n",
    "            return root\n",
    "        # recursion steps\n",
    "        if root.val < val:\n",
    "            return self.searchBST(root.right, val)\n",
    "        if root.val > val:\n",
    "            return self.searchBST(root.left, val)"
   ]
  },
  {
   "cell_type": "markdown",
   "metadata": {},
   "source": [
    "# Reference\n",
    "\n",
    "[700. Search in a Binary Search Tree](https://leetcode.com/problems/search-in-a-binary-search-tree/)\n",
    "\n",
    "[Search in a Binary Search Tree | LeetCode 700 | C++, Java, Python | BST](https://www.youtube.com/watch?v=_E8JssPY1N4&list=PL1w8k37X_6L-E23tn3d6oXLW63pS8-5rm&index=19)"
   ]
  },
  {
   "cell_type": "code",
   "execution_count": null,
   "metadata": {},
   "outputs": [],
   "source": []
  }
 ],
 "metadata": {
  "kernelspec": {
   "display_name": "Python 3",
   "language": "python",
   "name": "python3"
  },
  "language_info": {
   "codemirror_mode": {
    "name": "ipython",
    "version": 3
   },
   "file_extension": ".py",
   "mimetype": "text/x-python",
   "name": "python",
   "nbconvert_exporter": "python",
   "pygments_lexer": "ipython3",
   "version": "3.8.5"
  }
 },
 "nbformat": 4,
 "nbformat_minor": 4
}
