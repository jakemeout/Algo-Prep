{
 "cells": [
  {
   "cell_type": "code",
   "execution_count": null,
   "metadata": {},
   "outputs": [],
   "source": [
    "class Solution:\n",
    "    def findRestaurant(self, lst1, lst2):\n",
    "        out = []\n",
    "        found_min = False\n",
    "        for i in range(len(lst1)+len(lst2)-1): # possible minimum index sum of two lists\n",
    "            for k in range(i+1):\n",
    "                if 0<=k<len(lst1) and 0<=i-k<len(lst2):\n",
    "                    if lst1[k] == lst2[i-k]:\n",
    "                        out.append(lst1[k])\n",
    "                        found_min = True\n",
    "            if found_min:\n",
    "                break\n",
    "        return out"
   ]
  },
  {
   "cell_type": "markdown",
   "metadata": {},
   "source": [
    "# Reference\n",
    "\n",
    "[599. Minimum Index Sum of Two Lists](https://leetcode.com/problems/minimum-index-sum-of-two-lists/)"
   ]
  }
 ],
 "metadata": {
  "kernelspec": {
   "display_name": "Python 3",
   "language": "python",
   "name": "python3"
  },
  "language_info": {
   "codemirror_mode": {
    "name": "ipython",
    "version": 3
   },
   "file_extension": ".py",
   "mimetype": "text/x-python",
   "name": "python",
   "nbconvert_exporter": "python",
   "pygments_lexer": "ipython3",
   "version": "3.8.5"
  }
 },
 "nbformat": 4,
 "nbformat_minor": 4
}
