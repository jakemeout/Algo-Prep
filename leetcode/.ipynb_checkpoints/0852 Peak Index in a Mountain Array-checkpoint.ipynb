{
 "cells": [
  {
   "cell_type": "code",
   "execution_count": null,
   "metadata": {},
   "outputs": [],
   "source": [
    "class Solution:\n",
    "    def peakIndexInMountainArray(self, arr):\n",
    "        if len(arr) == 3: \n",
    "            return 1 \n",
    "        start, end = 0, len(arr)-1\n",
    "        mid = start + (end-start)//2\n",
    "        while start <= end:\n",
    "            if self.whereMountain(arr, mid) == 'Here': \n",
    "                return mid\n",
    "            elif self.whereMountain(arr, mid) == 'Left':\n",
    "                return self.peakIndexInMountainArray(arr[:mid+1])\n",
    "            else:\n",
    "                return self.peakIndexInMountainArray(arr[mid:]) + mid\n",
    "    def whereMountain(self, arr, mid):\n",
    "        if arr[mid-1]<arr[mid]>arr[mid+1]: \n",
    "                return 'Here'\n",
    "        elif arr[mid-1]>arr[mid]>arr[mid+1]: \n",
    "                return 'Left'\n",
    "        return 'Right'"
   ]
  },
  {
   "cell_type": "markdown",
   "metadata": {},
   "source": [
    "# Reference\n",
    "\n",
    "[852. Peak Index in a Mountain Array](https://leetcode.com/problems/peak-index-in-a-mountain-array/)"
   ]
  }
 ],
 "metadata": {
  "kernelspec": {
   "display_name": "Python 3",
   "language": "python",
   "name": "python3"
  },
  "language_info": {
   "codemirror_mode": {
    "name": "ipython",
    "version": 3
   },
   "file_extension": ".py",
   "mimetype": "text/x-python",
   "name": "python",
   "nbconvert_exporter": "python",
   "pygments_lexer": "ipython3",
   "version": "3.8.5"
  }
 },
 "nbformat": 4,
 "nbformat_minor": 4
}
