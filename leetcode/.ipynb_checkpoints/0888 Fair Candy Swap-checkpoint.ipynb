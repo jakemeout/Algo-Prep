{
 "cells": [
  {
   "cell_type": "code",
   "execution_count": null,
   "metadata": {},
   "outputs": [],
   "source": [
    "# Time Limit Exceeded\n",
    "class Solution:\n",
    "    def fairCandySwap(self, aliceSizes, bobSizes):\n",
    "        a = sum(aliceSizes)\n",
    "        b = sum(bobSizes)\n",
    "        for i in aliceSizes:\n",
    "            for j in bobSizes:\n",
    "                if a - i + j == b - j + i: # a-2*i == b-2*j\n",
    "                    return i, j  "
   ]
  },
  {
   "cell_type": "code",
   "execution_count": null,
   "metadata": {},
   "outputs": [],
   "source": [
    "a-2*i == b-2*j"
   ]
  },
  {
   "cell_type": "code",
   "execution_count": 15,
   "metadata": {},
   "outputs": [],
   "source": [
    "class Solution:\n",
    "    def fairCandySwap(self, aliceSizes, bobSizes):\n",
    "        a = sum(aliceSizes)\n",
    "        b = sum(bobSizes)\n",
    "        da = {}\n",
    "        for i in aliceSizes:\n",
    "            if a-2*i not in da:\n",
    "                da[a-2*i] = 1\n",
    "        db = {}\n",
    "        for j in bobSizes:\n",
    "            if b-2*j not in db:\n",
    "                db[b-2*j] = 1\n",
    "        for c in set(da.keys()).intersection(db.keys()):\n",
    "            return (a-c)//2, (b-c)//2 "
   ]
  },
  {
   "cell_type": "code",
   "execution_count": 16,
   "metadata": {},
   "outputs": [
    {
     "data": {
      "text/plain": [
       "(5, 4)"
      ]
     },
     "execution_count": 16,
     "metadata": {},
     "output_type": "execute_result"
    }
   ],
   "source": [
    "aliceSizes = [1,2,5]\n",
    "bobSizes = [2,4]\n",
    "Solution().fairCandySwap(aliceSizes, bobSizes) # [5,4]"
   ]
  },
  {
   "cell_type": "markdown",
   "metadata": {},
   "source": [
    "# Reference\n",
    "\n",
    "[888. Fair Candy Swap](https://leetcode.com/problems/fair-candy-swap/)"
   ]
  }
 ],
 "metadata": {
  "kernelspec": {
   "display_name": "Python 3",
   "language": "python",
   "name": "python3"
  },
  "language_info": {
   "codemirror_mode": {
    "name": "ipython",
    "version": 3
   },
   "file_extension": ".py",
   "mimetype": "text/x-python",
   "name": "python",
   "nbconvert_exporter": "python",
   "pygments_lexer": "ipython3",
   "version": "3.8.5"
  }
 },
 "nbformat": 4,
 "nbformat_minor": 4
}
