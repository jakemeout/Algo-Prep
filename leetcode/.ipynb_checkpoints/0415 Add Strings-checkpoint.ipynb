{
 "cells": [
  {
   "cell_type": "code",
   "execution_count": null,
   "metadata": {},
   "outputs": [],
   "source": [
    "class Solution:\n",
    "    def addStrings(self, num1: str, num2: str) -> str:\n",
    "        if (digits1 := len(num1)) < (digits2 := len(num2)):\n",
    "            num1 = abs(digits1 - digits2) * '0' + num1\n",
    "        else:\n",
    "            num2 = abs(digits1 - digits2) * '0' + num2\n",
    "        numSum = []\n",
    "        carry = 0\n",
    "        for i, j in zip(reversed(num1), reversed(num2)):\n",
    "            carry, mod = divmod(int(i) + int(j) + carry, 10)\n",
    "            numSum.append(str(mod))\n",
    "        if carry:\n",
    "            numSum.append('1')\n",
    "        return ''.join(numSum[::-1])"
   ]
  },
  {
   "cell_type": "markdown",
   "metadata": {},
   "source": [
    "\n",
    "\n",
    "# Reference\n",
    "\n",
    "[415. Add Strings](https://leetcode.com/problems/add-strings/)\n",
    "\n",
    "[Python | Elementary Digit Sum | No \"Int-ifying\" of Input Strings](https://leetcode.com/problems/add-strings/discuss/1220138/Python-or-Elementary-Digit-Sum-or-No-%22Int-ifying%22-of-Input-Strings)"
   ]
  },
  {
   "cell_type": "code",
   "execution_count": null,
   "metadata": {},
   "outputs": [],
   "source": []
  }
 ],
 "metadata": {
  "kernelspec": {
   "display_name": "Python 3",
   "language": "python",
   "name": "python3"
  },
  "language_info": {
   "codemirror_mode": {
    "name": "ipython",
    "version": 3
   },
   "file_extension": ".py",
   "mimetype": "text/x-python",
   "name": "python",
   "nbconvert_exporter": "python",
   "pygments_lexer": "ipython3",
   "version": "3.8.5"
  }
 },
 "nbformat": 4,
 "nbformat_minor": 4
}
