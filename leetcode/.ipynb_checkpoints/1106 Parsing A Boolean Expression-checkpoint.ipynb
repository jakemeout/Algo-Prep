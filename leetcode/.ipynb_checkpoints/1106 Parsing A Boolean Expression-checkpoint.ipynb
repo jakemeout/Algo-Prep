{
 "cells": [
  {
   "cell_type": "code",
   "execution_count": 39,
   "id": "sunrise-slide",
   "metadata": {},
   "outputs": [],
   "source": [
    "class Solution:\n",
    "    def parseBoolExpr(self, expression: str) -> bool:\n",
    "        if expression == \"t\":\n",
    "            return True\n",
    "        if expression == \"f\":\n",
    "            return False\n",
    "        \n",
    "        stack = []\n",
    "        for char in expression: \n",
    "            stack.append(char)\n",
    "            if char == \")\":\n",
    "                tmp_and = True\n",
    "                tmp_or = False\n",
    "                tmp_not = None\n",
    "                while True:\n",
    "                    stack.pop()\n",
    "                    bool_or_op = stack.pop()\n",
    "                    if bool_or_op == \"t\" or bool_or_op == True:\n",
    "                        tmp_and = tmp_and and True\n",
    "                        tmp_or = tmp_or or True\n",
    "                        tmp_not = False\n",
    "                    elif bool_or_op == \"f\" or bool_or_op == False:\n",
    "                        tmp_and = tmp_and and False\n",
    "                        tmp_or = tmp_or or False\n",
    "                        tmp_not = True\n",
    "                    else:\n",
    "                        break\n",
    "                if bool_or_op == '&':\n",
    "                    stack.append(tmp_and)\n",
    "                elif bool_or_op == '|':\n",
    "                    stack.append(tmp_or)\n",
    "                else:\n",
    "                    stack.append(tmp_not)\n",
    "        return stack[0]"
   ]
  },
  {
   "cell_type": "code",
   "execution_count": 40,
   "id": "twenty-identifier",
   "metadata": {},
   "outputs": [
    {
     "data": {
      "text/plain": [
       "False"
      ]
     },
     "execution_count": 40,
     "metadata": {},
     "output_type": "execute_result"
    }
   ],
   "source": [
    "expression = \"|(&(t,f,t),!(t))\"\n",
    "Solution().parseBoolExpr(expression)"
   ]
  },
  {
   "cell_type": "markdown",
   "id": "trained-hearing",
   "metadata": {},
   "source": [
    "# Reference\n",
    "\n",
    "[1106. Parsing A Boolean Expression](https://leetcode.com/problems/parsing-a-boolean-expression/)\n",
    "\n",
    "[LeetCode 1106 Parsing A Boolean Expression](https://www.youtube.com/watch?v=lYw86z7Astg)"
   ]
  }
 ],
 "metadata": {
  "kernelspec": {
   "display_name": "Python 3",
   "language": "python",
   "name": "python3"
  },
  "language_info": {
   "codemirror_mode": {
    "name": "ipython",
    "version": 3
   },
   "file_extension": ".py",
   "mimetype": "text/x-python",
   "name": "python",
   "nbconvert_exporter": "python",
   "pygments_lexer": "ipython3",
   "version": "3.7.10"
  }
 },
 "nbformat": 4,
 "nbformat_minor": 5
}
