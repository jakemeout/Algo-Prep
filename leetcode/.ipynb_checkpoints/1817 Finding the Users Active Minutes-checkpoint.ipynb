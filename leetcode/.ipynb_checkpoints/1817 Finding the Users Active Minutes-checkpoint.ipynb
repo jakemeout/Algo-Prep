{
 "cells": [
  {
   "cell_type": "code",
   "execution_count": null,
   "metadata": {},
   "outputs": [],
   "source": [
    "from collections import defaultdict\n",
    "class Solution:\n",
    "    def findingUsersActiveMinutes(self, logs: List[List[int]], k: int) -> List[int]:\n",
    "        d = defaultdict(set)\n",
    "        for user_id, minute in logs:\n",
    "            d[user_id].add(minute)\n",
    "            \n",
    "        ans = [0] * (k+1)\n",
    "        for user_id in d:\n",
    "            ans[len(d[user_id])] += 1  \n",
    "        return ans[1:]"
   ]
  },
  {
   "cell_type": "markdown",
   "metadata": {},
   "source": [
    "# Reference\n",
    "\n",
    "[1817. Finding the Users Active Minutes](https://leetcode.com/problems/finding-the-users-active-minutes/)"
   ]
  }
 ],
 "metadata": {
  "kernelspec": {
   "display_name": "Python 3",
   "language": "python",
   "name": "python3"
  },
  "language_info": {
   "codemirror_mode": {
    "name": "ipython",
    "version": 3
   },
   "file_extension": ".py",
   "mimetype": "text/x-python",
   "name": "python",
   "nbconvert_exporter": "python",
   "pygments_lexer": "ipython3",
   "version": "3.8.5"
  }
 },
 "nbformat": 4,
 "nbformat_minor": 4
}
