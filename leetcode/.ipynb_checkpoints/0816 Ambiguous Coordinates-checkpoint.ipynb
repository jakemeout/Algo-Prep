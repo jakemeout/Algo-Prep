{
 "cells": [
  {
   "cell_type": "code",
   "execution_count": 37,
   "metadata": {},
   "outputs": [],
   "source": [
    "class Solution:\n",
    "    def ambiguousCoordinates(self, s):\n",
    "        ans = []\n",
    "        s = s[1:-1]\n",
    "        for i in range(1,len(s)):\n",
    "            l, r = s[:i], s[i:]\n",
    "            if self.check(l) and self.check(r):\n",
    "                #print(self.transform(l), self.transform(r))\n",
    "                ans.extend(f'({left}, {right})' for left in self.transform(l) for right in self.transform(r))\n",
    "                #print(s, l, r, [f'({l_}, {r_})' for l_ in self.transform(l) for r_ in self.transform(r)])\n",
    "        return ans\n",
    "    def check(self, s):\n",
    "        if len(s) == 1:\n",
    "            return True\n",
    "        if s[0]=='0' and s[-1]=='0':\n",
    "            return False\n",
    "        else:\n",
    "            return True\n",
    "    def transform(self, s):\n",
    "        if s[0]=='0' and len(s)!=1:\n",
    "            return [f'{s[0]}.{s[1:]}']\n",
    "        elif s[0]=='0': # elif s[0]=='0' and len(s)==1:\n",
    "            return [f'{s[0]}']\n",
    "        elif s[-1]=='0': \n",
    "            return [f'{s}']\n",
    "        else:\n",
    "            ans = [s]\n",
    "            for i in range(1,len(s)):\n",
    "                ans.append(f'{s[:i]}.{s[i:]}')\n",
    "            return ans"
   ]
  },
  {
   "cell_type": "code",
   "execution_count": 38,
   "metadata": {},
   "outputs": [
    {
     "data": {
      "text/plain": [
       "['(0, 123)', '(0, 1.23)', '(0, 12.3)', '(0.1, 23)', '(0.1, 2.3)', '(0.12, 3)']"
      ]
     },
     "execution_count": 38,
     "metadata": {},
     "output_type": "execute_result"
    }
   ],
   "source": [
    "s = \"(0123)\"\n",
    "Solution().ambiguousCoordinates(s)"
   ]
  },
  {
   "cell_type": "markdown",
   "metadata": {},
   "source": [
    "# Reference\n",
    "\n",
    "[816. Ambiguous Coordinates](https://leetcode.com/problems/ambiguous-coordinates/)\n",
    "\n",
    "[Ambiguous Coordinates (Leetcode 816)](https://www.youtube.com/watch?v=R0lIO3kpXA4&list=PL_lPC-CADCvSRKTJcAxtkJEGuP87K3E2J&index=7)"
   ]
  }
 ],
 "metadata": {
  "kernelspec": {
   "display_name": "Python 3",
   "language": "python",
   "name": "python3"
  },
  "language_info": {
   "codemirror_mode": {
    "name": "ipython",
    "version": 3
   },
   "file_extension": ".py",
   "mimetype": "text/x-python",
   "name": "python",
   "nbconvert_exporter": "python",
   "pygments_lexer": "ipython3",
   "version": "3.8.5"
  }
 },
 "nbformat": 4,
 "nbformat_minor": 4
}
