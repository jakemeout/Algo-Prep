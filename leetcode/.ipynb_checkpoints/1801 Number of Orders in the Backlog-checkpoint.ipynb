{
 "cells": [
  {
   "cell_type": "code",
   "execution_count": 15,
   "metadata": {},
   "outputs": [],
   "source": [
    "class Solution:\n",
    "    def getNumberOfBacklogOrders(self, orders):\n",
    "        MOD = 10**9 + 7\n",
    "        # create buy and sell heap\n",
    "        from heapq import heapify, heappop, heappush\n",
    "        buy = [] # (-price, amount)\n",
    "        sell = [] # (price, amount)\n",
    "        for price, amount, orderType in orders:\n",
    "            #print(price, amount, orderType, end=' ')\n",
    "            # buy order\n",
    "            if orderType == 0: \n",
    "                while amount > 0 and sell:\n",
    "                    sell_price, sell_amount = heappop(sell)\n",
    "                    if sell_price <= price:\n",
    "                        trade_amount = min(amount,sell_amount)\n",
    "                        amount -= trade_amount\n",
    "                        sell_amount -= trade_amount\n",
    "                    if sell_amount:\n",
    "                        heappush(sell,(sell_price,sell_amount))\n",
    "                        break\n",
    "                if amount:\n",
    "                    heappush(buy,(-price,amount))\n",
    "            # sell order\n",
    "            else: #if orderType == 1: \n",
    "                while amount > 0 and buy:\n",
    "                    neg_buy_price, buy_amount = heappop(buy)\n",
    "                    buy_price = - neg_buy_price\n",
    "                    if buy_price >= price:\n",
    "                        trade_amount = min(amount,buy_amount)\n",
    "                        amount -= trade_amount\n",
    "                        buy_amount -= trade_amount\n",
    "                    if buy_amount:\n",
    "                        heappush(buy,(-buy_price,buy_amount))\n",
    "                        break\n",
    "                if amount:\n",
    "                    heappush(sell,(price,amount))\n",
    "            #print(buy, sell)\n",
    "        res_buy = sum(amount for _, amount in buy) % MOD\n",
    "        res_sell = sum(amount for _, amount in sell) % MOD\n",
    "        return (res_buy + res_sell) % MOD"
   ]
  },
  {
   "cell_type": "code",
   "execution_count": 16,
   "metadata": {},
   "outputs": [
    {
     "data": {
      "text/plain": [
       "999999984"
      ]
     },
     "execution_count": 16,
     "metadata": {},
     "output_type": "execute_result"
    }
   ],
   "source": [
    "orders = [[7,1000000000,1],[15,3,0],[5,999999995,0],[5,1,1]]\n",
    "Solution().getNumberOfBacklogOrders(orders) # 999999984"
   ]
  },
  {
   "cell_type": "markdown",
   "metadata": {},
   "source": [
    "# Reference\n",
    "\n",
    "[1801. Number of Orders in the Backlog](https://leetcode.com/problems/number-of-orders-in-the-backlog/)\n",
    "\n",
    "[1801. Number of Orders in the Backlog (Leetcode Medium)](https://www.youtube.com/watch?v=hVVkBM-p1vg)"
   ]
  }
 ],
 "metadata": {
  "kernelspec": {
   "display_name": "Python 3",
   "language": "python",
   "name": "python3"
  },
  "language_info": {
   "codemirror_mode": {
    "name": "ipython",
    "version": 3
   },
   "file_extension": ".py",
   "mimetype": "text/x-python",
   "name": "python",
   "nbconvert_exporter": "python",
   "pygments_lexer": "ipython3",
   "version": "3.8.5"
  }
 },
 "nbformat": 4,
 "nbformat_minor": 4
}
