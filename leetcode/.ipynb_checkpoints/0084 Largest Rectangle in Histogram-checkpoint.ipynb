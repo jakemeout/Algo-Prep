{
 "cells": [
  {
   "cell_type": "code",
   "execution_count": null,
   "metadata": {},
   "outputs": [],
   "source": [
    "# Memory Limit Exceeded\n",
    "class Solution:\n",
    "    def largestRectangleArea(self, heights):\n",
    "        # base case\n",
    "        if len(heights) == 1: \n",
    "            return heights[0]\n",
    "        # recursion step\n",
    "        previous = self.largestRectangleArea(heights[:-1])\n",
    "        cur = 0\n",
    "        for i in range(len(heights)):\n",
    "            width = len(heights) - i\n",
    "            height = min(heights[i:])\n",
    "            cur = max(cur, width * height)\n",
    "        return max(previous, cur)"
   ]
  },
  {
   "cell_type": "code",
   "execution_count": 3,
   "metadata": {},
   "outputs": [],
   "source": [
    "class Solution:\n",
    "    def largestRectangleArea(self, heights):\n",
    "        ans = 0\n",
    "        left = self.computeLeftLimit(heights)\n",
    "        right = [len(heights)-1-i for i in self.computeLeftLimit(heights[::-1])[::-1]]\n",
    "        #print(heights)\n",
    "        #print(left)\n",
    "        #print(right)\n",
    "        for h, l, r in zip(heights,left,right):\n",
    "            ans = max(ans, h*(r-l+1))\n",
    "        return ans\n",
    "    def computeLeftLimit(self, heights):\n",
    "        #                      #\n",
    "        #                    # #\n",
    "        #                    # #\n",
    "        #                    # #   #\n",
    "        #                #   # # # # \n",
    "        #                # # # # # # \n",
    "        # index          0 1 2 3 4 5 \n",
    "        # left limit     0 0 2 3 2 5\n",
    "        ans = heights.copy()\n",
    "        stack = [] # record index with heights[stack[0]] < heights[stack[1]] < ...\n",
    "        for i, h in enumerate(heights):\n",
    "            if stack == []:\n",
    "                ans[i] = 0\n",
    "                stack.append(i)\n",
    "            else:\n",
    "                while stack:\n",
    "                    if heights[stack[-1]] >= h:\n",
    "                        stack.pop()\n",
    "                    else:\n",
    "                        ans[i] = stack[-1] + 1\n",
    "                        stack.append(i)\n",
    "                        break\n",
    "                else:\n",
    "                    ans[i] = 0\n",
    "                    stack.append(i)\n",
    "        return ans"
   ]
  },
  {
   "cell_type": "code",
   "execution_count": 4,
   "metadata": {},
   "outputs": [
    {
     "data": {
      "text/plain": [
       "10"
      ]
     },
     "execution_count": 4,
     "metadata": {},
     "output_type": "execute_result"
    }
   ],
   "source": [
    "heights = [2,1,5,6,2,3]\n",
    "Solution().largestRectangleArea(heights) # 10"
   ]
  },
  {
   "cell_type": "markdown",
   "metadata": {},
   "source": [
    "# Reference\n",
    "\n",
    "[84. Largest Rectangle in Histogram](https://leetcode.com/problems/largest-rectangle-in-histogram/)\n",
    "\n",
    "[Largest rectangle in Histogram | Leetcode #84](https://www.youtube.com/watch?v=vcv3REtIvEo)\n",
    "\n",
    "[Largest Rectangle in Histogram | LeetCode 84 | C++, Java, Python](https://www.youtube.com/watch?v=2JPo2JnaJeo)"
   ]
  }
 ],
 "metadata": {
  "kernelspec": {
   "display_name": "Python 3",
   "language": "python",
   "name": "python3"
  },
  "language_info": {
   "codemirror_mode": {
    "name": "ipython",
    "version": 3
   },
   "file_extension": ".py",
   "mimetype": "text/x-python",
   "name": "python",
   "nbconvert_exporter": "python",
   "pygments_lexer": "ipython3",
   "version": "3.8.5"
  }
 },
 "nbformat": 4,
 "nbformat_minor": 4
}
