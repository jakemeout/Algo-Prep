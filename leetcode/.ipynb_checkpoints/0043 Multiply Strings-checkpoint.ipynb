{
 "cells": [
  {
   "cell_type": "code",
   "execution_count": null,
   "metadata": {},
   "outputs": [],
   "source": [
    "class Solution:\n",
    "    def multiply(self, num1: str, num2: str) -> str:\n",
    "        ans = 0\n",
    "        for i1, c1 in enumerate(num1[::-1]):\n",
    "            d1 = ord(c1) - ord('0')\n",
    "            for i2, c2 in enumerate(num2[::-1]):\n",
    "                d2 = ord(c2) - ord('0')\n",
    "                ans += d1 * d2 * 10**(i1+i2)\n",
    "        return str(ans)"
   ]
  },
  {
   "cell_type": "markdown",
   "metadata": {},
   "source": [
    "# Reference\n",
    "\n",
    "[43. Multiply Strings](https://leetcode.com/problems/multiply-strings/)"
   ]
  }
 ],
 "metadata": {
  "kernelspec": {
   "display_name": "Python 3",
   "language": "python",
   "name": "python3"
  },
  "language_info": {
   "codemirror_mode": {
    "name": "ipython",
    "version": 3
   },
   "file_extension": ".py",
   "mimetype": "text/x-python",
   "name": "python",
   "nbconvert_exporter": "python",
   "pygments_lexer": "ipython3",
   "version": "3.8.5"
  }
 },
 "nbformat": 4,
 "nbformat_minor": 4
}
