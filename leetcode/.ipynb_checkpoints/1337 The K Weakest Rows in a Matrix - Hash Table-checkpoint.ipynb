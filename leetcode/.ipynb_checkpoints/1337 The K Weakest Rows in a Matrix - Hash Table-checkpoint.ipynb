{
 "cells": [
  {
   "cell_type": "code",
   "execution_count": null,
   "metadata": {},
   "outputs": [],
   "source": [
    "class Solution:\n",
    "    def kWeakestRows(self, mat, k):\n",
    "        # construct counter dict d\n",
    "        # key : number of soldiers\n",
    "        # value : list of row numbers in ascending order\n",
    "        d = {}\n",
    "        for row, lst in enumerate(mat):\n",
    "            rowSum = sum(lst)\n",
    "            if rowSum in d:\n",
    "                d[rowSum].append(row)\n",
    "            else:\n",
    "                d[rowSum] = [row]\n",
    "        # return k weakest rows\n",
    "        out = []\n",
    "        keys = [rowSum for rowSum in d.keys()]\n",
    "        keys.sort()\n",
    "        counter = 0\n",
    "        for key in keys:\n",
    "            lst = d[key]\n",
    "            if counter + len(lst) < k:\n",
    "                counter += len(lst)\n",
    "                out += lst\n",
    "            else:\n",
    "                out += lst[:k-counter]\n",
    "                break \n",
    "        return out            "
   ]
  },
  {
   "cell_type": "markdown",
   "metadata": {},
   "source": [
    "# Reference\n",
    "\n",
    "[1337. The K Weakest Rows in a Matrix](https://leetcode.com/problems/the-k-weakest-rows-in-a-matrix/)"
   ]
  }
 ],
 "metadata": {
  "kernelspec": {
   "display_name": "Python 3",
   "language": "python",
   "name": "python3"
  },
  "language_info": {
   "codemirror_mode": {
    "name": "ipython",
    "version": 3
   },
   "file_extension": ".py",
   "mimetype": "text/x-python",
   "name": "python",
   "nbconvert_exporter": "python",
   "pygments_lexer": "ipython3",
   "version": "3.8.5"
  }
 },
 "nbformat": 4,
 "nbformat_minor": 4
}
