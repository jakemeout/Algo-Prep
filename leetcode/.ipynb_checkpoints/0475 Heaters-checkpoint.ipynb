{
 "cells": [
  {
   "cell_type": "code",
   "execution_count": null,
   "metadata": {},
   "outputs": [],
   "source": [
    "class Solution:\n",
    "    def findRadius(self, houses, heaters):\n",
    "        \"\"\"\n",
    "        :type houses: List[int]\n",
    "        :type heaters: List[int]\n",
    "        :rtype: int\n",
    "        \"\"\"\n",
    "        houses.sort()\n",
    "        heaters = sorted(heaters) + [float('inf')]\n",
    "\n",
    "        i = r = 0\n",
    "        for x in houses:\n",
    "            while x >= sum(heaters[i:i+2]) / 2.:\n",
    "                i += 1\n",
    "            r = max(r, abs(heaters[i] - x))\n",
    "        return r"
   ]
  },
  {
   "cell_type": "markdown",
   "metadata": {},
   "source": [
    "# Reference\n",
    "\n",
    "[475. Heaters](https://leetcode.com/problems/heaters/)\n",
    "\n",
    "[Short Python](https://leetcode.com/problems/heaters/discuss/95875/Short-Python)"
   ]
  }
 ],
 "metadata": {
  "kernelspec": {
   "display_name": "Python 3",
   "language": "python",
   "name": "python3"
  },
  "language_info": {
   "codemirror_mode": {
    "name": "ipython",
    "version": 3
   },
   "file_extension": ".py",
   "mimetype": "text/x-python",
   "name": "python",
   "nbconvert_exporter": "python",
   "pygments_lexer": "ipython3",
   "version": "3.8.5"
  }
 },
 "nbformat": 4,
 "nbformat_minor": 4
}
