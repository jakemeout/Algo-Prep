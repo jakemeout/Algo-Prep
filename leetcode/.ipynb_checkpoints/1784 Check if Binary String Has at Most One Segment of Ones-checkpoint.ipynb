{
 "cells": [
  {
   "cell_type": "code",
   "execution_count": null,
   "metadata": {},
   "outputs": [],
   "source": [
    "class Solution:\n",
    "    def checkOnesSegment(self, s: str) -> bool:\n",
    "        counter = 0 # number of clusters of 1s\n",
    "        flag_1 = False # falg that we are on cluster of 1s\n",
    "        for num in s:\n",
    "            # we are on cluster of 1s\n",
    "            if num == '1':\n",
    "                flag_1 = True\n",
    "            # cluster of 1s end cluster of 0s start\n",
    "            elif flag_1: # elif num != '1' and flag_1\n",
    "                flag_1 = False\n",
    "                counter += 1\n",
    "        if flag_1:\n",
    "            counter += 1\n",
    "        return counter <= 1"
   ]
  },
  {
   "cell_type": "markdown",
   "metadata": {},
   "source": [
    "# Reference\n",
    "\n",
    "[1784. Check if Binary String Has at Most One Segment of Ones](https://leetcode.com/problems/check-if-binary-string-has-at-most-one-segment-of-ones/)"
   ]
  }
 ],
 "metadata": {
  "kernelspec": {
   "display_name": "Python 3",
   "language": "python",
   "name": "python3"
  },
  "language_info": {
   "codemirror_mode": {
    "name": "ipython",
    "version": 3
   },
   "file_extension": ".py",
   "mimetype": "text/x-python",
   "name": "python",
   "nbconvert_exporter": "python",
   "pygments_lexer": "ipython3",
   "version": "3.8.5"
  }
 },
 "nbformat": 4,
 "nbformat_minor": 4
}
