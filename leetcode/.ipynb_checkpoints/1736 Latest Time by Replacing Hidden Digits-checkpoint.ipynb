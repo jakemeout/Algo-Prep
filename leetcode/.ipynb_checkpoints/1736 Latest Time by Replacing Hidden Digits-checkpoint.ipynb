{
 "cells": [
  {
   "cell_type": "code",
   "execution_count": 9,
   "metadata": {},
   "outputs": [],
   "source": [
    "class Solution:\n",
    "    def maximumTime(self, time: str) -> str:\n",
    "        timeparts = time.split(':')\n",
    "        out = ''\n",
    "        out += self.handleHour(timeparts[0])\n",
    "        out += \":\"\n",
    "        out += self.handleMin(timeparts[1])\n",
    "        return out\n",
    "    def handleHour(self, hour):\n",
    "        out = ''\n",
    "        if hour[0] == '?':\n",
    "            if hour[1] == '?':\n",
    "                out += '23'\n",
    "            else:\n",
    "                if int(hour[1]) <= 3:\n",
    "                    out += '2'\n",
    "                else:\n",
    "                    out += '1'\n",
    "                out += hour[1]        \n",
    "        else:\n",
    "            out += hour[0]\n",
    "            if hour[1]=='?':\n",
    "                if int(out) == 2:\n",
    "                    out += '3'\n",
    "                else:\n",
    "                    out += '9'\n",
    "            else:\n",
    "                out += hour[1]   \n",
    "        return out\n",
    "    def handleMin(self, m):\n",
    "        out = ''\n",
    "        if m[0] == '?':\n",
    "            out += '5'\n",
    "            if m[1] == '?':\n",
    "                out += '9'\n",
    "            else:                \n",
    "                out += m[1]\n",
    "        else:\n",
    "            out += m[0]\n",
    "            if m[1] == '?':\n",
    "                out += '9'\n",
    "            else:\n",
    "                out += m[1]\n",
    "        return out"
   ]
  },
  {
   "cell_type": "code",
   "execution_count": 10,
   "metadata": {},
   "outputs": [
    {
     "data": {
      "text/plain": [
       "'20:15'"
      ]
     },
     "execution_count": 10,
     "metadata": {},
     "output_type": "execute_result"
    }
   ],
   "source": [
    "time = \"?0:15\"\n",
    "Solution().maximumTime(time)"
   ]
  },
  {
   "cell_type": "markdown",
   "metadata": {},
   "source": [
    "# Reference\n",
    "\n",
    "[1736. Latest Time by Replacing Hidden Digits](https://leetcode.com/problems/latest-time-by-replacing-hidden-digits/)"
   ]
  }
 ],
 "metadata": {
  "kernelspec": {
   "display_name": "Python 3",
   "language": "python",
   "name": "python3"
  },
  "language_info": {
   "codemirror_mode": {
    "name": "ipython",
    "version": 3
   },
   "file_extension": ".py",
   "mimetype": "text/x-python",
   "name": "python",
   "nbconvert_exporter": "python",
   "pygments_lexer": "ipython3",
   "version": "3.8.5"
  }
 },
 "nbformat": 4,
 "nbformat_minor": 4
}
