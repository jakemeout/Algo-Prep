{
 "cells": [
  {
   "cell_type": "code",
   "execution_count": null,
   "metadata": {},
   "outputs": [],
   "source": [
    "class Solution:\n",
    "    def numEquivDominoPairs(self, dominoes):\n",
    "        # construct counter dict d\n",
    "        d = {}\n",
    "        for i in range(len(dominoes)):\n",
    "            key = self.hash(dominoes[i])\n",
    "            if key in d:\n",
    "                d[key] += 1\n",
    "            else:\n",
    "                d[key] = 1\n",
    "        # count equivalent domino pairs \n",
    "        out = 0 \n",
    "        for key in [key for key in d if d[key]>1]:\n",
    "            out += d[key] * (d[key]-1) // 2\n",
    "        return out\n",
    "    def hash(self, p):\n",
    "        if p[0]<=p[1]:\n",
    "            return f'{p[0]}-{p[1]}'\n",
    "        else:\n",
    "            return f'{p[1]}-{p[0]}'"
   ]
  },
  {
   "cell_type": "markdown",
   "metadata": {},
   "source": [
    "# Reference\n",
    "\n",
    "[1128. Number of Equivalent Domino Pairs](https://leetcode.com/problems/number-of-equivalent-domino-pairs/)"
   ]
  }
 ],
 "metadata": {
  "kernelspec": {
   "display_name": "Python 3",
   "language": "python",
   "name": "python3"
  },
  "language_info": {
   "codemirror_mode": {
    "name": "ipython",
    "version": 3
   },
   "file_extension": ".py",
   "mimetype": "text/x-python",
   "name": "python",
   "nbconvert_exporter": "python",
   "pygments_lexer": "ipython3",
   "version": "3.8.5"
  }
 },
 "nbformat": 4,
 "nbformat_minor": 4
}
