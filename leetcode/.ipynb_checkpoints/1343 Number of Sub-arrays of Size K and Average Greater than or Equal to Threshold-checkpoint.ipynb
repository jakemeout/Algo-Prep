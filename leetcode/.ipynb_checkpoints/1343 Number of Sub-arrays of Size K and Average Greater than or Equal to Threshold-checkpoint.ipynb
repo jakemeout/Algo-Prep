{
 "cells": [
  {
   "cell_type": "code",
   "execution_count": null,
   "metadata": {},
   "outputs": [],
   "source": [
    "class Solution:\n",
    "    def numOfSubarrays(self, arr, k, threshold):\n",
    "        # trivial cases\n",
    "        if len(arr) < k:\n",
    "            return 0\n",
    "        \n",
    "        # general cases\n",
    "        ans = 0\n",
    "        target = k * threshold\n",
    "        \n",
    "        cur = sum(arr[:k]) # cur = sum(arr[i_cur-k:i_cur])\n",
    "        i_cur = k\n",
    "        while i_cur < len(arr):\n",
    "            if cur >= target:\n",
    "                ans += 1\n",
    "            cur = cur + arr[i_cur] - arr[i_cur-k]\n",
    "            i_cur += 1\n",
    "        if cur >= target:\n",
    "            ans += 1\n",
    "            \n",
    "        return ans"
   ]
  },
  {
   "cell_type": "markdown",
   "metadata": {},
   "source": [
    "# Reference\n",
    "\n",
    "[1343. Number of Sub-arrays of Size K and Average Greater than or Equal to Threshold](https://leetcode.com/problems/number-of-sub-arrays-of-size-k-and-average-greater-than-or-equal-to-threshold/)\n",
    "\n",
    "[Number of Sub-arrays of Size K and Average Greater than or Equal to Threshold (Leetcode 1343)](https://www.youtube.com/watch?v=2_w24Aj7u60&list=PL_lPC-CADCvSSU3KSchuIysoJoIV_i0No&index=6)"
   ]
  }
 ],
 "metadata": {
  "kernelspec": {
   "display_name": "Python 3",
   "language": "python",
   "name": "python3"
  },
  "language_info": {
   "codemirror_mode": {
    "name": "ipython",
    "version": 3
   },
   "file_extension": ".py",
   "mimetype": "text/x-python",
   "name": "python",
   "nbconvert_exporter": "python",
   "pygments_lexer": "ipython3",
   "version": "3.8.5"
  }
 },
 "nbformat": 4,
 "nbformat_minor": 4
}
