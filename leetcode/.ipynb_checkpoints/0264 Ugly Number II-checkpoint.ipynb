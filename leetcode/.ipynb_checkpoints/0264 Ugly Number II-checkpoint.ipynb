{
 "cells": [
  {
   "cell_type": "code",
   "execution_count": 5,
   "metadata": {},
   "outputs": [],
   "source": [
    "class Solution:\n",
    "    def nthUglyNumber(self, n):\n",
    "        from heapq import heapify, heappop, heappush\n",
    "        pq = [1]\n",
    "        #print(pq)\n",
    "        while n:\n",
    "            tmp = heappop(pq)\n",
    "            n -= 1\n",
    "            if tmp*2 not in pq:\n",
    "                heappush(pq, tmp*2)\n",
    "            if tmp*3 not in pq:\n",
    "                heappush(pq, tmp*3)\n",
    "            if tmp*5 not in pq:\n",
    "                heappush(pq, tmp*5)\n",
    "            #print(tmp, pq)\n",
    "        return tmp"
   ]
  },
  {
   "cell_type": "code",
   "execution_count": 6,
   "metadata": {},
   "outputs": [
    {
     "data": {
      "text/plain": [
       "12"
      ]
     },
     "execution_count": 6,
     "metadata": {},
     "output_type": "execute_result"
    }
   ],
   "source": [
    "n = 10\n",
    "Solution().nthUglyNumber(n) # 12"
   ]
  },
  {
   "cell_type": "markdown",
   "metadata": {},
   "source": [
    "# Reference\n",
    "\n",
    "[264. Ugly Number II](https://leetcode.com/problems/ugly-number-ii/)"
   ]
  }
 ],
 "metadata": {
  "kernelspec": {
   "display_name": "Python 3",
   "language": "python",
   "name": "python3"
  },
  "language_info": {
   "codemirror_mode": {
    "name": "ipython",
    "version": 3
   },
   "file_extension": ".py",
   "mimetype": "text/x-python",
   "name": "python",
   "nbconvert_exporter": "python",
   "pygments_lexer": "ipython3",
   "version": "3.8.5"
  }
 },
 "nbformat": 4,
 "nbformat_minor": 4
}
