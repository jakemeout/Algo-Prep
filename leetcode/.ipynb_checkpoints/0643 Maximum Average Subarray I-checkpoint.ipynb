{
 "cells": [
  {
   "cell_type": "code",
   "execution_count": 1,
   "metadata": {},
   "outputs": [],
   "source": [
    "class Solution:\n",
    "    def findMaxAverage(self, nums, k):\n",
    "        # base cases\n",
    "        if len(nums) <= 2*k:\n",
    "            return self.findMaxAverage2K(nums, k)\n",
    "        # recursion steps\n",
    "        l, c, r = nums[:len(nums)//2], nums[len(nums)//2-k:len(nums)//2+k], nums[len(nums)//2:] \n",
    "        l_avg, c_avg, r_avg = self.findMaxAverage(l, k), self.findMaxAverage(c, k), self.findMaxAverage(r, k) \n",
    "        return max(l_avg, c_avg, r_avg)   \n",
    "    def findMaxAverage2K(self, nums, k):\n",
    "        running_max = None\n",
    "        running_sum = None\n",
    "        for start, end in zip(range(0,len(nums)-k+1),range(k-1,len(nums))):\n",
    "            if running_sum is not None:\n",
    "                running_sum += nums[end] - nums[start-1]\n",
    "            else:\n",
    "                running_sum = sum(nums[start:end+1])\n",
    "            if running_max is not None:\n",
    "                running_max = max(running_max, running_sum)\n",
    "            else:\n",
    "                running_max = running_sum\n",
    "            print(running_sum, running_max)\n",
    "        return running_max / k"
   ]
  },
  {
   "cell_type": "code",
   "execution_count": 2,
   "metadata": {},
   "outputs": [
    {
     "name": "stdout",
     "output_type": "stream",
     "text": [
      "2 2\n",
      "51 53\n",
      "42 106\n"
     ]
    },
    {
     "data": {
      "text/plain": [
       "26.5"
      ]
     },
     "execution_count": 2,
     "metadata": {},
     "output_type": "execute_result"
    }
   ],
   "source": [
    "nums = [0,4,0,3,2]\n",
    "k = 1\n",
    "Solution().findMaxAverage(nums, k)"
   ]
  },
  {
   "cell_type": "markdown",
   "metadata": {},
   "source": [
    "# Reference\n",
    "\n",
    "[643. Maximum Average Subarray I](https://leetcode.com/problems/maximum-average-subarray-i/)"
   ]
  }
 ],
 "metadata": {
  "kernelspec": {
   "display_name": "Python 3",
   "language": "python",
   "name": "python3"
  },
  "language_info": {
   "codemirror_mode": {
    "name": "ipython",
    "version": 3
   },
   "file_extension": ".py",
   "mimetype": "text/x-python",
   "name": "python",
   "nbconvert_exporter": "python",
   "pygments_lexer": "ipython3",
   "version": "3.8.5"
  }
 },
 "nbformat": 4,
 "nbformat_minor": 4
}
