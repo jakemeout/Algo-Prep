{
 "cells": [
  {
   "cell_type": "code",
   "execution_count": null,
   "metadata": {},
   "outputs": [],
   "source": [
    "class Solution:\n",
    "    def longestBeautifulSubstring(self, word: str) -> int:\n",
    "        begin = None\n",
    "        best = 0\n",
    "        a_detected = False\n",
    "        for index, value in enumerate(word):\n",
    "            if not a_detected and value == 'a':\n",
    "                begin = index\n",
    "                a_detected = True\n",
    "            elif a_detected and value < word[index-1]:\n",
    "                if len(set(word[begin:index])) == 5:\n",
    "                    best = max(best, len(word[begin:index]))\n",
    "                if value == 'a':\n",
    "                    begin = index\n",
    "                else:\n",
    "                    begin = None\n",
    "                    a_detected = False\n",
    "        best = max(best, len(word[begin:])) if a_detected and len(set(word[begin:])) == 5 else best\n",
    "        return best"
   ]
  },
  {
   "cell_type": "markdown",
   "metadata": {},
   "source": [
    "# Reference\n",
    "\n",
    "[1839. Longest Substring Of All Vowels in Order](https://leetcode.com/problems/longest-substring-of-all-vowels-in-order/)\n",
    "\n",
    "[Longest Substring Of All Vowels in Order (Leetcode 1839)](https://www.youtube.com/watch?v=rzO3IxcAFEs&list=PL_lPC-CADCvQr__cIR1NyprmZdWi0seGm&index=6)\n",
    "\n",
    "[[Python] fast and simple](https://leetcode.com/problems/longest-substring-of-all-vowels-in-order/discuss/1221545/Python-fast-and-simple)"
   ]
  }
 ],
 "metadata": {
  "kernelspec": {
   "display_name": "Python 3",
   "language": "python",
   "name": "python3"
  },
  "language_info": {
   "codemirror_mode": {
    "name": "ipython",
    "version": 3
   },
   "file_extension": ".py",
   "mimetype": "text/x-python",
   "name": "python",
   "nbconvert_exporter": "python",
   "pygments_lexer": "ipython3",
   "version": "3.8.5"
  }
 },
 "nbformat": 4,
 "nbformat_minor": 4
}
