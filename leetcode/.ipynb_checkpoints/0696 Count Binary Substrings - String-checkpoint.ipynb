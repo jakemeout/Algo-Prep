{
 "cells": [
  {
   "cell_type": "code",
   "execution_count": 5,
   "metadata": {},
   "outputs": [],
   "source": [
    "class Solution:\n",
    "    def countBinarySubstrings(self, s: str) -> int:\n",
    "        if s[0] == '0':\n",
    "            s0, s1 = s.split('1'), s.split('0')\n",
    "        else:\n",
    "            s0, s1 = s.split('0'), s.split('1')\n",
    "        n0, n1 = [len(e) for e in s0 if len(e) != 0], [len(e) for e in s1 if len(e) != 0]\n",
    "        out = 0\n",
    "        for i, k in zip(n0,n1):\n",
    "            out += min(i, k)\n",
    "        for i, k in zip(n0[1:],n1):\n",
    "            out += min(i, k)\n",
    "        return out"
   ]
  },
  {
   "cell_type": "code",
   "execution_count": 6,
   "metadata": {},
   "outputs": [
    {
     "name": "stdout",
     "output_type": "stream",
     "text": [
      "['00', '', '00', '', ''] ['', '', '11', '', '11']\n",
      "[2, 2] [2, 2]\n"
     ]
    }
   ],
   "source": [
    "s = \"00110011\"\n",
    "Solution().countBinarySubstrings(s) "
   ]
  },
  {
   "cell_type": "markdown",
   "metadata": {},
   "source": [
    "# Reference\n",
    "\n",
    "[696. Count Binary Substrings](https://leetcode.com/problems/count-binary-substrings/)"
   ]
  }
 ],
 "metadata": {
  "kernelspec": {
   "display_name": "Python 3",
   "language": "python",
   "name": "python3"
  },
  "language_info": {
   "codemirror_mode": {
    "name": "ipython",
    "version": 3
   },
   "file_extension": ".py",
   "mimetype": "text/x-python",
   "name": "python",
   "nbconvert_exporter": "python",
   "pygments_lexer": "ipython3",
   "version": "3.8.5"
  }
 },
 "nbformat": 4,
 "nbformat_minor": 4
}
