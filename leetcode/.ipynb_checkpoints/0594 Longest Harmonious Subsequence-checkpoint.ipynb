{
 "cells": [
  {
   "cell_type": "code",
   "execution_count": null,
   "metadata": {},
   "outputs": [],
   "source": [
    "class Solution:\n",
    "    def findLHS(self, nums):\n",
    "        # construct counter dict d\n",
    "        d = {}\n",
    "        for num in nums:\n",
    "            if num in d:\n",
    "                d[num] += 1\n",
    "            else:\n",
    "                d[num] = 1\n",
    "        # compute longest harmonious subsequence length out\n",
    "        out = 0\n",
    "        keys = [key for key in d]\n",
    "        keys.sort()\n",
    "        for i, j in zip(keys[:-1],keys[1:]):\n",
    "            if j == i+1:\n",
    "                out = max(out, d[i]+d[j])\n",
    "        return out"
   ]
  },
  {
   "cell_type": "markdown",
   "metadata": {},
   "source": [
    "# Reference\n",
    "\n",
    "[594. Longest Harmonious Subsequence](https://leetcode.com/problems/longest-harmonious-subsequence/)"
   ]
  }
 ],
 "metadata": {
  "kernelspec": {
   "display_name": "Python 3",
   "language": "python",
   "name": "python3"
  },
  "language_info": {
   "codemirror_mode": {
    "name": "ipython",
    "version": 3
   },
   "file_extension": ".py",
   "mimetype": "text/x-python",
   "name": "python",
   "nbconvert_exporter": "python",
   "pygments_lexer": "ipython3",
   "version": "3.8.5"
  }
 },
 "nbformat": 4,
 "nbformat_minor": 4
}
