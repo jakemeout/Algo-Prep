{
 "cells": [
  {
   "cell_type": "code",
   "execution_count": null,
   "metadata": {},
   "outputs": [],
   "source": [
    "# Time Limit Exceeded\n",
    "class KthLargest:\n",
    "    def __init__(self, k: int, nums: List[int]):\n",
    "        self.k = k\n",
    "        self.lst = nums   \n",
    "    def add(self, val: int) -> int:\n",
    "        self.lst.append(val)\n",
    "        return self.computeKthLargest()\n",
    "    def computeKthLargest(self):\n",
    "        lst = sorted(self.lst, reverse=True)\n",
    "        return lst[self.k-1]"
   ]
  },
  {
   "cell_type": "code",
   "execution_count": null,
   "metadata": {},
   "outputs": [],
   "source": [
    "class KthLargest:\n",
    "    def __init__(self, k: int, nums: List[int]):\n",
    "        self.k = k\n",
    "        self.lst = sorted(nums, reverse=True)[:self.k]  \n",
    "    def add(self, val: int) -> int:\n",
    "        self.lst.append(val)\n",
    "        self.lst = sorted(self.lst, reverse=True)[:self.k] \n",
    "        return self.lst[-1]"
   ]
  },
  {
   "cell_type": "markdown",
   "metadata": {},
   "source": [
    "# Reference\n",
    "\n",
    "[703. Kth Largest Element in a Stream](https://leetcode.com/problems/kth-largest-element-in-a-stream/)\n",
    "\n",
    "[Kth Largest Element in a Stream LeetCode 2020 05 18](https://www.youtube.com/watch?v=aaWU4Bq1X-c)"
   ]
  }
 ],
 "metadata": {
  "kernelspec": {
   "display_name": "Python 3",
   "language": "python",
   "name": "python3"
  },
  "language_info": {
   "codemirror_mode": {
    "name": "ipython",
    "version": 3
   },
   "file_extension": ".py",
   "mimetype": "text/x-python",
   "name": "python",
   "nbconvert_exporter": "python",
   "pygments_lexer": "ipython3",
   "version": "3.8.5"
  }
 },
 "nbformat": 4,
 "nbformat_minor": 4
}
