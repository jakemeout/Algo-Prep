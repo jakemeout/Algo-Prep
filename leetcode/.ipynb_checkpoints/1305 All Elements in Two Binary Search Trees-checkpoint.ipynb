{
 "cells": [
  {
   "cell_type": "code",
   "execution_count": null,
   "metadata": {},
   "outputs": [],
   "source": [
    "class TreeNode:\n",
    "    def __init__(self, val=0, left=None, right=None):\n",
    "        self.val = val\n",
    "        self.left = left\n",
    "        self.right = right"
   ]
  },
  {
   "cell_type": "code",
   "execution_count": null,
   "metadata": {},
   "outputs": [],
   "source": [
    "class Solution:\n",
    "    def getAllElements(self, root1, root2):\n",
    "        \"\"\"\n",
    "        :type root1: TreeNode\n",
    "        :type root2: TreeNode\n",
    "        :rtype: List[int]\n",
    "        \"\"\"\n",
    "        out1 = self.inorderTraversal(root1) \n",
    "        out2 = self.inorderTraversal(root2)\n",
    "        return sorted(out1+out2)\n",
    "    def inorderTraversal(self, root: TreeNode):\n",
    "        if root is None:\n",
    "            return []\n",
    "        cur = root\n",
    "        stack = []\n",
    "        out = []\n",
    "        while cur or stack:\n",
    "            if cur: \n",
    "                stack.append(cur) \n",
    "                cur = cur.left \n",
    "            else: \n",
    "                cur = stack.pop() \n",
    "                out.append(cur.val) \n",
    "                cur = cur.right \n",
    "        return out"
   ]
  },
  {
   "cell_type": "markdown",
   "metadata": {},
   "source": [
    "# Reference\n",
    "\n",
    "[1305. All Elements in Two Binary Search Trees](https://leetcode.com/problems/all-elements-in-two-binary-search-trees/)"
   ]
  }
 ],
 "metadata": {
  "kernelspec": {
   "display_name": "Python 3",
   "language": "python",
   "name": "python3"
  },
  "language_info": {
   "codemirror_mode": {
    "name": "ipython",
    "version": 3
   },
   "file_extension": ".py",
   "mimetype": "text/x-python",
   "name": "python",
   "nbconvert_exporter": "python",
   "pygments_lexer": "ipython3",
   "version": "3.8.5"
  }
 },
 "nbformat": 4,
 "nbformat_minor": 4
}
