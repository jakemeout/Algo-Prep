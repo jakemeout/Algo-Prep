{
 "cells": [
  {
   "cell_type": "code",
   "execution_count": null,
   "metadata": {},
   "outputs": [],
   "source": [
    "from collections import defaultdict\n",
    "class Solution:\n",
    "    def evaluate(self, s: str, knowledge: List[List[str]]) -> str:\n",
    "        S = {'(', ')'}\n",
    "        \n",
    "        d = defaultdict(lambda : '?')\n",
    "        for key, value in knowledge:\n",
    "            d[key] = value\n",
    "        \n",
    "        ans = ''\n",
    "        key, flag = '', False\n",
    "        for i, char in enumerate(s):\n",
    "            \n",
    "            # char is '(' or ')'\n",
    "            if char == '(':\n",
    "                flag = True\n",
    "            elif char == ')':\n",
    "                flag = False\n",
    "                ans += d[key]\n",
    "                key = ''\n",
    "            \n",
    "            # char is neither '(' nor ')'\n",
    "            if not flag:\n",
    "                if char not in S:\n",
    "                    ans += char\n",
    "            else:\n",
    "                if char not in S:\n",
    "                    key += char\n",
    "                    \n",
    "        return ans               "
   ]
  },
  {
   "cell_type": "code",
   "execution_count": null,
   "metadata": {},
   "outputs": [],
   "source": [
    "class Solution:\n",
    "    def evaluate(self, s: str, knowledge: List[List[str]]) -> str:\n",
    "        d = {k: v for k, v in knowledge}\n",
    "        t = s.split(\"(\")\n",
    "        ans = t[0]\n",
    "        for i in range(1, len(t)):\n",
    "            a, b = t[i].split(\")\")\n",
    "            ans += d.get(a, \"?\") + b\n",
    "        return ans"
   ]
  },
  {
   "cell_type": "markdown",
   "metadata": {},
   "source": [
    "# Reference\n",
    "\n",
    "[1807. Evaluate the Bracket Pairs of a String](https://leetcode.com/problems/evaluate-the-bracket-pairs-of-a-string/)\n",
    "\n",
    "[[Python] Short solution, using split, explained](https://leetcode.com/problems/evaluate-the-bracket-pairs-of-a-string/discuss/1130510/Python-Short-solution-using-split-explained)"
   ]
  }
 ],
 "metadata": {
  "kernelspec": {
   "display_name": "Python 3",
   "language": "python",
   "name": "python3"
  },
  "language_info": {
   "codemirror_mode": {
    "name": "ipython",
    "version": 3
   },
   "file_extension": ".py",
   "mimetype": "text/x-python",
   "name": "python",
   "nbconvert_exporter": "python",
   "pygments_lexer": "ipython3",
   "version": "3.8.5"
  }
 },
 "nbformat": 4,
 "nbformat_minor": 4
}
