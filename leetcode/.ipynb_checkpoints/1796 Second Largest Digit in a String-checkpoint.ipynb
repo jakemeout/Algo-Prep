{
 "cells": [
  {
   "cell_type": "code",
   "execution_count": null,
   "metadata": {},
   "outputs": [],
   "source": [
    "class Solution:\n",
    "    def secondHighest(self, s: str) -> int:\n",
    "        flag_higest, flag_second_higest = False, False\n",
    "        for i in range(9,-1,-1):\n",
    "            if str(i) in s:\n",
    "                flag_higest = True\n",
    "                break\n",
    "        if flag_higest:\n",
    "            for k in range(i-1,-1,-1):\n",
    "                if str(k) in s:\n",
    "                    flag_second_higest = True\n",
    "                    second_higest = k\n",
    "                    break\n",
    "        if flag_second_higest:\n",
    "            return second_higest\n",
    "        else:\n",
    "            return -1"
   ]
  },
  {
   "cell_type": "markdown",
   "metadata": {},
   "source": [
    "# Reference\n",
    "\n",
    "[1796. Second Largest Digit in a String](https://leetcode.com/problems/second-largest-digit-in-a-string/)"
   ]
  }
 ],
 "metadata": {
  "kernelspec": {
   "display_name": "Python 3",
   "language": "python",
   "name": "python3"
  },
  "language_info": {
   "codemirror_mode": {
    "name": "ipython",
    "version": 3
   },
   "file_extension": ".py",
   "mimetype": "text/x-python",
   "name": "python",
   "nbconvert_exporter": "python",
   "pygments_lexer": "ipython3",
   "version": "3.8.5"
  }
 },
 "nbformat": 4,
 "nbformat_minor": 4
}
