{
 "cells": [
  {
   "cell_type": "code",
   "execution_count": null,
   "metadata": {},
   "outputs": [],
   "source": [
    "class Solution:\n",
    "    def canFormArray(self, arr, pieces):\n",
    "        if len(arr) != sum([len(piece) for piece in pieces]):\n",
    "            return False\n",
    "        arr2 = [None]*len(arr)\n",
    "        for piece in pieces:\n",
    "            if piece[0] not in arr:\n",
    "                return False\n",
    "            l = len(piece)\n",
    "            indx = arr.index(piece[0])\n",
    "            if arr[indx:indx+l] != piece:\n",
    "                return False\n",
    "            else:\n",
    "                arr2[indx:indx+l] = piece\n",
    "        for i, j in zip(arr,arr2):\n",
    "            if i != j:\n",
    "                return False\n",
    "        return True"
   ]
  },
  {
   "cell_type": "markdown",
   "metadata": {},
   "source": [
    "# Reference\n",
    "\n",
    "[1640. Check Array Formation Through Concatenation](https://leetcode.com/problems/check-array-formation-through-concatenation/)"
   ]
  }
 ],
 "metadata": {
  "kernelspec": {
   "display_name": "Python 3",
   "language": "python",
   "name": "python3"
  },
  "language_info": {
   "codemirror_mode": {
    "name": "ipython",
    "version": 3
   },
   "file_extension": ".py",
   "mimetype": "text/x-python",
   "name": "python",
   "nbconvert_exporter": "python",
   "pygments_lexer": "ipython3",
   "version": "3.8.5"
  }
 },
 "nbformat": 4,
 "nbformat_minor": 4
}
