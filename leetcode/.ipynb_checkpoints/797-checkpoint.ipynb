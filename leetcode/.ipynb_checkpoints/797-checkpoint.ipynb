{
 "cells": [
  {
   "cell_type": "code",
   "execution_count": 28,
   "metadata": {},
   "outputs": [],
   "source": [
    "class Solution:\n",
    "    def allPathsSourceTarget(self, graph):\n",
    "        self.graph = graph\n",
    "        self.start = 0\n",
    "        self.end = len(graph)-1\n",
    "        return self.allPathsSourceTargetHelper(0)\n",
    "    def allPathsSourceTargetHelper(self, start):\n",
    "        if start == self.end:\n",
    "            return [[self.end]]\n",
    "        ans = []\n",
    "        for i in self.graph[start]:\n",
    "            for path in self.allPathsSourceTargetHelper(i):\n",
    "                ans.append([start] + path)\n",
    "        return ans"
   ]
  },
  {
   "cell_type": "code",
   "execution_count": 29,
   "metadata": {},
   "outputs": [
    {
     "data": {
      "text/plain": [
       "[[0, 4], [0, 3, 4], [0, 1, 3, 4], [0, 1, 2, 3, 4], [0, 1, 4]]"
      ]
     },
     "execution_count": 29,
     "metadata": {},
     "output_type": "execute_result"
    }
   ],
   "source": [
    "graph = [[4,3,1],[3,2,4],[3],[4],[]]\n",
    "Solution().allPathsSourceTarget(graph)"
   ]
  },
  {
   "cell_type": "markdown",
   "metadata": {},
   "source": [
    "# Reference\n",
    "\n",
    "[797. All Paths From Source to Target](https://leetcode.com/problems/all-paths-from-source-to-target/)\n",
    "\n",
    "[All Paths From Source to Target | LeetCode 797 | C++, Java, Python3](https://www.youtube.com/watch?v=SZ3zpzQk2jg)"
   ]
  }
 ],
 "metadata": {
  "kernelspec": {
   "display_name": "Python 3",
   "language": "python",
   "name": "python3"
  },
  "language_info": {
   "codemirror_mode": {
    "name": "ipython",
    "version": 3
   },
   "file_extension": ".py",
   "mimetype": "text/x-python",
   "name": "python",
   "nbconvert_exporter": "python",
   "pygments_lexer": "ipython3",
   "version": "3.8.5"
  }
 },
 "nbformat": 4,
 "nbformat_minor": 4
}
