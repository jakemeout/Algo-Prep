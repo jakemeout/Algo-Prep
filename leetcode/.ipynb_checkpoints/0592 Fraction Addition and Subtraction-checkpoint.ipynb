{
 "cells": [
  {
   "cell_type": "code",
   "execution_count": 9,
   "id": "waiting-woman",
   "metadata": {},
   "outputs": [],
   "source": [
    "class Solution:\n",
    "    def fractionAddition(self, expression: str) -> str:\n",
    "        lst = expression.replace(\"+\", \" +\").replace(\"-\", \" -\").split()\n",
    "        A, B = 0, 1\n",
    "        for num in lst:\n",
    "            a, b = num.split(\"/\")\n",
    "            a, b = int(a), int(b)\n",
    "            A = A*b+B*a\n",
    "            B = B*b\n",
    "            devisor = self.gcd(A, B)\n",
    "            A = int(A/devisor); B = int(B/devisor)\n",
    "        return str(A) + \"/\" + str(B)\n",
    "    def gcd(self, i, j):\n",
    "        while j: \n",
    "            i, j = j, i%j\n",
    "        return i"
   ]
  },
  {
   "cell_type": "markdown",
   "id": "constant-illinois",
   "metadata": {},
   "source": [
    "# Reference\n",
    "\n",
    "[592. Fraction Addition and Subtraction](https://leetcode.com/problems/fraction-addition-and-subtraction/)\n",
    "\n",
    "[Simple Python solution, no Fraction, and for people who are not familiar with Regular Expression.](https://leetcode.com/problems/fraction-addition-and-subtraction/discuss/205958/Simple-Python-solution-no-Fraction-and-for-people-who-are-not-familiar-with-Regular-Expression.)"
   ]
  }
 ],
 "metadata": {
  "kernelspec": {
   "display_name": "Python 3",
   "language": "python",
   "name": "python3"
  },
  "language_info": {
   "codemirror_mode": {
    "name": "ipython",
    "version": 3
   },
   "file_extension": ".py",
   "mimetype": "text/x-python",
   "name": "python",
   "nbconvert_exporter": "python",
   "pygments_lexer": "ipython3",
   "version": "3.7.10"
  }
 },
 "nbformat": 4,
 "nbformat_minor": 5
}
