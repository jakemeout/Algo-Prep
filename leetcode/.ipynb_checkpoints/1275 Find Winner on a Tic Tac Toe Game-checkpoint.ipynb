{
 "cells": [
  {
   "cell_type": "code",
   "execution_count": 10,
   "metadata": {},
   "outputs": [],
   "source": [
    "class Solution:\n",
    "    def tictactoe(self, moves):\n",
    "        # construct board configuration\n",
    "        import numpy as np\n",
    "        board = np.array([[10,10,10],[10,10,10],[10,10,10]])\n",
    "        for idx, (i, j) in enumerate(moves):\n",
    "            if idx%2 == 0:\n",
    "                board[i,j] = 1 # 1 means A\n",
    "            else:\n",
    "                board[i,j] = 0 # 0 means B\n",
    "        # determine\n",
    "        for i in range(3):\n",
    "            tmp = np.sum(board[i,:])\n",
    "            if tmp == 3:\n",
    "                return 'A'\n",
    "            elif tmp == 0:\n",
    "                return 'B'\n",
    "        for j in range(3):\n",
    "            tmp = np.sum(board[:,j])\n",
    "            if tmp == 3:\n",
    "                return 'A'\n",
    "            elif tmp == 0:\n",
    "                return 'B'\n",
    "        tmp = np.sum(np.diag(board))\n",
    "        if tmp == 3:\n",
    "            return 'A'\n",
    "        elif tmp == 0:\n",
    "            return 'B'\n",
    "        #print(board)\n",
    "        board = np.fliplr(board)\n",
    "        #print(board)\n",
    "        tmp = np.sum(np.diag(board))\n",
    "        if tmp == 3:\n",
    "            return 'A'\n",
    "        elif tmp == 0:\n",
    "            return 'B'\n",
    "        tmp = np.sum(board)\n",
    "        if tmp == 5:\n",
    "            return 'Draw'\n",
    "        else:\n",
    "            return 'Pending'"
   ]
  },
  {
   "cell_type": "code",
   "execution_count": 11,
   "metadata": {},
   "outputs": [
    {
     "data": {
      "text/plain": [
       "'Draw'"
      ]
     },
     "execution_count": 11,
     "metadata": {},
     "output_type": "execute_result"
    }
   ],
   "source": [
    "moves = [[0,0],[1,1],[2,0],[1,0],[1,2],[2,1],[0,1],[0,2],[2,2]]\n",
    "Solution().tictactoe(moves) # 'Draw'"
   ]
  },
  {
   "cell_type": "markdown",
   "metadata": {},
   "source": [
    "# Reference\n",
    "\n",
    "[1275. Find Winner on a Tic Tac Toe Game](https://leetcode.com/problems/find-winner-on-a-tic-tac-toe-game/)"
   ]
  }
 ],
 "metadata": {
  "kernelspec": {
   "display_name": "Python 3",
   "language": "python",
   "name": "python3"
  },
  "language_info": {
   "codemirror_mode": {
    "name": "ipython",
    "version": 3
   },
   "file_extension": ".py",
   "mimetype": "text/x-python",
   "name": "python",
   "nbconvert_exporter": "python",
   "pygments_lexer": "ipython3",
   "version": "3.8.5"
  }
 },
 "nbformat": 4,
 "nbformat_minor": 4
}
