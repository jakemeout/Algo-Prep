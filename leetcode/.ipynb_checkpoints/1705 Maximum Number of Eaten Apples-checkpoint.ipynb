{
 "cells": [
  {
   "cell_type": "code",
   "execution_count": 42,
   "metadata": {},
   "outputs": [],
   "source": [
    "class Solution:\n",
    "    def eatenApples(self, apples, days):\n",
    "        from heapq import heapify, heappop, heappush\n",
    "        ans = 0\n",
    "        pq = []\n",
    "        \n",
    "        for time, (n_apples, day) in enumerate(zip(apples,days)):\n",
    "            if n_apples != 0:\n",
    "                heappush(pq,((time+day),n_apples))\n",
    "                #print(time, n_apples, day, ((time+day),n_apples),pq,'--->',end=' ')\n",
    "            if pq == []:\n",
    "                continue\n",
    "            else:\n",
    "                while True:\n",
    "                    if pq == []:\n",
    "                        flag_no_apple = True\n",
    "                        break\n",
    "                    rotten_time, n_apples = heappop(pq)\n",
    "                    if rotten_time > time:\n",
    "                        flag_no_apple = False\n",
    "                        break\n",
    "                if not flag_no_apple:\n",
    "                    ans += 1\n",
    "                    if n_apples-1 != 0: \n",
    "                        heappush(pq,(rotten_time,n_apples-1))\n",
    "                #print(pq)\n",
    "                \n",
    "        while pq:\n",
    "            time += 1\n",
    "            while True:\n",
    "                if pq == []:\n",
    "                    flag_no_apple = True\n",
    "                    break\n",
    "                rotten_time, n_apples = heappop(pq)\n",
    "                if rotten_time > time:\n",
    "                        flag_no_apple = False\n",
    "                        break\n",
    "            if not flag_no_apple:\n",
    "                ans += 1\n",
    "                if n_apples-1 != 0: \n",
    "                    heappush(pq,(rotten_time,n_apples-1))\n",
    "                #print(pq)\n",
    "            \n",
    "        return ans"
   ]
  },
  {
   "cell_type": "code",
   "execution_count": 43,
   "metadata": {},
   "outputs": [
    {
     "data": {
      "text/plain": [
       "5"
      ]
     },
     "execution_count": 43,
     "metadata": {},
     "output_type": "execute_result"
    }
   ],
   "source": [
    "apples = [3,0,0,0,0,2]\n",
    "days = [3,0,0,0,0,2]\n",
    "Solution().eatenApples(apples, days) # 5"
   ]
  },
  {
   "cell_type": "markdown",
   "metadata": {},
   "source": [
    "# Reference\n",
    "\n",
    "[1705. Maximum Number of Eaten Apples](https://leetcode.com/problems/maximum-number-of-eaten-apples/)\n",
    "\n",
    "[Leetcode 1705. Maximum Number of Eaten Apples](https://www.youtube.com/watch?v=a5K-lNdNFtQ)"
   ]
  }
 ],
 "metadata": {
  "kernelspec": {
   "display_name": "Python 3",
   "language": "python",
   "name": "python3"
  },
  "language_info": {
   "codemirror_mode": {
    "name": "ipython",
    "version": 3
   },
   "file_extension": ".py",
   "mimetype": "text/x-python",
   "name": "python",
   "nbconvert_exporter": "python",
   "pygments_lexer": "ipython3",
   "version": "3.8.5"
  }
 },
 "nbformat": 4,
 "nbformat_minor": 4
}
