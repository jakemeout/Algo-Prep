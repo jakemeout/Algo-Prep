{
 "cells": [
  {
   "cell_type": "code",
   "execution_count": 4,
   "metadata": {},
   "outputs": [],
   "source": [
    "class Solution:\n",
    "    def generate(self, n):\n",
    "        # base case \n",
    "        if n == 1: return [[1]] \n",
    "        \n",
    "        # recursion step\n",
    "        out = self.generate(n-1) \n",
    "        lst = out[-1] # (n-1)-th level pascal's triangle\n",
    "        \n",
    "        # construction of n-th level pascal's triangle\n",
    "        tmp = [1] # n-th level pascal's triangle\n",
    "        for first, second in zip(lst[:-1],lst[1:]): \n",
    "            tmp.append(first+second)\n",
    "        tmp.append(1)\n",
    "        \n",
    "        # append n-th level pascal's triangle\n",
    "        out.append(tmp)\n",
    "        return out"
   ]
  },
  {
   "cell_type": "code",
   "execution_count": 5,
   "metadata": {},
   "outputs": [
    {
     "name": "stdout",
     "output_type": "stream",
     "text": [
      "[[1], [1, 1], [1, 2, 1], [1, 3, 3, 1], [1, 4, 6, 4, 1]]\n"
     ]
    }
   ],
   "source": [
    "n = 5\n",
    "print(Solution().generate(n))"
   ]
  },
  {
   "cell_type": "code",
   "execution_count": 6,
   "metadata": {},
   "outputs": [
    {
     "name": "stdout",
     "output_type": "stream",
     "text": [
      "[[1]]\n"
     ]
    }
   ],
   "source": [
    "n = 1\n",
    "print(Solution().generate(n))"
   ]
  },
  {
   "cell_type": "markdown",
   "metadata": {},
   "source": [
    "# Reference\n",
    "\n",
    "[118. Pascal's Triangle](https://leetcode.com/problems/pascals-triangle/)\n",
    "\n",
    "[LeetCode Pascal's Triangle Solution Explained - Java](https://www.youtube.com/watch?v=icoql2WKmbA&list=PLU_sdQYzUj2keVENTP0a5rdykRSgg9Wp-&index=2)"
   ]
  },
  {
   "cell_type": "code",
   "execution_count": null,
   "metadata": {},
   "outputs": [],
   "source": []
  }
 ],
 "metadata": {
  "kernelspec": {
   "display_name": "Python 3",
   "language": "python",
   "name": "python3"
  },
  "language_info": {
   "codemirror_mode": {
    "name": "ipython",
    "version": 3
   },
   "file_extension": ".py",
   "mimetype": "text/x-python",
   "name": "python",
   "nbconvert_exporter": "python",
   "pygments_lexer": "ipython3",
   "version": "3.8.5"
  }
 },
 "nbformat": 4,
 "nbformat_minor": 4
}
