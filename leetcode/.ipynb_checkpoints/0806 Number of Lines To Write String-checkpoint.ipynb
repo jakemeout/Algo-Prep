{
 "cells": [
  {
   "cell_type": "code",
   "execution_count": null,
   "metadata": {},
   "outputs": [],
   "source": [
    "class Solution:\n",
    "    def numberOfLines(self, widths: List[int], s: str) -> List[int]:\n",
    "        d = {}\n",
    "        for alphabet, width in zip(\"abcdefghijklmnopqrstuvwxyz\",widths):\n",
    "            d[alphabet] = width\n",
    "        n_complete_lines = 0\n",
    "        cur = 0\n",
    "        lst = list(s)[::-1]\n",
    "        while lst:\n",
    "            alphabet = lst.pop()\n",
    "            width = d[alphabet]\n",
    "            cur += width\n",
    "            if cur > 100:\n",
    "                n_complete_lines += 1\n",
    "                cur = width\n",
    "        return n_complete_lines+1, cur "
   ]
  },
  {
   "cell_type": "markdown",
   "metadata": {},
   "source": [
    "# Reference\n",
    "\n",
    "[806. Number of Lines To Write String](https://leetcode.com/problems/number-of-lines-to-write-string/)"
   ]
  }
 ],
 "metadata": {
  "kernelspec": {
   "display_name": "Python 3",
   "language": "python",
   "name": "python3"
  },
  "language_info": {
   "codemirror_mode": {
    "name": "ipython",
    "version": 3
   },
   "file_extension": ".py",
   "mimetype": "text/x-python",
   "name": "python",
   "nbconvert_exporter": "python",
   "pygments_lexer": "ipython3",
   "version": "3.8.5"
  }
 },
 "nbformat": 4,
 "nbformat_minor": 4
}
