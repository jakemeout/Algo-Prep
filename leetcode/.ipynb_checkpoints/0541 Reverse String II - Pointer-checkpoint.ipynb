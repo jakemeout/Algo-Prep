{
 "cells": [
  {
   "cell_type": "code",
   "execution_count": 5,
   "metadata": {},
   "outputs": [],
   "source": [
    "class Solution:\n",
    "    def reverseStr(self, s: str, k: int) -> str:\n",
    "        # if len(s) <= k, reverse and return\n",
    "        if len(s) <= k:\n",
    "            return s[::-1]\n",
    "        # general case\n",
    "        out = ''\n",
    "        for idx, i in enumerate(range(0,len(s),k)):\n",
    "            if i == len(s)-(k-1):\n",
    "                if idx%2 == 0:\n",
    "                    out += s[i:][::-1]\n",
    "                else:\n",
    "                    out += s[i:]\n",
    "                continue\n",
    "            if idx%2 == 0:\n",
    "                out += s[i:i+k][::-1]\n",
    "            else:\n",
    "                out += s[i:i+k]\n",
    "        return out"
   ]
  },
  {
   "cell_type": "code",
   "execution_count": 6,
   "metadata": {},
   "outputs": [
    {
     "data": {
      "text/plain": [
       "'bacdfeg'"
      ]
     },
     "execution_count": 6,
     "metadata": {},
     "output_type": "execute_result"
    }
   ],
   "source": [
    "s = \"abcdefg\"\n",
    "k = 2\n",
    "Solution().reverseStr(s, k) # \"bacdfeg\""
   ]
  },
  {
   "cell_type": "markdown",
   "metadata": {},
   "source": [
    "# Reference\n",
    "\n",
    "[541. Reverse String II](https://leetcode.com/problems/reverse-string-ii/)"
   ]
  },
  {
   "cell_type": "code",
   "execution_count": null,
   "metadata": {},
   "outputs": [],
   "source": []
  },
  {
   "cell_type": "code",
   "execution_count": null,
   "metadata": {},
   "outputs": [],
   "source": []
  }
 ],
 "metadata": {
  "kernelspec": {
   "display_name": "Python 3",
   "language": "python",
   "name": "python3"
  },
  "language_info": {
   "codemirror_mode": {
    "name": "ipython",
    "version": 3
   },
   "file_extension": ".py",
   "mimetype": "text/x-python",
   "name": "python",
   "nbconvert_exporter": "python",
   "pygments_lexer": "ipython3",
   "version": "3.8.5"
  }
 },
 "nbformat": 4,
 "nbformat_minor": 4
}
