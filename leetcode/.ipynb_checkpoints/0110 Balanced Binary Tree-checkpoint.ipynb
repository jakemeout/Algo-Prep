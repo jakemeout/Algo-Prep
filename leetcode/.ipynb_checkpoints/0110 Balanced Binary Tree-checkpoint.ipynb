{
 "cells": [
  {
   "cell_type": "code",
   "execution_count": null,
   "metadata": {},
   "outputs": [],
   "source": [
    "#Definition for a binary tree node.\n",
    "class TreeNode:\n",
    "    def __init__(self, val=0, left=None, right=None):\n",
    "        self.val = val\n",
    "        self.left = left\n",
    "        self.right = right"
   ]
  },
  {
   "cell_type": "code",
   "execution_count": null,
   "metadata": {},
   "outputs": [],
   "source": [
    "class Solution:\n",
    "    def isBalanced(self, root: TreeNode) -> bool:\n",
    "        # base cases\n",
    "        # no root\n",
    "        if not root:\n",
    "            return True\n",
    "        # no left, no right\n",
    "        elif (not root.left) and (not root.right):\n",
    "            return True\n",
    "        # recursion step\n",
    "        if (root.left) and (not root.right):\n",
    "            return self.computeHeight(root.left) == 1\n",
    "        if (not root.left) and (root.right):\n",
    "            return self.computeHeight(root.right) == 1\n",
    "        if (root.left) and (root.right):\n",
    "            if self.isBalanced(root.left):\n",
    "                if self.isBalanced(root.right):\n",
    "                    if abs(self.computeHeight(root.left) - self.computeHeight(root.right)) <= 1:\n",
    "                        return True\n",
    "            return False\n",
    "    def computeHeight(self, root: TreeNode) -> int:\n",
    "        # base cases\n",
    "        # no root\n",
    "        if not root:\n",
    "            return 0\n",
    "        # no left, no right\n",
    "        elif (not root.left) and (not root.right):\n",
    "            return 1\n",
    "        # recursion step\n",
    "        if (root.left) and (not root.right):\n",
    "            return 1 + self.computeHeight(root.left)\n",
    "        if (not root.left) and (root.right):\n",
    "            return 1 + self.computeHeight(root.right)\n",
    "        if (root.left) and (root.right):\n",
    "            return 1 + max(self.computeHeight(root.left), self.computeHeight(root.right))"
   ]
  },
  {
   "cell_type": "markdown",
   "metadata": {},
   "source": [
    "# Reference\n",
    "\n",
    "[110. Balanced Binary Tree](https://leetcode.com/problems/balanced-binary-tree/)"
   ]
  }
 ],
 "metadata": {
  "kernelspec": {
   "display_name": "Python 3",
   "language": "python",
   "name": "python3"
  },
  "language_info": {
   "codemirror_mode": {
    "name": "ipython",
    "version": 3
   },
   "file_extension": ".py",
   "mimetype": "text/x-python",
   "name": "python",
   "nbconvert_exporter": "python",
   "pygments_lexer": "ipython3",
   "version": "3.8.5"
  }
 },
 "nbformat": 4,
 "nbformat_minor": 4
}
