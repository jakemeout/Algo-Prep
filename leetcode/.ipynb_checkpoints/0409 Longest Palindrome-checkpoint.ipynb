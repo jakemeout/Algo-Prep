{
 "cells": [
  {
   "cell_type": "code",
   "execution_count": null,
   "metadata": {},
   "outputs": [],
   "source": [
    "class Solution:\n",
    "    def longestPalindrome(self, s: str) -> int:\n",
    "        # construct counter dict d\n",
    "        d = {}\n",
    "        for char in s:\n",
    "            if char in d:\n",
    "                d[char] += 1\n",
    "            else:\n",
    "                d[char] = 1\n",
    "        # compute longest palindrome lenth out\n",
    "        out = 0 \n",
    "        odd_flag = False\n",
    "        for char in d:\n",
    "            if d[char]%2 == 1:\n",
    "                odd_flag = True\n",
    "            out += (d[char]//2)*2\n",
    "        if odd_flag:\n",
    "            out += 1\n",
    "        return out"
   ]
  },
  {
   "cell_type": "markdown",
   "metadata": {},
   "source": [
    "# Reference\n",
    "\n",
    "[409. Longest Palindrome](https://leetcode.com/problems/longest-palindrome/)"
   ]
  }
 ],
 "metadata": {
  "kernelspec": {
   "display_name": "Python 3",
   "language": "python",
   "name": "python3"
  },
  "language_info": {
   "codemirror_mode": {
    "name": "ipython",
    "version": 3
   },
   "file_extension": ".py",
   "mimetype": "text/x-python",
   "name": "python",
   "nbconvert_exporter": "python",
   "pygments_lexer": "ipython3",
   "version": "3.8.5"
  }
 },
 "nbformat": 4,
 "nbformat_minor": 4
}
