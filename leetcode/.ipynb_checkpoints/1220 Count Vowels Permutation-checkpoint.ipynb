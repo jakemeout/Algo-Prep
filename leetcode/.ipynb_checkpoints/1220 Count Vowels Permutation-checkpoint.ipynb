{
 "cells": [
  {
   "cell_type": "code",
   "execution_count": null,
   "id": "sixth-parade",
   "metadata": {},
   "outputs": [],
   "source": [
    "# use extra memory\n",
    "class Solution:\n",
    "    def countVowelPermutation(self, n: int) -> int:\n",
    "        MOD = 10**9 + 7\n",
    "        \n",
    "        # memo initialization\n",
    "        # memo[vowel][i] - number of length i strings with starting character vowel\n",
    "        memo = {}\n",
    "        for vowel in ['a', 'e', 'i', 'o', 'u']:\n",
    "            memo[vowel] = [None] * (n+1)\n",
    "        \n",
    "        # compute memo using dynamic programming\n",
    "        for i in range(1,n+1):\n",
    "            for vowel in ['a', 'e', 'i', 'o', 'u']:\n",
    "                if i == 1:\n",
    "                    memo[vowel][i] = 1\n",
    "                elif vowel == 'a':\n",
    "                    memo[vowel][i] = memo['e'][i-1] % MOD\n",
    "                elif vowel == 'e':\n",
    "                    memo[vowel][i] = (memo['a'][i-1] + memo['i'][i-1]) % MOD\n",
    "                elif vowel == 'i':\n",
    "                    memo[vowel][i] = (memo['a'][i-1] + memo['e'][i-1] + memo['o'][i-1] + memo['u'][i-1]) % MOD\n",
    "                elif vowel == 'o':\n",
    "                    memo[vowel][i] = (memo['i'][i-1] + memo['u'][i-1]) % MOD \n",
    "                elif vowel == 'u':\n",
    "                    memo[vowel][i] = (memo['a'][i-1]) % MOD\n",
    "        \n",
    "        # return final answer\n",
    "        ans = 0\n",
    "        for vowel in ['a', 'e', 'i', 'o', 'u']:\n",
    "            ans += memo[vowel][n]\n",
    "        return ans % MOD"
   ]
  },
  {
   "cell_type": "markdown",
   "id": "olive-paste",
   "metadata": {},
   "source": [
    "<div align=\"center\"><img src=\"https://assets.leetcode.com/users/elliotp/image_1570334689.png\" width=\"70%\"></div>\n",
    "\n",
    "[Simple Python (With Diagram)](https://leetcode.com/problems/count-vowels-permutation/discuss/398286/Simple-Python-(With-Diagram))"
   ]
  },
  {
   "cell_type": "code",
   "execution_count": null,
   "id": "substantial-meditation",
   "metadata": {},
   "outputs": [],
   "source": [
    "# don't use extra memory\n",
    "class Solution:\n",
    "    def countVowelPermutation(self, n: int) -> int:\n",
    "        a, e, i, o, u = 1, 1, 1, 1, 1 # count number of vowel in tree level 1\n",
    "        for _ in range(n - 1):\n",
    "            a, e, i, o, u = e + i + u, a + i, e + o, i, i + o # count number of vowel in specific tree level \n",
    "        return (a + e + i + o + u) % (10**9 + 7)"
   ]
  },
  {
   "cell_type": "markdown",
   "id": "bridal-development",
   "metadata": {},
   "source": [
    "# Reference\n",
    "\n",
    "[1220. Count Vowels Permutation](https://leetcode.com/problems/count-vowels-permutation/)\n",
    "\n",
    "[Simple Python (With Diagram)](https://leetcode.com/problems/count-vowels-permutation/discuss/398286/Simple-Python-(With-Diagram))"
   ]
  }
 ],
 "metadata": {
  "kernelspec": {
   "display_name": "Python 3",
   "language": "python",
   "name": "python3"
  },
  "language_info": {
   "codemirror_mode": {
    "name": "ipython",
    "version": 3
   },
   "file_extension": ".py",
   "mimetype": "text/x-python",
   "name": "python",
   "nbconvert_exporter": "python",
   "pygments_lexer": "ipython3",
   "version": "3.7.10"
  }
 },
 "nbformat": 4,
 "nbformat_minor": 5
}
