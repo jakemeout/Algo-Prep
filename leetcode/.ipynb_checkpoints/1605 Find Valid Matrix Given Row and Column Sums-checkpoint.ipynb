{
 "cells": [
  {
   "cell_type": "code",
   "execution_count": null,
   "metadata": {},
   "outputs": [],
   "source": [
    "class Solution:\n",
    "    def restoreMatrix(self, rowSum: List[int], colSum: List[int]) -> List[List[int]]:\n",
    "        m, n = len(rowSum), len(colSum)\n",
    "        A = [[0] * n for i in range(m)]\n",
    "        for i in range(m):\n",
    "            for j in range(n):\n",
    "                A[i][j] = min(rowSum[i], colSum[j])\n",
    "                rowSum[i] -= A[i][j]\n",
    "                colSum[j] -= A[i][j]\n",
    "        return A"
   ]
  },
  {
   "cell_type": "markdown",
   "metadata": {},
   "source": [
    "# Reference\n",
    "\n",
    "[1605. Find Valid Matrix Given Row and Column Sums](https://leetcode.com/problems/find-valid-matrix-given-row-and-column-sums/)\n",
    "\n",
    "[[Java/C++/Python] Easy and Concise with Prove](https://leetcode.com/problems/find-valid-matrix-given-row-and-column-sums/discuss/876845/JavaC%2B%2BPython-Easy-and-Concise-with-Prove)"
   ]
  }
 ],
 "metadata": {
  "kernelspec": {
   "display_name": "Python 3",
   "language": "python",
   "name": "python3"
  },
  "language_info": {
   "codemirror_mode": {
    "name": "ipython",
    "version": 3
   },
   "file_extension": ".py",
   "mimetype": "text/x-python",
   "name": "python",
   "nbconvert_exporter": "python",
   "pygments_lexer": "ipython3",
   "version": "3.8.5"
  }
 },
 "nbformat": 4,
 "nbformat_minor": 4
}
