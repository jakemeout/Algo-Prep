{
 "cells": [
  {
   "cell_type": "code",
   "execution_count": null,
   "metadata": {},
   "outputs": [],
   "source": [
    "class Solution:\n",
    "    def isOneBitCharacter(self, bits):\n",
    "        # base cases\n",
    "        if len(bits) == 0:\n",
    "            return False\n",
    "        elif len(bits) == 1 and bits[0] == 0:\n",
    "            return True\n",
    "        elif len(bits) == 1:\n",
    "            return False\n",
    "        # recursion steps\n",
    "        if bits[0] == 0:\n",
    "            return self.isOneBitCharacter(bits[1:])\n",
    "        else:\n",
    "            return self.isOneBitCharacter(bits[2:])"
   ]
  },
  {
   "cell_type": "markdown",
   "metadata": {},
   "source": [
    "# Reference\n",
    "\n",
    "[717. 1-bit and 2-bit Characters](https://leetcode.com/problems/1-bit-and-2-bit-characters/)"
   ]
  }
 ],
 "metadata": {
  "kernelspec": {
   "display_name": "Python 3",
   "language": "python",
   "name": "python3"
  },
  "language_info": {
   "codemirror_mode": {
    "name": "ipython",
    "version": 3
   },
   "file_extension": ".py",
   "mimetype": "text/x-python",
   "name": "python",
   "nbconvert_exporter": "python",
   "pygments_lexer": "ipython3",
   "version": "3.8.5"
  }
 },
 "nbformat": 4,
 "nbformat_minor": 4
}
