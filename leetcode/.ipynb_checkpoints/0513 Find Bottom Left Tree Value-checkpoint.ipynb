{
 "cells": [
  {
   "cell_type": "code",
   "execution_count": null,
   "metadata": {},
   "outputs": [],
   "source": [
    "class TreeNode:\n",
    "    def __init__(self, val=0, left=None, right=None):\n",
    "        self.val = val\n",
    "        self.left = left\n",
    "        self.right = right"
   ]
  },
  {
   "cell_type": "code",
   "execution_count": null,
   "metadata": {},
   "outputs": [],
   "source": [
    "from collections import deque\n",
    "class Solution:\n",
    "    def findBottomLeftValue(self, root: TreeNode) -> int:\n",
    "        q = deque([[root, 0]]) # [[node, level], ...]\n",
    "        level_val_list = {} # {level : level_val_list}\n",
    "        while q:\n",
    "            node, level = q.popleft()\n",
    "            if level in level_val_list:\n",
    "                level_val_list[level].append(node.val)\n",
    "            else:\n",
    "                level_val_list[level] = [node.val]\n",
    "                \n",
    "            if node.left:\n",
    "                q.append([node.left, level + 1])\n",
    "            if node.right:\n",
    "                q.append([node.right, level + 1])\n",
    "\n",
    "        last_level = max(level_val_list)\n",
    "        return level_val_list[last_level][0]"
   ]
  },
  {
   "cell_type": "markdown",
   "metadata": {},
   "source": [
    "# Reference\n",
    "\n",
    "[513. Find Bottom Left Tree Value](https://leetcode.com/problems/find-bottom-left-tree-value/)"
   ]
  }
 ],
 "metadata": {
  "kernelspec": {
   "display_name": "Python 3",
   "language": "python",
   "name": "python3"
  },
  "language_info": {
   "codemirror_mode": {
    "name": "ipython",
    "version": 3
   },
   "file_extension": ".py",
   "mimetype": "text/x-python",
   "name": "python",
   "nbconvert_exporter": "python",
   "pygments_lexer": "ipython3",
   "version": "3.8.5"
  }
 },
 "nbformat": 4,
 "nbformat_minor": 4
}
