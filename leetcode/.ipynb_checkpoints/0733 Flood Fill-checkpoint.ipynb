{
 "cells": [
  {
   "cell_type": "code",
   "execution_count": 46,
   "metadata": {},
   "outputs": [],
   "source": [
    "class Solution:\n",
    "    def floodFill(self, image, sr, sc, newColor):\n",
    "        from copy import deepcopy\n",
    "        self.out = deepcopy(image)\n",
    "        self.image = image\n",
    "        self.r = len(image)\n",
    "        self.c = len(image[0])\n",
    "        self.flag = [] # flag for painting\n",
    "        for _ in range(self.r):\n",
    "            self.flag.append([False]*self.c) \n",
    "        print(self.flag)\n",
    "        self.sr, self.sc= sr, sc\n",
    "        self.original_color = self.image[self.sr][self.sc]\n",
    "        self.newColor = newColor\n",
    "        self.paintNode(self.sr,self.sc)\n",
    "        return self.out \n",
    "    def paintNode(self, r, c):\n",
    "        if (self.image[r][c] == self.original_color) and (self.flag[r][c] == False):\n",
    "            self.out[r][c] = self.newColor\n",
    "            self.flag[r][c] = True\n",
    "        for r_, c_ in [(r+1,c),(r-1,c),(r,c+1),(r,c-1)]:\n",
    "            if (0<=r_<self.r) and (0<=c_<self.c):\n",
    "                if (self.image[r_][c_] == self.original_color) and (self.flag[r_][c_] == False):\n",
    "                    self.paintNode(r_, c_)  "
   ]
  },
  {
   "cell_type": "code",
   "execution_count": 47,
   "metadata": {},
   "outputs": [
    {
     "name": "stdout",
     "output_type": "stream",
     "text": [
      "[[False, False, False], [False, False, False], [False, False, False]]\n"
     ]
    },
    {
     "data": {
      "text/plain": [
       "[[2, 2, 2], [2, 2, 0], [2, 0, 1]]"
      ]
     },
     "execution_count": 47,
     "metadata": {},
     "output_type": "execute_result"
    }
   ],
   "source": [
    "image = [[1,1,1],[1,1,0],[1,0,1]]\n",
    "sr = 1\n",
    "sc = 1\n",
    "newColor = 2\n",
    "Solution().floodFill(image, sr, sc, newColor)"
   ]
  },
  {
   "cell_type": "code",
   "execution_count": 38,
   "metadata": {},
   "outputs": [
    {
     "data": {
      "text/plain": [
       "[[False, False, False], [False, True, False], [False, False, False]]"
      ]
     },
     "execution_count": 38,
     "metadata": {},
     "output_type": "execute_result"
    }
   ],
   "source": [
    "flag = [[False, False, False], [False, False, False], [False, False, False]]\n",
    "flag[1][1] = True\n",
    "flag"
   ]
  },
  {
   "cell_type": "code",
   "execution_count": 39,
   "metadata": {},
   "outputs": [
    {
     "data": {
      "text/plain": [
       "[[False, True, False], [False, True, False], [False, True, False]]"
      ]
     },
     "execution_count": 39,
     "metadata": {},
     "output_type": "execute_result"
    }
   ],
   "source": [
    "flag = [[False]*3]*3\n",
    "flag[1][1] = True\n",
    "flag"
   ]
  },
  {
   "cell_type": "markdown",
   "metadata": {},
   "source": [
    "# Reference\n",
    "\n",
    "[733. Flood Fill](https://leetcode.com/problems/flood-fill/)"
   ]
  }
 ],
 "metadata": {
  "kernelspec": {
   "display_name": "Python 3",
   "language": "python",
   "name": "python3"
  },
  "language_info": {
   "codemirror_mode": {
    "name": "ipython",
    "version": 3
   },
   "file_extension": ".py",
   "mimetype": "text/x-python",
   "name": "python",
   "nbconvert_exporter": "python",
   "pygments_lexer": "ipython3",
   "version": "3.8.5"
  }
 },
 "nbformat": 4,
 "nbformat_minor": 4
}
