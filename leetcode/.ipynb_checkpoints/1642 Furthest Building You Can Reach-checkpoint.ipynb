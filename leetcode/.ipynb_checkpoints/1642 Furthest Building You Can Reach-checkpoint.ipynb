{
 "cells": [
  {
   "cell_type": "code",
   "execution_count": null,
   "metadata": {},
   "outputs": [],
   "source": [
    "class Solution:\n",
    "    def furthestBuilding(self, heights, bricks, ladders):\n",
    "        from heapq import heappush, heappop\n",
    "        n = len(heights)\n",
    "        bricks_used = 0\n",
    "        pq = []\n",
    "\n",
    "        for i in range(n-1):\n",
    "            diff = heights[i+1] - heights[i]\n",
    "            if diff <= 0: # if diff <= 0, its a free ride\n",
    "                continue # move to next building with no cost\n",
    "                \n",
    "            bricks_used += diff\n",
    "            heappush(pq, -diff)\n",
    "            if bricks_used > bricks:\n",
    "                if ladders == 0:\n",
    "                    return i\n",
    "                else:\n",
    "                    ladders -= 1\n",
    "                    bricks_used += heappop(pq)\n",
    "        return n-1"
   ]
  },
  {
   "cell_type": "markdown",
   "metadata": {},
   "source": [
    "# Reference\n",
    "\n",
    "[1642. Furthest Building You Can Reach](https://leetcode.com/problems/furthest-building-you-can-reach/)\n",
    "\n",
    "[LeetCode 1642. Furthest Building You Can Reach](https://www.youtube.com/watch?v=EPtIrex0EfQ)"
   ]
  }
 ],
 "metadata": {
  "kernelspec": {
   "display_name": "Python 3",
   "language": "python",
   "name": "python3"
  },
  "language_info": {
   "codemirror_mode": {
    "name": "ipython",
    "version": 3
   },
   "file_extension": ".py",
   "mimetype": "text/x-python",
   "name": "python",
   "nbconvert_exporter": "python",
   "pygments_lexer": "ipython3",
   "version": "3.8.5"
  }
 },
 "nbformat": 4,
 "nbformat_minor": 4
}
