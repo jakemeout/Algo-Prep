{
 "cells": [
  {
   "cell_type": "code",
   "execution_count": null,
   "metadata": {},
   "outputs": [],
   "source": [
    "from math import factorial, prod\n",
    "from itertools import product\n",
    "\n",
    "class Solution:\n",
    "    \n",
    "    def multinomial(self, n):\n",
    "        \"\"\"\n",
    "        :type n: List[int]\n",
    "        :rtype: float\n",
    "        \"\"\"\n",
    "        return factorial(sum(n))/prod([factorial(i) for i in n])\n",
    "  \n",
    "    def getProbability(self, balls):\n",
    "        \"\"\"\n",
    "        :type balls: List[int]\n",
    "        :rtype: float\n",
    "        \"\"\"\n",
    "        count = 0\n",
    "        n = sum(balls) // 2\n",
    "        arrays = [range(0,i+1) for i in balls]\n",
    "        t = list(product(*arrays))\n",
    "        for i in range(len(t)):\n",
    "            if sum(t[i]) == n and t[i].count(0) == t[-i-1].count(0):\n",
    "                count += self.multinomial(t[i]) * self.multinomial(t[-i-1]) \n",
    "        return count / self.multinomial(balls)   "
   ]
  },
  {
   "cell_type": "markdown",
   "metadata": {},
   "source": [
    "# Reference\n",
    "\n",
    "[1467. Probability of a Two Boxes Having The Same Number of Distinct Balls](https://leetcode.com/problems/probability-of-a-two-boxes-having-the-same-number-of-distinct-balls/)\n",
    "\n",
    "[[Python] 10 Lines, 90%, Multionomial coefficients, explained](https://leetcode.com/problems/probability-of-a-two-boxes-having-the-same-number-of-distinct-balls/discuss/661757/Python-10-Lines-90-Multionomial-coefficients-explained)"
   ]
  },
  {
   "cell_type": "code",
   "execution_count": null,
   "metadata": {},
   "outputs": [],
   "source": []
  }
 ],
 "metadata": {
  "kernelspec": {
   "display_name": "Python 3",
   "language": "python",
   "name": "python3"
  },
  "language_info": {
   "codemirror_mode": {
    "name": "ipython",
    "version": 3
   },
   "file_extension": ".py",
   "mimetype": "text/x-python",
   "name": "python",
   "nbconvert_exporter": "python",
   "pygments_lexer": "ipython3",
   "version": "3.8.5"
  }
 },
 "nbformat": 4,
 "nbformat_minor": 4
}
