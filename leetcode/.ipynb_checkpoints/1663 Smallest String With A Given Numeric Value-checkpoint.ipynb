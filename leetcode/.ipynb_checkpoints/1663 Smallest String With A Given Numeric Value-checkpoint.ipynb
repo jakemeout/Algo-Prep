{
 "cells": [
  {
   "cell_type": "markdown",
   "metadata": {},
   "source": [
    "$$\\begin{array}{ccc}\n",
    "\\underbrace{aa\\ldots aa}_{\\text{$p=$number of $a$}}&?&zz\\ldots zz\\\\\n",
    "&\\uparrow&\\\\\n",
    "&\\text{$?$ cannot be $z$}&\\\\\n",
    "&\\text{$q=$numeric value of $?$}&\\\\\n",
    "\\end{array}$$\n",
    "$$$$\n",
    "$$\n",
    "p * 1 + q + 26*(n - p - 1) = k\n",
    "\\quad\\Rightarrow\\quad\n",
    "p \\le (26*n - k - 1)//25\n",
    "$$"
   ]
  },
  {
   "cell_type": "code",
   "execution_count": null,
   "metadata": {},
   "outputs": [],
   "source": [
    "class Solution:\n",
    "    def getSmallestString(self, n, k):\n",
    "        p = max(0, (26*n - k - 1)//25)\n",
    "        q = k - 26*n + 25*p + 26\n",
    "        return \"a\"*p + chr(96 + q) + \"z\"*(n-p-1)"
   ]
  },
  {
   "cell_type": "markdown",
   "metadata": {},
   "source": [
    "# Reference\n",
    "\n",
    "[1663. Smallest String With A Given Numeric Value](https://leetcode.com/problems/smallest-string-with-a-given-numeric-value/)\n",
    "\n",
    "[[Python] O(n) math solution, explained](https://leetcode.com/problems/smallest-string-with-a-given-numeric-value/discuss/1038740/Python-O(n)-math-solution-explained)"
   ]
  },
  {
   "cell_type": "code",
   "execution_count": null,
   "metadata": {},
   "outputs": [],
   "source": []
  }
 ],
 "metadata": {
  "kernelspec": {
   "display_name": "Python 3",
   "language": "python",
   "name": "python3"
  },
  "language_info": {
   "codemirror_mode": {
    "name": "ipython",
    "version": 3
   },
   "file_extension": ".py",
   "mimetype": "text/x-python",
   "name": "python",
   "nbconvert_exporter": "python",
   "pygments_lexer": "ipython3",
   "version": "3.8.5"
  }
 },
 "nbformat": 4,
 "nbformat_minor": 4
}
