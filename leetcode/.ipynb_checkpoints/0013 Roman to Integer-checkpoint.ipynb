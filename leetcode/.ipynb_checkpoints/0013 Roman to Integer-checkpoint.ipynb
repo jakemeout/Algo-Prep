{
 "cells": [
  {
   "cell_type": "code",
   "execution_count": 1,
   "metadata": {},
   "outputs": [],
   "source": [
    "class Solution:\n",
    "    def romanToInt(self, s):\n",
    "        lookup = self.make_lookup()\n",
    "        if len(s) == 1: return lookup[s] # base case\n",
    "        s_list = list(s)\n",
    "        out = 0\n",
    "        for s_first, s_second in zip(s_list[:-1],s_list[1:]):\n",
    "            if lookup[s_first] >= lookup[s_second]:\n",
    "                out = out + lookup[s_first]\n",
    "            else:\n",
    "                out = out - lookup[s_first]\n",
    "        out = out + lookup[s_second]\n",
    "        return out        \n",
    "    def make_lookup(self):\n",
    "        out = {}\n",
    "        romans = ['I','V','X','L','C','D','M']\n",
    "        nums = [1,5,10,50,100,500,1000]\n",
    "        for roman, num in zip(romans,nums):\n",
    "            out[roman] = num\n",
    "        return out"
   ]
  },
  {
   "cell_type": "code",
   "execution_count": 2,
   "metadata": {},
   "outputs": [
    {
     "name": "stdout",
     "output_type": "stream",
     "text": [
      "3\n"
     ]
    }
   ],
   "source": [
    "s = 'III'\n",
    "print(Solution().romanToInt(s))"
   ]
  },
  {
   "cell_type": "code",
   "execution_count": 3,
   "metadata": {},
   "outputs": [
    {
     "name": "stdout",
     "output_type": "stream",
     "text": [
      "4\n"
     ]
    }
   ],
   "source": [
    "s = 'IV'\n",
    "print(Solution().romanToInt(s))"
   ]
  },
  {
   "cell_type": "code",
   "execution_count": 4,
   "metadata": {},
   "outputs": [
    {
     "name": "stdout",
     "output_type": "stream",
     "text": [
      "9\n"
     ]
    }
   ],
   "source": [
    "s = 'IX'\n",
    "print(Solution().romanToInt(s))"
   ]
  },
  {
   "cell_type": "code",
   "execution_count": 5,
   "metadata": {},
   "outputs": [
    {
     "name": "stdout",
     "output_type": "stream",
     "text": [
      "58\n"
     ]
    }
   ],
   "source": [
    "s = 'LVIII'\n",
    "print(Solution().romanToInt(s))"
   ]
  },
  {
   "cell_type": "code",
   "execution_count": 6,
   "metadata": {},
   "outputs": [
    {
     "name": "stdout",
     "output_type": "stream",
     "text": [
      "1994\n"
     ]
    }
   ],
   "source": [
    "s = 'MCMXCIV'\n",
    "print(Solution().romanToInt(s))"
   ]
  },
  {
   "cell_type": "markdown",
   "metadata": {},
   "source": [
    "# Reference\n",
    "\n",
    "[13. Roman to Integer](https://leetcode.com/problems/roman-to-integer/)"
   ]
  },
  {
   "cell_type": "code",
   "execution_count": null,
   "metadata": {},
   "outputs": [],
   "source": []
  }
 ],
 "metadata": {
  "kernelspec": {
   "display_name": "Python 3",
   "language": "python",
   "name": "python3"
  },
  "language_info": {
   "codemirror_mode": {
    "name": "ipython",
    "version": 3
   },
   "file_extension": ".py",
   "mimetype": "text/x-python",
   "name": "python",
   "nbconvert_exporter": "python",
   "pygments_lexer": "ipython3",
   "version": "3.8.5"
  }
 },
 "nbformat": 4,
 "nbformat_minor": 4
}
