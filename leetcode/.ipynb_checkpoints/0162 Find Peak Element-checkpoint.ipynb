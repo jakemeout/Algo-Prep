{
 "cells": [
  {
   "cell_type": "code",
   "execution_count": 10,
   "metadata": {},
   "outputs": [],
   "source": [
    "# recursion\n",
    "class Solution:\n",
    "    def findPeakElement(self, lst):\n",
    "        # base cases\n",
    "        if len(lst) == 0: raise Exception('List is empty!')\n",
    "        elif len(lst) == 1: return 0\n",
    "        elif (len(lst) == 2) and (lst[0] >= lst[1]): return 0 \n",
    "        elif len(lst) == 2: return 1 \n",
    "        # Recursion\n",
    "        i = int(len(lst)/2) # center index\n",
    "        left = lst[i-1]\n",
    "        center = lst[i]\n",
    "        right = lst[i+1]\n",
    "        result = self.compare(left,center, right)\n",
    "        if result == 'left': return self.findPeakElement(lst[:i])\n",
    "        elif result == 'right':\n",
    "            return i + self.findPeakElement(lst[i+1:]) + 1\n",
    "        else: return i\n",
    "    def compare(self, left, center, right):\n",
    "        if left > center: return 'left' # 왼쪽이 중앙보다 크면 왼쪽 영역 (left 포함) 에서 찿는다.  \n",
    "        elif right > center: return 'right' # 오른쪽이 중앙보다 크면 오른쪽 영역 (right 포함) 에서 찿는다.   \n",
    "        else: return 'center' # 왼쪽과 오른쪽 모두 중앙보다 작거나 같으면 center가 찿고자하는 1D Peak 이다.            "
   ]
  },
  {
   "cell_type": "code",
   "execution_count": null,
   "metadata": {},
   "outputs": [],
   "source": [
    "# two pointer\n",
    "class Solution:\n",
    "    def findPeakElement(self, lst):\n",
    "        l, r = 0, len(lst) - 1 # left, right pointer\n",
    "        while (l < r):\n",
    "            m = (l + r) // 2\n",
    "            if (lst[m] > lst[m+1]): r = m\n",
    "            else: l = m + 1       \n",
    "        return l"
   ]
  },
  {
   "cell_type": "code",
   "execution_count": 11,
   "metadata": {},
   "outputs": [
    {
     "data": {
      "text/plain": [
       "2"
      ]
     },
     "execution_count": 11,
     "metadata": {},
     "output_type": "execute_result"
    }
   ],
   "source": [
    "lst = [1,2,3,1]\n",
    "Solution().findPeakElement(lst)"
   ]
  },
  {
   "cell_type": "code",
   "execution_count": 12,
   "metadata": {},
   "outputs": [
    {
     "data": {
      "text/plain": [
       "5"
      ]
     },
     "execution_count": 12,
     "metadata": {},
     "output_type": "execute_result"
    }
   ],
   "source": [
    "lst = [1,2,1,3,5,6,4]\n",
    "Solution().findPeakElement(lst)"
   ]
  },
  {
   "cell_type": "markdown",
   "metadata": {},
   "source": [
    "# Reference\n",
    "\n",
    "[162. Find Peak Element](https://leetcode.com/problems/find-peak-element/)"
   ]
  },
  {
   "cell_type": "code",
   "execution_count": null,
   "metadata": {},
   "outputs": [],
   "source": []
  },
  {
   "cell_type": "code",
   "execution_count": null,
   "metadata": {},
   "outputs": [],
   "source": []
  }
 ],
 "metadata": {
  "kernelspec": {
   "display_name": "Python 3",
   "language": "python",
   "name": "python3"
  },
  "language_info": {
   "codemirror_mode": {
    "name": "ipython",
    "version": 3
   },
   "file_extension": ".py",
   "mimetype": "text/x-python",
   "name": "python",
   "nbconvert_exporter": "python",
   "pygments_lexer": "ipython3",
   "version": "3.8.5"
  }
 },
 "nbformat": 4,
 "nbformat_minor": 4
}
