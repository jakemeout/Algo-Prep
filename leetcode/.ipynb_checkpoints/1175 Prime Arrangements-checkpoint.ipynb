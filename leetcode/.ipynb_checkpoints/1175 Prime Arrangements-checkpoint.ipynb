{
 "cells": [
  {
   "cell_type": "code",
   "execution_count": 9,
   "metadata": {},
   "outputs": [],
   "source": [
    "class Solution:\n",
    "    def numPrimeArrangements(self, n: int) -> int: \n",
    "        n_primes = len(self.listPrimes(n))\n",
    "        #print(self.listPrimes(n), n_primes)\n",
    "        n_non_primes = n - n_primes\n",
    "        mod_number = 10**9 + 7\n",
    "        ans = 1\n",
    "        for i in range(1,n_primes+1):\n",
    "            ans = (ans*i) % mod_number\n",
    "        for i in range(1,n_non_primes+1):\n",
    "            ans = (ans*i) % mod_number\n",
    "        return ans\n",
    "    def listPrimes(self, n):\n",
    "        \"\"\"\n",
    "        list up primes p <= n\n",
    "        \"\"\"\n",
    "        if n <= 1:\n",
    "            return []\n",
    "        primes = [2]\n",
    "        primes_range = n\n",
    "        seives = set(range(2,primes_range+1,2))\n",
    "        for p in range(3,primes_range+1,2):\n",
    "            if p not in seives:\n",
    "                #print(p, seives, '->',end=' ')\n",
    "                primes.append(p)\n",
    "                seives.update(range(p,primes_range+1,p))\n",
    "                #print(p, seives)\n",
    "        return primes     "
   ]
  },
  {
   "cell_type": "code",
   "execution_count": 10,
   "metadata": {},
   "outputs": [
    {
     "data": {
      "text/plain": [
       "682289015"
      ]
     },
     "execution_count": 10,
     "metadata": {},
     "output_type": "execute_result"
    }
   ],
   "source": [
    "n = 100\n",
    "Solution().numPrimeArrangements(n) # 682289015"
   ]
  },
  {
   "cell_type": "markdown",
   "metadata": {},
   "source": [
    "# Reference\n",
    "\n",
    "[1175. Prime Arrangements](https://leetcode.com/problems/prime-arrangements/)"
   ]
  }
 ],
 "metadata": {
  "kernelspec": {
   "display_name": "Python 3",
   "language": "python",
   "name": "python3"
  },
  "language_info": {
   "codemirror_mode": {
    "name": "ipython",
    "version": 3
   },
   "file_extension": ".py",
   "mimetype": "text/x-python",
   "name": "python",
   "nbconvert_exporter": "python",
   "pygments_lexer": "ipython3",
   "version": "3.8.5"
  }
 },
 "nbformat": 4,
 "nbformat_minor": 4
}
