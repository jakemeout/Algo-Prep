{
 "cells": [
  {
   "cell_type": "code",
   "execution_count": null,
   "metadata": {},
   "outputs": [],
   "source": [
    "class Solution:\n",
    "    def maxProfit(self, prices):\n",
    "        if not prices:\n",
    "            return 0\n",
    "\n",
    "        # forward traversal, profits record the max profit \n",
    "        # by the ith day, this is the first transaction\n",
    "        profits = []\n",
    "        max_profit = 0\n",
    "        current_min = prices[0]\n",
    "        for price in prices:\n",
    "            current_min = min(current_min, price)\n",
    "            max_profit = max(max_profit, price - current_min)\n",
    "            profits.append(max_profit)\n",
    "\n",
    "        # backward traversal, max_profit records the max profit\n",
    "        # after the ith day, this is the second transaction \n",
    "        total_max = 0    \n",
    "        max_profit = 0\n",
    "        current_max = prices[-1]\n",
    "        for i in range(len(prices) - 1, -1, -1):\n",
    "            current_max = max(current_max, prices[i])\n",
    "            max_profit = max(max_profit, current_max - prices[i])\n",
    "            total_max = max(total_max, max_profit + profits[i])\n",
    "\n",
    "        return total_max"
   ]
  },
  {
   "cell_type": "markdown",
   "metadata": {},
   "source": [
    "# Reference\n",
    "\n",
    "[121. Best Time to Buy and Sell Stock](https://leetcode.com/problems/best-time-to-buy-and-sell-stock/)\n",
    "\n",
    "[122. Best Time to Buy and Sell Stock II](https://leetcode.com/problems/best-time-to-buy-and-sell-stock-ii/)\n",
    "\n",
    "[123. Best Time to Buy and Sell Stock III](https://leetcode.com/problems/best-time-to-buy-and-sell-stock-iii/)\n",
    "\n",
    "[Python DP solution, 120ms](https://leetcode.com/problems/best-time-to-buy-and-sell-stock-iii/discuss/39743/Python-DP-solution-120ms)\n",
    "\n",
    "[Best Time to Buy and Sell Stock iii | LeetCode 123 | C++, Java, Python](https://www.youtube.com/watch?v=0FKn0FSIQYE&list=PL1w8k37X_6L-UQSn0c4DJJmbLb2DzDBkx&index=28)"
   ]
  }
 ],
 "metadata": {
  "kernelspec": {
   "display_name": "Python 3",
   "language": "python",
   "name": "python3"
  },
  "language_info": {
   "codemirror_mode": {
    "name": "ipython",
    "version": 3
   },
   "file_extension": ".py",
   "mimetype": "text/x-python",
   "name": "python",
   "nbconvert_exporter": "python",
   "pygments_lexer": "ipython3",
   "version": "3.8.5"
  }
 },
 "nbformat": 4,
 "nbformat_minor": 4
}
