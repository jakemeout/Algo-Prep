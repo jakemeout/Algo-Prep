{
 "cells": [
  {
   "cell_type": "code",
   "execution_count": null,
   "metadata": {},
   "outputs": [],
   "source": [
    "class Solution:\n",
    "    def checkStraightLine(self, points):\n",
    "        dx, dy = self.dx_dy(points[0], points[1])\n",
    "        # 90 degree straight line\n",
    "        if dx == 0: \n",
    "            for point in points[2:]:\n",
    "                dx1, _ = self.dx_dy(points[0], point)\n",
    "                if dx1 != 0: return False\n",
    "            return True\n",
    "        # 0 degree straight line\n",
    "        if dy == 0: \n",
    "            for point in points[2:]:\n",
    "                _, dy1 = self.dx_dy(points[0], point)\n",
    "                if dy1 != 0: return False\n",
    "            return True\n",
    "        # general case\n",
    "        else:\n",
    "            for point in points[2:]:\n",
    "                dx1, dy1 = self.dx_dy(points[0], point)\n",
    "                if dx*dy1 != dx1*dy: return False\n",
    "            return True\n",
    "    def dx_dy(self, p1, p2):\n",
    "        return p1[0] - p2[0], p1[1] - p2[1] "
   ]
  },
  {
   "cell_type": "markdown",
   "metadata": {},
   "source": [
    "# Reference\n",
    "\n",
    "[1232. Check If It Is a Straight Line](https://leetcode.com/problems/check-if-it-is-a-straight-line/)"
   ]
  }
 ],
 "metadata": {
  "kernelspec": {
   "display_name": "Python 3",
   "language": "python",
   "name": "python3"
  },
  "language_info": {
   "codemirror_mode": {
    "name": "ipython",
    "version": 3
   },
   "file_extension": ".py",
   "mimetype": "text/x-python",
   "name": "python",
   "nbconvert_exporter": "python",
   "pygments_lexer": "ipython3",
   "version": "3.8.5"
  }
 },
 "nbformat": 4,
 "nbformat_minor": 4
}
