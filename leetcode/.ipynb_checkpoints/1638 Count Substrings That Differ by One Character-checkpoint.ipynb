{
 "cells": [
  {
   "cell_type": "code",
   "execution_count": null,
   "metadata": {},
   "outputs": [],
   "source": [
    "class Solution:\n",
    "    def countSubstrings(self, s: str, t: str) -> int:\n",
    "        # dict d\n",
    "        # key : (i,j,k)\n",
    "        # value : number of disagreements between s[i:i+k] and t[j:j+k]\n",
    "        # key observation : d[(i,j,k)] = d[(i,j,k-1)] + int(s[i+k-1]!=t[j+k-1])\n",
    "        d = {}\n",
    "        \n",
    "        ans = 0\n",
    "        for i in range(0,len(s)):\n",
    "            for j in range(0,len(t)):\n",
    "                for k in range(1,min(len(s)-i,len(t)-j)+1):\n",
    "                    if k == 1:\n",
    "                        d[(i,j,k)] = int(s[i]!=t[j])\n",
    "                    else:\n",
    "                        d[(i,j,k)] = d[(i,j,k-1)] + int(s[i+k-1]!=t[j+k-1])\n",
    "                        \n",
    "                    if d[(i,j,k)] == 1:\n",
    "                        ans += 1\n",
    "                    elif d[(i,j,k)] > 1:\n",
    "                        break              \n",
    "        return ans"
   ]
  },
  {
   "cell_type": "markdown",
   "metadata": {},
   "source": [
    "# Reference\n",
    "\n",
    "[1638. Count Substrings That Differ by One Character](https://leetcode.com/problems/count-substrings-that-differ-by-one-character/)\n",
    "\n",
    "[1638. Count Substrings That Differ by One Character (Leetcode Medium)](https://www.youtube.com/watch?v=QOmHQiUMBuI)"
   ]
  }
 ],
 "metadata": {
  "kernelspec": {
   "display_name": "Python 3",
   "language": "python",
   "name": "python3"
  },
  "language_info": {
   "codemirror_mode": {
    "name": "ipython",
    "version": 3
   },
   "file_extension": ".py",
   "mimetype": "text/x-python",
   "name": "python",
   "nbconvert_exporter": "python",
   "pygments_lexer": "ipython3",
   "version": "3.8.5"
  }
 },
 "nbformat": 4,
 "nbformat_minor": 4
}
