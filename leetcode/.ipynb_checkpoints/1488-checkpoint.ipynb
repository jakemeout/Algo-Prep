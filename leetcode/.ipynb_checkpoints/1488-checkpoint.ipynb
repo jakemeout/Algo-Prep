{
 "cells": [
  {
   "cell_type": "code",
   "execution_count": 40,
   "metadata": {},
   "outputs": [],
   "source": [
    "from collections import defaultdict\n",
    "class Solution:\n",
    "    def avoidFlood(self, rains):\n",
    "        \"\"\"\n",
    "        :type rains: List[int]\n",
    "        :rtype: List[int]\n",
    "        \"\"\"\n",
    "        n = len(rains)\n",
    "        ans = [1] * n # dry lake 1 as default when we have a sunny day\n",
    "        lakes = defaultdict(int) # lake's water level\n",
    "        clear_days = [] # indices with sunny days which are not used to dry a lake yet\n",
    "        for i, rain in enumerate(rains):\n",
    "            if rain == 0:\n",
    "                # ans[i] = 1 # dry lake 1 as default when we have a sunny day\n",
    "                lakes_to_dry = set(lake for lake, water_level in lakes.items() \n",
    "                                   if water_level>0)\n",
    "                clear_days.append((i,lakes_to_dry))\n",
    "            else:\n",
    "                ans[i] = -1\n",
    "                lakes[rain] += 1\n",
    "                if lakes[rain] > 1:\n",
    "                    if not clear_days:\n",
    "                        return []\n",
    "                    else:\n",
    "                        clear_day, lakes_to_dry = clear_days.pop()\n",
    "                        if rain in lakes_to_dry:\n",
    "                            ans[clear_day] = rain\n",
    "                            lakes[rain] -= 1\n",
    "                        else:\n",
    "                            return []\n",
    "            #print(ans,lakes,clear_days)\n",
    "        return ans"
   ]
  },
  {
   "cell_type": "code",
   "execution_count": 41,
   "metadata": {},
   "outputs": [
    {
     "name": "stdout",
     "output_type": "stream",
     "text": [
      "[-1, 1, 1, 1, 1, 1] defaultdict(<class 'int'>, {1: 1}) []\n",
      "[-1, -1, 1, 1, 1, 1] defaultdict(<class 'int'>, {1: 1, 2: 1}) []\n",
      "[-1, -1, 1, 1, 1, 1] defaultdict(<class 'int'>, {1: 1, 2: 1}) [(2, {1, 2})]\n",
      "[-1, -1, 1, 1, 1, 1] defaultdict(<class 'int'>, {1: 1, 2: 1}) [(2, {1, 2}), (3, {1, 2})]\n",
      "[-1, -1, 1, 2, -1, 1] defaultdict(<class 'int'>, {1: 1, 2: 1}) [(2, {1, 2})]\n",
      "[-1, -1, 1, 2, -1, -1] defaultdict(<class 'int'>, {1: 1, 2: 1}) []\n"
     ]
    },
    {
     "data": {
      "text/plain": [
       "[-1, -1, 1, 2, -1, -1]"
      ]
     },
     "execution_count": 41,
     "metadata": {},
     "output_type": "execute_result"
    }
   ],
   "source": [
    "rains = [1,2,0,0,2,1]\n",
    "Solution().avoidFlood(rains) # [-1,-1,2,1,-1,-1]"
   ]
  },
  {
   "cell_type": "markdown",
   "metadata": {},
   "source": [
    "# Reference\n",
    "\n",
    "[]()"
   ]
  }
 ],
 "metadata": {
  "kernelspec": {
   "display_name": "Python 3",
   "language": "python",
   "name": "python3"
  },
  "language_info": {
   "codemirror_mode": {
    "name": "ipython",
    "version": 3
   },
   "file_extension": ".py",
   "mimetype": "text/x-python",
   "name": "python",
   "nbconvert_exporter": "python",
   "pygments_lexer": "ipython3",
   "version": "3.8.5"
  }
 },
 "nbformat": 4,
 "nbformat_minor": 4
}
