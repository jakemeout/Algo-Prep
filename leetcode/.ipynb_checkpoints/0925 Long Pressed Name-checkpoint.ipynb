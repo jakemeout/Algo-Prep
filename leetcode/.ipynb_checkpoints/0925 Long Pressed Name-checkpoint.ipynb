{
 "cells": [
  {
   "cell_type": "code",
   "execution_count": 21,
   "metadata": {},
   "outputs": [],
   "source": [
    "class Solution:\n",
    "    def isLongPressedName(self, name: str, typed: str) -> bool:\n",
    "        name = self.compress(name)\n",
    "        typed = self.compress(typed)\n",
    "        if len(name) != len(typed):\n",
    "            return False\n",
    "        for (a, na), (b, nb) in zip(name,typed):\n",
    "            if a != b:\n",
    "                return False\n",
    "            elif na > nb:\n",
    "                return False\n",
    "        return True\n",
    "    def compress(self, name):\n",
    "        out = []\n",
    "        cur = None\n",
    "        for char in name:\n",
    "            if cur is None:\n",
    "                cur = char\n",
    "                num = 1\n",
    "            else:\n",
    "                if char == cur:\n",
    "                    num += 1\n",
    "                else:\n",
    "                    out.append((cur,num))\n",
    "                    cur = char\n",
    "                    num = 1\n",
    "        out.append((cur,num))\n",
    "        return out"
   ]
  },
  {
   "cell_type": "code",
   "execution_count": 22,
   "metadata": {},
   "outputs": [
    {
     "data": {
      "text/plain": [
       "False"
      ]
     },
     "execution_count": 22,
     "metadata": {},
     "output_type": "execute_result"
    }
   ],
   "source": [
    "name = \"alex\"\n",
    "typed = \"aaleexa\"\n",
    "Solution().isLongPressedName(name, typed) # False"
   ]
  },
  {
   "cell_type": "markdown",
   "metadata": {},
   "source": [
    "# Reference\n",
    "\n",
    "[925. Long Pressed Name](https://leetcode.com/problems/long-pressed-name/)"
   ]
  }
 ],
 "metadata": {
  "kernelspec": {
   "display_name": "Python 3",
   "language": "python",
   "name": "python3"
  },
  "language_info": {
   "codemirror_mode": {
    "name": "ipython",
    "version": 3
   },
   "file_extension": ".py",
   "mimetype": "text/x-python",
   "name": "python",
   "nbconvert_exporter": "python",
   "pygments_lexer": "ipython3",
   "version": "3.8.5"
  }
 },
 "nbformat": 4,
 "nbformat_minor": 4
}
