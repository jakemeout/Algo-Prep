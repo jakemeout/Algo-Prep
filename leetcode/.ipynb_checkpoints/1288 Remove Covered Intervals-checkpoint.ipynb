{
 "cells": [
  {
   "cell_type": "markdown",
   "id": "interim-dancing",
   "metadata": {},
   "source": [
    "##### Intuition\n",
    "Imagine that, after removing all covered intervals,\n",
    "all intervals must have different bounds,\n",
    "After sorting, their left and right bound are increasing at the same time.\n",
    "\n",
    "[[Java/C++/Python] Sort Solution](https://leetcode.com/problems/remove-covered-intervals/discuss/451277/JavaC%2B%2BPython-Sort-Solution)"
   ]
  },
  {
   "cell_type": "code",
   "execution_count": 3,
   "id": "rotary-helmet",
   "metadata": {},
   "outputs": [],
   "source": [
    "class Solution:\n",
    "    def removeCoveredIntervals(self, intervals):\n",
    "        \"\"\"\n",
    "        :type intervals: List[List[int]]\n",
    "        :rtype: int\n",
    "        \"\"\"\n",
    "        ans = 0\n",
    "        #ans_intervals = []\n",
    "        #print(ans_intervals)\n",
    "        right = 0\n",
    "        intervals.sort(key=lambda interval: (interval[0], -interval[1]))\n",
    "        for l, r in intervals:\n",
    "            ans += (r > right)\n",
    "            #if r > right:\n",
    "                #ans_intervals.append([l,r])\n",
    "                #print(ans_intervals)\n",
    "            right = max(right, r)\n",
    "        return ans"
   ]
  },
  {
   "cell_type": "code",
   "execution_count": 4,
   "id": "funded-packing",
   "metadata": {},
   "outputs": [
    {
     "data": {
      "text/plain": [
       "2"
      ]
     },
     "execution_count": 4,
     "metadata": {},
     "output_type": "execute_result"
    }
   ],
   "source": [
    "intervals = [[3,10],[4,10],[5,11]]\n",
    "Solution().removeCoveredIntervals(intervals)"
   ]
  },
  {
   "cell_type": "markdown",
   "id": "logical-container",
   "metadata": {},
   "source": [
    "# Reference\n",
    "\n",
    "[1288. Remove Covered Intervals](https://leetcode.com/problems/remove-covered-intervals/)\n",
    "\n",
    "[[Java/C++/Python] Sort Solution](https://leetcode.com/problems/remove-covered-intervals/discuss/451277/JavaC%2B%2BPython-Sort-Solution)"
   ]
  }
 ],
 "metadata": {
  "kernelspec": {
   "display_name": "Python 3",
   "language": "python",
   "name": "python3"
  },
  "language_info": {
   "codemirror_mode": {
    "name": "ipython",
    "version": 3
   },
   "file_extension": ".py",
   "mimetype": "text/x-python",
   "name": "python",
   "nbconvert_exporter": "python",
   "pygments_lexer": "ipython3",
   "version": "3.7.10"
  }
 },
 "nbformat": 4,
 "nbformat_minor": 5
}
