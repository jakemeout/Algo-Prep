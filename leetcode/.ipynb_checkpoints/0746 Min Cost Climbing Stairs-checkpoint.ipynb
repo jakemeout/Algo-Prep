{
 "cells": [
  {
   "cell_type": "code",
   "execution_count": 9,
   "metadata": {},
   "outputs": [],
   "source": [
    "class Solution:\n",
    "    def minCostClimbingStairs(self, cost):\n",
    "        # base case\n",
    "        if len(cost) == 1: \n",
    "            return 0\n",
    "        if len(cost) == 2: \n",
    "            return min(cost)\n",
    "        # recursion step\n",
    "        self.d = {}   \n",
    "        cost0 = cost[0] + self.recordAndRead(cost[1:])\n",
    "        cost1 = cost[1] + self.recordAndRead(cost[2:])\n",
    "        return min(cost0,cost1)\n",
    "    def recordAndRead(self, lst):\n",
    "        if len(lst) in self.d:\n",
    "            return self.d[len(lst)]\n",
    "        else:\n",
    "            self.d[len(lst)] = self.minCostClimbingStairs(lst)\n",
    "            return self.d[len(lst)]"
   ]
  },
  {
   "cell_type": "code",
   "execution_count": 10,
   "metadata": {},
   "outputs": [
    {
     "data": {
      "text/plain": [
       "15"
      ]
     },
     "execution_count": 10,
     "metadata": {},
     "output_type": "execute_result"
    }
   ],
   "source": [
    "cost = [10,15,20]\n",
    "Solution().minCostClimbingStairs(cost) # 15"
   ]
  },
  {
   "cell_type": "markdown",
   "metadata": {},
   "source": [
    "# Reference\n",
    "\n",
    "[746. Min Cost Climbing Stairs](https://leetcode.com/problems/min-cost-climbing-stairs/)"
   ]
  }
 ],
 "metadata": {
  "kernelspec": {
   "display_name": "Python 3",
   "language": "python",
   "name": "python3"
  },
  "language_info": {
   "codemirror_mode": {
    "name": "ipython",
    "version": 3
   },
   "file_extension": ".py",
   "mimetype": "text/x-python",
   "name": "python",
   "nbconvert_exporter": "python",
   "pygments_lexer": "ipython3",
   "version": "3.8.5"
  }
 },
 "nbformat": 4,
 "nbformat_minor": 4
}
