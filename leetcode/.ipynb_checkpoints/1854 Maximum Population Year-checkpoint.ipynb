{
 "cells": [
  {
   "cell_type": "code",
   "execution_count": 6,
   "metadata": {},
   "outputs": [],
   "source": [
    "class Solution:\n",
    "    def maximumPopulation(self, logs):\n",
    "        # construct population dict d\n",
    "        # key : year\n",
    "        # value : population change at that year\n",
    "        d = {}\n",
    "        for birth_year, death_year in logs:\n",
    "            if birth_year in d:\n",
    "                d[birth_year] += 1\n",
    "            else:\n",
    "                d[birth_year] = 1\n",
    "            if death_year in d:\n",
    "                d[death_year] -= 1\n",
    "            else:\n",
    "                d[death_year] = -1\n",
    "        # update population dict d\n",
    "        # key : year\n",
    "        # value : population at that year\n",
    "        years = [key for key in d.keys()]\n",
    "        years.sort()\n",
    "        curr_population = 0 \n",
    "        for year in years:\n",
    "            d[year] = curr_population + d[year]\n",
    "            curr_population = d[year] \n",
    "        # compute max population \n",
    "        max_population = max(d.values())\n",
    "        # return first such year\n",
    "        for year in years:\n",
    "            if d[year] == max_population:\n",
    "                return year"
   ]
  },
  {
   "cell_type": "code",
   "execution_count": 7,
   "metadata": {},
   "outputs": [
    {
     "name": "stdout",
     "output_type": "stream",
     "text": [
      "{1950: 1}\n",
      "{1950: 1, 1961: -1}\n",
      "{1950: 1, 1961: -1, 1960: 1}\n",
      "{1950: 1, 1961: -1, 1960: 1, 1971: -1}\n",
      "{1950: 1, 1961: -1, 1960: 1, 1971: -1, 1970: 1}\n",
      "{1950: 1, 1961: -1, 1960: 1, 1971: -1, 1970: 1, 1981: -1}\n"
     ]
    },
    {
     "data": {
      "text/plain": [
       "1960"
      ]
     },
     "execution_count": 7,
     "metadata": {},
     "output_type": "execute_result"
    }
   ],
   "source": [
    "logs = [[1950,1961],[1960,1971],[1970,1981]]\n",
    "Solution().maximumPopulation(logs) # 1960"
   ]
  },
  {
   "cell_type": "markdown",
   "metadata": {},
   "source": [
    "# Reference\n",
    "\n",
    "[1854. Maximum Population Year](https://leetcode.com/problems/maximum-population-year/)"
   ]
  }
 ],
 "metadata": {
  "kernelspec": {
   "display_name": "Python 3",
   "language": "python",
   "name": "python3"
  },
  "language_info": {
   "codemirror_mode": {
    "name": "ipython",
    "version": 3
   },
   "file_extension": ".py",
   "mimetype": "text/x-python",
   "name": "python",
   "nbconvert_exporter": "python",
   "pygments_lexer": "ipython3",
   "version": "3.8.5"
  }
 },
 "nbformat": 4,
 "nbformat_minor": 4
}
