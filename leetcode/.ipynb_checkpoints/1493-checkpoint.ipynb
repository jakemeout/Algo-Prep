{
 "cells": [
  {
   "cell_type": "code",
   "execution_count": null,
   "metadata": {},
   "outputs": [],
   "source": [
    "class Solution:\n",
    "    def longestSubarray(self, nums: List[int]) -> int:\n",
    "        ans = 0 # max so far\n",
    "        c = 0 # current max so far \n",
    "        prev = -1 # previous pointer pointing last zero\n",
    "        # [0,0,1,1,1,1,0,1,1,1,1,1,1]\n",
    "        #              ^\n",
    "        #              |\n",
    "        #             prev\n",
    "        #\n",
    "        #      <----- c+1 ---------> (when we count c, we should skip middle zero)\n",
    "        #\n",
    "        # [0,0,1,1,1,1,0,1,1,1,1,1,1,0,1,1,1]\n",
    "        #                            ^\n",
    "        #                            |\n",
    "        #                           prev\n",
    "        #\n",
    "        #                <--------- c+1 ---> (when we count c, we should skip middle zero)\n",
    "        for i in range(len(nums)):\n",
    "            if nums[i] == 0:\n",
    "                ans = max(ans,c)\n",
    "                if prev != -1:\n",
    "                    c = i-prev-1\n",
    "                prev = i\n",
    "            else:\n",
    "                c += 1\n",
    "        ans = max(ans,c)\n",
    "        # if original nums are all 1, ans == len(nums)\n",
    "        # Since you should delete one element from it, ans = len(nums) - 1 \n",
    "        if ans == len(nums):\n",
    "            return ans-1\n",
    "        return ans"
   ]
  },
  {
   "cell_type": "markdown",
   "metadata": {},
   "source": [
    "# Reference\n",
    "\n",
    "[1493. Longest Subarray of 1's After Deleting One Element](https://leetcode.com/problems/longest-subarray-of-1s-after-deleting-one-element/)\n",
    "\n",
    "[Longest Subarray of 1's After Deleting One Element (Leetcode 1493)](https://www.youtube.com/watch?v=nU_L8yEk8eo&list=PL_lPC-CADCvQr__cIR1NyprmZdWi0seGm&index=1)"
   ]
  }
 ],
 "metadata": {
  "kernelspec": {
   "display_name": "Python 3",
   "language": "python",
   "name": "python3"
  },
  "language_info": {
   "codemirror_mode": {
    "name": "ipython",
    "version": 3
   },
   "file_extension": ".py",
   "mimetype": "text/x-python",
   "name": "python",
   "nbconvert_exporter": "python",
   "pygments_lexer": "ipython3",
   "version": "3.8.5"
  }
 },
 "nbformat": 4,
 "nbformat_minor": 4
}
