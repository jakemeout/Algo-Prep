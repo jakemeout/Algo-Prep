{
 "cells": [
  {
   "cell_type": "code",
   "execution_count": 1,
   "metadata": {},
   "outputs": [],
   "source": [
    "# Definition for singly-linked list.\n",
    "class ListNode:\n",
    "    def __init__(self, val=0, next=None):\n",
    "        self.val = val\n",
    "        self.next = next"
   ]
  },
  {
   "cell_type": "code",
   "execution_count": 2,
   "metadata": {},
   "outputs": [],
   "source": [
    "# three pointers p (previous), c (current), n (next)\n",
    "class Solution:\n",
    "    def reverseList(self, head: ListNode) -> ListNode:\n",
    "        if head is None:\n",
    "            return head\n",
    "        p, c, n = None, head, head.next\n",
    "        while c:\n",
    "            c.next = p\n",
    "            try:\n",
    "                p, c, n = c, n, n.next\n",
    "            except AttributeError:\n",
    "                return c"
   ]
  },
  {
   "cell_type": "code",
   "execution_count": 3,
   "metadata": {},
   "outputs": [
    {
     "name": "stdout",
     "output_type": "stream",
     "text": [
      "5 4 3 2 1 "
     ]
    }
   ],
   "source": [
    "# [1,2,3,4,5]\n",
    "lst = []\n",
    "for idx, val in enumerate([1,2,3,4,5][::-1]):\n",
    "    if idx == 0:\n",
    "        lst.append(ListNode(val))\n",
    "    else:\n",
    "        lst.append(ListNode(val,lst[-1]))\n",
    "head = lst[-1]\n",
    "head = Solution().reverseList(head)\n",
    "cur = head\n",
    "while cur:\n",
    "    print(cur.val,end=' ')\n",
    "    cur = cur.next"
   ]
  },
  {
   "cell_type": "markdown",
   "metadata": {},
   "source": [
    "# Reference\n",
    "\n",
    "[206. Reverse Linked List](https://leetcode.com/problems/reverse-linked-list/)\n",
    "\n",
    "[Reverse a Linked List without using recursion (with CODE)](https://www.youtube.com/watch?v=MTjb-vgjzqs&list=PLEJXowNB4kPxQIN2dCUAnQ_92HIziG4x6&index=4)"
   ]
  },
  {
   "cell_type": "code",
   "execution_count": null,
   "metadata": {},
   "outputs": [],
   "source": []
  }
 ],
 "metadata": {
  "kernelspec": {
   "display_name": "Python 3",
   "language": "python",
   "name": "python3"
  },
  "language_info": {
   "codemirror_mode": {
    "name": "ipython",
    "version": 3
   },
   "file_extension": ".py",
   "mimetype": "text/x-python",
   "name": "python",
   "nbconvert_exporter": "python",
   "pygments_lexer": "ipython3",
   "version": "3.8.5"
  }
 },
 "nbformat": 4,
 "nbformat_minor": 4
}
