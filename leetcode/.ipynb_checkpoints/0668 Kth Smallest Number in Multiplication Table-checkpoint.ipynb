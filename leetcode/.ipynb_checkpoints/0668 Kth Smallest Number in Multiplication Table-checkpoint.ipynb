{
 "cells": [
  {
   "cell_type": "code",
   "execution_count": null,
   "metadata": {},
   "outputs": [],
   "source": [
    "class Solution:\n",
    "    def findKthNumber(self, m: int, n: int, k: int) -> int:\n",
    "        \n",
    "        def enough(num) -> bool:\n",
    "            count = 0\n",
    "            for val in range(1, m + 1):  # count row by row\n",
    "                tmp = min(num // val, n)\n",
    "                if tmp == 0:  # early exit\n",
    "                    break\n",
    "                count += tmp\n",
    "            return count >= k \n",
    "        \n",
    "        # Correctly initialize the boundary variables left and right. \n",
    "        # Only one rule: set up the boundary to include all possible elements;\n",
    "        left, right = 1, n * m\n",
    "        \n",
    "        while left < right:\n",
    "            mid = left + (right - left) // 2\n",
    "            \n",
    "            # Design the condition function. \n",
    "            # This is the most difficult and most beautiful part. Needs lots of practice.\n",
    "            if enough(mid): \n",
    "                right = mid\n",
    "            else:\n",
    "                left = mid + 1\n",
    "                \n",
    "        # Decide return value. Is it return left or return left - 1? \n",
    "        # Remember this: after exiting the while loop, left is the minimal k satisfying the condition function;\n",
    "        return left"
   ]
  },
  {
   "cell_type": "markdown",
   "metadata": {},
   "source": [
    "# Reference\n",
    "\n",
    "[668. Kth Smallest Number in Multiplication Table](https://leetcode.com/problems/kth-smallest-number-in-multiplication-table/)\n",
    "\n",
    "[[Python/ Clear explanation] Powerful Ultimate Binary Search Template. Solved many problems.](https://leetcode.com/problems/find-k-th-smallest-pair-distance/discuss/769705/Python-Clear-explanation-Powerful-Ultimate-Binary-Search-Template.-Solved-many-problems.)"
   ]
  }
 ],
 "metadata": {
  "kernelspec": {
   "display_name": "Python 3",
   "language": "python",
   "name": "python3"
  },
  "language_info": {
   "codemirror_mode": {
    "name": "ipython",
    "version": 3
   },
   "file_extension": ".py",
   "mimetype": "text/x-python",
   "name": "python",
   "nbconvert_exporter": "python",
   "pygments_lexer": "ipython3",
   "version": "3.8.5"
  }
 },
 "nbformat": 4,
 "nbformat_minor": 5
}
