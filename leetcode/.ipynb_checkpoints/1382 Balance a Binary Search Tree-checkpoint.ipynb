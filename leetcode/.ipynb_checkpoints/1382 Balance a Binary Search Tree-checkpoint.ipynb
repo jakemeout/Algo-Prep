{
 "cells": [
  {
   "cell_type": "code",
   "execution_count": null,
   "metadata": {},
   "outputs": [],
   "source": [
    "class TreeNode:\n",
    "    def __init__(self, val=0, left=None, right=None):\n",
    "        self.val = val\n",
    "        self.left = left\n",
    "        self.right = right"
   ]
  },
  {
   "cell_type": "code",
   "execution_count": null,
   "metadata": {},
   "outputs": [],
   "source": [
    "class Solution:\n",
    "    def balanceBST(self, root: TreeNode) -> TreeNode:\n",
    "        dummy = TreeNode()\n",
    "        dummy.right = root\n",
    "        self.fixBalance(root, dummy)\n",
    "        return dummy.right\n",
    "    def rotateLeft(self, root, parent):\n",
    "        \"\"\"\n",
    "        x                y\n",
    "         \\              / \\\n",
    "          \\            /   \\\n",
    "           y   --->   x \n",
    "          / \\          \\\n",
    "         z   \\          z\n",
    "        \"\"\"\n",
    "        new_root = root.right\n",
    "        root.right = new_root.left\n",
    "        new_root.left = root\n",
    "        if parent.left == root:\n",
    "            parent.left = new_root\n",
    "        else:\n",
    "            parent.right = new_root\n",
    "        return new_root\n",
    "    def rotateRight(self, root, parent):\n",
    "        \"\"\"\n",
    "             x           y\n",
    "            /           / \\\n",
    "           /           /   \\\n",
    "          y      --->       x\n",
    "         / \\               /\n",
    "        /   z             z\n",
    "        \"\"\"\n",
    "        new_root = root.left \n",
    "        root.left = new_root.right \n",
    "        new_root.right = root\n",
    "        if parent.left == root:\n",
    "            parent.left = new_root\n",
    "        else:\n",
    "            parent.right = new_root\n",
    "        return new_root\n",
    "    def fixBalance(self, node, parent):\n",
    "        if not node:\n",
    "            return 0, 0\n",
    "        left_height, left_balance = self.fixBalance(node.left, node)\n",
    "        right_height, right_balance = self.fixBalance(node.right, node)\n",
    "        node_balance = left_height - right_height\n",
    "        if node_balance > 1:\n",
    "            if left_balance < 0:\n",
    "                self.rotateLeft(node.left, node)\n",
    "            return self.fixBalance(self.rotateRight(node, parent), parent)\n",
    "        elif node_balance < -1:\n",
    "            if right_balance > 0:\n",
    "                self.rotateRight(node.right, node)\n",
    "            return self.fixBalance(self.rotateLeft(node, parent), parent)\n",
    "        else:\n",
    "            return max(left_height, right_height) + 1, node_balance"
   ]
  },
  {
   "cell_type": "markdown",
   "metadata": {},
   "source": [
    "# Reference\n",
    "\n",
    "[1382. Balance a Binary Search Tree](https://leetcode.com/problems/balance-a-binary-search-tree/)\n",
    "\n",
    "[Python Solution based on rotations, O(1) space O(nlogn) runtime](https://leetcode.com/problems/balance-a-binary-search-tree/discuss/596965/Python-Solution-based-on-rotations-O(1)-space-O(nlogn)-runtime)"
   ]
  }
 ],
 "metadata": {
  "kernelspec": {
   "display_name": "Python 3",
   "language": "python",
   "name": "python3"
  },
  "language_info": {
   "codemirror_mode": {
    "name": "ipython",
    "version": 3
   },
   "file_extension": ".py",
   "mimetype": "text/x-python",
   "name": "python",
   "nbconvert_exporter": "python",
   "pygments_lexer": "ipython3",
   "version": "3.8.5"
  }
 },
 "nbformat": 4,
 "nbformat_minor": 4
}
