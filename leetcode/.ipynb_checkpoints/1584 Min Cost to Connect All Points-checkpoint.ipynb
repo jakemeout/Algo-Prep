{
 "cells": [
  {
   "cell_type": "code",
   "execution_count": 39,
   "id": "together-appointment",
   "metadata": {},
   "outputs": [],
   "source": [
    "from collections import defaultdict\n",
    "from heapq import heapify, heappop, heappush\n",
    "\n",
    "class Solution:\n",
    "    def minCostConnectPoints(self, points):\n",
    "        \"\"\"\n",
    "        :type points: List[List[int]]\n",
    "        :rtype: int\n",
    "        \"\"\"\n",
    "        manhattan_distance = lambda p1, p2: abs(p1[0]-p2[0]) + abs(p1[1]-p2[1])\n",
    "        n = len(points)\n",
    "        distance = defaultdict(list)\n",
    "        for i in range(n):\n",
    "            for j in range(i+1, n):\n",
    "                d = manhattan_distance(points[i], points[j])\n",
    "                distance[i].append((d, j))\n",
    "                distance[j].append((d, i))\n",
    "                \n",
    "        ans = 0\n",
    "        visited = [0] * n\n",
    "        visited[0] = 1\n",
    "        count = 1\n",
    "        heap = distance[0]\n",
    "        heapify(heap)\n",
    "        while heap:\n",
    "            d, j = heappop(heap)\n",
    "            if not visited[j]:\n",
    "                ans += d\n",
    "                visited[j] = 1\n",
    "                count += 1\n",
    "                for record in distance[j]: \n",
    "                    heappush(heap, record)\n",
    "            if count >= n: \n",
    "                break        \n",
    "        return ans"
   ]
  },
  {
   "cell_type": "markdown",
   "id": "married-validity",
   "metadata": {},
   "source": [
    "# Reference\n",
    "\n",
    "[1584. Min Cost to Connect All Points](https://leetcode.com/problems/min-cost-to-connect-all-points/)\n",
    "\n",
    "[Python 3 | Min Spanning Tree | Prim's Algorithm](https://leetcode.com/problems/min-cost-to-connect-all-points/discuss/843995/Python-3-or-Min-Spanning-Tree-or-Prim's-Algorithm)"
   ]
  }
 ],
 "metadata": {
  "kernelspec": {
   "display_name": "Python 3",
   "language": "python",
   "name": "python3"
  },
  "language_info": {
   "codemirror_mode": {
    "name": "ipython",
    "version": 3
   },
   "file_extension": ".py",
   "mimetype": "text/x-python",
   "name": "python",
   "nbconvert_exporter": "python",
   "pygments_lexer": "ipython3",
   "version": "3.7.10"
  }
 },
 "nbformat": 4,
 "nbformat_minor": 5
}
