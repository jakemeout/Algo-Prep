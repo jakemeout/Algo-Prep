{
 "cells": [
  {
   "cell_type": "code",
   "execution_count": 3,
   "metadata": {},
   "outputs": [],
   "source": [
    "class Solution:\n",
    "    def licenseKeyFormatting(self, s: str, k: int) -> str:\n",
    "        # We want to reformat the string s such that each group contains exactly k characters, \n",
    "        # except for the first group\n",
    "        s = s.replace('-','').upper()[::-1]\n",
    "        ans = ''\n",
    "        for i in range(0,len(s),k):\n",
    "            ans += s[i:i+k] + '-'\n",
    "        print(s, ans)\n",
    "        return ans[:-1][::-1]"
   ]
  },
  {
   "cell_type": "code",
   "execution_count": 4,
   "metadata": {},
   "outputs": [
    {
     "name": "stdout",
     "output_type": "stream",
     "text": [
      "J3G52 J3-G5-2-\n"
     ]
    },
    {
     "data": {
      "text/plain": [
       "'2-5G-3J'"
      ]
     },
     "execution_count": 4,
     "metadata": {},
     "output_type": "execute_result"
    }
   ],
   "source": [
    "s = \"2-5g-3-J\"\n",
    "k = 2\n",
    "Solution().licenseKeyFormatting(s, k) # \"2-5G-3J\""
   ]
  },
  {
   "cell_type": "markdown",
   "metadata": {},
   "source": [
    "# Reference\n",
    "\n",
    "[482. License Key Formatting](https://leetcode.com/problems/license-key-formatting/)"
   ]
  }
 ],
 "metadata": {
  "kernelspec": {
   "display_name": "Python 3",
   "language": "python",
   "name": "python3"
  },
  "language_info": {
   "codemirror_mode": {
    "name": "ipython",
    "version": 3
   },
   "file_extension": ".py",
   "mimetype": "text/x-python",
   "name": "python",
   "nbconvert_exporter": "python",
   "pygments_lexer": "ipython3",
   "version": "3.8.5"
  }
 },
 "nbformat": 4,
 "nbformat_minor": 4
}
