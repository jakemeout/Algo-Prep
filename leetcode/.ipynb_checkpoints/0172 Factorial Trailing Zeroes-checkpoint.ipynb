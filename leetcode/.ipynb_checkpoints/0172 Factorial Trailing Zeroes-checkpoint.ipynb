{
 "cells": [
  {
   "cell_type": "code",
   "execution_count": null,
   "metadata": {},
   "outputs": [],
   "source": [
    "# Runtime 32 ms\n",
    "class Solution:\n",
    "    def trailingZeroes(self, n: int) -> int:\n",
    "        # count how many times factor 2 appears in expression n!\n",
    "        ans_2 = 0 \n",
    "        carry = n\n",
    "        while carry > 0:\n",
    "            carry, res = divmod(carry, 2)\n",
    "            ans_2 += carry\n",
    "        # count how many times factor 5 appears in expression n!    \n",
    "        ans_5 = 0 \n",
    "        carry = n\n",
    "        while carry > 0:\n",
    "            carry, res = divmod(carry, 5)\n",
    "            ans_5 += carry\n",
    "        # count and return how many times factor 10 appears in expression n!   \n",
    "        return min(ans_2, ans_5)"
   ]
  },
  {
   "cell_type": "code",
   "execution_count": null,
   "metadata": {},
   "outputs": [],
   "source": [
    "# Runtime 24 ms\n",
    "class Solution:\n",
    "    def trailingZeroes(self, n: int) -> int:\n",
    "#         # count how many times factor 2 appears in expression n!\n",
    "#         ans_2 = 0 \n",
    "#         carry = n\n",
    "#         while carry > 0:\n",
    "#             carry, res = divmod(carry, 2)\n",
    "#             ans_2 += carry\n",
    "        # count how many times factor 5 appears in expression n!    \n",
    "        ans_5 = 0 \n",
    "        carry = n\n",
    "        while carry > 0:\n",
    "            carry, res = divmod(carry, 5)\n",
    "            ans_5 += carry\n",
    "        # count and return how many times factor 10 appears in expression n!   \n",
    "#         return min(ans_2, ans_5)\n",
    "        return ans_5"
   ]
  },
  {
   "cell_type": "markdown",
   "metadata": {},
   "source": [
    "# Reference\n",
    "\n",
    "[172. Factorial Trailing Zeroes](https://leetcode.com/problems/factorial-trailing-zeroes/)"
   ]
  }
 ],
 "metadata": {
  "kernelspec": {
   "display_name": "Python 3",
   "language": "python",
   "name": "python3"
  },
  "language_info": {
   "codemirror_mode": {
    "name": "ipython",
    "version": 3
   },
   "file_extension": ".py",
   "mimetype": "text/x-python",
   "name": "python",
   "nbconvert_exporter": "python",
   "pygments_lexer": "ipython3",
   "version": "3.8.5"
  }
 },
 "nbformat": 4,
 "nbformat_minor": 4
}
