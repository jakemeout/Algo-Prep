{
 "cells": [
  {
   "cell_type": "code",
   "execution_count": 15,
   "metadata": {},
   "outputs": [],
   "source": [
    "class Solution:\n",
    "    def computeArea(self, ax1, ay1, ax2, ay2, bx1, by1, bx2, by2):\n",
    "        area_sum = self.computeOneArea(ax1,ay1,ax2,ay2) + self.computeOneArea(bx1,by1,bx2,by2)\n",
    "        # no intersection cases \n",
    "        if ax2 <= bx1: return area_sum \n",
    "        if bx2 <= ax1: return area_sum\n",
    "        if ay2 <= by1: return area_sum \n",
    "        if by2 <= ay1: return area_sum\n",
    "        # intersection case\n",
    "        length_common_x = self.computeIntersectionLength(ax1, ax2, bx1, bx2)\n",
    "        length_common_y = self.computeIntersectionLength(ay1, ay2, by1, by2)\n",
    "        return area_sum - length_common_x * length_common_y    \n",
    "    def computeOneArea(self, ax1, ay1, ax2, ay2):\n",
    "        return (ax2-ax1) * (ay2-ay1)\n",
    "    def computeIntersectionLength(self, ax1, ax2, bx1, bx2):\n",
    "        \"\"\"\n",
    "        when [ax1,ax2] cap [bx1,bx2] is non-empty, compute length of [ax1,ax2] cup [bx1,bx2] \n",
    "        \"\"\"\n",
    "        a_length = ax2 - ax1\n",
    "        b_length = bx2 - bx1\n",
    "        total_length = max(ax1, ax2, bx1, bx2) - min(ax1, ax2, bx1, bx2)\n",
    "        return a_length + b_length - total_length"
   ]
  },
  {
   "cell_type": "code",
   "execution_count": 16,
   "metadata": {},
   "outputs": [
    {
     "data": {
      "text/plain": [
       "45"
      ]
     },
     "execution_count": 16,
     "metadata": {},
     "output_type": "execute_result"
    }
   ],
   "source": [
    "ax1, ay1, ax2, ay2, bx1, by1, bx2, by2 = -3, 0, 3, 4, 0, -1, 9, 2\n",
    "Solution().computeArea(ax1, ay1, ax2, ay2, bx1, by1, bx2, by2)"
   ]
  },
  {
   "cell_type": "code",
   "execution_count": 17,
   "metadata": {},
   "outputs": [
    {
     "data": {
      "text/plain": [
       "16"
      ]
     },
     "execution_count": 17,
     "metadata": {},
     "output_type": "execute_result"
    }
   ],
   "source": [
    "ax1, ay1, ax2, ay2, bx1, by1, bx2, by2 = -2, -2, 2, 2, -2, -2, 2, 2\n",
    "Solution().computeArea(ax1, ay1, ax2, ay2, bx1, by1, bx2, by2)"
   ]
  },
  {
   "cell_type": "markdown",
   "metadata": {},
   "source": [
    "# Reference\n",
    "\n",
    "[223. Rectangle Area](https://leetcode.com/problems/rectangle-area/)"
   ]
  }
 ],
 "metadata": {
  "kernelspec": {
   "display_name": "Python 3",
   "language": "python",
   "name": "python3"
  },
  "language_info": {
   "codemirror_mode": {
    "name": "ipython",
    "version": 3
   },
   "file_extension": ".py",
   "mimetype": "text/x-python",
   "name": "python",
   "nbconvert_exporter": "python",
   "pygments_lexer": "ipython3",
   "version": "3.8.5"
  }
 },
 "nbformat": 4,
 "nbformat_minor": 4
}
