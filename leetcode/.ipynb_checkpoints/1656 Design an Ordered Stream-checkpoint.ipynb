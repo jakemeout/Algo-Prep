{
 "cells": [
  {
   "cell_type": "code",
   "execution_count": null,
   "metadata": {},
   "outputs": [],
   "source": [
    "class OrderedStream:\n",
    "\n",
    "    def __init__(self, n: int):\n",
    "        # Like the animation, \n",
    "        # you need to maintain a pointer and an array of size n \n",
    "        # which is passed through the constructor.\n",
    "        self.pointer = 0\n",
    "        self.array = [None] * n\n",
    "\n",
    "    def insert(self, idKey: int, value: str) -> List[str]:\n",
    "        # idKey is 1-indexed so subtract 1 to make it 0-indexed. \n",
    "        # Set the value here.\n",
    "        self.array[idKey - 1] = value\n",
    "        out = []\n",
    "        \n",
    "        # If you inserted where the pointer is pointing, \n",
    "        # now you have to loop until the pointer hits a Null value\n",
    "        # in the array, or you've exhausted the array. Again, subtract 1 from the idKey \n",
    "        # to make it 0 index and start\n",
    "        # concatenating your result array with each value you see at the current pointer. \n",
    "        # And that's your answer.\n",
    "        # Notice that the pointer stays where you left it in this loop, \n",
    "        # don't put it back to 0 again.\n",
    "        if (idKey - 1) == self.pointer:\n",
    "            for i in range(self.pointer, len(self.array)):\n",
    "                if self.array[self.pointer] == None:\n",
    "                    break\n",
    "                out.append(self.array[self.pointer])\n",
    "                self.pointer += 1\n",
    "        return out"
   ]
  },
  {
   "cell_type": "markdown",
   "metadata": {},
   "source": [
    "# Reference\n",
    "\n",
    "[1656. Design an Ordered Stream](https://leetcode.com/problems/design-an-ordered-stream/)\n",
    "\n",
    "[Python Easy to Understand](https://leetcode.com/problems/design-an-ordered-stream/discuss/1228756/Python-Easy-to-Understand)"
   ]
  }
 ],
 "metadata": {
  "kernelspec": {
   "display_name": "Python 3",
   "language": "python",
   "name": "python3"
  },
  "language_info": {
   "codemirror_mode": {
    "name": "ipython",
    "version": 3
   },
   "file_extension": ".py",
   "mimetype": "text/x-python",
   "name": "python",
   "nbconvert_exporter": "python",
   "pygments_lexer": "ipython3",
   "version": "3.8.5"
  }
 },
 "nbformat": 4,
 "nbformat_minor": 4
}
