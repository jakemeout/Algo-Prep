{
 "cells": [
  {
   "cell_type": "code",
   "execution_count": 93,
   "metadata": {},
   "outputs": [],
   "source": [
    "class Solution:\n",
    "    def isMatch(self, s: str, p: str) -> bool:\n",
    "        if len(s)==0 and len(p)==0: return True\n",
    "        # if there is no '*' in both s and p\n",
    "        if (\"*\" not in s) and (\"*\" not in p):\n",
    "            #print('here')\n",
    "            return self.isMatchPerfact(s, p)\n",
    "        # if there is exactly one '*' in one string but no '*' in other string\n",
    "        if (len(s.split('*'))==2) and (\"*\" not in p):\n",
    "            return self.isOneStarMatch(one_star=s, no_star=p)\n",
    "        if (\"*\" not in s) and (len(p.split('*'))==2):\n",
    "            #print('here')\n",
    "            return self.isOneStarMatch(one_star=p, no_star=s)\n",
    "        # if there are '*' in both strings\n",
    "        if (len(s.split('*'))>=2) and (len(p.split('*'))>=2):\n",
    "            #print('here')\n",
    "            lst = s.split('*')\n",
    "            sl, sr = lst[0], lst[-1]\n",
    "            lst = p.split('*')\n",
    "            pl, pr = lst[0], lst[-1]\n",
    "            return self.isMatchLeft(sl, pl) and self.isMatchRight(sr, pr)\n",
    "        # if there are two or more '*' in one string but no '*' in other string\n",
    "        if (len(s.split('*'))>=3) and (len(p.split('*'))==1):\n",
    "            #print('here')\n",
    "            lst = s.split('*')\n",
    "            s0, s1 = lst[0], lst[1]\n",
    "            if not self.isMatchLeft(s0, p): \n",
    "                return False\n",
    "            else:\n",
    "                if s1=='':\n",
    "                    return self.isMatch(s[len(s0+'*'+s1):], p[len(s0):])\n",
    "                for i in range(len(s0), len(p)):\n",
    "                    if self.isMatchPerfact(s1, p[i:i+len(s1)]):\n",
    "                        return self.isMatch(s[len(s0+'*'+s1):], p[i+len(s1):])\n",
    "                return False\n",
    "        if (len(s.split('*'))==1) and (len(p.split('*'))>=3):\n",
    "            #print('here')\n",
    "            lst = p.split('*')\n",
    "            p0, p1 = lst[0], lst[1]\n",
    "            #print(p0,'--->',p1)\n",
    "            if not self.isMatchLeft(s, p0): \n",
    "                return False\n",
    "            else:\n",
    "                if p1=='':\n",
    "                    return self.isMatch(p[len(p0+'*'+p1):], s[len(p0):])\n",
    "                for i in range(len(p0), len(s)):\n",
    "                    if self.isMatchPerfact(p1, s[i:i+len(p1)]):\n",
    "                        return self.isMatch(p[len(p0+'*'+p1):], s[i+len(p1):])\n",
    "                #print('hdugweuf')\n",
    "                return False\n",
    "    def isMatchOne(self, char1: str, char2: str) -> bool:\n",
    "        \"\"\"\n",
    "        char1 and char2 are strings of length 1\n",
    "        neither char1 nor char2 is '*'\n",
    "        test whether these two match\n",
    "        \"\"\"\n",
    "        if char1=='?' or char2=='?':\n",
    "            return True\n",
    "        return char1==char2\n",
    "    def isMatchLeft(self, s: str, p: str) -> bool:\n",
    "        \"\"\"\n",
    "        s and p are strings of arbitrary lengths\n",
    "        in particular they may have different lengths and return True eventually\n",
    "        neither s nor p contains '*'\n",
    "        test whether these two straings match from left \n",
    "        if all character level tests pass, return True\n",
    "        \"\"\"\n",
    "        n = min(len(s),len(p))\n",
    "        if n==0: \n",
    "            #print('ttt')\n",
    "            return True\n",
    "        for char1, char2 in zip(s[:n],p[:n]):\n",
    "            if not self.isMatchOne(char1,char2): return False\n",
    "        return True\n",
    "    def isMatchRight(self, s: str, p: str) -> bool:\n",
    "        \"\"\"\n",
    "        s and p are strings of arbitrary lengths\n",
    "        in particular they may have different lengths and return True eventually\n",
    "        neither s nor p contains '*'\n",
    "        test whether these two straings match from right \n",
    "        if all character level tests pass, return True\n",
    "        \"\"\"\n",
    "        n = min(len(s),len(p))\n",
    "        if n==0: return True\n",
    "        for char1, char2 in zip(s[-n:],p[-n:]):\n",
    "            if not self.isMatchOne(char1,char2): return False\n",
    "        return True\n",
    "    def isMatchPerfact(self, s: str, p: str) -> bool:\n",
    "        \"\"\"\n",
    "        s and p are strings of arbitrary lengths\n",
    "        if they have different lengths, return False\n",
    "        neither s nor p contains '*'\n",
    "        test whether these two straings match perfactly \n",
    "        if all character level tests pass, return True\n",
    "        \"\"\"\n",
    "        if len(s)!=len(p): return False\n",
    "        if len(s)==0: \n",
    "            print('h')\n",
    "            return True\n",
    "        for char1, char2 in zip(s,p):\n",
    "            if not self.isMatchOne(char1,char2): return False\n",
    "        return True\n",
    "    def isOneStarMatch(self, one_star: str, no_star: str) -> bool:\n",
    "        \"\"\"\n",
    "        one_star has exactly one star\n",
    "        whereas p does not have \n",
    "        \"\"\"\n",
    "        if len(one_star)-1 > len(no_star): return False\n",
    "        l, r = one_star.split('*')\n",
    "        if l=='' and r=='':\n",
    "            return True\n",
    "        if l=='' and self.isMatchPerfact(r, no_star[-len(r):]):\n",
    "            return True\n",
    "        if self.isMatchPerfact(l, no_star[:len(l)]) and r=='':\n",
    "            return True\n",
    "        if self.isMatchPerfact(l, no_star[:len(l)]) and self.isMatchPerfact(r, no_star[-len(r):]):\n",
    "            return True\n",
    "        return False"
   ]
  },
  {
   "cell_type": "code",
   "execution_count": null,
   "metadata": {},
   "outputs": [],
   "source": []
  },
  {
   "cell_type": "code",
   "execution_count": null,
   "metadata": {},
   "outputs": [],
   "source": []
  },
  {
   "cell_type": "code",
   "execution_count": null,
   "metadata": {},
   "outputs": [],
   "source": []
  },
  {
   "cell_type": "code",
   "execution_count": null,
   "metadata": {},
   "outputs": [],
   "source": []
  },
  {
   "cell_type": "code",
   "execution_count": null,
   "metadata": {},
   "outputs": [],
   "source": []
  },
  {
   "cell_type": "code",
   "execution_count": null,
   "metadata": {},
   "outputs": [],
   "source": []
  },
  {
   "cell_type": "code",
   "execution_count": null,
   "metadata": {},
   "outputs": [],
   "source": []
  },
  {
   "cell_type": "code",
   "execution_count": 114,
   "metadata": {},
   "outputs": [],
   "source": [
    "class Solution:\n",
    "    def isMatch(self, s: str, p: str) -> bool:\n",
    "        # trivial case\n",
    "        if len(s)==0 and len(p)==0: return True\n",
    "        # if there is no '*' in both s and p\n",
    "        if (\"*\" not in s) and (\"*\" not in p):\n",
    "            return self.isMatchPerfact(s, p)\n",
    "        # if there is exactly one '*' in one string but no '*' in other string\n",
    "        if (len(s.split('*'))==2) and (\"*\" not in p):\n",
    "            return self.isOneStarMatch(one_star=s, no_star=p)\n",
    "        if (\"*\" not in s) and (len(p.split('*'))==2):\n",
    "            return self.isOneStarMatch(one_star=p, no_star=s)\n",
    "        # if there are '*' in both strings\n",
    "        if (len(s.split('*'))>=2) and (len(p.split('*'))>=2):\n",
    "            sl, *tmp, sr = s.split('*')\n",
    "            pl, *tmp, pr = p.split('*')\n",
    "            return self.isMatchLeft(sl, pl) and self.isMatchRight(sr, pr)\n",
    "        # if there are two or more '*' in one string but no '*' in other string\n",
    "        if (len(s.split('*'))>=3) and (len(p.split('*'))==1):\n",
    "            s0, s1, *tmp = s.split('*')\n",
    "            if not self.isMatchLeft(s0, p): return False\n",
    "            else:\n",
    "                if s1=='': return self.isMatch(s[len(s0+'*'+s1):], p[len(s0):]) # recursion\n",
    "                for i in range(len(s0), len(p)):\n",
    "                    if self.isMatchPerfact(s1, p[i:i+len(s1)]):\n",
    "                        return self.isMatch(s[len(s0+'*'+s1):], p[i+len(s1):]) # recursion\n",
    "                return False\n",
    "        if (len(s.split('*'))==1) and (len(p.split('*'))>=3):\n",
    "            p0, p1, *tmp = p.split('*')\n",
    "            if not self.isMatchLeft(s, p0): return False\n",
    "            else:\n",
    "                if p1=='': return self.isMatch(p[len(p0+'*'+p1):], s[len(p0):]) # recursion\n",
    "                for i in range(len(p0), len(s)):\n",
    "                    if self.isMatchPerfact(p1, s[i:i+len(p1)]): \n",
    "                        return self.isMatch(p[len(p0+'*'+p1):], s[i+len(p1):]) # recursion\n",
    "                return False\n",
    "    def isMatchOne(self, char1: str, char2: str) -> bool:\n",
    "        \"\"\"\n",
    "        char1 and char2 are strings of length 1\n",
    "        neither char1 nor char2 is '*'\n",
    "        test whether these two match\n",
    "        \"\"\"\n",
    "        if char1=='?' or char2=='?': return True\n",
    "        return char1==char2\n",
    "    def isMatchLeft(self, s: str, p: str) -> bool:\n",
    "        \"\"\"\n",
    "        s and p are strings of arbitrary lengths\n",
    "        in particular they may have different lengths and return True eventually\n",
    "        neither s nor p contains '*'\n",
    "        test whether these two straings match from left \n",
    "        if all character level tests pass, return True\n",
    "        \"\"\"\n",
    "        n = min(len(s),len(p))\n",
    "        if n==0: return True\n",
    "        for char1, char2 in zip(s[:n],p[:n]):\n",
    "            if not self.isMatchOne(char1,char2): return False\n",
    "        return True\n",
    "    def isMatchRight(self, s: str, p: str) -> bool:\n",
    "        \"\"\"\n",
    "        s and p are strings of arbitrary lengths\n",
    "        in particular they may have different lengths and return True eventually\n",
    "        neither s nor p contains '*'\n",
    "        test whether these two straings match from right \n",
    "        if all character level tests pass, return True\n",
    "        \"\"\"\n",
    "        n = min(len(s),len(p))\n",
    "        if n==0: return True\n",
    "        for char1, char2 in zip(s[-n:],p[-n:]):\n",
    "            if not self.isMatchOne(char1,char2): return False\n",
    "        return True\n",
    "    def isMatchPerfact(self, s: str, p: str) -> bool:\n",
    "        \"\"\"\n",
    "        s and p are strings without wild card '*' of arbitrary lengths\n",
    "        test whether these two straings match perfactly \n",
    "        if all character level tests pass, return True\n",
    "        \"\"\"\n",
    "        if len(s)!=len(p): return False # if they have different lengths, return False\n",
    "        if len(s)==0: return True # if they are empty strings, return True\n",
    "        for char1, char2 in zip(s,p):\n",
    "            if not self.isMatchOne(char1,char2): return False\n",
    "        return True\n",
    "    def isOneStarMatch(self, one_star: str, no_star: str) -> bool:\n",
    "        \"\"\"\n",
    "        one_star has exactly one star\n",
    "        whereas p does not have \n",
    "        \"\"\"\n",
    "        if len(one_star)-1 > len(no_star): return False\n",
    "        l, r = one_star.split('*')\n",
    "        if l=='' and r=='': return True\n",
    "        if l=='' and self.isMatchPerfact(r, no_star[-len(r):]): return True\n",
    "        if self.isMatchPerfact(l, no_star[:len(l)]) and r=='': return True\n",
    "        if self.isMatchPerfact(l, no_star[:len(l)]) and self.isMatchPerfact(r, no_star[-len(r):]): return True\n",
    "        return False"
   ]
  },
  {
   "cell_type": "code",
   "execution_count": 115,
   "metadata": {},
   "outputs": [
    {
     "data": {
      "text/plain": [
       "True"
      ]
     },
     "execution_count": 115,
     "metadata": {},
     "output_type": "execute_result"
    }
   ],
   "source": [
    "s = \"\"\n",
    "p = \"******\"\n",
    "Solution().isMatch(s,p) # True"
   ]
  },
  {
   "cell_type": "code",
   "execution_count": 116,
   "metadata": {},
   "outputs": [
    {
     "data": {
      "text/plain": [
       "True"
      ]
     },
     "execution_count": 116,
     "metadata": {},
     "output_type": "execute_result"
    }
   ],
   "source": [
    "s = \"ab\"\n",
    "p = \"?*\"\n",
    "Solution().isMatch(s,p) # True"
   ]
  },
  {
   "cell_type": "code",
   "execution_count": 117,
   "metadata": {},
   "outputs": [
    {
     "data": {
      "text/plain": [
       "True"
      ]
     },
     "execution_count": 117,
     "metadata": {},
     "output_type": "execute_result"
    }
   ],
   "source": [
    "s = \"*\"\n",
    "p = \"aa\"\n",
    "Solution().isMatch(s,p) # True"
   ]
  },
  {
   "cell_type": "code",
   "execution_count": 118,
   "metadata": {},
   "outputs": [
    {
     "data": {
      "text/plain": [
       "False"
      ]
     },
     "execution_count": 118,
     "metadata": {},
     "output_type": "execute_result"
    }
   ],
   "source": [
    "s = \"sissip\"\n",
    "p = \"*ss*?i*\"\n",
    "Solution().isMatch(s,p) # False"
   ]
  },
  {
   "cell_type": "code",
   "execution_count": 119,
   "metadata": {},
   "outputs": [
    {
     "data": {
      "text/plain": [
       "True"
      ]
     },
     "execution_count": 119,
     "metadata": {},
     "output_type": "execute_result"
    }
   ],
   "source": [
    "p = \"adceb\"\n",
    "s = \"*a*b\"\n",
    "Solution().isMatch(s,p) # True"
   ]
  },
  {
   "cell_type": "markdown",
   "metadata": {},
   "source": [
    "44. Wildcard Matching\n",
    "\n",
    "# Reference\n",
    "\n",
    "[44. Wildcard Matching](https://leetcode.com/problems/wildcard-matching/)"
   ]
  }
 ],
 "metadata": {
  "kernelspec": {
   "display_name": "Python 3",
   "language": "python",
   "name": "python3"
  },
  "language_info": {
   "codemirror_mode": {
    "name": "ipython",
    "version": 3
   },
   "file_extension": ".py",
   "mimetype": "text/x-python",
   "name": "python",
   "nbconvert_exporter": "python",
   "pygments_lexer": "ipython3",
   "version": "3.8.5"
  }
 },
 "nbformat": 4,
 "nbformat_minor": 4
}
