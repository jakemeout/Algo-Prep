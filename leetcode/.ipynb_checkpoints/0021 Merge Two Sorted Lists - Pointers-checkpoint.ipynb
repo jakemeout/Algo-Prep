{
 "cells": [
  {
   "cell_type": "code",
   "execution_count": 1,
   "metadata": {},
   "outputs": [],
   "source": [
    "# Definition for singly-linked list.\n",
    "class ListNode:\n",
    "    def __init__(self, val=0, next=None):\n",
    "        self.val = val\n",
    "        self.next = next"
   ]
  },
  {
   "cell_type": "code",
   "execution_count": 8,
   "metadata": {},
   "outputs": [],
   "source": [
    "class Solution:\n",
    "    def mergeTwoLists(self, l1: ListNode, l2: ListNode) -> ListNode:\n",
    "        o, t, head = l1, l2, None # lOne, lTwo Pointer, and head\n",
    "        if o is None: return t # trivial cases\n",
    "        if t is None: return o # trivial cases\n",
    "        \n",
    "        # head initialization\n",
    "        if o.val <= t.val:\n",
    "            head = o\n",
    "            o = o.next\n",
    "        else:\n",
    "            head = t\n",
    "            t = t.next\n",
    "                \n",
    "        # comparing two vals      \n",
    "        h = head # head pointer\n",
    "        while (o is not None) and (t is not None):\n",
    "            if o.val <= t.val:\n",
    "                h.next = o\n",
    "                o = o.next\n",
    "            else:\n",
    "                h.next = t\n",
    "                t = t.next\n",
    "            h = h.next\n",
    "                \n",
    "        # last concatenation\n",
    "        if (o is None) and (t is None): return head\n",
    "        if (o is None) and (t is not None): h.next = t; return head\n",
    "        h.next = o; return head"
   ]
  },
  {
   "cell_type": "code",
   "execution_count": 9,
   "metadata": {},
   "outputs": [
    {
     "name": "stdout",
     "output_type": "stream",
     "text": [
      "1\t1\t2\t3\t4\t4\t"
     ]
    }
   ],
   "source": [
    "# Input: l1 = [1,2,4], l2 = [1,3,4]\n",
    "# Output: [1,1,2,3,4,4]\n",
    "b1 = ListNode(4)\n",
    "a1 = ListNode(2, b1)\n",
    "l1 = ListNode(1, a1) \n",
    "\n",
    "b2 = ListNode(4)\n",
    "a2 = ListNode(3, b2)\n",
    "l2 = ListNode(1, a2) \n",
    "\n",
    "head = Solution().mergeTwoLists(l1, l2)\n",
    "while head is not None:\n",
    "    print(head.val, end='\\t')\n",
    "    head = head.next"
   ]
  },
  {
   "cell_type": "code",
   "execution_count": 10,
   "metadata": {},
   "outputs": [],
   "source": [
    "# Input: l1 = [], l2 = []\n",
    "# Output: []\n",
    "l1 = None \n",
    "l2 = None \n",
    "\n",
    "head = Solution().mergeTwoLists(l1, l2)\n",
    "while head is not None:\n",
    "    print(head.val, end='\\t')\n",
    "    head = head.next"
   ]
  },
  {
   "cell_type": "code",
   "execution_count": 11,
   "metadata": {},
   "outputs": [
    {
     "name": "stdout",
     "output_type": "stream",
     "text": [
      "0\t"
     ]
    }
   ],
   "source": [
    "# Input: l1 = [], l2 = [0]\n",
    "# Output: [0]\n",
    "l1 = None \n",
    "l2 = ListNode(0) \n",
    "\n",
    "head = Solution().mergeTwoLists(l1, l2)\n",
    "while head is not None:\n",
    "    print(head.val, end='\\t')\n",
    "    head = head.next"
   ]
  },
  {
   "cell_type": "markdown",
   "metadata": {},
   "source": [
    "# Reference\n",
    "\n",
    "[21. Merge Two Sorted Lists](https://leetcode.com/problems/merge-two-sorted-lists/)\n",
    "\n",
    "[Merge Two Sorted Lists | LeetCode 21 | C++, Java, Python](https://www.youtube.com/watch?v=yn6kTAkf9Mc)"
   ]
  },
  {
   "cell_type": "code",
   "execution_count": null,
   "metadata": {},
   "outputs": [],
   "source": []
  }
 ],
 "metadata": {
  "kernelspec": {
   "display_name": "Python 3",
   "language": "python",
   "name": "python3"
  },
  "language_info": {
   "codemirror_mode": {
    "name": "ipython",
    "version": 3
   },
   "file_extension": ".py",
   "mimetype": "text/x-python",
   "name": "python",
   "nbconvert_exporter": "python",
   "pygments_lexer": "ipython3",
   "version": "3.8.5"
  }
 },
 "nbformat": 4,
 "nbformat_minor": 4
}
