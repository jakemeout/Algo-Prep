{
 "cells": [
  {
   "cell_type": "code",
   "execution_count": 2,
   "metadata": {},
   "outputs": [],
   "source": [
    "class Solution:\n",
    "    def scoreOfParentheses(self, s: str) -> int:\n",
    "        if s=='()':\n",
    "            return 1\n",
    "        \n",
    "        # find the first index where parentheses become complete\n",
    "        # ((()))(())()\n",
    "        #       ^\n",
    "        #       ^\n",
    "        #       ^\n",
    "        #       i       \n",
    "        i = 1\n",
    "        score = 1\n",
    "        while score > 0:\n",
    "            if s[i]==')':\n",
    "                score -= 1\n",
    "            else:\n",
    "                score += 1\n",
    "            i += 1\n",
    "        \n",
    "        # recursion\n",
    "        if i == len(s):\n",
    "            return 2 * self.scoreOfParentheses(s[1:-1]) \n",
    "        else:\n",
    "            return self.scoreOfParentheses(s[:i]) + self.scoreOfParentheses(s[i:]) "
   ]
  },
  {
   "cell_type": "markdown",
   "metadata": {},
   "source": [
    "# Reference\n",
    "\n",
    "[856. Score of Parentheses](https://leetcode.com/problems/score-of-parentheses/)"
   ]
  }
 ],
 "metadata": {
  "kernelspec": {
   "display_name": "Python 3",
   "language": "python",
   "name": "python3"
  },
  "language_info": {
   "codemirror_mode": {
    "name": "ipython",
    "version": 3
   },
   "file_extension": ".py",
   "mimetype": "text/x-python",
   "name": "python",
   "nbconvert_exporter": "python",
   "pygments_lexer": "ipython3",
   "version": "3.8.5"
  }
 },
 "nbformat": 4,
 "nbformat_minor": 4
}
