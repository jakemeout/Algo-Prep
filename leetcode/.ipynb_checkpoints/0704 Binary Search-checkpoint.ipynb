{
 "cells": [
  {
   "cell_type": "code",
   "execution_count": null,
   "metadata": {},
   "outputs": [],
   "source": [
    "class Solution:\n",
    "    def search(self, nums, target):\n",
    "        start, end = 0, len(nums)-1\n",
    "        mid = start + (end-start)//2\n",
    "        while start <= end:\n",
    "            if nums[mid] == target: # target is equal to your guess\n",
    "                return mid\n",
    "            elif nums[mid] > target: # target is lower than your guess\n",
    "                end = mid-1\n",
    "                mid = start + (end-start)//2\n",
    "            else: # target is higher than your guess\n",
    "                start = mid+1\n",
    "                mid = start + (end-start)//2\n",
    "        return -1"
   ]
  },
  {
   "cell_type": "markdown",
   "metadata": {},
   "source": [
    "# Reference\n",
    "\n",
    "[704. Binary Search](https://leetcode.com/problems/binary-search/)"
   ]
  }
 ],
 "metadata": {
  "kernelspec": {
   "display_name": "Python 3",
   "language": "python",
   "name": "python3"
  },
  "language_info": {
   "codemirror_mode": {
    "name": "ipython",
    "version": 3
   },
   "file_extension": ".py",
   "mimetype": "text/x-python",
   "name": "python",
   "nbconvert_exporter": "python",
   "pygments_lexer": "ipython3",
   "version": "3.8.5"
  }
 },
 "nbformat": 4,
 "nbformat_minor": 4
}
