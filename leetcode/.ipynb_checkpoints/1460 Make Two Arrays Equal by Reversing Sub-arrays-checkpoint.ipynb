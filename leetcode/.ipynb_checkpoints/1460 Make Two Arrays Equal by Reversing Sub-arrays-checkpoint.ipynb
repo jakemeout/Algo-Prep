{
 "cells": [
  {
   "cell_type": "code",
   "execution_count": null,
   "metadata": {},
   "outputs": [],
   "source": [
    "class Solution:\n",
    "    def canBeEqual(self, nums1, nums2):\n",
    "        if len(nums1) != len(nums2):\n",
    "            return False\n",
    "        d1 = self.makeCounterDict(nums1)\n",
    "        d2 = self.makeCounterDict(nums2)\n",
    "        for key in d1:\n",
    "            if key not in d2:\n",
    "                return False\n",
    "            elif d1[key] != d2[key]:\n",
    "                return False\n",
    "        return True\n",
    "    def makeCounterDict(self, nums):\n",
    "        d = {}\n",
    "        for num in nums:\n",
    "            if num in d:\n",
    "                d[num] += 1\n",
    "            else:\n",
    "                d[num] = 1\n",
    "        return d"
   ]
  },
  {
   "cell_type": "markdown",
   "metadata": {},
   "source": [
    "# Reference\n",
    "\n",
    "[1460. Make Two Arrays Equal by Reversing Sub-arrays](https://leetcode.com/problems/make-two-arrays-equal-by-reversing-sub-arrays/)"
   ]
  }
 ],
 "metadata": {
  "kernelspec": {
   "display_name": "Python 3",
   "language": "python",
   "name": "python3"
  },
  "language_info": {
   "codemirror_mode": {
    "name": "ipython",
    "version": 3
   },
   "file_extension": ".py",
   "mimetype": "text/x-python",
   "name": "python",
   "nbconvert_exporter": "python",
   "pygments_lexer": "ipython3",
   "version": "3.8.5"
  }
 },
 "nbformat": 4,
 "nbformat_minor": 4
}
