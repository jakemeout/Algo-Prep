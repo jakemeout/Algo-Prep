{
 "cells": [
  {
   "cell_type": "code",
   "execution_count": null,
   "metadata": {},
   "outputs": [],
   "source": [
    "class TreeNode:\n",
    "    def __init__(self, val=0, left=None, right=None):\n",
    "        self.val = val\n",
    "        self.left = left\n",
    "        self.right = right"
   ]
  },
  {
   "cell_type": "code",
   "execution_count": null,
   "metadata": {},
   "outputs": [],
   "source": [
    "class Solution:\n",
    "    def sumNumbers(self, root: TreeNode) -> int:\n",
    "        if root is None:\n",
    "            return 0\n",
    "        if root is not None and root.left is None and root.right is None:\n",
    "                return root.val\n",
    "        \n",
    "        ans = 0\n",
    "        cur = root\n",
    "        stack = []\n",
    "        while cur or stack:\n",
    "            if cur:\n",
    "                stack.append(cur)\n",
    "                carry = cur.val * 10\n",
    "                cur = cur.left\n",
    "                if cur is not None:\n",
    "                    cur.val += carry\n",
    "            elif stack:\n",
    "                cur = stack.pop()\n",
    "                carry = cur.val * 10\n",
    "                cur = cur.right\n",
    "                if cur is not None:\n",
    "                    cur.val += carry\n",
    "            if cur is not None and cur.left is None and cur.right is None:\n",
    "                ans += cur.val\n",
    "        return ans"
   ]
  },
  {
   "cell_type": "markdown",
   "metadata": {},
   "source": [
    "# Reference\n",
    "\n",
    "[129. Sum Root to Leaf Numbers](https://leetcode.com/problems/sum-root-to-leaf-numbers/)\n",
    "\n",
    "[Sum Root to Leaf Numbers | LeetCode 129 | C++, Java, Python](https://www.youtube.com/watch?v=tanL9EJVfrU&list=PL1w8k37X_6L-E23tn3d6oXLW63pS8-5rm&index=22)\n",
    "\n"
   ]
  }
 ],
 "metadata": {
  "kernelspec": {
   "display_name": "Python 3",
   "language": "python",
   "name": "python3"
  },
  "language_info": {
   "codemirror_mode": {
    "name": "ipython",
    "version": 3
   },
   "file_extension": ".py",
   "mimetype": "text/x-python",
   "name": "python",
   "nbconvert_exporter": "python",
   "pygments_lexer": "ipython3",
   "version": "3.8.5"
  }
 },
 "nbformat": 4,
 "nbformat_minor": 4
}
