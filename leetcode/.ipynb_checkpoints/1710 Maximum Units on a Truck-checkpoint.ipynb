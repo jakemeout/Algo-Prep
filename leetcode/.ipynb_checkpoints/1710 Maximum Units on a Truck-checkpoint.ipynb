{
 "cells": [
  {
   "cell_type": "code",
   "execution_count": 5,
   "metadata": {},
   "outputs": [],
   "source": [
    "class Solution:\n",
    "    def maximumUnits(self, boxTypes, truckSize):\n",
    "        # base cases\n",
    "        if boxTypes == []:\n",
    "            return 0\n",
    "        if truckSize == 0:\n",
    "            return 0\n",
    "        # find boxTypes with max numberOfUnitsPerBox\n",
    "        for idx, (numberOfBoxes, numberOfUnitsPerBox) in enumerate(boxTypes):\n",
    "            if idx == 0:\n",
    "                max_so_far_idx = idx\n",
    "                max_so_far_numberOfBoxes = numberOfBoxes\n",
    "                max_so_far_numberOfUnitsPerBox = numberOfUnitsPerBox\n",
    "            else:\n",
    "                if numberOfUnitsPerBox > max_so_far_numberOfUnitsPerBox: \n",
    "                    max_so_far_idx = idx\n",
    "                    max_so_far_numberOfBoxes = numberOfBoxes\n",
    "                    max_so_far_numberOfUnitsPerBox = numberOfUnitsPerBox\n",
    "        # recursion steps\n",
    "        if truckSize <= max_so_far_numberOfBoxes:\n",
    "            return max_so_far_numberOfUnitsPerBox * truckSize\n",
    "        else:\n",
    "            max_part = max_so_far_numberOfUnitsPerBox * max_so_far_numberOfBoxes\n",
    "            boxTypes.pop(max_so_far_idx)\n",
    "            res = self.maximumUnits(boxTypes, truckSize-max_so_far_numberOfBoxes)\n",
    "            return max_part + res"
   ]
  },
  {
   "cell_type": "code",
   "execution_count": 6,
   "metadata": {},
   "outputs": [
    {
     "data": {
      "text/plain": [
       "76"
      ]
     },
     "execution_count": 6,
     "metadata": {},
     "output_type": "execute_result"
    }
   ],
   "source": [
    "boxTypes = [[1,3],[5,5],[2,5],[4,2],[4,1],[3,1],[2,2],[1,3],[2,5],[3,2]]\n",
    "truckSize = 35\n",
    "Solution().maximumUnits(boxTypes, truckSize)"
   ]
  },
  {
   "cell_type": "markdown",
   "metadata": {},
   "source": [
    "# Reference\n",
    "\n",
    "[1710. Maximum Units on a Truck](https://leetcode.com/problems/maximum-units-on-a-truck/)"
   ]
  }
 ],
 "metadata": {
  "kernelspec": {
   "display_name": "Python 3",
   "language": "python",
   "name": "python3"
  },
  "language_info": {
   "codemirror_mode": {
    "name": "ipython",
    "version": 3
   },
   "file_extension": ".py",
   "mimetype": "text/x-python",
   "name": "python",
   "nbconvert_exporter": "python",
   "pygments_lexer": "ipython3",
   "version": "3.8.5"
  }
 },
 "nbformat": 4,
 "nbformat_minor": 4
}
