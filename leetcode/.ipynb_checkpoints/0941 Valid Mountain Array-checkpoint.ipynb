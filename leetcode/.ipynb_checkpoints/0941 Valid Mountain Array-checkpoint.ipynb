{
 "cells": [
  {
   "cell_type": "code",
   "execution_count": null,
   "metadata": {},
   "outputs": [],
   "source": [
    "class Solution:\n",
    "    def validMountainArray(self, arr):\n",
    "        if len(arr) <= 2: # one should go up and down to become mountain (len(arr) >= 3)\n",
    "            return False \n",
    "        if arr[0] >= arr[1]: # one should go up first to become mountain\n",
    "            return False\n",
    "        flag_down = False\n",
    "        for left, right in zip(arr[:-1],arr[1:]):\n",
    "            if not flag_down:\n",
    "                if left >= right:\n",
    "                    flag_down = True\n",
    "            if flag_down:\n",
    "                if left <= right:\n",
    "                    return False\n",
    "        if flag_down == True: \n",
    "            return True \n",
    "        else:\n",
    "            return False"
   ]
  },
  {
   "cell_type": "code",
   "execution_count": null,
   "metadata": {},
   "outputs": [],
   "source": [
    "arr = [2,1]\n",
    "Solution().validMountainArray(arr)"
   ]
  },
  {
   "cell_type": "markdown",
   "metadata": {},
   "source": [
    "# Reference\n",
    "\n",
    "[941. Valid Mountain Array](https://leetcode.com/problems/valid-mountain-array/)"
   ]
  }
 ],
 "metadata": {
  "kernelspec": {
   "display_name": "Python 3",
   "language": "python",
   "name": "python3"
  },
  "language_info": {
   "codemirror_mode": {
    "name": "ipython",
    "version": 3
   },
   "file_extension": ".py",
   "mimetype": "text/x-python",
   "name": "python",
   "nbconvert_exporter": "python",
   "pygments_lexer": "ipython3",
   "version": "3.8.5"
  }
 },
 "nbformat": 4,
 "nbformat_minor": 4
}
