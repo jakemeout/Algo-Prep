{
 "cells": [
  {
   "cell_type": "code",
   "execution_count": null,
   "metadata": {},
   "outputs": [],
   "source": [
    "class Solution:\n",
    "    def updateMatrix(self, mat):\n",
    "        self.mat = mat\n",
    "        self.m = len(mat) \n",
    "        self.n = len(mat[0])\n",
    "        from copy import deepcopy\n",
    "        out = deepcopy(mat)\n",
    "        for i in range(self.m):\n",
    "            for j in range(self.n):\n",
    "                if i == 0:\n",
    "                    for d in range(self.m+self.n):\n",
    "                        if self.existZero(i,j,d):\n",
    "                            out[i][j] = d\n",
    "                            break\n",
    "                else:\n",
    "                    for d in range(max(out[i-1][j]-1,0),self.m+self.n):\n",
    "                        if self.existZero(i,j,d):\n",
    "                            out[i][j] = d\n",
    "                            break\n",
    "        return out\n",
    "    def existZero(self,i,j,d):\n",
    "        \"\"\"\n",
    "        test whether there is zero at distance d from (i,j)\n",
    "        \"\"\"\n",
    "        # north west check\n",
    "        for tmp in range(-d,0):\n",
    "            i_ = min(i + (d+tmp), self.m-1)\n",
    "            j_ = max(j + tmp, 0)\n",
    "            if self.mat[i_][j_] == 0: return True   \n",
    "        # south west check\n",
    "        for tmp in range(-d,0):\n",
    "            i_ = max(i - (d+tmp), 0)\n",
    "            j_ = max(j + tmp, 0)\n",
    "            if self.mat[i_][j_] == 0: return True \n",
    "        # north east check\n",
    "        for tmp in range(0,d+1):\n",
    "            i_ = min(i + (d-tmp), self.m-1)\n",
    "            j_ = min(j + tmp, self.n-1)\n",
    "            if self.mat[i_][j_] == 0: return True\n",
    "        # south east check\n",
    "        for tmp in range(0,d+1):\n",
    "            i_ = max(i - (d-tmp), 0)\n",
    "            j_ = min(j + tmp, self.n-1)\n",
    "            if self.mat[i_][j_] == 0: return True\n",
    "        return False            "
   ]
  },
  {
   "cell_type": "code",
   "execution_count": 17,
   "metadata": {},
   "outputs": [
    {
     "data": {
      "text/plain": [
       "[[0, 0, 0], [0, 1, 0], [1, 2, 1]]"
      ]
     },
     "execution_count": 17,
     "metadata": {},
     "output_type": "execute_result"
    }
   ],
   "source": [
    "mat = [[0,0,0],[0,1,0],[1,1,1]]\n",
    "Solution().updateMatrix(mat)"
   ]
  },
  {
   "cell_type": "code",
   "execution_count": 7,
   "metadata": {},
   "outputs": [
    {
     "data": {
      "text/plain": [
       "[[0, 0, 0], [0, 1, 0], [0, 0, 0]]"
      ]
     },
     "execution_count": 7,
     "metadata": {},
     "output_type": "execute_result"
    }
   ],
   "source": [
    "mat = [[0,0,0],[0,1,0],[0,0,0]]\n",
    "Solution().updateMatrix(mat) # [[0,0,0],[0,1,0],[0,0,0]]"
   ]
  },
  {
   "cell_type": "markdown",
   "metadata": {},
   "source": [
    "# Reference\n",
    "\n",
    "[542. 01 Matrix](https://leetcode.com/problems/01-matrix/)"
   ]
  }
 ],
 "metadata": {
  "kernelspec": {
   "display_name": "Python 3",
   "language": "python",
   "name": "python3"
  },
  "language_info": {
   "codemirror_mode": {
    "name": "ipython",
    "version": 3
   },
   "file_extension": ".py",
   "mimetype": "text/x-python",
   "name": "python",
   "nbconvert_exporter": "python",
   "pygments_lexer": "ipython3",
   "version": "3.8.5"
  }
 },
 "nbformat": 4,
 "nbformat_minor": 4
}
