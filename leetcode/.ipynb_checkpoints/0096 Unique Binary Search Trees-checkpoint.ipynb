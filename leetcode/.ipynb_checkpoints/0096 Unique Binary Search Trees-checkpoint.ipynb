{
 "cells": [
  {
   "cell_type": "markdown",
   "metadata": {},
   "source": [
    "With $f[0]=1$\n",
    "$$\n",
    "f[n]=\\sum_{i=1}^n f[i-1] * f[n-i]\n",
    "$$"
   ]
  },
  {
   "cell_type": "code",
   "execution_count": 7,
   "metadata": {},
   "outputs": [],
   "source": [
    "class Solution:\n",
    "    def numTrees(self, n: int) -> int:\n",
    "        self.f = {}\n",
    "        self.f[0] = 1\n",
    "        for k in range(1,n+1):\n",
    "            self.computeF(k)\n",
    "        return self.f[n]\n",
    "    def computeF(self, k):\n",
    "        ans = 0\n",
    "        for i in range(1,k+1):\n",
    "            ans += self.f[i-1] * self.f[k-i]\n",
    "        self.f[k] = ans            "
   ]
  },
  {
   "cell_type": "code",
   "execution_count": 8,
   "metadata": {},
   "outputs": [
    {
     "data": {
      "text/plain": [
       "5"
      ]
     },
     "execution_count": 8,
     "metadata": {},
     "output_type": "execute_result"
    }
   ],
   "source": [
    "n = 3\n",
    "Solution().numTrees(n) # 5"
   ]
  },
  {
   "cell_type": "markdown",
   "metadata": {},
   "source": [
    "# Reference\n",
    "\n",
    "[96. Unique Binary Search Trees](https://leetcode.com/problems/unique-binary-search-trees/)\n",
    "\n",
    "[Count Unique Binary Search Trees | LeetCode 96 | C++, Java, Python | Catalan Number](https://www.youtube.com/watch?v=4s7r3bO0hoU&list=PL1w8k37X_6L-E23tn3d6oXLW63pS8-5rm&index=21)"
   ]
  }
 ],
 "metadata": {
  "kernelspec": {
   "display_name": "Python 3",
   "language": "python",
   "name": "python3"
  },
  "language_info": {
   "codemirror_mode": {
    "name": "ipython",
    "version": 3
   },
   "file_extension": ".py",
   "mimetype": "text/x-python",
   "name": "python",
   "nbconvert_exporter": "python",
   "pygments_lexer": "ipython3",
   "version": "3.8.5"
  }
 },
 "nbformat": 4,
 "nbformat_minor": 4
}
