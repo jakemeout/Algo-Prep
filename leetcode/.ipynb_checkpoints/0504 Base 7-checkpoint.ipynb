{
 "cells": [
  {
   "cell_type": "code",
   "execution_count": null,
   "metadata": {},
   "outputs": [],
   "source": [
    "class Solution:\n",
    "    def convertToBase7(self, num: int) -> str:\n",
    "        if num >= 0:\n",
    "            return self.convertToBase7Positive(num)\n",
    "        else:\n",
    "            return str(-int(self.convertToBase7Positive(-num)))\n",
    "    def convertToBase7Positive(self, num):\n",
    "        if num == 0:\n",
    "            return '0'\n",
    "        ans = ''\n",
    "        carry = num\n",
    "        while carry:\n",
    "            carry, res = divmod(carry, 7)\n",
    "            ans = str(res) + ans\n",
    "        return ans"
   ]
  },
  {
   "cell_type": "markdown",
   "metadata": {},
   "source": [
    "# Reference\n",
    "\n",
    "[504. Base 7](https://leetcode.com/problems/base-7/)"
   ]
  }
 ],
 "metadata": {
  "kernelspec": {
   "display_name": "Python 3",
   "language": "python",
   "name": "python3"
  },
  "language_info": {
   "codemirror_mode": {
    "name": "ipython",
    "version": 3
   },
   "file_extension": ".py",
   "mimetype": "text/x-python",
   "name": "python",
   "nbconvert_exporter": "python",
   "pygments_lexer": "ipython3",
   "version": "3.8.5"
  }
 },
 "nbformat": 4,
 "nbformat_minor": 4
}
