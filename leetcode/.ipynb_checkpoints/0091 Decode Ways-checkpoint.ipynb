{
 "cells": [
  {
   "cell_type": "code",
   "execution_count": null,
   "metadata": {},
   "outputs": [],
   "source": [
    "from functools import lru_cache\n",
    "\n",
    "class Solution:\n",
    "    \n",
    "    def numDecodings(self, s:str) -> int:\n",
    "        if len(s) == 0: \n",
    "            return 0\n",
    "        return self.dfs(s) \n",
    "\n",
    "    @lru_cache(maxsize=None)\n",
    "    def dfs(self, string):\n",
    "        # if string starts with '0', there is no way of encoding\n",
    "        if len(string) >= 1 and string[0] == '0':\n",
    "                return 0\n",
    "            \n",
    "        # if string == \"\", in the main method numDecodings we return 0\n",
    "        # however, in this method we return 1 so that below recursion works \n",
    "        if string == \"\" or len(string) == 1: # string == '0' case is already handled as 0\n",
    "            return 1\n",
    "        \n",
    "        # recursion step\n",
    "        if 1 <= int(string[0:2]) <= 26:\n",
    "            first = self.dfs(string[1:]) # if string == \"\", in the main method numDecodings we return 0\n",
    "            second = self.dfs(string[2:]) # however, in this method we return 1 so that below recursion works \n",
    "            return first + second\n",
    "        else:\n",
    "            return self.dfs(string[1:])"
   ]
  },
  {
   "cell_type": "code",
   "execution_count": null,
   "metadata": {},
   "outputs": [],
   "source": [
    "s = \"12\"\n",
    "Solution().numDecodings(s)"
   ]
  },
  {
   "cell_type": "markdown",
   "metadata": {},
   "source": [
    "# Reference\n",
    "\n",
    "[91. Decode Ways](https://leetcode.com/problems/decode-ways/)\n",
    "\n",
    "[[Python] Thinking process diagram (DP + DFS)](https://leetcode.com/problems/decode-ways/discuss/608268/Python-Thinking-process-diagram-(DP-%2B-DFS))\n",
    "\n",
    "[LeetCode #91: Decode Ways | Facebook Coding Interview](https://www.youtube.com/watch?v=7GDiCWM2w5Q)"
   ]
  }
 ],
 "metadata": {
  "kernelspec": {
   "display_name": "Python 3",
   "language": "python",
   "name": "python3"
  },
  "language_info": {
   "codemirror_mode": {
    "name": "ipython",
    "version": 3
   },
   "file_extension": ".py",
   "mimetype": "text/x-python",
   "name": "python",
   "nbconvert_exporter": "python",
   "pygments_lexer": "ipython3",
   "version": "3.8.5"
  }
 },
 "nbformat": 4,
 "nbformat_minor": 4
}
