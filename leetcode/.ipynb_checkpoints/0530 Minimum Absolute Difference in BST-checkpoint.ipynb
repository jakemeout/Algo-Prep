{
 "cells": [
  {
   "cell_type": "code",
   "execution_count": 3,
   "metadata": {},
   "outputs": [],
   "source": [
    "# Definition for a binary tree node.\n",
    "class TreeNode:\n",
    "    def __init__(self, val=0, left=None, right=None):\n",
    "        self.val = val\n",
    "        self.left = left\n",
    "        self.right = right"
   ]
  },
  {
   "cell_type": "code",
   "execution_count": 10,
   "metadata": {},
   "outputs": [],
   "source": [
    "class Solution:\n",
    "    def getMinimumDifference(self, root: TreeNode) -> int:\n",
    "        import numpy as np\n",
    "        # base cases\n",
    "        if root is None:\n",
    "            return np.inf\n",
    "        if root.left is None and root.right is None:\n",
    "            return np.inf\n",
    "        # recursion steps\n",
    "        if root.left is not None:\n",
    "            left = self.getMinimumDifference(root.left)\n",
    "            left_pointer = root.left\n",
    "        else:\n",
    "            left = np.inf\n",
    "            left_pointer = None\n",
    "        if root.right is not None:\n",
    "            right = self.getMinimumDifference(root.right)\n",
    "            right_pointer = root.right\n",
    "        else:\n",
    "            right = np.inf\n",
    "            right_pointer = None\n",
    "        # find max of left brach and min of right branch\n",
    "        left_max = -np.inf\n",
    "        while left_pointer is not None:\n",
    "            left_max = left_pointer.val\n",
    "            left_pointer = left_pointer.right\n",
    "        right_min = np.inf\n",
    "        while right_pointer is not None:\n",
    "            right_min = right_pointer.val\n",
    "            right_pointer = right_pointer.left\n",
    "        return min(left, root.val-left_max, right_min-root.val, right)"
   ]
  },
  {
   "cell_type": "code",
   "execution_count": 11,
   "metadata": {},
   "outputs": [
    {
     "data": {
      "text/plain": [
       "1"
      ]
     },
     "execution_count": 11,
     "metadata": {},
     "output_type": "execute_result"
    }
   ],
   "source": [
    "# [1,null,2]\n",
    "v2 = TreeNode(2)\n",
    "root = TreeNode(1,None,v2)\n",
    "Solution().getMinimumDifference(root)"
   ]
  },
  {
   "cell_type": "code",
   "execution_count": 7,
   "metadata": {},
   "outputs": [
    {
     "data": {
      "text/plain": [
       "1"
      ]
     },
     "execution_count": 7,
     "metadata": {},
     "output_type": "execute_result"
    }
   ],
   "source": [
    "# [4,2,6,1,3]\n",
    "v3 = TreeNode(3)\n",
    "v1 = TreeNode(1)\n",
    "v6 = TreeNode(6)\n",
    "v2 = TreeNode(2,v1,v3)\n",
    "root = TreeNode(4,v2,v6)\n",
    "Solution().getMinimumDifference(root)"
   ]
  },
  {
   "cell_type": "markdown",
   "metadata": {},
   "source": [
    "# Reference\n",
    "\n",
    "[530. Minimum Absolute Difference in BST](https://leetcode.com/problems/minimum-absolute-difference-in-bst/)"
   ]
  }
 ],
 "metadata": {
  "kernelspec": {
   "display_name": "Python 3",
   "language": "python",
   "name": "python3"
  },
  "language_info": {
   "codemirror_mode": {
    "name": "ipython",
    "version": 3
   },
   "file_extension": ".py",
   "mimetype": "text/x-python",
   "name": "python",
   "nbconvert_exporter": "python",
   "pygments_lexer": "ipython3",
   "version": "3.8.5"
  }
 },
 "nbformat": 4,
 "nbformat_minor": 4
}
