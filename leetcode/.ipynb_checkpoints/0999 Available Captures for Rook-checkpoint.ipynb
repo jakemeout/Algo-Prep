{
 "cells": [
  {
   "cell_type": "code",
   "execution_count": 15,
   "metadata": {},
   "outputs": [],
   "source": [
    "class Solution:\n",
    "    def numRookCaptures(self, board):\n",
    "        # find location of white rook 'R'\n",
    "        found = False\n",
    "        for i0 in range(8):\n",
    "            for k0 in range(8):\n",
    "                if board[i0][k0] == 'R':\n",
    "                    found = True\n",
    "                    break\n",
    "            if found:\n",
    "                break\n",
    "                \n",
    "        # compute number of rook captures\n",
    "        n = 0\n",
    "        # go south \n",
    "        for i in range(i0+1,8):\n",
    "            if board[i][k0] == 'p':\n",
    "                n += 1\n",
    "                break\n",
    "            elif board[i][k0] == 'B': \n",
    "                break\n",
    "        # go north\n",
    "        for i in range(i0-1,-1,-1):\n",
    "            if board[i][k0] == 'p':\n",
    "                n += 1\n",
    "                break\n",
    "            elif board[i][k0] == 'B': \n",
    "                break\n",
    "        # go east \n",
    "        for k in range(k0+1,8):\n",
    "            if board[i0][k] == 'p':\n",
    "                n += 1\n",
    "                break\n",
    "            elif board[i0][k] == 'B': \n",
    "                break\n",
    "        # go west\n",
    "        for k in range(k0-1,-1,-1):\n",
    "            if board[i0][k] == 'p':\n",
    "                n += 1\n",
    "                print('go west')\n",
    "                break\n",
    "            elif board[i0][k] == 'B': \n",
    "                break\n",
    "        return n                "
   ]
  },
  {
   "cell_type": "code",
   "execution_count": 16,
   "metadata": {},
   "outputs": [
    {
     "data": {
      "text/plain": [
       "3"
      ]
     },
     "execution_count": 16,
     "metadata": {},
     "output_type": "execute_result"
    }
   ],
   "source": [
    "board = [[\".\",\".\",\".\",\".\",\".\",\".\",\".\",\".\"],\n",
    "         [\".\",\".\",\".\",\"p\",\".\",\".\",\".\",\".\"],\n",
    "         [\".\",\".\",\".\",\"R\",\".\",\".\",\".\",\"p\"],\n",
    "         [\".\",\".\",\".\",\".\",\".\",\".\",\".\",\".\"],\n",
    "         [\".\",\".\",\".\",\".\",\".\",\".\",\".\",\".\"],\n",
    "         [\".\",\".\",\".\",\"p\",\".\",\".\",\".\",\".\"],\n",
    "         [\".\",\".\",\".\",\".\",\".\",\".\",\".\",\".\"],\n",
    "         [\".\",\".\",\".\",\".\",\".\",\".\",\".\",\".\"]]\n",
    "Solution().numRookCaptures(board) # 3"
   ]
  },
  {
   "cell_type": "markdown",
   "metadata": {},
   "source": [
    "# Reference\n",
    "\n",
    "[999. Available Captures for Rook](https://leetcode.com/problems/available-captures-for-rook/)"
   ]
  }
 ],
 "metadata": {
  "kernelspec": {
   "display_name": "Python 3",
   "language": "python",
   "name": "python3"
  },
  "language_info": {
   "codemirror_mode": {
    "name": "ipython",
    "version": 3
   },
   "file_extension": ".py",
   "mimetype": "text/x-python",
   "name": "python",
   "nbconvert_exporter": "python",
   "pygments_lexer": "ipython3",
   "version": "3.8.5"
  }
 },
 "nbformat": 4,
 "nbformat_minor": 4
}
