{
 "cells": [
  {
   "cell_type": "code",
   "execution_count": 15,
   "metadata": {},
   "outputs": [],
   "source": [
    "class Solution:\n",
    "    def myAtoi(self, s: str) -> int:\n",
    "        s = self.removeWhitespace(s)\n",
    "        sign, s = self.readSign(s)\n",
    "        num = self.readNumber(s)\n",
    "        return self.truncate(sign*num)\n",
    "    def removeWhitespace(self, s):\n",
    "        return ' '.join(s.split())\n",
    "    def readSign(self, s):\n",
    "        if s=='': return 1, s\n",
    "        if s[0]=='+': return 1, s[1:]\n",
    "        if s[0]=='-': return -1, s[1:]\n",
    "        return 1, s     \n",
    "    def readNumber(self, s):\n",
    "        if s=='': return 0\n",
    "        if not s[0].isdigit(): return 0\n",
    "        out = ''\n",
    "        for char in s:\n",
    "            if char.isdigit():\n",
    "                out += char\n",
    "            else:\n",
    "                break\n",
    "        return int(out)\n",
    "    def truncate(self, num):\n",
    "        if num < 0: return max(num, -2147483648)\n",
    "        if num >= 0: return min(num, 2147483648-1)"
   ]
  },
  {
   "cell_type": "markdown",
   "metadata": {},
   "source": [
    "# Reference\n",
    "\n",
    "[8. String to Integer (atoi)](https://leetcode.com/problems/string-to-integer-atoi/)"
   ]
  },
  {
   "cell_type": "code",
   "execution_count": null,
   "metadata": {},
   "outputs": [],
   "source": []
  }
 ],
 "metadata": {
  "kernelspec": {
   "display_name": "Python 3",
   "language": "python",
   "name": "python3"
  },
  "language_info": {
   "codemirror_mode": {
    "name": "ipython",
    "version": 3
   },
   "file_extension": ".py",
   "mimetype": "text/x-python",
   "name": "python",
   "nbconvert_exporter": "python",
   "pygments_lexer": "ipython3",
   "version": "3.8.5"
  }
 },
 "nbformat": 4,
 "nbformat_minor": 4
}
