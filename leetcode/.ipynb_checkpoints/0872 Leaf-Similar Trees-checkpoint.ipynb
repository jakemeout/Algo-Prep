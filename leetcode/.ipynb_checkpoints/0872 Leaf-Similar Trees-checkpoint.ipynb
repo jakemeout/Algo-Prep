{
 "cells": [
  {
   "cell_type": "code",
   "execution_count": null,
   "metadata": {},
   "outputs": [],
   "source": [
    "# Definition for a binary tree node.\n",
    "class TreeNode:\n",
    "    def __init__(self, val=0, left=None, right=None):\n",
    "        self.val = val\n",
    "        self.left = left\n",
    "        self.right = right"
   ]
  },
  {
   "cell_type": "code",
   "execution_count": null,
   "metadata": {},
   "outputs": [],
   "source": [
    "class Solution:\n",
    "    def leafSimilar(self, root1: TreeNode, root2: TreeNode) -> bool:\n",
    "        self.leaves1 = []\n",
    "        self.leaves2 = []\n",
    "        self.inoderTraversal(root1, self.leaves1)\n",
    "        self.inoderTraversal(root2, self.leaves2)\n",
    "        if len(self.leaves1) != len(self.leaves2):\n",
    "            return False\n",
    "        else:\n",
    "            for num1, num2 in zip(self.leaves1, self.leaves2):\n",
    "                if num1 != num2:\n",
    "                    return False\n",
    "            return True   \n",
    "    def inoderTraversal(self, root, leaves):\n",
    "        if root is not None:\n",
    "            if root.left is not None:\n",
    "                self.inoderTraversal(root.left, leaves)\n",
    "            if root.left is None and root.right is None:\n",
    "                leaves.append(root.val)\n",
    "            if root.right is not None:\n",
    "                self.inoderTraversal(root.right, leaves)        "
   ]
  },
  {
   "cell_type": "markdown",
   "metadata": {},
   "source": [
    "# Reference\n",
    "\n",
    "[872. Leaf-Similar Trees](https://leetcode.com/problems/leaf-similar-trees/)"
   ]
  }
 ],
 "metadata": {
  "kernelspec": {
   "display_name": "Python 3",
   "language": "python",
   "name": "python3"
  },
  "language_info": {
   "codemirror_mode": {
    "name": "ipython",
    "version": 3
   },
   "file_extension": ".py",
   "mimetype": "text/x-python",
   "name": "python",
   "nbconvert_exporter": "python",
   "pygments_lexer": "ipython3",
   "version": "3.8.5"
  }
 },
 "nbformat": 4,
 "nbformat_minor": 4
}
