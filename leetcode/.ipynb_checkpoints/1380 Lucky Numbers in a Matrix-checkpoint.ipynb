{
 "cells": [
  {
   "cell_type": "code",
   "execution_count": null,
   "metadata": {},
   "outputs": [],
   "source": [
    "class Solution:\n",
    "    def luckyNumbers (self, matrix):\n",
    "        import numpy as np\n",
    "        A = np.array(matrix)\n",
    "        m, n = A.shape\n",
    "        luckey_numbers = []\n",
    "        for i in range(m):\n",
    "            for j in range(n):\n",
    "                if A[i,j] == min(A[i,:]) and A[i,j] == max(A[:,j]):\n",
    "                        luckey_numbers.append(A[i,j])\n",
    "        return luckey_numbers"
   ]
  },
  {
   "cell_type": "markdown",
   "metadata": {},
   "source": [
    "# Reference\n",
    "\n",
    "[1380. Lucky Numbers in a Matrix](https://leetcode.com/problems/lucky-numbers-in-a-matrix/)"
   ]
  }
 ],
 "metadata": {
  "kernelspec": {
   "display_name": "Python 3",
   "language": "python",
   "name": "python3"
  },
  "language_info": {
   "codemirror_mode": {
    "name": "ipython",
    "version": 3
   },
   "file_extension": ".py",
   "mimetype": "text/x-python",
   "name": "python",
   "nbconvert_exporter": "python",
   "pygments_lexer": "ipython3",
   "version": "3.8.5"
  }
 },
 "nbformat": 4,
 "nbformat_minor": 4
}
