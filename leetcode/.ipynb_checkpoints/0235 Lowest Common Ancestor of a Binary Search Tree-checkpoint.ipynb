{
 "cells": [
  {
   "cell_type": "code",
   "execution_count": null,
   "metadata": {},
   "outputs": [],
   "source": [
    "# Definition for a binary tree node.\n",
    "class TreeNode:\n",
    "    def __init__(self, x):\n",
    "        self.val = x\n",
    "        self.left = None\n",
    "        self.right = None"
   ]
  },
  {
   "cell_type": "code",
   "execution_count": null,
   "metadata": {},
   "outputs": [],
   "source": [
    "class Solution:\n",
    "    def lowestCommonAncestor(self, root: 'TreeNode', p: 'TreeNode', q: 'TreeNode') -> 'TreeNode':\n",
    "        from  collections import deque\n",
    "        queue = deque([root])\n",
    "        # walk through tree to find lowest common ancestor\n",
    "        while queue:\n",
    "            for i in range(len(queue)):\n",
    "                cur = queue.popleft()\n",
    "                bool_p = self.exist(cur, p)\n",
    "                bool_q = self.exist(cur, q)\n",
    "                bool_left_p = self.exist(cur.left, p)\n",
    "                bool_left_q = self.exist(cur.left, q)\n",
    "                bool_right_p = self.exist(cur.right, p)\n",
    "                bool_right_q = self.exist(cur.right, q)\n",
    "                if cur.val==p.val and bool_q: return cur\n",
    "                if cur.val==q.val and bool_p: return cur\n",
    "                if bool_left_p and bool_right_q: return cur\n",
    "                if bool_left_q and bool_right_p: return cur\n",
    "                if cur.left:\n",
    "                    queue.append(cur.left)\n",
    "                if cur.right:\n",
    "                    queue.append(cur.right)\n",
    "        return False\n",
    "    def exist(self, root: 'TreeNode', p: 'TreeNode') -> 'TreeNode':\n",
    "        \"\"\"\n",
    "        check if p is in tree starting from root\n",
    "        \"\"\"\n",
    "        if not root:\n",
    "            return False\n",
    "        from  collections import deque\n",
    "        queue = deque([root])\n",
    "        target = p.val\n",
    "        # walk through tree to find target value\n",
    "        while queue:\n",
    "            for i in range(len(queue)):\n",
    "                cur = queue.popleft()\n",
    "                if cur.val == target:\n",
    "                    return True\n",
    "                if cur.left:\n",
    "                    queue.append(cur.left)\n",
    "                if cur.right:\n",
    "                    queue.append(cur.right)\n",
    "        return False"
   ]
  },
  {
   "cell_type": "markdown",
   "metadata": {},
   "source": [
    "# Reference\n",
    "\n",
    "[235. Lowest Common Ancestor of a Binary Search Tree](https://leetcode.com/problems/lowest-common-ancestor-of-a-binary-search-tree/)"
   ]
  },
  {
   "cell_type": "code",
   "execution_count": null,
   "metadata": {},
   "outputs": [],
   "source": []
  },
  {
   "cell_type": "code",
   "execution_count": null,
   "metadata": {},
   "outputs": [],
   "source": []
  },
  {
   "cell_type": "code",
   "execution_count": null,
   "metadata": {},
   "outputs": [],
   "source": []
  }
 ],
 "metadata": {
  "kernelspec": {
   "display_name": "Python 3",
   "language": "python",
   "name": "python3"
  },
  "language_info": {
   "codemirror_mode": {
    "name": "ipython",
    "version": 3
   },
   "file_extension": ".py",
   "mimetype": "text/x-python",
   "name": "python",
   "nbconvert_exporter": "python",
   "pygments_lexer": "ipython3",
   "version": "3.8.5"
  }
 },
 "nbformat": 4,
 "nbformat_minor": 4
}
