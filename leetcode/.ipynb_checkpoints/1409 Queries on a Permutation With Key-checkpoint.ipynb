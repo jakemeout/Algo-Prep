{
 "cells": [
  {
   "cell_type": "code",
   "execution_count": 5,
   "metadata": {},
   "outputs": [],
   "source": [
    "class Solution:\n",
    "    def processQueries(self, queries, m):\n",
    "        \"\"\"\n",
    "        :type queries: List[int]\n",
    "        :type m: int\n",
    "        :rtype: List[int]\n",
    "        \"\"\"\n",
    "        ans = []\n",
    "        lst = list(range(1,m+1))\n",
    "        #print(lst)\n",
    "        for query in queries:\n",
    "            idx = lst.index(query)\n",
    "            ans.append(idx)\n",
    "            lst = [query] + lst[:idx] + lst[idx+1:]\n",
    "            #print(lst)\n",
    "        return ans"
   ]
  },
  {
   "cell_type": "code",
   "execution_count": 6,
   "metadata": {},
   "outputs": [
    {
     "name": "stdout",
     "output_type": "stream",
     "text": [
      "[1, 2, 3, 4]\n",
      "[4, 1, 2, 3]\n",
      "[1, 4, 2, 3]\n",
      "[2, 1, 4, 3]\n",
      "[2, 1, 4, 3]\n"
     ]
    },
    {
     "data": {
      "text/plain": [
       "[3, 1, 2, 0]"
      ]
     },
     "execution_count": 6,
     "metadata": {},
     "output_type": "execute_result"
    }
   ],
   "source": [
    "queries = [4,1,2,2]\n",
    "m = 4\n",
    "Solution().processQueries(queries, m)"
   ]
  },
  {
   "cell_type": "markdown",
   "metadata": {},
   "source": [
    "# Reference\n",
    "\n",
    "[1409. Queries on a Permutation With Key](https://leetcode.com/problems/queries-on-a-permutation-with-key/)"
   ]
  }
 ],
 "metadata": {
  "kernelspec": {
   "display_name": "Python 3",
   "language": "python",
   "name": "python3"
  },
  "language_info": {
   "codemirror_mode": {
    "name": "ipython",
    "version": 3
   },
   "file_extension": ".py",
   "mimetype": "text/x-python",
   "name": "python",
   "nbconvert_exporter": "python",
   "pygments_lexer": "ipython3",
   "version": "3.8.5"
  }
 },
 "nbformat": 4,
 "nbformat_minor": 4
}
