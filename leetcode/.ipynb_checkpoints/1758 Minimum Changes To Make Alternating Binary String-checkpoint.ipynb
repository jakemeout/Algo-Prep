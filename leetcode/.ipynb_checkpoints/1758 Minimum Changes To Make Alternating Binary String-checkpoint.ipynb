{
 "cells": [
  {
   "cell_type": "code",
   "execution_count": null,
   "metadata": {},
   "outputs": [],
   "source": [
    "class Solution(object):\n",
    "    def minOperations(self, s):\n",
    "        # two targets\n",
    "        zero = \"01\" * (len(s)//2 +1) # 010101...\n",
    "        one = \"10\" * (len(s)//2 +1) # 101010...\n",
    "        # count number of swaps needed to move target zero and one \n",
    "        c_0 = 0 # number of swaps needed to move target zero\n",
    "        c_1 = 0 # number of swaps needed to move target one\n",
    "        for s1,s2,s3 in zip(s,zero,one):\n",
    "            if s1 != s2: \n",
    "                c_0 += 1 \n",
    "            if s1 != s3: \n",
    "                c_1 += 1   \n",
    "        return min(c_0,c_1)"
   ]
  },
  {
   "cell_type": "markdown",
   "metadata": {},
   "source": [
    "# Reference\n",
    "\n",
    "[1758. Minimum Changes To Make Alternating Binary String](https://leetcode.com/problems/minimum-changes-to-make-alternating-binary-string/)"
   ]
  },
  {
   "cell_type": "code",
   "execution_count": null,
   "metadata": {},
   "outputs": [],
   "source": []
  }
 ],
 "metadata": {
  "kernelspec": {
   "display_name": "Python 3",
   "language": "python",
   "name": "python3"
  },
  "language_info": {
   "codemirror_mode": {
    "name": "ipython",
    "version": 3
   },
   "file_extension": ".py",
   "mimetype": "text/x-python",
   "name": "python",
   "nbconvert_exporter": "python",
   "pygments_lexer": "ipython3",
   "version": "3.8.5"
  }
 },
 "nbformat": 4,
 "nbformat_minor": 4
}
