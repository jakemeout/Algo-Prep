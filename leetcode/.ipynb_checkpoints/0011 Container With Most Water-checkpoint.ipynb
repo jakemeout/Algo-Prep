{
 "cells": [
  {
   "cell_type": "markdown",
   "metadata": {},
   "source": [
    "There exists the unique max area:\n",
    "\n",
    "If there are two non intersecting max area A1 and A2, we can make even bigger area.\n",
    "So, there are no two non intersecting max area A1 and A2. \n",
    "* * * *                      ----->\n",
    "*     *                      ----->\n",
    "*     *    * * * * * * * *   ----->  * * * * * * * * * * * * * *\n",
    "* * * *    * * * * * * * *   ----->  * * * * * * * * * * * * * *\n",
    "\n",
    "If there are two intersecting max area A1 and A2, we can make even bigger area.\n",
    "So, there are no two intersecting max area A1 and A2. \n",
    "* * * *               ----->\n",
    "*     *               ----->\n",
    "*   * * * * * * * *   ----->  * * * * * * * * * * * *\n",
    "* * * * * * * * * *   ----->  * * * * * * * * * * * *"
   ]
  },
  {
   "cell_type": "code",
   "execution_count": null,
   "metadata": {},
   "outputs": [],
   "source": [
    "class Solution:\n",
    "    def maxArea(self, height):\n",
    "        ans = 0\n",
    "        l, r = 0, len(height)-1\n",
    "        while l < r:\n",
    "            if height[l] > height[r]:\n",
    "                ans = max(ans, height[r]*(r-l))\n",
    "                r -= 1\n",
    "            else:\n",
    "                ans = max(ans, height[l]*(r-l))\n",
    "                l += 1\n",
    "        return ans"
   ]
  },
  {
   "cell_type": "markdown",
   "metadata": {},
   "source": [
    "# Reference\n",
    "\n",
    "[11. Container With Most Water](https://leetcode.com/problems/container-with-most-water/)\n",
    "\n",
    "[Container with Most Water - Leetcode 11 - Python](https://www.youtube.com/watch?v=UuiTKBwPgAo)\n",
    "\n",
    "[LeetCode Container With Most Water Explained - Java](https://www.youtube.com/watch?v=6PrIRPpTI9Q)"
   ]
  }
 ],
 "metadata": {
  "kernelspec": {
   "display_name": "Python 3",
   "language": "python",
   "name": "python3"
  },
  "language_info": {
   "codemirror_mode": {
    "name": "ipython",
    "version": 3
   },
   "file_extension": ".py",
   "mimetype": "text/x-python",
   "name": "python",
   "nbconvert_exporter": "python",
   "pygments_lexer": "ipython3",
   "version": "3.8.5"
  }
 },
 "nbformat": 4,
 "nbformat_minor": 4
}
