{
 "cells": [
  {
   "cell_type": "code",
   "execution_count": 7,
   "metadata": {},
   "outputs": [],
   "source": [
    "class Solution:\n",
    "    def maxSatisfaction(self, satisfaction):\n",
    "        \"\"\"\n",
    "        :type satisfaction: List[int]\n",
    "        :rtype: int\n",
    "        \"\"\"\n",
    "        lst = sorted(satisfaction, reverse=True)\n",
    "        #print(lst)\n",
    "        from collections import deque\n",
    "        selected = deque()\n",
    "        #print(selected)\n",
    "        adv = 0\n",
    "        for item in lst:\n",
    "            if item + adv >= 0:\n",
    "                adv += item\n",
    "                selected.appendleft(item)\n",
    "                #print(selected)\n",
    "        return sum((idx+1)*item for idx, item in enumerate(selected))            "
   ]
  },
  {
   "cell_type": "code",
   "execution_count": 8,
   "metadata": {},
   "outputs": [
    {
     "data": {
      "text/plain": [
       "14"
      ]
     },
     "execution_count": 8,
     "metadata": {},
     "output_type": "execute_result"
    }
   ],
   "source": [
    "satisfaction = [-1,-8,0,5,-7]\n",
    "Solution().maxSatisfaction(satisfaction) # 14"
   ]
  },
  {
   "cell_type": "markdown",
   "metadata": {},
   "source": [
    "# Reference\n",
    "\n",
    "[1402. Reducing Dishes](https://leetcode.com/problems/reducing-dishes/)\n",
    "\n",
    "[Reducing Dishes (Leetcode 1402)](https://www.youtube.com/watch?v=KcPoHKuXzrI)"
   ]
  }
 ],
 "metadata": {
  "kernelspec": {
   "display_name": "Python 3",
   "language": "python",
   "name": "python3"
  },
  "language_info": {
   "codemirror_mode": {
    "name": "ipython",
    "version": 3
   },
   "file_extension": ".py",
   "mimetype": "text/x-python",
   "name": "python",
   "nbconvert_exporter": "python",
   "pygments_lexer": "ipython3",
   "version": "3.8.5"
  }
 },
 "nbformat": 4,
 "nbformat_minor": 4
}
