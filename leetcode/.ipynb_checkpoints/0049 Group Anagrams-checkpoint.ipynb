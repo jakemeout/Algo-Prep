{
 "cells": [
  {
   "cell_type": "code",
   "execution_count": 17,
   "metadata": {},
   "outputs": [],
   "source": [
    "from collections import defaultdict\n",
    "\n",
    "class Solution:\n",
    "    def groupAnagrams(self, strs):\n",
    "        d = defaultdict(list)\n",
    "        for word in strs:\n",
    "            key = \"\".join(sorted(word))\n",
    "            d[key].append(word)\n",
    "        return list(d.values())"
   ]
  },
  {
   "cell_type": "code",
   "execution_count": 18,
   "metadata": {},
   "outputs": [
    {
     "data": {
      "text/plain": [
       "[['eat', 'tea', 'ate'], ['tan', 'nat'], ['bat']]"
      ]
     },
     "execution_count": 18,
     "metadata": {},
     "output_type": "execute_result"
    }
   ],
   "source": [
    "strs = [\"eat\",\"tea\",\"tan\",\"ate\",\"nat\",\"bat\"]\n",
    "Solution().groupAnagrams(strs)"
   ]
  },
  {
   "cell_type": "markdown",
   "metadata": {},
   "source": [
    "# Reference\n",
    "\n",
    "[49. Group Anagrams](https://leetcode.com/problems/group-anagrams/)\n",
    "\n",
    "[Group Anagrams (Leetcode 49)](https://www.youtube.com/watch?v=mIQy3AU6b8Y&list=PL_lPC-CADCvSRKTJcAxtkJEGuP87K3E2J&index=11)\n",
    "\n",
    "[Group anagrams | Leetcode #49](https://www.youtube.com/watch?v=0I6IL3TnIZs&list=PLEJXowNB4kPxQIN2dCUAnQ_92HIziG4x6&index=87)"
   ]
  }
 ],
 "metadata": {
  "kernelspec": {
   "display_name": "Python 3",
   "language": "python",
   "name": "python3"
  },
  "language_info": {
   "codemirror_mode": {
    "name": "ipython",
    "version": 3
   },
   "file_extension": ".py",
   "mimetype": "text/x-python",
   "name": "python",
   "nbconvert_exporter": "python",
   "pygments_lexer": "ipython3",
   "version": "3.7.10"
  }
 },
 "nbformat": 4,
 "nbformat_minor": 4
}
