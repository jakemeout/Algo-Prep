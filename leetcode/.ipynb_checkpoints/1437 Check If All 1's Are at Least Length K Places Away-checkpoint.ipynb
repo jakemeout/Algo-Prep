{
 "cells": [
  {
   "cell_type": "code",
   "execution_count": null,
   "metadata": {},
   "outputs": [],
   "source": [
    "class Solution:\n",
    "    def kLengthApart(self, nums, k):\n",
    "        # base case\n",
    "        if len(nums) <= k+1:\n",
    "            return sum(nums) <= 1\n",
    "        # recusrsion\n",
    "        left, right = nums[:len(nums)//2], nums[len(nums)//2:]\n",
    "        if self.kLengthApart(left, k):\n",
    "            if self.kLengthApart(right, k):\n",
    "                # find last 1 in last segment of left\n",
    "                for idx_left, num in enumerate(left[-1:-k-1:-1]):\n",
    "                    if num == 1:\n",
    "                        break\n",
    "                else:\n",
    "                    return True\n",
    "                # find first 1 in first segment of right\n",
    "                for idx_right, num in enumerate(right[:k]):\n",
    "                    if num == 1:\n",
    "                        break\n",
    "                else:\n",
    "                    return True\n",
    "                # if these two are far appart, return True\n",
    "                return (idx_left+idx_right) >= k\n",
    "        return False"
   ]
  },
  {
   "cell_type": "markdown",
   "metadata": {},
   "source": [
    "# Reference\n",
    "\n",
    "[1437. Check If All 1's Are at Least Length K Places Away](https://leetcode.com/problems/check-if-all-1s-are-at-least-length-k-places-away/)"
   ]
  }
 ],
 "metadata": {
  "kernelspec": {
   "display_name": "Python 3",
   "language": "python",
   "name": "python3"
  },
  "language_info": {
   "codemirror_mode": {
    "name": "ipython",
    "version": 3
   },
   "file_extension": ".py",
   "mimetype": "text/x-python",
   "name": "python",
   "nbconvert_exporter": "python",
   "pygments_lexer": "ipython3",
   "version": "3.8.5"
  }
 },
 "nbformat": 4,
 "nbformat_minor": 4
}
