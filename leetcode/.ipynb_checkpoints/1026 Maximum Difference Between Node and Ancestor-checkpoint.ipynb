{
 "cells": [
  {
   "cell_type": "code",
   "execution_count": null,
   "metadata": {},
   "outputs": [],
   "source": [
    "class TreeNode:\n",
    "    def __init__(self, val=0, left=None, right=None):\n",
    "        self.val = val\n",
    "        self.left = left\n",
    "        self.right = right"
   ]
  },
  {
   "cell_type": "code",
   "execution_count": null,
   "metadata": {},
   "outputs": [],
   "source": [
    "class Solution:\n",
    "    def maxAncestorDiff(self, root):\n",
    "        \"\"\"\n",
    "        :type root: TreeNode\n",
    "        :rtype: int\n",
    "        \"\"\"\n",
    "        if not root: return 0\n",
    "        ans = 0\n",
    "        stack = [(root,root.val,root.val)] # cur, cur_min, cur_max\n",
    "        while stack:\n",
    "            cur, cur_min, cur_max = stack.pop()\n",
    "            if cur.left:\n",
    "                ans = max(ans,abs(cur_min-cur.left.val),abs(cur_max-cur.left.val))\n",
    "                cur_min_left, cur_max_left = min(cur_min, cur.left.val), max(cur_max, cur.left.val)\n",
    "                stack.append((cur.left,cur_min_left, cur_max_left))\n",
    "            if cur.right:\n",
    "                ans = max(ans,abs(cur_min-cur.right.val),abs(cur_max-cur.right.val))\n",
    "                cur_min_right, cur_max_right = min(cur_min, cur.right.val), max(cur_max, cur.right.val)\n",
    "                stack.append((cur.right,cur_min_right, cur_max_right))\n",
    "        return ans"
   ]
  },
  {
   "cell_type": "markdown",
   "metadata": {},
   "source": [
    "# Reference\n",
    "\n",
    "[1026. Maximum Difference Between Node and Ancestor](https://leetcode.com/problems/maximum-difference-between-node-and-ancestor/)"
   ]
  }
 ],
 "metadata": {
  "kernelspec": {
   "display_name": "Python 3",
   "language": "python",
   "name": "python3"
  },
  "language_info": {
   "codemirror_mode": {
    "name": "ipython",
    "version": 3
   },
   "file_extension": ".py",
   "mimetype": "text/x-python",
   "name": "python",
   "nbconvert_exporter": "python",
   "pygments_lexer": "ipython3",
   "version": "3.8.5"
  }
 },
 "nbformat": 4,
 "nbformat_minor": 4
}
