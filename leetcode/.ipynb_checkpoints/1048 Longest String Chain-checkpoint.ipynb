{
 "cells": [
  {
   "cell_type": "code",
   "execution_count": null,
   "id": "answering-depth",
   "metadata": {},
   "outputs": [],
   "source": [
    "class Solution:\n",
    "    def longestStrChain(self, words: List[str]) -> int:\n",
    "        memo = {}\n",
    "        for w in sorted(words, key=len):\n",
    "            memo[w] = max(memo.get(w[:i] + w[i + 1:], 0) + 1 for i in range(len(w)))\n",
    "        return max(memo.values())"
   ]
  },
  {
   "cell_type": "markdown",
   "id": "subject-personal",
   "metadata": {},
   "source": [
    "# Reference\n",
    "\n",
    "[1048. Longest String Chain](https://leetcode.com/problems/longest-string-chain/)\n",
    "\n",
    "[[Java/C++/Python] DP Solution](https://leetcode.com/problems/longest-string-chain/discuss/294890/JavaC%2B%2BPython-DP-Solution)"
   ]
  }
 ],
 "metadata": {
  "kernelspec": {
   "display_name": "Python 3",
   "language": "python",
   "name": "python3"
  },
  "language_info": {
   "codemirror_mode": {
    "name": "ipython",
    "version": 3
   },
   "file_extension": ".py",
   "mimetype": "text/x-python",
   "name": "python",
   "nbconvert_exporter": "python",
   "pygments_lexer": "ipython3",
   "version": "3.7.10"
  }
 },
 "nbformat": 4,
 "nbformat_minor": 5
}
