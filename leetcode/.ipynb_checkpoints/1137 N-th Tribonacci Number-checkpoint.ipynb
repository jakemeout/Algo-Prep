{
 "cells": [
  {
   "cell_type": "code",
   "execution_count": null,
   "metadata": {},
   "outputs": [],
   "source": [
    "class Solution:\n",
    "    def tribonacci(self, n: int) -> int:\n",
    "        # T0 = 0, T1 = 1, T2 = 1\n",
    "        if n == 0:\n",
    "            return 0\n",
    "        if n == 1:\n",
    "            return 1\n",
    "        if n == 2:\n",
    "            return 1\n",
    "        # Tn+3 = Tn + Tn+1 + Tn+2 for n >= 0.\n",
    "        a, b, c = 0, 1, 1\n",
    "        for _ in range(3,n+1):\n",
    "            tmp = a + b + c\n",
    "            a, b, c = b, c, tmp\n",
    "        return c"
   ]
  },
  {
   "cell_type": "markdown",
   "metadata": {},
   "source": [
    "# Reference\n",
    "\n",
    "[1137. N-th Tribonacci Number](https://leetcode.com/problems/n-th-tribonacci-number/)"
   ]
  }
 ],
 "metadata": {
  "kernelspec": {
   "display_name": "Python 3",
   "language": "python",
   "name": "python3"
  },
  "language_info": {
   "codemirror_mode": {
    "name": "ipython",
    "version": 3
   },
   "file_extension": ".py",
   "mimetype": "text/x-python",
   "name": "python",
   "nbconvert_exporter": "python",
   "pygments_lexer": "ipython3",
   "version": "3.8.5"
  }
 },
 "nbformat": 4,
 "nbformat_minor": 4
}
