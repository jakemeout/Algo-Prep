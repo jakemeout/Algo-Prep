{
 "cells": [
  {
   "cell_type": "code",
   "execution_count": null,
   "metadata": {},
   "outputs": [],
   "source": [
    "class TreeNode:\n",
    "    def __init__(self, val=0, left=None, right=None):\n",
    "        self.val = val\n",
    "        self.left = left\n",
    "        self.right = right"
   ]
  },
  {
   "cell_type": "code",
   "execution_count": null,
   "metadata": {},
   "outputs": [],
   "source": [
    "class Solution:\n",
    "    def allPossibleFBT(self, n):\n",
    "        \"\"\"\n",
    "        :type n: int\n",
    "        :rtype: List[TreeNode]\n",
    "        \"\"\"\n",
    "        self.memo = {}\n",
    "        if 1 not in self.memo:\n",
    "            self.memo[1] = [TreeNode(0)]\n",
    "        if n in self.memo: \n",
    "            return self.memo[n]\n",
    "        ans = []\n",
    "        for l in range(1, n-1, 2):\n",
    "            for left in self.allPossibleFBT(l):\n",
    "                for right in self.allPossibleFBT(n - l - 1):\n",
    "                    root = TreeNode(0)\n",
    "                    root.left = left\n",
    "                    root.right = right\n",
    "                    ans += [root]\n",
    "        self.memo[n] = ans\n",
    "        return self.memo[n]"
   ]
  },
  {
   "cell_type": "markdown",
   "metadata": {},
   "source": [
    "# Reference\n",
    "\n",
    "[894. All Possible Full Binary Trees](https://leetcode.com/problems/all-possible-full-binary-trees/)\n",
    "\n",
    "[Simple Python recursive solution](https://leetcode.com/problems/all-possible-full-binary-trees/discuss/163429/Simple-Python-recursive-solution.)"
   ]
  }
 ],
 "metadata": {
  "kernelspec": {
   "display_name": "Python 3",
   "language": "python",
   "name": "python3"
  },
  "language_info": {
   "codemirror_mode": {
    "name": "ipython",
    "version": 3
   },
   "file_extension": ".py",
   "mimetype": "text/x-python",
   "name": "python",
   "nbconvert_exporter": "python",
   "pygments_lexer": "ipython3",
   "version": "3.8.5"
  }
 },
 "nbformat": 4,
 "nbformat_minor": 4
}
