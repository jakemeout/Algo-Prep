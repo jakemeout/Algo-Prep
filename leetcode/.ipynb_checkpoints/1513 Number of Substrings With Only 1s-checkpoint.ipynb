{
 "cells": [
  {
   "cell_type": "code",
   "execution_count": null,
   "metadata": {},
   "outputs": [],
   "source": [
    "class Solution:\n",
    "    def numSub(self, s: str) -> int:\n",
    "        ans = 0\n",
    "        ones = s.split('0')\n",
    "        nums = [len(one) for one in ones]\n",
    "        self.modulo = 10**9 + 7\n",
    "        for num in nums:\n",
    "            ans += self.numSubstring(num) % self.modulo\n",
    "        return ans\n",
    "    def numSubstring(self, num):\n",
    "        return (num * (num + 1) // 2) % self.modulo"
   ]
  },
  {
   "cell_type": "markdown",
   "metadata": {},
   "source": [
    "# Reference\n",
    "\n",
    "[1513. Number of Substrings With Only 1s](https://leetcode.com/problems/number-of-substrings-with-only-1s/)\n",
    "\n",
    "[Number of Substrings With Only 1s (Leetcode 1513)](https://www.youtube.com/watch?v=PrhnCobAnaA&list=PL_lPC-CADCvQr__cIR1NyprmZdWi0seGm&index=2)"
   ]
  }
 ],
 "metadata": {
  "kernelspec": {
   "display_name": "Python 3",
   "language": "python",
   "name": "python3"
  },
  "language_info": {
   "codemirror_mode": {
    "name": "ipython",
    "version": 3
   },
   "file_extension": ".py",
   "mimetype": "text/x-python",
   "name": "python",
   "nbconvert_exporter": "python",
   "pygments_lexer": "ipython3",
   "version": "3.8.5"
  }
 },
 "nbformat": 4,
 "nbformat_minor": 4
}
