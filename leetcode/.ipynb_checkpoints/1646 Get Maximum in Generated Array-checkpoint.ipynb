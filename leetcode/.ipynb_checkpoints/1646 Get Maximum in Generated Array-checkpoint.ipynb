{
 "cells": [
  {
   "cell_type": "code",
   "execution_count": null,
   "metadata": {},
   "outputs": [],
   "source": [
    "class Solution:\n",
    "    def getMaximumGenerated(self, n: int) -> int:\n",
    "        # base cases\n",
    "        if n == 0:\n",
    "            return 0\n",
    "        # general cases\n",
    "        self.d = {}\n",
    "        self.d[0] = 0 # nums[0] = 0\n",
    "        self.d[1] = 1 # nums[1] = 1\n",
    "        for i in range(2,n+1):\n",
    "            self.computeAndRecord(i)\n",
    "        return max([val for val in self.d.values()])\n",
    "    def computeAndRecord(self, n):\n",
    "        # base cases\n",
    "        if n in self.d:\n",
    "            return self.d[n]\n",
    "        # recursion steps\n",
    "        if n%2 == 0: # nums[2 * i] = nums[i]\n",
    "            self.d[n] = self.computeAndRecord(n//2) \n",
    "        else: # nums[2 * i + 1] = nums[i] + nums[i + 1] \n",
    "            self.d[n] = self.computeAndRecord(n//2) + self.computeAndRecord((n//2)+1) \n",
    "        return self.d[n]"
   ]
  },
  {
   "cell_type": "markdown",
   "metadata": {},
   "source": [
    "# Reference\n",
    "\n",
    "[1646. Get Maximum in Generated Array](https://leetcode.com/problems/get-maximum-in-generated-array/)"
   ]
  }
 ],
 "metadata": {
  "kernelspec": {
   "display_name": "Python 3",
   "language": "python",
   "name": "python3"
  },
  "language_info": {
   "codemirror_mode": {
    "name": "ipython",
    "version": 3
   },
   "file_extension": ".py",
   "mimetype": "text/x-python",
   "name": "python",
   "nbconvert_exporter": "python",
   "pygments_lexer": "ipython3",
   "version": "3.8.5"
  }
 },
 "nbformat": 4,
 "nbformat_minor": 4
}
