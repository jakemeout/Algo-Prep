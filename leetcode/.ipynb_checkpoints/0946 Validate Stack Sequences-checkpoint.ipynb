{
 "cells": [
  {
   "cell_type": "code",
   "execution_count": 5,
   "metadata": {},
   "outputs": [],
   "source": [
    "class Solution:\n",
    "    def validateStackSequences(self, pushed, popped):\n",
    "        original = []\n",
    "        #print(original, pushed, popped)\n",
    "        while pushed and popped:\n",
    "            if original == []:\n",
    "                pushed_item, pushed = pushed[0], pushed[1:]\n",
    "                original.append(pushed_item)\n",
    "            elif original[-1] == popped[0]:\n",
    "                original.pop()\n",
    "                popped = popped[1:]\n",
    "            else:\n",
    "                pushed_item, pushed = pushed[0], pushed[1:]\n",
    "                original.append(pushed_item)\n",
    "            #print(original, pushed, popped)\n",
    "        if pushed != []:\n",
    "            return False\n",
    "        else:\n",
    "            return original == popped[::-1]      "
   ]
  },
  {
   "cell_type": "code",
   "execution_count": 6,
   "metadata": {},
   "outputs": [
    {
     "name": "stdout",
     "output_type": "stream",
     "text": [
      "[] [1, 2, 3, 4, 5] [4, 5, 3, 2, 1]\n",
      "[1] [2, 3, 4, 5] [4, 5, 3, 2, 1]\n",
      "[1, 2] [3, 4, 5] [4, 5, 3, 2, 1]\n",
      "[1, 2, 3] [4, 5] [4, 5, 3, 2, 1]\n",
      "[1, 2, 3, 4] [5] [4, 5, 3, 2, 1]\n",
      "[1, 2, 3] [5] [5, 3, 2, 1]\n",
      "[1, 2, 3, 5] [] [5, 3, 2, 1]\n"
     ]
    },
    {
     "data": {
      "text/plain": [
       "True"
      ]
     },
     "execution_count": 6,
     "metadata": {},
     "output_type": "execute_result"
    }
   ],
   "source": [
    "pushed = [1,2,3,4,5]\n",
    "popped = [4,5,3,2,1]\n",
    "Solution().validateStackSequences(pushed, popped)"
   ]
  },
  {
   "cell_type": "code",
   "execution_count": 7,
   "metadata": {},
   "outputs": [
    {
     "name": "stdout",
     "output_type": "stream",
     "text": [
      "[] [1, 2, 3, 4, 5] [4, 3, 5, 1, 2]\n",
      "[1] [2, 3, 4, 5] [4, 3, 5, 1, 2]\n",
      "[1, 2] [3, 4, 5] [4, 3, 5, 1, 2]\n",
      "[1, 2, 3] [4, 5] [4, 3, 5, 1, 2]\n",
      "[1, 2, 3, 4] [5] [4, 3, 5, 1, 2]\n",
      "[1, 2, 3] [5] [3, 5, 1, 2]\n",
      "[1, 2] [5] [5, 1, 2]\n",
      "[1, 2, 5] [] [5, 1, 2]\n"
     ]
    },
    {
     "data": {
      "text/plain": [
       "False"
      ]
     },
     "execution_count": 7,
     "metadata": {},
     "output_type": "execute_result"
    }
   ],
   "source": [
    "pushed = [1,2,3,4,5]\n",
    "popped = [4,3,5,1,2]\n",
    "Solution().validateStackSequences(pushed, popped)"
   ]
  },
  {
   "cell_type": "markdown",
   "metadata": {},
   "source": [
    "# Reference\n",
    "\n",
    "[946. Validate Stack Sequences](https://leetcode.com/problems/validate-stack-sequences/)"
   ]
  }
 ],
 "metadata": {
  "kernelspec": {
   "display_name": "Python 3",
   "language": "python",
   "name": "python3"
  },
  "language_info": {
   "codemirror_mode": {
    "name": "ipython",
    "version": 3
   },
   "file_extension": ".py",
   "mimetype": "text/x-python",
   "name": "python",
   "nbconvert_exporter": "python",
   "pygments_lexer": "ipython3",
   "version": "3.8.5"
  }
 },
 "nbformat": 4,
 "nbformat_minor": 4
}
