{
 "cells": [
  {
   "cell_type": "code",
   "execution_count": null,
   "metadata": {},
   "outputs": [],
   "source": [
    "class Solution:\n",
    "    def isAlienSorted(self, words, order):\n",
    "        # construct alien dict self.d\n",
    "        import string\n",
    "        self.d = {}\n",
    "        for alien, char in zip(order,string.ascii_lowercase):\n",
    "            self.d[alien] = char\n",
    "        # translate all word in words\n",
    "        for idx, word in enumerate(words):\n",
    "            words[idx] = self.translate(word)\n",
    "        # check whether words are sorted\n",
    "        for i, j in zip(words[:-1],words[1:]):\n",
    "            if i > j:\n",
    "                return False\n",
    "        return True\n",
    "    def translate(self, word):\n",
    "        out = ''\n",
    "        for alien in word:\n",
    "            out += self.d[alien]\n",
    "        return out"
   ]
  },
  {
   "cell_type": "code",
   "execution_count": 5,
   "metadata": {},
   "outputs": [
    {
     "data": {
      "text/plain": [
       "'abcdefghijklmnopqrstuvwxyz'"
      ]
     },
     "execution_count": 5,
     "metadata": {},
     "output_type": "execute_result"
    }
   ],
   "source": [
    "import string\n",
    "string.ascii_lowercase"
   ]
  },
  {
   "cell_type": "markdown",
   "metadata": {},
   "source": [
    "# Reference\n",
    "\n",
    "[953. Verifying an Alien Dictionary](https://leetcode.com/problems/verifying-an-alien-dictionary/)"
   ]
  }
 ],
 "metadata": {
  "kernelspec": {
   "display_name": "Python 3",
   "language": "python",
   "name": "python3"
  },
  "language_info": {
   "codemirror_mode": {
    "name": "ipython",
    "version": 3
   },
   "file_extension": ".py",
   "mimetype": "text/x-python",
   "name": "python",
   "nbconvert_exporter": "python",
   "pygments_lexer": "ipython3",
   "version": "3.8.5"
  }
 },
 "nbformat": 4,
 "nbformat_minor": 4
}
