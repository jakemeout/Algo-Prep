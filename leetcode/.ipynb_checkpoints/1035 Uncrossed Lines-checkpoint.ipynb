{
 "cells": [
  {
   "cell_type": "code",
   "execution_count": 5,
   "metadata": {},
   "outputs": [],
   "source": [
    "class Solution:\n",
    "    def maxUncrossedLines(self, nums1, nums2):\n",
    "        \"\"\"\n",
    "        :type nums1: List[int]\n",
    "        :type nums2: List[int]\n",
    "        :rtype int\n",
    "        \"\"\"\n",
    "        if not nums1 or not nums2: \n",
    "            return 0\n",
    "        \n",
    "        m, n = len(nums1), len(nums2)\n",
    "        \n",
    "        # table[i][j] = self.maxUncrossedLines(nums1[:i], nums2[:j])\n",
    "        table = [[ 0 for j in range(0, n+1)] for i in range(0, m+1)]\n",
    "        for i in range(1, m+1):\n",
    "            for j in range(1, n+1):\n",
    "                if nums1[i-1] == nums2[j-1]:\n",
    "                    table[i][j] = table[i-1][j-1] + 1\n",
    "                else:\n",
    "                    table[i][j] = max(table[i-1][j], table[i][j-1])\n",
    "        \n",
    "        return table[-1][-1]"
   ]
  },
  {
   "cell_type": "markdown",
   "metadata": {},
   "source": [
    "# Reference\n",
    "\n",
    "[1035. Uncrossed Lines](https://leetcode.com/problems/uncrossed-lines/)\n",
    "\n",
    "[Uncrossed Lines | LeetCode 1035 | C++, Java, Python | May LeetCoding Day 25](https://www.youtube.com/watch?v=jLv-5coG-qQ&list=PL1w8k37X_6L-UQSn0c4DJJmbLb2DzDBkx&index=18)"
   ]
  },
  {
   "cell_type": "code",
   "execution_count": null,
   "metadata": {},
   "outputs": [],
   "source": []
  }
 ],
 "metadata": {
  "kernelspec": {
   "display_name": "Python 3",
   "language": "python",
   "name": "python3"
  },
  "language_info": {
   "codemirror_mode": {
    "name": "ipython",
    "version": 3
   },
   "file_extension": ".py",
   "mimetype": "text/x-python",
   "name": "python",
   "nbconvert_exporter": "python",
   "pygments_lexer": "ipython3",
   "version": "3.8.5"
  }
 },
 "nbformat": 4,
 "nbformat_minor": 4
}
