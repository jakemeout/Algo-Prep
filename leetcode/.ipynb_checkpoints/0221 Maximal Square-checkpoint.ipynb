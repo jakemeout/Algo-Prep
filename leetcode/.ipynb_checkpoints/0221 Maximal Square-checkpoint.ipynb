{
 "cells": [
  {
   "cell_type": "markdown",
   "metadata": {},
   "source": [
    "<div align=\"center\"><img src=\"https://raw.githubusercontent.com/yuzhoujr/spazzatura/master/img_box/221.jpeg\" width=\"70%\"></div>"
   ]
  },
  {
   "cell_type": "code",
   "execution_count": 26,
   "metadata": {},
   "outputs": [],
   "source": [
    "class Solution(object):\n",
    "    def maximalSquare(self, matrix):\n",
    "        if not matrix: \n",
    "            return 0\n",
    "        \n",
    "        m, n = len(matrix), len(matrix[0])\n",
    "        table = [[ 0 if matrix[i][j] == '0' else 1 for j in range(0, n)] for i in range(0, m)]\n",
    "        \n",
    "        for i in range(1, m):\n",
    "            for j in range(1, n):\n",
    "                if matrix[i][j] == '1':\n",
    "                    table[i][j] = min(table[i-1][j], table[i][j-1], table[i-1][j-1]) + 1\n",
    "        \n",
    "        return max(max(row) for row in table) ** 2"
   ]
  },
  {
   "cell_type": "code",
   "execution_count": 27,
   "metadata": {},
   "outputs": [
    {
     "name": "stdout",
     "output_type": "stream",
     "text": [
      "1 0 0\n",
      "1 0 1\n",
      "2 0 0\n"
     ]
    },
    {
     "data": {
      "text/plain": [
       "1"
      ]
     },
     "execution_count": 27,
     "metadata": {},
     "output_type": "execute_result"
    }
   ],
   "source": [
    "matrix = [[\"0\",\"1\"],[\"1\",\"0\"]]\n",
    "Solution().maximalSquare(matrix) "
   ]
  },
  {
   "cell_type": "markdown",
   "metadata": {},
   "source": [
    "# Reference\n",
    "\n",
    "[221. Maximal Square](https://leetcode.com/problems/maximal-square/)\n",
    "\n",
    "[👏🏻 Python | DP奉上图片 - 公瑾™](https://leetcode.com/problems/maximal-square/discuss/164120/Python-or-DP-tm)\n",
    "\n",
    "[Maximal Square | (C++, Java, Python) | 30 day Challenge | Day 27 | LeetCode #221](https://www.youtube.com/watch?v=Bw8ItQLw868&list=PL1w8k37X_6L-UQSn0c4DJJmbLb2DzDBkx&index=17)"
   ]
  },
  {
   "cell_type": "code",
   "execution_count": null,
   "metadata": {},
   "outputs": [],
   "source": []
  }
 ],
 "metadata": {
  "kernelspec": {
   "display_name": "Python 3",
   "language": "python",
   "name": "python3"
  },
  "language_info": {
   "codemirror_mode": {
    "name": "ipython",
    "version": 3
   },
   "file_extension": ".py",
   "mimetype": "text/x-python",
   "name": "python",
   "nbconvert_exporter": "python",
   "pygments_lexer": "ipython3",
   "version": "3.8.5"
  }
 },
 "nbformat": 4,
 "nbformat_minor": 4
}
