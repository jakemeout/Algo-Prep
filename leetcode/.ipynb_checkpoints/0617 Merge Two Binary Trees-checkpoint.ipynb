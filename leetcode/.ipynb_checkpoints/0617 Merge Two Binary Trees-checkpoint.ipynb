{
 "cells": [
  {
   "cell_type": "code",
   "execution_count": null,
   "metadata": {},
   "outputs": [],
   "source": [
    "# Definition for a binary tree node.\n",
    "class TreeNode:\n",
    "    def __init__(self, val=0, left=None, right=None):\n",
    "        self.val = val\n",
    "        self.left = left\n",
    "        self.right = right"
   ]
  },
  {
   "cell_type": "code",
   "execution_count": null,
   "metadata": {},
   "outputs": [],
   "source": [
    "class Solution:\n",
    "    def mergeTrees(self, root1: TreeNode, root2: TreeNode) -> TreeNode:\n",
    "        # base cases\n",
    "        if root1 is None:\n",
    "            return root2\n",
    "        if root2 is None:\n",
    "            return root1\n",
    "        # recursion steps\n",
    "        root1.val += root2.val\n",
    "        if root1.left is not None and root2.left is not None:\n",
    "            root1.left = self.mergeTrees(root1.left, root2.left)\n",
    "        elif root1.left is None and root2.left is not None:\n",
    "            root1.left = root2.left\n",
    "        if root1.right is not None and root2.right is not None:\n",
    "            root1.right = self.mergeTrees(root1.right, root2.right)\n",
    "        elif root1.right is None and root2.right is not None:\n",
    "            root1.right = root2.right\n",
    "        return root1            "
   ]
  },
  {
   "cell_type": "markdown",
   "metadata": {},
   "source": [
    "# Reference\n",
    "\n",
    "[617. Merge Two Binary Trees](https://leetcode.com/problems/merge-two-binary-trees/)"
   ]
  }
 ],
 "metadata": {
  "kernelspec": {
   "display_name": "Python 3",
   "language": "python",
   "name": "python3"
  },
  "language_info": {
   "codemirror_mode": {
    "name": "ipython",
    "version": 3
   },
   "file_extension": ".py",
   "mimetype": "text/x-python",
   "name": "python",
   "nbconvert_exporter": "python",
   "pygments_lexer": "ipython3",
   "version": "3.8.5"
  }
 },
 "nbformat": 4,
 "nbformat_minor": 4
}
