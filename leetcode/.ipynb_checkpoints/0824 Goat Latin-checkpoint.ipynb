{
 "cells": [
  {
   "cell_type": "code",
   "execution_count": null,
   "metadata": {},
   "outputs": [],
   "source": [
    "class Solution:\n",
    "    def toGoatLatin(self, sentence: str) -> str:\n",
    "        lst = sentence.split()\n",
    "        for idx, word in enumerate(lst):\n",
    "            lst[idx] = self.translate(word, idx)\n",
    "        return ' '.join(lst)\n",
    "    def translate(self, word, idx):\n",
    "        # If a word begins with a vowel (a, e, i, o, or u), \n",
    "        # append \"ma\" to the end of the word.\n",
    "        if word[0] in ('a', 'e', 'i', 'o', 'u','A', 'E', 'I', 'O', 'U'):\n",
    "            out = word + 'ma'\n",
    "        # If a word begins with a consonant (i.e. not a vowel), \n",
    "        # remove the first letter and append it to the end, then add \"ma\".\n",
    "        else:\n",
    "            out = word[1:] + word[0] + 'ma'\n",
    "        # Add one letter 'a' to the end of each word per its word index \n",
    "        # in the sentence, starting with 1.\n",
    "        out += 'a' * (idx+1)\n",
    "        return out            "
   ]
  },
  {
   "cell_type": "markdown",
   "metadata": {},
   "source": [
    "# Reference\n",
    "\n",
    "[824. Goat Latin](https://leetcode.com/problems/goat-latin/)"
   ]
  }
 ],
 "metadata": {
  "kernelspec": {
   "display_name": "Python 3",
   "language": "python",
   "name": "python3"
  },
  "language_info": {
   "codemirror_mode": {
    "name": "ipython",
    "version": 3
   },
   "file_extension": ".py",
   "mimetype": "text/x-python",
   "name": "python",
   "nbconvert_exporter": "python",
   "pygments_lexer": "ipython3",
   "version": "3.8.5"
  }
 },
 "nbformat": 4,
 "nbformat_minor": 4
}
