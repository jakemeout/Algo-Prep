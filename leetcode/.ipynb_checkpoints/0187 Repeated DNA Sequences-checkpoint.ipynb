{
 "cells": [
  {
   "cell_type": "code",
   "execution_count": null,
   "id": "logical-finding",
   "metadata": {},
   "outputs": [],
   "source": [
    "from collections import Counter\n",
    "class Solution:\n",
    "    def findRepeatedDnaSequences(self, s):\n",
    "        Count = Counter(s[i-10:i] for i in range(10, len(s) + 1))\n",
    "        return [key for key in Count if Count[key] > 1]   "
   ]
  },
  {
   "cell_type": "markdown",
   "id": "focal-scope",
   "metadata": {},
   "source": [
    "# Reference\n",
    "\n",
    "[187. Repeated DNA Sequences](https://leetcode.com/problems/repeated-dna-sequences/)\n",
    "\n",
    "[[Python] 2 lines solution, explained](https://leetcode.com/problems/repeated-dna-sequences/discuss/898299/Python-2-lines-solution-explained)\n",
    "\n",
    "[Rabin Karp String Matching Algorithm](https://www.youtube.com/watch?v=S-LXeuHGF98)"
   ]
  }
 ],
 "metadata": {
  "kernelspec": {
   "display_name": "Python 3",
   "language": "python",
   "name": "python3"
  },
  "language_info": {
   "codemirror_mode": {
    "name": "ipython",
    "version": 3
   },
   "file_extension": ".py",
   "mimetype": "text/x-python",
   "name": "python",
   "nbconvert_exporter": "python",
   "pygments_lexer": "ipython3",
   "version": "3.7.10"
  }
 },
 "nbformat": 4,
 "nbformat_minor": 5
}
