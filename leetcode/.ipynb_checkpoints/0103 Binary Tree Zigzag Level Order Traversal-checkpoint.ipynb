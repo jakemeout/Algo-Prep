{
 "cells": [
  {
   "cell_type": "code",
   "execution_count": null,
   "metadata": {},
   "outputs": [],
   "source": [
    "class TreeNode:\n",
    "    def __init__(self, val=0, left=None, right=None):\n",
    "        self.val = val\n",
    "        self.left = left\n",
    "        self.right = right"
   ]
  },
  {
   "cell_type": "code",
   "execution_count": null,
   "metadata": {},
   "outputs": [],
   "source": [
    "from collections import deque\n",
    "\n",
    "class Solution:\n",
    "    def zigzagLevelOrder(self, root):\n",
    "        if not root: \n",
    "            return None\n",
    "    \n",
    "        q = deque([[root, 0]]) # [[node, level], ...]\n",
    "        val_and_level = [] # [[node.val, level], ...] \n",
    "        while q:\n",
    "            node, level = q.popleft()\n",
    "            val_and_level.append([node.val, level])\n",
    "            if node.left:\n",
    "                q.append([node.left, level + 1])\n",
    "            if node.right:\n",
    "                q.append([node.right, level + 1])\n",
    "\n",
    "        out = [deque([val_and_level[0][0]])] # [[node.val for level 0], [node.val for level 1],...]\n",
    "        for i in range(1, len(val_and_level)):\n",
    "            if val_and_level[i][1]==val_and_level[i-1][1]:\n",
    "                if val_and_level[i][1]%2==0:\n",
    "                    out[val_and_level[i][1]].append(val_and_level[i][0])\n",
    "                else:\n",
    "                    out[val_and_level[i][1]].appendleft(val_and_level[i][0])\n",
    "            else:\n",
    "                out.append(deque([val_and_level[i][0]]))\n",
    "\n",
    "        return out"
   ]
  },
  {
   "cell_type": "markdown",
   "metadata": {},
   "source": [
    "# Reference\n",
    "\n",
    "[103. Binary Tree Zigzag Level Order Traversal](https://leetcode.com/problems/binary-tree-zigzag-level-order-traversal/)\n",
    "\n",
    "[Binary Tree Zigzag Level Order Traversal | LeetCode 103 | C++](https://www.youtube.com/watch?v=mvQj-L0wEx0&list=PL1w8k37X_6L-E23tn3d6oXLW63pS8-5rm&index=26)"
   ]
  }
 ],
 "metadata": {
  "kernelspec": {
   "display_name": "Python 3",
   "language": "python",
   "name": "python3"
  },
  "language_info": {
   "codemirror_mode": {
    "name": "ipython",
    "version": 3
   },
   "file_extension": ".py",
   "mimetype": "text/x-python",
   "name": "python",
   "nbconvert_exporter": "python",
   "pygments_lexer": "ipython3",
   "version": "3.8.5"
  }
 },
 "nbformat": 4,
 "nbformat_minor": 4
}
