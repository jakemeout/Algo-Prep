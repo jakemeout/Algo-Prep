{
 "cells": [
  {
   "cell_type": "code",
   "execution_count": null,
   "metadata": {},
   "outputs": [],
   "source": [
    "class TreeNode:\n",
    "    def __init__(self, val=0, left=None, right=None):\n",
    "        self.val = val\n",
    "        self.left = left\n",
    "        self.right = right"
   ]
  },
  {
   "cell_type": "code",
   "execution_count": null,
   "metadata": {},
   "outputs": [],
   "source": [
    "class Solution:\n",
    "    def kthSmallest(self, root, k):\n",
    "        stack = []\n",
    "        while True:\n",
    "            if root:\n",
    "                stack.append(root)\n",
    "                root = root.left\n",
    "            elif stack:\n",
    "                root = stack.pop()\n",
    "                k -= 1\n",
    "                if k == 0:\n",
    "                    return root.val\n",
    "                root = root.right\n",
    "            else:\n",
    "                break"
   ]
  },
  {
   "cell_type": "markdown",
   "metadata": {},
   "source": [
    "# Reference\n",
    "\n",
    "[230. Kth Smallest Element in a BST](https://leetcode.com/problems/kth-smallest-element-in-a-bst/)\n",
    "\n",
    "[Python Easy Iterative Solution](https://leetcode.com/problems/kth-smallest-element-in-a-bst/discuss/497404/Python-Easy-Iterative-Solution)\n",
    "\n",
    "[kth Smallest Element in a BST | LeetCode 230 | C++, Java, Python | May LeetCoding Day 20](https://www.youtube.com/watch?v=TkD00BTzNDk&list=PL1w8k37X_6L-E23tn3d6oXLW63pS8-5rm&index=17)\n",
    "\n"
   ]
  }
 ],
 "metadata": {
  "kernelspec": {
   "display_name": "Python 3",
   "language": "python",
   "name": "python3"
  },
  "language_info": {
   "codemirror_mode": {
    "name": "ipython",
    "version": 3
   },
   "file_extension": ".py",
   "mimetype": "text/x-python",
   "name": "python",
   "nbconvert_exporter": "python",
   "pygments_lexer": "ipython3",
   "version": "3.8.5"
  }
 },
 "nbformat": 4,
 "nbformat_minor": 4
}
