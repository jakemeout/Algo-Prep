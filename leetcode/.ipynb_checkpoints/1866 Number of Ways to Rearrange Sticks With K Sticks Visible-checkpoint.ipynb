{
 "cells": [
  {
   "cell_type": "code",
   "execution_count": null,
   "metadata": {},
   "outputs": [],
   "source": [
    "class Solution:\n",
    "    \n",
    "    def rearrangeSticks(self, n: int, k: int) -> int:\n",
    "        self.M = 10 ** 9 + 7\n",
    "        self.cache = {}\n",
    "        return self.dp(n, k)\n",
    "    \n",
    "    def dp(self, n, k):\n",
    "        if n == k:\n",
    "            self.cache[(n,k)] = 1\n",
    "            return self.cache[(n,k)]\n",
    "        if n <= 0 or k <= 0:\n",
    "            self.cache[(n,k)] = 0\n",
    "            return self.cache[(n,k)]\n",
    "        if (n,k) in self.cache:\n",
    "            return self.cache[(n,k)]\n",
    "        else:\n",
    "            self.cache[(n,k)] = (self.dp(n - 1, k - 1) + (n - 1) * self.dp(n - 1, k)) % self.M \n",
    "            return self.cache[(n,k)] "
   ]
  },
  {
   "cell_type": "markdown",
   "metadata": {},
   "source": [
    "# Reference\n",
    "\n",
    "[1866. Number of Ways to Rearrange Sticks With K Sticks Visible](https://leetcode.com/problems/number-of-ways-to-rearrange-sticks-with-k-sticks-visible/)\n",
    "\n",
    "[Python DP O(n*k) with explanation: insert the shortest stick](https://leetcode.com/problems/number-of-ways-to-rearrange-sticks-with-k-sticks-visible/discuss/1211097/Python-DP-O(n*k)-with-explanation%3A-insert-the-shortest-stick)"
   ]
  }
 ],
 "metadata": {
  "kernelspec": {
   "display_name": "Python 3",
   "language": "python",
   "name": "python3"
  },
  "language_info": {
   "codemirror_mode": {
    "name": "ipython",
    "version": 3
   },
   "file_extension": ".py",
   "mimetype": "text/x-python",
   "name": "python",
   "nbconvert_exporter": "python",
   "pygments_lexer": "ipython3",
   "version": "3.8.5"
  }
 },
 "nbformat": 4,
 "nbformat_minor": 4
}
