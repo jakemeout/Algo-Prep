{
 "cells": [
  {
   "cell_type": "markdown",
   "metadata": {},
   "source": [
    "##### Example 1:\n",
    "s1 = \"xx\"\n",
    "\n",
    "s2 = \"yy\"\n",
    "\n",
    "if we iterate through both string and keep checking every index, we get two indexes with different values in both s1 and s2:\n",
    "\"x_y\" at index 0 and \"x_y\" at index 1.\n",
    "if we have 2 \"x_y\" then we only need 1 swap to make them equal. Swap x at index 0 in s1 with y at index 1 in s2.\n",
    "\n",
    "##### Example 2:\n",
    "s1 = \"yy\"\n",
    "\n",
    "s2 = \"xx\"\n",
    "\n",
    "Here also we have 2 different values: \"y_x\" at index 0 and \"y_x\" at index 1. so it will also take 1 swap to make them equal.\n",
    "\n",
    "##### Example 3:\n",
    "s1 = \"xy\"\n",
    "\n",
    "s2 = \"yx\"\n",
    "\n",
    "Here we have one count of \"x_y\" at index 0 and one count of \"y_x\" at index 1. We need 2 swaps to make these indexes equal.\n",
    "Swap s1[0] and s2[0], s1 = \"yy\", s2 = \"xx\".\n",
    "Swap s1[0] and s2[1], s1 = \"xy\", s2 = \"xy\"."
   ]
  },
  {
   "cell_type": "code",
   "execution_count": null,
   "metadata": {},
   "outputs": [],
   "source": [
    "class Solution:\n",
    "    def minimumSwap(self, s1: str, s2: str) -> int:\n",
    "        x_y, y_x = 0, 0\n",
    "        for c1, c2 in zip(s1, s2):\n",
    "            if c1 != c2:\n",
    "                if c1 == 'x':\n",
    "                    x_y += 1\n",
    "                else:\n",
    "                    y_x += 1\n",
    "                    \n",
    "        if (x_y + y_x) % 2 == 1:\n",
    "            return -1\n",
    "        \n",
    "        ans = x_y // 2 # Example 1 \n",
    "        ans += y_x // 2 # Example 2\n",
    "        if x_y % 2 == 1: # Example 3\n",
    "            ans += 2   \n",
    "        return ans"
   ]
  },
  {
   "cell_type": "markdown",
   "metadata": {},
   "source": [
    "# Reference\n",
    "\n",
    "[1247. Minimum Swaps to Make Strings Equal](https://leetcode.com/problems/minimum-swaps-to-make-strings-equal/)\n",
    "\n",
    "[Simply Simple Python Solution - with detailed explanation](https://leetcode.com/problems/minimum-swaps-to-make-strings-equal/discuss/419874/Simply-Simple-Python-Solution-with-detailed-explanation)"
   ]
  }
 ],
 "metadata": {
  "kernelspec": {
   "display_name": "Python 3",
   "language": "python",
   "name": "python3"
  },
  "language_info": {
   "codemirror_mode": {
    "name": "ipython",
    "version": 3
   },
   "file_extension": ".py",
   "mimetype": "text/x-python",
   "name": "python",
   "nbconvert_exporter": "python",
   "pygments_lexer": "ipython3",
   "version": "3.8.5"
  }
 },
 "nbformat": 4,
 "nbformat_minor": 4
}
