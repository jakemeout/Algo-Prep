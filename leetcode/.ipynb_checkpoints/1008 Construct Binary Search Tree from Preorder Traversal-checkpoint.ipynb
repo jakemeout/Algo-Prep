{
 "cells": [
  {
   "cell_type": "code",
   "execution_count": 6,
   "metadata": {},
   "outputs": [],
   "source": [
    "# Definition for a binary tree node.\n",
    "class TreeNode:\n",
    "    def __init__(self, val=0, left=None, right=None):\n",
    "        self.val = val\n",
    "        self.left = left\n",
    "        self.right = right"
   ]
  },
  {
   "cell_type": "code",
   "execution_count": 7,
   "metadata": {},
   "outputs": [],
   "source": [
    "class Solution:\n",
    "    def bstFromPreorder(self, preorder):\n",
    "        \"\"\"\n",
    "        :type preorder: List[int]\n",
    "        :rtype TreeNode \n",
    "        \"\"\"\n",
    "        if len(preorder) == 0:\n",
    "            return None\n",
    "        \n",
    "        root = TreeNode(preorder[0])\n",
    "        stack = [root]\n",
    "#         print('[',end=' ')\n",
    "#         for node in stack:\n",
    "#             print(node.val,end=' ')\n",
    "#         print(']')\n",
    "        for value in preorder[1:]:\n",
    "            if value < stack[-1].val:\n",
    "                stack[-1].left = TreeNode(value)\n",
    "                stack.append(stack[-1].left)\n",
    "#                 print('[',end=' ')\n",
    "#                 for node in stack:\n",
    "#                     print(node.val,end=' ')\n",
    "#                 print(']')\n",
    "            else:\n",
    "                while stack and stack[-1].val < value:\n",
    "                    last = stack.pop()\n",
    "#                     print('[',end=' ')\n",
    "#                     for node in stack:\n",
    "#                         print(node.val,end=' ')\n",
    "#                     print(']')\n",
    "                last.right = TreeNode(value)\n",
    "                stack.append(last.right)\n",
    "#                 print('[',end=' ')\n",
    "#                 for node in stack:\n",
    "#                     print(node.val,end=' ')\n",
    "#                 print(']')\n",
    "        return root        "
   ]
  },
  {
   "cell_type": "code",
   "execution_count": 8,
   "metadata": {},
   "outputs": [
    {
     "name": "stdout",
     "output_type": "stream",
     "text": [
      "[ 8 ]\n",
      "[ 8 5 ]\n",
      "[ 8 5 1 ]\n",
      "[ 8 5 ]\n",
      "[ 8 ]\n",
      "[ 8 7 ]\n",
      "[ 8 ]\n",
      "[ ]\n",
      "[ 10 ]\n",
      "[ ]\n",
      "[ 12 ]\n"
     ]
    },
    {
     "data": {
      "text/plain": [
       "<__main__.TreeNode at 0x7fdb24f654f0>"
      ]
     },
     "execution_count": 8,
     "metadata": {},
     "output_type": "execute_result"
    }
   ],
   "source": [
    "preorder = [8,5,1,7,10,12]\n",
    "Solution().bstFromPreorder(preorder)"
   ]
  },
  {
   "cell_type": "markdown",
   "metadata": {},
   "source": [
    "# Reference\n",
    "\n",
    "[1008. Construct Binary Search Tree from Preorder Traversal](https://leetcode.com/problems/construct-binary-search-tree-from-preorder-traversal/)\n",
    "\n",
    "[Binary Search Tree from Preorder traversal | LeetCode 1008 | C++, Java, Python | May Challenge 24](https://www.youtube.com/watch?v=GvPBasOr_mE&list=PL1w8k37X_6L-E23tn3d6oXLW63pS8-5rm&index=12)\n",
    "\n",
    "[Python stack solution beats 100% on runtime and memory](https://leetcode.com/problems/construct-binary-search-tree-from-preorder-traversal/discuss/252722/Python-stack-solution-beats-100-on-runtime-and-memory)"
   ]
  }
 ],
 "metadata": {
  "kernelspec": {
   "display_name": "Python 3",
   "language": "python",
   "name": "python3"
  },
  "language_info": {
   "codemirror_mode": {
    "name": "ipython",
    "version": 3
   },
   "file_extension": ".py",
   "mimetype": "text/x-python",
   "name": "python",
   "nbconvert_exporter": "python",
   "pygments_lexer": "ipython3",
   "version": "3.8.5"
  }
 },
 "nbformat": 4,
 "nbformat_minor": 4
}
