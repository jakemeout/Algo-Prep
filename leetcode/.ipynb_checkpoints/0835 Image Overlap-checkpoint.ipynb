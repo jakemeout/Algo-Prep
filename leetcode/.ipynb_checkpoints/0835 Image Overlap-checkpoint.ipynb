{
 "cells": [
  {
   "cell_type": "code",
   "execution_count": null,
   "metadata": {},
   "outputs": [],
   "source": [
    "class Solution:\n",
    "    def largestOverlap(self, A, B):\n",
    "        \"\"\"\n",
    "        :type A: List[List[int]]\n",
    "        :type B: List[List[int]]\n",
    "        :rtype: int\n",
    "        \"\"\"\n",
    "        a = []\n",
    "        b = []\n",
    "        for i in range(len(A)):\n",
    "            for j in range(len(A[0])):\n",
    "                if(A[i][j] == 1):\n",
    "                    a.append((i,j))\n",
    "                if(B[i][j] == 1):\n",
    "                    b.append((i,j))\n",
    "                    \n",
    "        ans = 0\n",
    "        d = collections.defaultdict(int)\n",
    "        for t1 in a:\n",
    "            for t2 in b:\n",
    "                t3 = (t2[0]-t1[0],t2[1]-t1[1])\n",
    "                d[t3] += 1\n",
    "                ans = max(ans, d[t3])\n",
    "        return ans"
   ]
  },
  {
   "cell_type": "markdown",
   "metadata": {},
   "source": [
    "# Reference\n",
    "\n",
    "[835. Image Overlap](https://leetcode.com/problems/image-overlap/)\n",
    "\n",
    "[Python Easy Logic](https://leetcode.com/problems/image-overlap/discuss/150504/Python-Easy-Logic)\n",
    "\n",
    "[Image Overlap | LeetCode 835 | C++, Java, Python](https://www.youtube.com/watch?v=zfjBapE3Y6E)"
   ]
  }
 ],
 "metadata": {
  "kernelspec": {
   "display_name": "Python 3",
   "language": "python",
   "name": "python3"
  },
  "language_info": {
   "codemirror_mode": {
    "name": "ipython",
    "version": 3
   },
   "file_extension": ".py",
   "mimetype": "text/x-python",
   "name": "python",
   "nbconvert_exporter": "python",
   "pygments_lexer": "ipython3",
   "version": "3.8.5"
  }
 },
 "nbformat": 4,
 "nbformat_minor": 4
}
