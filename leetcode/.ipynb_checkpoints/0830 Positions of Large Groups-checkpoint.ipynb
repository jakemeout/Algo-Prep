{
 "cells": [
  {
   "cell_type": "code",
   "execution_count": 11,
   "metadata": {},
   "outputs": [],
   "source": [
    "class Solution:\n",
    "    def largeGroupPositions(self, s):\n",
    "        out = []\n",
    "        start = 0\n",
    "        char_tset = s[start]\n",
    "        char_test_count = 1\n",
    "        #print(char_tset, char_test_count,'->',end=' ')\n",
    "        flag_record = False\n",
    "        for idx, char in enumerate(s[1:],start=1):\n",
    "            if char == char_tset:\n",
    "                char_test_count += 1\n",
    "                flag_record = False\n",
    "                #print(char, char_test_count,'->',end=' ')\n",
    "            else:\n",
    "                if char_test_count >= 3:\n",
    "                    out.append([start, idx-1])\n",
    "                flag_record = True\n",
    "                start = idx\n",
    "                char_tset = s[start]\n",
    "                char_test_count = 1\n",
    "                #print(char, char_test_count,'->',end=' ')\n",
    "        if not flag_record:\n",
    "            if char_test_count >= 3:\n",
    "                out.append([start, idx])\n",
    "        return out"
   ]
  },
  {
   "cell_type": "code",
   "execution_count": 12,
   "metadata": {},
   "outputs": [
    {
     "data": {
      "text/plain": [
       "[[0, 2]]"
      ]
     },
     "execution_count": 12,
     "metadata": {},
     "output_type": "execute_result"
    }
   ],
   "source": [
    "s = \"aaa\"\n",
    "Solution().largeGroupPositions(s) # [[0,2]]"
   ]
  },
  {
   "cell_type": "markdown",
   "metadata": {},
   "source": [
    "# Reference\n",
    "\n",
    "[830. Positions of Large Groups](https://leetcode.com/problems/positions-of-large-groups/)"
   ]
  }
 ],
 "metadata": {
  "kernelspec": {
   "display_name": "Python 3",
   "language": "python",
   "name": "python3"
  },
  "language_info": {
   "codemirror_mode": {
    "name": "ipython",
    "version": 3
   },
   "file_extension": ".py",
   "mimetype": "text/x-python",
   "name": "python",
   "nbconvert_exporter": "python",
   "pygments_lexer": "ipython3",
   "version": "3.8.5"
  }
 },
 "nbformat": 4,
 "nbformat_minor": 4
}
