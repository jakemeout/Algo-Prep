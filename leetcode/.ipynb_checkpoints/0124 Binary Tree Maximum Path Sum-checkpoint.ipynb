{
 "cells": [
  {
   "cell_type": "code",
   "execution_count": null,
   "metadata": {},
   "outputs": [],
   "source": [
    "class TreeNode:\n",
    "    def __init__(self, val=0, left=None, right=None):\n",
    "        self.val = val\n",
    "        self.left = left\n",
    "        self.right = right"
   ]
  },
  {
   "cell_type": "code",
   "execution_count": null,
   "metadata": {},
   "outputs": [],
   "source": [
    "class Solution:\n",
    "    def maxPathSum(self, root: TreeNode) -> int:\n",
    "        \"\"\"\n",
    "        :type root: TreeNode\n",
    "        :rtype: int\n",
    "        \"\"\"\n",
    "        self.max_path_sum = -float('inf')\n",
    "        self.maxPathSumFromRoot(root)\n",
    "        return self.max_path_sum\n",
    "    \n",
    "    def maxPathSumFromRoot(self, node):\n",
    "        \"\"\"\n",
    "        :type node: TreeNode\n",
    "        :rtype: int\n",
    "        \"\"\"\n",
    "        if not node: # if node is None, \n",
    "            return 0 # depth is 0\n",
    "        else:\n",
    "            left = self.maxPathSumFromRoot(node.left)\n",
    "            right = self.maxPathSumFromRoot(node.right)\n",
    "            \n",
    "            # max path sum is the max sum of path from one node to another node of the form\n",
    "            #      left_somewhere - node.left - node - node.right - right_somewhere \n",
    "            #      left_somewhere - node.left - node \n",
    "            #                                   node - node.right - right_somewhere \n",
    "            #                                   node\n",
    "            #\n",
    "            # if the sum of path left_somewhere-node.left-node-node.right-right_somewhere is \n",
    "            # larger than the current record self.max_path_sum\n",
    "            # update self.max_path_sum\n",
    "            self.max_path_sum = max(self.max_path_sum,left+right+node.val,left+node.val,right+node.val,node.val)\n",
    "                \n",
    "            return max(max(left, right) + node.val, node.val)"
   ]
  },
  {
   "cell_type": "code",
   "execution_count": 1,
   "metadata": {},
   "outputs": [
    {
     "data": {
      "text/plain": [
       "-inf"
      ]
     },
     "execution_count": 1,
     "metadata": {},
     "output_type": "execute_result"
    }
   ],
   "source": [
    "-float('inf')"
   ]
  },
  {
   "cell_type": "markdown",
   "metadata": {},
   "source": [
    "# Reference\n",
    "\n",
    "[124. Binary Tree Maximum Path Sum](https://leetcode.com/problems/binary-tree-maximum-path-sum/)\n",
    "\n",
    "[543. Diameter of Binary Tree](https://leetcode.com/problems/diameter-of-binary-tree/)\n",
    "\n",
    "[Binary Tree Maximum Path Sum | (C++, Java, Python) | 30 day Challenge | Day 29 | LeetCode #124](https://www.youtube.com/watch?v=j_e3RLtOZXg&list=PL1w8k37X_6L-E23tn3d6oXLW63pS8-5rm&index=13)"
   ]
  }
 ],
 "metadata": {
  "kernelspec": {
   "display_name": "Python 3",
   "language": "python",
   "name": "python3"
  },
  "language_info": {
   "codemirror_mode": {
    "name": "ipython",
    "version": 3
   },
   "file_extension": ".py",
   "mimetype": "text/x-python",
   "name": "python",
   "nbconvert_exporter": "python",
   "pygments_lexer": "ipython3",
   "version": "3.8.5"
  }
 },
 "nbformat": 4,
 "nbformat_minor": 4
}
