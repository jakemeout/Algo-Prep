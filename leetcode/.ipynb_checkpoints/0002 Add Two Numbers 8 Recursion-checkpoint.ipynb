{
 "cells": [
  {
   "cell_type": "code",
   "execution_count": 1,
   "metadata": {},
   "outputs": [],
   "source": [
    "# Definition for singly-linked list.\n",
    "class ListNode:\n",
    "    def __init__(self, val=0, next=None):\n",
    "        self.val = val\n",
    "        self.next = next"
   ]
  },
  {
   "cell_type": "code",
   "execution_count": 2,
   "metadata": {},
   "outputs": [],
   "source": [
    "# without recursion\n",
    "class Solution:\n",
    "    def addTwoNumbers(self, l1: ListNode, l2: ListNode) -> ListNode:\n",
    "        self.initialization()\n",
    "        \n",
    "        l1_run, l2_run = l1, l2\n",
    "        while self.flag1 and self.flag2:\n",
    "            val, self.trans = self.addTwoListNode(l1_run, l2_run)\n",
    "            l1_run.val = val\n",
    "            l1_run_next, l2_run_next = l1_run.next, l2_run.next\n",
    "            self.flagUpdate(l1_run_next, l2_run_next)\n",
    "            if self.flag1:\n",
    "                l1_run = l1_run_next\n",
    "            if self.flag2:\n",
    "                l2_run = l2_run_next\n",
    "        \n",
    "        # addition ops are finished with zero self.trans\n",
    "        if not self.trans: # self.trans is zero\n",
    "            if (not self.flag2): # l2 series finishes\n",
    "                return l1\n",
    "            else: # l2 series does not finish\n",
    "                l1_run.next = l2_run_next \n",
    "                return l1\n",
    "            \n",
    "        # addition ops are finished with non-zero self.trans    \n",
    "        else: # self.trans is non-zero\n",
    "            if self.flag1 and (not self.flag2): # l2 series finishes\n",
    "                # l1 series update\n",
    "                while self.flag1:\n",
    "                    val, self.trans = self.addOneListNode(l1_run)\n",
    "                    l1_run.val = val\n",
    "                    l1_run_next = l1_run.next\n",
    "                    self.flag1Update(l1_run_next)\n",
    "                    if self.flag1:\n",
    "                        l1_run = l1_run_next\n",
    "                if not self.trans: # self.trans is zero\n",
    "                    return l1\n",
    "                else: # self.trans is non-zero\n",
    "                    l1_run.next = ListNode(val=self.trans, next=None) \n",
    "                    return l1\n",
    "            elif (not self.flag1) and self.flag2: # l1 series finishes\n",
    "                # l2 series update\n",
    "                l1_run.next = l2_run_next\n",
    "                l2_run = l1_run.next\n",
    "                while self.flag2:\n",
    "                    val, self.trans = self.addOneListNode(l2_run)\n",
    "                    l2_run.val = val\n",
    "                    l2_run_next = l2_run.next\n",
    "                    self.flag2Update(l2_run_next)\n",
    "                    if self.flag2:\n",
    "                        l2_run = l2_run_next\n",
    "                if not self.trans: # self.trans is zero\n",
    "                    return l1\n",
    "                else: # self.trans is non-zero\n",
    "                    l2_run.next = ListNode(val=self.trans, next=None) \n",
    "                    return l1\n",
    "            else: # both series are termonated at the same time\n",
    "                l1_run.next = ListNode(val=self.trans, next=None) \n",
    "                return l1\n",
    "    def initialization(self):\n",
    "        self.flag1 = True # flag of l1 continuation\n",
    "        self.flag2 = True # flag of l2 continuation\n",
    "        self.trans = 0 # transported value from previous step\n",
    "    def addTwoListNode(self, l1, l2):\n",
    "        tmp = l1.val + l2.val + self.trans\n",
    "        return tmp%10, tmp//10 # val, trans\n",
    "    def addOneListNode(self, l1):\n",
    "        tmp = l1.val + self.trans\n",
    "        return tmp%10, tmp//10 # val, trans\n",
    "    def flagUpdate(self, l1, l2):\n",
    "        self.flag1Update(l1)\n",
    "        self.flag2Update(l2)\n",
    "    def flag1Update(self, l1):\n",
    "        if l1 is None: self.flag1 = False\n",
    "    def flag2Update(self, l2):\n",
    "        if l2 is None: self.flag2 = False"
   ]
  },
  {
   "cell_type": "code",
   "execution_count": 3,
   "metadata": {},
   "outputs": [],
   "source": [
    "# with recursion\n",
    "class Solution:\n",
    "    def addTwoNumbers(self, l1: ListNode, l2: ListNode) -> ListNode:\n",
    "        # trivial cases\n",
    "        if l1 == None and l2 == None: return None\n",
    "        \n",
    "        # adjust initial nodes so that the addition op makes sense\n",
    "        if l1 == None: l1 = ListNode()     \n",
    "        if l2 == None: l2 = ListNode()\n",
    "        \n",
    "        # inital node addition (base case)\n",
    "        head = ListNode(val=l1.val+l2.val)\n",
    "        if head.val > 9:\n",
    "            head.val = head.val % 10\n",
    "            if l1.next == None: l1.next = ListNode(val=1)\n",
    "            else: l1.next.val += 1\n",
    "        \n",
    "        # recursion\n",
    "        head.next = self.addTwoNumbers(l1.next, l2.next)\n",
    "        return head"
   ]
  },
  {
   "cell_type": "code",
   "execution_count": 4,
   "metadata": {},
   "outputs": [
    {
     "name": "stdout",
     "output_type": "stream",
     "text": [
      "[\t7\t0\t4\t0\t1\t]\t"
     ]
    }
   ],
   "source": [
    "# l1 = [2,4,9]\n",
    "b1 = ListNode(val=9, next=None)\n",
    "a1 = ListNode(val=4, next=b1)\n",
    "l1 = ListNode(val=2, next=a1)\n",
    "\n",
    "# l2 = [5,6,4,9]\n",
    "c2 = ListNode(val=9, next=None)\n",
    "b2 = ListNode(val=4, next=c2)\n",
    "a2 = ListNode(val=6, next=b2)\n",
    "l2 = ListNode(val=5, next=a2)\n",
    "\n",
    "init_node = Solution().addTwoNumbers(l1, l2)\n",
    "print('[', end='\\t')\n",
    "while init_node.next is not None:\n",
    "    print(init_node.val, end='\\t')\n",
    "    init_node = init_node.next\n",
    "print(init_node.val, end='\\t')\n",
    "print(']', end='\\t')"
   ]
  },
  {
   "cell_type": "code",
   "execution_count": 5,
   "metadata": {},
   "outputs": [
    {
     "name": "stdout",
     "output_type": "stream",
     "text": [
      "[\t1\t1\t]\t"
     ]
    }
   ],
   "source": [
    "# l1 = [6]\n",
    "l1 = ListNode(val=6, next=None)\n",
    "\n",
    "# l2 = [5]\n",
    "l2 = ListNode(val=5, next=None)\n",
    "\n",
    "init_node = Solution().addTwoNumbers(l1, l2)\n",
    "print('[', end='\\t')\n",
    "while init_node.next is not None:\n",
    "    print(init_node.val, end='\\t')\n",
    "    init_node = init_node.next\n",
    "print(init_node.val, end='\\t')\n",
    "print(']', end='\\t')"
   ]
  },
  {
   "cell_type": "markdown",
   "metadata": {},
   "source": [
    "# Reference\n",
    "\n",
    "[2. Add Two Numbers](https://leetcode.com/problems/add-two-numbers/)"
   ]
  },
  {
   "cell_type": "code",
   "execution_count": null,
   "metadata": {},
   "outputs": [],
   "source": []
  }
 ],
 "metadata": {
  "kernelspec": {
   "display_name": "Python 3",
   "language": "python",
   "name": "python3"
  },
  "language_info": {
   "codemirror_mode": {
    "name": "ipython",
    "version": 3
   },
   "file_extension": ".py",
   "mimetype": "text/x-python",
   "name": "python",
   "nbconvert_exporter": "python",
   "pygments_lexer": "ipython3",
   "version": "3.8.5"
  }
 },
 "nbformat": 4,
 "nbformat_minor": 4
}
