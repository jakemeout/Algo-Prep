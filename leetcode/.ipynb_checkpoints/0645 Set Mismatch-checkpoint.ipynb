{
 "cells": [
  {
   "cell_type": "code",
   "execution_count": null,
   "metadata": {},
   "outputs": [],
   "source": [
    "class Solution:\n",
    "    def findErrorNums(self, lst):\n",
    "        n = len(lst)\n",
    "        # construct counter\n",
    "        counter = [0] * (n+1)\n",
    "        for item in lst:\n",
    "            counter[item] = counter[item] + 1 \n",
    "        # construct out = [number occuring twice, number disappearing]\n",
    "        out = [None, None]\n",
    "        out_update_counter = 0\n",
    "        for idx, c in enumerate(counter):\n",
    "            if c == 2:\n",
    "                out[0] = idx\n",
    "                out_update_counter += 1\n",
    "                if out_update_counter == 2: return out\n",
    "            if c == 0:\n",
    "                if idx != 0:\n",
    "                    out[1] = idx\n",
    "                    out_update_counter += 1\n",
    "                    if out_update_counter == 2: return out"
   ]
  },
  {
   "cell_type": "markdown",
   "metadata": {},
   "source": [
    "# Reference\n",
    "\n",
    "[645. Set Mismatch](https://leetcode.com/problems/set-mismatch/)"
   ]
  }
 ],
 "metadata": {
  "kernelspec": {
   "display_name": "Python 3",
   "language": "python",
   "name": "python3"
  },
  "language_info": {
   "codemirror_mode": {
    "name": "ipython",
    "version": 3
   },
   "file_extension": ".py",
   "mimetype": "text/x-python",
   "name": "python",
   "nbconvert_exporter": "python",
   "pygments_lexer": "ipython3",
   "version": "3.8.5"
  }
 },
 "nbformat": 4,
 "nbformat_minor": 4
}
