{
 "cells": [
  {
   "cell_type": "code",
   "execution_count": null,
   "id": "convenient-provision",
   "metadata": {},
   "outputs": [],
   "source": [
    "from math import ceil\n",
    "\n",
    "class Solution:\n",
    "    def minEatingSpeed(self, piles: List[int], H: int) -> int:\n",
    "        \n",
    "        def feasible(speed) -> bool:\n",
    "            return sum(ceil(pile / speed) for pile in piles) <= H               \n",
    "        \n",
    "        # Correctly initialize the boundary variables left and right. \n",
    "        # Only one rule: set up the boundary to include all possible elements;\n",
    "        left, right = 1, max(piles)\n",
    "        \n",
    "        while left < right:\n",
    "            mid = left + (right - left) // 2\n",
    "            \n",
    "            # Design the condition function. \n",
    "            # This is the most difficult and most beautiful part. Needs lots of practice.\n",
    "            if feasible(mid): \n",
    "                right = mid\n",
    "            else:\n",
    "                left = mid + 1\n",
    "                \n",
    "        # Decide return value. Is it return left or return left - 1? \n",
    "        # Remember this: after exiting the while loop, left is the minimal k satisfying the condition function;\n",
    "        return left"
   ]
  },
  {
   "cell_type": "code",
   "execution_count": 4,
   "id": "waiting-version",
   "metadata": {},
   "outputs": [
    {
     "data": {
      "text/plain": [
       "[1.4, 2.0, 2.2, 3.0]"
      ]
     },
     "execution_count": 4,
     "metadata": {},
     "output_type": "execute_result"
    }
   ],
   "source": [
    "piles = [3,6,7,11]\n",
    "speed = 5\n",
    "[(pile - 1) / speed + 1 for pile in piles]"
   ]
  },
  {
   "cell_type": "markdown",
   "id": "acoustic-heath",
   "metadata": {},
   "source": [
    "# Reference\n",
    "\n",
    "[875. Koko Eating Bananas](https://leetcode.com/problems/koko-eating-bananas/)\n",
    "\n",
    "[[Python/ Clear explanation] Powerful Ultimate Binary Search Template. Solved many problems.](https://leetcode.com/problems/find-k-th-smallest-pair-distance/discuss/769705/Python-Clear-explanation-Powerful-Ultimate-Binary-Search-Template.-Solved-many-problems.)"
   ]
  }
 ],
 "metadata": {
  "kernelspec": {
   "display_name": "Python 3",
   "language": "python",
   "name": "python3"
  },
  "language_info": {
   "codemirror_mode": {
    "name": "ipython",
    "version": 3
   },
   "file_extension": ".py",
   "mimetype": "text/x-python",
   "name": "python",
   "nbconvert_exporter": "python",
   "pygments_lexer": "ipython3",
   "version": "3.7.10"
  }
 },
 "nbformat": 4,
 "nbformat_minor": 5
}
