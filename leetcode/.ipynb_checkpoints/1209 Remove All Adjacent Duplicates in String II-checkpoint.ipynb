{
 "cells": [
  {
   "cell_type": "code",
   "execution_count": null,
   "metadata": {},
   "outputs": [],
   "source": [
    "class Solution:\n",
    "    def removeDuplicates(self, s: str, k: int) -> str:\n",
    "        # construct stack of [char, char_duplicate_number]\n",
    "        stack = []\n",
    "        for c in s:\n",
    "            if not stack or stack[-1][0]!=c:\n",
    "                stack.append([c, 1])\n",
    "            else: #elif stack[-1][0]==c:\n",
    "                stack.append([c, stack[-1][1]+1])\n",
    "            # remove k duplicates    \n",
    "            if stack[-1][1]==k:\n",
    "                n = k\n",
    "                while n:\n",
    "                    stack.pop()\n",
    "                    n -= 1\n",
    "        return \"\".join([a[0] for a in stack])"
   ]
  },
  {
   "cell_type": "markdown",
   "metadata": {},
   "source": [
    "# Reference\n",
    "\n",
    "[1209. Remove All Adjacent Duplicates in String II](https://leetcode.com/problems/remove-all-adjacent-duplicates-in-string-ii/)\n",
    "\n",
    "[python 3 straight forward stack solution](https://leetcode.com/problems/remove-all-adjacent-duplicates-in-string-ii/discuss/1259998/python-3-straight-forward-stack-solution)"
   ]
  }
 ],
 "metadata": {
  "kernelspec": {
   "display_name": "Python 3",
   "language": "python",
   "name": "python3"
  },
  "language_info": {
   "codemirror_mode": {
    "name": "ipython",
    "version": 3
   },
   "file_extension": ".py",
   "mimetype": "text/x-python",
   "name": "python",
   "nbconvert_exporter": "python",
   "pygments_lexer": "ipython3",
   "version": "3.8.5"
  }
 },
 "nbformat": 4,
 "nbformat_minor": 4
}
