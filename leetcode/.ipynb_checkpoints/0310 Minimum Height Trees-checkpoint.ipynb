{
 "cells": [
  {
   "cell_type": "markdown",
   "metadata": {},
   "source": [
    "<div align=\"center\"><img src=\"https://qph.fs.quoracdn.net/main-qimg-f440899388291aec60bfac86dd8c3e45\" width=\"30%\"></div>\n",
    "\n",
    "<div align=\"center\"><img src=\"https://qph.fs.quoracdn.net/main-qimg-4b4157a91302aacde5025d181d0f3bd9\" width=\"30%\"></div>\n",
    "\n",
    "<div align=\"center\"><img src=\"https://qph.fs.quoracdn.net/main-qimg-8b2693beeef96a35f2196502a1c49615\" width=\"30%\"></div>\n",
    "\n",
    "<div align=\"center\"><img src=\"https://qph.fs.quoracdn.net/main-qimg-72e69864cc5ffb217b308d7cf3a06e93\" width=\"30%\"></div>\n",
    "\n",
    "<div align=\"center\"><img src=\"https://qph.fs.quoracdn.net/main-qimg-9cc4fe2fc086d89aea97704500324bc2\" width=\"30%\"></div>\n",
    "\n",
    "[How do I find the longest path in a graph?](https://www.quora.com/How-do-I-find-the-longest-path-in-a-graph)"
   ]
  },
  {
   "cell_type": "code",
   "execution_count": 47,
   "metadata": {},
   "outputs": [],
   "source": [
    "from collections import defaultdict, deque\n",
    "\n",
    "class Solution:\n",
    "    \n",
    "    def findMinHeightTrees(self, n, edges):\n",
    "        \"\"\"\n",
    "        :type n: int\n",
    "        :type edges: List[List[int]]\n",
    "        :rtype: List[int]\n",
    "        \"\"\"\n",
    "        if edges == []: \n",
    "            return [0]\n",
    "        self.vertices = n\n",
    "        self.adj = defaultdict(set)\n",
    "        for v, w in edges:\n",
    "            self.adj[v].add(w)\n",
    "            self.adj[w].add(v)\n",
    "        #print(self.vertices)\n",
    "        #print(self.adj)\n",
    "    \n",
    "        path = self.findLongestPath()\n",
    "        print(path)\n",
    "        m = len(path)\n",
    "        return path[(m-1)//2:m//2+1]\n",
    "\n",
    "    # method return farthest node, its distance, and parent from node u\n",
    "    def BFS(self, u):\n",
    "        queue = deque()\n",
    "        parent = [None for i in range(self.vertices)]\n",
    "        distance = [-1 for i in range(self.vertices)]\n",
    "        visited = [False for i in range(self.vertices)]\n",
    "        #print(queue, parent, distance, visited)\n",
    "        \n",
    "        queue.append(u) \n",
    "        parent[u] = None\n",
    "        distance[u] = 0\n",
    "        visited[u] = True\n",
    "        #print(queue, parent, distance, visited)\n",
    "        while queue:\n",
    "            node = queue.popleft()\n",
    "            for i in self.adj[node]:\n",
    "                #print(i)\n",
    "                if not visited[i]:\n",
    "                    queue.append(i)\n",
    "                    parent[i] = node\n",
    "                    distance[i] = distance[node] + 1\n",
    "                    visited[i] = True\n",
    "                    #print(queue, parent, distance, visited)\n",
    "                    \n",
    "        maxDis = 0\n",
    "        for i in range(self.vertices):\n",
    "            if distance[i] > maxDis:\n",
    "                maxDis = distance[i]\n",
    "                nodeIdx = i\n",
    "        return nodeIdx, maxDis, parent\n",
    "\n",
    "    def findLongestPath(self):\n",
    "        node, Dis, _ = self.BFS(0)\n",
    "        node_2, _, parent = self.BFS(node)\n",
    "        #print(node_2, parent)\n",
    "        longest_path = []\n",
    "        #print(longest_path,'--->',end=' ')\n",
    "        cur = node_2\n",
    "        while parent[cur] is not None:\n",
    "            longest_path.append(cur)\n",
    "            #print(longest_path,'--->',end=' ')\n",
    "            cur = parent[cur]\n",
    "        longest_path.append(cur)\n",
    "        #print(longest_path)\n",
    "        return longest_path"
   ]
  },
  {
   "cell_type": "code",
   "execution_count": 48,
   "metadata": {},
   "outputs": [
    {
     "name": "stdout",
     "output_type": "stream",
     "text": [
      "2 [1, None, 0]\n",
      "[] ---> [2] ---> [2, 0] ---> [2, 0, 1]\n",
      "[2, 0, 1]\n"
     ]
    },
    {
     "data": {
      "text/plain": [
       "[0]"
      ]
     },
     "execution_count": 48,
     "metadata": {},
     "output_type": "execute_result"
    }
   ],
   "source": [
    "n = 3\n",
    "edges = [[0,1],[0,2]]\n",
    "Solution().findMinHeightTrees(n, edges)"
   ]
  },
  {
   "cell_type": "markdown",
   "metadata": {},
   "source": [
    "# Reference\n",
    "\n",
    "[310. Minimum Height Trees](https://leetcode.com/problems/minimum-height-trees/)\n",
    "\n",
    "[Minimum Height Trees | LeetCode 310 | C++, Java, Python](https://www.youtube.com/watch?v=qbpP8GIZiqQ&list=PL1w8k37X_6L9IfRTVvL-tKnrZ_F-8HJQt&index=31)\n",
    "\n",
    "[https://leetcode.com/problems/minimum-height-trees/discuss/76052/Two-O(n)-solutions](https://leetcode.com/problems/minimum-height-trees/discuss/76052/Two-O(n)-solutions)\n",
    "\n",
    "[How do I find the longest path in a graph?](https://www.quora.com/How-do-I-find-the-longest-path-in-a-graph)"
   ]
  }
 ],
 "metadata": {
  "kernelspec": {
   "display_name": "Python 3",
   "language": "python",
   "name": "python3"
  },
  "language_info": {
   "codemirror_mode": {
    "name": "ipython",
    "version": 3
   },
   "file_extension": ".py",
   "mimetype": "text/x-python",
   "name": "python",
   "nbconvert_exporter": "python",
   "pygments_lexer": "ipython3",
   "version": "3.8.5"
  }
 },
 "nbformat": 4,
 "nbformat_minor": 4
}
