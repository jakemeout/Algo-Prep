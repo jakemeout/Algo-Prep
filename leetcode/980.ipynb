{
 "cells": [
  {
   "cell_type": "code",
   "execution_count": null,
   "metadata": {},
   "outputs": [],
   "source": [
    "class Solution:\n",
    "    def uniquePathsIII(self, grid: List[List[int]]) -> int:\n",
    "        m, n = len(grid), len(grid[0])\n",
    "        \n",
    "        start_i, start_j, end_i, end_j = None, None, None, None\n",
    "        flag_break = False\n",
    "        for i in range(m):\n",
    "            for j in range(n):\n",
    "                if grid[i][j] = 1:\n",
    "                    start_i, start_j = i, j\n",
    "                elif grid[i][j] = 2: \n",
    "                    end_i, end_j = i, j\n",
    "                if start_i is not None and end_i is not None:\n",
    "                    flag_break = True\n",
    "                    break\n",
    "            if flag_break:\n",
    "                break"
   ]
  }
 ],
 "metadata": {
  "kernelspec": {
   "display_name": "Python 3",
   "language": "python",
   "name": "python3"
  },
  "language_info": {
   "codemirror_mode": {
    "name": "ipython",
    "version": 3
   },
   "file_extension": ".py",
   "mimetype": "text/x-python",
   "name": "python",
   "nbconvert_exporter": "python",
   "pygments_lexer": "ipython3",
   "version": "3.8.5"
  }
 },
 "nbformat": 4,
 "nbformat_minor": 4
}
