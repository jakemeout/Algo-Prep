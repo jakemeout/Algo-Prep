{
 "cells": [
  {
   "cell_type": "code",
   "execution_count": null,
   "metadata": {},
   "outputs": [],
   "source": [
    "class Solution:\n",
    "    def findWords(self, words):\n",
    "        out = []\n",
    "        self.first = set(\"qwertyuiop\")\n",
    "        self.second = set(\"asdfghjkl\")\n",
    "        self.third = set(\"zxcvbnm\")\n",
    "        for word in words:\n",
    "            if self.useOneRowOnly(word):\n",
    "                out.append(word)\n",
    "        return out\n",
    "    def useOneRowOnly(self, word):\n",
    "        word = set(word.lower())\n",
    "        return word.issubset(self.first) or word.issubset(self.second) or word.issubset(self.third)"
   ]
  },
  {
   "cell_type": "code",
   "execution_count": 4,
   "metadata": {},
   "outputs": [
    {
     "data": {
      "text/plain": [
       "{'f', 'g', 'h', 'j', 'y'}"
      ]
     },
     "execution_count": 4,
     "metadata": {},
     "output_type": "execute_result"
    }
   ],
   "source": [
    "word = 'hfjgjyHHHH'\n",
    "set(word.lower())\n"
   ]
  },
  {
   "cell_type": "markdown",
   "metadata": {},
   "source": [
    "# Reference\n",
    "\n",
    "[500. Keyboard Row](https://leetcode.com/problems/keyboard-row/)"
   ]
  }
 ],
 "metadata": {
  "kernelspec": {
   "display_name": "Python 3",
   "language": "python",
   "name": "python3"
  },
  "language_info": {
   "codemirror_mode": {
    "name": "ipython",
    "version": 3
   },
   "file_extension": ".py",
   "mimetype": "text/x-python",
   "name": "python",
   "nbconvert_exporter": "python",
   "pygments_lexer": "ipython3",
   "version": "3.8.5"
  }
 },
 "nbformat": 4,
 "nbformat_minor": 4
}
