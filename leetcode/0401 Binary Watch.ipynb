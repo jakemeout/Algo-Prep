{
 "cells": [
  {
   "cell_type": "code",
   "execution_count": 9,
   "metadata": {},
   "outputs": [],
   "source": [
    "class Solution:\n",
    "    def readBinaryWatch(self, turnedOn):\n",
    "        turnedOnList = []\n",
    "        for i in range(turnedOn+1):\n",
    "            turnedOnList.append([i, turnedOn-i])\n",
    "        out = []\n",
    "        for turnedOnHour, turnedOnMinute in turnedOnList:\n",
    "            HourList = self.computeHourList(turnedOnHour)\n",
    "            MinuteList = self.computeMinuteList(turnedOnMinute)\n",
    "            for Hour in HourList:\n",
    "                for Minute in MinuteList:\n",
    "                    out.append(Hour + \":\" + Minute)\n",
    "        return out\n",
    "    def computeHourList(self, turnedOnHour):\n",
    "        out = []\n",
    "        import itertools\n",
    "        for item in list(itertools.combinations((1,2,4,8), turnedOnHour)):\n",
    "            if sum(item) <= 11:\n",
    "                out.append(str(sum(item)))\n",
    "        return out\n",
    "    def computeMinuteList(self, turnedOnMinute):\n",
    "        out = []\n",
    "        import itertools\n",
    "        for item in list(itertools.combinations((1,2,4,8,16,32), turnedOnMinute)):\n",
    "            tmp = str(sum(item))\n",
    "            if len(tmp) == 1:\n",
    "                tmp = '0' + tmp\n",
    "            if int(tmp) < 60:\n",
    "                out.append(tmp)\n",
    "        return out"
   ]
  },
  {
   "cell_type": "code",
   "execution_count": 10,
   "metadata": {},
   "outputs": [
    {
     "data": {
      "text/plain": [
       "[]"
      ]
     },
     "execution_count": 10,
     "metadata": {},
     "output_type": "execute_result"
    }
   ],
   "source": [
    "turnedOn = 9\n",
    "Solution().readBinaryWatch(turnedOn)"
   ]
  },
  {
   "cell_type": "markdown",
   "metadata": {},
   "source": [
    "# Reference\n",
    "\n",
    "[401. Binary Watch](https://leetcode.com/problems/binary-watch/)"
   ]
  }
 ],
 "metadata": {
  "kernelspec": {
   "display_name": "Python 3",
   "language": "python",
   "name": "python3"
  },
  "language_info": {
   "codemirror_mode": {
    "name": "ipython",
    "version": 3
   },
   "file_extension": ".py",
   "mimetype": "text/x-python",
   "name": "python",
   "nbconvert_exporter": "python",
   "pygments_lexer": "ipython3",
   "version": "3.8.5"
  }
 },
 "nbformat": 4,
 "nbformat_minor": 4
}
