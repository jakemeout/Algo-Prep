{
 "cells": [
  {
   "cell_type": "markdown",
   "metadata": {},
   "source": [
    "<div align=\"center\"><img src=\"https://assets.leetcode.com/uploads/2020/01/21/1482_example_1_2.png\" width=\"70%\"></div>"
   ]
  },
  {
   "cell_type": "code",
   "execution_count": null,
   "metadata": {},
   "outputs": [],
   "source": [
    "from collections import defaultdict\n",
    "from copy import deepcopy\n",
    "\n",
    "class Solution:\n",
    "    def diagonalSort(self, mat):\n",
    "        \"\"\"\n",
    "        :type mat: List[List[int]]\n",
    "        :rtype: List[List[int]]\n",
    "        \"\"\"\n",
    "        # copy mat\n",
    "        ans = deepcopy(mat)\n",
    "        \n",
    "        # store the diagonals in a dictionary\n",
    "        diagonals = defaultdict(list)\n",
    "        for i in range(len(mat)):\n",
    "            for j in range(len(mat[0])):\n",
    "                diagonals[i-j].append(mat[i][j])\n",
    "        \n",
    "        # sort diagonals\n",
    "        for key in diagonals.keys():\n",
    "            diagonals[key] = sorted(diagonals[key], reverse=True)\n",
    "        \n",
    "        # reassign values\n",
    "        for i in range(len(mat)):\n",
    "            for j in range(len(mat[0])):\n",
    "                ans[i][j] = diagonals[i-j].pop() \n",
    "        return ans"
   ]
  },
  {
   "cell_type": "markdown",
   "metadata": {},
   "source": [
    "# Reference\n",
    "\n",
    "[1329. Sort the Matrix Diagonally](https://leetcode.com/problems/sort-the-matrix-diagonally/)\n",
    "\n",
    "[[LeetCode] 1329. Sort the Matrix Diagonally](https://www.youtube.com/watch?v=gJA2ykdVmEE&list=PL-OC--HdIAXPzvuBbuI4e_MFYpzFnA6yR&index=31)\n",
    "\n",
    "[Sort the Matrix Diagonally (Leetcode 1329)](https://www.youtube.com/watch?v=iSBgmQCTN8g&list=PL_lPC-CADCvSSU3KSchuIysoJoIV_i0No&index=3)"
   ]
  }
 ],
 "metadata": {
  "kernelspec": {
   "display_name": "Python 3",
   "language": "python",
   "name": "python3"
  },
  "language_info": {
   "codemirror_mode": {
    "name": "ipython",
    "version": 3
   },
   "file_extension": ".py",
   "mimetype": "text/x-python",
   "name": "python",
   "nbconvert_exporter": "python",
   "pygments_lexer": "ipython3",
   "version": "3.8.5"
  }
 },
 "nbformat": 4,
 "nbformat_minor": 4
}
