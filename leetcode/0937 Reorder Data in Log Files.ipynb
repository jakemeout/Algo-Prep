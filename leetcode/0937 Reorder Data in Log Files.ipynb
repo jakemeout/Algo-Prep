{
 "cells": [
  {
   "cell_type": "code",
   "execution_count": null,
   "metadata": {},
   "outputs": [],
   "source": [
    "class Solution:\n",
    "    def reorderLogFiles(self, logs: List[str]) -> List[str]:\n",
    "        letter_logs = []\n",
    "        digit_logs = []\n",
    "        for log in logs:\n",
    "            if not log[-1].isnumeric():\n",
    "                letter_logs.append(log)\n",
    "            else:\n",
    "                digit_logs.append(log)\n",
    "        letter_logs.sort(key=lambda x:(x.split()[1:], x.split()[0]))\n",
    "        return letter_logs + digit_logs        "
   ]
  },
  {
   "cell_type": "markdown",
   "metadata": {},
   "source": [
    "# Reference\n",
    "\n",
    "[937. Reorder Data in Log Files](https://leetcode.com/problems/reorder-data-in-log-files/)"
   ]
  }
 ],
 "metadata": {
  "kernelspec": {
   "display_name": "Python 3",
   "language": "python",
   "name": "python3"
  },
  "language_info": {
   "codemirror_mode": {
    "name": "ipython",
    "version": 3
   },
   "file_extension": ".py",
   "mimetype": "text/x-python",
   "name": "python",
   "nbconvert_exporter": "python",
   "pygments_lexer": "ipython3",
   "version": "3.8.5"
  }
 },
 "nbformat": 4,
 "nbformat_minor": 4
}
