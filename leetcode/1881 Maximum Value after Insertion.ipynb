{
 "cells": [
  {
   "cell_type": "code",
   "execution_count": 21,
   "metadata": {},
   "outputs": [],
   "source": [
    "class Solution:\n",
    "    def maxValue(self, n: str, x: int) -> str:\n",
    "        if n[0] != '-':\n",
    "            return self.maximize(n, x)\n",
    "        else:\n",
    "            return '-' + self.minimize(n[1:], x)\n",
    "    def maximize(self, nums, x):\n",
    "        for idx, num in enumerate(nums):\n",
    "            if x > int(num):\n",
    "                break\n",
    "        else:\n",
    "            return nums + str(x) \n",
    "        return nums[:idx] + str(x) + nums[idx:]\n",
    "    def minimize(self, nums, x):\n",
    "        for idx, num in enumerate(nums):\n",
    "            if x < int(num):\n",
    "                break\n",
    "        else:\n",
    "            return nums + str(x)\n",
    "        return nums[:idx] + str(x) + nums[idx:]"
   ]
  },
  {
   "cell_type": "code",
   "execution_count": 22,
   "metadata": {},
   "outputs": [
    {
     "data": {
      "text/plain": [
       "'-123'"
      ]
     },
     "execution_count": 22,
     "metadata": {},
     "output_type": "execute_result"
    }
   ],
   "source": [
    "n = \"-13\"\n",
    "x = 2\n",
    "Solution().maxValue(n, x) # \"-123\""
   ]
  },
  {
   "cell_type": "markdown",
   "metadata": {},
   "source": [
    "# Reference\n",
    "\n",
    "[1881. Maximum Value after Insertion](https://leetcode.com/problems/maximum-value-after-insertion/)\n",
    "\n",
    "[Maximum Value after Insertion (Leetcode 1881)](https://www.youtube.com/watch?v=yJBggwh5sro)"
   ]
  }
 ],
 "metadata": {
  "kernelspec": {
   "display_name": "Python 3",
   "language": "python",
   "name": "python3"
  },
  "language_info": {
   "codemirror_mode": {
    "name": "ipython",
    "version": 3
   },
   "file_extension": ".py",
   "mimetype": "text/x-python",
   "name": "python",
   "nbconvert_exporter": "python",
   "pygments_lexer": "ipython3",
   "version": "3.8.5"
  }
 },
 "nbformat": 4,
 "nbformat_minor": 4
}
