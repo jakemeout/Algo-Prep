{
 "cells": [
  {
   "cell_type": "markdown",
   "id": "tutorial-emission",
   "metadata": {},
   "source": [
    "$$\\begin{array}{ccccccccccccccccccccccccccc}\n",
    "1&a_0&a_0a_1&\\cdots&a_0a_1a_2\\cdots a_{n-4}a_{n-3}a_{n-2}\\\\\n",
    "a_1a_2a_3\\cdots a_{n-3}a_{n-2}a_{n-1}&a_2a_3\\cdots a_{n-3}a_{n-2}a_{n-1}&a_3\\cdots a_{n-3}a_{n-2}a_{n-1}&\\cdots&1\\\\\n",
    "\\\\\n",
    "a_1a_2a_3\\cdots a_{n-3}a_{n-2}a_{n-1}&a_0a_2a_3\\cdots a_{n-3}a_{n-2}a_{n-1}&a_0a_1a_3\\cdots a_{n-3}a_{n-2}a_{n-1}&\\cdots&a_0a_1a_2\\cdots a_{n-4}a_{n-3}a_{n-2}\\\\\n",
    "\\end{array}$$"
   ]
  },
  {
   "cell_type": "code",
   "execution_count": null,
   "id": "joint-morocco",
   "metadata": {},
   "outputs": [],
   "source": [
    "class Solution:\n",
    "    def productExceptSelf(self, nums):\n",
    "        \"\"\"\n",
    "        :type nums: List[int]\n",
    "        :rtype: List[int]\n",
    "        \"\"\"\n",
    "        n = len(nums)\n",
    "        \n",
    "        p = 1\n",
    "        ans = [1] * n\n",
    "        for i in range(0,n):\n",
    "            ans[i] = p\n",
    "            p = p * nums[i]\n",
    "            \n",
    "        p = 1\n",
    "        for i in range(n-1,-1,-1):\n",
    "            ans[i] = ans[i] * p\n",
    "            p = p * nums[i]\n",
    "        return ans"
   ]
  },
  {
   "cell_type": "markdown",
   "id": "objective-difference",
   "metadata": {},
   "source": [
    "# Reference\n",
    "\n",
    "[238. Product of Array Except Self](https://leetcode.com/problems/product-of-array-except-self/)\n",
    "\n",
    "[Python solution (Accepted), O(n) time, O(1) space](https://leetcode.com/problems/product-of-array-except-self/discuss/65625/Python-solution-(Accepted)-O(n)-time-O(1)-space)"
   ]
  }
 ],
 "metadata": {
  "kernelspec": {
   "display_name": "Python 3",
   "language": "python",
   "name": "python3"
  },
  "language_info": {
   "codemirror_mode": {
    "name": "ipython",
    "version": 3
   },
   "file_extension": ".py",
   "mimetype": "text/x-python",
   "name": "python",
   "nbconvert_exporter": "python",
   "pygments_lexer": "ipython3",
   "version": "3.7.10"
  }
 },
 "nbformat": 4,
 "nbformat_minor": 5
}
