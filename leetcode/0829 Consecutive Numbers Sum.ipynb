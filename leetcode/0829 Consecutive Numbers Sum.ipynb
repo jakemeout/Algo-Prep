{
 "cells": [
  {
   "cell_type": "code",
   "execution_count": 13,
   "metadata": {},
   "outputs": [],
   "source": [
    "from math import sqrt\n",
    "class Solution:\n",
    "    def consecutiveNumbersSum(self, n: int) -> int:\n",
    "        # n can be written as sum of one integer n\n",
    "        ans = 1\n",
    "        \n",
    "        # \\sum_{k=1}^j [(i-1)+k] = (i-1)*j + j*(j+1)//2 \n",
    "        for j in range(2,int(sqrt(2*n))+1,1):\n",
    "            target = n - j*(j+1)//2\n",
    "            carry, residue = divmod(target, j)\n",
    "            if residue==0 and carry+1>=0:\n",
    "                ans += 1\n",
    "        return ans"
   ]
  },
  {
   "cell_type": "markdown",
   "metadata": {},
   "source": [
    "# Reference\n",
    "\n",
    "[829. Consecutive Numbers Sum](https://leetcode.com/problems/consecutive-numbers-sum/)\n",
    "\n",
    "[Leetcode 83 Problem 3 - Consecutive Numbers Sum (829)](https://www.youtube.com/watch?v=oKOCYZd4m7E&list=PLVFrD1dmDdvd_rChH0L1jeMVZpJ8ZIivE&index=20)"
   ]
  },
  {
   "cell_type": "code",
   "execution_count": null,
   "metadata": {},
   "outputs": [],
   "source": []
  }
 ],
 "metadata": {
  "kernelspec": {
   "display_name": "Python 3",
   "language": "python",
   "name": "python3"
  },
  "language_info": {
   "codemirror_mode": {
    "name": "ipython",
    "version": 3
   },
   "file_extension": ".py",
   "mimetype": "text/x-python",
   "name": "python",
   "nbconvert_exporter": "python",
   "pygments_lexer": "ipython3",
   "version": "3.8.5"
  }
 },
 "nbformat": 4,
 "nbformat_minor": 4
}
