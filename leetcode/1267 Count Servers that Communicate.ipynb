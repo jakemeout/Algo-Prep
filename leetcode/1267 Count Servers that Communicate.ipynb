{
 "cells": [
  {
   "cell_type": "code",
   "execution_count": 8,
   "metadata": {},
   "outputs": [],
   "source": [
    "class Solution:\n",
    "    def countServers(self, A):\n",
    "        \"\"\"\n",
    "        :type A: List[List[int]]\n",
    "        :rtype: int\n",
    "        \"\"\"\n",
    "        X, Y = list(map(sum, A)), list(map(sum, zip(*A)))\n",
    "        #print(X, Y)\n",
    "        return sum(X[i] + Y[j] > 2 for i in range(len(A)) for j in range(len(A[0])) if A[i][j])"
   ]
  },
  {
   "cell_type": "code",
   "execution_count": 9,
   "metadata": {},
   "outputs": [
    {
     "name": "stdout",
     "output_type": "stream",
     "text": [
      "[2, 1, 1, 1] [1, 1, 2, 1]\n"
     ]
    },
    {
     "data": {
      "text/plain": [
       "4"
      ]
     },
     "execution_count": 9,
     "metadata": {},
     "output_type": "execute_result"
    }
   ],
   "source": [
    "A = [[1,1,0,0],\n",
    "     [0,0,1,0],\n",
    "     [0,0,1,0],\n",
    "     [0,0,0,1]]\n",
    "Solution().countServers(A)"
   ]
  },
  {
   "cell_type": "markdown",
   "metadata": {},
   "source": [
    "# Reference\n",
    "\n",
    "[1267. Count Servers that Communicate](https://leetcode.com/problems/count-servers-that-communicate/)\n",
    "\n",
    "[[Python] Simple and Concise](https://leetcode.com/problems/count-servers-that-communicate/discuss/436665/Python-Simple-and-Concise)"
   ]
  }
 ],
 "metadata": {
  "kernelspec": {
   "display_name": "Python 3",
   "language": "python",
   "name": "python3"
  },
  "language_info": {
   "codemirror_mode": {
    "name": "ipython",
    "version": 3
   },
   "file_extension": ".py",
   "mimetype": "text/x-python",
   "name": "python",
   "nbconvert_exporter": "python",
   "pygments_lexer": "ipython3",
   "version": "3.8.5"
  }
 },
 "nbformat": 4,
 "nbformat_minor": 4
}
