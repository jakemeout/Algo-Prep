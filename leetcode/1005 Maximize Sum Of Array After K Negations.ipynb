{
 "cells": [
  {
   "cell_type": "code",
   "execution_count": 17,
   "metadata": {},
   "outputs": [],
   "source": [
    "class Solution:\n",
    "    def largestSumAfterKNegations(self, nums, k):\n",
    "        p = [x for x in nums if x >= 0]\n",
    "        n = [x for x in nums if x < 0]\n",
    "        if k <= len(n):\n",
    "            n.sort()\n",
    "            #print(p,n[:k])\n",
    "            return sum(p) - sum(n[:k]) + sum(n[k:])\n",
    "        if k > len(n):\n",
    "            if (k-len(n))%2 == 0:\n",
    "                return sum(p) - sum(n)\n",
    "            else:\n",
    "                if p!=[] and n!=[]: \n",
    "                    min_ = min(min(p),-max(n))\n",
    "                elif p==[]: # elif p==[] and n!=[]\n",
    "                    min_ = -max(n)\n",
    "                else: # elif p!=[] and n==[]\n",
    "                    min_ = min(p)\n",
    "                    #print(sum(p), sum(n), - min_,sum(p) - sum(n) - 2*min_)\n",
    "                return sum(p) - sum(n) - 2*min_               "
   ]
  },
  {
   "cell_type": "code",
   "execution_count": 18,
   "metadata": {},
   "outputs": [
    {
     "data": {
      "text/plain": [
       "13"
      ]
     },
     "execution_count": 18,
     "metadata": {},
     "output_type": "execute_result"
    }
   ],
   "source": [
    "nums = [2,-3,-1,5,-4]\n",
    "k = 2\n",
    "Solution().largestSumAfterKNegations(nums, k) # 13"
   ]
  },
  {
   "cell_type": "markdown",
   "metadata": {},
   "source": [
    "# Reference\n",
    "\n",
    "[1005. Maximize Sum Of Array After K Negations](https://leetcode.com/problems/maximize-sum-of-array-after-k-negations/)"
   ]
  }
 ],
 "metadata": {
  "kernelspec": {
   "display_name": "Python 3",
   "language": "python",
   "name": "python3"
  },
  "language_info": {
   "codemirror_mode": {
    "name": "ipython",
    "version": 3
   },
   "file_extension": ".py",
   "mimetype": "text/x-python",
   "name": "python",
   "nbconvert_exporter": "python",
   "pygments_lexer": "ipython3",
   "version": "3.8.5"
  }
 },
 "nbformat": 4,
 "nbformat_minor": 4
}
