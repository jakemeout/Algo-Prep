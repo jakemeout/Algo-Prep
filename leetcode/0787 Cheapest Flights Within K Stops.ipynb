{
 "cells": [
  {
   "cell_type": "code",
   "execution_count": null,
   "metadata": {},
   "outputs": [],
   "source": [
    "class Solution:\n",
    "    def findCheapestPrice(self, n: int, flights: List[List[int]], src: int, dst: int, k: int) -> int:\n",
    "        from collections import defaultdict, deque\n",
    "        adjlist = defaultdict(list)\n",
    "        for frm, to, price in flights:\n",
    "            adjlist[frm].append((to, price))\n",
    "            \n",
    "        distances = {node: inf for node in range(n)}\n",
    "        distances[src] = 0\n",
    "        q = deque([(0, 0, src)]) # deque([(steps, dist, cur),...])\n",
    "        while q:\n",
    "            steps, dist, cur = q.pop()\n",
    "            for nbr, weight in adjlist[cur]:\n",
    "                if distances[nbr] > dist + weight and steps <= k:\n",
    "                    distances[nbr] = dist + weight\n",
    "                    q.appendleft((steps + 1, dist + weight, nbr))\n",
    "        return distances[dst] if distances[dst] != inf else -1"
   ]
  },
  {
   "cell_type": "markdown",
   "metadata": {},
   "source": [
    "# Reference\n",
    "\n",
    "[787. Cheapest Flights Within K Stops](https://leetcode.com/problems/cheapest-flights-within-k-stops/)\n",
    "\n",
    "[Modified BFS/Dijsktra](https://leetcode.com/problems/cheapest-flights-within-k-stops/discuss/1269970/Modified-BFSDijsktra)"
   ]
  }
 ],
 "metadata": {
  "kernelspec": {
   "display_name": "Python 3",
   "language": "python",
   "name": "python3"
  },
  "language_info": {
   "codemirror_mode": {
    "name": "ipython",
    "version": 3
   },
   "file_extension": ".py",
   "mimetype": "text/x-python",
   "name": "python",
   "nbconvert_exporter": "python",
   "pygments_lexer": "ipython3",
   "version": "3.8.5"
  }
 },
 "nbformat": 4,
 "nbformat_minor": 4
}
