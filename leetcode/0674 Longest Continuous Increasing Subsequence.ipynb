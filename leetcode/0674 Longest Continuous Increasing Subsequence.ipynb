{
 "cells": [
  {
   "cell_type": "code",
   "execution_count": 11,
   "metadata": {},
   "outputs": [],
   "source": [
    "class Solution:\n",
    "    def findLengthOfLCIS(self, nums):\n",
    "        so_far = 0\n",
    "        cur = 0\n",
    "        start, end = 0, 0\n",
    "        while start < len(nums) and end < len(nums):\n",
    "            if start == end:\n",
    "                cur += 1\n",
    "                so_far = max(so_far, cur)\n",
    "                end += 1\n",
    "            elif nums[end-1] < nums[end]:\n",
    "                cur += 1\n",
    "                so_far = max(so_far, cur)\n",
    "                end += 1\n",
    "            else:\n",
    "                cur = 0\n",
    "                start, end = end, end\n",
    "        return so_far"
   ]
  },
  {
   "cell_type": "code",
   "execution_count": 12,
   "metadata": {},
   "outputs": [
    {
     "data": {
      "text/plain": [
       "3"
      ]
     },
     "execution_count": 12,
     "metadata": {},
     "output_type": "execute_result"
    }
   ],
   "source": [
    "nums = [1,3,5,4,7]\n",
    "Solution().findLengthOfLCIS(nums) # 3"
   ]
  },
  {
   "cell_type": "markdown",
   "metadata": {},
   "source": [
    "# Reference\n",
    "\n",
    "[674. Longest Continuous Increasing Subsequence](https://leetcode.com/problems/longest-continuous-increasing-subsequence/)"
   ]
  }
 ],
 "metadata": {
  "kernelspec": {
   "display_name": "Python 3",
   "language": "python",
   "name": "python3"
  },
  "language_info": {
   "codemirror_mode": {
    "name": "ipython",
    "version": 3
   },
   "file_extension": ".py",
   "mimetype": "text/x-python",
   "name": "python",
   "nbconvert_exporter": "python",
   "pygments_lexer": "ipython3",
   "version": "3.8.5"
  }
 },
 "nbformat": 4,
 "nbformat_minor": 4
}
