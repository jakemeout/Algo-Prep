{
 "cells": [
  {
   "cell_type": "markdown",
   "metadata": {},
   "source": [
    "$$\\begin{array}{llllllllllll}\n",
    "f(0) &=& &&&&&\\text{nums}[0]\\\\\n",
    "f(1) &=& \\text{max}(&f(0)&,&&&\\text{nums}[1]&)\\\\\n",
    "f(k) &=& \\text{max}(& f(k-1)&,&f(k-2) &+& \\text{nums}[k] &)\\\\\n",
    "\\end{array}$$"
   ]
  },
  {
   "cell_type": "code",
   "execution_count": null,
   "metadata": {},
   "outputs": [],
   "source": [
    "class Solution:\n",
    "    def rob(self, nums):\n",
    "        prev, now = 0, 0\n",
    "        for num in nums: \n",
    "            prev, now = now, max(now, prev + num)       \n",
    "        return now"
   ]
  },
  {
   "cell_type": "markdown",
   "metadata": {},
   "source": [
    "# Reference\n",
    "\n",
    "[198. House Robber](https://leetcode.com/problems/house-robber/)\n",
    "\n",
    "[Python solution, 3 lines.](https://leetcode.com/problems/house-robber/discuss/55696/Python-solution-3-lines.)\n",
    "\n",
    "[House Robber | LeetCode 198 | C++, Java, Python](https://www.youtube.com/watch?v=jzpsHKJy00c&list=PL1w8k37X_6L-UQSn0c4DJJmbLb2DzDBkx&index=30)"
   ]
  }
 ],
 "metadata": {
  "kernelspec": {
   "display_name": "Python 3",
   "language": "python",
   "name": "python3"
  },
  "language_info": {
   "codemirror_mode": {
    "name": "ipython",
    "version": 3
   },
   "file_extension": ".py",
   "mimetype": "text/x-python",
   "name": "python",
   "nbconvert_exporter": "python",
   "pygments_lexer": "ipython3",
   "version": "3.8.5"
  }
 },
 "nbformat": 4,
 "nbformat_minor": 4
}
