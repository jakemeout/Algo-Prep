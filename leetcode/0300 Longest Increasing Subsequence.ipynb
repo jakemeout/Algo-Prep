{
 "cells": [
  {
   "cell_type": "code",
   "execution_count": null,
   "metadata": {},
   "outputs": [],
   "source": [
    "class Solution:\n",
    "    def lengthOfLIS(self, nums):\n",
    "        counter = [1] * len(nums)\n",
    "        for i in range(1,len(nums)):\n",
    "            for j in range(0,i):\n",
    "                if nums[j] < nums[i]:\n",
    "                    counter[i] = max(counter[i], counter[j]+1)\n",
    "        return max(counter)"
   ]
  },
  {
   "cell_type": "markdown",
   "metadata": {},
   "source": [
    "# Reference\n",
    "\n",
    "[300. Longest Increasing Subsequence](https://leetcode.com/problems/longest-increasing-subsequence/)\n",
    "\n",
    "[Longest Increasing Subsequence](https://www.youtube.com/watch?v=CE2b_-XfVDk)\n",
    "\n",
    "[Longest increasing subsequence](https://www.youtube.com/watch?v=mouCn3CFpgg)"
   ]
  }
 ],
 "metadata": {
  "kernelspec": {
   "display_name": "Python 3",
   "language": "python",
   "name": "python3"
  },
  "language_info": {
   "codemirror_mode": {
    "name": "ipython",
    "version": 3
   },
   "file_extension": ".py",
   "mimetype": "text/x-python",
   "name": "python",
   "nbconvert_exporter": "python",
   "pygments_lexer": "ipython3",
   "version": "3.8.5"
  }
 },
 "nbformat": 4,
 "nbformat_minor": 4
}
