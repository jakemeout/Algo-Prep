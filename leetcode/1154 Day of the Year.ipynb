{
 "cells": [
  {
   "cell_type": "code",
   "execution_count": 18,
   "metadata": {},
   "outputs": [],
   "source": [
    "class Solution:\n",
    "    def dayOfYear(self, date: str) -> int:\n",
    "        year, month, day = date.split('-')\n",
    "        year, month, day = int(year), int(month), int(day)\n",
    "               # 1,    3,    5,    7, 8,   10,   12 <- months of 31 days\n",
    "        days = [31,28,31,30,31,30,31,31,30,31,30,31]\n",
    "        if self.leap_year(year):\n",
    "            days[1] = 29\n",
    "        return sum(days[:month-1]) + day   \n",
    "    def leap_year(self, year):\n",
    "        return (year%400==0) or (year%100!=0 and year%4==0)"
   ]
  },
  {
   "cell_type": "code",
   "execution_count": 19,
   "metadata": {},
   "outputs": [
    {
     "data": {
      "text/plain": [
       "284"
      ]
     },
     "execution_count": 19,
     "metadata": {},
     "output_type": "execute_result"
    }
   ],
   "source": [
    "date = \"2008-10-10\"\n",
    "Solution().dayOfYear(date) # 284"
   ]
  },
  {
   "cell_type": "markdown",
   "metadata": {},
   "source": [
    "# Reference\n",
    "\n",
    "[1154. Day of the Year](https://leetcode.com/problems/day-of-the-year/)"
   ]
  }
 ],
 "metadata": {
  "kernelspec": {
   "display_name": "Python 3",
   "language": "python",
   "name": "python3"
  },
  "language_info": {
   "codemirror_mode": {
    "name": "ipython",
    "version": 3
   },
   "file_extension": ".py",
   "mimetype": "text/x-python",
   "name": "python",
   "nbconvert_exporter": "python",
   "pygments_lexer": "ipython3",
   "version": "3.8.5"
  }
 },
 "nbformat": 4,
 "nbformat_minor": 4
}
