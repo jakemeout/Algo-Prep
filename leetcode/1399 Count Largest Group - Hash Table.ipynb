{
 "cells": [
  {
   "cell_type": "code",
   "execution_count": 10,
   "metadata": {},
   "outputs": [],
   "source": [
    "class Solution:\n",
    "    def countLargestGroup(self, n: int) -> int:\n",
    "        # construct counter dict d\n",
    "        # key : digit sum value\n",
    "        # value : number of integers in [1,n] whose digit sum is key\n",
    "        d = {}\n",
    "        for i in range(1,n+1):\n",
    "            val = self.sumDigit(i)\n",
    "            if val in d:\n",
    "                d[val] += 1\n",
    "            else:\n",
    "                d[val] = 1\n",
    "        # compute largest group size\n",
    "        maxSize = max(d.values())\n",
    "        # count number of groups whose size equals to largest group size maxSize\n",
    "        out = 0 # number of groups whose size equals to largest group size maxSize\n",
    "        for val in d.values():\n",
    "            if val == maxSize:\n",
    "                out += 1\n",
    "        return out \n",
    "    def sumDigit(self, i):\n",
    "        out = 0\n",
    "        while i:\n",
    "            out += i%10\n",
    "            i = i//10\n",
    "        return out"
   ]
  },
  {
   "cell_type": "code",
   "execution_count": 11,
   "metadata": {},
   "outputs": [
    {
     "data": {
      "text/plain": [
       "4"
      ]
     },
     "execution_count": 11,
     "metadata": {},
     "output_type": "execute_result"
    }
   ],
   "source": [
    "n = 13\n",
    "Solution().countLargestGroup(n) # 4"
   ]
  },
  {
   "cell_type": "markdown",
   "metadata": {},
   "source": [
    "# Reference\n",
    "\n",
    "[1399. Count Largest Group](https://leetcode.com/problems/count-largest-group/)"
   ]
  }
 ],
 "metadata": {
  "kernelspec": {
   "display_name": "Python 3",
   "language": "python",
   "name": "python3"
  },
  "language_info": {
   "codemirror_mode": {
    "name": "ipython",
    "version": 3
   },
   "file_extension": ".py",
   "mimetype": "text/x-python",
   "name": "python",
   "nbconvert_exporter": "python",
   "pygments_lexer": "ipython3",
   "version": "3.8.5"
  }
 },
 "nbformat": 4,
 "nbformat_minor": 4
}
