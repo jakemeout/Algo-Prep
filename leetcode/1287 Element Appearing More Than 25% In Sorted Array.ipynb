{
 "cells": [
  {
   "cell_type": "code",
   "execution_count": 13,
   "metadata": {},
   "outputs": [],
   "source": [
    "class Solution:\n",
    "    def findSpecialInteger(self, arr):\n",
    "        # edge case\n",
    "        if len(arr) <= 3:\n",
    "            return arr[0]\n",
    "        # general case\n",
    "        len_arr = len(arr)\n",
    "        from math import ceil\n",
    "        target = len_arr//4 + 1\n",
    "        #print(len_arr, target)\n",
    "        for i in range(len_arr*3//4):\n",
    "            if arr[i] == arr[i+target-1]:\n",
    "                return arr[i]\n",
    "        return arr[-1]"
   ]
  },
  {
   "cell_type": "code",
   "execution_count": 14,
   "metadata": {},
   "outputs": [
    {
     "data": {
      "text/plain": [
       "3"
      ]
     },
     "execution_count": 14,
     "metadata": {},
     "output_type": "execute_result"
    }
   ],
   "source": [
    "arr = [1,2,3,3]\n",
    "Solution().findSpecialInteger(arr) # 3"
   ]
  },
  {
   "cell_type": "markdown",
   "metadata": {},
   "source": [
    "# Reference\n",
    "\n",
    "[1287. Element Appearing More Than 25% In Sorted Array](https://leetcode.com/problems/element-appearing-more-than-25-in-sorted-array/)"
   ]
  }
 ],
 "metadata": {
  "kernelspec": {
   "display_name": "Python 3",
   "language": "python",
   "name": "python3"
  },
  "language_info": {
   "codemirror_mode": {
    "name": "ipython",
    "version": 3
   },
   "file_extension": ".py",
   "mimetype": "text/x-python",
   "name": "python",
   "nbconvert_exporter": "python",
   "pygments_lexer": "ipython3",
   "version": "3.8.5"
  }
 },
 "nbformat": 4,
 "nbformat_minor": 4
}
