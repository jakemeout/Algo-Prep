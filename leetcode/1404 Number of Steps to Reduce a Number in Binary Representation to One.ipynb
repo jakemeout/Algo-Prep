{
 "cells": [
  {
   "cell_type": "code",
   "execution_count": 29,
   "metadata": {},
   "outputs": [],
   "source": [
    "class Solution:\n",
    "    def numSteps(self, s: str) -> int:\n",
    "        ans = 0\n",
    "        while len(s) > 1:\n",
    "            ans += 1\n",
    "            if s[-1] == '0': # If the current number is even, you have to divide it by 2.\n",
    "                s = s[:-1]\n",
    "            else: # If the current number is odd, you have to add 1 to it.\n",
    "                if '0' in s:\n",
    "                    tmp = ''\n",
    "                    flag_break = False\n",
    "                    for i in s[::-1]:\n",
    "                        if i=='1' and not flag_break:\n",
    "                            tmp += '0'\n",
    "                        elif i=='0' and not flag_break:\n",
    "                            tmp += '1'\n",
    "                            flag_break = True\n",
    "                        elif i=='1': # elif i=='1' and flag_break:\n",
    "                            tmp += '1'\n",
    "                        else: # elif i=='0' and flag_break:\n",
    "                            tmp += '0'\n",
    "                    s = tmp[::-1]\n",
    "                else:\n",
    "                    s = '1' + '0'*len(s) \n",
    "        return ans"
   ]
  },
  {
   "cell_type": "code",
   "execution_count": 27,
   "metadata": {},
   "outputs": [],
   "source": [
    "class Solution:\n",
    "    def numSteps(self, s: str) -> int:\n",
    "        ans, carry = 0, 0\n",
    "        for d in reversed(s[1:]): # Except first digit\n",
    "            if int(d) + carry == 1:\n",
    "                ans += 2 # 2 operations: Add 1 and divide by two\n",
    "                carry = 1 # once carry becomes 1, carry stays as 1\n",
    "            else:\n",
    "                ans += 1 # 1 operation: Divide by 2\n",
    "            #print(d,ans,carry)\n",
    "        return ans + carry"
   ]
  },
  {
   "cell_type": "code",
   "execution_count": 30,
   "metadata": {},
   "outputs": [
    {
     "data": {
      "text/plain": [
       "12"
      ]
     },
     "execution_count": 30,
     "metadata": {},
     "output_type": "execute_result"
    }
   ],
   "source": [
    "s = \"101011000\"\n",
    "Solution().numSteps(s)"
   ]
  },
  {
   "cell_type": "markdown",
   "metadata": {},
   "source": [
    "# Reference\n",
    "\n",
    "[1404. Number of Steps to Reduce a Number in Binary Representation to One](https://leetcode.com/problems/number-of-steps-to-reduce-a-number-in-binary-representation-to-one/)\n",
    "\n",
    "[Number of Steps to Reduce a Number in Binary Representation to One (Leetcode 1404)](https://www.youtube.com/watch?v=KVfA3MsSKCc&list=PL_lPC-CADCvSRKTJcAxtkJEGuP87K3E2J&index=10)\n",
    "\n",
    "[[Java/Python] Clean & Concise - Clear Explanation - O(N)](https://leetcode.com/problems/number-of-steps-to-reduce-a-number-in-binary-representation-to-one/discuss/1184352/JavaPython-Clean-and-Concise-Clear-Explanation-O(N))"
   ]
  }
 ],
 "metadata": {
  "kernelspec": {
   "display_name": "Python 3",
   "language": "python",
   "name": "python3"
  },
  "language_info": {
   "codemirror_mode": {
    "name": "ipython",
    "version": 3
   },
   "file_extension": ".py",
   "mimetype": "text/x-python",
   "name": "python",
   "nbconvert_exporter": "python",
   "pygments_lexer": "ipython3",
   "version": "3.8.5"
  }
 },
 "nbformat": 4,
 "nbformat_minor": 4
}
