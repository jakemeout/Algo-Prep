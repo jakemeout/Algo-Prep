{
 "cells": [
  {
   "cell_type": "code",
   "execution_count": null,
   "metadata": {},
   "outputs": [],
   "source": [
    "class TreeNode:\n",
    "    def __init__(self, val=0, left=None, right=None):\n",
    "        self.val = val\n",
    "        self.left = left\n",
    "        self.right = right"
   ]
  },
  {
   "cell_type": "markdown",
   "metadata": {},
   "source": [
    "Two nodes of a binary tree are cousins if they have the same depth, but have different parents.\n",
    "\n",
    "[993. Cousins in Binary Tree](https://leetcode.com/problems/cousins-in-binary-tree/)"
   ]
  },
  {
   "cell_type": "code",
   "execution_count": null,
   "metadata": {},
   "outputs": [],
   "source": [
    "class Solution:\n",
    "    def isCousins(self, root: TreeNode, x: int, y: int) -> bool:\n",
    "        px, dx, py, dy = self.dfs(root, None, 0, x) + self.dfs(root, None, 0, y)\n",
    "        return px != py and dx == dy\n",
    "    def dfs(self, node, parent, depth, mod):\n",
    "        \"\"\"\n",
    "        node - root node\n",
    "        parent - parent node of root node\n",
    "        depth - depth of root node\n",
    "        mod - node.val of interest\n",
    "        \n",
    "        ans[0] - depth of mod\n",
    "        ans[1] - parent of mod\n",
    "        \"\"\"\n",
    "        if node and (node.val == mod):\n",
    "            return parent, depth\n",
    "        if node.left and node.right:\n",
    "            return self.dfs(node.left, node, depth + 1, mod) or self.dfs(node.right, node, depth + 1, mod)\n",
    "        if node.left:\n",
    "            return self.dfs(node.left, node, depth + 1, mod)\n",
    "        if node.right:\n",
    "            return self.dfs(node.right, node, depth + 1, mod)"
   ]
  },
  {
   "cell_type": "code",
   "execution_count": 1,
   "metadata": {},
   "outputs": [
    {
     "data": {
      "text/plain": [
       "(1, 3)"
      ]
     },
     "execution_count": 1,
     "metadata": {},
     "output_type": "execute_result"
    }
   ],
   "source": [
    "(1,3) or None"
   ]
  },
  {
   "cell_type": "code",
   "execution_count": 2,
   "metadata": {},
   "outputs": [
    {
     "data": {
      "text/plain": [
       "(1, 3)"
      ]
     },
     "execution_count": 2,
     "metadata": {},
     "output_type": "execute_result"
    }
   ],
   "source": [
    "None or (1,3)"
   ]
  },
  {
   "cell_type": "code",
   "execution_count": 3,
   "metadata": {},
   "outputs": [],
   "source": [
    "None or None"
   ]
  },
  {
   "cell_type": "markdown",
   "metadata": {},
   "source": [
    "# Reference\n",
    "\n",
    "[993. Cousins in Binary Tree](https://leetcode.com/problems/cousins-in-binary-tree/)\n",
    "\n",
    "[Cousins in Binary Tree | LeetCode 169 | C++, Java, Python | May LeetCoding Day 7](https://www.youtube.com/watch?v=xmJJn43rMCA&list=PL1w8k37X_6L-E23tn3d6oXLW63pS8-5rm&index=16)\n",
    "\n",
    "[Python straightforward & clean DFS](https://leetcode.com/problems/cousins-in-binary-tree/discuss/246883/Python-straightforward-and-clean-DFS)"
   ]
  }
 ],
 "metadata": {
  "kernelspec": {
   "display_name": "Python 3",
   "language": "python",
   "name": "python3"
  },
  "language_info": {
   "codemirror_mode": {
    "name": "ipython",
    "version": 3
   },
   "file_extension": ".py",
   "mimetype": "text/x-python",
   "name": "python",
   "nbconvert_exporter": "python",
   "pygments_lexer": "ipython3",
   "version": "3.8.5"
  }
 },
 "nbformat": 4,
 "nbformat_minor": 4
}
