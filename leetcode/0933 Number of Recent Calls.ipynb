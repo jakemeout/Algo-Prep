{
 "cells": [
  {
   "cell_type": "code",
   "execution_count": null,
   "metadata": {},
   "outputs": [],
   "source": [
    "class RecentCounter:\n",
    "    def __init__(self):\n",
    "        self.queue = []\n",
    "    def ping(self, t: int) -> int:\n",
    "        #  Adds a new request at time t, where t represents some time in milliseconds\n",
    "        self.queue.append(t) \n",
    "        # return the number of requests that have happened in [t - 3000, t].\n",
    "        while self.queue[0] < t - 3000:\n",
    "            self.queue.pop(0)\n",
    "        return len(self.queue)"
   ]
  },
  {
   "cell_type": "markdown",
   "metadata": {},
   "source": [
    "# Reference\n",
    "\n",
    "[933. Number of Recent Calls](https://leetcode.com/problems/number-of-recent-calls/)"
   ]
  }
 ],
 "metadata": {
  "kernelspec": {
   "display_name": "Python 3",
   "language": "python",
   "name": "python3"
  },
  "language_info": {
   "codemirror_mode": {
    "name": "ipython",
    "version": 3
   },
   "file_extension": ".py",
   "mimetype": "text/x-python",
   "name": "python",
   "nbconvert_exporter": "python",
   "pygments_lexer": "ipython3",
   "version": "3.8.5"
  }
 },
 "nbformat": 4,
 "nbformat_minor": 4
}
