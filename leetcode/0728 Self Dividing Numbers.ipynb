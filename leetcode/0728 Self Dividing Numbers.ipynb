{
 "cells": [
  {
   "cell_type": "code",
   "execution_count": null,
   "metadata": {},
   "outputs": [],
   "source": [
    "class Solution:\n",
    "    def selfDividingNumbers(self, left: int, right: int) -> List[int]:\n",
    "        ans = []\n",
    "        for n in range(left,right+1):\n",
    "            if self.DividingNumber(n):\n",
    "                ans.append(n)\n",
    "        return ans\n",
    "    def DividingNumber(self, n):\n",
    "        lst = list(str(n))\n",
    "        for s in lst:\n",
    "            # Also, a self-dividing number is not allowed to contain the digit zero. \n",
    "            if s == '0': \n",
    "                return False\n",
    "            # A self-dividing number is a number that is divisible by every digit it contains. \n",
    "            if n%int(s) != 0:\n",
    "                return False\n",
    "        return True"
   ]
  },
  {
   "cell_type": "markdown",
   "metadata": {},
   "source": [
    "# Reference\n",
    "\n",
    "[728. Self Dividing Numbers](https://leetcode.com/problems/self-dividing-numbers/)"
   ]
  },
  {
   "cell_type": "markdown",
   "metadata": {},
   "source": []
  }
 ],
 "metadata": {
  "kernelspec": {
   "display_name": "Python 3",
   "language": "python",
   "name": "python3"
  },
  "language_info": {
   "codemirror_mode": {
    "name": "ipython",
    "version": 3
   },
   "file_extension": ".py",
   "mimetype": "text/x-python",
   "name": "python",
   "nbconvert_exporter": "python",
   "pygments_lexer": "ipython3",
   "version": "3.8.5"
  }
 },
 "nbformat": 4,
 "nbformat_minor": 4
}
