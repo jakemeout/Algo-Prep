{
 "cells": [
  {
   "cell_type": "code",
   "execution_count": null,
   "metadata": {},
   "outputs": [],
   "source": [
    "# Time Limit Exceeded\n",
    "class Solution:\n",
    "    def validPalindrome(self, s: str) -> bool:\n",
    "        if self.isPalindrome(s):\n",
    "            return True\n",
    "        for i in range(len(s)):\n",
    "            if self.isPalindrome(s[:i]+s[i+1:]):\n",
    "                return True\n",
    "        return False\n",
    "    def isPalindrome(self, s: str) -> bool:\n",
    "        s = ''.join(e for e in s if e.isalnum())\n",
    "        if len(s) <= 1: return True\n",
    "        l, r = 0, len(s)-1\n",
    "        while l < r:\n",
    "            if s[l] != s[r]: return False\n",
    "            l, r = l+1, r-1\n",
    "        return True"
   ]
  },
  {
   "cell_type": "code",
   "execution_count": 31,
   "metadata": {},
   "outputs": [],
   "source": [
    "class Solution:\n",
    "    def validPalindrome(self, s: str) -> bool:\n",
    "        l, r = 0, len(s)-1\n",
    "        mismatch = False\n",
    "        while l < r:\n",
    "            if s[l] != s[r]: \n",
    "                mismatch = True\n",
    "                break\n",
    "            l, r = l+1, r-1\n",
    "            \n",
    "        l0, r0 = l, r\n",
    "        \n",
    "        track1 = False\n",
    "        if s[l0] == s[r0-1]:\n",
    "            l, r = l0, r0-1\n",
    "            while l < r:\n",
    "                if s[l] != s[r]: \n",
    "                    track1 = True\n",
    "                    break\n",
    "                l, r = l+1, r-1\n",
    "        else:\n",
    "            track1 = True\n",
    "                \n",
    "        track2 = False\n",
    "        if s[l0+1] == s[r0]:\n",
    "            l, r = l0+1, r0\n",
    "            while l < r:\n",
    "                if s[l] != s[r]: \n",
    "                    print(l,r,s[l],s[r],'-'*50)\n",
    "                    track2 = True\n",
    "                    break\n",
    "                l, r = l+1, r-1\n",
    "        else:\n",
    "            track2 = True\n",
    "        \n",
    "        if not mismatch:\n",
    "            return True\n",
    "        if not track1 or not track2:\n",
    "            return True\n",
    "        return False        "
   ]
  },
  {
   "cell_type": "code",
   "execution_count": 32,
   "metadata": {},
   "outputs": [
    {
     "data": {
      "text/plain": [
       "True"
      ]
     },
     "execution_count": 32,
     "metadata": {},
     "output_type": "execute_result"
    }
   ],
   "source": [
    "s = \"deeee\"\n",
    "Solution().validPalindrome(s) # True"
   ]
  },
  {
   "cell_type": "markdown",
   "metadata": {},
   "source": [
    "# Reference\n",
    "\n",
    "[680. Valid Palindrome II](https://leetcode.com/problems/valid-palindrome-ii/)"
   ]
  },
  {
   "cell_type": "code",
   "execution_count": null,
   "metadata": {},
   "outputs": [],
   "source": []
  }
 ],
 "metadata": {
  "kernelspec": {
   "display_name": "Python 3",
   "language": "python",
   "name": "python3"
  },
  "language_info": {
   "codemirror_mode": {
    "name": "ipython",
    "version": 3
   },
   "file_extension": ".py",
   "mimetype": "text/x-python",
   "name": "python",
   "nbconvert_exporter": "python",
   "pygments_lexer": "ipython3",
   "version": "3.8.5"
  }
 },
 "nbformat": 4,
 "nbformat_minor": 4
}
