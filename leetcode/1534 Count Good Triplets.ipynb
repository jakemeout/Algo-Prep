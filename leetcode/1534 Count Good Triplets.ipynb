{
 "cells": [
  {
   "cell_type": "code",
   "execution_count": null,
   "metadata": {},
   "outputs": [],
   "source": [
    "class Solution:\n",
    "    def countGoodTriplets(self, arr, a, b, c):\n",
    "        out = 0\n",
    "        for i in range(len(arr)-2):\n",
    "            for j in range(i+1,len(arr)-1):\n",
    "                if self.isGood(arr[i],arr[j],a): # |arr[i] - arr[j]| <= a\n",
    "                    for k in range(j+1,len(arr)):\n",
    "                        if self.isGood(arr[j],arr[k],b): # |arr[j] - arr[k]| <= b\n",
    "                            if self.isGood(arr[i],arr[k],c): # |arr[i] - arr[k]| <= c\n",
    "                                out += 1         \n",
    "        return out\n",
    "    def isGood(self, arr_i, arr_j, a):\n",
    "        return abs(arr_i-arr_j) <= a"
   ]
  },
  {
   "cell_type": "markdown",
   "metadata": {},
   "source": [
    "# Reference\n",
    "\n",
    "[1534. Count Good Triplets](https://leetcode.com/problems/count-good-triplets/)"
   ]
  }
 ],
 "metadata": {
  "kernelspec": {
   "display_name": "Python 3",
   "language": "python",
   "name": "python3"
  },
  "language_info": {
   "codemirror_mode": {
    "name": "ipython",
    "version": 3
   },
   "file_extension": ".py",
   "mimetype": "text/x-python",
   "name": "python",
   "nbconvert_exporter": "python",
   "pygments_lexer": "ipython3",
   "version": "3.8.5"
  }
 },
 "nbformat": 4,
 "nbformat_minor": 4
}
