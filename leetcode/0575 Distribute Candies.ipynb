{
 "cells": [
  {
   "cell_type": "code",
   "execution_count": null,
   "metadata": {},
   "outputs": [],
   "source": [
    "class Solution:\n",
    "    def distributeCandies(self, candyType):\n",
    "        # compute doctor's recommanded candy consumption per day, target\n",
    "        n = len(candyType)\n",
    "        target = n//2\n",
    "        # compute number of different type of candies in one's jar\n",
    "        d = {}\n",
    "        for candy_type in candyType:\n",
    "            if candy_type in d:\n",
    "                d[candy_type] += 1\n",
    "            else:\n",
    "                d[candy_type] = 1\n",
    "        n_candy_type = len([candy_type for candy_type in d])\n",
    "        return min(target, n_candy_type)        "
   ]
  },
  {
   "cell_type": "markdown",
   "metadata": {},
   "source": [
    "# Reference\n",
    "\n",
    "[575. Distribute Candies](https://leetcode.com/problems/distribute-candies/)"
   ]
  }
 ],
 "metadata": {
  "kernelspec": {
   "display_name": "Python 3",
   "language": "python",
   "name": "python3"
  },
  "language_info": {
   "codemirror_mode": {
    "name": "ipython",
    "version": 3
   },
   "file_extension": ".py",
   "mimetype": "text/x-python",
   "name": "python",
   "nbconvert_exporter": "python",
   "pygments_lexer": "ipython3",
   "version": "3.8.5"
  }
 },
 "nbformat": 4,
 "nbformat_minor": 4
}
