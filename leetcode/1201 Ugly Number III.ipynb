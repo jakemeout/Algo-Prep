{
 "cells": [
  {
   "cell_type": "code",
   "execution_count": null,
   "metadata": {},
   "outputs": [],
   "source": [
    "from math import lcm\n",
    "\n",
    "class Solution:\n",
    "    def nthUglyNumber(self, n: int, a: int, b: int, c: int) -> int:\n",
    "        \n",
    "        ab = lcm(a,b) \n",
    "        bc = lcm(b,c)\n",
    "        ca = lcm(c,a) \n",
    "        abc = lcm(a,b,c) \n",
    "        \n",
    "        def enough(mid) -> bool:\n",
    "            total = mid//a + mid//b + mid//c - mid//ab - mid//bc - mid//ca + mid//abc\n",
    "            return total >= n\n",
    "\n",
    "        # Correctly initialize the boundary variables left and right. \n",
    "        # Only one rule: set up the boundary to include all possible elements;\n",
    "        left, right = 1, 2*10**9\n",
    "        \n",
    "        while left < right:\n",
    "            mid = left + (right - left) // 2\n",
    "            \n",
    "            # Design the condition function. \n",
    "            # This is the most difficult and most beautiful part. Needs lots of practice.\n",
    "            if enough(mid): \n",
    "                right = mid\n",
    "            else:\n",
    "                left = mid + 1\n",
    "                \n",
    "        # Decide return value. Is it return left or return left - 1? \n",
    "        # Remember this: after exiting the while loop, left is the minimal k satisfying the condition function;\n",
    "        return left"
   ]
  },
  {
   "cell_type": "markdown",
   "metadata": {},
   "source": [
    "# Reference\n",
    "\n",
    "[1201. Ugly Number III](https://leetcode.com/problems/ugly-number-iii/)\n",
    "\n",
    "[[Python/ Clear explanation] Powerful Ultimate Binary Search Template. Solved many problems.](https://leetcode.com/problems/find-k-th-smallest-pair-distance/discuss/769705/Python-Clear-explanation-Powerful-Ultimate-Binary-Search-Template.-Solved-many-problems.)"
   ]
  }
 ],
 "metadata": {
  "kernelspec": {
   "display_name": "Python 3",
   "language": "python",
   "name": "python3"
  },
  "language_info": {
   "codemirror_mode": {
    "name": "ipython",
    "version": 3
   },
   "file_extension": ".py",
   "mimetype": "text/x-python",
   "name": "python",
   "nbconvert_exporter": "python",
   "pygments_lexer": "ipython3",
   "version": "3.8.5"
  }
 },
 "nbformat": 4,
 "nbformat_minor": 4
}
