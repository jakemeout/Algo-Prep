{
 "cells": [
  {
   "cell_type": "code",
   "execution_count": 7,
   "metadata": {},
   "outputs": [],
   "source": [
    "class Solution:\n",
    "    def circularPermutation(self, n: int, start: int):\n",
    "        grey_code = self.greyCode(n)\n",
    "        grey = [int(s,2) for s in grey_code]\n",
    "        #print(grey_code, grey)\n",
    "        for idx, i in enumerate(grey):\n",
    "            if i == start:\n",
    "                break\n",
    "        return grey[idx:] + grey[:idx]\n",
    "    def greyCode(self, n):\n",
    "        if n == 1:\n",
    "            return ['0','1']\n",
    "        code = self.greyCode(n-1)\n",
    "        code_0 = ['0'+c for c in code]\n",
    "        code_1 = ['1'+c for c in code]\n",
    "        return code_0 + code_1[::-1]    "
   ]
  },
  {
   "cell_type": "code",
   "execution_count": 8,
   "metadata": {},
   "outputs": [
    {
     "name": "stdout",
     "output_type": "stream",
     "text": [
      "['00', '01', '11', '10'] [0, 1, 3, 2]\n"
     ]
    },
    {
     "data": {
      "text/plain": [
       "[3, 2, 0, 1]"
      ]
     },
     "execution_count": 8,
     "metadata": {},
     "output_type": "execute_result"
    }
   ],
   "source": [
    "n = 2\n",
    "start = 3\n",
    "Solution().circularPermutation(n, start)"
   ]
  },
  {
   "cell_type": "markdown",
   "metadata": {},
   "source": [
    "# Reference\n",
    "\n",
    "[1238. Circular Permutation in Binary Representation](https://leetcode.com/problems/circular-permutation-in-binary-representation/)\n",
    "\n",
    "[Circular Permutation in Binary Representation (Leetcode 1238)](https://www.youtube.com/watch?v=9m5xWel93Ws&list=PL_lPC-CADCvSRKTJcAxtkJEGuP87K3E2J&index=9)"
   ]
  }
 ],
 "metadata": {
  "kernelspec": {
   "display_name": "Python 3",
   "language": "python",
   "name": "python3"
  },
  "language_info": {
   "codemirror_mode": {
    "name": "ipython",
    "version": 3
   },
   "file_extension": ".py",
   "mimetype": "text/x-python",
   "name": "python",
   "nbconvert_exporter": "python",
   "pygments_lexer": "ipython3",
   "version": "3.8.5"
  }
 },
 "nbformat": 4,
 "nbformat_minor": 4
}
