{
 "cells": [
  {
   "cell_type": "code",
   "execution_count": null,
   "metadata": {},
   "outputs": [],
   "source": [
    "class Solution:\n",
    "    def numSubmat(self, mat):\n",
    "        \"\"\"\n",
    "        :type mat: list[list[int]]\n",
    "        :rtype: int\n",
    "        \"\"\"\n",
    "        rows = len( mat )\n",
    "        cols = len( mat[0] )\n",
    "\n",
    "        \"\"\"\n",
    "        original row : 0000 11 000 1111 00 1 0 1111 000\n",
    "        modified row : 0000 12 000 1234 00 1 0 1234 000\n",
    "        \"\"\"\n",
    "        for r in range( rows ):\n",
    "            for c in range( 1, cols ):\n",
    "                if mat[r][c]:\n",
    "                    mat[r][c] = mat[r][c - 1] + 1\n",
    "                    \n",
    "        ans = 0\n",
    "        for r in range( rows ):\n",
    "            for c in range( cols ):\n",
    "                if mat[r][c]: # count submatrices with top right mat[r][c]\n",
    "                    row = r\n",
    "                    submatrix_width = mat[r][c]\n",
    "                    while row < rows and mat[row][c]:\n",
    "                        submatrix_width = min( submatrix_width, mat[row][c] )\n",
    "                        ans += submatrix_width\n",
    "                        row += 1\n",
    "        return ans"
   ]
  },
  {
   "cell_type": "markdown",
   "metadata": {},
   "source": [
    "# Reference\n",
    "\n",
    "[1504. Count Submatrices With All Ones](https://leetcode.com/problems/count-submatrices-with-all-ones/)\n",
    "\n",
    "[Python 3 Dynamic Programming](https://leetcode.com/problems/count-submatrices-with-all-ones/discuss/725108/Python-3-Dynamic-Programming)\n",
    "\n",
    "[Leetcode 1504. Count Submatrices With All Ones](https://www.youtube.com/watch?v=8HYXkNB39KA)"
   ]
  }
 ],
 "metadata": {
  "kernelspec": {
   "display_name": "Python 3",
   "language": "python",
   "name": "python3"
  },
  "language_info": {
   "codemirror_mode": {
    "name": "ipython",
    "version": 3
   },
   "file_extension": ".py",
   "mimetype": "text/x-python",
   "name": "python",
   "nbconvert_exporter": "python",
   "pygments_lexer": "ipython3",
   "version": "3.8.5"
  }
 },
 "nbformat": 4,
 "nbformat_minor": 4
}
