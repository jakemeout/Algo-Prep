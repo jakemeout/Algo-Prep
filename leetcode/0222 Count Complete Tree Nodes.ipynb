{
 "cells": [
  {
   "cell_type": "code",
   "execution_count": null,
   "metadata": {},
   "outputs": [],
   "source": [
    "class TreeNode:\n",
    "    def __init__(self, val=0, left=None, right=None):\n",
    "        self.val = val\n",
    "        self.left = left\n",
    "        self.right = right"
   ]
  },
  {
   "cell_type": "code",
   "execution_count": null,
   "metadata": {},
   "outputs": [],
   "source": [
    "class Solution:\n",
    "    def countNodes(self, root: TreeNode) -> int:\n",
    "        if root is None:\n",
    "            return 0\n",
    "        \n",
    "        l_counter, r_counter = 0, 0\n",
    "        left, right = root, root\n",
    "        while left:\n",
    "            left = left.left\n",
    "            l_counter += 1\n",
    "        while right:\n",
    "            right = right.right\n",
    "            r_counter += 1\n",
    "            \n",
    "        if l_counter == r_counter:\n",
    "            return 2**l_counter - 1\n",
    "        else:\n",
    "            return self.countNodes(root.left) + self.countNodes(root.right) + 1"
   ]
  },
  {
   "cell_type": "markdown",
   "metadata": {},
   "source": [
    "# Reference\n",
    "\n",
    "[222. Count Complete Tree Nodes](https://leetcode.com/problems/count-complete-tree-nodes/)\n",
    "\n",
    "[Count Complete Tree Nodes | LeetCode 222 | C++, Java, Python](https://www.youtube.com/watch?v=i_r2uKbwHCU&list=PL1w8k37X_6L-E23tn3d6oXLW63pS8-5rm&index=20)"
   ]
  }
 ],
 "metadata": {
  "kernelspec": {
   "display_name": "Python 3",
   "language": "python",
   "name": "python3"
  },
  "language_info": {
   "codemirror_mode": {
    "name": "ipython",
    "version": 3
   },
   "file_extension": ".py",
   "mimetype": "text/x-python",
   "name": "python",
   "nbconvert_exporter": "python",
   "pygments_lexer": "ipython3",
   "version": "3.8.5"
  }
 },
 "nbformat": 4,
 "nbformat_minor": 4
}
