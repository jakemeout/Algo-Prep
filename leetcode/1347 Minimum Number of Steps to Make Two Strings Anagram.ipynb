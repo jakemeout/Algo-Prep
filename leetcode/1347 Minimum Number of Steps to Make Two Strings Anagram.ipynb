{
 "cells": [
  {
   "cell_type": "code",
   "execution_count": 15,
   "metadata": {},
   "outputs": [],
   "source": [
    "class Solution:\n",
    "    def minSteps(self, s: str, t: str) -> int:\n",
    "        d_s, d_t = self.counterDict(s), self.counterDict(t)\n",
    "        ans = 0\n",
    "        for char in set(d_s).union(set(d_t)):\n",
    "            if char in d_s and char in d_t:\n",
    "                ans += abs(d_s[char]-d_t[char]) \n",
    "            elif char in d_s and char not in d_t:\n",
    "                ans += d_s[char] \n",
    "            elif char not in d_s and char in d_t:\n",
    "                ans += d_t[char]\n",
    "        return ans // 2\n",
    "    def counterDict(self, s):\n",
    "        d = {}\n",
    "        for char in s:\n",
    "            if char in d:\n",
    "                d[char] += 1\n",
    "            else:\n",
    "                d[char] = 1\n",
    "        return d         "
   ]
  },
  {
   "cell_type": "code",
   "execution_count": 16,
   "metadata": {},
   "outputs": [
    {
     "data": {
      "text/plain": [
       "5"
      ]
     },
     "execution_count": 16,
     "metadata": {},
     "output_type": "execute_result"
    }
   ],
   "source": [
    "s = \"leetcode\"\n",
    "t = \"practice\"\n",
    "Solution().minSteps(s, t) # 5"
   ]
  },
  {
   "cell_type": "markdown",
   "metadata": {},
   "source": [
    "# Reference\n",
    "\n",
    "[1347. Minimum Number of Steps to Make Two Strings Anagram](https://leetcode.com/problems/minimum-number-of-steps-to-make-two-strings-anagram/)\n",
    "\n",
    "[Minimum Number of Steps to Make Two Strings Anagram (Leetcode 1347)](https://www.youtube.com/watch?v=9IomDKpqCKo&list=PL_lPC-CADCvSRKTJcAxtkJEGuP87K3E2J&index=6)"
   ]
  }
 ],
 "metadata": {
  "kernelspec": {
   "display_name": "Python 3",
   "language": "python",
   "name": "python3"
  },
  "language_info": {
   "codemirror_mode": {
    "name": "ipython",
    "version": 3
   },
   "file_extension": ".py",
   "mimetype": "text/x-python",
   "name": "python",
   "nbconvert_exporter": "python",
   "pygments_lexer": "ipython3",
   "version": "3.8.5"
  }
 },
 "nbformat": 4,
 "nbformat_minor": 4
}
