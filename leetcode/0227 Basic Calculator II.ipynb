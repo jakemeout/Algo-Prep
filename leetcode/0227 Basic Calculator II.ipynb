{
 "cells": [
  {
   "cell_type": "code",
   "execution_count": 47,
   "metadata": {},
   "outputs": [],
   "source": [
    "class Solution:\n",
    "    def calculate(self, s: str) -> int:\n",
    "        import re\n",
    "        nums = [int(num) for num in re.split('[\\s+*/-]+', s) if num!=''] # collect numbers in s\n",
    "        ops = [op for op in re.split('[\\s0123456789]+', s) if op!=''] # collect operations in s\n",
    "        \n",
    "        stack = [nums[0]]\n",
    "        for op, num in zip(ops,nums[1:]):\n",
    "            if op == \"+\":\n",
    "                stack.append(num)\n",
    "            elif op == \"-\":\n",
    "                stack.append(-num)\n",
    "            elif op == \"*\":\n",
    "                stack.append(stack.pop()*num)\n",
    "            else: \n",
    "                stack.append(int(stack.pop()/num))\n",
    "        return sum(stack)"
   ]
  },
  {
   "cell_type": "code",
   "execution_count": 48,
   "metadata": {},
   "outputs": [
    {
     "name": "stdout",
     "output_type": "stream",
     "text": [
      "[14, 3, 2] ['-', '/']\n"
     ]
    },
    {
     "data": {
      "text/plain": [
       "13"
      ]
     },
     "execution_count": 48,
     "metadata": {},
     "output_type": "execute_result"
    }
   ],
   "source": [
    "s = \" 14-3/2 \"\n",
    "Solution().calculate(s) # 13"
   ]
  },
  {
   "cell_type": "markdown",
   "metadata": {},
   "source": [
    "# Reference\n",
    "\n",
    "[227. Basic Calculator II](https://leetcode.com/problems/basic-calculator-ii/)\n",
    "\n",
    "[Python3 - Simple and Clean.](https://leetcode.com/problems/basic-calculator-ii/discuss/1232833/Python3-Simple-and-Clean.)"
   ]
  }
 ],
 "metadata": {
  "kernelspec": {
   "display_name": "Python 3",
   "language": "python",
   "name": "python3"
  },
  "language_info": {
   "codemirror_mode": {
    "name": "ipython",
    "version": 3
   },
   "file_extension": ".py",
   "mimetype": "text/x-python",
   "name": "python",
   "nbconvert_exporter": "python",
   "pygments_lexer": "ipython3",
   "version": "3.8.5"
  }
 },
 "nbformat": 4,
 "nbformat_minor": 4
}
