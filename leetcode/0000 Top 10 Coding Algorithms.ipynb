{
 "cells": [
  {
   "cell_type": "markdown",
   "metadata": {},
   "source": [
    "\n",
    "\n",
    "\n",
    "# Data Structures\n",
    "\n",
    "##### Linear Data Structures \n",
    "List, Stack, Queue, Heap, Linked List, String\n",
    "\n",
    "##### Hash Table \n",
    "Dict, Set\n",
    "\n",
    "##### Graph \n",
    "Tree, BT, BST, Graph"
   ]
  },
  {
   "cell_type": "markdown",
   "metadata": {},
   "source": [
    "# Algorithms\n",
    "\n",
    "##### Search \n",
    "DFS, BFS, Binary Search, Complete Search\n",
    "\n",
    "##### Sorting\n",
    "\n",
    "##### Recursion and Dynamic Programming\n",
    "$$\\begin{array}{llll}\n",
    "\\text{Recursion}&&\\text{No Dynamic Programming (No Memoization or Tabulation)}\\\\\n",
    "\\text{Top Down}&&\\text{Dynamic Programming (Memoization)}\\\\\n",
    "\\text{Bottom Up}&&\\text{Dynamic Programming (Tabulation)}\\\\\n",
    "\\text{Bottom Up}&&\\text{Dynamic Programing (Efficient Memory Usage)}\n",
    "\\end{array}$$\n",
    "\n",
    "##### Greedy Methods\n",
    "\n",
    "##### Divide and Conquer\n",
    "\n",
    "##### Pointers"
   ]
  },
  {
   "cell_type": "markdown",
   "metadata": {},
   "source": [
    "# Reference\n",
    "\n",
    "[LeetCode](https://leetcode.com/)\n",
    "\n",
    "[프로그래머스](https://programmers.co.kr/)\n",
    "\n",
    "[백준](https://www.acmicpc.net/)"
   ]
  },
  {
   "cell_type": "code",
   "execution_count": null,
   "metadata": {},
   "outputs": [],
   "source": []
  }
 ],
 "metadata": {
  "kernelspec": {
   "display_name": "Python 3 (ipykernel)",
   "language": "python",
   "name": "python3"
  },
  "language_info": {
   "codemirror_mode": {
    "name": "ipython",
    "version": 3
   },
   "file_extension": ".py",
   "mimetype": "text/x-python",
   "name": "python",
   "nbconvert_exporter": "python",
   "pygments_lexer": "ipython3",
   "version": "3.9.6"
  }
 },
 "nbformat": 4,
 "nbformat_minor": 4
}
