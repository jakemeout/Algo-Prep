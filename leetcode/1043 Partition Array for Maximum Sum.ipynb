{
 "cells": [
  {
   "cell_type": "markdown",
   "metadata": {},
   "source": [
    "dp[i] record the maximum sum we can get considering A[0] ~ A[i-1].\n",
    "\n",
    "To get dp[i], we will try to change k last numbers separately to the maximum of them,\n",
    "where k = 1 to k = K.\n",
    "\n",
    "[[Java/C++/Python] DP, O(K) Space](https://leetcode.com/problems/partition-array-for-maximum-sum/discuss/290863/JavaC%2B%2BPython-DP-O(K)-Space)"
   ]
  },
  {
   "cell_type": "code",
   "execution_count": null,
   "metadata": {},
   "outputs": [],
   "source": [
    "class Solution:\n",
    "    def maxSumAfterPartitioning(self, A, K):\n",
    "        \"\"\"\n",
    "        :type A: List[int]\n",
    "        :type K: int\n",
    "        :rtype: int\n",
    "        \"\"\"\n",
    "        N = len(A)\n",
    "        dp = [0] * (N + 1)\n",
    "        for i in range(1, N + 1):\n",
    "            curMax = 0\n",
    "            for k in range(1, min(K, i) + 1):\n",
    "                curMax = max(curMax, A[i - k])\n",
    "                dp[i] = max(dp[i], dp[i - k] + curMax * k)\n",
    "        return dp[N]"
   ]
  },
  {
   "cell_type": "markdown",
   "metadata": {},
   "source": [
    "# Reference\n",
    "\n",
    "[1043. Partition Array for Maximum Sum](https://leetcode.com/problems/partition-array-for-maximum-sum/)\n",
    "\n",
    "[[Java/C++/Python] DP, O(K) Space](https://leetcode.com/problems/partition-array-for-maximum-sum/discuss/290863/JavaC%2B%2BPython-DP-O(K)-Space)"
   ]
  }
 ],
 "metadata": {
  "kernelspec": {
   "display_name": "Python 3",
   "language": "python",
   "name": "python3"
  },
  "language_info": {
   "codemirror_mode": {
    "name": "ipython",
    "version": 3
   },
   "file_extension": ".py",
   "mimetype": "text/x-python",
   "name": "python",
   "nbconvert_exporter": "python",
   "pygments_lexer": "ipython3",
   "version": "3.8.5"
  }
 },
 "nbformat": 4,
 "nbformat_minor": 4
}
