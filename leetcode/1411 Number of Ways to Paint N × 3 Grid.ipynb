{
 "cells": [
  {
   "cell_type": "markdown",
   "metadata": {},
   "source": [
    "# Explanation\n",
    "Two pattern for each row, 121 and 123.\n",
    "\n",
    "121, the first color same as the third in a row.\n",
    "\n",
    "123, one row has three different colors.\n",
    "\n",
    "We consider the state of the first row,\n",
    "\n",
    "pattern 121: 121, 131, 212, 232, 313, 323.\n",
    "\n",
    "pattern 123: 123, 132, 213, 231, 312, 321.\n",
    "\n",
    "So we initialize a121 = 6, a123 = 6.\n",
    "\n",
    "We consider the next possible for each pattern:\n",
    "\n",
    "Patter 121 can be followed by: 212, 213, 232, 312, 313\n",
    "\n",
    "Patter 123 can be followed by: 212, 231, 312, 232\n",
    "\n",
    "121 => three 121, two 123\n",
    "\n",
    "123 => two 121, two 123\n",
    "\n",
    "So we can write this dynamic programming transform equation:\n",
    "\n",
    "b121 = a121 * 3 + a123 * 2\n",
    "\n",
    "b123 = a121 * 2 + a123 * 2\n",
    "\n",
    "We calculate the result iteratively\n",
    "\n",
    "and finally return the sum of both pattern a121 + a123"
   ]
  },
  {
   "cell_type": "code",
   "execution_count": 7,
   "metadata": {},
   "outputs": [],
   "source": [
    "# O(n)\n",
    "class Solution:\n",
    "    def numOfWays(self, n: int) -> int:\n",
    "        MOD = 10**9 + 7 \n",
    "\n",
    "        # dp = [[0]*3*3*3]*n # aliasing\n",
    "        dp = [[0]*3*3*3 for _ in range(n)]\n",
    "        #print(dp)\n",
    "        for curr in range(27): \n",
    "            carry = curr\n",
    "            carry, c = divmod(carry, 3)\n",
    "            a, b = divmod(carry, 3)\n",
    "            if (a != b) and (b != c):\n",
    "                dp[0][curr] = 1\n",
    "        #print(dp)\n",
    "        \n",
    "        for i in range(1, n):\n",
    "            for prev in range(27):\n",
    "                carry = prev\n",
    "                carry, c = divmod(carry, 3)\n",
    "                a, b = divmod(carry, 3)\n",
    "                if (a == b) or (b == c):\n",
    "                    continue\n",
    "\n",
    "                for curr in range(27): \n",
    "                    carry = curr\n",
    "                    carry, c2 = divmod(carry, 3)\n",
    "                    a2, b2 = divmod(carry, 3) \n",
    "                    if (a2 == b2) or (b2 == c2):\n",
    "                        continue\n",
    "                    if (a == a2) or (b == b2) or (c == c2):\n",
    "                        continue\n",
    "\n",
    "                    dp[i][curr] += dp[i - 1][prev]\n",
    "                    if dp[i][curr] >= MOD:\n",
    "                        dp[i][curr] -= MOD\n",
    "            #print(dp)\n",
    "\n",
    "        ans = 0\n",
    "        for curr in range(27):\n",
    "            ans += dp[n - 1][curr]\n",
    "            if ans >= MOD:\n",
    "                ans -= MOD\n",
    "        return ans"
   ]
  },
  {
   "cell_type": "code",
   "execution_count": 11,
   "metadata": {},
   "outputs": [],
   "source": [
    "# O(n)\n",
    "class Solution:\n",
    "    def numOfWays(self, n: int) -> int:\n",
    "        MOD = 10**9 + 7 \n",
    "\n",
    "        a121, a123 = 6, 6 \n",
    "        for i in range(n - 1):\n",
    "            a121 = a121 * 3 + a123 * 2\n",
    "            a123 = a121 * 2 + a123 * 2\n",
    "        return (a121 + a123) % MOD"
   ]
  },
  {
   "cell_type": "code",
   "execution_count": 12,
   "metadata": {},
   "outputs": [],
   "source": [
    "# O(log n)\n",
    "import numpy as np\n",
    "class Solution:\n",
    "    def numOfWays(self, n: int) -> int:\n",
    "        MOD = 10**9 + 7 \n",
    "        \n",
    "        n = n - 1\n",
    "        M = np.array([[3, 2], [2, 2]])\n",
    "        ans = np.array([[6], [6]])\n",
    "        while n:\n",
    "            if n % 2:\n",
    "                ans = M @ ans % MOD\n",
    "            M = M @ M % MOD\n",
    "            n //= 2\n",
    "        return (np.sum(ans)) % MOD"
   ]
  },
  {
   "cell_type": "code",
   "execution_count": 17,
   "metadata": {},
   "outputs": [
    {
     "data": {
      "text/plain": [
       "126"
      ]
     },
     "execution_count": 17,
     "metadata": {},
     "output_type": "execute_result"
    }
   ],
   "source": [
    "n = 2\n",
    "Solution().numOfWays(n)"
   ]
  },
  {
   "cell_type": "markdown",
   "metadata": {},
   "source": [
    "# Reference\n",
    "\n",
    "[1411. Number of Ways to Paint N × 3 Grid](https://leetcode.com/problems/number-of-ways-to-paint-n-3-grid/)\n",
    "\n",
    "[[Java/C++/Python] DP, O(1) Space](https://leetcode.com/problems/number-of-ways-to-paint-n-3-grid/discuss/574923/JavaC%2B%2BPython-DP-O(1)-Space)\n",
    "\n",
    "[[LeetCode] 1411. Number of Ways to Paint N × 3 Grid (hard)](https://www.youtube.com/watch?v=rrhquJDbZOA&list=PL-OC--HdIAXPzvuBbuI4e_MFYpzFnA6yR&index=1)"
   ]
  }
 ],
 "metadata": {
  "kernelspec": {
   "display_name": "Python 3",
   "language": "python",
   "name": "python3"
  },
  "language_info": {
   "codemirror_mode": {
    "name": "ipython",
    "version": 3
   },
   "file_extension": ".py",
   "mimetype": "text/x-python",
   "name": "python",
   "nbconvert_exporter": "python",
   "pygments_lexer": "ipython3",
   "version": "3.8.5"
  }
 },
 "nbformat": 4,
 "nbformat_minor": 4
}
