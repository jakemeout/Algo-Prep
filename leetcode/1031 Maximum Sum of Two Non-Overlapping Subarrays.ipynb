{
 "cells": [
  {
   "cell_type": "code",
   "execution_count": null,
   "metadata": {},
   "outputs": [],
   "source": [
    "class Solution:\n",
    "    def maxSumTwoNoOverlap(self, A, L, M):\n",
    "        \"\"\"\n",
    "        :type A: List[int]\n",
    "        :type L: int\n",
    "        :type M: int\n",
    "        :rtype: int\n",
    "        \"\"\"\n",
    "        # compute cumulative sum\n",
    "        for i in range(1, len(A)):\n",
    "            A[i] += A[i - 1]\n",
    "            \n",
    "        # compute max sum using cumulatives\n",
    "        ans = A[L + M - 1] # max Sum Two No Overlap \n",
    "        Lmax = A[L - 1] # max sum of contiguous L elements before the last M elements. \n",
    "        Mmax = A[M - 1] # max sum of contiguous M elements before the last L elements. \n",
    "        for i in range(L + M, len(A)):\n",
    "            Lmax = max(Lmax, A[i - M] - A[i - L - M])\n",
    "            Mmax = max(Mmax, A[i - L] - A[i - L - M])\n",
    "            ans = max(ans, Lmax + A[i] - A[i - M], Mmax + A[i] - A[i - L])\n",
    "        return ans"
   ]
  },
  {
   "cell_type": "markdown",
   "metadata": {},
   "source": [
    "# Reference\n",
    "\n",
    "[1031. Maximum Sum of Two Non-Overlapping Subarrays](https://leetcode.com/problems/maximum-sum-of-two-non-overlapping-subarrays/)\n",
    "\n",
    "[[Java/C++/Python] O(N)Time O(1) Space](https://leetcode.com/problems/maximum-sum-of-two-non-overlapping-subarrays/discuss/278251/JavaC%2B%2BPython-O(N)Time-O(1)-Space)"
   ]
  }
 ],
 "metadata": {
  "kernelspec": {
   "display_name": "Python 3",
   "language": "python",
   "name": "python3"
  },
  "language_info": {
   "codemirror_mode": {
    "name": "ipython",
    "version": 3
   },
   "file_extension": ".py",
   "mimetype": "text/x-python",
   "name": "python",
   "nbconvert_exporter": "python",
   "pygments_lexer": "ipython3",
   "version": "3.8.5"
  }
 },
 "nbformat": 4,
 "nbformat_minor": 4
}
