{
 "cells": [
  {
   "cell_type": "code",
   "execution_count": null,
   "metadata": {},
   "outputs": [],
   "source": [
    "class Solution:\n",
    "    def areAlmostEqual(self, s1: str, s2: str) -> bool:\n",
    "        # trivial cases\n",
    "        if s1 == s2:\n",
    "            return True\n",
    "        if len(s1) != len(s2):\n",
    "            return False\n",
    "        # general cases\n",
    "        # find indices where there are mismatches\n",
    "        lst = []\n",
    "        for idx, (a1, a2) in enumerate(zip(s1, s2)):\n",
    "            if a1 != a2:\n",
    "                lst.append(idx)\n",
    "        if len(lst) != 2:\n",
    "            return False\n",
    "        i0, i1 = lst\n",
    "        return s1 == (s2[:i0] + s2[i1] + s1[i0+1:i1] + s2[i0] + s2[i1+1:])  "
   ]
  },
  {
   "cell_type": "markdown",
   "metadata": {},
   "source": [
    "# Reference\n",
    "\n",
    "[LeetCode](https://leetcode.com/)"
   ]
  }
 ],
 "metadata": {
  "kernelspec": {
   "display_name": "Python 3",
   "language": "python",
   "name": "python3"
  },
  "language_info": {
   "codemirror_mode": {
    "name": "ipython",
    "version": 3
   },
   "file_extension": ".py",
   "mimetype": "text/x-python",
   "name": "python",
   "nbconvert_exporter": "python",
   "pygments_lexer": "ipython3",
   "version": "3.8.5"
  }
 },
 "nbformat": 4,
 "nbformat_minor": 4
}
