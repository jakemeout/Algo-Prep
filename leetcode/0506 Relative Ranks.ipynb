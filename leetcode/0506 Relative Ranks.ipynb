{
 "cells": [
  {
   "cell_type": "code",
   "execution_count": null,
   "metadata": {},
   "outputs": [],
   "source": [
    "class Solution:\n",
    "    def findRelativeRanks(self, score: List[int]) -> List[str]:\n",
    "        sorted_pairs = sorted(enumerate(score), key=lambda x: x[1], reverse=True)\n",
    "        sorted_indices = [index for index, element in sorted_pairs]\n",
    "        for idx, i in enumerate(sorted_indices,start=1):\n",
    "            if idx == 1:\n",
    "                score[i] = 'Gold Medal'\n",
    "            elif idx == 2:\n",
    "                score[i] = 'Silver Medal'\n",
    "            elif idx == 3:\n",
    "                score[i] = 'Bronze Medal'\n",
    "            else:\n",
    "                score[i] = f'{idx}'\n",
    "        return score"
   ]
  },
  {
   "cell_type": "code",
   "execution_count": 3,
   "metadata": {},
   "outputs": [
    {
     "name": "stdout",
     "output_type": "stream",
     "text": [
      "[0, 2, 1]\n"
     ]
    }
   ],
   "source": [
    "lst = [\"c\", \"a\", \"b\"]\n",
    "enumerate_object = enumerate(lst)\n",
    "sorted_pairs = sorted(enumerate_object, key=lambda x: x[1], reverse=True)\n",
    "sorted_indices = [index for index, element in sorted_pairs]\n",
    "print(sorted_indices)"
   ]
  },
  {
   "cell_type": "markdown",
   "metadata": {},
   "source": [
    "# Reference\n",
    "\n",
    "[506. Relative Ranks](https://leetcode.com/problems/relative-ranks/)"
   ]
  }
 ],
 "metadata": {
  "kernelspec": {
   "display_name": "Python 3",
   "language": "python",
   "name": "python3"
  },
  "language_info": {
   "codemirror_mode": {
    "name": "ipython",
    "version": 3
   },
   "file_extension": ".py",
   "mimetype": "text/x-python",
   "name": "python",
   "nbconvert_exporter": "python",
   "pygments_lexer": "ipython3",
   "version": "3.8.5"
  }
 },
 "nbformat": 4,
 "nbformat_minor": 4
}
