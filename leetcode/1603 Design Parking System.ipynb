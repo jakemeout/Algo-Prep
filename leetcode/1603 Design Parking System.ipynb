{
 "cells": [
  {
   "cell_type": "code",
   "execution_count": null,
   "metadata": {},
   "outputs": [],
   "source": [
    "class ParkingSystem:\n",
    "\n",
    "    def __init__(self, big: int, medium: int, small: int):\n",
    "        self.big, self.medium, self.small = big, medium, small\n",
    "        \n",
    "    def addCar(self, carType: int) -> bool:\n",
    "        if carType == 1: # big\n",
    "            if self.big:\n",
    "                self.big -= 1\n",
    "                return True\n",
    "            else:\n",
    "                return False\n",
    "        if carType == 2: # medium\n",
    "            if self.medium:\n",
    "                self.medium -= 1\n",
    "                return True\n",
    "            else:\n",
    "                return False\n",
    "        if carType == 3: # small\n",
    "            if self.small:\n",
    "                self.small -= 1\n",
    "                return True\n",
    "            else:\n",
    "                return False"
   ]
  },
  {
   "cell_type": "markdown",
   "metadata": {},
   "source": [
    "# Reference\n",
    "\n",
    "[1603. Design Parking System](https://leetcode.com/problems/design-parking-system/)"
   ]
  }
 ],
 "metadata": {
  "kernelspec": {
   "display_name": "Python 3",
   "language": "python",
   "name": "python3"
  },
  "language_info": {
   "codemirror_mode": {
    "name": "ipython",
    "version": 3
   },
   "file_extension": ".py",
   "mimetype": "text/x-python",
   "name": "python",
   "nbconvert_exporter": "python",
   "pygments_lexer": "ipython3",
   "version": "3.8.5"
  }
 },
 "nbformat": 4,
 "nbformat_minor": 4
}
