{
 "cells": [
  {
   "cell_type": "code",
   "execution_count": null,
   "metadata": {},
   "outputs": [],
   "source": [
    "class Solution:\n",
    "    def findContentChildren(self, g, s):\n",
    "        ans = 0\n",
    "        g.sort(reverse=True)\n",
    "        s.sort()\n",
    "        while s and g:\n",
    "            cookie_size = s.pop()\n",
    "            for greedy in g:\n",
    "                if greedy <= cookie_size:\n",
    "                    ans += 1\n",
    "                    g.remove(greedy)\n",
    "                    break\n",
    "            else:\n",
    "                return ans\n",
    "        return ans"
   ]
  },
  {
   "cell_type": "markdown",
   "metadata": {},
   "source": [
    "# Reference\n",
    "\n",
    "[455. Assign Cookies](https://leetcode.com/problems/assign-cookies/)"
   ]
  }
 ],
 "metadata": {
  "kernelspec": {
   "display_name": "Python 3",
   "language": "python",
   "name": "python3"
  },
  "language_info": {
   "codemirror_mode": {
    "name": "ipython",
    "version": 3
   },
   "file_extension": ".py",
   "mimetype": "text/x-python",
   "name": "python",
   "nbconvert_exporter": "python",
   "pygments_lexer": "ipython3",
   "version": "3.8.5"
  }
 },
 "nbformat": 4,
 "nbformat_minor": 4
}
