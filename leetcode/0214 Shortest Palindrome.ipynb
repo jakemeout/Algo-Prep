{
 "cells": [
  {
   "cell_type": "code",
   "execution_count": 37,
   "id": "higher-mercy",
   "metadata": {},
   "outputs": [],
   "source": [
    "class Solution:\n",
    "    \n",
    "    def shortestPalindrome(self, s: str) -> str:\n",
    "        long_s = s + '#' + s[::-1]\n",
    "        n = self.KMP(long_s) \n",
    "        return s[n:][::-1] + s\n",
    "        \n",
    "    def KMP(self, s):\n",
    "        table = [0] * len(s)\n",
    "        j, i = 0, 1\n",
    "        while i < len(s):\n",
    "            if s[j] != s[i]:\n",
    "                if j == 0:\n",
    "                    i += 1\n",
    "                else:\n",
    "                    j = table[j-1]\n",
    "            else: \n",
    "                table[i] = j + 1\n",
    "                j += 1\n",
    "                i += 1\n",
    "        return table[-1]        "
   ]
  },
  {
   "cell_type": "code",
   "execution_count": 38,
   "id": "conditional-carolina",
   "metadata": {},
   "outputs": [
    {
     "data": {
      "text/plain": [
       "'aaacecaaa'"
      ]
     },
     "execution_count": 38,
     "metadata": {},
     "output_type": "execute_result"
    }
   ],
   "source": [
    "s = \"aacecaaa\"\n",
    "Solution().shortestPalindrome(s) # \"aaacecaaa\""
   ]
  },
  {
   "cell_type": "markdown",
   "id": "alert-insulation",
   "metadata": {},
   "source": [
    "# Reference\n",
    "\n",
    "[214. Shortest Palindrome](https://leetcode.com/problems/shortest-palindrome/)\n",
    "\n",
    "[Clean KMP solution with super detailed explanation](https://leetcode.com/problems/shortest-palindrome/discuss/60113/Clean-KMP-solution-with-super-detailed-explanation)\n",
    "\n",
    "[Knuth–Morris–Pratt(KMP) Pattern Matching(Substring search)](https://www.youtube.com/watch?v=GTJr8OvyEVQ)"
   ]
  }
 ],
 "metadata": {
  "kernelspec": {
   "display_name": "Python 3",
   "language": "python",
   "name": "python3"
  },
  "language_info": {
   "codemirror_mode": {
    "name": "ipython",
    "version": 3
   },
   "file_extension": ".py",
   "mimetype": "text/x-python",
   "name": "python",
   "nbconvert_exporter": "python",
   "pygments_lexer": "ipython3",
   "version": "3.7.10"
  }
 },
 "nbformat": 4,
 "nbformat_minor": 5
}
