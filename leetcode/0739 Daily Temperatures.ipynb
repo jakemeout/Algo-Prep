{
 "cells": [
  {
   "cell_type": "code",
   "execution_count": 5,
   "metadata": {},
   "outputs": [],
   "source": [
    "class Solution:\n",
    "    def dailyTemperatures(self, temperatures):\n",
    "        ans = [0] * len(temperatures)\n",
    "        stack = []\n",
    "        #print(ans, stack)\n",
    "        for i, t in enumerate(temperatures):\n",
    "            while stack != []:\n",
    "                if stack[-1][1] < t:\n",
    "                    idx, _ = stack.pop()\n",
    "                    ans[idx] = i - idx\n",
    "                else:\n",
    "                    break\n",
    "            stack.append((i, t))\n",
    "            #print(ans, stack)\n",
    "        while stack != []:\n",
    "            idx, _ = stack.pop()\n",
    "            ans[idx] = 0\n",
    "        #print(ans, stack)\n",
    "        return ans"
   ]
  },
  {
   "cell_type": "code",
   "execution_count": 6,
   "metadata": {},
   "outputs": [
    {
     "data": {
      "text/plain": [
       "[1, 1, 4, 2, 1, 1, 0, 0]"
      ]
     },
     "execution_count": 6,
     "metadata": {},
     "output_type": "execute_result"
    }
   ],
   "source": [
    "temperatures = [73,74,75,71,69,72,76,73]\n",
    "Solution().dailyTemperatures(temperatures)"
   ]
  },
  {
   "cell_type": "markdown",
   "metadata": {},
   "source": [
    "# Reference\n",
    "\n",
    "[739. Daily Temperatures](https://leetcode.com/problems/daily-temperatures/)"
   ]
  }
 ],
 "metadata": {
  "kernelspec": {
   "display_name": "Python 3",
   "language": "python",
   "name": "python3"
  },
  "language_info": {
   "codemirror_mode": {
    "name": "ipython",
    "version": 3
   },
   "file_extension": ".py",
   "mimetype": "text/x-python",
   "name": "python",
   "nbconvert_exporter": "python",
   "pygments_lexer": "ipython3",
   "version": "3.8.5"
  }
 },
 "nbformat": 4,
 "nbformat_minor": 4
}
