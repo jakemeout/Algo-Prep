{
 "cells": [
  {
   "cell_type": "code",
   "execution_count": null,
   "metadata": {},
   "outputs": [],
   "source": [
    "from collections import Counter, defaultdict\n",
    "class Solution:\n",
    "    def displayTable(self, orders: List[List[str]]) -> List[List[str]]:\n",
    "        desk = defaultdict(Counter)\n",
    "        meal = set()\n",
    "        for _, table, food in orders:\n",
    "            meal.add(food)\n",
    "            desk[table][food] += 1\n",
    "        foods = sorted(meal)\n",
    "        ans = [['Table'] + [food for food in foods]]\n",
    "        for table in sorted(desk, key=int):\n",
    "            ans.append([table] + [str(desk[table][food]) for food in foods])\n",
    "        return ans"
   ]
  },
  {
   "cell_type": "markdown",
   "metadata": {},
   "source": [
    "# Reference\n",
    "\n",
    "[1418. Display Table of Food Orders in a Restaurant](https://leetcode.com/problems/display-table-of-food-orders-in-a-restaurant/)\n",
    "\n",
    "[Clean Python 3, hashmap O(N + TlogT + FlogF + T * F)](https://leetcode.com/problems/display-table-of-food-orders-in-a-restaurant/discuss/586566/Clean-Python-3-hashmap-O(N-%2B-TlogT-%2B-FlogF-%2B-T-*-F))"
   ]
  }
 ],
 "metadata": {
  "kernelspec": {
   "display_name": "Python 3",
   "language": "python",
   "name": "python3"
  },
  "language_info": {
   "codemirror_mode": {
    "name": "ipython",
    "version": 3
   },
   "file_extension": ".py",
   "mimetype": "text/x-python",
   "name": "python",
   "nbconvert_exporter": "python",
   "pygments_lexer": "ipython3",
   "version": "3.8.5"
  }
 },
 "nbformat": 4,
 "nbformat_minor": 4
}
