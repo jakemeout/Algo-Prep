{
 "cells": [
  {
   "cell_type": "code",
   "execution_count": null,
   "metadata": {},
   "outputs": [],
   "source": [
    "class Solution:\n",
    "    def detectCapitalUse(self, word: str) -> bool:\n",
    "        return self.allCapital(word) or self.allNonCapital(word) or self.firstCapital(word)\n",
    "    def allCapital(self, word: str) -> bool:\n",
    "        return len([char for char in word if char.islower()]) == 0\n",
    "    def allNonCapital(self, word: str) -> bool:\n",
    "        return len([char for char in word if char.isupper()]) == 0\n",
    "    def firstCapital(self, word: str) -> bool:\n",
    "        return word[0].isupper() and len([char for char in word[1:] if char.isupper()]) == 0"
   ]
  },
  {
   "cell_type": "markdown",
   "metadata": {},
   "source": [
    "# Reference\n",
    "\n",
    "[520. Detect Capital](https://leetcode.com/problems/detect-capital/)"
   ]
  }
 ],
 "metadata": {
  "kernelspec": {
   "display_name": "Python 3",
   "language": "python",
   "name": "python3"
  },
  "language_info": {
   "codemirror_mode": {
    "name": "ipython",
    "version": 3
   },
   "file_extension": ".py",
   "mimetype": "text/x-python",
   "name": "python",
   "nbconvert_exporter": "python",
   "pygments_lexer": "ipython3",
   "version": "3.8.5"
  }
 },
 "nbformat": 4,
 "nbformat_minor": 4
}
