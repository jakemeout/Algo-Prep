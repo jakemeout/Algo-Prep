{
 "cells": [
  {
   "cell_type": "markdown",
   "id": "diagnostic-connecticut",
   "metadata": {},
   "source": [
    "<div align=\"center\"><img src=\"https://leetcode.com/uploads/files/1467720855285-xcoqwin.png\" width=\"70%\"></div>\n",
    "\n",
    "[Short Python solution using BFS](https://leetcode.com/problems/perfect-squares/discuss/71475/Short-Python-solution-using-BFS) "
   ]
  },
  {
   "cell_type": "code",
   "execution_count": 1,
   "id": "dated-assist",
   "metadata": {},
   "outputs": [],
   "source": [
    "class Solution:\n",
    "    def numSquares(self, n: int) -> int:\n",
    "        if n < 2:\n",
    "            return n\n",
    "        \n",
    "        lst = []\n",
    "        i = 1\n",
    "        while i * i <= n:\n",
    "            lst.append( i * i )\n",
    "            i += 1\n",
    "\n",
    "        count = 0\n",
    "        toCheck = {n}\n",
    "        while toCheck:\n",
    "            count += 1\n",
    "            temp = set()\n",
    "            for x in toCheck:\n",
    "                for y in lst:\n",
    "                    if x == y:\n",
    "                        return count\n",
    "                    if x < y:\n",
    "                        break\n",
    "                    temp.add(x-y)\n",
    "            toCheck = temp\n",
    "        return count"
   ]
  },
  {
   "cell_type": "code",
   "execution_count": 2,
   "id": "included-beatles",
   "metadata": {},
   "outputs": [
    {
     "data": {
      "text/plain": [
       "2"
      ]
     },
     "execution_count": 2,
     "metadata": {},
     "output_type": "execute_result"
    }
   ],
   "source": [
    "n = 52\n",
    "Solution().numSquares(n)"
   ]
  },
  {
   "cell_type": "markdown",
   "id": "optimum-manchester",
   "metadata": {},
   "source": [
    "# Reference\n",
    "\n",
    "[279. Perfect Squares](https://leetcode.com/problems/perfect-squares/)\n",
    "\n",
    "[Short Python solution using BFS](https://leetcode.com/problems/perfect-squares/discuss/71475/Short-Python-solution-using-BFS)\n",
    "\n",
    "[LeetCode 279 | Perfect Squares](https://www.youtube.com/watch?v=khF8NBFV25I)"
   ]
  }
 ],
 "metadata": {
  "kernelspec": {
   "display_name": "Python 3",
   "language": "python",
   "name": "python3"
  },
  "language_info": {
   "codemirror_mode": {
    "name": "ipython",
    "version": 3
   },
   "file_extension": ".py",
   "mimetype": "text/x-python",
   "name": "python",
   "nbconvert_exporter": "python",
   "pygments_lexer": "ipython3",
   "version": "3.7.10"
  }
 },
 "nbformat": 4,
 "nbformat_minor": 5
}
