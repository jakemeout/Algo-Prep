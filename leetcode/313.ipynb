{
 "cells": [
  {
   "cell_type": "code",
   "execution_count": 5,
   "metadata": {},
   "outputs": [],
   "source": [
    "# Time Limit Exceeded\n",
    "from heapq import heapify, heappop,heappush\n",
    "class Solution:\n",
    "    def nthSuperUglyNumber(self, n, primes):\n",
    "        heap = [1]\n",
    "        while n > 0:\n",
    "            item = heappop(heap)\n",
    "            n -= 1\n",
    "            for prime in primes:\n",
    "                if item*prime not in heap:\n",
    "                    heappush(heap, item*prime)\n",
    "        return item"
   ]
  },
  {
   "cell_type": "code",
   "execution_count": 7,
   "metadata": {},
   "outputs": [],
   "source": [
    "from heapq import heapify, heappop,heappush\n",
    "class Solution:\n",
    "    def nthSuperUglyNumber(self, n, primes):\n",
    "        heap = [1] + primes.copy()\n",
    "        seen = set(heap)\n",
    "        while n > 0:\n",
    "            item = heappop(heap)\n",
    "            n -= 1\n",
    "            for prime in primes:\n",
    "                if item*prime not in seen:\n",
    "                    heappush(heap, item*prime)\n",
    "                    seen.add(item*prime)\n",
    "        return item"
   ]
  },
  {
   "cell_type": "code",
   "execution_count": 20,
   "metadata": {},
   "outputs": [],
   "source": [
    "import heapq\n",
    "class Solution:\n",
    "    def nthSuperUglyNumber(self, n, primes):\n",
    "        nums = [[prime,prime] for prime in primes] # list of \n",
    "        heapq.heapify(nums) # create a heap\n",
    "        x = 1\n",
    "        for _ in range(n - 1):\n",
    "            x, prime = heapq.heappop(nums) # take the smallest element\n",
    "            heapq.heappush(nums, [x*prime,prime]) # add all those multiples with the smallest number\n",
    "            print([x, prime], '--->', [x*prime,prime])\n",
    "        return x"
   ]
  },
  {
   "cell_type": "code",
   "execution_count": 21,
   "metadata": {},
   "outputs": [
    {
     "name": "stdout",
     "output_type": "stream",
     "text": [
      "[2, 2] ---> [4, 2]\n",
      "[4, 2] ---> [8, 2]\n",
      "[7, 7] ---> [49, 7]\n",
      "[8, 2] ---> [16, 2]\n",
      "[13, 13] ---> [169, 13]\n",
      "[16, 2] ---> [32, 2]\n",
      "[19, 19] ---> [361, 19]\n",
      "[32, 2] ---> [64, 2]\n",
      "[49, 7] ---> [343, 7]\n",
      "[64, 2] ---> [128, 2]\n",
      "[128, 2] ---> [256, 2]\n"
     ]
    },
    {
     "data": {
      "text/plain": [
       "128"
      ]
     },
     "execution_count": 21,
     "metadata": {},
     "output_type": "execute_result"
    }
   ],
   "source": [
    "n = 12\n",
    "primes = [2,7,13,19]\n",
    "Solution().nthSuperUglyNumber(n, primes) # 32"
   ]
  },
  {
   "cell_type": "markdown",
   "metadata": {},
   "source": [
    "# Reference\n",
    "\n",
    "[LeetCode](https://leetcode.com/)\n",
    "\n",
    "[]()"
   ]
  }
 ],
 "metadata": {
  "kernelspec": {
   "display_name": "Python 3",
   "language": "python",
   "name": "python3"
  },
  "language_info": {
   "codemirror_mode": {
    "name": "ipython",
    "version": 3
   },
   "file_extension": ".py",
   "mimetype": "text/x-python",
   "name": "python",
   "nbconvert_exporter": "python",
   "pygments_lexer": "ipython3",
   "version": "3.8.5"
  }
 },
 "nbformat": 4,
 "nbformat_minor": 4
}
