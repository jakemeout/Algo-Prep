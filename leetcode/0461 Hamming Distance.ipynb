{
 "cells": [
  {
   "cell_type": "code",
   "execution_count": null,
   "metadata": {},
   "outputs": [],
   "source": [
    "class Solution:\n",
    "    def hammingDistance(self, x: int, y: int) -> int:\n",
    "        # get binary representation of x and y\n",
    "        x, y = format(x, 'b'), format(y, 'b')\n",
    "        \n",
    "        # add '0's if needed, to have same lenth binary representations \n",
    "        len_x, len_y = len(x), len(y)\n",
    "        len_max = max(len_x, len_y)\n",
    "        x, y = '0'*(len_max-len_x) + x, '0'*(len_max-len_y) + y\n",
    "        \n",
    "        # compute and return hamming distance \n",
    "        hammingD = 0\n",
    "        for bit_x, bit_y in zip(x,y):\n",
    "            if bit_x != bit_y:\n",
    "                hammingD += 1\n",
    "        return hammingD"
   ]
  },
  {
   "cell_type": "markdown",
   "metadata": {},
   "source": [
    "# Reference\n",
    "\n",
    "[461. Hamming Distance](https://leetcode.com/problems/hamming-distance/)"
   ]
  }
 ],
 "metadata": {
  "kernelspec": {
   "display_name": "Python 3",
   "language": "python",
   "name": "python3"
  },
  "language_info": {
   "codemirror_mode": {
    "name": "ipython",
    "version": 3
   },
   "file_extension": ".py",
   "mimetype": "text/x-python",
   "name": "python",
   "nbconvert_exporter": "python",
   "pygments_lexer": "ipython3",
   "version": "3.8.5"
  }
 },
 "nbformat": 4,
 "nbformat_minor": 4
}
