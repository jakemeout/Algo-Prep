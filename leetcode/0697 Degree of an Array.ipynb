{
 "cells": [
  {
   "cell_type": "code",
   "execution_count": 7,
   "metadata": {},
   "outputs": [],
   "source": [
    "class Solution:\n",
    "    def findShortestSubArray(self, nums):\n",
    "        # construct counter dict d\n",
    "        d = {}\n",
    "        for num in nums:\n",
    "            if num in d:\n",
    "                d[num] += 1\n",
    "            else:\n",
    "                d[num] = 1\n",
    "        # find the degree of this array, that is the maximum frequency of any one of its elements.\n",
    "        deg = max([d[key] for key in d])\n",
    "        # find key with d[key] = deg\n",
    "        keys = [key for key in d if d[key] == deg]\n",
    "        # modify the original list nums as [(idx, num)]\n",
    "        nums_ = [(idx, num) for idx, num in enumerate(nums)]\n",
    "        # for each key in keys find first and last index where num appear\n",
    "        # compute last - first + 1, the smallest length of sublist containing both first and last\n",
    "        # find smallest last - first + 1 and return it\n",
    "        out = len(nums)\n",
    "        for key in keys:\n",
    "            tmp = [idx for idx, num in nums_ if num == key]\n",
    "            out = min(out, tmp[-1]-tmp[0]+1)\n",
    "        return out"
   ]
  },
  {
   "cell_type": "code",
   "execution_count": 8,
   "metadata": {},
   "outputs": [
    {
     "data": {
      "text/plain": [
       "2"
      ]
     },
     "execution_count": 8,
     "metadata": {},
     "output_type": "execute_result"
    }
   ],
   "source": [
    "nums = [1,2,2,3,1]\n",
    "Solution().findShortestSubArray(nums)"
   ]
  },
  {
   "cell_type": "markdown",
   "metadata": {},
   "source": [
    "# Reference\n",
    "\n",
    "[697. Degree of an Array](https://leetcode.com/problems/degree-of-an-array/)"
   ]
  }
 ],
 "metadata": {
  "kernelspec": {
   "display_name": "Python 3",
   "language": "python",
   "name": "python3"
  },
  "language_info": {
   "codemirror_mode": {
    "name": "ipython",
    "version": 3
   },
   "file_extension": ".py",
   "mimetype": "text/x-python",
   "name": "python",
   "nbconvert_exporter": "python",
   "pygments_lexer": "ipython3",
   "version": "3.8.5"
  }
 },
 "nbformat": 4,
 "nbformat_minor": 4
}
