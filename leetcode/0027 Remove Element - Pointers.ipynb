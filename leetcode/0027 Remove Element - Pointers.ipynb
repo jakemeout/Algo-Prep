{
 "cells": [
  {
   "cell_type": "code",
   "execution_count": 1,
   "metadata": {},
   "outputs": [],
   "source": [
    "class Solution:\n",
    "    def removeElement(self, lst, val):\n",
    "        # corner case\n",
    "        if len(lst) == 1:\n",
    "            if lst[0] == val: return 0\n",
    "            else: return 1\n",
    "        # general case\n",
    "        l = 0 # left pointer where lst[l] == val is tested\n",
    "        r = len(lst) - 1 # lst[l], lst[r] = lst[r], lst[l] if needed\n",
    "        while l <= r:\n",
    "            if lst[l] == val: # if lst[l] is a trash, move it to RHS  \n",
    "                lst[l], lst[r] = lst[r], lst[l] # by swapping \n",
    "                r -= 1 # move right pointer to left\n",
    "            else: # if lst[l] is not a trash, \n",
    "                l += 1 # move left pointer to right\n",
    "        return r + 1            "
   ]
  },
  {
   "cell_type": "code",
   "execution_count": 2,
   "metadata": {},
   "outputs": [
    {
     "name": "stdout",
     "output_type": "stream",
     "text": [
      "0\n",
      "[3, 3]\n"
     ]
    }
   ],
   "source": [
    "lst = [3,3]\n",
    "val = 3\n",
    "print(Solution().removeElement(lst, val))\n",
    "print(lst)"
   ]
  },
  {
   "cell_type": "code",
   "execution_count": 3,
   "metadata": {},
   "outputs": [
    {
     "name": "stdout",
     "output_type": "stream",
     "text": [
      "0\n",
      "[1]\n"
     ]
    }
   ],
   "source": [
    "lst = [1]\n",
    "val = 1\n",
    "print(Solution().removeElement(lst, val))\n",
    "print(lst)"
   ]
  },
  {
   "cell_type": "code",
   "execution_count": 4,
   "metadata": {},
   "outputs": [
    {
     "name": "stdout",
     "output_type": "stream",
     "text": [
      "2\n",
      "[2, 2, 3, 3]\n"
     ]
    }
   ],
   "source": [
    "lst = [3,2,2,3]\n",
    "val = 3\n",
    "print(Solution().removeElement(lst, val))\n",
    "print(lst)"
   ]
  },
  {
   "cell_type": "code",
   "execution_count": 5,
   "metadata": {},
   "outputs": [
    {
     "name": "stdout",
     "output_type": "stream",
     "text": [
      "5\n",
      "[0, 1, 4, 0, 3, 2, 2, 2]\n"
     ]
    }
   ],
   "source": [
    "lst = [0,1,2,2,3,0,4,2]\n",
    "val = 2\n",
    "print(Solution().removeElement(lst, val))\n",
    "print(lst)"
   ]
  },
  {
   "cell_type": "markdown",
   "metadata": {},
   "source": [
    "# Reference\n",
    "\n",
    "[27. Remove Element](https://leetcode.com/problems/remove-element/)"
   ]
  },
  {
   "cell_type": "code",
   "execution_count": null,
   "metadata": {},
   "outputs": [],
   "source": []
  }
 ],
 "metadata": {
  "kernelspec": {
   "display_name": "Python 3",
   "language": "python",
   "name": "python3"
  },
  "language_info": {
   "codemirror_mode": {
    "name": "ipython",
    "version": 3
   },
   "file_extension": ".py",
   "mimetype": "text/x-python",
   "name": "python",
   "nbconvert_exporter": "python",
   "pygments_lexer": "ipython3",
   "version": "3.8.5"
  }
 },
 "nbformat": 4,
 "nbformat_minor": 4
}
