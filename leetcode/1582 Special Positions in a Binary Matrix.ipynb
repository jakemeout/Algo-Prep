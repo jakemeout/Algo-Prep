{
 "cells": [
  {
   "cell_type": "code",
   "execution_count": null,
   "metadata": {},
   "outputs": [],
   "source": [
    "class Solution:\n",
    "    def numSpecial(self, mat):\n",
    "        num_special = 0\n",
    "        import numpy as np\n",
    "        mat = np.array(mat)\n",
    "        m, n = mat.shape\n",
    "        for i in range(m):\n",
    "            for k in range(n):\n",
    "                if mat[i,k] == 1:\n",
    "                    if np.sum(mat[i,:]) == 1:\n",
    "                        if np.sum(mat[:,k]) == 1:\n",
    "                            num_special += 1           \n",
    "        return num_special"
   ]
  },
  {
   "cell_type": "markdown",
   "metadata": {},
   "source": [
    "# Reference\n",
    "\n",
    "[1582. Special Positions in a Binary Matrix](https://leetcode.com/problems/special-positions-in-a-binary-matrix/)"
   ]
  }
 ],
 "metadata": {
  "kernelspec": {
   "display_name": "Python 3",
   "language": "python",
   "name": "python3"
  },
  "language_info": {
   "codemirror_mode": {
    "name": "ipython",
    "version": 3
   },
   "file_extension": ".py",
   "mimetype": "text/x-python",
   "name": "python",
   "nbconvert_exporter": "python",
   "pygments_lexer": "ipython3",
   "version": "3.8.5"
  }
 },
 "nbformat": 4,
 "nbformat_minor": 4
}
