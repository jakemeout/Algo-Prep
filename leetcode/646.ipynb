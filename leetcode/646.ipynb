{
 "cells": [
  {
   "cell_type": "code",
   "execution_count": null,
   "metadata": {},
   "outputs": [],
   "source": [
    "class Solution:\n",
    "    def findLongestChain(self, pairs):\n",
    "        pairs = sorted(pairs)\n",
    "        import numpy as np\n",
    "        memo = np.ones(shape=(len(pairs),),dtype=np.int64)\n",
    "        for i in range(1,len(pairs)):\n",
    "            if pairs[i-1][1] < pairs[i][0]:\n",
    "                memo[i] = memo[i-1] + 1\n",
    "            else:\n",
    "                meno[i] = "
   ]
  }
 ],
 "metadata": {
  "kernelspec": {
   "display_name": "Python 3",
   "language": "python",
   "name": "python3"
  },
  "language_info": {
   "codemirror_mode": {
    "name": "ipython",
    "version": 3
   },
   "file_extension": ".py",
   "mimetype": "text/x-python",
   "name": "python",
   "nbconvert_exporter": "python",
   "pygments_lexer": "ipython3",
   "version": "3.8.5"
  }
 },
 "nbformat": 4,
 "nbformat_minor": 4
}
