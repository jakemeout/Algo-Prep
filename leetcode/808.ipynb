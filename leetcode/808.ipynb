{
 "cells": [
  {
   "cell_type": "code",
   "execution_count": null,
   "id": "representative-environment",
   "metadata": {},
   "outputs": [],
   "source": [
    "class Solution:\n",
    "    def soupServings(self, n: int) -> float:\n",
    "        return self.pa(n,n) + 0.5 * self.pab(n,n)\n",
    "    def pa(self, na, nb):\n",
    "        \"\"\"\n",
    "        probability that A becomes empty first when we start with na type A and nb type B\n",
    "        \"\"\"\n",
    "    def pab(self, na, nb):\n",
    "        \"\"\"\n",
    "        probability that A and B becomes empty simultaneously when we start with na type A and nb type B\n",
    "        \"\"\"\n"
   ]
  }
 ],
 "metadata": {
  "kernelspec": {
   "display_name": "Python 3",
   "language": "python",
   "name": "python3"
  },
  "language_info": {
   "codemirror_mode": {
    "name": "ipython",
    "version": 3
   },
   "file_extension": ".py",
   "mimetype": "text/x-python",
   "name": "python",
   "nbconvert_exporter": "python",
   "pygments_lexer": "ipython3",
   "version": "3.7.10"
  }
 },
 "nbformat": 4,
 "nbformat_minor": 5
}
