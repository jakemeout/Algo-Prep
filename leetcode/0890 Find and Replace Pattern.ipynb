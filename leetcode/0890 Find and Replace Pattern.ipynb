{
 "cells": [
  {
   "cell_type": "code",
   "execution_count": null,
   "metadata": {},
   "outputs": [],
   "source": [
    "class Solution:\n",
    "    def findAndReplacePattern(self, words: List[str], pattern: str) -> List[str]:\n",
    "        out = []\n",
    "        pattern_trajectory = self.trajectoryInR2(pattern)\n",
    "        for word in words:\n",
    "            if self.trajectoryInR2(word) == pattern_trajectory:\n",
    "                out.append(word)\n",
    "        return out\n",
    "    def trajectoryInR2(self, pattern):\n",
    "        d = {} # counter dict d\n",
    "        # key : char\n",
    "        # value : number of appearance\n",
    "        h = {} # hash dict h\n",
    "        # key : char\n",
    "        # value : integer, registration number of new alphabets in pattern\n",
    "        idx = 1 # number of new alphabets in pattern\n",
    "        out = ''\n",
    "        for char in pattern:\n",
    "            if char in d:\n",
    "                d[char] += 1\n",
    "                out += f'({h[char]},{d[char]})-'\n",
    "            else:\n",
    "                d[char] = 1\n",
    "                h[char] = idx\n",
    "                out += f'({h[char]},{d[char]})-'\n",
    "                idx += 1\n",
    "        return out"
   ]
  },
  {
   "cell_type": "code",
   "execution_count": 2,
   "metadata": {},
   "outputs": [
    {
     "data": {
      "text/plain": [
       "4664191176809809650"
      ]
     },
     "execution_count": 2,
     "metadata": {},
     "output_type": "execute_result"
    }
   ],
   "source": [
    "pattern = \"acc\"\n",
    "hash(pattern)"
   ]
  },
  {
   "cell_type": "markdown",
   "metadata": {},
   "source": [
    "# Reference\n",
    "\n",
    "[890. Find and Replace Pattern](https://leetcode.com/problems/find-and-replace-pattern/)"
   ]
  }
 ],
 "metadata": {
  "kernelspec": {
   "display_name": "Python 3",
   "language": "python",
   "name": "python3"
  },
  "language_info": {
   "codemirror_mode": {
    "name": "ipython",
    "version": 3
   },
   "file_extension": ".py",
   "mimetype": "text/x-python",
   "name": "python",
   "nbconvert_exporter": "python",
   "pygments_lexer": "ipython3",
   "version": "3.8.5"
  }
 },
 "nbformat": 4,
 "nbformat_minor": 4
}
