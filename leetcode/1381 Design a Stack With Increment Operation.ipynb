{
 "cells": [
  {
   "cell_type": "code",
   "execution_count": null,
   "metadata": {},
   "outputs": [],
   "source": [
    "class CustomStack:\n",
    "\n",
    "    def __init__(self, maxSize):\n",
    "        self.maxSize = maxSize\n",
    "        self.stack = []\n",
    "        self.stackSize = 0\n",
    "\n",
    "    def push(self, x):\n",
    "        if self.stackSize < self.maxSize:\n",
    "            self.stack.append(x)\n",
    "            self.stackSize += 1\n",
    "\n",
    "    def pop(self):\n",
    "        if self.stackSize > 0:\n",
    "            self.stackSize -= 1\n",
    "            return self.stack.pop()\n",
    "        else:\n",
    "            return -1\n",
    "\n",
    "    def increment(self, k, val):\n",
    "        tmp = []\n",
    "        for _ in range(min(k, self.stackSize)):\n",
    "            tmp.append(self.stack.pop(0) + val)\n",
    "        self.stack = tmp + self.stack"
   ]
  },
  {
   "cell_type": "markdown",
   "metadata": {},
   "source": [
    "# lazy increment\n",
    "\n",
    "Use an additional array to record the increment value.\n",
    "inc[i] means for all elements stack[0] ~ stack[i],\n",
    "we should plus inc[i] when popped from the stack.\n",
    "Then inc[i-1]+=inc[i],\n",
    "so that we can accumulate the increment inc[i]\n",
    "for the bottom elements and the following pops."
   ]
  },
  {
   "cell_type": "code",
   "execution_count": 1,
   "metadata": {},
   "outputs": [
    {
     "data": {
      "text/plain": [
       "2"
      ]
     },
     "execution_count": 1,
     "metadata": {},
     "output_type": "execute_result"
    }
   ],
   "source": [
    "# lazy increment\n",
    "class CustomStack:\n",
    "    def __init__(self, maxSize: int):\n",
    "        self.stack = []\n",
    "        self.inc = []\n",
    "        self.maxSize = maxSize\n",
    "\n",
    "    def push(self, x: int) -> None:\n",
    "        if len(self.stack) < self.maxSize:\n",
    "            self.stack.append(x)\n",
    "            self.inc.append(0)\n",
    "     \n",
    "    def pop(self) -> int:\n",
    "        if len(self.stack) == 0:\n",
    "            return -1\n",
    "        if len(self.inc) >= 2:\n",
    "            self.inc[-2] += self.inc[-1]\n",
    "        return self.stack.pop() + self.inc.pop()\n",
    "         \n",
    "    def increment(self, k: int, val: int) -> None:\n",
    "        if self.inc:\n",
    "            self.inc[min(k, len(self.inc)) - 1] += val"
   ]
  },
  {
   "cell_type": "markdown",
   "metadata": {},
   "source": [
    "# Reference\n",
    "\n",
    "[1381. Design a Stack With Increment Operation](https://leetcode.com/problems/design-a-stack-with-increment-operation/)\n",
    "\n",
    "[[Java/C++/Python] Lazy increment, O(1)](https://leetcode.com/problems/design-a-stack-with-increment-operation/discuss/539716/JavaC%2B%2BPython-Lazy-increment-O(1))"
   ]
  }
 ],
 "metadata": {
  "kernelspec": {
   "display_name": "Python 3",
   "language": "python",
   "name": "python3"
  },
  "language_info": {
   "codemirror_mode": {
    "name": "ipython",
    "version": 3
   },
   "file_extension": ".py",
   "mimetype": "text/x-python",
   "name": "python",
   "nbconvert_exporter": "python",
   "pygments_lexer": "ipython3",
   "version": "3.8.5"
  }
 },
 "nbformat": 4,
 "nbformat_minor": 4
}
