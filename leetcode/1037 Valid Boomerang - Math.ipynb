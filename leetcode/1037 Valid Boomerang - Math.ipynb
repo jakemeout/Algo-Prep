{
 "cells": [
  {
   "cell_type": "code",
   "execution_count": 3,
   "metadata": {},
   "outputs": [],
   "source": [
    "class Solution:\n",
    "    def isBoomerang(self, points):\n",
    "        if (not self.existIdenticalPoints(points)):\n",
    "            if (not self.isStraightLine(points)):\n",
    "                return True\n",
    "        return False\n",
    "    def existIdenticalPoints(self, points):\n",
    "        for i in range(2):\n",
    "            for k in range(i+1,3):\n",
    "                if (points[i][0] == points[k][0]) and (points[i][1] == points[k][1]):\n",
    "                    return True\n",
    "        return False\n",
    "    def isStraightLine(self, points):\n",
    "        dx1, dy1 = (points[0][0] - points[1][0]), (points[0][1] - points[1][1])\n",
    "        dx2, dy2 = (points[0][0] - points[2][0]), (points[0][1] - points[2][1])\n",
    "        if dx1==0:\n",
    "            if dx2==0: return True\n",
    "            else: return False\n",
    "        if dy1==0:\n",
    "            if dy2==0: return True\n",
    "            else: return False\n",
    "        if dx2==0:\n",
    "            # if dx1==0: return True # this part is already covered by previous if blocks\n",
    "            # else: return False\n",
    "            return False\n",
    "        if dy2==0:\n",
    "            # if dy1==0: return True # this part is already covered by previous if blocks\n",
    "            # else: return False\n",
    "            return False\n",
    "        if dx1*dy2==dx2*dy1: return True\n",
    "        return False"
   ]
  },
  {
   "cell_type": "code",
   "execution_count": 5,
   "metadata": {},
   "outputs": [
    {
     "name": "stdout",
     "output_type": "stream",
     "text": [
      "True\n"
     ]
    }
   ],
   "source": [
    "points = [[0,0],[0,2],[2,1]]\n",
    "print(Solution().isBoomerang(points))"
   ]
  },
  {
   "cell_type": "markdown",
   "metadata": {},
   "source": [
    "# Reference\n",
    "\n",
    "[1037. Valid Boomerang](https://leetcode.com/problems/valid-boomerang/)"
   ]
  }
 ],
 "metadata": {
  "kernelspec": {
   "display_name": "Python 3",
   "language": "python",
   "name": "python3"
  },
  "language_info": {
   "codemirror_mode": {
    "name": "ipython",
    "version": 3
   },
   "file_extension": ".py",
   "mimetype": "text/x-python",
   "name": "python",
   "nbconvert_exporter": "python",
   "pygments_lexer": "ipython3",
   "version": "3.8.5"
  }
 },
 "nbformat": 4,
 "nbformat_minor": 4
}
