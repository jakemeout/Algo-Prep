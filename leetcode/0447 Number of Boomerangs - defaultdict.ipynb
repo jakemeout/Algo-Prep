{
 "cells": [
  {
   "cell_type": "code",
   "execution_count": 4,
   "metadata": {},
   "outputs": [],
   "source": [
    "class Solution:\n",
    "    def numberOfBoomerangs(self, points):\n",
    "        from collections import defaultdict\n",
    "        list_dict = [defaultdict(int) for point in points]\n",
    "        for i in range(len(points)):\n",
    "            for j in range(i + 1, len(points)):\n",
    "                val = self.d(points[i], points[j])\n",
    "                list_dict[i][val] += 1\n",
    "                list_dict[j][val] += 1\n",
    "        count = 0\n",
    "        for i in range(len(points)):\n",
    "            for val in list_dict[i]:\n",
    "                count += list_dict[i][val]*(list_dict[i][val]-1)\n",
    "        return count\n",
    "    def d(self, p1, p2):\n",
    "        return (p1[0]-p2[0])**2 + (p1[1]-p2[1])**2"
   ]
  },
  {
   "cell_type": "code",
   "execution_count": 5,
   "metadata": {},
   "outputs": [
    {
     "data": {
      "text/plain": [
       "2"
      ]
     },
     "execution_count": 5,
     "metadata": {},
     "output_type": "execute_result"
    }
   ],
   "source": [
    "lst = [[0,0],[1,0],[2,0]]\n",
    "Solution().numberOfBoomerangs(lst) "
   ]
  },
  {
   "cell_type": "markdown",
   "metadata": {},
   "source": [
    "# Reference\n",
    "\n",
    "[447. Number of Boomerangs](https://leetcode.com/problems/number-of-boomerangs/)"
   ]
  }
 ],
 "metadata": {
  "kernelspec": {
   "display_name": "Python 3",
   "language": "python",
   "name": "python3"
  },
  "language_info": {
   "codemirror_mode": {
    "name": "ipython",
    "version": 3
   },
   "file_extension": ".py",
   "mimetype": "text/x-python",
   "name": "python",
   "nbconvert_exporter": "python",
   "pygments_lexer": "ipython3",
   "version": "3.8.5"
  }
 },
 "nbformat": 4,
 "nbformat_minor": 4
}
