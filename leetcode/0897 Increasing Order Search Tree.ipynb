{
 "cells": [
  {
   "cell_type": "code",
   "execution_count": 1,
   "metadata": {},
   "outputs": [],
   "source": [
    "# Definition for a binary tree node.\n",
    "class TreeNode:\n",
    "    def __init__(self, val=0, left=None, right=None):\n",
    "        self.val = val\n",
    "        self.left = left\n",
    "        self.right = right"
   ]
  },
  {
   "cell_type": "code",
   "execution_count": 10,
   "metadata": {},
   "outputs": [],
   "source": [
    "class Solution:\n",
    "    def increasingBST(self, root: TreeNode) -> TreeNode:\n",
    "        head, tail = self.increasingBSTReportBoth(root)\n",
    "        return head\n",
    "    def increasingBSTReportBoth(self, root):\n",
    "        # base case\n",
    "        if (not root.left) and (not root.right):\n",
    "            return root, root\n",
    "        # recursion step\n",
    "        # clear left and define head\n",
    "        if root.left: \n",
    "            left_head, left_tail = self.increasingBSTReportBoth(root.left)\n",
    "            head = left_head\n",
    "            left_tail.right = root\n",
    "            root.left = None\n",
    "        else:\n",
    "            head = root\n",
    "            root.left = None \n",
    "        # clear right and define tail\n",
    "        if root.right: \n",
    "            right_head, right_tail = self.increasingBSTReportBoth(root.right)\n",
    "            tail = right_tail\n",
    "            root.right = right_head\n",
    "        else:\n",
    "            tail = root\n",
    "            root.right = None\n",
    "        # return head and tail\n",
    "        return head, tail"
   ]
  },
  {
   "cell_type": "code",
   "execution_count": 11,
   "metadata": {},
   "outputs": [
    {
     "name": "stdout",
     "output_type": "stream",
     "text": [
      "3 ---> 5 ---> 7 ---> 10 ---> 15 ---> 18 ---> "
     ]
    }
   ],
   "source": [
    "# second generation\n",
    "v3 = TreeNode(3)\n",
    "v7 = TreeNode(7)\n",
    "v18 = TreeNode(18)\n",
    "# first generation\n",
    "v5 = TreeNode(5,v3,v7)\n",
    "v15 = TreeNode(15,None,v18)\n",
    "# root\n",
    "root = TreeNode(10,v5,v15)\n",
    "# problem\n",
    "head = Solution().increasingBST(root)\n",
    "node = head\n",
    "while node:\n",
    "    print(node.val,'--->',end=' ')\n",
    "    node=node.right"
   ]
  },
  {
   "cell_type": "markdown",
   "metadata": {},
   "source": [
    "# Reference\n",
    "\n",
    "[897. Increasing Order Search Tree](https://leetcode.com/problems/increasing-order-search-tree/)"
   ]
  },
  {
   "cell_type": "code",
   "execution_count": null,
   "metadata": {},
   "outputs": [],
   "source": []
  }
 ],
 "metadata": {
  "kernelspec": {
   "display_name": "Python 3",
   "language": "python",
   "name": "python3"
  },
  "language_info": {
   "codemirror_mode": {
    "name": "ipython",
    "version": 3
   },
   "file_extension": ".py",
   "mimetype": "text/x-python",
   "name": "python",
   "nbconvert_exporter": "python",
   "pygments_lexer": "ipython3",
   "version": "3.8.5"
  }
 },
 "nbformat": 4,
 "nbformat_minor": 4
}
