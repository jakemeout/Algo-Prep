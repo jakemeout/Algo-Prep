{
 "cells": [
  {
   "cell_type": "code",
   "execution_count": null,
   "metadata": {},
   "outputs": [],
   "source": [
    "class Solution:\n",
    "    def minOperations(self, logs):\n",
    "        ans = 0\n",
    "        for log in logs:\n",
    "            # \"../\" : Move to the parent folder of the current folder.\n",
    "            # (If you are already in the main folder, remain in the same folder).\n",
    "            if log == \"../\":\n",
    "                ans = max(ans-1,0)\n",
    "            # \"./\" : Remain in the same folder.\n",
    "            elif log == \"./\": \n",
    "                ans += 0\n",
    "            # \"x/\" : Move to the child folder named x \n",
    "            # (This folder is guaranteed to always exist).\n",
    "            else:\n",
    "                ans += 1\n",
    "        return ans"
   ]
  },
  {
   "cell_type": "markdown",
   "metadata": {},
   "source": [
    "# Reference\n",
    "\n",
    "[1598. Crawler Log Folder](https://leetcode.com/problems/crawler-log-folder/)"
   ]
  }
 ],
 "metadata": {
  "kernelspec": {
   "display_name": "Python 3",
   "language": "python",
   "name": "python3"
  },
  "language_info": {
   "codemirror_mode": {
    "name": "ipython",
    "version": 3
   },
   "file_extension": ".py",
   "mimetype": "text/x-python",
   "name": "python",
   "nbconvert_exporter": "python",
   "pygments_lexer": "ipython3",
   "version": "3.8.5"
  }
 },
 "nbformat": 4,
 "nbformat_minor": 4
}
