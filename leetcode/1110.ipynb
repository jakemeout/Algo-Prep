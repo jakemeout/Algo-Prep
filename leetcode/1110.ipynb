{
 "cells": [
  {
   "cell_type": "code",
   "execution_count": null,
   "metadata": {},
   "outputs": [],
   "source": [
    "class TreeNode:\n",
    "    def __init__(self, val=0, left=None, right=None):\n",
    "        self.val = val\n",
    "        self.left = left\n",
    "        self.right = right"
   ]
  },
  {
   "cell_type": "code",
   "execution_count": null,
   "metadata": {},
   "outputs": [],
   "source": [
    "class Solution:\n",
    "    def delNodes(self, root, to_delete):\n",
    "        \"\"\"\n",
    "        :type root: TreeNode\n",
    "        :type to_delete: List[int]\n",
    "        :rtype: List[TreeNode]\n",
    "        \"\"\"\n",
    "        if not root: return None\n",
    "        ans = []\n",
    "        D = set(to_delete)\n",
    "        stack = [(root,root)] # cur, cur_root\n",
    "        while stack:\n",
    "            cur, cur_root = stack.pop()\n",
    "            if cur.left:\n",
    "                stack.append((cur.left,cur.left))\n",
    "                if cur.left in D:\n",
    "                    cur.left = None\n",
    "            if cur.right:\n",
    "                stack.append((cur.right,cur.right))\n",
    "                if cur.right in D:\n",
    "                    cur.right = None    \n",
    "        return ans"
   ]
  }
 ],
 "metadata": {
  "kernelspec": {
   "display_name": "Python 3",
   "language": "python",
   "name": "python3"
  },
  "language_info": {
   "codemirror_mode": {
    "name": "ipython",
    "version": 3
   },
   "file_extension": ".py",
   "mimetype": "text/x-python",
   "name": "python",
   "nbconvert_exporter": "python",
   "pygments_lexer": "ipython3",
   "version": "3.8.5"
  }
 },
 "nbformat": 4,
 "nbformat_minor": 4
}
