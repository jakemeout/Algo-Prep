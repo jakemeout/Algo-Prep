{
 "cells": [
  {
   "cell_type": "code",
   "execution_count": null,
   "metadata": {},
   "outputs": [],
   "source": [
    "# Time Limit Exceeded\n",
    "class Solution:\n",
    "    def numSplits(self, s: str) -> int:\n",
    "        ans = 0\n",
    "        for i in range(1, len(s)):\n",
    "            if len(set(s[:i])) == len(set(s[i:])):\n",
    "                ans += 1\n",
    "        return ans"
   ]
  },
  {
   "cell_type": "code",
   "execution_count": 13,
   "metadata": {},
   "outputs": [],
   "source": [
    "class Solution:\n",
    "    def numSplits(self, s: str) -> int:\n",
    "        ans = 0\n",
    "        n_different_chars_left, n_different_chars_right = [1], [1]\n",
    "        S_left, S_right = set([s[0]]), set([s[-1]])\n",
    "        for i in range(1, len(s)-1):\n",
    "            if s[i] in S_left:\n",
    "                n_different_chars_left.append(n_different_chars_left[-1])\n",
    "            else:\n",
    "                S_left.add(s[i])\n",
    "                n_different_chars_left.append(n_different_chars_left[-1]+1)\n",
    "            if s[-1-i] in S_right:\n",
    "                n_different_chars_right.append(n_different_chars_right[-1])\n",
    "            else:\n",
    "                S_right.add(s[-1-i])\n",
    "                n_different_chars_right.append(n_different_chars_right[-1]+1)\n",
    "        n_different_chars_right = n_different_chars_right[::-1]\n",
    "        #print(n_different_chars_left)\n",
    "        #print(n_different_chars_right)\n",
    "        for l, r in zip(n_different_chars_left,n_different_chars_right):\n",
    "            if l == r:\n",
    "                ans += 1\n",
    "        return ans"
   ]
  },
  {
   "cell_type": "code",
   "execution_count": 14,
   "metadata": {},
   "outputs": [
    {
     "name": "stdout",
     "output_type": "stream",
     "text": [
      "[1, 2, 2, 2]\n",
      "[2, 2, 2, 1]\n"
     ]
    },
    {
     "data": {
      "text/plain": [
       "2"
      ]
     },
     "execution_count": 14,
     "metadata": {},
     "output_type": "execute_result"
    }
   ],
   "source": [
    "s = \"abaab\"\n",
    "Solution().numSplits(s) # 2"
   ]
  },
  {
   "cell_type": "markdown",
   "metadata": {},
   "source": [
    "# Reference\n",
    "\n",
    "[1525. Number of Good Ways to Split a String](https://leetcode.com/problems/number-of-good-ways-to-split-a-string/)\n",
    "\n",
    "[Number of Good Ways to Split a String (Leetcode 1525)](https://www.youtube.com/watch?v=W3Xse02vIYg&list=PL_lPC-CADCvQr__cIR1NyprmZdWi0seGm&index=4)"
   ]
  }
 ],
 "metadata": {
  "kernelspec": {
   "display_name": "Python 3",
   "language": "python",
   "name": "python3"
  },
  "language_info": {
   "codemirror_mode": {
    "name": "ipython",
    "version": 3
   },
   "file_extension": ".py",
   "mimetype": "text/x-python",
   "name": "python",
   "nbconvert_exporter": "python",
   "pygments_lexer": "ipython3",
   "version": "3.8.5"
  }
 },
 "nbformat": 4,
 "nbformat_minor": 4
}
