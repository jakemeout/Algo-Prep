{
 "cells": [
  {
   "cell_type": "code",
   "execution_count": 26,
   "metadata": {},
   "outputs": [],
   "source": [
    "from heapq import heapify, heappush, heappop\n",
    "\n",
    "class Solution:\n",
    "    def longestDiverseString(self, a: int, b: int, c: int) -> str:\n",
    "        heap = []\n",
    "        for num, char in zip([a,b,c],['a','b','c']):\n",
    "            if num > 0:\n",
    "                heap.append((-num,char))\n",
    "        heapify(heap)\n",
    "\n",
    "        ans = ''\n",
    "        prev_char, prev2_char = None, None\n",
    "        while heap:\n",
    "            negative_num, char = heappop(heap)\n",
    "            if char==prev_char and char==prev2_char:\n",
    "                tmp = (negative_num, char)\n",
    "                try:\n",
    "                    negative_num, char = heappop(heap)\n",
    "                except:\n",
    "                    break\n",
    "                heappush(heap, tmp) \n",
    "            ans += char\n",
    "            prev_char, prev2_char = char, prev_char\n",
    "            if negative_num < -1:\n",
    "                heappush(heap, (negative_num+1,char)) \n",
    "        return ans"
   ]
  },
  {
   "cell_type": "code",
   "execution_count": 27,
   "metadata": {},
   "outputs": [
    {
     "data": {
      "text/plain": [
       "'ccbccbcbcbcbcbcbcbc'"
      ]
     },
     "execution_count": 27,
     "metadata": {},
     "output_type": "execute_result"
    }
   ],
   "source": [
    "a = 0\n",
    "b = 8\n",
    "c = 11\n",
    "Solution().longestDiverseString(a,b,c)"
   ]
  },
  {
   "cell_type": "markdown",
   "metadata": {},
   "source": [
    "# Reference\n",
    "\n",
    "[1405. Longest Happy String](https://leetcode.com/problems/longest-happy-string/)\n",
    "\n",
    "[LeetCode 1405 - Longest Happy String (95% Faster!)](https://www.youtube.com/watch?v=bedbXbrUnSo)"
   ]
  }
 ],
 "metadata": {
  "kernelspec": {
   "display_name": "Python 3",
   "language": "python",
   "name": "python3"
  },
  "language_info": {
   "codemirror_mode": {
    "name": "ipython",
    "version": 3
   },
   "file_extension": ".py",
   "mimetype": "text/x-python",
   "name": "python",
   "nbconvert_exporter": "python",
   "pygments_lexer": "ipython3",
   "version": "3.8.5"
  }
 },
 "nbformat": 4,
 "nbformat_minor": 4
}
