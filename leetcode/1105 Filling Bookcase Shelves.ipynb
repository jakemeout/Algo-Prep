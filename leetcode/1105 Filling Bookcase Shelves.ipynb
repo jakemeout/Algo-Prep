{
 "cells": [
  {
   "cell_type": "code",
   "execution_count": 23,
   "metadata": {},
   "outputs": [],
   "source": [
    "class Solution:\n",
    "    def minHeightShelves(self, books, shelf_width):\n",
    "        \"\"\"\n",
    "        :type books: List[List[int]]\n",
    "        :type shelf_width: int\n",
    "        :rtype: int\n",
    "        \"\"\"\n",
    "        n = len(books)\n",
    "        dp = [float('inf') for _ in range(n + 1)]\n",
    "        #print(dp)\n",
    "        for i in range(0,n):\n",
    "            cur_idx = i\n",
    "            cur_max_height = books[i][1]\n",
    "            cur_shelf_width = shelf_width\n",
    "            while cur_shelf_width:\n",
    "                if cur_idx and books[cur_idx][0] <= cur_shelf_width:\n",
    "                    cur_shelf_width -= books[cur_idx][0] \n",
    "                    if cur_idx-1 >= 0:\n",
    "                        dp[i] = min(dp[i], dp[cur_idx-1] + cur_max_height) \n",
    "                    else:\n",
    "                        dp[i] = cur_max_height\n",
    "                    #print(dp)\n",
    "                    cur_idx -= 1\n",
    "                    cur_max_height = max(cur_max_height, books[cur_idx][1])\n",
    "                elif cur_idx == 0 and books[cur_idx][0] <= cur_shelf_width:\n",
    "                    dp[i] = min(dp[i], cur_max_height) \n",
    "                    break\n",
    "                else:\n",
    "                    break   \n",
    "        return dp[n-1]"
   ]
  },
  {
   "cell_type": "markdown",
   "metadata": {},
   "source": [
    "# Reference\n",
    "\n",
    "[1105. Filling Bookcase Shelves](https://leetcode.com/problems/filling-bookcase-shelves/)"
   ]
  }
 ],
 "metadata": {
  "kernelspec": {
   "display_name": "Python 3",
   "language": "python",
   "name": "python3"
  },
  "language_info": {
   "codemirror_mode": {
    "name": "ipython",
    "version": 3
   },
   "file_extension": ".py",
   "mimetype": "text/x-python",
   "name": "python",
   "nbconvert_exporter": "python",
   "pygments_lexer": "ipython3",
   "version": "3.8.5"
  }
 },
 "nbformat": 4,
 "nbformat_minor": 4
}
