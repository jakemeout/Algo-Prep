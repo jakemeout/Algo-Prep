{
 "cells": [
  {
   "cell_type": "code",
   "execution_count": 5,
   "metadata": {},
   "outputs": [],
   "source": [
    "class Solution:\n",
    "    def reverseParentheses(self, s: str) -> str:\n",
    "        stack = []\n",
    "        #print(stack)\n",
    "        for i in s:\n",
    "            if i == \"(\":\n",
    "                stack.append(i)\n",
    "            elif i == \")\":\n",
    "                res = []\n",
    "                while stack and stack[-1] != \"(\":\n",
    "                    res.append(stack.pop())\n",
    "                stack.pop()\n",
    "                stack += res\n",
    "            else:\n",
    "                stack.append(i)\n",
    "            #print(stack)\n",
    "        return \"\".join(stack)"
   ]
  },
  {
   "cell_type": "code",
   "execution_count": 6,
   "metadata": {},
   "outputs": [
    {
     "data": {
      "text/plain": [
       "'apmnolkjihgfedcbq'"
      ]
     },
     "execution_count": 6,
     "metadata": {},
     "output_type": "execute_result"
    }
   ],
   "source": [
    "s = \"a(bcdefghijkl(mno)p)q\"\n",
    "Solution().reverseParentheses(s) # \"apmnolkjihgfedcbq\""
   ]
  },
  {
   "cell_type": "markdown",
   "metadata": {},
   "source": [
    "# Reference\n",
    "\n",
    "[1190. Reverse Substrings Between Each Pair of Parentheses](https://leetcode.com/problems/reverse-substrings-between-each-pair-of-parentheses/)\n",
    "\n",
    "[[Python] Stack | Straighforward](https://leetcode.com/problems/reverse-substrings-between-each-pair-of-parentheses/discuss/1247751/Python-Stack-or-Straighforward)"
   ]
  }
 ],
 "metadata": {
  "kernelspec": {
   "display_name": "Python 3",
   "language": "python",
   "name": "python3"
  },
  "language_info": {
   "codemirror_mode": {
    "name": "ipython",
    "version": 3
   },
   "file_extension": ".py",
   "mimetype": "text/x-python",
   "name": "python",
   "nbconvert_exporter": "python",
   "pygments_lexer": "ipython3",
   "version": "3.8.5"
  }
 },
 "nbformat": 4,
 "nbformat_minor": 4
}
