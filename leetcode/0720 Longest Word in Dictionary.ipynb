{
 "cells": [
  {
   "cell_type": "code",
   "execution_count": 12,
   "metadata": {},
   "outputs": [],
   "source": [
    "class Solution:\n",
    "    def longestWord(self, words):\n",
    "        words_set = set(words)\n",
    "        # collect all possible candiadtes\n",
    "        candidates = []\n",
    "        for word in words: \n",
    "            test_fail = False\n",
    "            for i in range(1,len(word)): \n",
    "                if word[:i] not in words_set:\n",
    "                    test_fail = True\n",
    "                    break\n",
    "            if not test_fail:\n",
    "                candidates.append(word)\n",
    "        if candidates == []:\n",
    "            return ''\n",
    "        # collect longest\n",
    "        longest_length = max([len(c) for c in candidates])\n",
    "        longest = [c for c in candidates if len(c) == longest_length]\n",
    "        # find longest word with smallest lexicographical order\n",
    "        out = longest[0]\n",
    "        for word in longest[1:]:\n",
    "            if word < out:\n",
    "                out = word\n",
    "        return out"
   ]
  },
  {
   "cell_type": "code",
   "execution_count": 13,
   "metadata": {},
   "outputs": [
    {
     "name": "stdout",
     "output_type": "stream",
     "text": [
      "['oiddm']\n"
     ]
    },
    {
     "data": {
      "text/plain": [
       "'oiddm'"
      ]
     },
     "execution_count": 13,
     "metadata": {},
     "output_type": "execute_result"
    }
   ],
   "source": [
    "words = [\"k\",\"lg\",\"it\",\"oidd\",\"oid\",\"oiddm\",\"kfk\",\"y\",\"mw\",\"kf\",\"l\",\"o\",\"mwaqz\",\"oi\",\"ych\",\"m\",\"mwa\"]\n",
    "Solution().longestWord(words) # \"oiddm\""
   ]
  },
  {
   "cell_type": "code",
   "execution_count": 11,
   "metadata": {},
   "outputs": [
    {
     "data": {
      "text/plain": [
       "True"
      ]
     },
     "execution_count": 11,
     "metadata": {},
     "output_type": "execute_result"
    }
   ],
   "source": [
    "[\"m\",\"mw\",\"mwa\",\"mwaqz\"]"
   ]
  },
  {
   "cell_type": "markdown",
   "metadata": {},
   "source": [
    "# Reference\n",
    "\n",
    "[720. Longest Word in Dictionary](https://leetcode.com/problems/longest-word-in-dictionary/)"
   ]
  }
 ],
 "metadata": {
  "kernelspec": {
   "display_name": "Python 3",
   "language": "python",
   "name": "python3"
  },
  "language_info": {
   "codemirror_mode": {
    "name": "ipython",
    "version": 3
   },
   "file_extension": ".py",
   "mimetype": "text/x-python",
   "name": "python",
   "nbconvert_exporter": "python",
   "pygments_lexer": "ipython3",
   "version": "3.8.5"
  }
 },
 "nbformat": 4,
 "nbformat_minor": 4
}
