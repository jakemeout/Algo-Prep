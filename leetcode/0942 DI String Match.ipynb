{
 "cells": [
  {
   "cell_type": "code",
   "execution_count": null,
   "metadata": {},
   "outputs": [],
   "source": [
    "# Time Limit Exceeded\n",
    "class Solution:\n",
    "    def diStringMatch(self, s: str) -> List[int]:\n",
    "        # starting from 0\n",
    "        # move up to new teritory (with smallest abs values) when new char from s is 'I'\n",
    "        # move down to new teritory (with smallest abs values) when new char from s is 'D'\n",
    "        # rock_bottom is the abs value of lowest point in the trajectory\n",
    "        rock_bottom = sum([1 for c in s if c == 'D'])\n",
    "        ans = [0 + rock_bottom]\n",
    "        for i in range(len(s)):\n",
    "            # increasing part\n",
    "            if s[i] == 'I':\n",
    "                ans.append(sum([1 for c in s[:i+1] if c == 'I']) + rock_bottom)\n",
    "            # decreasing part\n",
    "            if s[i] == 'D':\n",
    "                ans.append(-sum([1 for c in s[:i+1] if c == 'D']) + rock_bottom)\n",
    "        return ans"
   ]
  },
  {
   "cell_type": "code",
   "execution_count": null,
   "metadata": {},
   "outputs": [],
   "source": [
    "class Solution:\n",
    "    def diStringMatch(self, s: str) -> List[int]:\n",
    "        # starting from 0\n",
    "        # move up to new teritory (with smallest abs values) when new char from s is 'I'\n",
    "        # move down to new teritory (with smallest abs values) when new char from s is 'D'\n",
    "        # rock_bottom is the abs value of lowest point in the trajectory\n",
    "        rock_bottom = sum([1 for c in s if c == 'D'])\n",
    "        ans = [0 + rock_bottom]\n",
    "        n_I, n_D = 0, 0 # <----------------------------------------------------- Speed Up\n",
    "        for i in range(len(s)):\n",
    "            # increasing part\n",
    "            if s[i] == 'I':\n",
    "                n_I += 1\n",
    "                ans.append(n_I + rock_bottom)\n",
    "            # decreasing part\n",
    "            if s[i] == 'D':\n",
    "                n_D += 1\n",
    "                ans.append(-n_D + rock_bottom)\n",
    "        return ans"
   ]
  },
  {
   "cell_type": "markdown",
   "metadata": {},
   "source": [
    "# Reference\n",
    "\n",
    "[942. DI String Match](https://leetcode.com/problems/di-string-match/)"
   ]
  }
 ],
 "metadata": {
  "kernelspec": {
   "display_name": "Python 3",
   "language": "python",
   "name": "python3"
  },
  "language_info": {
   "codemirror_mode": {
    "name": "ipython",
    "version": 3
   },
   "file_extension": ".py",
   "mimetype": "text/x-python",
   "name": "python",
   "nbconvert_exporter": "python",
   "pygments_lexer": "ipython3",
   "version": "3.8.5"
  }
 },
 "nbformat": 4,
 "nbformat_minor": 4
}
