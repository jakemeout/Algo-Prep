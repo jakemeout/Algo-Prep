{
 "cells": [
  {
   "cell_type": "markdown",
   "metadata": {},
   "source": [
    "##### Condition 1. odd characters <= k\n",
    "Count the occurrences of all characters.\n",
    "If one character has odd times occurrences,\n",
    "there must be at least one palindrome,\n",
    "with odd length and this character in the middle.\n",
    "So we count the characters that appear odd times,\n",
    "the number of odd character should not be bigger than k.\n",
    "\n",
    "##### Condition 2. k <= s.length()\n",
    "Also, if we have one character in each palindrome,\n",
    "we will have at most s.length() palindromes,\n",
    "so we need k <= s.length().\n",
    "\n",
    "The above two condition are necessary and sufficient conditions for this problem.\n",
    "So we return odd <= k <= n"
   ]
  },
  {
   "cell_type": "code",
   "execution_count": null,
   "metadata": {},
   "outputs": [],
   "source": [
    "from collections import defaultdict\n",
    "class Solution:\n",
    "    def canConstruct(self, s: str, k: int) -> bool:\n",
    "        if len(s) < k:\n",
    "            return False\n",
    "        \n",
    "        d = defaultdict(int)\n",
    "        for char in s:\n",
    "            d[char] += 1\n",
    "            \n",
    "        n_odd = sum(1 for key in d if d[key]%2==1)\n",
    "        if n_odd > k:\n",
    "            return False\n",
    "        \n",
    "        return True"
   ]
  },
  {
   "cell_type": "code",
   "execution_count": null,
   "metadata": {},
   "outputs": [],
   "source": [
    "from collections import Counter\n",
    "class Solution:\n",
    "    def canConstruct(self, s: str, k: int) -> bool:\n",
    "        return sum(i & 1 for i in Counter(s).values()) <= k <= len(s)"
   ]
  },
  {
   "cell_type": "markdown",
   "metadata": {},
   "source": [
    "# Reference\n",
    "\n",
    "[1400. Construct K Palindrome Strings](https://leetcode.com/problems/construct-k-palindrome-strings/)\n",
    "\n",
    "[[Java/C++/Python] Straight Forward](https://leetcode.com/problems/construct-k-palindrome-strings/discuss/563379/JavaC%2B%2BPython-Straight-Forward)"
   ]
  }
 ],
 "metadata": {
  "kernelspec": {
   "display_name": "Python 3",
   "language": "python",
   "name": "python3"
  },
  "language_info": {
   "codemirror_mode": {
    "name": "ipython",
    "version": 3
   },
   "file_extension": ".py",
   "mimetype": "text/x-python",
   "name": "python",
   "nbconvert_exporter": "python",
   "pygments_lexer": "ipython3",
   "version": "3.8.5"
  }
 },
 "nbformat": 4,
 "nbformat_minor": 4
}
