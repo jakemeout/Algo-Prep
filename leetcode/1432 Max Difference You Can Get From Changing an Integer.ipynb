{
 "cells": [
  {
   "cell_type": "code",
   "execution_count": null,
   "metadata": {},
   "outputs": [],
   "source": [
    "class Solution:\n",
    "    def maxDiff(self, num: int) -> int:\n",
    "        num = str(num)\n",
    "        maxNum, minNum = float('-inf'), float('inf')\n",
    "        for i in '0123456789':\n",
    "            for j in '0123456789':\n",
    "                nextNum = num.replace(i, j)\n",
    "                if nextNum[0] == '0' or int(nextNum) == 0:\n",
    "                    continue\n",
    "                maxNum = max(maxNum, int(nextNum))    \n",
    "                minNum = min(minNum, int(nextNum))    \n",
    "        return maxNum - minNum "
   ]
  },
  {
   "cell_type": "markdown",
   "metadata": {},
   "source": [
    "# Reference\n",
    "\n",
    "[1432. Max Difference You Can Get From Changing an Integer](https://leetcode.com/problems/max-difference-you-can-get-from-changing-an-integer/)\n",
    "\n",
    "[[Python3] Easy Solution](https://leetcode.com/problems/max-difference-you-can-get-from-changing-an-integer/discuss/608703/Python3-Easy-Solution)"
   ]
  }
 ],
 "metadata": {
  "kernelspec": {
   "display_name": "Python 3",
   "language": "python",
   "name": "python3"
  },
  "language_info": {
   "codemirror_mode": {
    "name": "ipython",
    "version": 3
   },
   "file_extension": ".py",
   "mimetype": "text/x-python",
   "name": "python",
   "nbconvert_exporter": "python",
   "pygments_lexer": "ipython3",
   "version": "3.8.5"
  }
 },
 "nbformat": 4,
 "nbformat_minor": 4
}
