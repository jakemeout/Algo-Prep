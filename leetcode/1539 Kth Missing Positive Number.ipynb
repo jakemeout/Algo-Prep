{
 "cells": [
  {
   "cell_type": "code",
   "execution_count": 9,
   "metadata": {},
   "outputs": [],
   "source": [
    "class Solution:\n",
    "    def findKthPositive(self, arr, k):\n",
    "        pointer = 1\n",
    "        n_found = 0\n",
    "        found = False\n",
    "        while not found:\n",
    "            if pointer not in arr:\n",
    "                n_found += 1\n",
    "                if n_found == k:\n",
    "                    return pointer\n",
    "                pointer += 1\n",
    "            else:\n",
    "                pointer += 1"
   ]
  },
  {
   "cell_type": "code",
   "execution_count": 10,
   "metadata": {},
   "outputs": [
    {
     "data": {
      "text/plain": [
       "9"
      ]
     },
     "execution_count": 10,
     "metadata": {},
     "output_type": "execute_result"
    }
   ],
   "source": [
    "arr = [2,3,4,7,11]\n",
    "k = 5\n",
    "Solution().findKthPositive(arr, k) # 9"
   ]
  },
  {
   "cell_type": "markdown",
   "metadata": {},
   "source": [
    "# Reference\n",
    "\n",
    "[1539. Kth Missing Positive Number](https://leetcode.com/problems/kth-missing-positive-number/)"
   ]
  }
 ],
 "metadata": {
  "kernelspec": {
   "display_name": "Python 3",
   "language": "python",
   "name": "python3"
  },
  "language_info": {
   "codemirror_mode": {
    "name": "ipython",
    "version": 3
   },
   "file_extension": ".py",
   "mimetype": "text/x-python",
   "name": "python",
   "nbconvert_exporter": "python",
   "pygments_lexer": "ipython3",
   "version": "3.8.5"
  }
 },
 "nbformat": 4,
 "nbformat_minor": 4
}
