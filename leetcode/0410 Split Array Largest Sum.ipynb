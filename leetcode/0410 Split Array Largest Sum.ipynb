{
 "cells": [
  {
   "cell_type": "code",
   "execution_count": null,
   "metadata": {},
   "outputs": [],
   "source": [
    "class Solution:\n",
    "    def splitArray(self, nums: List[int], m: int) -> int:\n",
    "        \n",
    "        def feasible(threshold) -> bool:\n",
    "            count = 1\n",
    "            total = 0\n",
    "            for num in nums:\n",
    "                total += num\n",
    "                if total > threshold:\n",
    "                    total = num\n",
    "                    count += 1\n",
    "                    if count > m:\n",
    "                        return False\n",
    "            return True        \n",
    "        \n",
    "        # Correctly initialize the boundary variables left and right. \n",
    "        # Only one rule: set up the boundary to include all possible elements;\n",
    "        left, right = max(nums), sum(nums)\n",
    "        \n",
    "        while left < right:\n",
    "            mid = left + (right - left) // 2\n",
    "            \n",
    "            # Design the condition function. \n",
    "            # This is the most difficult and most beautiful part. Needs lots of practice.\n",
    "            if feasible(mid): \n",
    "                right = mid\n",
    "            else:\n",
    "                left = mid + 1\n",
    "                \n",
    "        # Decide return value. Is it return left or return left - 1? \n",
    "        # Remember this: after exiting the while loop, left is the minimal k satisfying the condition function;\n",
    "        return left"
   ]
  },
  {
   "cell_type": "markdown",
   "metadata": {},
   "source": [
    "# Reference\n",
    "\n",
    "[410. Split Array Largest Sum](https://leetcode.com/problems/split-array-largest-sum/)\n",
    "\n",
    "[[Python/ Clear explanation] Powerful Ultimate Binary Search Template. Solved many problems.](https://leetcode.com/problems/find-k-th-smallest-pair-distance/discuss/769705/Python-Clear-explanation-Powerful-Ultimate-Binary-Search-Template.-Solved-many-problems.)"
   ]
  }
 ],
 "metadata": {
  "kernelspec": {
   "display_name": "Python 3",
   "language": "python",
   "name": "python3"
  },
  "language_info": {
   "codemirror_mode": {
    "name": "ipython",
    "version": 3
   },
   "file_extension": ".py",
   "mimetype": "text/x-python",
   "name": "python",
   "nbconvert_exporter": "python",
   "pygments_lexer": "ipython3",
   "version": "3.8.5"
  }
 },
 "nbformat": 4,
 "nbformat_minor": 5
}
