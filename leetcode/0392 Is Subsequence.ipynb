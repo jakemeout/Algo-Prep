{
 "cells": [
  {
   "cell_type": "code",
   "execution_count": null,
   "metadata": {},
   "outputs": [],
   "source": [
    "class Solution:\n",
    "    def isSubsequence(self, s, chars) -> bool:\n",
    "        for char in s:\n",
    "            boolean, chars = self.isIn(char, chars) \n",
    "            if not boolean: return False\n",
    "        return True\n",
    "    def isIn(self, char, chars):\n",
    "        \"\"\"\n",
    "        Check if char is in chars --> True, False\n",
    "        If not, return False, None\n",
    "        If so, return True, chars remaining after removing the first appaering char with the initial part of chars \n",
    "        \"\"\"\n",
    "        if len(chars) == 0: return False, None \n",
    "        for idx, item in enumerate(chars):\n",
    "            if item == char:\n",
    "                return True, chars[idx+1:]\n",
    "        return False, None"
   ]
  },
  {
   "cell_type": "markdown",
   "metadata": {},
   "source": [
    "# Reference\n",
    "\n",
    "[392. Is Subsequence](https://leetcode.com/problems/is-subsequence/)"
   ]
  },
  {
   "cell_type": "code",
   "execution_count": null,
   "metadata": {},
   "outputs": [],
   "source": []
  }
 ],
 "metadata": {
  "kernelspec": {
   "display_name": "Python 3",
   "language": "python",
   "name": "python3"
  },
  "language_info": {
   "codemirror_mode": {
    "name": "ipython",
    "version": 3
   },
   "file_extension": ".py",
   "mimetype": "text/x-python",
   "name": "python",
   "nbconvert_exporter": "python",
   "pygments_lexer": "ipython3",
   "version": "3.8.5"
  }
 },
 "nbformat": 4,
 "nbformat_minor": 4
}
