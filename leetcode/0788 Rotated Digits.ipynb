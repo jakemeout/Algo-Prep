{
 "cells": [
  {
   "cell_type": "code",
   "execution_count": null,
   "metadata": {},
   "outputs": [],
   "source": [
    "class Solution:\n",
    "    \n",
    "    def rotatedDigits(self, n: int) -> int:\n",
    "        self.good = set(['0','1','8','2','5','6','9']) # after rotation, still valid\n",
    "        self.veryGood = set(['2','5','6','9']) # after rotation, still valid and different from original\n",
    "        out = 0\n",
    "        for i in range(1,n+1):\n",
    "            if self.isGood(i):\n",
    "                out += 1\n",
    "        return out\n",
    "    \n",
    "    def isGood(self, i):\n",
    "        lst = list(str(i))\n",
    "        flag_veryGood = False\n",
    "        for item in lst:\n",
    "            if item in self.veryGood:\n",
    "                flag_veryGood = True   \n",
    "            elif item not in self.good:\n",
    "                return False\n",
    "        if flag_veryGood:\n",
    "            return True\n",
    "        else:\n",
    "            return False                "
   ]
  },
  {
   "cell_type": "markdown",
   "metadata": {},
   "source": [
    "# Reference\n",
    "\n",
    "[788. Rotated Digits](https://leetcode.com/problems/rotated-digits/)"
   ]
  },
  {
   "cell_type": "code",
   "execution_count": null,
   "metadata": {},
   "outputs": [],
   "source": []
  }
 ],
 "metadata": {
  "kernelspec": {
   "display_name": "Python 3",
   "language": "python",
   "name": "python3"
  },
  "language_info": {
   "codemirror_mode": {
    "name": "ipython",
    "version": 3
   },
   "file_extension": ".py",
   "mimetype": "text/x-python",
   "name": "python",
   "nbconvert_exporter": "python",
   "pygments_lexer": "ipython3",
   "version": "3.8.5"
  }
 },
 "nbformat": 4,
 "nbformat_minor": 4
}
