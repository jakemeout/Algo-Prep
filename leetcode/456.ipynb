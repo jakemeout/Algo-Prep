{
 "cells": [
  {
   "cell_type": "code",
   "execution_count": 30,
   "metadata": {},
   "outputs": [],
   "source": [
    "class Solution:\n",
    "    def find132pattern(self, nums):\n",
    "        if len(nums) < 3:\n",
    "            return Fasle\n",
    "        \n",
    "        max_so_far = nums[0] # maximum so far\n",
    "        min_ = None # min before max_so_far occurs\n",
    "        min_so_far = None # min so far \n",
    "        print(min_so_far, min_, max_so_far)\n",
    "        for num in nums[1:]:\n",
    "            if max_so_far < num: # update max_so_far\n",
    "                if min_ is None:\n",
    "                    min_ = max_so_far \n",
    "                if min_so_far is None:\n",
    "                    min_so_far = max_so_far \n",
    "                min_ = min_so_far\n",
    "                max_so_far = num\n",
    "                print(min_so_far, min_, max_so_far)\n",
    "                continue\n",
    "            elif max_so_far == num: # no update\n",
    "                continue\n",
    "            elif max_so_far > num:\n",
    "                if min_so_far is None:\n",
    "                    min_so_far = num\n",
    "                else:\n",
    "                    min_so_far = min(min_so_far, num)\n",
    "                print(min_so_far, min_, max_so_far)\n",
    "                if min_ is not None and num > min_:\n",
    "                    return True\n",
    "        return False     "
   ]
  },
  {
   "cell_type": "code",
   "execution_count": 31,
   "metadata": {},
   "outputs": [
    {
     "name": "stdout",
     "output_type": "stream",
     "text": [
      "None None 1\n",
      "1 1 4\n",
      "0 1 4\n",
      "-1 1 4\n",
      "-2 1 4\n",
      "-3 1 4\n",
      "-3 1 4\n",
      "-3 1 4\n"
     ]
    },
    {
     "data": {
      "text/plain": [
       "False"
      ]
     },
     "execution_count": 31,
     "metadata": {},
     "output_type": "execute_result"
    }
   ],
   "source": [
    "nums = [1,4,0,-1,-2,-3,-1,-2]\n",
    "Solution().find132pattern(nums) # True"
   ]
  },
  {
   "cell_type": "markdown",
   "metadata": {},
   "source": [
    "# Reference\n",
    "\n",
    "[LeetCode](https://leetcode.com/)"
   ]
  }
 ],
 "metadata": {
  "kernelspec": {
   "display_name": "Python 3",
   "language": "python",
   "name": "python3"
  },
  "language_info": {
   "codemirror_mode": {
    "name": "ipython",
    "version": 3
   },
   "file_extension": ".py",
   "mimetype": "text/x-python",
   "name": "python",
   "nbconvert_exporter": "python",
   "pygments_lexer": "ipython3",
   "version": "3.8.5"
  }
 },
 "nbformat": 4,
 "nbformat_minor": 4
}
