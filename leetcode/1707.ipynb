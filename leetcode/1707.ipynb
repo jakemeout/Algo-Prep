{
 "cells": [
  {
   "cell_type": "code",
   "execution_count": 22,
   "id": "hairy-berry",
   "metadata": {},
   "outputs": [],
   "source": [
    "class Solution:\n",
    "    def maximizeXor(self, nums, queries):\n",
    "        \"\"\"\n",
    "        :type nums: List[int]\n",
    "        :type queries: List[List[int]]\n",
    "        :rtype: List[int]\n",
    "        \"\"\"\n",
    "        nums_len = len(nums)\n",
    "        nums.sort()\n",
    "        \n",
    "        n = len(queries)\n",
    "        ans = [-1] * n\n",
    "        for i, (x, m) in enumerate(queries):\n",
    "            tmp = -1\n",
    "            cur_idx = 0\n",
    "            cur = nums[cur_idx]\n",
    "            while (cur_idx < nums_len) and (cur <= m):\n",
    "                tmp = max(tmp, cur^x)\n",
    "                cur_idx += 1\n",
    "                try:\n",
    "                    cur = nums[cur_idx]\n",
    "                except:\n",
    "                    break\n",
    "            ans[i] = tmp\n",
    "        return ans                "
   ]
  },
  {
   "cell_type": "code",
   "execution_count": 23,
   "id": "useful-facing",
   "metadata": {},
   "outputs": [
    {
     "data": {
      "text/plain": [
       "[11]"
      ]
     },
     "execution_count": 23,
     "metadata": {},
     "output_type": "execute_result"
    }
   ],
   "source": [
    "nums = [5,8,0,3,2,10,9,2,4,5]\n",
    "queries = [[3,8]]\n",
    "Solution().maximizeXor(nums, queries)"
   ]
  },
  {
   "cell_type": "code",
   "execution_count": 9,
   "id": "radical-runner",
   "metadata": {},
   "outputs": [
    {
     "data": {
      "text/plain": [
       "[0, 2, 2, 3, 4, 5, 5, 8, 9, 10]"
      ]
     },
     "execution_count": 9,
     "metadata": {},
     "output_type": "execute_result"
    }
   ],
   "source": [
    "sorted([5,8,0,3,2,10,9,2,4,5])"
   ]
  },
  {
   "cell_type": "code",
   "execution_count": 11,
   "id": "settled-quantity",
   "metadata": {},
   "outputs": [
    {
     "name": "stdout",
     "output_type": "stream",
     "text": [
      "3\n",
      "1\n",
      "1\n",
      "0\n",
      "7\n",
      "6\n",
      "6\n",
      "11\n"
     ]
    }
   ],
   "source": [
    "for i in [0, 2, 2, 3, 4, 5, 5, 8]:\n",
    "    print(i^3)"
   ]
  },
  {
   "cell_type": "code",
   "execution_count": null,
   "id": "obvious-possibility",
   "metadata": {},
   "outputs": [],
   "source": [
    "from bisect import bisect_right\n",
    "\n",
    "class Solution:\n",
    "    def maximizeXor(self, nums, queries):\n",
    "        \"\"\"\n",
    "        :type nums: List[int]\n",
    "        :type queries: List[List[int]]\n",
    "        :rtype: List[int]\n",
    "        \"\"\"\n",
    "        nums_len = len(nums)\n",
    "        nums.sort()\n",
    "        \n",
    "        n = len(queries)\n",
    "        ans = [-1] * n\n",
    "        for i, (x, m) in enumerate(queries):\n",
    "            start, stop = 0, bisect_right(nums, m)\n",
    "            tmp = -1\n",
    "            for y in nums[start:stop]:\n",
    "                tmp = max(tmp, x^y)\n",
    "            ans[i] = tmp\n",
    "        return ans "
   ]
  },
  {
   "cell_type": "code",
   "execution_count": 44,
   "id": "adopted-communist",
   "metadata": {},
   "outputs": [],
   "source": [
    "from bisect import bisect_left, bisect_right\n",
    "\n",
    "class Solution:\n",
    "    def maximizeXor(self, nums, queries):\n",
    "        \"\"\"\n",
    "        :type nums: List[int]\n",
    "        :type queries: List[List[int]]\n",
    "        :rtype: List[int]\n",
    "        \"\"\"\n",
    "        nums.sort()\n",
    "        \n",
    "        ans = []\n",
    "        for x, m in queries:\n",
    "            start, stop = 0, bisect_right(nums, m)\n",
    "            num = 0\n",
    "            print(start,stop,num)\n",
    "            #for i in range(30)[::-1]:\n",
    "            for i in range(3)[::-1]:\n",
    "                cut = bisect_left(nums, num + 2**i, start, stop)\n",
    "                print(start,stop,num,cut, cut>start,x,2**i,x&2**i,num)\n",
    "                if cut > start and x & 2**i:\n",
    "                    stop = cut\n",
    "                    print(start,stop,num)\n",
    "                elif cut < stop:\n",
    "                    start = cut\n",
    "                    num += 2**i\n",
    "                    print(start,stop,num)\n",
    "            print(start,stop,num,cut, cut>start,x,2**i,x&2**i,num)\n",
    "            ans.append(num ^ x if start < stop else -1)\n",
    "        return ans               "
   ]
  },
  {
   "cell_type": "code",
   "execution_count": 45,
   "id": "animated-mineral",
   "metadata": {},
   "outputs": [
    {
     "name": "stdout",
     "output_type": "stream",
     "text": [
      "0 3 0\n",
      "0 3 0 2 True 12 4 4 0\n",
      "0 2 0\n",
      "0 2 0 0 False 12 2 0 0\n",
      "0 2 2\n",
      "0 2 2 1 True 12 1 0 2\n",
      "1 2 3\n",
      "1 2 3 1 False 12 1 0 3\n"
     ]
    },
    {
     "data": {
      "text/plain": [
       "[15]"
      ]
     },
     "execution_count": 45,
     "metadata": {},
     "output_type": "execute_result"
    }
   ],
   "source": [
    "nums = [2,3,4,5,6,6]\n",
    "queries = [[12,4]]\n",
    "Solution().maximizeXor(nums, queries)"
   ]
  },
  {
   "cell_type": "code",
   "execution_count": 39,
   "id": "narrative-gasoline",
   "metadata": {},
   "outputs": [
    {
     "data": {
      "text/plain": [
       "15"
      ]
     },
     "execution_count": 39,
     "metadata": {},
     "output_type": "execute_result"
    }
   ],
   "source": [
    "3^12"
   ]
  },
  {
   "cell_type": "code",
   "execution_count": null,
   "id": "postal-paraguay",
   "metadata": {},
   "outputs": [],
   "source": []
  }
 ],
 "metadata": {
  "kernelspec": {
   "display_name": "Python 3",
   "language": "python",
   "name": "python3"
  },
  "language_info": {
   "codemirror_mode": {
    "name": "ipython",
    "version": 3
   },
   "file_extension": ".py",
   "mimetype": "text/x-python",
   "name": "python",
   "nbconvert_exporter": "python",
   "pygments_lexer": "ipython3",
   "version": "3.7.10"
  }
 },
 "nbformat": 4,
 "nbformat_minor": 5
}
