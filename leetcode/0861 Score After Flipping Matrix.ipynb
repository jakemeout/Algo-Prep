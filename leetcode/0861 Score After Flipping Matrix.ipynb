{
 "cells": [
  {
   "cell_type": "code",
   "execution_count": 1,
   "id": "structural-antique",
   "metadata": {},
   "outputs": [
    {
     "data": {
      "text/plain": [
       "32"
      ]
     },
     "execution_count": 1,
     "metadata": {},
     "output_type": "execute_result"
    }
   ],
   "source": [
    "class Solution:\n",
    "    def matrixScore(self, A: List[List[int]]) -> int:\n",
    "        M, N = len(A), len(A[0])\n",
    "        # 0-th column\n",
    "        # A[i][0] is worth 1 << (N - 1) points, more than the sum of (A[i][1] + .. + A[i][N-1]).\n",
    "        # We need to toggle all A[i][0] to 1\n",
    "        for i in range(M):\n",
    "            if A[i][0] == 0:\n",
    "                for j in range(N):\n",
    "                    A[i][j] = A[i][j] ^ 1 \n",
    "        ans = (1 << N - 1) * M\n",
    "        for j in range(1, N):\n",
    "            # j-th column\n",
    "            # if 1's are dominant, don't toggle\n",
    "            # if 0's are dominant, toggle\n",
    "            cur = sum(A[i][j] == A[i][0] for i in range(M))\n",
    "            ans += max(cur, M - cur) * (1 << N - 1 - j)\n",
    "        return ans"
   ]
  },
  {
   "cell_type": "code",
   "execution_count": 4,
   "id": "electronic-caution",
   "metadata": {},
   "outputs": [
    {
     "data": {
      "text/plain": [
       "32"
      ]
     },
     "execution_count": 4,
     "metadata": {},
     "output_type": "execute_result"
    }
   ],
   "source": [
    "1<<5"
   ]
  },
  {
   "cell_type": "code",
   "execution_count": 3,
   "id": "laughing-cartridge",
   "metadata": {},
   "outputs": [
    {
     "name": "stdout",
     "output_type": "stream",
     "text": [
      "1\n",
      "0\n"
     ]
    }
   ],
   "source": [
    "print(0^1)\n",
    "print(1^1)"
   ]
  },
  {
   "cell_type": "markdown",
   "id": "acknowledged-mounting",
   "metadata": {},
   "source": [
    "# Reference\n",
    "\n",
    "[861. Score After Flipping Matrix](https://leetcode.com/problems/score-after-flipping-matrix/)\n",
    "\n",
    "[FAANG INTERVIEW PREP - Leetcode 861 - Score After Flipping Matrix](https://www.youtube.com/watch?v=8tcPTkVgJq8)\n",
    "\n",
    "[[C++/Java/Python] Easy and Concise](https://leetcode.com/problems/score-after-flipping-matrix/discuss/143722/C%2B%2BJavaPython-Easy-and-Concise)"
   ]
  }
 ],
 "metadata": {
  "kernelspec": {
   "display_name": "Python 3",
   "language": "python",
   "name": "python3"
  },
  "language_info": {
   "codemirror_mode": {
    "name": "ipython",
    "version": 3
   },
   "file_extension": ".py",
   "mimetype": "text/x-python",
   "name": "python",
   "nbconvert_exporter": "python",
   "pygments_lexer": "ipython3",
   "version": "3.7.10"
  }
 },
 "nbformat": 4,
 "nbformat_minor": 5
}
