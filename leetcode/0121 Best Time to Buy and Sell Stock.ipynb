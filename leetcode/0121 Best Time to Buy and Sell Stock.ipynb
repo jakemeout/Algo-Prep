{
 "cells": [
  {
   "cell_type": "code",
   "execution_count": null,
   "metadata": {},
   "outputs": [],
   "source": [
    "class Solution:\n",
    "    def maxProfit(self, prices):\n",
    "        last = 0 # max profit of paths containing last pass segment\n",
    "        ans = 0 \n",
    "        for p0, p1 in zip(prices[:-1],prices[1:]):\n",
    "            last = max(\n",
    "                last + p1 - p0, # profit of continuing transaction\n",
    "                p1 - p0 # profit of fresh new start \n",
    "            )\n",
    "            ans = max(ans, last)\n",
    "        return ans"
   ]
  },
  {
   "cell_type": "code",
   "execution_count": null,
   "metadata": {},
   "outputs": [],
   "source": [
    "class Solution:\n",
    "    def maxProfit(self, prices):\n",
    "        if not prices:\n",
    "            return 0\n",
    "\n",
    "        # forward traversal, profits record the max profit \n",
    "        # by the ith day, this is the first transaction\n",
    "        profits = []\n",
    "        max_profit = 0\n",
    "        current_min = prices[0]\n",
    "        for price in prices:\n",
    "            current_min = min(current_min, price)\n",
    "            max_profit = max(max_profit, price - current_min)\n",
    "            profits.append(max_profit)\n",
    "\n",
    "        return max(profits)"
   ]
  },
  {
   "cell_type": "markdown",
   "metadata": {},
   "source": [
    "# Reference\n",
    "\n",
    "[121. Best Time to Buy and Sell Stock](https://leetcode.com/problems/best-time-to-buy-and-sell-stock/)\n",
    "\n",
    "[122. Best Time to Buy and Sell Stock II](https://leetcode.com/problems/best-time-to-buy-and-sell-stock-ii/)\n",
    "\n",
    "[123. Best Time to Buy and Sell Stock III](https://leetcode.com/problems/best-time-to-buy-and-sell-stock-iii/)"
   ]
  }
 ],
 "metadata": {
  "kernelspec": {
   "display_name": "Python 3",
   "language": "python",
   "name": "python3"
  },
  "language_info": {
   "codemirror_mode": {
    "name": "ipython",
    "version": 3
   },
   "file_extension": ".py",
   "mimetype": "text/x-python",
   "name": "python",
   "nbconvert_exporter": "python",
   "pygments_lexer": "ipython3",
   "version": "3.8.5"
  }
 },
 "nbformat": 4,
 "nbformat_minor": 4
}
