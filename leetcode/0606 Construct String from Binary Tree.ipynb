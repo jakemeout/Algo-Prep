{
 "cells": [
  {
   "cell_type": "code",
   "execution_count": null,
   "metadata": {},
   "outputs": [],
   "source": [
    "# Definition for a binary tree node.\n",
    "class TreeNode:\n",
    "    def __init__(self, val=0, left=None, right=None):\n",
    "        self.val = val\n",
    "        self.left = left\n",
    "        self.right = right"
   ]
  },
  {
   "cell_type": "code",
   "execution_count": null,
   "metadata": {},
   "outputs": [],
   "source": [
    "class Solution:\n",
    "    def tree2str(self, root: TreeNode) -> str:\n",
    "        # base cases\n",
    "        if root.left is None and root.right is None:\n",
    "            return str(root.val)\n",
    "        # recursion steps\n",
    "        out = str(root.val)\n",
    "        if root.left is not None:\n",
    "            out += f'({self.tree2str(root.left)})'\n",
    "        if root.left is None and root.right is not None:\n",
    "            out += '()' \n",
    "        if root.right is not None:\n",
    "            out += f'({self.tree2str(root.right)})'\n",
    "        return out"
   ]
  },
  {
   "cell_type": "markdown",
   "metadata": {},
   "source": [
    "# Reference\n",
    "\n",
    "[606. Construct String from Binary Tree](https://leetcode.com/problems/construct-string-from-binary-tree/)"
   ]
  }
 ],
 "metadata": {
  "kernelspec": {
   "display_name": "Python 3",
   "language": "python",
   "name": "python3"
  },
  "language_info": {
   "codemirror_mode": {
    "name": "ipython",
    "version": 3
   },
   "file_extension": ".py",
   "mimetype": "text/x-python",
   "name": "python",
   "nbconvert_exporter": "python",
   "pygments_lexer": "ipython3",
   "version": "3.8.5"
  }
 },
 "nbformat": 4,
 "nbformat_minor": 4
}
