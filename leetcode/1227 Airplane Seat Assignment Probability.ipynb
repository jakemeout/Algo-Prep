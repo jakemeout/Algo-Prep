{
 "cells": [
  {
   "cell_type": "markdown",
   "id": "ethical-innocent",
   "metadata": {},
   "source": [
    "Let $a_n$ be the probability that the $n$-th person can get his own seat.\n",
    "$$\\begin{array}{lll}\n",
    "a_1&=&1\\\\\n",
    "a_2&=&\\frac{1}{2}\\\\\n",
    "a_n&=&\\frac{1}{n}\\left(1+a_{n-1}+a_{n-2}+\\cdots+a_2+0\\right)\\quad\\text{for $n\\ge 3$}\n",
    "\\end{array}$$"
   ]
  },
  {
   "cell_type": "code",
   "execution_count": 1,
   "id": "atmospheric-atmosphere",
   "metadata": {},
   "outputs": [],
   "source": [
    "# use the recurrence relation\n",
    "class Solution:\n",
    "    def nthPersonGetsNthSeat(self, n: int) -> float:\n",
    "        if n == 1:\n",
    "            return 1.\n",
    "        if n == 2:\n",
    "            return 0.5\n",
    "        a = [None] * (n+1)\n",
    "        a[1], a[2] = 1., 0.5\n",
    "        cum_sum = 0\n",
    "        for i in range(3,n+1):\n",
    "            #a[i] = (1. + sum(a[2:i])) / i\n",
    "            cum_sum += a[i-1]\n",
    "            a[i] = (1. + cum_sum) / i\n",
    "        return a[n]"
   ]
  },
  {
   "cell_type": "markdown",
   "id": "orange-insertion",
   "metadata": {},
   "source": [
    "By induction\n",
    "$$\\begin{array}{lll}\n",
    "a_1&=&1\\\\\n",
    "a_n&=&\\frac{1}{2}\\quad\\text{for $n\\ge 2$}\n",
    "\\end{array}$$"
   ]
  },
  {
   "cell_type": "code",
   "execution_count": 2,
   "id": "seventh-liver",
   "metadata": {},
   "outputs": [],
   "source": [
    "# solve the recurrence relation\n",
    "class Solution:\n",
    "    def nthPersonGetsNthSeat(self, n: int) -> float:\n",
    "        if n == 1:\n",
    "            return 1.0\n",
    "        else:\n",
    "            return 0.5"
   ]
  },
  {
   "cell_type": "markdown",
   "id": "graphic-harris",
   "metadata": {},
   "source": [
    "# Reference\n",
    "\n",
    "[1227. Airplane Seat Assignment Probability](https://leetcode.com/problems/airplane-seat-assignment-probability/)\n",
    "\n",
    "[O(1) space, O(1) runtime with intuitive explanation.](https://leetcode.com/problems/airplane-seat-assignment-probability/discuss/407707/O(1)-space-O(1)-runtime-with-intuitive-explanation.)"
   ]
  }
 ],
 "metadata": {
  "kernelspec": {
   "display_name": "Python 3",
   "language": "python",
   "name": "python3"
  },
  "language_info": {
   "codemirror_mode": {
    "name": "ipython",
    "version": 3
   },
   "file_extension": ".py",
   "mimetype": "text/x-python",
   "name": "python",
   "nbconvert_exporter": "python",
   "pygments_lexer": "ipython3",
   "version": "3.7.10"
  }
 },
 "nbformat": 4,
 "nbformat_minor": 5
}
