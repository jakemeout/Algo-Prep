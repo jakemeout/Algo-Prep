{
 "cells": [
  {
   "cell_type": "markdown",
   "metadata": {},
   "source": [
    "32비트 이진수 나누기 사용해야 할 것 같음\n",
    "\n",
    "현재 솔루션 마음에 안들음"
   ]
  },
  {
   "cell_type": "code",
   "execution_count": 67,
   "metadata": {},
   "outputs": [],
   "source": [
    "class Solution:\n",
    "    def divide(self, dividend: int, divisor: int) -> int:\n",
    "        a, b = abs(dividend), abs(divisor)\n",
    "        try:\n",
    "            if range(0, a, b)[-1] == (a-b):\n",
    "                result = len(range(0, a, b))\n",
    "            else:\n",
    "                result = len(range(0, a, b)) - 1\n",
    "        except IndexError:\n",
    "            result = 0\n",
    "        negative_sign_flag = (dividend < 0) ^ (divisor < 0)\n",
    "        if negative_sign_flag: return -min(result, 2147483648)\n",
    "        else: return min(result, 2147483647)"
   ]
  },
  {
   "cell_type": "code",
   "execution_count": 68,
   "metadata": {},
   "outputs": [
    {
     "data": {
      "text/plain": [
       "3"
      ]
     },
     "execution_count": 68,
     "metadata": {},
     "output_type": "execute_result"
    }
   ],
   "source": [
    "dividend = 10\n",
    "divisor = 3\n",
    "Solution().divide(dividend, divisor)"
   ]
  },
  {
   "cell_type": "code",
   "execution_count": 69,
   "metadata": {},
   "outputs": [
    {
     "data": {
      "text/plain": [
       "-2"
      ]
     },
     "execution_count": 69,
     "metadata": {},
     "output_type": "execute_result"
    }
   ],
   "source": [
    "dividend = 7\n",
    "divisor = -3\n",
    "Solution().divide(dividend, divisor)"
   ]
  },
  {
   "cell_type": "code",
   "execution_count": 70,
   "metadata": {},
   "outputs": [
    {
     "data": {
      "text/plain": [
       "0"
      ]
     },
     "execution_count": 70,
     "metadata": {},
     "output_type": "execute_result"
    }
   ],
   "source": [
    "dividend = 0\n",
    "divisor = 1\n",
    "Solution().divide(dividend, divisor)"
   ]
  },
  {
   "cell_type": "code",
   "execution_count": 71,
   "metadata": {},
   "outputs": [
    {
     "data": {
      "text/plain": [
       "1"
      ]
     },
     "execution_count": 71,
     "metadata": {},
     "output_type": "execute_result"
    }
   ],
   "source": [
    "dividend = 1\n",
    "divisor = 1\n",
    "Solution().divide(dividend, divisor)"
   ]
  },
  {
   "cell_type": "code",
   "execution_count": 72,
   "metadata": {},
   "outputs": [
    {
     "data": {
      "text/plain": [
       "-1"
      ]
     },
     "execution_count": 72,
     "metadata": {},
     "output_type": "execute_result"
    }
   ],
   "source": [
    "dividend = -1\n",
    "divisor = 1\n",
    "Solution().divide(dividend, divisor)"
   ]
  },
  {
   "cell_type": "code",
   "execution_count": 73,
   "metadata": {},
   "outputs": [
    {
     "data": {
      "text/plain": [
       "-2147483648"
      ]
     },
     "execution_count": 73,
     "metadata": {},
     "output_type": "execute_result"
    }
   ],
   "source": [
    "dividend = -2147483648\n",
    "divisor = 1\n",
    "Solution().divide(dividend, divisor)"
   ]
  },
  {
   "cell_type": "code",
   "execution_count": null,
   "metadata": {},
   "outputs": [],
   "source": [
    "class Solution:\n",
    "    def divide(self, dividend: int, divisor: int) -> int:\n",
    "        a, b = abs(dividend), abs(divisor)\n",
    "        try:\n",
    "            if range(0, a, b)[-1] == (a-b):\n",
    "                result = len(range(0, a, b))\n",
    "            else:\n",
    "                result = len(range(0, a, b)) - 1\n",
    "        except IndexError:\n",
    "            result = 0\n",
    "        negative_sign_flag = (dividend < 0) ^ (divisor < 0)\n",
    "        if negative_sign_flag: return -min(result, 2147483648)\n",
    "        else: return min(result, 2147483647)\n",
    "    def posive_binary_representation_32(self, positive_int):\n",
    "        \"\"\"\n",
    "        32 bits binary representation of positive integer which use 31 bits only  \n",
    "        \"\"\"\n",
    "        s = format(positive_int,'b')\n",
    "        s_list = list(s)[-31:] # <--- use 31 bits\n",
    "        for _ in range(len(s_list),32):\n",
    "            s_list.insert(0,'0')\n",
    "        return ''.join(s_list)\n",
    "    def posive_binary_representation_32_extended(self, positive_int):\n",
    "        \"\"\"\n",
    "        32 bits binary representation of positive integer which use 32 bits to represent 2^32  \n",
    "        \"\"\"\n",
    "        s = format(positive_int,'b')\n",
    "        s_list = list(s)[-32:] # <--- use 32 bits to represent 2^32\n",
    "        for _ in range(len(s_list),32):\n",
    "            s_list.insert(0,'0')\n",
    "        return ''.join(s_list)\n",
    "    def add_one_bite_str(self, bite_str):\n",
    "        \"\"\"\n",
    "        add 1 to 1 bit binary\n",
    "        \"\"\"\n",
    "        if bite_str == '0': return '1', False # result, transport_flag \n",
    "        else: return '0', True # result, transport_flag \n",
    "    def add_one_32(self, int_32_str):\n",
    "        \"\"\"\n",
    "        add 1 to 32 bits binary\n",
    "        \"\"\"\n",
    "        s_list = list(int_32_str) \n",
    "        transport_flag = True\n",
    "        for idx in range(32-1,-1,-1):\n",
    "            if transport_flag:\n",
    "                s_list[idx], transport_flag = self.add_one_bite_str(s_list[idx])\n",
    "            else:\n",
    "                transport_flag = False  \n",
    "        return ''.join(s_list)\n",
    "    def negative_binary_representation_32(self, negative_int):\n",
    "        \"\"\"\n",
    "        32 bits binary representation of negative integer\n",
    "        \"\"\"\n",
    "        s = posive_binary_representation_32_extended(-negative_int)\n",
    "        return self.add_one_32(s)\n",
    "    def greater_or_equal_to_32(self, dividend_32, divisor_32):\n",
    "        \"\"\"\n",
    "        flag of dividend_32 >= divisor_32\n",
    "        \"\"\"\n",
    "        if len(dividend_32) > len(divisor_32): return True\n",
    "        if len(dividend_32) < len(divisor_32): return False\n",
    "        for idx in range(len(dividend_32)):\n",
    "            if dividend_32[idx] != divisor_32[idx]:\n",
    "                if dividend_32[idx] == '1': return True\n",
    "                return False\n",
    "    def sub_32(self, dividend_32, divisor_32):\n",
    "        \"\"\"\n",
    "        dividend_32 - divisor_32\n",
    "        \"\"\"\n",
    "        if len(dividend_32) > len(divisor_32): return True\n",
    "        if len(dividend_32) < len(divisor_32): return False\n",
    "        for idx in range(len(dividend_32)):\n",
    "            if dividend_32[idx] != divisor_32[idx]:\n",
    "                if dividend_32[idx] == '1': return True\n",
    "                return False\n",
    "                \n",
    "        \n",
    "    def divide_32(self, dividend_32, divisor_32):\n",
    "    \n",
    "        "
   ]
  },
  {
   "cell_type": "markdown",
   "metadata": {},
   "source": [
    "# Reference\n",
    "\n",
    "[29. Divide Two Integers](https://leetcode.com/problems/divide-two-integers/)\n",
    "\n",
    "[Twos complement: Negative numbers in binary](https://www.youtube.com/watch?v=4qH4unVtJkE)"
   ]
  },
  {
   "cell_type": "code",
   "execution_count": null,
   "metadata": {},
   "outputs": [],
   "source": []
  },
  {
   "cell_type": "code",
   "execution_count": null,
   "metadata": {},
   "outputs": [],
   "source": []
  }
 ],
 "metadata": {
  "kernelspec": {
   "display_name": "Python 3",
   "language": "python",
   "name": "python3"
  },
  "language_info": {
   "codemirror_mode": {
    "name": "ipython",
    "version": 3
   },
   "file_extension": ".py",
   "mimetype": "text/x-python",
   "name": "python",
   "nbconvert_exporter": "python",
   "pygments_lexer": "ipython3",
   "version": "3.8.5"
  }
 },
 "nbformat": 4,
 "nbformat_minor": 4
}
