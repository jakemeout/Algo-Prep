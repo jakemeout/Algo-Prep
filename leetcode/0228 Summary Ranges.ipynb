{
 "cells": [
  {
   "cell_type": "code",
   "execution_count": 13,
   "metadata": {},
   "outputs": [],
   "source": [
    "# recursion\n",
    "class Solution:\n",
    "    def summaryRanges(self, nums):\n",
    "        # base cases\n",
    "        if nums == []:\n",
    "            return []\n",
    "        if len(nums) == 1:\n",
    "            return [str(nums[0])]\n",
    "        # recursion steps  \n",
    "        for idx, num in enumerate(nums):\n",
    "            if idx == 0:\n",
    "                target = num\n",
    "            else:\n",
    "                target += 1\n",
    "                \n",
    "            if num != target:\n",
    "                if idx == 1:\n",
    "                    first = [str(nums[0])]\n",
    "                else:\n",
    "                    first = [str(nums[0]) + '->' + str(nums[idx-1])]\n",
    "                last = self.summaryRanges(nums[idx:])\n",
    "                return first + last \n",
    "            elif idx == len(nums) - 1: # elif num == target and idx == len(nums) - 1:\n",
    "                return [str(nums[0]) + '->' + str(nums[-1])]"
   ]
  },
  {
   "cell_type": "code",
   "execution_count": null,
   "metadata": {},
   "outputs": [],
   "source": [
    "# sliding windows\n",
    "class Solution:\n",
    "    def summaryRanges(self, nums: List[int]) -> List[str]:\n",
    "        # base cases\n",
    "        if nums == []:\n",
    "            return []\n",
    "        # sliding windows\n",
    "        ans = []\n",
    "        l = r = nums[0]\n",
    "        for i in range(1,len(nums)):\n",
    "            if nums[i] == nums[i-1] + 1:\n",
    "                r = nums[i]\n",
    "            else:\n",
    "                if l == r:\n",
    "                    ans.append(f\"{l}\")\n",
    "                else:\n",
    "                    ans.append(f\"{l}->{r}\")\n",
    "                l = r = nums[i]\n",
    "        if l == r:\n",
    "            ans.append(f\"{l}\")\n",
    "        else:\n",
    "            ans.append(f\"{l}->{r}\")\n",
    "        return ans"
   ]
  },
  {
   "cell_type": "code",
   "execution_count": 14,
   "metadata": {},
   "outputs": [
    {
     "data": {
      "text/plain": [
       "['8->9']"
      ]
     },
     "execution_count": 14,
     "metadata": {},
     "output_type": "execute_result"
    }
   ],
   "source": [
    "nums = [8,9]\n",
    "Solution().summaryRanges(nums)"
   ]
  },
  {
   "cell_type": "code",
   "execution_count": 15,
   "metadata": {},
   "outputs": [
    {
     "data": {
      "text/plain": [
       "['0', '2->4', '6', '8->9']"
      ]
     },
     "execution_count": 15,
     "metadata": {},
     "output_type": "execute_result"
    }
   ],
   "source": [
    "nums = [0,2,3,4,6,8,9]\n",
    "Solution().summaryRanges(nums)"
   ]
  },
  {
   "cell_type": "markdown",
   "metadata": {},
   "source": [
    "# Reference\n",
    "\n",
    "[228. Summary Ranges](https://leetcode.com/problems/summary-ranges/)\n",
    "\n",
    "[Summary Ranges (Leetcode 228)](https://www.youtube.com/watch?v=vSgLDM94tfc&list=PL_lPC-CADCvSRKTJcAxtkJEGuP87K3E2J&index=5)\n",
    "\n",
    "[Python3 simple, easy to understand solution](https://leetcode.com/problems/summary-ranges/discuss/1247770/Python3-simple-easy-to-understand-solution)"
   ]
  },
  {
   "cell_type": "code",
   "execution_count": null,
   "metadata": {},
   "outputs": [],
   "source": []
  }
 ],
 "metadata": {
  "kernelspec": {
   "display_name": "Python 3",
   "language": "python",
   "name": "python3"
  },
  "language_info": {
   "codemirror_mode": {
    "name": "ipython",
    "version": 3
   },
   "file_extension": ".py",
   "mimetype": "text/x-python",
   "name": "python",
   "nbconvert_exporter": "python",
   "pygments_lexer": "ipython3",
   "version": "3.8.5"
  }
 },
 "nbformat": 4,
 "nbformat_minor": 4
}
