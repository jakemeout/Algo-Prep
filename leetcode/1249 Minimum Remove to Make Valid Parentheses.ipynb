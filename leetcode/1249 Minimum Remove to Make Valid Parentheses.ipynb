{
 "cells": [
  {
   "cell_type": "code",
   "execution_count": 5,
   "metadata": {},
   "outputs": [],
   "source": [
    "class Solution:\n",
    "    def minRemoveToMakeValid(self, s: str) -> str:\n",
    "        ans = \"\"\n",
    "        # create stack to store un-paired parentheses as (idx, parenthese)\n",
    "        stack = []\n",
    "        #print(ans, stack)\n",
    "        for i, val in enumerate(s):\n",
    "            if val == '(':\n",
    "                stack.append((i, val))\n",
    "            elif val == ')':\n",
    "                if stack and stack[-1][1] == '(':\n",
    "                    stack.pop()\n",
    "                else:\n",
    "                    stack.append((i, val))\n",
    "            #print(ans, stack)\n",
    "        # remove un-paired parentheses \n",
    "        un_paired_parentheses_indices = set(i[0] for i in stack)\n",
    "        for i, val in enumerate(s):\n",
    "            if i not in un_paired_parentheses_indices:\n",
    "                ans += val\n",
    "                #print(ans, stack)\n",
    "        return ans"
   ]
  },
  {
   "cell_type": "code",
   "execution_count": 6,
   "metadata": {},
   "outputs": [
    {
     "data": {
      "text/plain": [
       "'ab(c)d'"
      ]
     },
     "execution_count": 6,
     "metadata": {},
     "output_type": "execute_result"
    }
   ],
   "source": [
    "s = \"a)b(c)d\"\n",
    "Solution().minRemoveToMakeValid(s)"
   ]
  },
  {
   "cell_type": "markdown",
   "metadata": {},
   "source": [
    "# Reference\n",
    "\n",
    "[1249. Minimum Remove to Make Valid Parentheses](https://leetcode.com/problems/minimum-remove-to-make-valid-parentheses/)\n",
    "\n",
    "[Python simplest solution by using stack](https://leetcode.com/problems/minimum-remove-to-make-valid-parentheses/discuss/1265638/Python-simplest-solution-by-using-stack)"
   ]
  }
 ],
 "metadata": {
  "kernelspec": {
   "display_name": "Python 3",
   "language": "python",
   "name": "python3"
  },
  "language_info": {
   "codemirror_mode": {
    "name": "ipython",
    "version": 3
   },
   "file_extension": ".py",
   "mimetype": "text/x-python",
   "name": "python",
   "nbconvert_exporter": "python",
   "pygments_lexer": "ipython3",
   "version": "3.8.5"
  }
 },
 "nbformat": 4,
 "nbformat_minor": 4
}
