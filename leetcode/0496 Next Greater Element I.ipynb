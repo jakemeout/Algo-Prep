{
 "cells": [
  {
   "cell_type": "code",
   "execution_count": 5,
   "metadata": {},
   "outputs": [],
   "source": [
    "class Solution:\n",
    "    def nextGreaterElement(self, nums1, nums2):\n",
    "        ans = [None] * len(nums1)\n",
    "        for idx, num in enumerate(nums1):\n",
    "            flag = False\n",
    "            for x in nums2:\n",
    "                # First we have to find num in nums2\n",
    "                if x == num:\n",
    "                    flag = True\n",
    "                # After we find num in nums2\n",
    "                # if we find x > num, we record ans[idx] = x\n",
    "                if x > num and flag:\n",
    "                    ans[idx] = x\n",
    "                    break\n",
    "            # otherwise, we record ans[idx] = -1\n",
    "            else:\n",
    "                ans[idx] = -1\n",
    "        return ans"
   ]
  },
  {
   "cell_type": "code",
   "execution_count": 6,
   "metadata": {},
   "outputs": [
    {
     "data": {
      "text/plain": [
       "[-1, 3, -1]"
      ]
     },
     "execution_count": 6,
     "metadata": {},
     "output_type": "execute_result"
    }
   ],
   "source": [
    "nums1 = [4,1,2]\n",
    "nums2 = [1,3,4,2]\n",
    "Solution().nextGreaterElement(nums1, nums2) # [-1,3,-1]"
   ]
  },
  {
   "cell_type": "markdown",
   "metadata": {},
   "source": [
    "# Reference\n",
    "\n",
    "[496. Next Greater Element I](https://leetcode.com/problems/next-greater-element-i/)\n",
    "\n",
    "[LeetCode Next Greater Element I Solution Explained - Java](https://www.youtube.com/watch?v=8BDKB2yuGyg)"
   ]
  }
 ],
 "metadata": {
  "kernelspec": {
   "display_name": "Python 3",
   "language": "python",
   "name": "python3"
  },
  "language_info": {
   "codemirror_mode": {
    "name": "ipython",
    "version": 3
   },
   "file_extension": ".py",
   "mimetype": "text/x-python",
   "name": "python",
   "nbconvert_exporter": "python",
   "pygments_lexer": "ipython3",
   "version": "3.8.5"
  }
 },
 "nbformat": 4,
 "nbformat_minor": 4
}
