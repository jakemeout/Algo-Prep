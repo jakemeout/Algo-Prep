{
 "cells": [
  {
   "cell_type": "code",
   "execution_count": 11,
   "metadata": {},
   "outputs": [],
   "source": [
    "class Solution:\n",
    "    def reformatNumber(self, number: str) -> str:\n",
    "        # Firstly, remove all spaces and dashes.\n",
    "        for i in [' ','-']:\n",
    "            number = number.replace(i, '')\n",
    "        #print(number)\n",
    "        # Group the digits from left to right into blocks of length 3 until there are 4 or fewer digits. \n",
    "        lst = []\n",
    "        for i in range(0,len(number),3):\n",
    "            lst.append(number[i:i+3])\n",
    "        #print(lst)\n",
    "        # The final digits are then grouped as follows:\n",
    "        # 2 digits: A single block of length 2.\n",
    "        # 3 digits: A single block of length 3.\n",
    "        # 4 digits: Two blocks of length 2 each.\n",
    "        if len(lst[-1]) == 1:\n",
    "            lst[-2] = lst[-2] + lst[-1]\n",
    "            lst[-2] = lst[-2][:2] + '-' + lst[-2][2:]\n",
    "            lst.pop()\n",
    "        # construct reformat number out\n",
    "        out = ''\n",
    "        for num in lst:\n",
    "            out += num + '-'\n",
    "        return out[:-1]"
   ]
  },
  {
   "cell_type": "code",
   "execution_count": 12,
   "metadata": {},
   "outputs": [
    {
     "data": {
      "text/plain": [
       "'123-456'"
      ]
     },
     "execution_count": 12,
     "metadata": {},
     "output_type": "execute_result"
    }
   ],
   "source": [
    "number = \"1-23-45 6\"\n",
    "Solution().reformatNumber(number)"
   ]
  },
  {
   "cell_type": "markdown",
   "metadata": {},
   "source": [
    "# Reference\n",
    "\n",
    "[1694. Reformat Phone Number](https://leetcode.com/problems/reformat-phone-number/)"
   ]
  }
 ],
 "metadata": {
  "kernelspec": {
   "display_name": "Python 3",
   "language": "python",
   "name": "python3"
  },
  "language_info": {
   "codemirror_mode": {
    "name": "ipython",
    "version": 3
   },
   "file_extension": ".py",
   "mimetype": "text/x-python",
   "name": "python",
   "nbconvert_exporter": "python",
   "pygments_lexer": "ipython3",
   "version": "3.8.5"
  }
 },
 "nbformat": 4,
 "nbformat_minor": 4
}
