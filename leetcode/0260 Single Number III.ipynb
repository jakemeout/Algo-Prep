{
 "cells": [
  {
   "cell_type": "code",
   "execution_count": 5,
   "metadata": {},
   "outputs": [],
   "source": [
    "from functools import reduce\n",
    "from operator import xor\n",
    "class Solution:\n",
    "    def singleNumber(self, nums):\n",
    "        \"\"\"\n",
    "        :type nums: List[int]\n",
    "        :rtype: List[int]\n",
    "        \"\"\"\n",
    "        xy = reduce(xor, nums)\n",
    "        only_one_1 = xy & (xy-1) ^ xy\n",
    "        x = reduce(xor, filter(lambda n: n & only_one_1, nums))\n",
    "        return x, xy^x"
   ]
  },
  {
   "cell_type": "code",
   "execution_count": 6,
   "metadata": {},
   "outputs": [
    {
     "name": "stdout",
     "output_type": "stream",
     "text": [
      "6\n"
     ]
    }
   ],
   "source": [
    "nums = [1,2,1,3,2,5]\n",
    "Solution().singleNumber(nums)"
   ]
  },
  {
   "cell_type": "markdown",
   "metadata": {},
   "source": [
    "# Reference\n",
    "\n",
    "[260. Single Number III](https://leetcode.com/problems/single-number-iii/)\n",
    "\n",
    "[Single Number iii | LeetCode 260 | C++, Java, Python3](https://www.youtube.com/watch?v=L-EaPf5tD5A)\n",
    "\n",
    "[[Python] 4 Lines, O(n) time, O(1) space, explained](https://leetcode.com/problems/single-number-iii/discuss/750622/Python-4-Lines-O(n)-time-O(1)-space-explained)"
   ]
  }
 ],
 "metadata": {
  "kernelspec": {
   "display_name": "Python 3",
   "language": "python",
   "name": "python3"
  },
  "language_info": {
   "codemirror_mode": {
    "name": "ipython",
    "version": 3
   },
   "file_extension": ".py",
   "mimetype": "text/x-python",
   "name": "python",
   "nbconvert_exporter": "python",
   "pygments_lexer": "ipython3",
   "version": "3.8.5"
  }
 },
 "nbformat": 4,
 "nbformat_minor": 4
}
