{
 "cells": [
  {
   "cell_type": "code",
   "execution_count": null,
   "metadata": {},
   "outputs": [],
   "source": [
    "# Definition for a binary tree node.\n",
    "class TreeNode:\n",
    "    def __init__(self, val=0, left=None, right=None):\n",
    "        self.val = val\n",
    "        self.left = left\n",
    "        self.right = right"
   ]
  },
  {
   "cell_type": "code",
   "execution_count": null,
   "metadata": {},
   "outputs": [],
   "source": [
    "class Solution:\n",
    "    def averageOfLevels(self, root: TreeNode):\n",
    "        out = []\n",
    "        lst = self.computeSumNumberOfLevels(root)\n",
    "        for sum_level, num_level in lst:\n",
    "            out.append(sum_level/num_level)\n",
    "        return out\n",
    "    def computeSumNumberOfLevels(self, root: TreeNode):\n",
    "        \"\"\"\n",
    "        s_i : sum of all values in level i\n",
    "        n_i : number of all nodes in level i\n",
    "        [[s_0,n_0],[s_1,n_1],...,[s_k,n_k]]\n",
    "        \"\"\"\n",
    "        # base cases\n",
    "        if root.left is None and root.right is None:\n",
    "            return [[root.val, 1]]\n",
    "        # recursion steps\n",
    "        out = [[root.val, 1]]\n",
    "        if root.left is not None:\n",
    "            out += self.computeSumNumberOfLevels(root.left)\n",
    "        if root.right is not None:\n",
    "            right = self.computeSumNumberOfLevels(root.right)\n",
    "            for idx, (level_sum, level_num) in enumerate(right):\n",
    "                if idx+1 < len(out):\n",
    "                    out[idx+1][0] += level_sum\n",
    "                    out[idx+1][1] += level_num\n",
    "                else:\n",
    "                    out.append([level_sum, level_num])\n",
    "        return out"
   ]
  },
  {
   "cell_type": "markdown",
   "metadata": {},
   "source": [
    "# Reference\n",
    "\n",
    "[637. Average of Levels in Binary Tree](https://leetcode.com/problems/average-of-levels-in-binary-tree/)"
   ]
  },
  {
   "cell_type": "code",
   "execution_count": null,
   "metadata": {},
   "outputs": [],
   "source": []
  }
 ],
 "metadata": {
  "kernelspec": {
   "display_name": "Python 3",
   "language": "python",
   "name": "python3"
  },
  "language_info": {
   "codemirror_mode": {
    "name": "ipython",
    "version": 3
   },
   "file_extension": ".py",
   "mimetype": "text/x-python",
   "name": "python",
   "nbconvert_exporter": "python",
   "pygments_lexer": "ipython3",
   "version": "3.8.5"
  }
 },
 "nbformat": 4,
 "nbformat_minor": 4
}
