{
 "cells": [
  {
   "cell_type": "code",
   "execution_count": null,
   "metadata": {},
   "outputs": [],
   "source": [
    "# Definition for a binary tree node.\n",
    "class TreeNode:\n",
    "    def __init__(self, val=0, left=None, right=None):\n",
    "        self.val = val\n",
    "        self.left = left\n",
    "        self.right = right"
   ]
  },
  {
   "cell_type": "code",
   "execution_count": null,
   "metadata": {},
   "outputs": [],
   "source": [
    "class Solution:\n",
    "    def findSecondMinimumValue(self, root: TreeNode) -> int:\n",
    "        # base cases\n",
    "        # no node\n",
    "        if root is None:\n",
    "            return -1\n",
    "        # leaf node\n",
    "        if root.left is None and root.right is None:\n",
    "            return -1    \n",
    "        # recursion steps\n",
    "        if root.left is not None and root.right is None:\n",
    "            if root.left.val != root.val:\n",
    "                return root.left.val\n",
    "            return self.findSecondMinimumValue(root.left)\n",
    "        if root.left is None and root.right is not None:\n",
    "            if root.right.val != root.val:\n",
    "                return root.right.val\n",
    "            return self.findSecondMinimumValue(root.right)\n",
    "        if root.left is not None and root.right is not None:\n",
    "            if max(root.right.val, root.left.val) != root.val:\n",
    "                if root.left.val == min(root.right.val, root.left.val):\n",
    "                    return self.computeMinExcludingOneMinusOne(self.findSecondMinimumValue(root.left), \n",
    "                                                               root.right.val)\n",
    "                else:\n",
    "                    return self.computeMinExcludingOneMinusOne(self.findSecondMinimumValue(root.right), \n",
    "                                                               root.left.val)\n",
    "            else:\n",
    "                return self.computeMinExcludingOneMinusOne(self.findSecondMinimumValue(root.left),\n",
    "                                                           self.findSecondMinimumValue(root.right))\n",
    "    def computeMinExcludingOneMinusOne(self, a, b):\n",
    "        \"\"\"\n",
    "        compute min(a,b) : self.computeMinExcludingOneMinusOne(3, 5) = 3\n",
    "        you can ignore one -1 if any : self.computeMinExcludingOneMinusOne(-1, 5) = 5 \n",
    "        however, you cannot ignore both -1 : self.computeMinExcludingOneMinusOne(-1, -1) = -1 \n",
    "        \"\"\"\n",
    "        if a == -1: return b\n",
    "        if b == -1: return a\n",
    "        return min(a, b)"
   ]
  },
  {
   "cell_type": "markdown",
   "metadata": {},
   "source": [
    "# Reference\n",
    "\n",
    "[671. Second Minimum Node In a Binary Tree](https://leetcode.com/problems/second-minimum-node-in-a-binary-tree/)"
   ]
  }
 ],
 "metadata": {
  "kernelspec": {
   "display_name": "Python 3",
   "language": "python",
   "name": "python3"
  },
  "language_info": {
   "codemirror_mode": {
    "name": "ipython",
    "version": 3
   },
   "file_extension": ".py",
   "mimetype": "text/x-python",
   "name": "python",
   "nbconvert_exporter": "python",
   "pygments_lexer": "ipython3",
   "version": "3.8.5"
  }
 },
 "nbformat": 4,
 "nbformat_minor": 4
}
