{
 "cells": [
  {
   "cell_type": "code",
   "execution_count": null,
   "metadata": {},
   "outputs": [],
   "source": [
    "# Definition for a binary tree node.\n",
    "class TreeNode:\n",
    "    def __init__(self, val=0, left=None, right=None):\n",
    "        self.val = val\n",
    "        self.left = left\n",
    "        self.right = right"
   ]
  },
  {
   "cell_type": "code",
   "execution_count": null,
   "metadata": {},
   "outputs": [],
   "source": [
    "# recursion\n",
    "class Solution:\n",
    "    def postorderTraversal(self, root: TreeNode):\n",
    "        if root is None:\n",
    "            return []\n",
    "        return self.postorderTraversal(root.left) + self.postorderTraversal(root.right) + [root.val]"
   ]
  },
  {
   "cell_type": "code",
   "execution_count": null,
   "metadata": {},
   "outputs": [],
   "source": [
    "# iteration\n",
    "class Solution:\n",
    "    def postorderTraversal(self, root: TreeNode):\n",
    "        if root is None:\n",
    "            return []\n",
    "        stack = [root]\n",
    "        out = []\n",
    "        while stack:\n",
    "            cur = stack.pop()\n",
    "            out.append(cur.val)\n",
    "            if cur.left: \n",
    "                stack.append(cur.left) \n",
    "            if cur.right: \n",
    "                stack.append(cur.right) \n",
    "        return out[::-1]"
   ]
  },
  {
   "cell_type": "markdown",
   "metadata": {},
   "source": [
    "# Reference\n",
    "\n",
    "[145. Binary Tree Postorder Traversal](https://leetcode.com/problems/binary-tree-postorder-traversal/)"
   ]
  },
  {
   "cell_type": "code",
   "execution_count": null,
   "metadata": {},
   "outputs": [],
   "source": []
  }
 ],
 "metadata": {
  "kernelspec": {
   "display_name": "Python 3",
   "language": "python",
   "name": "python3"
  },
  "language_info": {
   "codemirror_mode": {
    "name": "ipython",
    "version": 3
   },
   "file_extension": ".py",
   "mimetype": "text/x-python",
   "name": "python",
   "nbconvert_exporter": "python",
   "pygments_lexer": "ipython3",
   "version": "3.8.5"
  }
 },
 "nbformat": 4,
 "nbformat_minor": 4
}
