{
 "cells": [
  {
   "cell_type": "code",
   "execution_count": null,
   "metadata": {},
   "outputs": [],
   "source": [
    "class Solution:\n",
    "    def reorderSpaces(self, text: str) -> str:\n",
    "        # count empty spaces\n",
    "        count = 0\n",
    "        for char in text:\n",
    "            if char == ' ':\n",
    "                count += 1\n",
    "        if count == 0:\n",
    "            return text\n",
    "        # count number of words\n",
    "        lst = text.split()\n",
    "        num = len(lst)\n",
    "        # build reorder spaces text\n",
    "        if num != 1:\n",
    "            return (' '*(count//(num-1))).join(lst) + ' '*(count%(num-1))\n",
    "        else:\n",
    "            return lst[0] + ' '*count"
   ]
  },
  {
   "cell_type": "markdown",
   "metadata": {},
   "source": [
    "# Reference\n",
    "\n",
    "[1592. Rearrange Spaces Between Words](https://leetcode.com/problems/rearrange-spaces-between-words/)"
   ]
  }
 ],
 "metadata": {
  "kernelspec": {
   "display_name": "Python 3",
   "language": "python",
   "name": "python3"
  },
  "language_info": {
   "codemirror_mode": {
    "name": "ipython",
    "version": 3
   },
   "file_extension": ".py",
   "mimetype": "text/x-python",
   "name": "python",
   "nbconvert_exporter": "python",
   "pygments_lexer": "ipython3",
   "version": "3.8.5"
  }
 },
 "nbformat": 4,
 "nbformat_minor": 4
}
