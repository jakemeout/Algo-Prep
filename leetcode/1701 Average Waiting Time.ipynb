{
 "cells": [
  {
   "cell_type": "code",
   "execution_count": null,
   "metadata": {},
   "outputs": [],
   "source": [
    "class Solution:\n",
    "    def averageWaitingTime(self, customers):\n",
    "        \"\"\"\n",
    "        :type customers: List[List[int]]\n",
    "        :rtype: float\n",
    "        \"\"\"\n",
    "        total_waiting_time = 0\n",
    "        for i, (arrival_time, prepare_time) in enumerate(customers):\n",
    "            if i == 0:\n",
    "                dish_ready_time = arrival_time + prepare_time\n",
    "            else:\n",
    "                dish_ready_time = max(arrival_time, dish_ready_time) + prepare_time\n",
    "            total_waiting_time += dish_ready_time - arrival_time\n",
    "        return total_waiting_time / len(customers)"
   ]
  },
  {
   "cell_type": "markdown",
   "metadata": {},
   "source": [
    "# Reference\n",
    "\n",
    "[1701. Average Waiting Time](https://leetcode.com/problems/average-waiting-time/)"
   ]
  }
 ],
 "metadata": {
  "kernelspec": {
   "display_name": "Python 3",
   "language": "python",
   "name": "python3"
  },
  "language_info": {
   "codemirror_mode": {
    "name": "ipython",
    "version": 3
   },
   "file_extension": ".py",
   "mimetype": "text/x-python",
   "name": "python",
   "nbconvert_exporter": "python",
   "pygments_lexer": "ipython3",
   "version": "3.8.5"
  }
 },
 "nbformat": 4,
 "nbformat_minor": 4
}
