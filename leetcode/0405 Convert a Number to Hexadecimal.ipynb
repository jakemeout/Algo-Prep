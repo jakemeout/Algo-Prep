{
 "cells": [
  {
   "cell_type": "code",
   "execution_count": 17,
   "metadata": {},
   "outputs": [],
   "source": [
    "class Solution:\n",
    "    def toHex(self, num: int) -> str:\n",
    "        self.d2s, self.s2d = {}, {}\n",
    "        for d, s in zip(range(0,16),'0123456789abcdef'):\n",
    "            self.d2s[d] = s\n",
    "            self.s2d[s] = d\n",
    "        if num >= 0:\n",
    "            s = self.toHexPositive(num)\n",
    "            #print(s)\n",
    "            return self.removeLeadingZeros(s)\n",
    "        else:\n",
    "            return self.toHexNegative(num)\n",
    "    def toHexPositive(self, num):\n",
    "        \"\"\"\n",
    "        positive (non-negative) number ---> 8 bits hexadecimal representation string\n",
    "        \"\"\"\n",
    "        ans = ''\n",
    "        carry = num\n",
    "        while carry:\n",
    "            carry, res = divmod(carry, 16)\n",
    "            ans = self.d2s[res] + ans # hexadecimal representation string\n",
    "        return '0'*(8-len(ans)) + ans # 8 bits hexadecimal representation string\n",
    "    def toHexNegative(self, num):\n",
    "        \"\"\"\n",
    "        algorithm : two’s complement method\n",
    "        negative (strictly negative) number ---> 8 bits hexadecimal representation string\n",
    "        \"\"\"\n",
    "        s = self.toHexPositive(-num)\n",
    "        #print(s)\n",
    "        s_ = self.complementHex(s)\n",
    "        #print(s,s_, self.addOneHex(s_))\n",
    "        return self.addOneHex(s_)\n",
    "    def complementHex(self, s: str):\n",
    "        \"\"\"\n",
    "        bitwise complement\n",
    "        '0' ---> 'f'\n",
    "        '1' ---> 'e'\n",
    "        ...\n",
    "        'f' ---> '0'\n",
    "        \"\"\"\n",
    "        ans = ''\n",
    "        for char in s:\n",
    "            num = self.s2d[char]\n",
    "            ans += self.d2s[15-num] # bitwise complement\n",
    "        return ans\n",
    "    def addOneHex(self, s: str):\n",
    "        \"\"\"\n",
    "        add 1 in hexadecimal \n",
    "        \"\"\"\n",
    "        ans = ''\n",
    "        carry = 1\n",
    "        for char in s[::-1]:\n",
    "            num = self.s2d[char]\n",
    "            carry, res = divmod(carry+num,16)\n",
    "            ans = self.d2s[res] + ans\n",
    "        return ans\n",
    "    def removeLeadingZeros(self, s):\n",
    "        ans = ''\n",
    "        for idx, c in enumerate(s):\n",
    "            if c != '0':\n",
    "                ans = s[idx:] # remove leading zeros\n",
    "                break\n",
    "        if ans == '': # if s = '00000000', ans = ''\n",
    "            return '0' # in this case we should report '0'\n",
    "        else:\n",
    "            return ans   "
   ]
  },
  {
   "cell_type": "code",
   "execution_count": 18,
   "metadata": {},
   "outputs": [
    {
     "name": "stdout",
     "output_type": "stream",
     "text": [
      "0000001a\n"
     ]
    },
    {
     "data": {
      "text/plain": [
       "'1a'"
      ]
     },
     "execution_count": 18,
     "metadata": {},
     "output_type": "execute_result"
    }
   ],
   "source": [
    "num = 26\n",
    "Solution().toHex(num) # \"1a\""
   ]
  },
  {
   "cell_type": "markdown",
   "metadata": {},
   "source": [
    "# Reference\n",
    "\n",
    "[405. Convert a Number to Hexadecimal](https://leetcode.com/problems/convert-a-number-to-hexadecimal/)\n",
    "\n",
    "[Twos complement: Negative numbers in binary](https://www.youtube.com/watch?v=4qH4unVtJkE)"
   ]
  }
 ],
 "metadata": {
  "kernelspec": {
   "display_name": "Python 3",
   "language": "python",
   "name": "python3"
  },
  "language_info": {
   "codemirror_mode": {
    "name": "ipython",
    "version": 3
   },
   "file_extension": ".py",
   "mimetype": "text/x-python",
   "name": "python",
   "nbconvert_exporter": "python",
   "pygments_lexer": "ipython3",
   "version": "3.8.5"
  }
 },
 "nbformat": 4,
 "nbformat_minor": 4
}
