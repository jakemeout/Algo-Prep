{
 "cells": [
  {
   "cell_type": "code",
   "execution_count": 3,
   "metadata": {},
   "outputs": [],
   "source": [
    "class Solution:\n",
    "    def checkArithmeticSubarrays(self, nums, l, r):\n",
    "        \"\"\"\n",
    "        :type nums: List[int]\n",
    "        :type l: List[int]\n",
    "        :type r: List[int]\n",
    "        :rtype: List[bool]\n",
    "        \"\"\"\n",
    "        ans = []\n",
    "        for left, right in zip(l,r):\n",
    "            ans.append(self.isArithmeticSubarraysAfterRearrangement(nums[left:right+1]))\n",
    "        return ans\n",
    "    def isArithmeticSubarraysAfterRearrangement(self, lst):\n",
    "        if len(lst) <= 2:\n",
    "            return True\n",
    "        #print(lst)\n",
    "        lst.sort()\n",
    "        #print(lst)\n",
    "        d = lst[1] - lst[0]\n",
    "        cur = lst[1]\n",
    "        for item in lst[1:]:\n",
    "            if cur != item:\n",
    "                return False\n",
    "            cur += d\n",
    "        return True"
   ]
  },
  {
   "cell_type": "markdown",
   "metadata": {},
   "source": [
    "# Reference\n",
    "\n",
    "[1630. Arithmetic Subarrays](https://leetcode.com/problems/arithmetic-subarrays/)"
   ]
  },
  {
   "cell_type": "code",
   "execution_count": null,
   "metadata": {},
   "outputs": [],
   "source": []
  }
 ],
 "metadata": {
  "kernelspec": {
   "display_name": "Python 3",
   "language": "python",
   "name": "python3"
  },
  "language_info": {
   "codemirror_mode": {
    "name": "ipython",
    "version": 3
   },
   "file_extension": ".py",
   "mimetype": "text/x-python",
   "name": "python",
   "nbconvert_exporter": "python",
   "pygments_lexer": "ipython3",
   "version": "3.8.5"
  }
 },
 "nbformat": 4,
 "nbformat_minor": 4
}
