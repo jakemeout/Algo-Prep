{
 "cells": [
  {
   "cell_type": "code",
   "execution_count": 50,
   "metadata": {},
   "outputs": [],
   "source": [
    "class Solution:\n",
    "    def subsetXORSum(self, nums):\n",
    "        out = 0\n",
    "        powerSetList = self.powerSetList(nums)\n",
    "        for subsetList in powerSetList:\n",
    "            tmp = 0\n",
    "            for num in subsetList:\n",
    "                tmp ^= num\n",
    "            out += tmp   \n",
    "        return out\n",
    "    def powerSetList(self, nums):\n",
    "        if len(nums) == 1:\n",
    "            return [[],nums]\n",
    "        out = []\n",
    "        lst = self.powerSetList(nums[:-1])\n",
    "        for powerset in lst:\n",
    "            out.append(powerset)\n",
    "            tmp = powerset.copy()\n",
    "            tmp.append(nums[-1])\n",
    "            out.append(tmp)\n",
    "        return out"
   ]
  },
  {
   "cell_type": "code",
   "execution_count": 51,
   "metadata": {},
   "outputs": [
    {
     "data": {
      "text/plain": [
       "6"
      ]
     },
     "execution_count": 51,
     "metadata": {},
     "output_type": "execute_result"
    }
   ],
   "source": [
    "nums = [1,3]\n",
    "Solution().subsetXORSum(nums) # 6"
   ]
  },
  {
   "cell_type": "code",
   "execution_count": 33,
   "metadata": {},
   "outputs": [
    {
     "data": {
      "text/plain": [
       "6"
      ]
     },
     "execution_count": 33,
     "metadata": {},
     "output_type": "execute_result"
    }
   ],
   "source": [
    "(0)+(1)+(3)+(1^3)"
   ]
  },
  {
   "cell_type": "markdown",
   "metadata": {},
   "source": [
    "# Reference\n",
    "\n",
    "[1863. Sum of All Subset XOR Totals](https://leetcode.com/problems/sum-of-all-subset-xor-totals/)"
   ]
  }
 ],
 "metadata": {
  "kernelspec": {
   "display_name": "Python 3",
   "language": "python",
   "name": "python3"
  },
  "language_info": {
   "codemirror_mode": {
    "name": "ipython",
    "version": 3
   },
   "file_extension": ".py",
   "mimetype": "text/x-python",
   "name": "python",
   "nbconvert_exporter": "python",
   "pygments_lexer": "ipython3",
   "version": "3.8.5"
  }
 },
 "nbformat": 4,
 "nbformat_minor": 4
}
