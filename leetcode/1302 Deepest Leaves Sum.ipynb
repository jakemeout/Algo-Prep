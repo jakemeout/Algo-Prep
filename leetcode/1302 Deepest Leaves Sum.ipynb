{
 "cells": [
  {
   "cell_type": "code",
   "execution_count": null,
   "metadata": {},
   "outputs": [],
   "source": [
    "# Definition for a binary tree node.\n",
    "class TreeNode:\n",
    "    def __init__(self, val=0, left=None, right=None):\n",
    "        self.val = val\n",
    "        self.left = left\n",
    "        self.right = right"
   ]
  },
  {
   "cell_type": "code",
   "execution_count": null,
   "metadata": {},
   "outputs": [],
   "source": [
    "class Solution:\n",
    "    def deepestLeavesSum(self, root: TreeNode) -> int:\n",
    "        # base cases\n",
    "        # no root\n",
    "        if not root:\n",
    "            return 0\n",
    "        # no left, no right\n",
    "        elif (not root.left) and (not root.right):\n",
    "            return root.val\n",
    "        # recursion step\n",
    "        if (root.left) and (not root.right):\n",
    "            return self.deepestLeavesSum(root.left)\n",
    "        if (not root.left) and (root.right):\n",
    "            return self.deepestLeavesSum(root.right)\n",
    "        if (root.left) and (root.right):\n",
    "            if self.computeHeight(root.left) > self.computeHeight(root.right):\n",
    "                return self.deepestLeavesSum(root.left)\n",
    "            elif self.computeHeight(root.left) < self.computeHeight(root.right):\n",
    "                return self.deepestLeavesSum(root.right)\n",
    "            else:\n",
    "                return self.deepestLeavesSum(root.left) + self.deepestLeavesSum(root.right)\n",
    "    def computeHeight(self, root: TreeNode) -> int:\n",
    "        # base cases\n",
    "        # no root\n",
    "        if not root:\n",
    "            return 0\n",
    "        # no left, no right\n",
    "        elif (not root.left) and (not root.right):\n",
    "            return 1\n",
    "        # recursion step\n",
    "        if (root.left) and (not root.right):\n",
    "            return 1 + self.computeHeight(root.left)\n",
    "        if (not root.left) and (root.right):\n",
    "            return 1 + self.computeHeight(root.right)\n",
    "        if (root.left) and (root.right):\n",
    "            return 1 + max(self.computeHeight(root.left), self.computeHeight(root.right))"
   ]
  },
  {
   "cell_type": "markdown",
   "metadata": {},
   "source": [
    "# Reference\n",
    "\n",
    "[1302. Deepest Leaves Sum](https://leetcode.com/problems/deepest-leaves-sum/)"
   ]
  },
  {
   "cell_type": "code",
   "execution_count": null,
   "metadata": {},
   "outputs": [],
   "source": []
  },
  {
   "cell_type": "code",
   "execution_count": null,
   "metadata": {},
   "outputs": [],
   "source": []
  }
 ],
 "metadata": {
  "kernelspec": {
   "display_name": "Python 3",
   "language": "python",
   "name": "python3"
  },
  "language_info": {
   "codemirror_mode": {
    "name": "ipython",
    "version": 3
   },
   "file_extension": ".py",
   "mimetype": "text/x-python",
   "name": "python",
   "nbconvert_exporter": "python",
   "pygments_lexer": "ipython3",
   "version": "3.8.5"
  }
 },
 "nbformat": 4,
 "nbformat_minor": 4
}
