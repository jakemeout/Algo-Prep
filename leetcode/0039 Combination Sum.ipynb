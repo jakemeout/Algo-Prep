{
 "cells": [
  {
   "cell_type": "code",
   "execution_count": null,
   "metadata": {},
   "outputs": [],
   "source": [
    "class Solution:\n",
    "    def combinationSum(self, candidates, target):\n",
    "        \"\"\"\n",
    "        :type candidates: List[int]\n",
    "        :type target: int\n",
    "        :rtype: [List[int]]\n",
    "        \"\"\"\n",
    "        self.ans = []\n",
    "        self.dfs(candidates, target, [])\n",
    "        return self.ans\n",
    "    \n",
    "    def dfs(self, nums, target, path):\n",
    "        if target < 0:\n",
    "            return \n",
    "        if target == 0:\n",
    "            self.ans.append(path)\n",
    "            return \n",
    "        for i in range(len(nums)):\n",
    "            self.dfs(nums[i:], target-nums[i], path+[nums[i]])"
   ]
  },
  {
   "cell_type": "markdown",
   "metadata": {},
   "source": [
    "# Reference\n",
    "\n",
    "[39. Combination Sum](https://leetcode.com/problems/combination-sum/)\n",
    "\n",
    "[Python dfs solution.](https://leetcode.com/problems/combination-sum/discuss/16510/Python-dfs-solution.)\n",
    "\n",
    "[LeetCode Tutorial 39. Combination Sum](https://www.youtube.com/watch?v=irFtGMLbf-s)"
   ]
  }
 ],
 "metadata": {
  "kernelspec": {
   "display_name": "Python 3",
   "language": "python",
   "name": "python3"
  },
  "language_info": {
   "codemirror_mode": {
    "name": "ipython",
    "version": 3
   },
   "file_extension": ".py",
   "mimetype": "text/x-python",
   "name": "python",
   "nbconvert_exporter": "python",
   "pygments_lexer": "ipython3",
   "version": "3.8.5"
  }
 },
 "nbformat": 4,
 "nbformat_minor": 4
}
