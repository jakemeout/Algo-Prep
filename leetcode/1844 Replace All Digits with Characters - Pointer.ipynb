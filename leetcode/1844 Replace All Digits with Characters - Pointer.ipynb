{
 "cells": [
  {
   "cell_type": "code",
   "execution_count": null,
   "metadata": {},
   "outputs": [],
   "source": [
    "class Solution:\n",
    "    def replaceDigits(self, s: str) -> str:\n",
    "        # s's length may not be even\n",
    "        # by truncating  make its lenth even and call remaining piece leftover\n",
    "        s, leftover = s[:(len(s)//2)*2], s[(len(s)//2)*2:] \n",
    "        out = ''\n",
    "        for i in range(0,len(s),2):\n",
    "            char_input, x_shift = s[i:i+2]\n",
    "            x_shift = int(x_shift)\n",
    "            shifted_char = self.shift(char_input, x_shift) \n",
    "            out += char_input + shifted_char\n",
    "        return out + leftover        \n",
    "    def shift(self, char_input: str, x_shift: int) -> str:\n",
    "        import string\n",
    "        for idx, char in enumerate(string.ascii_lowercase):\n",
    "            if char == char_input:\n",
    "                idx_new = idx + x_shift\n",
    "                if idx_new <= len(string.ascii_lowercase)-1:\n",
    "                    return string.ascii_lowercase[idx_new] \n",
    "                return 'z'"
   ]
  },
  {
   "cell_type": "markdown",
   "metadata": {},
   "source": [
    "# Reference\n",
    "\n",
    "[1844. Replace All Digits with Characters](https://leetcode.com/problems/replace-all-digits-with-characters/)"
   ]
  },
  {
   "cell_type": "code",
   "execution_count": null,
   "metadata": {},
   "outputs": [],
   "source": []
  }
 ],
 "metadata": {
  "kernelspec": {
   "display_name": "Python 3",
   "language": "python",
   "name": "python3"
  },
  "language_info": {
   "codemirror_mode": {
    "name": "ipython",
    "version": 3
   },
   "file_extension": ".py",
   "mimetype": "text/x-python",
   "name": "python",
   "nbconvert_exporter": "python",
   "pygments_lexer": "ipython3",
   "version": "3.8.5"
  }
 },
 "nbformat": 4,
 "nbformat_minor": 4
}
