{
 "cells": [
  {
   "cell_type": "code",
   "execution_count": null,
   "metadata": {},
   "outputs": [],
   "source": [
    "class Solution:\n",
    "    def uncommonFromSentences(self, s1, s2):\n",
    "        # construct counter dict d1 and d2\n",
    "        s1, s2 = s1.split(), s2.split() \n",
    "        lst = [s1, s2]\n",
    "        d1, d2 = {}, {}\n",
    "        voca_count_dict_list = [d1, d2]\n",
    "        for d, s in zip(voca_count_dict_list, lst):\n",
    "            for voca in s:\n",
    "                if voca in d:\n",
    "                    d[voca] += 1\n",
    "                else:\n",
    "                    d[voca] = 1\n",
    "        # construct out\n",
    "        out1 = [voca for voca in d1 if (d1[voca]==1) and (voca not in d2)]\n",
    "        out2 = [voca for voca in d2 if (d2[voca]==1) and (voca not in d1)]\n",
    "        return out1 + out2        "
   ]
  },
  {
   "cell_type": "markdown",
   "metadata": {},
   "source": [
    "# Reference\n",
    "\n",
    "[884. Uncommon Words from Two Sentences](https://leetcode.com/problems/uncommon-words-from-two-sentences/)"
   ]
  },
  {
   "cell_type": "code",
   "execution_count": null,
   "metadata": {},
   "outputs": [],
   "source": []
  }
 ],
 "metadata": {
  "kernelspec": {
   "display_name": "Python 3",
   "language": "python",
   "name": "python3"
  },
  "language_info": {
   "codemirror_mode": {
    "name": "ipython",
    "version": 3
   },
   "file_extension": ".py",
   "mimetype": "text/x-python",
   "name": "python",
   "nbconvert_exporter": "python",
   "pygments_lexer": "ipython3",
   "version": "3.8.5"
  }
 },
 "nbformat": 4,
 "nbformat_minor": 4
}
