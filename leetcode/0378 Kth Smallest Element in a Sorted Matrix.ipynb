{
 "cells": [
  {
   "cell_type": "code",
   "execution_count": 13,
   "metadata": {},
   "outputs": [],
   "source": [
    "class Solution:\n",
    "    def kthSmallest(self, matrix, k):\n",
    "        from heapq import heappush, heappop\n",
    "        # construct (min) heap of max size k\n",
    "        heap = []\n",
    "        for i in range(len(matrix)):\n",
    "            for j in range(len(matrix)):\n",
    "                heappush(heap,-matrix[i][j])\n",
    "                if(len(heap)>k):\n",
    "                    heappop(heap)\n",
    "                #print(heap)\n",
    "        return -heappop(heap)"
   ]
  },
  {
   "cell_type": "code",
   "execution_count": 14,
   "metadata": {},
   "outputs": [
    {
     "name": "stdout",
     "output_type": "stream",
     "text": [
      "[-1]\n",
      "[-5, -1]\n",
      "[-9, -1, -5]\n",
      "[-10, -9, -5, -1]\n",
      "[-11, -10, -5, -1, -9]\n",
      "[-13, -10, -11, -1, -9, -5]\n",
      "[-13, -10, -12, -1, -9, -5, -11]\n",
      "[-13, -13, -12, -10, -9, -5, -11, -1]\n",
      "[-13, -13, -12, -10, -9, -5, -11, -1]\n"
     ]
    },
    {
     "data": {
      "text/plain": [
       "13"
      ]
     },
     "execution_count": 14,
     "metadata": {},
     "output_type": "execute_result"
    }
   ],
   "source": [
    "matrix = [[1,5,9],[10,11,13],[12,13,15]]\n",
    "k = 8\n",
    "Solution().kthSmallest(matrix, k) # 13"
   ]
  },
  {
   "cell_type": "markdown",
   "metadata": {},
   "source": [
    "# Reference\n",
    "\n",
    "[378. Kth Smallest Element in a Sorted Matrix](https://leetcode.com/problems/kth-smallest-element-in-a-sorted-matrix/)\n",
    "\n",
    "[Python Heap Solution with Explanation](https://leetcode.com/problems/kth-smallest-element-in-a-sorted-matrix/discuss/1249995/Python-Heap-Solution-with-Explanation)"
   ]
  }
 ],
 "metadata": {
  "kernelspec": {
   "display_name": "Python 3",
   "language": "python",
   "name": "python3"
  },
  "language_info": {
   "codemirror_mode": {
    "name": "ipython",
    "version": 3
   },
   "file_extension": ".py",
   "mimetype": "text/x-python",
   "name": "python",
   "nbconvert_exporter": "python",
   "pygments_lexer": "ipython3",
   "version": "3.8.5"
  }
 },
 "nbformat": 4,
 "nbformat_minor": 4
}
