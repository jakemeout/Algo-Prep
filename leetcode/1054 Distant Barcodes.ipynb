{
 "cells": [
  {
   "cell_type": "code",
   "execution_count": 11,
   "metadata": {},
   "outputs": [],
   "source": [
    "from heapq import heapify, heappop, heappush\n",
    "class Solution:\n",
    "    def rearrangeBarcodes(self, barcodes):\n",
    "        # trivial cases\n",
    "        if len(barcodes) == 1:\n",
    "            return barcodes\n",
    "        # construct counter dict d\n",
    "        d = {}\n",
    "        for barcode in barcodes:\n",
    "            if barcode in d:\n",
    "                d[barcode] += 1\n",
    "            else:\n",
    "                d[barcode] = 1\n",
    "        # construct frequence heap\n",
    "        heap = [[-freq,barcode] for barcode, freq in d.items()]\n",
    "        heapify(heap)\n",
    "        #print(heap)\n",
    "        # prepare ans\n",
    "        ans = []\n",
    "        while len(heap) >= 2:\n",
    "            neg_f1, b1 = heappop(heap)\n",
    "            neg_f2, b2 = heappop(heap)\n",
    "            ans.append(b1)\n",
    "            ans.append(b2)\n",
    "            if neg_f1+1<0:\n",
    "                heappush(heap,[neg_f1+1,b1])\n",
    "            if neg_f2+1<0:\n",
    "                heappush(heap,[neg_f2+1,b2])\n",
    "        if len(heap) == 1:\n",
    "            neg_f1, b1 = heappop(heap)\n",
    "            ans.append(b1)\n",
    "        return ans"
   ]
  },
  {
   "cell_type": "code",
   "execution_count": 12,
   "metadata": {},
   "outputs": [
    {
     "data": {
      "text/plain": [
       "[1, 2, 1]"
      ]
     },
     "execution_count": 12,
     "metadata": {},
     "output_type": "execute_result"
    }
   ],
   "source": [
    "barcodes = [1,1,2]\n",
    "Solution().rearrangeBarcodes(barcodes)"
   ]
  },
  {
   "cell_type": "markdown",
   "metadata": {},
   "source": [
    "# Reference\n",
    "\n",
    "[1054. Distant Barcodes](https://leetcode.com/problems/distant-barcodes/)\n",
    "\n",
    "[Leetcode 1054 | Distant Barcodes](https://www.youtube.com/watch?v=y4X521Ttmo8)"
   ]
  },
  {
   "cell_type": "code",
   "execution_count": null,
   "metadata": {},
   "outputs": [],
   "source": []
  }
 ],
 "metadata": {
  "kernelspec": {
   "display_name": "Python 3",
   "language": "python",
   "name": "python3"
  },
  "language_info": {
   "codemirror_mode": {
    "name": "ipython",
    "version": 3
   },
   "file_extension": ".py",
   "mimetype": "text/x-python",
   "name": "python",
   "nbconvert_exporter": "python",
   "pygments_lexer": "ipython3",
   "version": "3.8.5"
  }
 },
 "nbformat": 4,
 "nbformat_minor": 4
}
