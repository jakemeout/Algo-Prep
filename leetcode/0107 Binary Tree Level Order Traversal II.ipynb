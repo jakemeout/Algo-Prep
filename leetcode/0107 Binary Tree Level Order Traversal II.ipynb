{
 "cells": [
  {
   "cell_type": "code",
   "execution_count": null,
   "metadata": {},
   "outputs": [],
   "source": [
    "class TreeNode:\n",
    "    def __init__(self, val=0, left=None, right=None):\n",
    "        self.val = val\n",
    "        self.left = left\n",
    "        self.right = right"
   ]
  },
  {
   "cell_type": "code",
   "execution_count": null,
   "metadata": {},
   "outputs": [],
   "source": [
    "from collections import deque\n",
    "\n",
    "class Solution:\n",
    "    def levelOrderBottom(self, root):\n",
    "        if not root: \n",
    "            return []\n",
    "    \n",
    "        q = deque([[root, 0]]) # [[node, level], ...]\n",
    "        val_and_level = [] # [[node.val, level], ...] \n",
    "        while q:\n",
    "            node, level = q.popleft()\n",
    "            val_and_level.append([node.val, level])\n",
    "            if node.left:\n",
    "                q.append([node.left, level + 1])\n",
    "            if node.right:\n",
    "                q.append([node.right, level + 1])\n",
    "\n",
    "        out = [[val_and_level[0][0]]] # [[node.val for level 0], [node.val for level 1],...]\n",
    "        for i in range(1, len(val_and_level)):\n",
    "            if val_and_level[i][1] == val_and_level[i-1][1]:\n",
    "                out[val_and_level[i][1]].append(val_and_level[i][0])\n",
    "            else:\n",
    "                out.append([val_and_level[i][0]])\n",
    "\n",
    "        return out[::-1]"
   ]
  },
  {
   "cell_type": "markdown",
   "metadata": {},
   "source": [
    "# Reference\n",
    "\n",
    "[107. Binary Tree Level Order Traversal II](https://leetcode.com/problems/binary-tree-level-order-traversal-ii/)\n",
    "\n",
    "[662. Maximum Width of Binary Tree](https://leetcode.com/problems/maximum-width-of-binary-tree/)\n",
    "\n",
    "[[Python] Classical BFS, level traversal with queue, explained](https://leetcode.com/problems/binary-tree-level-order-traversal-ii/discuss/715874/Python-Classical-BFS-level-traversal-with-queue-explained)\n",
    "\n",
    "[Binary Tree Level Order Traversal ii | LeetCode 107 | C++, Java, Python](https://www.youtube.com/watch?v=FSWqYp3k1O4&list=PL1w8k37X_6L-E23tn3d6oXLW63pS8-5rm&index=23)"
   ]
  }
 ],
 "metadata": {
  "kernelspec": {
   "display_name": "Python 3",
   "language": "python",
   "name": "python3"
  },
  "language_info": {
   "codemirror_mode": {
    "name": "ipython",
    "version": 3
   },
   "file_extension": ".py",
   "mimetype": "text/x-python",
   "name": "python",
   "nbconvert_exporter": "python",
   "pygments_lexer": "ipython3",
   "version": "3.8.5"
  }
 },
 "nbformat": 4,
 "nbformat_minor": 4
}
