{
 "cells": [
  {
   "cell_type": "code",
   "execution_count": null,
   "metadata": {},
   "outputs": [],
   "source": [
    "class Cashier:\n",
    "\n",
    "    def __init__(self, n: int, discount: int, products: List[int], prices: List[int]):\n",
    "        self.n = n\n",
    "        self.n_customer = 0\n",
    "        self.discount = discount\n",
    "        self.d = {}\n",
    "        for product_id, price in zip(products, prices):\n",
    "            self.d[product_id] = price\n",
    "\n",
    "    def getBill(self, product: List[int], amount: List[int]) -> float:\n",
    "        self.n_customer += 1\n",
    "        ans = 0 \n",
    "        for product_id, amount_ in zip(product, amount):\n",
    "            ans += self.d[product_id] * amount_\n",
    "        if self.n_customer % self.n == 0:\n",
    "            ans = ans * (1 - self.discount/100)\n",
    "            self.n_customer = 0\n",
    "        return ans        "
   ]
  },
  {
   "cell_type": "markdown",
   "metadata": {},
   "source": [
    "# Reference\n",
    "\n",
    "[1357. Apply Discount Every n Orders](https://leetcode.com/problems/apply-discount-every-n-orders/)"
   ]
  }
 ],
 "metadata": {
  "kernelspec": {
   "display_name": "Python 3",
   "language": "python",
   "name": "python3"
  },
  "language_info": {
   "codemirror_mode": {
    "name": "ipython",
    "version": 3
   },
   "file_extension": ".py",
   "mimetype": "text/x-python",
   "name": "python",
   "nbconvert_exporter": "python",
   "pygments_lexer": "ipython3",
   "version": "3.8.5"
  }
 },
 "nbformat": 4,
 "nbformat_minor": 4
}
