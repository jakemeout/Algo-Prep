{
 "cells": [
  {
   "cell_type": "code",
   "execution_count": null,
   "metadata": {},
   "outputs": [],
   "source": [
    "class Solution:\n",
    "    def dominantIndex(self, nums):\n",
    "        # trivial case\n",
    "        if len(nums) == 0:\n",
    "            return -1\n",
    "        if len(nums) == 1:\n",
    "            return 0\n",
    "        # general case\n",
    "        max_number = max(nums)\n",
    "        for idx in range(len(nums)):\n",
    "            if max_number == nums[idx]:\n",
    "                break\n",
    "        setOmega = set(nums)\n",
    "        setOmega.remove(max_number)\n",
    "        second_max_number = max(setOmega)\n",
    "        if max_number >= 2*second_max_number:\n",
    "            return idx\n",
    "        return -1"
   ]
  },
  {
   "cell_type": "code",
   "execution_count": 4,
   "metadata": {},
   "outputs": [
    {
     "data": {
      "text/plain": [
       "2"
      ]
     },
     "execution_count": 4,
     "metadata": {},
     "output_type": "execute_result"
    }
   ],
   "source": [
    "setOmega = set([1,2,3])\n",
    "setOmega.remove(3)\n",
    "second_max_number = max(setOmega)\n",
    "second_max_number"
   ]
  },
  {
   "cell_type": "markdown",
   "metadata": {},
   "source": [
    "# Reference\n",
    "\n",
    "[747. Largest Number At Least Twice of Others](https://leetcode.com/problems/largest-number-at-least-twice-of-others/)"
   ]
  }
 ],
 "metadata": {
  "kernelspec": {
   "display_name": "Python 3",
   "language": "python",
   "name": "python3"
  },
  "language_info": {
   "codemirror_mode": {
    "name": "ipython",
    "version": 3
   },
   "file_extension": ".py",
   "mimetype": "text/x-python",
   "name": "python",
   "nbconvert_exporter": "python",
   "pygments_lexer": "ipython3",
   "version": "3.8.5"
  }
 },
 "nbformat": 4,
 "nbformat_minor": 4
}
