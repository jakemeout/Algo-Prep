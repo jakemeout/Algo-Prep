{
 "cells": [
  {
   "cell_type": "code",
   "execution_count": 1,
   "metadata": {},
   "outputs": [],
   "source": [
    "# recursion (320 ms, 513.1 MB)\n",
    "class Solution:\n",
    "    def lengthOfLongestSubstring(self, s: str) -> int:\n",
    "        # base case\n",
    "        if len(s) <= 1: \n",
    "            return len(s)\n",
    "        # recursion\n",
    "        first, remainder = s[0], s[1:]\n",
    "        ans = self.lengthOfLongestSubstring(remainder) \n",
    "        if self.check(s[:ans+1]): \n",
    "            return ans + 1 \n",
    "        return ans \n",
    "    def check(self, s: str) -> bool:\n",
    "        \"\"\"\n",
    "        check whether all chars in s are distinct\n",
    "        \"\"\"\n",
    "        # base case\n",
    "        if len(s) <= 1: \n",
    "            return True \n",
    "        # recursion\n",
    "        first, remainder = s[0], s[1:]\n",
    "        if first in remainder: \n",
    "            return False\n",
    "        return self.check(remainder) "
   ]
  },
  {
   "cell_type": "code",
   "execution_count": null,
   "metadata": {},
   "outputs": [],
   "source": [
    "# sliding window (76 ms, 14.5 MB)\n",
    "class Solution:\n",
    "    def lengthOfLongestSubstring(self, s):\n",
    "        longest = 0\n",
    "        # construct dict d\n",
    "        # key : char\n",
    "        # value : last index of char in s\n",
    "        d = {}\n",
    "        # current substring is characterized by cur_start and cur_len\n",
    "        cur_start = 0\n",
    "        cur_len = 0\n",
    "        for i, char in enumerate(s):\n",
    "            # if char appeared before and if it is in current substring\n",
    "            if char in d and d[char] >= cur_start:\n",
    "                cur_start = d[char] + 1\n",
    "                cur_len = i - d[char]\n",
    "                d[char] = i\n",
    "            else:\n",
    "                d[char] = i\n",
    "                cur_len += 1\n",
    "                if cur_len > longest:\n",
    "                    longest = cur_len\n",
    "        return longest"
   ]
  },
  {
   "cell_type": "code",
   "execution_count": 21,
   "metadata": {},
   "outputs": [
    {
     "data": {
      "text/plain": [
       "3"
      ]
     },
     "execution_count": 21,
     "metadata": {},
     "output_type": "execute_result"
    }
   ],
   "source": [
    "s = \"dvdf\"\n",
    "Solution().lengthOfLongestSubstring(s) # 3"
   ]
  },
  {
   "cell_type": "markdown",
   "metadata": {},
   "source": [
    "# Reference\n",
    "\n",
    "[3. Longest Substring Without Repeating Characters](https://leetcode.com/problems/longest-substring-without-repeating-characters/)"
   ]
  }
 ],
 "metadata": {
  "kernelspec": {
   "display_name": "Python 3",
   "language": "python",
   "name": "python3"
  },
  "language_info": {
   "codemirror_mode": {
    "name": "ipython",
    "version": 3
   },
   "file_extension": ".py",
   "mimetype": "text/x-python",
   "name": "python",
   "nbconvert_exporter": "python",
   "pygments_lexer": "ipython3",
   "version": "3.8.5"
  }
 },
 "nbformat": 4,
 "nbformat_minor": 4
}
