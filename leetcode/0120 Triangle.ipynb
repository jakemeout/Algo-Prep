{
 "cells": [
  {
   "cell_type": "code",
   "execution_count": 1,
   "metadata": {},
   "outputs": [],
   "source": [
    "# top-down recursion is too slow\n",
    "# top-down recursion needs memoization to speed up\n",
    "# here is bottom-up approach\n",
    "class Solution:\n",
    "    def minimumTotal(self, t):\n",
    "        len_t = len(t)\n",
    "        if len_t == 0: raise Exception('List is empty!')\n",
    "        if len_t == 1: return t[0][0]\n",
    "        for idx_level in range(len_t-2,-1,-1):\n",
    "            for idx, item in enumerate(t[idx_level]):\n",
    "                t[idx_level][idx] = item + min(t[idx_level+1][idx],t[idx_level+1][idx+1])\n",
    "        return t[0][0]                "
   ]
  },
  {
   "cell_type": "code",
   "execution_count": 2,
   "metadata": {},
   "outputs": [
    {
     "data": {
      "text/plain": [
       "11"
      ]
     },
     "execution_count": 2,
     "metadata": {},
     "output_type": "execute_result"
    }
   ],
   "source": [
    "t = [[2],[3,4],[6,5,7],[4,1,8,3]]\n",
    "Solution().minimumTotal(t)"
   ]
  },
  {
   "cell_type": "code",
   "execution_count": 3,
   "metadata": {},
   "outputs": [
    {
     "data": {
      "text/plain": [
       "-10"
      ]
     },
     "execution_count": 3,
     "metadata": {},
     "output_type": "execute_result"
    }
   ],
   "source": [
    "t = [[-10]]\n",
    "Solution().minimumTotal(t)"
   ]
  },
  {
   "cell_type": "markdown",
   "metadata": {},
   "source": [
    "# Reference\n",
    "\n",
    "[120. Triangle](https://leetcode.com/problems/triangle/)"
   ]
  },
  {
   "cell_type": "code",
   "execution_count": null,
   "metadata": {},
   "outputs": [],
   "source": []
  }
 ],
 "metadata": {
  "kernelspec": {
   "display_name": "Python 3",
   "language": "python",
   "name": "python3"
  },
  "language_info": {
   "codemirror_mode": {
    "name": "ipython",
    "version": 3
   },
   "file_extension": ".py",
   "mimetype": "text/x-python",
   "name": "python",
   "nbconvert_exporter": "python",
   "pygments_lexer": "ipython3",
   "version": "3.8.5"
  }
 },
 "nbformat": 4,
 "nbformat_minor": 4
}
