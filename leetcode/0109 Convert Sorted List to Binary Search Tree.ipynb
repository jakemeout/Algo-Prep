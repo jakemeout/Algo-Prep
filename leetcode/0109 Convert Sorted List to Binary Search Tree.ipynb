{
 "cells": [
  {
   "cell_type": "code",
   "execution_count": null,
   "metadata": {},
   "outputs": [],
   "source": [
    "# Definition for singly-linked list.\n",
    "class ListNode:\n",
    "    def __init__(self, val=0, next=None):\n",
    "        self.val = val\n",
    "        self.next = next"
   ]
  },
  {
   "cell_type": "code",
   "execution_count": null,
   "metadata": {},
   "outputs": [],
   "source": [
    "# Definition for a binary tree node.\n",
    "class TreeNode:\n",
    "    def __init__(self, val=0, left=None, right=None):\n",
    "        self.val = val\n",
    "        self.left = left\n",
    "        self.right = right"
   ]
  },
  {
   "cell_type": "code",
   "execution_count": null,
   "metadata": {},
   "outputs": [],
   "source": [
    "class Solution:    \n",
    "    def sortedListToBST(self, head):\n",
    "        if not head:\n",
    "            return \n",
    "        if not head.next:\n",
    "            return TreeNode(head.val)\n",
    "        # here we get the middle point,\n",
    "        # even case, like '1234', slow points to '2',\n",
    "        # '3' is root, '12' belongs to left, '4' is right\n",
    "        # odd case, like '12345', slow points to '2', '12'\n",
    "        # belongs to left, '3' is root, '45' belongs to right\n",
    "        slow, fast = head, head.next.next\n",
    "        while fast and fast.next:\n",
    "            slow = slow.next\n",
    "            fast = fast.next.next\n",
    "        # tmp points to root\n",
    "        tmp = slow.next\n",
    "        # cut down the left child\n",
    "        slow.next = None\n",
    "        root = TreeNode(tmp.val)\n",
    "        root.left = self.sortedListToBST(head)\n",
    "        root.right = self.sortedListToBST(tmp.next)\n",
    "        return root"
   ]
  },
  {
   "cell_type": "markdown",
   "metadata": {},
   "source": [
    "# Reference\n",
    "\n",
    "[109. Convert Sorted List to Binary Search Tree](https://leetcode.com/problems/convert-sorted-list-to-binary-search-tree/)\n",
    "\n",
    "[Convert Sorted List to Binary Search Tree (BST) | LeetCode 109 | C++, Java, Python](https://www.youtube.com/watch?v=XsWPrkDqmtM)\n",
    "\n",
    "[Python recursive solution with detailed comments (operate linked-list directly).](https://leetcode.com/problems/convert-sorted-list-to-binary-search-tree/discuss/35474/Python-recursive-solution-with-detailed-comments-(operate-linked-list-directly).)"
   ]
  }
 ],
 "metadata": {
  "kernelspec": {
   "display_name": "Python 3",
   "language": "python",
   "name": "python3"
  },
  "language_info": {
   "codemirror_mode": {
    "name": "ipython",
    "version": 3
   },
   "file_extension": ".py",
   "mimetype": "text/x-python",
   "name": "python",
   "nbconvert_exporter": "python",
   "pygments_lexer": "ipython3",
   "version": "3.8.5"
  }
 },
 "nbformat": 4,
 "nbformat_minor": 4
}
