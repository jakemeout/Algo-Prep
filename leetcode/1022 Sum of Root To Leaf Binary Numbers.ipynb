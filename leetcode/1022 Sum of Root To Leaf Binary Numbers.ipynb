{
 "cells": [
  {
   "cell_type": "code",
   "execution_count": null,
   "metadata": {},
   "outputs": [],
   "source": [
    "# Definition for a binary tree node.\n",
    "class TreeNode:\n",
    "    def __init__(self, val=0, left=None, right=None):\n",
    "        self.val = val\n",
    "        self.left = left\n",
    "        self.right = right"
   ]
  },
  {
   "cell_type": "code",
   "execution_count": null,
   "metadata": {},
   "outputs": [],
   "source": [
    "class Solution:\n",
    "    def sumRootToLeaf(self, root: TreeNode) -> int:\n",
    "        out = 0\n",
    "        paths = self.listRootToLeaf(root)\n",
    "        for path in paths:\n",
    "            out += self.computeBinary(path) \n",
    "        return out\n",
    "    def listRootToLeaf(self, root):\n",
    "        # base cases\n",
    "        if root is None:\n",
    "            return ['']\n",
    "        if root.left is None and root.right is None:\n",
    "            return [str(root.val)]\n",
    "        # recursion steps\n",
    "        paths = []\n",
    "        if root.left is not None:\n",
    "            left = self.listRootToLeaf(root.left)\n",
    "            for path in left:\n",
    "                paths.append(str(root.val) + path)\n",
    "        if root.right is not None:\n",
    "            right = self.listRootToLeaf(root.right)\n",
    "            for path in right:\n",
    "                paths.append(str(root.val) + path)\n",
    "        return paths\n",
    "    def computeBinary(self, path):\n",
    "        out = 0\n",
    "        for idx, zero_one in enumerate(path[::-1]):\n",
    "            out += int(zero_one) * 2**idx\n",
    "        return out"
   ]
  },
  {
   "cell_type": "markdown",
   "metadata": {},
   "source": [
    "# Reference\n",
    "\n",
    "[1022. Sum of Root To Leaf Binary Numbers](https://leetcode.com/problems/sum-of-root-to-leaf-binary-numbers/)"
   ]
  },
  {
   "cell_type": "code",
   "execution_count": null,
   "metadata": {},
   "outputs": [],
   "source": []
  },
  {
   "cell_type": "code",
   "execution_count": null,
   "metadata": {},
   "outputs": [],
   "source": []
  },
  {
   "cell_type": "code",
   "execution_count": null,
   "metadata": {},
   "outputs": [],
   "source": []
  }
 ],
 "metadata": {
  "kernelspec": {
   "display_name": "Python 3",
   "language": "python",
   "name": "python3"
  },
  "language_info": {
   "codemirror_mode": {
    "name": "ipython",
    "version": 3
   },
   "file_extension": ".py",
   "mimetype": "text/x-python",
   "name": "python",
   "nbconvert_exporter": "python",
   "pygments_lexer": "ipython3",
   "version": "3.8.5"
  }
 },
 "nbformat": 4,
 "nbformat_minor": 4
}
