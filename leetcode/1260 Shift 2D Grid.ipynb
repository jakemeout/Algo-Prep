{
 "cells": [
  {
   "cell_type": "code",
   "execution_count": null,
   "metadata": {},
   "outputs": [],
   "source": [
    "import numpy as np\n",
    "class Solution:\n",
    "    def shiftGrid(self, grid, k):\n",
    "        grid = np.array(grid)\n",
    "        for _ in range(k):\n",
    "            grid = self.shift(grid)\n",
    "        return grid\n",
    "    def shift(self, grid):\n",
    "        grid = np.roll(grid, 1, axis=1)\n",
    "        grid[:,0:1] = np.roll(grid[:,0:1], 1, axis=0)\n",
    "        return grid"
   ]
  },
  {
   "cell_type": "markdown",
   "metadata": {},
   "source": [
    "# Reference\n",
    "\n",
    "[1260. Shift 2D Grid](https://leetcode.com/problems/shift-2d-grid/)"
   ]
  }
 ],
 "metadata": {
  "kernelspec": {
   "display_name": "Python 3",
   "language": "python",
   "name": "python3"
  },
  "language_info": {
   "codemirror_mode": {
    "name": "ipython",
    "version": 3
   },
   "file_extension": ".py",
   "mimetype": "text/x-python",
   "name": "python",
   "nbconvert_exporter": "python",
   "pygments_lexer": "ipython3",
   "version": "3.8.5"
  }
 },
 "nbformat": 4,
 "nbformat_minor": 4
}
