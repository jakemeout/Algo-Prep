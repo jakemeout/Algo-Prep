{
 "cells": [
  {
   "cell_type": "code",
   "execution_count": null,
   "metadata": {},
   "outputs": [],
   "source": [
    "class Solution:\n",
    "    def longestOnes(self, nums: List[int], k: int) -> int:\n",
    "        l = 0\n",
    "        r = 0\n",
    "        ret = k\n",
    "        # you need to know the first flipped bit, and the current bit\n",
    "        num_flipped = 0\n",
    "        while r < len(nums):\n",
    "            if nums[r] == 0:\n",
    "                if num_flipped < k:\n",
    "                    r += 1\n",
    "                    num_flipped += 1\n",
    "                else:\n",
    "                    ret = max(ret, k, r-l-1)\n",
    "                    r += 1\n",
    "                    while l < len(nums) and nums[l] == 1:\n",
    "                        l += 1\n",
    "                    if l == len(nums):\n",
    "                        break\n",
    "                    l += 1\n",
    "            else:\n",
    "                r += 1\n",
    "        return max(ret, r-l-1, k)"
   ]
  }
 ],
 "metadata": {
  "kernelspec": {
   "display_name": "Python 3",
   "language": "python",
   "name": "python3"
  },
  "language_info": {
   "codemirror_mode": {
    "name": "ipython",
    "version": 3
   },
   "file_extension": ".py",
   "mimetype": "text/x-python",
   "name": "python",
   "nbconvert_exporter": "python",
   "pygments_lexer": "ipython3",
   "version": "3.8.5"
  }
 },
 "nbformat": 4,
 "nbformat_minor": 4
}
