{
 "cells": [
  {
   "cell_type": "code",
   "execution_count": 31,
   "metadata": {},
   "outputs": [],
   "source": [
    "class Solution:\n",
    "    def atMostNGivenDigitSet(self, digits, n):\n",
    "        \"\"\"\n",
    "        :type digits: List[str]\n",
    "        :type n: int\n",
    "        :rtype: int\n",
    "        \"\"\"\n",
    "        ans = 0\n",
    "        \n",
    "        n_lst = list(str(n))\n",
    "        n_set = set(n_lst)\n",
    "        n_lst_length = len(n_lst)\n",
    "        \n",
    "        digits_length = len(digits)\n",
    "        digits_set = set(digits)\n",
    "        \n",
    "        # if n = 8765, n_lst = [8,7,6,5],\n",
    "        # the number at most n with given digits can the the following format:\n",
    "        # XXX\n",
    "        # XX\n",
    "        # X\n",
    "        for i in range(1, n_lst_length):\n",
    "            ans += digits_length**i\n",
    "            print(ans)\n",
    "        \n",
    "        # and\n",
    "        # 1XXX ~ 7XXX\n",
    "        # 80XX ~ 86XX\n",
    "        # 870X ~ 875X\n",
    "        # 8760 ~ 8764\n",
    "        for i, x in enumerate(n_lst):\n",
    "            for y in digits:\n",
    "                if y < x:\n",
    "                    ans += digits_length**(n_lst_length-i-1)\n",
    "                elif y == x:\n",
    "                    pass\n",
    "                else:\n",
    "                    break\n",
    "                        \n",
    "                \n",
    "        # and\n",
    "        # 8765\n",
    "        if n_set <= digits_set:\n",
    "            ans += 1\n",
    "\n",
    "        return ans"
   ]
  },
  {
   "cell_type": "code",
   "execution_count": 32,
   "metadata": {},
   "outputs": [
    {
     "name": "stdout",
     "output_type": "stream",
     "text": [
      "2\n"
     ]
    },
    {
     "data": {
      "text/plain": [
       "4"
      ]
     },
     "execution_count": 32,
     "metadata": {},
     "output_type": "execute_result"
    }
   ],
   "source": [
    "digits = [\"5\",\"6\"]\n",
    "n = 19\n",
    "Solution().atMostNGivenDigitSet(digits, n) # 2"
   ]
  },
  {
   "cell_type": "markdown",
   "metadata": {},
   "source": [
    "# Reference\n",
    "\n",
    "[]()\n",
    "\n",
    "[]()"
   ]
  }
 ],
 "metadata": {
  "kernelspec": {
   "display_name": "Python 3",
   "language": "python",
   "name": "python3"
  },
  "language_info": {
   "codemirror_mode": {
    "name": "ipython",
    "version": 3
   },
   "file_extension": ".py",
   "mimetype": "text/x-python",
   "name": "python",
   "nbconvert_exporter": "python",
   "pygments_lexer": "ipython3",
   "version": "3.8.5"
  }
 },
 "nbformat": 4,
 "nbformat_minor": 4
}
