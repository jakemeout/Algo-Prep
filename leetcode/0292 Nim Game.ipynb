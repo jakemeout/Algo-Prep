{
 "cells": [
  {
   "cell_type": "code",
   "execution_count": null,
   "metadata": {},
   "outputs": [],
   "source": [
    "# Time Limit Exceeded\n",
    "class Solution:\n",
    "    def canWinNim(self, n: int) -> bool:\n",
    "        if n <= 3:\n",
    "            return True\n",
    "        if n == 4:\n",
    "            return False\n",
    "        out1 = not self.canWinNim(n-1) \n",
    "        out2 = not self.canWinNim(n-2) \n",
    "        out3 = not self.canWinNim(n-3)\n",
    "        return out1 or out2 or out3"
   ]
  },
  {
   "cell_type": "code",
   "execution_count": null,
   "metadata": {},
   "outputs": [],
   "source": [
    "# Memory Limit Exceeded\n",
    "class Solution:\n",
    "    def canWinNim(self, n: int) -> bool:\n",
    "        # base cases\n",
    "        self.d = {}\n",
    "        for i in range(1,4):\n",
    "            self.d[i] = True\n",
    "        # general cases\n",
    "        for i in range(4,n+1):\n",
    "            out1 = not self.d[i-1] \n",
    "            out2 = not self.d[i-2] \n",
    "            out3 = not self.d[i-3]\n",
    "            self.d[i] = out1 or out2 or out3\n",
    "        return self.d[n]"
   ]
  },
  {
   "cell_type": "code",
   "execution_count": null,
   "metadata": {},
   "outputs": [],
   "source": [
    "# Time Limit Exceeded\n",
    "class Solution:\n",
    "    def canWinNim(self, n: int) -> bool:\n",
    "        # base cases\n",
    "        if n <= 3:\n",
    "            return True\n",
    "        # general cases\n",
    "        a, b, c = True, True, True\n",
    "        for i in range(4,n+1):\n",
    "            d = not (a and b and c)\n",
    "            a, b, c = b, c, d\n",
    "        return d"
   ]
  },
  {
   "cell_type": "code",
   "execution_count": null,
   "metadata": {},
   "outputs": [],
   "source": [
    "class Solution:\n",
    "    def canWinNim(self, n: int) -> bool:\n",
    "        return n%4 != 0"
   ]
  },
  {
   "cell_type": "markdown",
   "metadata": {},
   "source": [
    "# Reference\n",
    "\n",
    "[292. Nim Game](https://leetcode.com/problems/nim-game/)"
   ]
  }
 ],
 "metadata": {
  "kernelspec": {
   "display_name": "Python 3",
   "language": "python",
   "name": "python3"
  },
  "language_info": {
   "codemirror_mode": {
    "name": "ipython",
    "version": 3
   },
   "file_extension": ".py",
   "mimetype": "text/x-python",
   "name": "python",
   "nbconvert_exporter": "python",
   "pygments_lexer": "ipython3",
   "version": "3.8.5"
  }
 },
 "nbformat": 4,
 "nbformat_minor": 4
}
