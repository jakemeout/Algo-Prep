{
 "cells": [
  {
   "cell_type": "code",
   "execution_count": 8,
   "metadata": {},
   "outputs": [],
   "source": [
    "from functools import cmp_to_key \n",
    "\n",
    "class Solution:\n",
    "    def largestNumber(self, nums):\n",
    "        \"\"\"\n",
    "        :type nums: List[int]\n",
    "        :rtype: int\n",
    "        \"\"\"\n",
    "        compare = lambda a, b: -1 if a+b > b+a else 1 if a+b < b+a else 0\n",
    "        s = \"\".join(sorted(map(str, nums), key = cmp_to_key(compare)))\n",
    "        return str(int(s))   "
   ]
  },
  {
   "cell_type": "markdown",
   "metadata": {},
   "source": [
    "# Reference\n",
    "\n",
    "[179. Largest Number](https://leetcode.com/problems/largest-number/)\n",
    "\n",
    "[[Python] 2 lines solution, using sort, explained](https://leetcode.com/problems/largest-number/discuss/863489/Python-2-lines-solution-using-sort-explained)"
   ]
  }
 ],
 "metadata": {
  "kernelspec": {
   "display_name": "Python 3",
   "language": "python",
   "name": "python3"
  },
  "language_info": {
   "codemirror_mode": {
    "name": "ipython",
    "version": 3
   },
   "file_extension": ".py",
   "mimetype": "text/x-python",
   "name": "python",
   "nbconvert_exporter": "python",
   "pygments_lexer": "ipython3",
   "version": "3.7.10"
  }
 },
 "nbformat": 4,
 "nbformat_minor": 4
}
