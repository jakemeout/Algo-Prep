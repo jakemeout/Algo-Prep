{
 "cells": [
  {
   "cell_type": "code",
   "execution_count": null,
   "metadata": {},
   "outputs": [],
   "source": [
    "from functools import lru_cache as cache\n",
    "from itertools import product\n",
    "\n",
    "class Solution:\n",
    "    def colorTheGrid(self, m: int, n: int) -> int:\n",
    "        MOD = 10 ** 9 + 7\n",
    "\n",
    "        def check(position):\n",
    "            return all(a != b for a, b in zip(position, position[1:]))\n",
    "\n",
    "        def neighbor_check(position_1, position_2):\n",
    "            return all(a != b for a, b in zip(position_1, position_2))\n",
    "\n",
    "        states = {''.join(position) for position in product('RGB', repeat=m) if check(position)}\n",
    "        adj = {}\n",
    "        for state in states:\n",
    "            adj[state] = [next_state for next_state in states if neighbor_check(state, next_state)]\n",
    "\n",
    "        @cache\n",
    "        def f(prev, N):\n",
    "            if N == 0:\n",
    "                return 1\n",
    "            return sum(f(curr, N - 1) for curr in adj[prev]) % MOD\n",
    "\n",
    "        return sum(f(state, n - 1) for state in states) % MOD"
   ]
  },
  {
   "cell_type": "code",
   "execution_count": null,
   "metadata": {},
   "outputs": [],
   "source": [
    "from collections import defaultdict \n",
    "class Solution:\n",
    "    def colorTheGrid(self, m: int, n: int) -> int:\n",
    "        cols = []                      # For all valid columns in the grid\n",
    "        def build_cols(col_start): \n",
    "            if len(col_start) == m: \n",
    "                cols.append(col_start)\n",
    "                return \n",
    "            for c in 'rbg': \n",
    "                if c != col_start[-1]: \n",
    "                    build_cols(col_start + c)\n",
    "        [build_cols(c) for c in 'rbg']\n",
    "        \n",
    "        valid_pair = defaultdict(set)\n",
    "        for i, c1 in enumerate(cols): \n",
    "            for c2 in cols[i + 1:]: \n",
    "                if all(c1[j] != c2[j] for j in range(m)): \n",
    "                    valid_pair[c1].add(c2)\n",
    "                    valid_pair[c2].add(c1)\n",
    "                    \n",
    "        result = {c: 1 for c in cols}  # Stores count of valid grids ending in column c for each c in cols, starting at 1 for all\n",
    "        for _ in range(n - 1):         # Update result for a k column grid by using the result for k - 1 \n",
    "            tmp = {c: 0 for c in cols}\n",
    "            for c in tmp: \n",
    "                for p in valid_pair[c]: \n",
    "                    tmp[c] += result[p]\n",
    "            result = tmp\n",
    "        return sum(result.values()) % 1_000_000_007"
   ]
  }
 ],
 "metadata": {
  "kernelspec": {
   "display_name": "Python 3",
   "language": "python",
   "name": "python3"
  },
  "language_info": {
   "codemirror_mode": {
    "name": "ipython",
    "version": 3
   },
   "file_extension": ".py",
   "mimetype": "text/x-python",
   "name": "python",
   "nbconvert_exporter": "python",
   "pygments_lexer": "ipython3",
   "version": "3.8.5"
  }
 },
 "nbformat": 4,
 "nbformat_minor": 4
}
