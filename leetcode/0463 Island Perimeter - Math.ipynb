{
 "cells": [
  {
   "cell_type": "code",
   "execution_count": null,
   "metadata": {},
   "outputs": [],
   "source": [
    "class Solution:\n",
    "    def islandPerimeter(self, grid):\n",
    "        import numpy as np\n",
    "        x = np.array(grid)\n",
    "        naive = np.sum(x)*4\n",
    "        common_0 = np.sum((x[:-1,:]==1) * (x[1:,:]==1)) * 2\n",
    "        common_1 = np.sum((x[:,:-1]==1) * (x[:,1:]==1)) * 2\n",
    "        return naive - common_0 - common_1  "
   ]
  },
  {
   "cell_type": "markdown",
   "metadata": {},
   "source": [
    "# Reference\n",
    "\n",
    "[463. Island Perimeter](https://leetcode.com/problems/island-perimeter/)"
   ]
  }
 ],
 "metadata": {
  "kernelspec": {
   "display_name": "Python 3",
   "language": "python",
   "name": "python3"
  },
  "language_info": {
   "codemirror_mode": {
    "name": "ipython",
    "version": 3
   },
   "file_extension": ".py",
   "mimetype": "text/x-python",
   "name": "python",
   "nbconvert_exporter": "python",
   "pygments_lexer": "ipython3",
   "version": "3.8.5"
  }
 },
 "nbformat": 4,
 "nbformat_minor": 4
}
