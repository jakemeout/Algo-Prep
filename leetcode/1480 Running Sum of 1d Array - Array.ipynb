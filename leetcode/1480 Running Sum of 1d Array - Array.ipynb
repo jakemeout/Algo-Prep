{
 "cells": [
  {
   "cell_type": "code",
   "execution_count": null,
   "metadata": {},
   "outputs": [],
   "source": [
    "class Solution:\n",
    "    def runningSum(self, nums):\n",
    "        running_sum = 0\n",
    "        out = []\n",
    "        for num in nums:\n",
    "            running_sum += num\n",
    "            out.append(running_sum)\n",
    "        return out"
   ]
  },
  {
   "cell_type": "markdown",
   "metadata": {},
   "source": [
    "# Reference\n",
    "\n",
    "[1480. Running Sum of 1d Array](https://leetcode.com/problems/running-sum-of-1d-array/)\n",
    "\n",
    "[Running Sum of 1d Array | LeetCode 1480 | C++, Java, Python](https://www.youtube.com/watch?v=fFJaIDUKDoA)"
   ]
  }
 ],
 "metadata": {
  "kernelspec": {
   "display_name": "Python 3",
   "language": "python",
   "name": "python3"
  },
  "language_info": {
   "codemirror_mode": {
    "name": "ipython",
    "version": 3
   },
   "file_extension": ".py",
   "mimetype": "text/x-python",
   "name": "python",
   "nbconvert_exporter": "python",
   "pygments_lexer": "ipython3",
   "version": "3.8.5"
  }
 },
 "nbformat": 4,
 "nbformat_minor": 4
}
