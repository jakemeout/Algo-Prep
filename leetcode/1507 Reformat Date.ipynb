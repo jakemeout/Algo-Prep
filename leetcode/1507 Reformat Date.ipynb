{
 "cells": [
  {
   "cell_type": "code",
   "execution_count": null,
   "metadata": {},
   "outputs": [],
   "source": [
    "class Solution:\n",
    "    def reformatDate(self, date: str) -> str:\n",
    "        # how to handle month: use month_d\n",
    "        month_d = {}\n",
    "        a = [\"Jan\", \"Feb\", \"Mar\", \"Apr\", \"May\", \"Jun\", \"Jul\", \"Aug\", \"Sep\", \"Oct\", \"Nov\", \"Dec\"]\n",
    "        b = [\"01\", \"02\", \"03\", \"04\", \"05\", \"06\", \"07\", \"08\", \"09\", \"10\", \"11\", \"12\"]\n",
    "        for sa, sb in zip(a,b):\n",
    "            month_d[sa] = sb\n",
    "        # main body of code   \n",
    "        day, month, year = date.split()\n",
    "        day = self.convertDay(day)\n",
    "        month = month_d[month]\n",
    "        return year + '-' + month + '-' + day\n",
    "    def convertDay(self, day):\n",
    "        day = day[:-2]\n",
    "        if len(day) == 1:\n",
    "            day = '0' + day\n",
    "        return day"
   ]
  },
  {
   "cell_type": "markdown",
   "metadata": {},
   "source": [
    "# Reference\n",
    "\n",
    "[1507. Reformat Date](https://leetcode.com/problems/reformat-date/)"
   ]
  }
 ],
 "metadata": {
  "kernelspec": {
   "display_name": "Python 3",
   "language": "python",
   "name": "python3"
  },
  "language_info": {
   "codemirror_mode": {
    "name": "ipython",
    "version": 3
   },
   "file_extension": ".py",
   "mimetype": "text/x-python",
   "name": "python",
   "nbconvert_exporter": "python",
   "pygments_lexer": "ipython3",
   "version": "3.8.5"
  }
 },
 "nbformat": 4,
 "nbformat_minor": 4
}
