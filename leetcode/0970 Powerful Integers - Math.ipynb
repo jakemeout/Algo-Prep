{
 "cells": [
  {
   "cell_type": "code",
   "execution_count": 41,
   "metadata": {},
   "outputs": [],
   "source": [
    "class Solution:\n",
    "    def powerfulIntegers(self, x, y, bound):\n",
    "        # trivial case\n",
    "        if (x == 0) or (y == 0) or (bound == 0): return []\n",
    "              \n",
    "        # general case  \n",
    "        lst_1 = [1] # list of x**0, x**1, ...\n",
    "        lst_2 = [1] # list of y**0, y**1, ...\n",
    "        v = 1\n",
    "        while v <= bound:\n",
    "            if x == 1: break\n",
    "            v*=x\n",
    "            lst_1.append(v) \n",
    "        v = 1\n",
    "        while v <= bound:\n",
    "            if y == 1: break\n",
    "            v*=y\n",
    "            lst_2.append(v)\n",
    "            \n",
    "        a = set() # set of i(=x**n) + j(=y**m)\n",
    "        for i in lst_1:\n",
    "            for j in lst_2:\n",
    "                if i+j >bound:\n",
    "                    break\n",
    "                a.add(i+j)\n",
    "        return list(a)"
   ]
  },
  {
   "cell_type": "code",
   "execution_count": 40,
   "metadata": {},
   "outputs": [
    {
     "data": {
      "text/plain": [
       "[2, 3, 5, 9]"
      ]
     },
     "execution_count": 40,
     "metadata": {},
     "output_type": "execute_result"
    }
   ],
   "source": [
    "x = 2\n",
    "y = 1\n",
    "bound = 10\n",
    "Solution().powerfulIntegers(x, y, bound) # [9,2,3,5] "
   ]
  },
  {
   "cell_type": "code",
   "execution_count": 22,
   "metadata": {},
   "outputs": [
    {
     "data": {
      "text/plain": [
       "[]"
      ]
     },
     "execution_count": 22,
     "metadata": {},
     "output_type": "execute_result"
    }
   ],
   "source": [
    "x = 1\n",
    "y = 1\n",
    "bound = 0\n",
    "Solution().powerfulIntegers(x, y, bound) # []"
   ]
  },
  {
   "cell_type": "code",
   "execution_count": 4,
   "metadata": {},
   "outputs": [
    {
     "data": {
      "text/plain": [
       "[2, 4, 10, 3, 5, 7, 9]"
      ]
     },
     "execution_count": 4,
     "metadata": {},
     "output_type": "execute_result"
    }
   ],
   "source": [
    "x = 2\n",
    "y = 3\n",
    "bound = 10\n",
    "Solution().powerfulIntegers(x, y, bound) # [2,3,4,5,7,9,10]"
   ]
  },
  {
   "cell_type": "code",
   "execution_count": 5,
   "metadata": {},
   "outputs": [
    {
     "data": {
      "text/plain": [
       "[2, 6, 4, 8, 10, 14]"
      ]
     },
     "execution_count": 5,
     "metadata": {},
     "output_type": "execute_result"
    }
   ],
   "source": [
    "x = 3\n",
    "y = 5\n",
    "bound = 15\n",
    "Solution().powerfulIntegers(x, y, bound) # [2,4,6,8,10,14]"
   ]
  },
  {
   "cell_type": "markdown",
   "metadata": {},
   "source": [
    "# Reference\n",
    "\n",
    "[970. Powerful Integers](https://leetcode.com/problems/powerful-integers/)"
   ]
  },
  {
   "cell_type": "code",
   "execution_count": null,
   "metadata": {},
   "outputs": [],
   "source": []
  },
  {
   "cell_type": "code",
   "execution_count": null,
   "metadata": {},
   "outputs": [],
   "source": []
  }
 ],
 "metadata": {
  "kernelspec": {
   "display_name": "Python 3",
   "language": "python",
   "name": "python3"
  },
  "language_info": {
   "codemirror_mode": {
    "name": "ipython",
    "version": 3
   },
   "file_extension": ".py",
   "mimetype": "text/x-python",
   "name": "python",
   "nbconvert_exporter": "python",
   "pygments_lexer": "ipython3",
   "version": "3.8.5"
  }
 },
 "nbformat": 4,
 "nbformat_minor": 4
}
