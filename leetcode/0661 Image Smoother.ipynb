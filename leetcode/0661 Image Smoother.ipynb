{
 "cells": [
  {
   "cell_type": "code",
   "execution_count": null,
   "metadata": {},
   "outputs": [],
   "source": [
    "class Solution:\n",
    "    def imageSmoother(self, img):\n",
    "        import numpy as np\n",
    "        img = np.array(img)\n",
    "        out = img.copy()\n",
    "        m, n = img.shape\n",
    "        for i in range(m):\n",
    "            for j in range(n):\n",
    "                i_left, i_right = max(0,i-1), min(m-1,i+1)\n",
    "                j_left, j_right = max(0,j-1), min(n-1,j+1)\n",
    "                sum_tmp = np.sum(img[i_left:i_right+1,j_left:j_right+1])\n",
    "                num_tmp = (i_right-i_left+1)*(j_right-j_left+1) \n",
    "                out[i,j] = sum_tmp // num_tmp\n",
    "        return out     "
   ]
  },
  {
   "cell_type": "markdown",
   "metadata": {},
   "source": [
    "# Reference\n",
    "\n",
    "[661. Image Smoother](https://leetcode.com/problems/image-smoother/)"
   ]
  }
 ],
 "metadata": {
  "kernelspec": {
   "display_name": "Python 3",
   "language": "python",
   "name": "python3"
  },
  "language_info": {
   "codemirror_mode": {
    "name": "ipython",
    "version": 3
   },
   "file_extension": ".py",
   "mimetype": "text/x-python",
   "name": "python",
   "nbconvert_exporter": "python",
   "pygments_lexer": "ipython3",
   "version": "3.8.5"
  }
 },
 "nbformat": 4,
 "nbformat_minor": 4
}
