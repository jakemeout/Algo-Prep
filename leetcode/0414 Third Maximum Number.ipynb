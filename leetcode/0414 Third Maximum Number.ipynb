{
 "cells": [
  {
   "cell_type": "code",
   "execution_count": null,
   "metadata": {},
   "outputs": [],
   "source": [
    "class Solution:\n",
    "    def thirdMax(self, nums):\n",
    "        # remove redundency\n",
    "        nums = list(set(nums))\n",
    "        # sort\n",
    "        nums.sort(reverse=True)\n",
    "        if len(nums) <= 2: # trivial case that there are only two numbers out there, return max\n",
    "            return nums[0]\n",
    "        else: # general case\n",
    "            return nums[2]"
   ]
  },
  {
   "cell_type": "markdown",
   "metadata": {},
   "source": [
    "# Reference\n",
    "\n",
    "[414. Third Maximum Number](https://leetcode.com/problems/third-maximum-number/)"
   ]
  }
 ],
 "metadata": {
  "kernelspec": {
   "display_name": "Python 3",
   "language": "python",
   "name": "python3"
  },
  "language_info": {
   "codemirror_mode": {
    "name": "ipython",
    "version": 3
   },
   "file_extension": ".py",
   "mimetype": "text/x-python",
   "name": "python",
   "nbconvert_exporter": "python",
   "pygments_lexer": "ipython3",
   "version": "3.8.5"
  }
 },
 "nbformat": 4,
 "nbformat_minor": 4
}
