{
 "cells": [
  {
   "cell_type": "code",
   "execution_count": 11,
   "metadata": {},
   "outputs": [],
   "source": [
    "# Bottom-up approach\n",
    "class Solution:\n",
    "    def divisorGame(self, n: int) -> bool:\n",
    "        d = [False] * (n+1) # d[0] = don't case, d[1] = False, all other d[i]'s are initialized as False\n",
    "        for i in range(2, n+1):\n",
    "            for j in range(1, i//2 + 1):\n",
    "                if i % j == 0 and not d[i-j]: # Alice's move: j, Bob's optimal result: False \n",
    "                    d[i] = True # Alice's optimal result: True \n",
    "                    break\n",
    "        return d[n]"
   ]
  },
  {
   "cell_type": "code",
   "execution_count": 12,
   "metadata": {},
   "outputs": [
    {
     "data": {
      "text/plain": [
       "False"
      ]
     },
     "execution_count": 12,
     "metadata": {},
     "output_type": "execute_result"
    }
   ],
   "source": [
    "n = 43\n",
    "Solution().divisorGame(n)"
   ]
  },
  {
   "cell_type": "markdown",
   "metadata": {},
   "source": [
    "# Reference\n",
    "\n",
    "[1025. Divisor Game](https://leetcode.com/problems/divisor-game/)\n",
    "\n",
    "[[Python3] Bottom-up approach](https://leetcode.com/problems/divisor-game/discuss/1219826/Python3-Bottom-up-approach)"
   ]
  }
 ],
 "metadata": {
  "kernelspec": {
   "display_name": "Python 3",
   "language": "python",
   "name": "python3"
  },
  "language_info": {
   "codemirror_mode": {
    "name": "ipython",
    "version": 3
   },
   "file_extension": ".py",
   "mimetype": "text/x-python",
   "name": "python",
   "nbconvert_exporter": "python",
   "pygments_lexer": "ipython3",
   "version": "3.8.5"
  }
 },
 "nbformat": 4,
 "nbformat_minor": 4
}
