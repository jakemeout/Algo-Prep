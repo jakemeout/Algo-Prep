{
 "cells": [
  {
   "cell_type": "code",
   "execution_count": null,
   "metadata": {},
   "outputs": [],
   "source": [
    "# runtime 3976 ms\n",
    "class Solution:\n",
    "    def replaceElements(self, arr):\n",
    "        out = [-1] * len(arr)\n",
    "        for idx in range(len(arr)-1):\n",
    "            out[idx] = max(arr[idx+1:])\n",
    "        return out"
   ]
  },
  {
   "cell_type": "code",
   "execution_count": null,
   "metadata": {},
   "outputs": [],
   "source": [
    "# runtime 204 ms\n",
    "class Solution:\n",
    "    def replaceElements(self, arr):\n",
    "        # replace every element in arr with the greatest element among the elements to its right, \n",
    "        ans = [-1] * len(arr) # and replace the last element with -1.\n",
    "        idx = len(arr) - 2 # idx - index we have to update \n",
    "        max_so_far = arr[-1]\n",
    "        while idx >= 0:\n",
    "            max_so_far = max(max_so_far, arr[idx+1])\n",
    "            ans[idx] = max_so_far \n",
    "            idx -= 1\n",
    "        return ans"
   ]
  },
  {
   "cell_type": "markdown",
   "metadata": {},
   "source": [
    "# Reference\n",
    "\n",
    "[1299. Replace Elements with Greatest Element on Right Side](https://leetcode.com/problems/replace-elements-with-greatest-element-on-right-side/)\n",
    "\n",
    "[Replace Elements with Greatest Element on Right Side (Leetcode 1299)](https://www.youtube.com/watch?v=GFbyWp_JON8)"
   ]
  }
 ],
 "metadata": {
  "kernelspec": {
   "display_name": "Python 3",
   "language": "python",
   "name": "python3"
  },
  "language_info": {
   "codemirror_mode": {
    "name": "ipython",
    "version": 3
   },
   "file_extension": ".py",
   "mimetype": "text/x-python",
   "name": "python",
   "nbconvert_exporter": "python",
   "pygments_lexer": "ipython3",
   "version": "3.8.5"
  }
 },
 "nbformat": 4,
 "nbformat_minor": 4
}
