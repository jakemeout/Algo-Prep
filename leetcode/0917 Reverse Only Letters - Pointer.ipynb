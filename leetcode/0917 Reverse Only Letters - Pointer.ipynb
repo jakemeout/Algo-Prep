{
 "cells": [
  {
   "cell_type": "code",
   "execution_count": 25,
   "metadata": {},
   "outputs": [],
   "source": [
    "class Solution:\n",
    "    def reverseOnlyLetters(self, s: str) -> str:\n",
    "        lst = list(s) \n",
    "        import string\n",
    "        alphabet = set(string.ascii_lowercase + string.ascii_uppercase)\n",
    "        l, r = 0, len(lst)-1\n",
    "        while l < r:\n",
    "            if lst[l] not in alphabet:\n",
    "                l += 1\n",
    "                continue\n",
    "            if lst[r] not in alphabet:\n",
    "                r -= 1\n",
    "                continue\n",
    "            lst[l], lst[r] = lst[r], lst[l]\n",
    "            l, r = l+1, r-1\n",
    "        return ''.join(lst) "
   ]
  },
  {
   "cell_type": "code",
   "execution_count": 26,
   "metadata": {},
   "outputs": [
    {
     "data": {
      "text/plain": [
       "'7_28]'"
      ]
     },
     "execution_count": 26,
     "metadata": {},
     "output_type": "execute_result"
    }
   ],
   "source": [
    "s = \"7_28]\"\n",
    "Solution().reverseOnlyLetters(s) # \"7_28]\""
   ]
  },
  {
   "cell_type": "markdown",
   "metadata": {},
   "source": [
    "# Reference\n",
    "\n",
    "[917. Reverse Only Letters](https://leetcode.com/problems/reverse-only-letters/)"
   ]
  },
  {
   "cell_type": "code",
   "execution_count": null,
   "metadata": {},
   "outputs": [],
   "source": []
  }
 ],
 "metadata": {
  "kernelspec": {
   "display_name": "Python 3",
   "language": "python",
   "name": "python3"
  },
  "language_info": {
   "codemirror_mode": {
    "name": "ipython",
    "version": 3
   },
   "file_extension": ".py",
   "mimetype": "text/x-python",
   "name": "python",
   "nbconvert_exporter": "python",
   "pygments_lexer": "ipython3",
   "version": "3.8.5"
  }
 },
 "nbformat": 4,
 "nbformat_minor": 4
}
