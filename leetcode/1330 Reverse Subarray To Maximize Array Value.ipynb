{
 "cells": [
  {
   "cell_type": "code",
   "execution_count": null,
   "metadata": {},
   "outputs": [],
   "source": [
    "# TLE Brute-force\n",
    "class Solution:\n",
    "    def maxValueAfterReverse(self, nums: List[int]) -> int:\n",
    "        n = len(nums)\n",
    "        \n",
    "        ans = 0\n",
    "        for n0, n1 in zip(nums[:-1],nums[1:]):\n",
    "            ans += abs(n0-n1)\n",
    "            \n",
    "        i, j = 0, n - 1\n",
    "        gap_max = 0\n",
    "        for i in range(n-1):\n",
    "            for j in range(i+1,n):\n",
    "                gap = 0\n",
    "                if i-1 >= 0:\n",
    "                    gap += abs(nums[j]-nums[i-1]) - abs(nums[i]-nums[i-1])\n",
    "                if j+1 < n:\n",
    "                    gap += abs(nums[i]-nums[j+1]) - abs(nums[j]-nums[j+1])\n",
    "                gap_max = max(gap_max, gap)\n",
    "                \n",
    "        return ans + gap_max"
   ]
  },
  {
   "cell_type": "code",
   "execution_count": 15,
   "metadata": {},
   "outputs": [],
   "source": [
    "class Solution:\n",
    "    def maxValueAfterReverse(self, nums):\n",
    "        \"\"\"\n",
    "        :type nums: List[int]\n",
    "        :rtype: int\n",
    "        \"\"\"\n",
    "        n = len(nums)\n",
    "        if n <= 1:\n",
    "            return 0\n",
    "\n",
    "        total = 0    \n",
    "        maxX = float('inf') # min of max(nums[i],nums[i+1]), i=0,1,2,...\n",
    "        minX = -float('inf') # max of min(nums[i],nums[i+1]), i=0,1,2,...\n",
    "        boundary = 0 # max advantage of flipping [0,i] or [i,-1]\n",
    "        for i in range(1,n):\n",
    "            total += abs(nums[i]-nums[i-1])\n",
    "            maxX = min(maxX, max(nums[i],nums[i-1]))\n",
    "            minX = max(minX, min(nums[i],nums[i-1]))\n",
    "            boundary = max(\n",
    "                boundary, \n",
    "                abs(nums[i]-nums[0])-abs(nums[i]-nums[i-1]),\n",
    "                abs(nums[i-1]-nums[-1])-abs(nums[i]-nums[i-1])\n",
    "            )\n",
    "             \n",
    "        return max(total + 2*(minX - maxX), total + boundary) "
   ]
  },
  {
   "cell_type": "code",
   "execution_count": 16,
   "metadata": {},
   "outputs": [
    {
     "data": {
      "text/plain": [
       "11"
      ]
     },
     "execution_count": 16,
     "metadata": {},
     "output_type": "execute_result"
    }
   ],
   "source": [
    "nums = [2,5,1,3,4]\n",
    "Solution().maxValueAfterReverse(nums) # 11"
   ]
  },
  {
   "cell_type": "markdown",
   "metadata": {},
   "source": [
    "# Reference\n",
    "\n",
    "[1330. Reverse Subarray To Maximize Array Value](https://leetcode.com/problems/reverse-subarray-to-maximize-array-value/)\n",
    "\n",
    "[[LeetCode] 1330. Reverse Subarray To Maximize Array Value (Hard)](https://www.youtube.com/watch?v=8Au3xuwHfTM&list=PL-OC--HdIAXPzvuBbuI4e_MFYpzFnA6yR&index=29)"
   ]
  }
 ],
 "metadata": {
  "kernelspec": {
   "display_name": "Python 3",
   "language": "python",
   "name": "python3"
  },
  "language_info": {
   "codemirror_mode": {
    "name": "ipython",
    "version": 3
   },
   "file_extension": ".py",
   "mimetype": "text/x-python",
   "name": "python",
   "nbconvert_exporter": "python",
   "pygments_lexer": "ipython3",
   "version": "3.8.5"
  }
 },
 "nbformat": 4,
 "nbformat_minor": 4
}
