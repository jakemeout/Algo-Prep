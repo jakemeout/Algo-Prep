{
 "cells": [
  {
   "cell_type": "code",
   "execution_count": null,
   "metadata": {},
   "outputs": [],
   "source": [
    "class Solution:\n",
    "    def firstUniqChar(self, s: str) -> int:\n",
    "        # construct char count dict d for string s\n",
    "        d = {}\n",
    "        for char in s:\n",
    "            if char in d: \n",
    "                d[char] += 1\n",
    "            else:\n",
    "                d[char] = 1\n",
    "        # find first unique character in a string s and return its index (else return -1)\n",
    "        for idx, char in enumerate(s):\n",
    "            if d[char] == 1:\n",
    "                return idx\n",
    "        return -1"
   ]
  },
  {
   "cell_type": "markdown",
   "metadata": {},
   "source": [
    "# Reference\n",
    "\n",
    "[387. First Unique Character in a String](https://leetcode.com/problems/first-unique-character-in-a-string/)"
   ]
  }
 ],
 "metadata": {
  "kernelspec": {
   "display_name": "Python 3",
   "language": "python",
   "name": "python3"
  },
  "language_info": {
   "codemirror_mode": {
    "name": "ipython",
    "version": 3
   },
   "file_extension": ".py",
   "mimetype": "text/x-python",
   "name": "python",
   "nbconvert_exporter": "python",
   "pygments_lexer": "ipython3",
   "version": "3.8.5"
  }
 },
 "nbformat": 4,
 "nbformat_minor": 4
}
