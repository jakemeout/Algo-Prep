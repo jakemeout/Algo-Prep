{
 "cells": [
  {
   "cell_type": "code",
   "execution_count": null,
   "metadata": {},
   "outputs": [],
   "source": [
    "class TreeNode:\n",
    "    def __init__(self, val=0, left=None, right=None):\n",
    "        self.val = val\n",
    "        self.left = left\n",
    "        self.right = right"
   ]
  },
  {
   "cell_type": "markdown",
   "metadata": {},
   "source": [
    "The diameter of the binary tree is defined as the length (number of edges) of the longest path between any two nodes in the tree.\n",
    "\n",
    "<div align=\"center\"><img src=\"https://i1.wp.com/studyalgorithms.com/wp-content/uploads/2020/06/Annotation-2020-06-27-032740.png?resize=768%2C486&ssl=1\" width=\"70%\"></div>\n",
    "\n",
    "[Diameter of a Binary Tree](https://studyalgorithms.com/tree/diameter-of-a-binary-tree/)"
   ]
  },
  {
   "cell_type": "code",
   "execution_count": null,
   "metadata": {},
   "outputs": [],
   "source": [
    "class Solution:\n",
    "    \n",
    "    def diameterOfBinaryTree(self, root):\n",
    "        \"\"\"\n",
    "        :type root: TreeNode\n",
    "        :rtype: int\n",
    "        \n",
    "        diameter is the lenght (number of edges) of longest path from one node to another node\n",
    "        \"\"\"\n",
    "        self.diameter = 0\n",
    "        self.depth(root)\n",
    "        return self.diameter\n",
    "    \n",
    "    def depth(self, node):\n",
    "        \"\"\"\n",
    "        :type node: TreeNode\n",
    "        :rtype: int\n",
    "        \n",
    "        depth is the number of nodes of longest path from node to leaves\n",
    "        \"\"\"\n",
    "        if not node: # if node is None, \n",
    "            return 0 # depth is 0\n",
    "        else:\n",
    "            left = self.depth(node.left)\n",
    "            right = self.depth(node.right)\n",
    "            \n",
    "            # diameter is the lenght (number of edges) of longest path from one node to another node\n",
    "            # so path of interest is of the form\n",
    "            #      left_deepest - node.left - node - node.right - right_deepest \n",
    "            #\n",
    "            # if the lenth of path left_deepest-node.left-node-node.right-right_deepest is \n",
    "            # larger than the current record self.diameter\n",
    "            # update self.diameter\n",
    "            self.diameter = max(self.diameter, left + right)\n",
    "                \n",
    "            return 1 + max(left, right)"
   ]
  },
  {
   "cell_type": "markdown",
   "metadata": {},
   "source": [
    "# Reference\n",
    "\n",
    "[543. Diameter of Binary Tree](https://leetcode.com/problems/diameter-of-binary-tree/)\n",
    "\n",
    "[Python simple preorder recursion](https://leetcode.com/problems/diameter-of-binary-tree/discuss/1208764/Python-simple-preorder-recursion)\n",
    "\n",
    "[LeetCode 30 day Challenge | Day 11 | Diameter of Binary Tree | (11 April 2020) | LeetCode 543](https://www.youtube.com/watch?v=mWyhPJ1Ukvw&list=PL1w8k37X_6L-E23tn3d6oXLW63pS8-5rm&index=11)\n",
    "\n",
    "[Diameter of a Binary Tree](https://studyalgorithms.com/tree/diameter-of-a-binary-tree/)"
   ]
  },
  {
   "cell_type": "code",
   "execution_count": null,
   "metadata": {},
   "outputs": [],
   "source": []
  }
 ],
 "metadata": {
  "kernelspec": {
   "display_name": "Python 3",
   "language": "python",
   "name": "python3"
  },
  "language_info": {
   "codemirror_mode": {
    "name": "ipython",
    "version": 3
   },
   "file_extension": ".py",
   "mimetype": "text/x-python",
   "name": "python",
   "nbconvert_exporter": "python",
   "pygments_lexer": "ipython3",
   "version": "3.8.5"
  }
 },
 "nbformat": 4,
 "nbformat_minor": 4
}
