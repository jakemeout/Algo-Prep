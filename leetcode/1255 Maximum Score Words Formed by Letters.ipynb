{
 "cells": [
  {
   "cell_type": "code",
   "execution_count": 9,
   "metadata": {},
   "outputs": [],
   "source": [
    "from collections import Counter\n",
    "class Solution():\n",
    "    def maxScoreWords(self, words, letters, score):\n",
    "        \"\"\"\n",
    "        :type words: List[str]\n",
    "        :type letters: List[str]\n",
    "        :type score: List[int]\n",
    "        :rtype: int\n",
    "        \"\"\"\n",
    "        self.max_score = 0\n",
    "        self.words_score = [sum(score[ord(c)-ord('a')] for c in word) for word in words]\n",
    "        self.words_counter = [Counter(word) for word in words]\n",
    "        self.dfs(0, 0, Counter(letters))\n",
    "        return self.max_score\n",
    "    def dfs(self, i, cur_score, counter):\n",
    "        if cur_score + sum(self.words_score[i:]) <= self.max_score:\n",
    "            return\n",
    "        self.max_score = max(self.max_score, cur_score)\n",
    "        for j, wc in enumerate(self.words_counter[i:], i):\n",
    "            if all(c <= counter.get(w,0) for w,c in wc.items()):\n",
    "                self.dfs(j+1, cur_score+self.words_score[j], counter-wc)"
   ]
  },
  {
   "cell_type": "markdown",
   "metadata": {},
   "source": [
    "# Reference\n",
    "\n",
    "[1255. Maximum Score Words Formed by Letters](https://leetcode.com/problems/maximum-score-words-formed-by-letters/)\n",
    "\n",
    "[Python DFS Pruning](https://leetcode.com/problems/maximum-score-words-formed-by-letters/discuss/425411/Python-DFS-Pruning)\n",
    "\n",
    "[LeetCode 1255. Maximum Score Words Formed by Letters](https://www.youtube.com/watch?v=qIN-c5brHoQ)"
   ]
  }
 ],
 "metadata": {
  "kernelspec": {
   "display_name": "Python 3",
   "language": "python",
   "name": "python3"
  },
  "language_info": {
   "codemirror_mode": {
    "name": "ipython",
    "version": 3
   },
   "file_extension": ".py",
   "mimetype": "text/x-python",
   "name": "python",
   "nbconvert_exporter": "python",
   "pygments_lexer": "ipython3",
   "version": "3.8.5"
  }
 },
 "nbformat": 4,
 "nbformat_minor": 4
}
