{
 "cells": [
  {
   "cell_type": "code",
   "execution_count": null,
   "metadata": {},
   "outputs": [],
   "source": [
    "class Solution:\n",
    "    def maxAreaOfIsland(self, grid):\n",
    "        max_so_far = 0\n",
    "        self.g = grid\n",
    "        m, n = len(grid), len(grid[0])\n",
    "        for i in range(m):\n",
    "            for j in range(n):\n",
    "                self.cur = 0\n",
    "                if self.g[i][j] == 1:\n",
    "                    self.cur = 1\n",
    "                    self.g[i][j] = 0 # flag of visit\n",
    "                    self.stack = [[i,j]]\n",
    "                    while self.stack:\n",
    "                        i0, j0 = self.stack.pop()\n",
    "                        # check north\n",
    "                        if j0-1 >= 0:\n",
    "                            self.update(i0,j0-1)\n",
    "                        # check east\n",
    "                        if i0+1 < m:\n",
    "                            self.update(i0+1,j0)\n",
    "                        # check west \n",
    "                        if i0-1 >= 0:\n",
    "                            self.update(i0-1,j0)\n",
    "                        # check south\n",
    "                        if j0+1 < n:\n",
    "                            self.update(i0,j0+1)\n",
    "                max_so_far = max(max_so_far, self.cur)\n",
    "                #print(i,j,self.cur,max_so_far)\n",
    "        return max_so_far \n",
    "    def update(self, i0, j0):\n",
    "        if self.g[i0][j0] == 1:\n",
    "            self.cur += 1\n",
    "            self.g[i0][j0] = 0 # flag of visit\n",
    "            self.stack.append([i0,j0])"
   ]
  },
  {
   "cell_type": "code",
   "execution_count": 17,
   "metadata": {},
   "outputs": [
    {
     "data": {
      "text/plain": [
       "6"
      ]
     },
     "execution_count": 17,
     "metadata": {},
     "output_type": "execute_result"
    }
   ],
   "source": [
    "grid = [[0,0,1,0,0,0,0,1,0,0,0,0,0],\n",
    "        [0,0,0,0,0,0,0,1,1,1,0,0,0],\n",
    "        [0,1,1,0,1,0,0,0,0,0,0,0,0],\n",
    "        [0,1,0,0,1,1,0,0,1,0,1,0,0],\n",
    "        [0,1,0,0,1,1,0,0,1,1,1,0,0],\n",
    "        [0,0,0,0,0,0,0,0,0,0,1,0,0],\n",
    "        [0,0,0,0,0,0,0,1,1,1,0,0,0],\n",
    "        [0,0,0,0,0,0,0,1,1,0,0,0,0]]\n",
    "Solution().maxAreaOfIsland(grid) # 6"
   ]
  },
  {
   "cell_type": "markdown",
   "metadata": {},
   "source": [
    "# Reference\n",
    "\n",
    "[695. Max Area of Island](https://leetcode.com/problems/max-area-of-island/)\n",
    "\n",
    "[695. Max Area of Island | Coding Interview Problem | Leetcode | City Coder](https://www.youtube.com/watch?v=kPWLiTUeWig)\n",
    "\n",
    "[Max Area of Island | LeetCode 695 | C++, Python](https://www.youtube.com/watch?v=_wLMk_Qbl08)"
   ]
  },
  {
   "cell_type": "code",
   "execution_count": null,
   "metadata": {},
   "outputs": [],
   "source": []
  }
 ],
 "metadata": {
  "kernelspec": {
   "display_name": "Python 3",
   "language": "python",
   "name": "python3"
  },
  "language_info": {
   "codemirror_mode": {
    "name": "ipython",
    "version": 3
   },
   "file_extension": ".py",
   "mimetype": "text/x-python",
   "name": "python",
   "nbconvert_exporter": "python",
   "pygments_lexer": "ipython3",
   "version": "3.8.5"
  }
 },
 "nbformat": 4,
 "nbformat_minor": 4
}
