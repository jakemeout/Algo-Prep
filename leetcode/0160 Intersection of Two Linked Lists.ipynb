{
 "cells": [
  {
   "cell_type": "code",
   "execution_count": null,
   "metadata": {},
   "outputs": [],
   "source": [
    "# Definition for singly-linked list.\n",
    "class ListNode:\n",
    "    def __init__(self, x):\n",
    "        self.val = x\n",
    "        self.next = None"
   ]
  },
  {
   "cell_type": "code",
   "execution_count": null,
   "metadata": {},
   "outputs": [],
   "source": [
    "# Time Limit Exceeded\n",
    "class Solution:\n",
    "    def getIntersectionNode(self, headA: ListNode, headB: ListNode) -> ListNode:\n",
    "        lstA = []\n",
    "        cur = headA\n",
    "        while cur:\n",
    "            lstA.append(cur)\n",
    "            cur = cur.next\n",
    "        \n",
    "        cur = headB\n",
    "        while cur:\n",
    "            if cur in lstA:\n",
    "                return cur\n",
    "        return None"
   ]
  },
  {
   "cell_type": "code",
   "execution_count": null,
   "metadata": {},
   "outputs": [],
   "source": [
    "class Solution:\n",
    "    def getIntersectionNode(self, headA: ListNode, headB: ListNode) -> ListNode:\n",
    "        if headA is None or headB is None:\n",
    "            return None\n",
    "        cur1 = headA # this will traverse A and then B path\n",
    "        cur2 = headB # this will traverse B and then A path\n",
    "        n_flag = 0 # count the number of phase transition of path traversal\n",
    "        while n_flag < 4:\n",
    "            if cur1 == cur2:\n",
    "                return cur1\n",
    "            cur1, cur2 = cur1.next, cur2.next\n",
    "            if cur1 is None:\n",
    "                n_flag += 1\n",
    "                cur1 = headB\n",
    "            if cur2 is None:\n",
    "                n_flag += 1\n",
    "                cur2 = headA\n",
    "        return None"
   ]
  },
  {
   "cell_type": "markdown",
   "metadata": {},
   "source": [
    "# Reference\n",
    "\n",
    "[160. Intersection of Two Linked Lists](https://leetcode.com/problems/intersection-of-two-linked-lists/)\n",
    "\n",
    "[LeetCode 160. Intersection of Two Linked Lists Solution Explained - Java](https://www.youtube.com/watch?v=IpBfg9d4dmQ)"
   ]
  }
 ],
 "metadata": {
  "kernelspec": {
   "display_name": "Python 3",
   "language": "python",
   "name": "python3"
  },
  "language_info": {
   "codemirror_mode": {
    "name": "ipython",
    "version": 3
   },
   "file_extension": ".py",
   "mimetype": "text/x-python",
   "name": "python",
   "nbconvert_exporter": "python",
   "pygments_lexer": "ipython3",
   "version": "3.8.5"
  }
 },
 "nbformat": 4,
 "nbformat_minor": 4
}
