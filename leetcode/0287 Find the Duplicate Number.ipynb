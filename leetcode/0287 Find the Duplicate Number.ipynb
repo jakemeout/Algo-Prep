{
 "cells": [
  {
   "cell_type": "code",
   "execution_count": null,
   "id": "concrete-shareware",
   "metadata": {},
   "outputs": [],
   "source": [
    "class Solution:\n",
    "    def findDuplicate(self, nums: List[int]) -> int:\n",
    "        s = nums[0]\n",
    "        f = nums[nums[0]]\n",
    "        while s != f:\n",
    "            s = nums[s]\n",
    "            f = nums[nums[f]]\n",
    "            \n",
    "        s2 = 0\n",
    "        while s != s2:\n",
    "            s = nums[s]\n",
    "            s2 = nums[s2]\n",
    "        return s"
   ]
  },
  {
   "cell_type": "markdown",
   "id": "ongoing-quarter",
   "metadata": {},
   "source": [
    "# Reference\n",
    "\n",
    "[287. Find the Duplicate Number](https://leetcode.com/problems/find-the-duplicate-number/)\n",
    "\n",
    "[Find the Duplicate Number - Floyd's Cycle Detection - Leetcode 287 - Python](https://www.youtube.com/watch?v=wjYnzkAhcNk)"
   ]
  }
 ],
 "metadata": {
  "kernelspec": {
   "display_name": "Python 3",
   "language": "python",
   "name": "python3"
  },
  "language_info": {
   "codemirror_mode": {
    "name": "ipython",
    "version": 3
   },
   "file_extension": ".py",
   "mimetype": "text/x-python",
   "name": "python",
   "nbconvert_exporter": "python",
   "pygments_lexer": "ipython3",
   "version": "3.7.10"
  }
 },
 "nbformat": 4,
 "nbformat_minor": 5
}
